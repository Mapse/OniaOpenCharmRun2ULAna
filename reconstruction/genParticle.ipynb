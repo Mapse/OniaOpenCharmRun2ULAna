{
 "cells": [
  {
   "cell_type": "code",
   "execution_count": 1,
   "id": "c43a9848-7ec4-4142-a944-7ed3e81ccfa7",
   "metadata": {
    "tags": []
   },
   "outputs": [],
   "source": [
    "import time\n",
    "import os\n",
    "import numba\n",
    "\n",
    "from coffea.nanoevents import BaseSchema\n",
    " \n",
    "import awkward as ak\n",
    "import numpy as np\n",
    "from coffea import processor, hist\n",
    "\n",
    "from coffea.nanoevents.methods import candidate\n",
    "ak.behavior.update(candidate.behavior)\n",
    "\n",
    "import mplhep\n",
    "import matplotlib.pyplot as plt\n",
    "plt.style.use(mplhep.style.CMS)"
   ]
  },
  {
   "cell_type": "code",
   "execution_count": 2,
   "id": "966d729b-c657-4a54-b18f-d1f323d55195",
   "metadata": {
    "tags": []
   },
   "outputs": [],
   "source": [
    "muon_cols = ['Muon_charge', 'Muon_dxy', 'Muon_dxyErr', 'Muon_dz', 'Muon_dzErr', 'Muon_eta', 'Muon_isGlobal', 'Muon_mass',\n",
    "             'Muon_phi', 'Muon_pt', 'Muon_ptErr', 'Muon_softId', 'Muon_vtxIdx', 'Muon_vtxFlag', 'Muon_simIdx']\n",
    "\n",
    "dimu_cols = ['Dimu_pt', 'Dimu_eta', 'Dimu_phi', 'Dimu_rap', 'Dimu_mass', 'Dimu_charge', 'Dimu_vtxIdx', 'Dimu_chi2', 'Dimu_dl',\n",
    "             'Dimu_dlErr', 'Dimu_dlSig', 'Dimu_cosphi', 'Dimu_x', 'Dimu_y', 'Dimu_z', 'Dimu_t1muIdx', 'Dimu_t2muIdx',]\n",
    "\n",
    "d0_cols = ['D0_pt', 'D0_eta', 'D0_phi', 'D0_rap', 'D0_mass12', 'D0_mass21', 'D0_vtxIdx', 'D0_chi2', 'D0_dl', 'D0_dlErr', 'D0_dlSig',\n",
    "           'D0_cosphi', 'D0_x', 'D0_y', 'D0_z', 'D0_hasMuon',\n",
    "           'D0_t1pt', 'D0_t1eta', 'D0_t1phi', 'D0_t1chindof', 'D0_t1nValid', 'D0_t1nPix', 'D0_t1dxy', 'D0_t1dz', 'D0_t1chg', \n",
    "           'D0_t2pt', 'D0_t2eta', 'D0_t2phi', 'D0_t2chindof', 'D0_t2nValid', 'D0_t2nPix', 'D0_t2dxy', 'D0_t2dz', 'D0_t2chg',]\n",
    "\n",
    "dstar_cols = ['Dstar_pt', 'Dstar_eta', 'Dstar_phi', 'Dstar_rap', 'Dstar_deltam', 'Dstar_deltamr', 'Dstar_vtxIdx', 'Dstar_hasMuon',\n",
    "              'Dstar_D0pt', 'Dstar_D0eta', 'Dstar_D0phi', 'Dstar_D0mass', 'Dstar_D0chi2', 'Dstar_D0dl', 'Dstar_D0dlErr',\n",
    "              'Dstar_D0dlSig', 'Dstar_D0cosphi', 'Dstar_D0x', 'Dstar_D0y', 'Dstar_D0z',\n",
    "              'Dstar_Kpt', 'Dstar_Keta', 'Dstar_Kphi', 'Dstar_KvtxIdx', 'Dstar_Kchindof', 'Dstar_KnValid', 'Dstar_KnPix', 'Dstar_Kdxy',\n",
    "              'Dstar_Kdz', 'Dstar_Kchg',\n",
    "              'Dstar_pipt', 'Dstar_pieta', 'Dstar_piphi', 'Dstar_pivtxIdx', 'Dstar_pichindof', 'Dstar_pinValid', 'Dstar_pinPix',\n",
    "              'Dstar_pidxy', 'Dstar_pidz', 'Dstar_pichg',\n",
    "              'Dstar_pispt', 'Dstar_piseta', 'Dstar_pisphi', 'Dstar_pisvtxIdx', 'Dstar_pischindof', 'Dstar_pisnValid', 'Dstar_pisnPix',\n",
    "              'Dstar_pisdxy', 'Dstar_pisdz', 'Dstar_simIdx', 'Dstar_D0simIdx']\n",
    "\n",
    "gen_part_cols = ['GenPart_eta', 'GenPart_genPartIdxMother', 'GenPart_mass', 'GenPart_pdgId', \"GenPart_phi\", \"GenPart_pt\", 'GenPart_status',\n",
    "                'GenPart_Id', 'GenPart_parpdgId', 'GenPart_sparpdgId', 'GenPart_numberOfDaughters', 'GenPart_nstchgdaug', 'GenPart_vx', \n",
    "                'GenPart_vy', 'GenPart_vz', 'GenPart_mvx', 'GenPart_mvy', 'GenPart_mvz', 'GenPart_recIdx']\n",
    "\n",
    "D0_PDG_MASS = 1.864\n",
    "\n",
    "def get_vars_dict(events, col_list):\n",
    "    dict = {}\n",
    "    col = ''\n",
    "    for c in col_list:\n",
    "        if c.startswith('Muon'):\n",
    "            col = c[5:]\n",
    "        elif c.startswith('Dimu'):\n",
    "            col = c[4:]\n",
    "            if col.startswith('_'): col = col[1:]\n",
    "        elif c.startswith('D0'):\n",
    "            col = c[2:]\n",
    "            if col.startswith('_'): col = col[1:]\n",
    "        elif c.startswith('Dstar'):\n",
    "            col = c[5:]\n",
    "            if col.startswith('_'): col = col[1:]\n",
    "        elif c.startswith('PVtx'):\n",
    "            col = c[5:]\n",
    "        elif c.startswith(\"GenPart\"):\n",
    "            col = c[8:]\n",
    "        else:\n",
    "            Exception('Not good!')\n",
    "\n",
    "        if col == 'x' or col == 'y' or col == 'z':\n",
    "            col = 'vtx_' + col\n",
    "\n",
    "        if len(events[c]) == 0:\n",
    "            dict[col] = np.array([])\n",
    "        else:\n",
    "            dict[col] = events[c]\n",
    "    return dict"
   ]
  },
  {
   "cell_type": "code",
   "execution_count": 3,
   "id": "4afc3f1b-5871-46e4-ac51-30e2cc47f166",
   "metadata": {
    "tags": []
   },
   "outputs": [],
   "source": [
    "import re\n",
    "\n",
    "files = []\n",
    "with os.scandir(\"/eos/user/m/mabarros/Monte_Carlo/2017/0000\") as it:\n",
    "    for file in it:\n",
    "        if file.name.endswith('.root') and (file.stat().st_size != 0):\n",
    "            files.append(file.path)\n",
    "\n",
    "def atoi(text):\n",
    "    return int(text) if text.isdigit() else text\n",
    "\n",
    "def natural_keys(text):\n",
    "    '''\n",
    "    alist.sort(key=natural_keys) sorts in human order\n",
    "    http://nedbatchelder.com/blog/200712/human_sorting.html\n",
    "    (See Toothy's implementation in the comments)\n",
    "    '''\n",
    "    return [ atoi(c) for c in re.split(r'(\\d+)', text) ]\n",
    "            \n",
    "files.sort(key=natural_keys)"
   ]
  },
  {
   "cell_type": "code",
   "execution_count": 4,
   "id": "d48a4a44-ba53-4a1b-8896-55ad06f7b8e7",
   "metadata": {
    "tags": []
   },
   "outputs": [],
   "source": [
    "def ratio_plot(hist_reco, hist_mc):\n",
    "    fill_opts = {\n",
    "    'edgecolor': (0,0,0,0.3),\n",
    "    'alpha': 0.8\n",
    "    }\n",
    "    error_opts_1 = {\n",
    "        'facecolor': 'none',\n",
    "        'edgecolor': (0,0,0,.5),\n",
    "        'linewidth': 0\n",
    "    }\n",
    "    data_err_opts = {\n",
    "        'linestyle': 'none',\n",
    "        'marker': '.',\n",
    "        'markersize': 10.,\n",
    "        'color': 'k',\n",
    "        'elinewidth': 1,\n",
    "    }\n",
    "    \n",
    "    error_opts_2 = {\n",
    "        'facecolor': 'none',\n",
    "        'linewidth': 0,\n",
    "    }\n",
    "    \n",
    "    fig, (ax, rax) = plt.subplots(\n",
    "    nrows=2,\n",
    "    ncols=1,\n",
    "    figsize=(10,10),\n",
    "    gridspec_kw={\"height_ratios\": (3, 1)},\n",
    "    sharex=True\n",
    "    )\n",
    "    fig.subplots_adjust(hspace=.07)\n",
    "    \n",
    "    # plot the MC first\n",
    "    hist.plot1d(\n",
    "        hist_mc,\n",
    "        ax=ax,\n",
    "        clear=False,\n",
    "        stack=False,\n",
    "        line_opts=None,\n",
    "        fill_opts=fill_opts,\n",
    "        error_opts=error_opts_1\n",
    "    )\n",
    "    hist.plot1d(\n",
    "        hist_reco,\n",
    "        ax=ax,\n",
    "        clear=False,\n",
    "        stack=False,\n",
    "        line_opts=None,\n",
    "        fill_opts=fill_opts,\n",
    "        error_opts=error_opts_2\n",
    "    )\n",
    "    \n",
    "    ax.autoscale(axis='x', tight=True)\n",
    "    ax.set_xlabel(\"\")\n",
    "    leg = ax.legend()\n",
    "    \n",
    "    hist.plotratio(\n",
    "    num=hist_reco,\n",
    "    denom=hist_mc,\n",
    "    ax=rax,\n",
    "    error_opts=data_err_opts,\n",
    "    denom_fill_opts={},\n",
    "    guide_opts={},\n",
    "    unc='num'\n",
    "    )\n",
    "    rax.set_ylabel('Ratio')\n",
    "    rax.set_ylim(0,2)\n",
    "    \n",
    "    return ax, rax"
   ]
  },
  {
   "cell_type": "code",
   "execution_count": 5,
   "id": "16dd3ecd-f68a-4bb7-b9d2-e0e49b974fdf",
   "metadata": {
    "tags": []
   },
   "outputs": [],
   "source": [
    "def create_plot1d(hist1d, log=False, density=False, ax=None):\n",
    "    from matplotlib.offsetbox import AnchoredOffsetbox, TextArea\n",
    "    plt.style.use(mplhep.style.CMS)\n",
    "    plt.rcParams.update({\n",
    "        'font.size': 16,\n",
    "        'axes.titlesize': 18,\n",
    "        'axes.labelsize': 18,\n",
    "        'xtick.labelsize': 14,\n",
    "        'ytick.labelsize': 14\n",
    "    })\n",
    "    fill_opts = {\n",
    "    'alpha': 0.8,\n",
    "    'edgecolor':(0,0,0,.5)\n",
    "    }\n",
    "    \n",
    "    ax = hist.plot1d(hist1d, ax=ax, fill_opts=fill_opts, density=density)\n",
    "    \n",
    "    if log:\n",
    "        ax.set_yscale('log')\n",
    "        ax.set_ylim(1, None)\n",
    "    else:\n",
    "        ax.ticklabel_format(axis='y', style='sci', scilimits=(0,3), useMathText=True)\n",
    "    \n",
    "    axis = hist1d.axes()[0]\n",
    "    centers = axis.centers()\n",
    "    values = np.where(hist1d.values().get(()) < 0, 0, hist1d.values().get(()))\n",
    "    \n",
    "    # compute mean and std:\n",
    "    mean = np.sum(values*centers)/np.sum(values)\n",
    "    std = np.sqrt(np.sum(values*((centers - mean)**2))/np.sum(values))\n",
    "    \n",
    "    annotation = TextArea(f\"Total: {np.sum(values):.2e}\" \\\n",
    "                    + \"\\n\" + f\"Mean: {mean:.2e}\" \\\n",
    "                    + \"\\n\" + f\"Std: {std:.2e}\", textprops=dict(size=14))\n",
    "    \n",
    "    at = AnchoredOffsetbox('upper right', child=annotation)\n",
    "    at.patch.set_facecolor('None')\n",
    "    #ax.add_artist(at)\n",
    "    \n",
    "    ax.legend().remove()\n",
    "    \n",
    "    return ax"
   ]
  },
  {
   "cell_type": "code",
   "execution_count": 6,
   "id": "5c46ecf3-4a66-4c9b-a386-e738adb18ef4",
   "metadata": {
    "tags": []
   },
   "outputs": [],
   "source": [
    "def dimu_match(muon, dimu, genpart):\n",
    "    \n",
    "    # Filter genparticles for muon with jpsi as mother or jpsi\n",
    "    genpart = genpart[((np.absolute(genpart.pdgId) == 13) & (genpart.parpdgId == 443)) | (genpart.pdgId == 443)]\n",
    "    \n",
    "    ## Gen muon cuts\n",
    "    \n",
    "    # pT cut\n",
    "    gen_muon_pt_cut = (np.absolute(genpart.pdgId) == 13) & (genpart.parpdgId == 443) & (genpart.pt < 3)        \n",
    "    genpart = genpart[~gen_muon_pt_cut]\n",
    "    # eta cut\n",
    "    gen_muon_eta_cut = (np.absolute(genpart.pdgId) == 13) & (genpart.parpdgId == 443) & (np.absolute(genpart.eta >= 2.4))        \n",
    "    genpart = genpart[~gen_muon_eta_cut]\n",
    "    \n",
    "    # Cut events which always contains two muons and a jpsi\n",
    "    jpsi_mumu_cut = ak.num(genpart) == 3\n",
    "    genpart = genpart[jpsi_mumu_cut]\n",
    "    muon = muon[jpsi_mumu_cut]\n",
    "    dimu = dimu[jpsi_mumu_cut]\n",
    "    \n",
    "    ##### To control variables\n",
    "    '''for i0 in range(len(genpart)):\n",
    "        if len(genpart[i0]) == 0: continue\n",
    "        print(f\"Event: {i0}\")\n",
    "        for i1 in range(len(genpart[i0])):\n",
    "            print(f\"ID, pT, eta, phi: ({genpart[i0][i1].pdgId}, {genpart[i0][i1].pt:.2f}, {genpart[i0][i1].eta:.2f}, {genpart[i0][i1].phi:.2f})\")'''\n",
    "    \n",
    "    # Get the gendimuon id\n",
    "    gen_idx = get_gendimu_id(muon, genpart, ak.ArrayBuilder()).snapshot()\n",
    "    \n",
    "    valid_idx = (gen_idx.muon0 > -1) & (gen_idx.muon1 > -1) & (gen_idx.dimu > -1)\n",
    "    gen_idx = gen_idx[valid_idx]\n",
    "    dimu = dimu[valid_idx]\n",
    "    muon = muon[valid_idx]\n",
    "    \n",
    "    dimu_gen = ak.zip({'0': dimu, '1': genpart[gen_idx.dimu]})\n",
    "    muon0_gen = ak.zip({'0': muon.slot0, '1': genpart[gen_idx.muon0]})\n",
    "    muon1_gen = ak.zip({'0': muon.slot1, '1': genpart[gen_idx.muon1]})\n",
    "    \n",
    "    return dimu_gen, muon0_gen, muon1_gen\n",
    "\n",
    "@numba.njit\n",
    "def get_gendimu_id(muon, genpart, builder):\n",
    "    for i0 in range(len(muon['0'])):\n",
    "        builder.begin_list()\n",
    "        for i1 in range(len(muon['0'][i0])):\n",
    "            index0 = index1 = -1\n",
    "            for i2 in range(len(genpart[i0])):\n",
    "                if genpart[i0][i2].Id == muon['0'][i0][i1].simIdx: index0 = i2\n",
    "                if genpart[i0][i2].Id == muon['1'][i0][i1].simIdx: index1 = i2\n",
    "            if ((index0 > -1) and (index1 > -1) and (genpart[i0][index0].genPartIdxMother == genpart[i0][index1].genPartIdxMother)):\n",
    "                index_gen = -1\n",
    "                for i3 in range(len(genpart[i0])):\n",
    "                    if genpart[i0][index0].genPartIdxMother != genpart[i0][i3].Id: continue\n",
    "                    index_gen = i3\n",
    "                builder.begin_record()\n",
    "                builder.field('muon0').integer(index0)\n",
    "                builder.field('muon1').integer(index1)\n",
    "                builder.field('dimu').integer(index_gen)\n",
    "                builder.end_record()\n",
    "            else:\n",
    "                builder.begin_record()\n",
    "                builder.field('muon0').integer(-1)\n",
    "                builder.field('muon1').integer(-1)\n",
    "                builder.field('dimu').integer(-1)\n",
    "                builder.end_record()\n",
    "        builder.end_list()\n",
    "            \n",
    "    return builder"
   ]
  },
  {
   "cell_type": "code",
   "execution_count": 7,
   "id": "37b16c4c-ea3d-439a-9437-a522b4336871",
   "metadata": {
    "tags": []
   },
   "outputs": [],
   "source": [
    "def dstar_match(dstar, genpart):\n",
    "    gen_dstar = genpart[np.absolute(genpart.pdgId) == 413]\n",
    "    gen_d0 = genpart[np.absolute(genpart.pdgId) == 421]\n",
    "    \n",
    "    # Associate each gen and each reco Dstar\n",
    "    dstar_match = ak.cartesian([dstar, gen_dstar])\n",
    "    dstar_match = dstar_match[dstar_match.slot0.simIdx == dstar_match.slot1.Id]\n",
    "    dstar_match = dstar_match[ak.num(dstar_match) > 0]\n",
    "    '''if (ak.sum(ak.num(dstar)) != 0):\n",
    "        # Association using Ids.\n",
    "        dstar_match = dstar_match[dstar_match.slot0.simIdx == dstar_match.slot1.Id]\n",
    "        \n",
    "        # Check D0 as well? dstar_match = dstar_match[dstar_match.slot1.D0simIdx > -1]\n",
    "    else:    \n",
    "        dstar_match = dstar_match[ak.num(dstar_match) > 0]'''\n",
    "    \n",
    "    '''for i0 in range(len(dstar_match.slot0)):\n",
    "        if len(dstar_match.slot0[i0]) == 0: continue\n",
    "        print(f\"Event: {i0}\")\n",
    "        for i1 in range(len(dstar_match.slot0[i0])):\n",
    "            print(f\"Reco Dstar: ({dstar_match.slot0[i0][i1].pt},{dstar_match.slot0[i0][i1].eta},{dstar_match.slot0[i0][i1].phi})\")\n",
    "            print(f\" Gen Dstar: ({dstar_match.slot1[i0][i1].pt},{Dstar_match.slot1[i0][i1].eta},{Dstar_match.slot1[i0][i1].phi}) id = {Dstar_match.slot1[i0][i1].Id}\")'''\n",
    "    \n",
    "    return dstar_match"
   ]
  },
  {
   "cell_type": "code",
   "execution_count": 8,
   "id": "e75537b5-4482-40b9-ab0e-cc1cdf35da68",
   "metadata": {
    "tags": []
   },
   "outputs": [],
   "source": [
    "def association(cand1, cand2):\n",
    "    ''' Function for association of the particles. The cuts that operates on all of them and \n",
    "    computation of quantities can go here. individual cuts can go on the main processing'''\n",
    "    \n",
    "    asso = ak.cartesian([cand1, cand2])\n",
    "    asso = asso[asso.slot0.slot0.vtxIdx == asso.slot1.slot0.vtxIdx]\n",
    "    asso = asso[ak.num(asso) > 0]\n",
    "    \n",
    "    cand1 = ak.zip({\n",
    "            'pt': asso.slot0.slot0.pt,\n",
    "            'eta': asso.slot0.slot0.eta,\n",
    "            'phi': asso.slot0.slot0.phi,\n",
    "            'mass': asso.slot0.slot0.mass,\n",
    "            'charge': asso.slot0.slot0.charge}, with_name=\"PtEtaPhiMCandidate\")\n",
    "    \n",
    "    gen_cand1 = ak.zip({\n",
    "            'pt': asso.slot0.slot1.pt,\n",
    "            'eta': asso.slot0.slot1.eta,\n",
    "            'phi': asso.slot0.slot1.phi,\n",
    "            'mass': asso.slot0.slot1.mass,\n",
    "            'charge': asso.slot0.slot0.charge}, with_name=\"PtEtaPhiMCandidate\")\n",
    "\n",
    "    cand2 = ak.zip({\n",
    "            'pt': asso.slot1.slot0.pt,\n",
    "            'eta': asso.slot1.slot0.eta,\n",
    "            'phi': asso.slot1.slot0.phi,\n",
    "            'mass': asso.slot1.slot0.mass,\n",
    "            'charge': asso.slot1.slot0.charge}, with_name=\"PtEtaPhiMCandidate\")\n",
    "    \n",
    "    gen_cand2 = ak.zip({\n",
    "            'pt': asso.slot1.slot1.pt,\n",
    "            'eta': asso.slot1.slot1.eta,\n",
    "            'phi': asso.slot1.slot1.phi,\n",
    "            'mass': asso.slot1.slot1.mass,\n",
    "            'charge': asso.slot1.slot0.charge}, with_name=\"PtEtaPhiMCandidate\")\n",
    "    \n",
    "    cand1['rap'] = np.log((cand1.t+cand1.z)/(cand1.t-cand1.z))/2.\n",
    "    cand2['rap'] = np.log((cand2.t+cand2.z)/(cand2.t-cand2.z))/2.\n",
    "    gen_cand1['rap'] = np.log((gen_cand1.t+gen_cand1.z)/(gen_cand1.t-gen_cand1.z))/2.\n",
    "    gen_cand2['rap'] = np.log((gen_cand2.t+gen_cand2.z)/(gen_cand2.t-gen_cand2.z))/2.\n",
    "    \n",
    "    '''if len(cand1) > 0:\n",
    "        print(f'{cand1.t}, {cand1.z}')\n",
    "        print(f\"{asso.slot0.slot0.rap}, {cand1['rap']}, {gen_cand1['rap']}\")\n",
    "        print(f'{cand2.t}, {cand2.z}')\n",
    "        print(f\"{asso.slot1.slot0.rap}, {cand2['rap']}, {gen_cand2['rap']}\")\n",
    "        print(\"---------------------------------\")'''\n",
    "    \n",
    "    \n",
    "    asso['deltarap'] = cand1.rap - cand2.rap\n",
    "    asso['deltapt'] = cand1.pt - cand2.pt\n",
    "    asso['deltaeta'] = cand1.eta - cand2.eta\n",
    "    asso['deltaphi'] = cand1.phi - cand2.phi\n",
    "    \n",
    "    asso['gen_deltarap'] = gen_cand1.rap - gen_cand2.rap\n",
    "    asso['gen_deltapt'] = gen_cand1.pt - gen_cand2.pt\n",
    "    asso['gen_deltaeta'] = gen_cand1.eta - gen_cand2.eta\n",
    "    asso['gen_deltaphi'] = gen_cand1.phi - gen_cand2.phi\n",
    "    \n",
    "    asso['cand'] = cand1 + cand2\n",
    "    asso['gen_cand'] = gen_cand1 + gen_cand2\n",
    "    \n",
    "    return asso"
   ]
  },
  {
   "cell_type": "code",
   "execution_count": 16,
   "id": "487b8e71-d3fd-48b2-a697-051c7cd2051e",
   "metadata": {
    "tags": []
   },
   "outputs": [],
   "source": [
    "class GenTestProcessor(processor.ProcessorABC):\n",
    "    def __init__(self):\n",
    "        self._accumulator = processor.dict_accumulator({\n",
    "            'cutflow': processor.defaultdict_accumulator(int),\n",
    "            'n_matched_dimu': processor.value_accumulator(int),\n",
    "            'n_reco_dimu': processor.value_accumulator(int),\n",
    "            'n_gen_dimu': processor.value_accumulator(int),\n",
    "            'n_pass_dimu': processor.value_accumulator(int),\n",
    "            'n_double_counting_dimu': processor.value_accumulator(int),\n",
    "            'n_matched_muon': processor.value_accumulator(int),\n",
    "            'n_reco_muon': processor.value_accumulator(int),\n",
    "            'n_gen_muon': processor.value_accumulator(int),\n",
    "            'n_pass_muon': processor.value_accumulator(int),\n",
    "            'n_matched_dstar': processor.value_accumulator(int),\n",
    "            'n_reco_dstar': processor.value_accumulator(int),\n",
    "            'n_pass_dstar': processor.value_accumulator(int),\n",
    "            'n_gen_dstar': processor.value_accumulator(int),\n",
    "            'n_double_counting_dstar': processor.value_accumulator(int),\n",
    "            'matched_dimu_pt': hist.Hist(\"Events\", hist.Bin(\"pt\", r\"$p_{T,J/\\Psi}$ matched [GeV]\", 40, 0, 100)),\n",
    "            'matched_dimu_eta': hist.Hist(\"Events\", hist.Bin(\"eta\", r\"$\\eta_{J/\\Psi} matched$\", 60, -4, 4)),\n",
    "            'matched_dimu_phi': hist.Hist(\"Events\", hist.Bin(\"phi\", r\"$\\phi_{J/\\Psi} matched [rad]$\", 60, -3.5, 3.5)),\n",
    "            'matched_dimu_mass': hist.Hist(\"Events\", hist.Bin(\"mass\", r\"$mass_{J/\\Psi} matched [GeV]$\", 100, 2.95, 3.25)),\n",
    "            'gen_dimu_pt': hist.Hist(\"Events\", hist.Bin(\"pt\", r\"$p_{T,J/\\Psi} gen [GeV]$\", 40, 0, 100)),\n",
    "            'gen_dimu_eta': hist.Hist(\"Events\", hist.Bin(\"eta\", r\"$\\eta_{J/\\Psi} gen$\", 60, -4, 4)),\n",
    "            'gen_dimu_phi': hist.Hist(\"Events\", hist.Bin(\"phi\", r\"$\\phi_{J/\\Psi}$ gen [rad]\", 60, -3.5, 3.5)),\n",
    "            'gen_dimu_mass': hist.Hist(\"Events\", hist.Bin(\"mass\", r\"$mass_{J/\\Psi} gen [GeV]$\", 100, 2.95, 3.25)),\n",
    "            'all_gen_dimu_pt': hist.Hist(\"Events\", hist.Bin(\"pt\", r\"$p_{T,J/\\Psi} all gen [GeV]\", 40, 0, 80)),\n",
    "            'all_gen_dimu_eta': hist.Hist(\"Events\", hist.Bin(\"eta\", r\"$\\eta_{J/\\Psi} all gen$\", 60, -4, 4)),\n",
    "            'all_gen_dimu_phi': hist.Hist(\"Events\", hist.Bin(\"phi\", r\"$\\phi_{J/\\Psi}$ all gen [rad]\", 60, -3.5, 3.5)),\n",
    "            'all_gen_dimu_mass': hist.Hist(\"Events\", hist.Bin(\"mass\", r\"$mass_{J/\\Psi} all gen$ [GeV]\", 100, 2.95, 3.25)),\n",
    "            'all_dimu_pt': hist.Hist(\"Events\", hist.Bin(\"pt\", r\"$p_{T,J/\\Psi} all$ [GeV]\", 40, 0, 80)),\n",
    "            'all_dimu_eta': hist.Hist(\"Events\", hist.Bin(\"eta\", r\"$\\eta_{J/\\Psi} all$\", 60, -4, 4)),\n",
    "            'all_dimu_phi': hist.Hist(\"Events\", hist.Bin(\"phi\", r\"$\\phi_{J/\\Psi} all [rad]$ [rad]\", 60, -3.5, 3.5)),\n",
    "            'all_dimu_mass': hist.Hist(\"Events\", hist.Bin(\"mass\", r\"$mass_{J/\\Psi [GeV]} all [GeV]$\", 100, 2.95, 3.25)),\n",
    "            'matched_muon_pt': hist.Hist(\"Events\", hist.Bin(\"pt\", r\"$p_{T,\\mu}$ matched [GeV]\", 50, 0, 25)),\n",
    "            'matched_muon_eta': hist.Hist(\"Events\", hist.Bin(\"eta\", r\"$\\eta_{\\mu} matched$\", 60, -10, 10)),\n",
    "            'matched_muon_phi': hist.Hist(\"Events\", hist.Bin(\"phi\", r\"$\\phi_{\\mu} matched [rad]$\", 60, -3.5, 3.5)),\n",
    "            'gen_muon_pt': hist.Hist(\"Events\", hist.Bin(\"pt\", r\"$p_{T,\\mu} gen [GeV]$\", 50, 0, 25)),\n",
    "            'gen_muon_eta': hist.Hist(\"Events\", hist.Bin(\"eta\", r\"$\\eta_{\\mu} gen$\", 60, -10, 10)),\n",
    "            'gen_muon_phi': hist.Hist(\"Events\", hist.Bin(\"phi\", r\"$\\phi_{\\mu}$ gen [rad]\", 60, -3.5, 3.5)),\n",
    "            'all_gen_muon_pt': hist.Hist(\"Events\", hist.Bin(\"pt\", r\"$p_{T,\\mu} all gen [GeV]\", 50, 0, 25)),\n",
    "            'all_gen_muon_eta': hist.Hist(\"Events\", hist.Bin(\"eta\", r\"$\\eta_{\\mu} all gen$\", 60, -10, 10)),\n",
    "            'all_gen_muon_phi': hist.Hist(\"Events\", hist.Bin(\"phi\", r\"$\\phi_{\\mu}$ all gen [rad]\", 60, -3.5, 3.5)),\n",
    "            'all_muon_pt': hist.Hist(\"Events\", hist.Bin(\"pt\", r\"$p_{T,\\mu} all [GeV]$\", 50, 0, 25)),\n",
    "            'all_muon_eta': hist.Hist(\"Events\", hist.Bin(\"eta\", r\"$\\eta_{\\mu} all$\", 60, -10, 10)),\n",
    "            'all_muon_phi': hist.Hist(\"Events\", hist.Bin(\"phi\", r\"$\\phi_{\\mu} all [rad]$\", 60, -3.5, 3.5)),\n",
    "            'gen_muon_2d_pt': hist.Hist(\"Events\", \n",
    "                                     hist.Bin(\"pt1\", r\"$p_{T, 1st \\mu}$\", 50, 0, 25), \n",
    "                                     hist.Bin(\"pt2\", r\"$p_{T, 2nd \\mu}$\", 50, 0, 25)),\n",
    "            'gen_muon_2d_eta': hist.Hist(\"Events\",\n",
    "                                         hist.Bin(\"eta1\", r\"$\\eta_{1st \\mu}$\", 60, -10, 10),\n",
    "                                         hist.Bin(\"eta2\", r\"$\\eta_{2nd \\mu}$\", 60, -10, 10)),\n",
    "            'matched_dstar_pt': hist.Hist(\"Events\", hist.Bin(\"pt\", r\"$p_{T,D*} matched$\", 40, 0, 20)),\n",
    "            'matched_dstar_eta': hist.Hist(\"Events\", hist.Bin(\"eta\", r\"$\\eta_{D*} matched$\", 60, -4, 4)),\n",
    "            'matched_dstar_phi': hist.Hist(\"Events\", hist.Bin(\"phi\", r\"$\\phi_{D*}$ matched\", 60, -3.5, 3.5)),\n",
    "            'matched_dstar_deltamr': hist.Hist(\"Events\", hist.Bin(\"deltamr\", \"$\\Delta m_{D*}$ matched\", 50, 0.138, 0.162)),\n",
    "            'gen_dstar_pt': hist.Hist(\"Events\", hist.Bin(\"pt\", r\"$p_{T,D*} gen$\", 40, 0, 20)),\n",
    "            'gen_dstar_eta': hist.Hist(\"Events\", hist.Bin(\"eta\", r\"$\\eta_{D*} gen$\", 60, -4, 4)),\n",
    "            'gen_dstar_phi': hist.Hist(\"Events\", hist.Bin(\"phi\", r\"$\\phi_{D*}$ gen\", 60, -3.5, 3.5)),\n",
    "            'all_gen_dstar_pt': hist.Hist(\"Events\", hist.Bin(\"pt\", r\"$p_{T,D*} all gen$\", 40, 0, 20)),\n",
    "            'all_gen_dstar_eta': hist.Hist(\"Events\", hist.Bin(\"eta\", r\"$\\eta_{D*} all gen$\", 60, -4, 4)),\n",
    "            'all_gen_dstar_phi': hist.Hist(\"Events\", hist.Bin(\"phi\", r\"$\\phi_{D*}$ all gen\", 60, -3.5, 3.5)),\n",
    "            'all_dstar_pt': hist.Hist(\"Events\", hist.Bin(\"pt\", r\"$p_{T,D*} all$\", 40, 0, 20)),\n",
    "            'all_dstar_eta': hist.Hist(\"Events\", hist.Bin(\"eta\", r\"$\\eta_{D*} all$\", 60, -4, 4)),\n",
    "            'all_dstar_phi': hist.Hist(\"Events\", hist.Bin(\"phi\", r\"$\\phi_{D*}$ all\", 60, -3.5, 3.5)),\n",
    "            'all_dstar_deltamr': hist.Hist(\"Events\", hist.Bin(\"deltamr\", \"$\\Delta m_{D*}$ all\", 50, 0.138, 0.162)),\n",
    "        })\n",
    "\n",
    "    @property\n",
    "    def accumulator(self):\n",
    "        return self._accumulator\n",
    "\n",
    "    def process(self, events):\n",
    "        output = self.accumulator.identity()\n",
    "        \n",
    "        # test if there is any events in the file\n",
    "        if len(events) == 0:\n",
    "            return output\n",
    "        \n",
    "        # Collection extraction\n",
    "        Dimus = ak.zip({**get_vars_dict(events, dimu_cols)}, with_name=\"PtEtaPhiMCandidate\")\n",
    "        Muons = ak.zip({**get_vars_dict(events, muon_cols)}, with_name=\"PtEtaPhiMCandidate\")\n",
    "        Dstars = ak.zip({'mass': (events.Dstar_D0mass + events.Dstar_deltamr),\n",
    "                        'charge': events.Dstar_pischg,\n",
    "                        **get_vars_dict(events, dstar_cols)}, \n",
    "                        with_name=\"PtEtaPhiMCandidate\")\n",
    "        GenPart = ak.zip({**get_vars_dict(events, gen_part_cols)}, with_name=\"PtEtaPhiMCandidate\")\n",
    "        \n",
    "        output['cutflow']['Number of events'] += len(events)\n",
    "        output['cutflow']['Number of Dimu'] += ak.sum(ak.num(Dimus))\n",
    "        output['cutflow']['Number of Muons'] += ak.sum(ak.num(Muons))\n",
    "\n",
    "        '''## Rec dimuon cuts\n",
    "        \n",
    "        #Dimu cuts charge = 0, mass cuts and chi2...\n",
    "        Dimu = Dimus[Dimus.charge == 0]\n",
    "        output['cutflow']['Dimu 0 charge'] += ak.sum(ak.num(Dimu))\n",
    "\n",
    "        Dimu = Dimu[(Dimu.mass > 2.95) & (Dimu.mass < 3.25)]\n",
    "        output['cutflow']['Quarkonia mass'] += ak.sum(ak.num(Dimu))\n",
    "\n",
    "        # Get the Muons from Dimu, for cuts in their params\n",
    "        Muon = ak.zip({'0': Muons[Dimu.t1muIdx], '1': Muons[Dimu.t2muIdx]})\n",
    "        \n",
    "        ## Rec muon cuts\n",
    "        \n",
    "        # Muon softId cuts\n",
    "        soft_id = (Muon.slot0.softId > 0) & (Muon.slot1.softId > 0)\n",
    "        Dimu = Dimu[soft_id]\n",
    "        Muon = Muon[soft_id]\n",
    "        output['cutflow']['Dimu muon softId'] += ak.sum(ak.num(Dimu))\n",
    "\n",
    "        #global_muon = (Muon.slot0.isGlobal > 0) & (Muon.slot1.isGlobal > 0)\n",
    "        #Dimu = Dimu[global_muon]\n",
    "        #Muon = Muon[global_muon]\n",
    "        #output['cutflow']['Dimu muon global'] += ak.sum(ak.num(Dimu))\n",
    "\n",
    "        # Muon pt and eta cuts\n",
    "        muon_pt_cut = (Muon.slot0.pt > 3) & (Muon.slot1.pt > 3)\n",
    "        Dimu = Dimu[muon_pt_cut]\n",
    "        Muon = Muon[muon_pt_cut]\n",
    "         \n",
    "        output['cutflow']['Dimu muon pt cut'] += ak.sum(ak.num(Dimu))\n",
    "        \n",
    "        # Dimu and muon matching\n",
    "        dimu_gen, muon0_gen, muon1_gen = dimu_match(Muon, Dimu, GenPart) #dimu_gen: rec dimuon + gen dimuon\n",
    "        \n",
    "        # Takes all gen jpsi\n",
    "        gen_dimu = GenPart[GenPart.pdgId == 443]\n",
    "        \n",
    "        gen_dimu = gen_dimu[ak.num(gen_dimu) > 0]\n",
    "        \n",
    "        last_element = ak.cartesian([ak.num(gen_dimu)-1, ak.Array([[1]])]).slot0\n",
    "        gen_dimu = gen_dimu[last_element]\n",
    "        # Takes all gen muons\n",
    "        gen_muon = GenPart[np.absolute(GenPart.pdgId) == 13]\n",
    "        \n",
    "        ## Gen muon cuts\n",
    "        \n",
    "        # gen muon pT\n",
    "        gen_muon_pt_cut = (gen_muon.pt > 3)\n",
    "        gen_muon = gen_muon[gen_muon_pt_cut]\n",
    "        # gen muon eta\n",
    "        gen_muon_eta_cut = (np.absolute(gen_muon.eta) <= 2.4)\n",
    "        gen_muon = gen_muon[gen_muon_eta_cut]\n",
    "        \n",
    "        # Take events with always two muons\n",
    "        two_muons_cut = ak.num(gen_muon) == 2\n",
    "        \n",
    "        # Filter the events\n",
    "        gen_muon = gen_muon[two_muons_cut]\n",
    "        gen_dimu = gen_dimu[two_muons_cut]\n",
    "        \n",
    "        # Takes gen muon with the same mother\n",
    "        gen_muon = ak.combinations(gen_muon, 2)\n",
    "        same_mother = ((gen_muon.slot0.genPartIdxMother == gen_muon.slot1.genPartIdxMother) & (gen_muon.slot0.parpdgId == 443))\n",
    "                        \n",
    "        gen_muon = gen_muon[same_mother]\n",
    "                \n",
    "        output['n_matched_dimu'] += ak.sum(ak.num(dimu_gen.slot0))\n",
    "        output['n_reco_dimu'] += ak.sum(ak.num(Dimus))\n",
    "        output['n_pass_dimu'] += ak.sum(ak.num(Dimu))\n",
    "        output['n_gen_dimu'] += ak.sum(ak.num(gen_dimu))\n",
    "        \n",
    "        _, counts = np.unique(ak.flatten(dimu_gen.slot1.Id).to_numpy(), return_counts=True)\n",
    "        output['n_double_counting_dimu'] += np.sum(counts[counts > 1] - 1)\n",
    "        \n",
    "        # numbers for muon efficiency\n",
    "        output['n_matched_muon'] += ak.sum(ak.num(muon0_gen.slot0))\n",
    "        output['n_matched_muon'] += ak.sum(ak.num(muon1_gen.slot0))\n",
    "        output['n_reco_muon'] += ak.sum(ak.num(Muons.slot0))\n",
    "        output['n_reco_muon'] += ak.sum(ak.num(Muons.slot1))\n",
    "        output['n_pass_muon'] += ak.sum(ak.num(Muon.slot0))\n",
    "        output['n_pass_muon'] += ak.sum(ak.num(Muon.slot1))\n",
    "        output['n_gen_muon'] += ak.sum(ak.num(gen_muon.slot0))\n",
    "        output['n_gen_muon'] += ak.sum(ak.num(gen_muon.slot1))\n",
    "        \n",
    "        # Dimu plots\n",
    "        output['matched_dimu_pt'].fill(pt=ak.flatten(dimu_gen.slot0.pt))\n",
    "        output['matched_dimu_eta'].fill(eta=ak.flatten(dimu_gen.slot0.eta))\n",
    "        output['matched_dimu_phi'].fill(phi=ak.flatten(dimu_gen.slot0.phi))\n",
    "        output['matched_dimu_mass'].fill(mass=ak.flatten(dimu_gen.slot0.mass))\n",
    "        \n",
    "        output['gen_dimu_pt'].fill(pt=ak.flatten(dimu_gen.slot1.pt))\n",
    "        output['gen_dimu_eta'].fill(eta=ak.flatten(dimu_gen.slot1.eta))\n",
    "        output['gen_dimu_phi'].fill(phi=ak.flatten(dimu_gen.slot1.phi))\n",
    "        output['gen_dimu_mass'].fill(mass=ak.flatten(dimu_gen.slot1.mass))\n",
    "        \n",
    "        output['all_gen_dimu_pt'].fill(pt=ak.flatten(gen_dimu.pt))\n",
    "        output['all_gen_dimu_eta'].fill(eta=ak.flatten(gen_dimu.eta))\n",
    "        output['all_gen_dimu_phi'].fill(phi=ak.flatten(gen_dimu.phi))\n",
    "        output['all_gen_dimu_mass'].fill(mass=ak.flatten(gen_dimu.mass))\n",
    "        \n",
    "        output['all_dimu_pt'].fill(pt=ak.flatten(Dimu.pt))\n",
    "        output['all_dimu_eta'].fill(eta=ak.flatten(Dimu.eta))\n",
    "        output['all_dimu_phi'].fill(phi=ak.flatten(Dimu.phi))\n",
    "        output['all_dimu_mass'].fill(mass=ak.flatten(Dimu.mass))\n",
    "        \n",
    "        # Muon plots\n",
    "        output['matched_muon_pt'].fill(pt=ak.flatten(muon0_gen.slot0.pt))\n",
    "        output['matched_muon_eta'].fill(eta=ak.flatten(muon0_gen.slot0.eta))\n",
    "        output['matched_muon_phi'].fill(phi=ak.flatten(muon0_gen.slot0.phi))\n",
    "        output['matched_muon_pt'].fill(pt=ak.flatten(muon1_gen.slot0.pt))\n",
    "        output['matched_muon_eta'].fill(eta=ak.flatten(muon1_gen.slot0.eta))\n",
    "        output['matched_muon_phi'].fill(phi=ak.flatten(muon1_gen.slot0.phi))\n",
    "        \n",
    "        output['gen_muon_pt'].fill(pt=ak.flatten(muon0_gen.slot1.pt))\n",
    "        output['gen_muon_eta'].fill(eta=ak.flatten(muon0_gen.slot1.eta))\n",
    "        output['gen_muon_phi'].fill(phi=ak.flatten(muon0_gen.slot1.phi))\n",
    "        output['gen_muon_pt'].fill(pt=ak.flatten(muon1_gen.slot1.pt))\n",
    "        output['gen_muon_eta'].fill(eta=ak.flatten(muon1_gen.slot1.eta))\n",
    "        output['gen_muon_phi'].fill(phi=ak.flatten(muon1_gen.slot1.phi))\n",
    "        \n",
    "        output['all_gen_muon_pt'].fill(pt=ak.flatten(gen_muon.slot0.pt))\n",
    "        output['all_gen_muon_eta'].fill(eta=ak.flatten(gen_muon.slot0.eta))\n",
    "        output['all_gen_muon_phi'].fill(phi=ak.flatten(gen_muon.slot0.phi))\n",
    "        output['all_gen_muon_pt'].fill(pt=ak.flatten(gen_muon.slot1.pt))\n",
    "        output['all_gen_muon_eta'].fill(eta=ak.flatten(gen_muon.slot1.eta))\n",
    "        output['all_gen_muon_phi'].fill(phi=ak.flatten(gen_muon.slot1.phi))\n",
    "        \n",
    "        output['all_muon_pt'].fill(pt=ak.flatten(Muons.pt))\n",
    "        output['all_muon_eta'].fill(eta=ak.flatten(Muons.eta))\n",
    "        output['all_muon_phi'].fill(phi=ak.flatten(Muons.phi))\n",
    "        \n",
    "        output['gen_muon_2d_pt'].fill(pt1=ak.flatten(gen_muon.slot0.pt),\n",
    "                                      pt2=ak.flatten(gen_muon.slot1.pt))\n",
    "        output['gen_muon_2d_eta'].fill(eta1=ak.flatten(gen_muon.slot0.eta),\n",
    "                                       eta2=ak.flatten(gen_muon.slot1.eta))'''\n",
    "        \n",
    "        # Cuts for Dstar\n",
    "        Dstar = Dstars[~Dstars.hasMuon]\n",
    "        output['cutflow']['Dstar trk muon cut'] += ak.sum(ak.num(Dstar))\n",
    "\n",
    "        #Dstar = Dstar[(Dstar.Kpt > 0.5) & (Dstar.pipt > 0.5)]\n",
    "        output['cutflow']['Dstar trk pt cut'] += ak.sum(ak.num(Dstar))\n",
    "\n",
    "        #Dstar = Dstar[(Dstar.Kchindof < 2.5) & (Dstar.pichindof < 2.5)]\n",
    "        output['cutflow']['Dstar trk pt cut'] += ak.sum(ak.num(Dstar))\n",
    "\n",
    "        #Dstar = Dstar[(Dstar.KnValid > 4) & (Dstar.pinValid > 4) & (Dstar.KnPix > 1) & (Dstar.pinPix > 1)]\n",
    "        output['cutflow']['Dstar trk hits cut'] += ak.sum(ak.num(Dstar))\n",
    "\n",
    "        #Dstar = Dstar[(Dstar.Kdxy < 0.1) & (Dstar.pidxy < 0.1)]\n",
    "        output['cutflow']['Dstar trk pt cut'] += ak.sum(ak.num(Dstar))\n",
    "\n",
    "        #Dstar = Dstar[(Dstar.Kdz < 1) & (Dstar.pidz < 1)]\n",
    "        output['cutflow']['Dstar trk pt cut'] += ak.sum(ak.num(Dstar))\n",
    "\n",
    "        # pis cuts\n",
    "        #Dstar = Dstar[Dstar.pispt > 0.3]\n",
    "        output['cutflow']['Dstar pis pt cut'] += ak.sum(ak.num(Dstar))\n",
    "\n",
    "        #Dstar = Dstar[Dstar.pischindof < 3]\n",
    "        output['cutflow']['Dstar pis chi2 cut'] += ak.sum(ak.num(Dstar))\n",
    "\n",
    "        #Dstar = Dstar[Dstar.pisnValid > 2]\n",
    "        output['cutflow']['Dstar pis hits cut'] += ak.sum(ak.num(Dstar))\n",
    "\n",
    "        # D0 of Dstar cuts\n",
    "        #Dstar = Dstar[Dstar.D0cosphi > 0.99]\n",
    "        output['cutflow']['Dstar D0 cosphi cut'] += ak.sum(ak.num(Dstar))\n",
    "\n",
    "        #Dstar = Dstar[(Dstar.D0mass < D0_PDG_MASS + 0.025) & (Dstar.D0mass > D0_PDG_MASS - 0.025)]\n",
    "        output['cutflow']['Dstar D0 mass cut'] += ak.sum(ak.num(Dstar))\n",
    "\n",
    "        #Dstar = Dstar[Dstar.D0pt > 3]\n",
    "        output['cutflow']['Dstar D0 pt cut'] += ak.sum(ak.num(Dstar))\n",
    "\n",
    "        Dstar = Dstar[Dstar.D0dlSig > 3]\n",
    "        output['cutflow']['Dstar D0 dlSig cut'] += ak.sum(ak.num(Dstar))\n",
    "\n",
    "        Dstar['wrg_chg'] = (Dstar.Kchg == Dstar.pichg)\n",
    "        \n",
    "        dstar_gen = dstar_match(Dstar[~Dstar.wrg_chg], GenPart)\n",
    "        gen_dstar = GenPart[np.absolute(GenPart.pdgId == 413)]            \n",
    "        \n",
    "        # Numbers for efficiency\n",
    "        output['n_matched_dstar'] += ak.sum(ak.num(dstar_gen.slot0))\n",
    "        output['n_reco_dstar'] += ak.sum(ak.num(Dstars[(Dstar.Kchg != Dstar.pichg)]))\n",
    "        output['n_pass_dstar'] += ak.sum(ak.num(Dstar[~Dstar.wrg_chg]))\n",
    "        output['n_gen_dstar'] += ak.sum(ak.num(gen_dstar))\n",
    "        \n",
    "        _, counts = np.unique(ak.flatten(dstar_gen.slot1.Id).to_numpy(), return_counts=True)\n",
    "        output['n_double_counting_dstar'] += np.sum(counts[counts > 1] - 1)\n",
    "        \n",
    "        # Histograms\n",
    "        output['matched_dstar_pt'].fill(pt=ak.flatten(dstar_gen.slot0.pt))\n",
    "        output['matched_dstar_eta'].fill(eta=ak.flatten(dstar_gen.slot0.eta))\n",
    "        output['matched_dstar_phi'].fill(phi=ak.flatten(dstar_gen.slot0.phi))\n",
    "        output['matched_dstar_deltamr'].fill(deltamr=ak.flatten(dstar_gen.slot0.deltamr))\n",
    "        \n",
    "        output['gen_dstar_pt'].fill(pt=ak.flatten(dstar_gen.slot1.pt))\n",
    "        output['gen_dstar_eta'].fill(eta=ak.flatten(dstar_gen.slot1.eta))\n",
    "        output['gen_dstar_phi'].fill(phi=ak.flatten(dstar_gen.slot1.phi))\n",
    "        \n",
    "        output['all_gen_dstar_pt'].fill(pt=ak.flatten(gen_dstar.pt))\n",
    "        output['all_gen_dstar_eta'].fill(eta=ak.flatten(gen_dstar.eta))\n",
    "        output['all_gen_dstar_phi'].fill(phi=ak.flatten(gen_dstar.phi))\n",
    "        \n",
    "        output['all_dstar_pt'].fill(pt=ak.flatten(Dstar[~Dstar.wrg_chg].pt))\n",
    "        output['all_dstar_eta'].fill(eta=ak.flatten(Dstar[~Dstar.wrg_chg].eta))\n",
    "        output['all_dstar_phi'].fill(phi=ak.flatten(Dstar[~Dstar.wrg_chg].phi))\n",
    "        output['all_dstar_deltamr'].fill(deltamr=ak.flatten(Dstar[~Dstar.wrg_chg].deltamr))\n",
    "        \n",
    "        #DimuDstar = association(dimu_gen, dstar_gen)\n",
    "        #DimuDstar = DimuDstar[ak.num(DimuDstar.slot1) > 0]\n",
    "        '''if len(DimuDstar) > 0:\n",
    "            for i0 in range(len(DimuDstar)):\n",
    "                print(i0)\n",
    "                for i1 in range(len(DimuDstar[i0])):\n",
    "                    print(f\"Reco Dimu: ({DimuDstar.slot0.slot0.pt[i0][i1]}, {DimuDstar.slot0.slot0.eta[i0][i1]}, {DimuDstar.slot0.slot0.phi[i0][i1]})\")\n",
    "                    print(f\" Gen Dimu: ({DimuDstar.slot0.slot1.pt[i0][i1]}, {DimuDstar.slot0.slot1.eta[i0][i1]}, {DimuDstar.slot0.slot1.phi[i0][i1]})\")\n",
    "                    print(f\"Reco Dstar: ({DimuDstar.slot1.slot0.pt[i0][i1]}, {DimuDstar.slot1.slot0.eta[i0][i1]}, {DimuDstar.slot1.slot0.phi[i0][i1]})\")\n",
    "                    print(f\" Gen Dstar: ({DimuDstar.slot1.slot1.pt[i0][i1]}, {DimuDstar.slot1.slot1.eta[i0][i1]}, {DimuDstar.slot1.slot1.phi[i0][i1]})\")\n",
    "                    print(f\"Reco deltarap: {DimuDstar.deltarap[i0][i1]}, Gen deltarap: {DimuDstar.gen_deltarap[i0][i1]}\")\n",
    "                    print(\"-----------------------------------------------------------------\")'''\n",
    "        \n",
    "      \n",
    "        return output\n",
    "\n",
    "    def postprocess(self, accumulator):\n",
    "        return accumulator"
   ]
  },
  {
   "cell_type": "code",
   "execution_count": 17,
   "id": "5c48d009-89ca-4ef6-bfa0-3a26e0c516f3",
   "metadata": {},
   "outputs": [
    {
     "data": {
      "application/vnd.jupyter.widget-view+json": {
       "model_id": "4a833bf54d10458da40172c34bfba410",
       "version_major": 2,
       "version_minor": 0
      },
      "text/plain": [
       "Processing:   0%|          | 0/486 [00:00<?, ?chunk/s]"
      ]
     },
     "metadata": {},
     "output_type": "display_data"
    },
    {
     "name": "stdout",
     "output_type": "stream",
     "text": [
      "Process finished in: 1542.28 s\n",
      "defaultdict_accumulator(<class 'int'>, {'Number of events': 63100, 'Number of Dimu': 87353, 'Number of Muons': 357216, 'Dstar trk muon cut': 17288535, 'Dstar trk pt cut': 69154140, 'Dstar trk hits cut': 17288535, 'Dstar pis pt cut': 17288535, 'Dstar pis chi2 cut': 17288535, 'Dstar pis hits cut': 17288535, 'Dstar D0 cosphi cut': 17288535, 'Dstar D0 mass cut': 17288535, 'Dstar D0 pt cut': 17288535, 'Dstar D0 dlSig cut': 1044050})\n"
     ]
    }
   ],
   "source": [
    "data = {\"test\": files[:]}\n",
    "\n",
    "tstart = time.time()\n",
    "\n",
    "output = processor.run_uproot_job(data,\n",
    "                                    treename='Events',\n",
    "                                    processor_instance=GenTestProcessor(),\n",
    "                                    executor=processor.iterative_executor, #iterative, futures\n",
    "                                    executor_args={\"schema\": BaseSchema, 'workers': 8, 'skipbadfiles': True},\n",
    "                                    chunksize=360000,\n",
    "                                    )\n",
    "\n",
    "print(f\"Process finished in: {time.time() - tstart:.2f} s\")\n",
    "print(output['cutflow'])"
   ]
  },
  {
   "cell_type": "code",
   "execution_count": 18,
   "id": "4285ca07-f554-4e8f-8b80-c25da8225a8e",
   "metadata": {},
   "outputs": [
    {
     "data": {
      "text/plain": [
       "40532"
      ]
     },
     "execution_count": 18,
     "metadata": {},
     "output_type": "execute_result"
    }
   ],
   "source": [
    "# Gen Dstars\n",
    "Gen_Dstar = output['n_gen_dstar'].value\n",
    "Gen_Dstar"
   ]
  },
  {
   "cell_type": "code",
   "execution_count": 19,
   "id": "5f7e9190-d27f-4db8-895e-c0dfea2e2066",
   "metadata": {},
   "outputs": [
    {
     "data": {
      "text/plain": [
       "598320"
      ]
     },
     "execution_count": 19,
     "metadata": {},
     "output_type": "execute_result"
    }
   ],
   "source": [
    "# All Dstars with no cut (only no muons)\n",
    "Reco_Dstar = output['n_reco_dstar'].value\n",
    "Reco_Dstar"
   ]
  },
  {
   "cell_type": "code",
   "execution_count": 20,
   "id": "2fe58ee8-1299-4b38-899d-cc1ff8ae1018",
   "metadata": {},
   "outputs": [
    {
     "data": {
      "text/plain": [
       "598320"
      ]
     },
     "execution_count": 20,
     "metadata": {},
     "output_type": "execute_result"
    }
   ],
   "source": [
    "# Dstars that passed the cuts\n",
    "Reco_passed_dstar = output['n_pass_dstar'].value\n",
    "Reco_passed_dstar"
   ]
  },
  {
   "cell_type": "code",
   "execution_count": 21,
   "id": "5717dac2-2614-4b03-9a7e-750268249f9c",
   "metadata": {},
   "outputs": [
    {
     "data": {
      "text/plain": [
       "5950"
      ]
     },
     "execution_count": 21,
     "metadata": {},
     "output_type": "execute_result"
    }
   ],
   "source": [
    "# Dstars that passed the cuts and matched with gen\n",
    "Reco_matched_dstar_passed_criteria = output['n_matched_dstar'].value\n",
    "Reco_matched_dstar_passed_criteria"
   ]
  },
  {
   "cell_type": "code",
   "execution_count": 22,
   "id": "990313c6-31b4-4dab-8d5d-63035d8e448a",
   "metadata": {},
   "outputs": [
    {
     "name": "stdout",
     "output_type": "stream",
     "text": [
      "Reco Matched Dstar passed criteria: 5950, Reco_Matched_Dstar 598320 and Gen_Dstar = 40532\n",
      "Reco Matched Dstar/Reco Dstar = 0.99 %\n",
      "Reco Matched Dstar/Reco Matched Dstar passed criteria = 0.99 %\n",
      "Reco Matched Dstar/Gen Dstar (Efficiency reco) = 14.68 %\n",
      "N. double counting: 2465, Fraction: 0.414\n"
     ]
    }
   ],
   "source": [
    "print(f\"Reco Matched Dstar passed criteria: {output['n_matched_dstar'].value}, Reco_Matched_Dstar {output['n_pass_dstar'].value} and Gen_Dstar = {output['n_gen_dstar'].value}\")\n",
    "print(f\"Reco Matched Dstar/Reco Dstar = {100*output['n_matched_dstar'].value/output['n_reco_dstar'].value:.2f}\" + \" %\")\n",
    "print(f\"Reco Matched Dstar/Reco Matched Dstar passed criteria = {100*output['n_matched_dstar'].value/output['n_pass_dstar'].value:.2f}\" + \" %\")\n",
    "print(f\"Reco Matched Dstar/Gen Dstar (Efficiency reco) = {100*output['n_matched_dstar'].value/output['n_gen_dstar'].value:.2f}\" + \" %\")\n",
    "\n",
    "print(f\"N. double counting: {output['n_double_counting_dstar'].value}, Fraction: {output['n_double_counting_dstar'].value/output['n_matched_dstar'].value:.3f}\")"
   ]
  },
  {
   "cell_type": "code",
   "execution_count": null,
   "id": "e4d1a770-e933-4cff-bb88-498d881e559c",
   "metadata": {},
   "outputs": [],
   "source": [
    "Gen_Dimuon = output['n_gen_dimu'].value\n",
    "Gen_Dimuon"
   ]
  },
  {
   "cell_type": "code",
   "execution_count": 87,
   "id": "947db4fc-59a6-4206-8fdd-4b3c5a09d832",
   "metadata": {},
   "outputs": [
    {
     "data": {
      "text/plain": [
       "0"
      ]
     },
     "execution_count": 87,
     "metadata": {},
     "output_type": "execute_result"
    }
   ],
   "source": [
    "Reco_Dimuon = output['n_reco_dimu'].value\n",
    "Reco_Dimuon"
   ]
  },
  {
   "cell_type": "code",
   "execution_count": 88,
   "id": "300b8cae-013b-4221-bcee-b03b478a54f3",
   "metadata": {},
   "outputs": [
    {
     "data": {
      "text/plain": [
       "0"
      ]
     },
     "execution_count": 88,
     "metadata": {},
     "output_type": "execute_result"
    }
   ],
   "source": [
    "Reco_passed_Dimuon = output['n_pass_dimu'].value\n",
    "Reco_passed_Dimuon"
   ]
  },
  {
   "cell_type": "code",
   "execution_count": 89,
   "id": "25d38805-04be-4e79-b745-e4448a65875c",
   "metadata": {},
   "outputs": [
    {
     "data": {
      "text/plain": [
       "0"
      ]
     },
     "execution_count": 89,
     "metadata": {},
     "output_type": "execute_result"
    }
   ],
   "source": [
    "Reco_Matched_Dimuon_passed_criteria = output['n_matched_dimu'].value\n",
    "Reco_Matched_Dimuon_passed_criteria"
   ]
  },
  {
   "cell_type": "code",
   "execution_count": 90,
   "id": "a62b2005-e5ac-49a6-b99c-eb14b5d90798",
   "metadata": {},
   "outputs": [
    {
     "name": "stdout",
     "output_type": "stream",
     "text": [
      "Reco Matched Dimuon passed criteria: 0, Reco_Matched_Dimuon 0 and Gen_Dimuon = 0\n"
     ]
    },
    {
     "ename": "ZeroDivisionError",
     "evalue": "division by zero",
     "output_type": "error",
     "traceback": [
      "\u001b[0;31m---------------------------------------------------------------------------\u001b[0m",
      "\u001b[0;31mZeroDivisionError\u001b[0m                         Traceback (most recent call last)",
      "\u001b[0;32m/tmp/mabarros/ipykernel_2930/580631832.py\u001b[0m in \u001b[0;36m<module>\u001b[0;34m\u001b[0m\n\u001b[1;32m      1\u001b[0m \u001b[0mprint\u001b[0m\u001b[0;34m(\u001b[0m\u001b[0;34mf\"Reco Matched Dimuon passed criteria: {output['n_matched_dimu'].value}, Reco_Matched_Dimuon {output['n_pass_dimu'].value} and Gen_Dimuon = {output['n_gen_dimu'].value}\"\u001b[0m\u001b[0;34m)\u001b[0m\u001b[0;34m\u001b[0m\u001b[0;34m\u001b[0m\u001b[0m\n\u001b[0;32m----> 2\u001b[0;31m \u001b[0mprint\u001b[0m\u001b[0;34m(\u001b[0m\u001b[0;34mf\"Reco Matched Dimuon/Reco Dimuon = {100*output['n_matched_dimu'].value/output['n_reco_dimu'].value:.2f}\"\u001b[0m \u001b[0;34m+\u001b[0m \u001b[0;34m\" %\"\u001b[0m\u001b[0;34m)\u001b[0m\u001b[0;34m\u001b[0m\u001b[0;34m\u001b[0m\u001b[0m\n\u001b[0m\u001b[1;32m      3\u001b[0m \u001b[0mprint\u001b[0m\u001b[0;34m(\u001b[0m\u001b[0;34mf\"Reco Matched Dimuon/Reco Matched Dimuon passed criteria = {100*output['n_matched_dimu'].value/output['n_pass_dimu'].value:.2f}\"\u001b[0m \u001b[0;34m+\u001b[0m \u001b[0;34m\" %\"\u001b[0m\u001b[0;34m)\u001b[0m\u001b[0;34m\u001b[0m\u001b[0;34m\u001b[0m\u001b[0m\n\u001b[1;32m      4\u001b[0m \u001b[0mprint\u001b[0m\u001b[0;34m(\u001b[0m\u001b[0;34mf\"Reco Matched Dimuon/Gen Dimuon (Efficiency reco) = {100*output['n_matched_dimu'].value/output['n_gen_dimu'].value:.2f}\"\u001b[0m \u001b[0;34m+\u001b[0m \u001b[0;34m\" %\"\u001b[0m\u001b[0;34m)\u001b[0m\u001b[0;34m\u001b[0m\u001b[0;34m\u001b[0m\u001b[0m\n\u001b[1;32m      5\u001b[0m \u001b[0;34m\u001b[0m\u001b[0m\n",
      "\u001b[0;31mZeroDivisionError\u001b[0m: division by zero"
     ]
    }
   ],
   "source": [
    "print(f\"Reco Matched Dimuon passed criteria: {output['n_matched_dimu'].value}, Reco_Matched_Dimuon {output['n_pass_dimu'].value} and Gen_Dimuon = {output['n_gen_dimu'].value}\")\n",
    "print(f\"Reco Matched Dimuon/Reco Dimuon = {100*output['n_matched_dimu'].value/output['n_reco_dimu'].value:.2f}\" + \" %\")\n",
    "print(f\"Reco Matched Dimuon/Reco Matched Dimuon passed criteria = {100*output['n_matched_dimu'].value/output['n_pass_dimu'].value:.2f}\" + \" %\")\n",
    "print(f\"Reco Matched Dimuon/Gen Dimuon (Efficiency reco) = {100*output['n_matched_dimu'].value/output['n_gen_dimu'].value:.2f}\" + \" %\")\n",
    "\n",
    "print(f\"N. double counting: {output['n_double_counting_dimu'].value}, Fraction: {output['n_double_counting_dimu'].value/output['n_matched_dimu'].value:.3f}\")"
   ]
  },
  {
   "cell_type": "code",
   "execution_count": 91,
   "id": "2909d51d-1453-401d-8aa7-5ff7c7ce6f8e",
   "metadata": {},
   "outputs": [
    {
     "data": {
      "text/plain": [
       "0"
      ]
     },
     "execution_count": 91,
     "metadata": {},
     "output_type": "execute_result"
    }
   ],
   "source": [
    "Gen_Muon = output['n_gen_muon' ].value\n",
    "Gen_Muon"
   ]
  },
  {
   "cell_type": "code",
   "execution_count": 92,
   "id": "82414849-8f0d-454d-b312-7a04847555b6",
   "metadata": {},
   "outputs": [
    {
     "data": {
      "text/plain": [
       "0"
      ]
     },
     "execution_count": 92,
     "metadata": {},
     "output_type": "execute_result"
    }
   ],
   "source": [
    "Reco_Muon = output['n_reco_muon'].value\n",
    "Reco_Muon"
   ]
  },
  {
   "cell_type": "code",
   "execution_count": 93,
   "id": "124833c1-d5fc-4f1a-ba34-8c5243b8601e",
   "metadata": {},
   "outputs": [
    {
     "data": {
      "text/plain": [
       "0"
      ]
     },
     "execution_count": 93,
     "metadata": {},
     "output_type": "execute_result"
    }
   ],
   "source": [
    "Reco_Matched_Muon = output['n_pass_muon'].value\n",
    "Reco_Matched_Muon"
   ]
  },
  {
   "cell_type": "code",
   "execution_count": 94,
   "id": "f87ef934-fbe1-45c4-b764-4eecdbc64fda",
   "metadata": {},
   "outputs": [
    {
     "data": {
      "text/plain": [
       "0"
      ]
     },
     "execution_count": 94,
     "metadata": {},
     "output_type": "execute_result"
    }
   ],
   "source": [
    "Reco_Matched_Muon_passed_criteria = output['n_matched_muon'].value\n",
    "Reco_Matched_Muon_passed_criteria"
   ]
  },
  {
   "cell_type": "code",
   "execution_count": null,
   "id": "914e5ce5-52ba-4c85-ba7f-ee9e02f95362",
   "metadata": {},
   "outputs": [],
   "source": [
    "print(f\"Reco Matched Muon passed criteria: {output['n_matched_muon'].value}, Reco_Matched_Muon {output['n_pass_muon'].value} and Gen_Muon = {output['n_gen_muon'].value}\")\n",
    "print(f\"Reco Matched Muon/Reco Muon = {100*output['n_matched_muon'].value/output['n_reco_muon'].value:.2f}\" + \" %\")\n",
    "print(f\"Reco Matched Muon/Reco Matched Muon passed criteria = {100*output['n_matched_muon'].value/output['n_pass_muon'].value:.2f}\" + \" %\")\n",
    "print(f\"Reco Matched Muon/Gen Muon (Efficiency reco) = {100*output['n_matched_muon'].value/output['n_gen_muon'].value:.2f}\" + \" %\")"
   ]
  },
  {
   "cell_type": "code",
   "execution_count": null,
   "id": "dd759773-c428-4a6a-9bd2-a245cbd1d884",
   "metadata": {},
   "outputs": [],
   "source": [
    "ax, rax = ratio_plot(output['matched_dimu_pt'], output['gen_dimu_pt'])\n",
    "\n",
    "handles, labels = ax.get_legend_handles_labels()\n",
    "labels = ['Gen Dimu', 'Matched Dimu']\n",
    "\n",
    "leg = ax.legend(handles, labels)\n",
    "rax.set_xlabel(r\"$p_{T,\\mu\\mu}$\")"
   ]
  },
  {
   "cell_type": "code",
   "execution_count": null,
   "id": "19aa56f8-935c-4a65-ba7d-0463ca5632bb",
   "metadata": {},
   "outputs": [],
   "source": [
    "ax, rax = ratio_plot(output['matched_dimu_eta'], output['gen_dimu_eta'])\n",
    "\n",
    "handles, labels = ax.get_legend_handles_labels()\n",
    "labels = ['Gen Dimu', 'Matched Dimu']\n",
    "\n",
    "leg = ax.legend(handles, labels)\n",
    "rax.set_xlabel(r\"$\\eta_{\\mu\\mu}$\")"
   ]
  },
  {
   "cell_type": "code",
   "execution_count": null,
   "id": "77021b66-c84b-4cd8-8891-9c0007a7206a",
   "metadata": {},
   "outputs": [],
   "source": [
    "ax, rax = ratio_plot(output['matched_dimu_phi'], output['gen_dimu_phi'])\n",
    "\n",
    "handles, labels = ax.get_legend_handles_labels()\n",
    "labels = ['Gen Dimu','Matched Dimu']\n",
    "\n",
    "leg = ax.legend(handles, labels)\n",
    "rax.set_xlabel(r\"$\\phi_{\\mu\\mu}$\")"
   ]
  },
  {
   "cell_type": "code",
   "execution_count": null,
   "id": "c3381f36-e755-4b8a-a5e7-631b85d15ae4",
   "metadata": {},
   "outputs": [],
   "source": [
    "ax, rax = ratio_plot(output['matched_dimu_pt'], output['all_gen_dimu_pt'])\n",
    "\n",
    "handles, labels = ax.get_legend_handles_labels()\n",
    "labels = ['Gen Dimu', 'Matched Dimu']\n",
    "\n",
    "leg = ax.legend(handles, labels)\n",
    "rax.set_xlabel(r\"$p_{T,\\mu\\mu} [GeV]$\")"
   ]
  },
  {
   "cell_type": "code",
   "execution_count": null,
   "id": "118af80c-2b42-42fe-a344-262295d3840c",
   "metadata": {},
   "outputs": [],
   "source": [
    "ax, rax = ratio_plot(output['matched_dimu_eta'], output['all_gen_dimu_eta'])\n",
    "\n",
    "handles, labels = ax.get_legend_handles_labels()\n",
    "labels = ['Gen Dimu', 'Matched Dimu']\n",
    "\n",
    "leg = ax.legend(handles, labels)\n",
    "rax.set_xlabel(r\"$eta_{\\mu\\mu}$\")"
   ]
  },
  {
   "cell_type": "code",
   "execution_count": null,
   "id": "ee694a12-8a69-45f1-9e1c-2b2da5ac745c",
   "metadata": {},
   "outputs": [],
   "source": [
    "ax, rax = ratio_plot(output['matched_dimu_phi'], output['all_gen_dimu_phi'])\n",
    "\n",
    "handles, labels = ax.get_legend_handles_labels()\n",
    "labels = ['Gen Dimu', 'Matched Dimu']\n",
    "\n",
    "leg = ax.legend(handles, labels)\n",
    "rax.set_xlabel(r\"$\\phi_{\\mu\\mu}$\")"
   ]
  },
  {
   "cell_type": "code",
   "execution_count": null,
   "id": "5624d124-01ad-4bb4-8873-4789a1e96feb",
   "metadata": {},
   "outputs": [],
   "source": [
    "ax, rax = ratio_plot(output['matched_muon_pt'], output['gen_muon_pt'])\n",
    "\n",
    "handles, labels = ax.get_legend_handles_labels()\n",
    "labels = ['Gen Muon', 'Matched Muon']\n",
    "\n",
    "leg = ax.legend(handles, labels)\n",
    "rax.set_xlabel(r\"$p_{T,\\mu}$\")\n"
   ]
  },
  {
   "cell_type": "code",
   "execution_count": null,
   "id": "1ff95b6e-1eb3-4a88-83c8-1e4a90495729",
   "metadata": {},
   "outputs": [],
   "source": [
    "ax, rax = ratio_plot(output['matched_muon_eta'], output['gen_muon_eta'])\n",
    "\n",
    "handles, labels = ax.get_legend_handles_labels()\n",
    "labels = ['Gen Muon', 'Matched Muon']\n",
    "\n",
    "leg = ax.legend(handles, labels)\n",
    "rax.set_xlabel(r\"$\\eta_{\\mu}$\")\n",
    "\n",
    "ax.set_xlim(-2.6,2.6)"
   ]
  },
  {
   "cell_type": "code",
   "execution_count": null,
   "id": "7287782b-f0f5-4c3b-9220-1ff3675ce96e",
   "metadata": {},
   "outputs": [],
   "source": [
    "ax, rax = ratio_plot(output['matched_muon_phi'], output['gen_muon_phi'])\n",
    "\n",
    "handles, labels = ax.get_legend_handles_labels()\n",
    "labels = ['Gen Muon','Matched Muon']\n",
    "\n",
    "leg = ax.legend(handles, labels)\n",
    "rax.set_xlabel(r\"$\\phi_{\\mu}$\")"
   ]
  },
  {
   "cell_type": "code",
   "execution_count": null,
   "id": "4c4b37bd-5e52-47cf-8786-3ba7ba0a037c",
   "metadata": {},
   "outputs": [],
   "source": [
    "ax, rax = ratio_plot(output['matched_muon_pt'], output['all_gen_muon_pt'])\n",
    "\n",
    "handles, labels = ax.get_legend_handles_labels()\n",
    "labels = ['Gen Muon',  'Matched Muon']\n",
    "\n",
    "leg = ax.legend(handles, labels)\n",
    "rax.set_xlabel(r\"$p_{T,\\mu} [GeV]$\")"
   ]
  },
  {
   "cell_type": "code",
   "execution_count": null,
   "id": "51f3fa79-bf76-467a-9974-d60aa9685838",
   "metadata": {},
   "outputs": [],
   "source": [
    "ax, rax = ratio_plot(output['matched_muon_eta'], output['all_gen_muon_eta'])\n",
    "\n",
    "handles, labels = ax.get_legend_handles_labels()\n",
    "labels = ['Gen Muon', 'Matched Muon']\n",
    "\n",
    "leg = ax.legend(handles, labels)\n",
    "rax.set_xlabel(r\"$\\eta_{\\mu}$\")"
   ]
  },
  {
   "cell_type": "code",
   "execution_count": null,
   "id": "fde8aab5-0500-4261-81a7-31a1afcc4159",
   "metadata": {},
   "outputs": [],
   "source": [
    "ax, rax = ratio_plot(output['matched_muon_phi'], output['all_gen_muon_phi'])\n",
    "\n",
    "handles, labels = ax.get_legend_handles_labels()\n",
    "labels = ['Gen Muon', 'Matched Muon']\n",
    "\n",
    "leg = ax.legend(handles, labels)\n",
    "rax.set_xlabel(r\"$\\phi_{\\mu}$\")"
   ]
  },
  {
   "cell_type": "code",
   "execution_count": null,
   "id": "44aea6e0-8169-4eed-b315-b811a478a234",
   "metadata": {},
   "outputs": [],
   "source": [
    "ax = hist.plot2d(output['gen_muon_2d_pt'], xaxis='pt1')\n"
   ]
  },
  {
   "cell_type": "code",
   "execution_count": null,
   "id": "6fda5d80-7b8a-4f07-a019-230df0f52a2f",
   "metadata": {},
   "outputs": [],
   "source": [
    "from matplotlib.patches import Rectangle\n",
    "ax = hist.plot2d(output['gen_muon_2d_eta'], xaxis='eta1')\n",
    "eta_acceptance = Rectangle((-2.5, -2.5), 5., 5., linewidth=2, ls='--', edgecolor='r', facecolor='none')\n",
    "ax.add_patch(eta_acceptance)"
   ]
  },
  {
   "cell_type": "code",
   "execution_count": 45,
   "id": "a06a8242-2a96-4842-a0c4-9c671e072e6a",
   "metadata": {},
   "outputs": [
    {
     "name": "stderr",
     "output_type": "stream",
     "text": [
      "/afs/cern.ch/user/m/mabarros/miniconda3/envs/OniaOpenCharmRun2ULenv/lib/python3.8/site-packages/coffea/hist/plot.py:423: RuntimeWarning: divide by zero encountered in true_divide\n",
      "  rsumw = sumw_num / sumw_denom\n",
      "/afs/cern.ch/user/m/mabarros/miniconda3/envs/OniaOpenCharmRun2ULenv/lib/python3.8/site-packages/coffea/hist/plot.py:423: RuntimeWarning: invalid value encountered in true_divide\n",
      "  rsumw = sumw_num / sumw_denom\n",
      "/afs/cern.ch/user/m/mabarros/miniconda3/envs/OniaOpenCharmRun2ULenv/lib/python3.8/site-packages/coffea/hist/plot.py:435: RuntimeWarning: divide by zero encountered in true_divide\n",
      "  poisson_interval(rsumw, sumw2_num / sumw_denom ** 2) - rsumw\n",
      "/afs/cern.ch/user/m/mabarros/miniconda3/envs/OniaOpenCharmRun2ULenv/lib/python3.8/site-packages/coffea/hist/plot.py:435: RuntimeWarning: invalid value encountered in true_divide\n",
      "  poisson_interval(rsumw, sumw2_num / sumw_denom ** 2) - rsumw\n",
      "/afs/cern.ch/user/m/mabarros/miniconda3/envs/OniaOpenCharmRun2ULenv/lib/python3.8/site-packages/coffea/hist/plot.py:38: RuntimeWarning: invalid value encountered in true_divide\n",
      "  scale[sumw != 0] = sumw2[sumw != 0] / sumw[sumw != 0]\n",
      "/afs/cern.ch/user/m/mabarros/miniconda3/envs/OniaOpenCharmRun2ULenv/lib/python3.8/site-packages/coffea/hist/plot.py:452: RuntimeWarning: invalid value encountered in true_divide\n",
      "  denom_unc = poisson_interval(unity, sumw2_denom / sumw_denom ** 2)\n"
     ]
    },
    {
     "data": {
      "text/plain": [
       "Text(1, 0, '$p_{T,D*}$')"
      ]
     },
     "execution_count": 45,
     "metadata": {},
     "output_type": "execute_result"
    },
    {
     "data": {
      "image/png": "[encoded data removed]",
      "text/plain": [
       "<Figure size 720x720 with 2 Axes>"
      ]
     },
     "metadata": {
      "needs_background": "light"
     },
     "output_type": "display_data"
    }
   ],
   "source": [
    "######################################## D* section ########################################\n",
    "\n",
    "ax, rax = ratio_plot(output['matched_dstar_pt'], output['gen_dstar_pt'])\n",
    "\n",
    "handles, labels = ax.get_legend_handles_labels()\n",
    "labels = ['Gen D*', 'Matched D*']\n",
    "\n",
    "leg = ax.legend(handles, labels)\n",
    "rax.set_xlabel(r\"$p_{T,D*}$\")"
   ]
  },
  {
   "cell_type": "code",
   "execution_count": 128,
   "id": "5b618803-48b8-4630-a873-f0cfcab64bcd",
   "metadata": {},
   "outputs": [
    {
     "name": "stderr",
     "output_type": "stream",
     "text": [
      "/afs/cern.ch/user/m/mabarros/miniconda3/envs/OniaOpenCharmRun2ULenv/lib/python3.8/site-packages/coffea/hist/plot.py:423: RuntimeWarning: invalid value encountered in true_divide\n",
      "  rsumw = sumw_num / sumw_denom\n",
      "/afs/cern.ch/user/m/mabarros/miniconda3/envs/OniaOpenCharmRun2ULenv/lib/python3.8/site-packages/coffea/hist/plot.py:435: RuntimeWarning: invalid value encountered in true_divide\n",
      "  poisson_interval(rsumw, sumw2_num / sumw_denom ** 2) - rsumw\n",
      "/afs/cern.ch/user/m/mabarros/miniconda3/envs/OniaOpenCharmRun2ULenv/lib/python3.8/site-packages/coffea/hist/plot.py:452: RuntimeWarning: invalid value encountered in true_divide\n",
      "  denom_unc = poisson_interval(unity, sumw2_denom / sumw_denom ** 2)\n"
     ]
    },
    {
     "data": {
      "text/plain": [
       "Text(1, 0, '$\\\\eta_{D*}$')"
      ]
     },
     "execution_count": 128,
     "metadata": {},
     "output_type": "execute_result"
    },
    {
     "data": {
      "image/png": "[encoded data removed]",
      "text/plain": [
       "<Figure size 720x720 with 2 Axes>"
      ]
     },
     "metadata": {
      "needs_background": "light"
     },
     "output_type": "display_data"
    }
   ],
   "source": [
    "ax, rax = ratio_plot(output['matched_dstar_eta'], output['gen_dstar_eta'])\n",
    "\n",
    "handles, labels = ax.get_legend_handles_labels()\n",
    "labels = ['Gen D*', 'Matched D*']\n",
    "\n",
    "leg = ax.legend(handles, labels)\n",
    "rax.set_xlabel(r\"$\\eta_{D*}$\")"
   ]
  },
  {
   "cell_type": "code",
   "execution_count": 129,
   "id": "99e285bf-889d-4dc4-9451-cbeb538dae75",
   "metadata": {},
   "outputs": [
    {
     "name": "stderr",
     "output_type": "stream",
     "text": [
      "/afs/cern.ch/user/m/mabarros/miniconda3/envs/OniaOpenCharmRun2ULenv/lib/python3.8/site-packages/coffea/hist/plot.py:423: RuntimeWarning: invalid value encountered in true_divide\n",
      "  rsumw = sumw_num / sumw_denom\n",
      "/afs/cern.ch/user/m/mabarros/miniconda3/envs/OniaOpenCharmRun2ULenv/lib/python3.8/site-packages/coffea/hist/plot.py:435: RuntimeWarning: invalid value encountered in true_divide\n",
      "  poisson_interval(rsumw, sumw2_num / sumw_denom ** 2) - rsumw\n",
      "/afs/cern.ch/user/m/mabarros/miniconda3/envs/OniaOpenCharmRun2ULenv/lib/python3.8/site-packages/coffea/hist/plot.py:452: RuntimeWarning: invalid value encountered in true_divide\n",
      "  denom_unc = poisson_interval(unity, sumw2_denom / sumw_denom ** 2)\n"
     ]
    },
    {
     "data": {
      "text/plain": [
       "Text(1, 0, '$\\\\phi_{D*}$')"
      ]
     },
     "execution_count": 129,
     "metadata": {},
     "output_type": "execute_result"
    },
    {
     "data": {
      "image/png": "[encoded data removed]",
      "text/plain": [
       "<Figure size 720x720 with 2 Axes>"
      ]
     },
     "metadata": {
      "needs_background": "light"
     },
     "output_type": "display_data"
    }
   ],
   "source": [
    "ax, rax = ratio_plot(output['matched_dstar_phi'], output['gen_dstar_phi'])\n",
    "\n",
    "handles, labels = ax.get_legend_handles_labels()\n",
    "labels = ['Gen D*', 'Matched D*']\n",
    "\n",
    "leg = ax.legend(handles, labels)\n",
    "rax.set_xlabel(r\"$\\phi_{D*}$\")"
   ]
  },
  {
   "cell_type": "code",
   "execution_count": 120,
   "id": "a607e704-0bfc-4077-87e8-f788bf4fb1e6",
   "metadata": {},
   "outputs": [
    {
     "data": {
      "text/plain": [
       "Text(1, 0, '$p_{T,D*}$')"
      ]
     },
     "execution_count": 120,
     "metadata": {},
     "output_type": "execute_result"
    },
    {
     "data": {
      "image/png": "[encoded data removed]",
      "text/plain": [
       "<Figure size 720x720 with 2 Axes>"
      ]
     },
     "metadata": {
      "needs_background": "light"
     },
     "output_type": "display_data"
    }
   ],
   "source": [
    "ax, rax = ratio_plot(output['matched_dstar_pt'], output['all_gen_dstar_pt'])\n",
    "\n",
    "handles, labels = ax.get_legend_handles_labels()\n",
    "labels = ['Gen D*', 'Matched D*']\n",
    "\n",
    "leg = ax.legend(handles, labels)\n",
    "rax.set_xlabel(r\"$p_{T,D*}$\")"
   ]
  },
  {
   "cell_type": "code",
   "execution_count": 122,
   "id": "0192bac7-ea70-43ce-942b-e0c5f0699094",
   "metadata": {},
   "outputs": [
    {
     "data": {
      "text/plain": [
       "Text(1, 0, '$\\\\eta_{D*}$')"
      ]
     },
     "execution_count": 122,
     "metadata": {},
     "output_type": "execute_result"
    },
    {
     "data": {
      "image/png": "[encoded data removed]",
      "text/plain": [
       "<Figure size 720x720 with 2 Axes>"
      ]
     },
     "metadata": {
      "needs_background": "light"
     },
     "output_type": "display_data"
    }
   ],
   "source": [
    "ax, rax = ratio_plot(output['matched_dstar_eta'], output['all_gen_dstar_eta'])\n",
    "\n",
    "handles, labels = ax.get_legend_handles_labels()\n",
    "labels = ['Gen D*', 'Matched D*']\n",
    "\n",
    "leg = ax.legend(handles, labels)\n",
    "rax.set_xlabel(r\"$\\eta_{D*}$\")"
   ]
  },
  {
   "cell_type": "code",
   "execution_count": 123,
   "id": "7f4c0057-67fc-4563-9c9a-706e6666bbe5",
   "metadata": {},
   "outputs": [
    {
     "name": "stderr",
     "output_type": "stream",
     "text": [
      "/afs/cern.ch/user/m/mabarros/miniconda3/envs/OniaOpenCharmRun2ULenv/lib/python3.8/site-packages/coffea/hist/plot.py:423: RuntimeWarning: invalid value encountered in true_divide\n",
      "  rsumw = sumw_num / sumw_denom\n",
      "/afs/cern.ch/user/m/mabarros/miniconda3/envs/OniaOpenCharmRun2ULenv/lib/python3.8/site-packages/coffea/hist/plot.py:435: RuntimeWarning: invalid value encountered in true_divide\n",
      "  poisson_interval(rsumw, sumw2_num / sumw_denom ** 2) - rsumw\n",
      "/afs/cern.ch/user/m/mabarros/miniconda3/envs/OniaOpenCharmRun2ULenv/lib/python3.8/site-packages/coffea/hist/plot.py:452: RuntimeWarning: invalid value encountered in true_divide\n",
      "  denom_unc = poisson_interval(unity, sumw2_denom / sumw_denom ** 2)\n"
     ]
    },
    {
     "data": {
      "text/plain": [
       "Text(1, 0, '$\\\\phi_{D*}$')"
      ]
     },
     "execution_count": 123,
     "metadata": {},
     "output_type": "execute_result"
    },
    {
     "data": {
      "image/png": "[encoded data removed]",
      "text/plain": [
       "<Figure size 720x720 with 2 Axes>"
      ]
     },
     "metadata": {
      "needs_background": "light"
     },
     "output_type": "display_data"
    }
   ],
   "source": [
    "ax, rax = ratio_plot(output['matched_dstar_phi'], output['all_gen_dstar_phi'])\n",
    "\n",
    "handles, labels = ax.get_legend_handles_labels()\n",
    "labels = ['Gen D*', 'Matched D*']\n",
    "\n",
    "leg = ax.legend(handles, labels)\n",
    "rax.set_xlabel(r\"$\\phi_{D*}$\")"
   ]
  },
  {
   "cell_type": "code",
   "execution_count": 124,
   "id": "50b0395d-6da9-4331-862d-0c5e3a62e238",
   "metadata": {},
   "outputs": [
    {
     "data": {
      "text/plain": [
       "<AxesSubplot:xlabel='$\\\\Delta m_{D*}$ all', ylabel='Events'>"
      ]
     },
     "execution_count": 124,
     "metadata": {},
     "output_type": "execute_result"
    },
    {
     "data": {
      "image/png": "[encoded data removed]",
      "text/plain": [
       "<Figure size 720x720 with 1 Axes>"
      ]
     },
     "metadata": {
      "needs_background": "light"
     },
     "output_type": "display_data"
    }
   ],
   "source": [
    "create_plot1d(output['all_dstar_deltamr'])"
   ]
  },
  {
   "cell_type": "code",
   "execution_count": 125,
   "id": "d2c81051-347f-470b-8986-aa789c7a35ca",
   "metadata": {},
   "outputs": [
    {
     "data": {
      "text/plain": [
       "<AxesSubplot:xlabel='$\\\\Delta m_{D*}$ matched', ylabel='Events'>"
      ]
     },
     "execution_count": 125,
     "metadata": {},
     "output_type": "execute_result"
    },
    {
     "data": {
      "image/png": "[encoded data removed]",
      "text/plain": [
       "<Figure size 720x720 with 1 Axes>"
      ]
     },
     "metadata": {
      "needs_background": "light"
     },
     "output_type": "display_data"
    }
   ],
   "source": [
    "create_plot1d(output['matched_dstar_deltamr'])"
   ]
  },
  {
   "cell_type": "code",
   "execution_count": 126,
   "id": "616bd2cd-ac89-48f8-816a-b75e5254ccc4",
   "metadata": {},
   "outputs": [
    {
     "ename": "KeyError",
     "evalue": "()",
     "output_type": "error",
     "traceback": [
      "\u001b[0;31m---------------------------------------------------------------------------\u001b[0m",
      "\u001b[0;31mKeyError\u001b[0m                                  Traceback (most recent call last)",
      "\u001b[0;32m/tmp/mabarros/ipykernel_2930/3947656533.py\u001b[0m in \u001b[0;36m<module>\u001b[0;34m\u001b[0m\n\u001b[0;32m----> 1\u001b[0;31m \u001b[0mcreate_plot1d\u001b[0m\u001b[0;34m(\u001b[0m\u001b[0moutput\u001b[0m\u001b[0;34m[\u001b[0m\u001b[0;34m\"matched_dimu_mass\"\u001b[0m\u001b[0;34m]\u001b[0m\u001b[0;34m)\u001b[0m\u001b[0;34m\u001b[0m\u001b[0;34m\u001b[0m\u001b[0m\n\u001b[0m",
      "\u001b[0;32m/tmp/mabarros/ipykernel_2930/3984034104.py\u001b[0m in \u001b[0;36mcreate_plot1d\u001b[0;34m(hist1d, log, density, ax)\u001b[0m\n\u001b[1;32m     14\u001b[0m     }\n\u001b[1;32m     15\u001b[0m \u001b[0;34m\u001b[0m\u001b[0m\n\u001b[0;32m---> 16\u001b[0;31m     \u001b[0max\u001b[0m \u001b[0;34m=\u001b[0m \u001b[0mhist\u001b[0m\u001b[0;34m.\u001b[0m\u001b[0mplot1d\u001b[0m\u001b[0;34m(\u001b[0m\u001b[0mhist1d\u001b[0m\u001b[0;34m,\u001b[0m \u001b[0max\u001b[0m\u001b[0;34m=\u001b[0m\u001b[0max\u001b[0m\u001b[0;34m,\u001b[0m \u001b[0mfill_opts\u001b[0m\u001b[0;34m=\u001b[0m\u001b[0mfill_opts\u001b[0m\u001b[0;34m,\u001b[0m \u001b[0mdensity\u001b[0m\u001b[0;34m=\u001b[0m\u001b[0mdensity\u001b[0m\u001b[0;34m)\u001b[0m\u001b[0;34m\u001b[0m\u001b[0;34m\u001b[0m\u001b[0m\n\u001b[0m\u001b[1;32m     17\u001b[0m \u001b[0;34m\u001b[0m\u001b[0m\n\u001b[1;32m     18\u001b[0m     \u001b[0;32mif\u001b[0m \u001b[0mlog\u001b[0m\u001b[0;34m:\u001b[0m\u001b[0;34m\u001b[0m\u001b[0;34m\u001b[0m\u001b[0m\n",
      "\u001b[0;32m~/miniconda3/envs/OniaOpenCharmRun2ULenv/lib/python3.8/site-packages/coffea/hist/plot.py\u001b[0m in \u001b[0;36mplot1d\u001b[0;34m(hist, ax, clear, overlay, stack, overflow, line_opts, fill_opts, error_opts, legend_opts, overlay_overflow, density, binwnorm, order)\u001b[0m\n\u001b[1;32m    249\u001b[0m         \u001b[0;32mfor\u001b[0m \u001b[0mi\u001b[0m\u001b[0;34m,\u001b[0m \u001b[0midentifier\u001b[0m \u001b[0;32min\u001b[0m \u001b[0menumerate\u001b[0m\u001b[0;34m(\u001b[0m\u001b[0midentifiers\u001b[0m\u001b[0;34m)\u001b[0m\u001b[0;34m:\u001b[0m\u001b[0;34m\u001b[0m\u001b[0;34m\u001b[0m\u001b[0m\n\u001b[1;32m    250\u001b[0m             \u001b[0;32mif\u001b[0m \u001b[0midentifier\u001b[0m \u001b[0;32mis\u001b[0m \u001b[0;32mNone\u001b[0m\u001b[0;34m:\u001b[0m\u001b[0;34m\u001b[0m\u001b[0;34m\u001b[0m\u001b[0m\n\u001b[0;32m--> 251\u001b[0;31m                 \u001b[0msumw\u001b[0m\u001b[0;34m,\u001b[0m \u001b[0msumw2\u001b[0m \u001b[0;34m=\u001b[0m \u001b[0mhist\u001b[0m\u001b[0;34m.\u001b[0m\u001b[0mvalues\u001b[0m\u001b[0;34m(\u001b[0m\u001b[0msumw2\u001b[0m\u001b[0;34m=\u001b[0m\u001b[0;32mTrue\u001b[0m\u001b[0;34m,\u001b[0m \u001b[0moverflow\u001b[0m\u001b[0;34m=\u001b[0m\u001b[0moverflow\u001b[0m\u001b[0;34m)\u001b[0m\u001b[0;34m[\u001b[0m\u001b[0;34m(\u001b[0m\u001b[0;34m)\u001b[0m\u001b[0;34m]\u001b[0m\u001b[0;34m\u001b[0m\u001b[0;34m\u001b[0m\u001b[0m\n\u001b[0m\u001b[1;32m    252\u001b[0m             \u001b[0;32melif\u001b[0m \u001b[0misinstance\u001b[0m\u001b[0;34m(\u001b[0m\u001b[0moverlay\u001b[0m\u001b[0;34m,\u001b[0m \u001b[0mSparseAxis\u001b[0m\u001b[0;34m)\u001b[0m\u001b[0;34m:\u001b[0m\u001b[0;34m\u001b[0m\u001b[0;34m\u001b[0m\u001b[0m\n\u001b[1;32m    253\u001b[0m                 sumw, sumw2 = hist.integrate(overlay, identifier).values(\n",
      "\u001b[0;31mKeyError\u001b[0m: ()"
     ]
    },
    {
     "data": {
      "image/png": "[encoded data removed]",
      "text/plain": [
       "<Figure size 720x720 with 1 Axes>"
      ]
     },
     "metadata": {
      "needs_background": "light"
     },
     "output_type": "display_data"
    }
   ],
   "source": [
    "create_plot1d(output[\"matched_dimu_mass\"])"
   ]
  },
  {
   "cell_type": "code",
   "execution_count": 127,
   "id": "4c5b0e24-58a8-4cbf-a4f6-2853b0b27244",
   "metadata": {},
   "outputs": [
    {
     "data": {
      "text/plain": [
       "<AxesSubplot:xlabel='$\\\\Delta m_{D*}$ matched', ylabel='Events'>"
      ]
     },
     "execution_count": 127,
     "metadata": {},
     "output_type": "execute_result"
    },
    {
     "data": {
      "image/png": "[encoded data removed]",
      "text/plain": [
       "<Figure size 720x720 with 1 Axes>"
      ]
     },
     "metadata": {
      "needs_background": "light"
     },
     "output_type": "display_data"
    }
   ],
   "source": [
    "create_plot1d(output[\"matched_dstar_deltamr\"])"
   ]
  },
  {
   "cell_type": "code",
   "execution_count": null,
   "id": "a66b0ec4-79fc-4619-aa5d-9bb7331b23f7",
   "metadata": {},
   "outputs": [],
   "source": []
  }
 ],
 "metadata": {
  "kernelspec": {
   "display_name": "Python 3 (ipykernel)",
   "language": "python",
   "name": "python3"
  },
  "language_info": {
   "codemirror_mode": {
    "name": "ipython",
    "version": 3
   },
   "file_extension": ".py",
   "mimetype": "text/x-python",
   "name": "python",
   "nbconvert_exporter": "python",
   "pygments_lexer": "ipython3",
   "version": "3.8.0"
  }
 },
 "nbformat": 4,
 "nbformat_minor": 5
}
