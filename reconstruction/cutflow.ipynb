{
 "cells": [
  {
   "cell_type": "code",
   "execution_count": 15,
   "id": "9eb27f72-61df-4590-9421-3ca28f616d6b",
   "metadata": {
    "tags": []
   },
   "outputs": [],
   "source": [
    "import time\n",
    "import os\n",
    "import csv\n",
    "import numba\n",
    "import math\n",
    "from coffea.nanoevents import BaseSchema\n",
    "\n",
    "import awkward as ak\n",
    "import numpy as np\n",
    "from coffea import processor, hist\n",
    "\n",
    "from coffea.nanoevents.methods import candidate\n",
    "ak.behavior.update(candidate.behavior)\n",
    "\n",
    "import mplhep\n",
    "import matplotlib.pyplot as plt\n",
    "plt.style.use(mplhep.style.CMS)\n",
    "\n",
    "# To import bot\n",
    "import sys\n",
    "\n",
    "sys.path.insert(1, '/afs/cern.ch/work/m/mabarros/public/CMSSW_10_6_12/src/OniaOpenCharmRun2ULAna/bot')\n",
    "\n",
    "import bot_config as bot"
   ]
  },
  {
   "cell_type": "code",
   "execution_count": 16,
   "id": "c6f8569c-5997-45f7-b85d-dbd598e84839",
   "metadata": {
    "tags": []
   },
   "outputs": [],
   "source": [
    "muon_cols = ['Muon_charge', 'Muon_dxy', 'Muon_dxyErr', 'Muon_dz', 'Muon_dzErr', 'Muon_eta', 'Muon_isGlobal', 'Muon_mass',\n",
    "             'Muon_phi', 'Muon_pt', 'Muon_ptErr', 'Muon_softId', 'Muon_vtxIdx', 'Muon_vtxFlag', 'Muon_simIdx']\n",
    "\n",
    "dimu_cols = ['Dimu_pt', 'Dimu_eta', 'Dimu_phi', 'Dimu_rap', 'Dimu_mass', 'Dimu_charge', 'Dimu_vtxIdx', 'Dimu_chi2', 'Dimu_dl',\n",
    "             'Dimu_dlErr', 'Dimu_dlSig', 'Dimu_cosphi', 'Dimu_x', 'Dimu_y', 'Dimu_z', 'Dimu_t1muIdx', 'Dimu_t2muIdx',]\n",
    "\n",
    "d0_cols = ['D0_pt', 'D0_eta', 'D0_phi', 'D0_rap', 'D0_mass12', 'D0_mass21', 'D0_vtxIdx', 'D0_chi2', 'D0_dl', 'D0_dlErr', 'D0_dlSig',\n",
    "           'D0_cosphi', 'D0_x', 'D0_y', 'D0_z', 'D0_hasMuon',\n",
    "           'D0_t1pt', 'D0_t1eta', 'D0_t1phi', 'D0_t1chindof', 'D0_t1nValid', 'D0_t1nPix', 'D0_t1dxy', 'D0_t1dz', 'D0_t1chg', \n",
    "           'D0_t2pt', 'D0_t2eta', 'D0_t2phi', 'D0_t2chindof', 'D0_t2nValid', 'D0_t2nPix', 'D0_t2dxy', 'D0_t2dz', 'D0_t2chg',]\n",
    "\n",
    "dstar_cols = ['Dstar_pt', 'Dstar_eta', 'Dstar_phi', 'Dstar_rap', 'Dstar_deltam', 'Dstar_deltamr', 'Dstar_vtxIdx', 'Dstar_hasMuon',\n",
    "              'Dstar_D0pt', 'Dstar_D0eta', 'Dstar_D0phi', 'Dstar_D0mass', 'Dstar_D0chi2', 'Dstar_D0dl', 'Dstar_D0dlErr',\n",
    "              'Dstar_D0dlSig', 'Dstar_D0cosphi', 'Dstar_D0x', 'Dstar_D0y', 'Dstar_D0z',\n",
    "              'Dstar_Kpt', 'Dstar_Keta', 'Dstar_Kphi', 'Dstar_KvtxIdx', 'Dstar_Kchindof', 'Dstar_KnValid', 'Dstar_KnPix', 'Dstar_Kdxy',\n",
    "              'Dstar_Kdz', 'Dstar_Kchg', 'Dstar_pipt', 'Dstar_pieta', 'Dstar_piphi', 'Dstar_pivtxIdx', 'Dstar_pichindof', 'Dstar_pinValid',\n",
    "              'Dstar_pinPix', 'Dstar_pidxy', 'Dstar_pidz', 'Dstar_pichg', 'Dstar_pispt', 'Dstar_piseta', 'Dstar_pisphi', 'Dstar_pisvtxIdx',\n",
    "              'Dstar_pischindof', 'Dstar_pisnValid', 'Dstar_pisnPix',\n",
    "              'Dstar_pisdxy', 'Dstar_pisdz', 'Dstar_simIdx', 'Dstar_D0simIdx',\n",
    "              'Dstar_pisisHighPurity', 'Dstar_piisHighPurity', 'Dstar_KisHighPurity']\n",
    "\n",
    "gen_part_cols = ['GenPart_eta', 'GenPart_genPartIdxMother', 'GenPart_mass', 'GenPart_pdgId', \"GenPart_phi\", \"GenPart_pt\", 'GenPart_status',\n",
    "                'GenPart_Id', 'GenPart_parpdgId', 'GenPart_sparpdgId', 'GenPart_numberOfDaughters', 'GenPart_nstchgdaug', 'GenPart_vx', \n",
    "                'GenPart_vy', 'GenPart_vz', 'GenPart_mvx', 'GenPart_mvy', 'GenPart_mvz', 'GenPart_recIdx']\n",
    "\n",
    "hlt_cols_charm_2017 = ['HLT_Dimuon0_Jpsi', 'HLT_Dimuon20_Jpsi_Barrel_Seagulls' , 'HLT_Dimuon25_Jpsi']\n",
    "\n",
    "D0_PDG_MASS = 1.864\n",
    "\n",
    "def get_vars_dict(events, col_list):\n",
    "    dict = {}\n",
    "    col = ''\n",
    "    for c in col_list:\n",
    "        if c.startswith('Muon'):\n",
    "            col = c[5:]\n",
    "        elif c.startswith('Dimu'):\n",
    "            col = c[4:]\n",
    "            if col.startswith('_'): col = col[1:]\n",
    "        elif c.startswith('D0'):\n",
    "            col = c[2:]\n",
    "            if col.startswith('_'): col = col[1:]\n",
    "        elif c.startswith('Dstar'):\n",
    "            col = c[5:]\n",
    "            if col.startswith('_'): col = col[1:]\n",
    "        elif c.startswith('PVtx'):\n",
    "            col = c[5:]\n",
    "        elif c.startswith(\"GenPart\"):\n",
    "            col = c[8:]\n",
    "        elif c.startswith('HLT'):\n",
    "            col = c[:]\n",
    "        else:\n",
    "            Exception('Not good!')\n",
    "\n",
    "        if col == 'x' or col == 'y' or col == 'z':\n",
    "            col = 'vtx_' + col\n",
    "\n",
    "        if len(events[c]) == 0:\n",
    "            dict[col] = np.array([])\n",
    "        else:\n",
    "            dict[col] = events[c]\n",
    "    return dict"
   ]
  },
  {
   "cell_type": "code",
   "execution_count": 17,
   "id": "518a89c4-b1db-4ee4-bafe-cd0a59572cab",
   "metadata": {
    "tags": []
   },
   "outputs": [],
   "source": [
    "def build_4mom_string(candidate):\n",
    "    return f'({candidate.pt:.2f}, {candidate.eta:.2f}, {candidate.phi:.2f}, {candidate.mass:.2f})'\n",
    "\n",
    "def to_cartesian(cand):\n",
    "    x = cand.pt*math.cos(cand.phi)\n",
    "    y = cand.pt*math.sin(cand.phi)\n",
    "    z = cand.pt*math.sinh(cand.eta)\n",
    "    t = math.sqrt(x*x + y*y + z*z + cand.mass*cand.mass)\n",
    "\n",
    "    return t, x, y, z\n",
    "\n",
    "def sum_cand(cand1, cand2):\n",
    "    t1, x1, y1, z1 = to_cartesian(cand1)\n",
    "    t2, x2, y2, z2 = to_cartesian(cand2)\n",
    "\n",
    "    tr = t1+t2\n",
    "    xr = x1+x2\n",
    "    yr = y1+y2\n",
    "    zr = z1+z2\n",
    "\n",
    "    r = math.sqrt(xr*xr + yr*yr + zr*zr)\n",
    "    pt = math.sqrt(xr*xr + yr*yr)\n",
    "    eta = math.asinh(zr / r)\n",
    "    phi = math.atan2(yr, xr)\n",
    "    mass = math.sqrt(tr*tr - xr*xr - yr*yr - zr*zr)\n",
    "\n",
    "    return f'({pt:.2f},{eta:.2f},{phi:.2f},{mass:.2f})'\n",
    "\n",
    "\n",
    "def print_candidate(candidate):\n",
    "    quadrimom = build_4mom_string(candidate)\n",
    "    print(f\"PDGId: {candidate.pdgId}, motherId: {candidate.genPartIdxMother}, n_daughters: {candidate.numberOfDaughters}, status: {candidate.status}, 4-momentum (pt, eta, phi, mass): {quadrimom}\")"
   ]
  },
  {
   "cell_type": "code",
   "execution_count": 18,
   "id": "4afc3f1b-5871-46e4-ac51-30e2cc47f166",
   "metadata": {
    "tags": []
   },
   "outputs": [],
   "source": [
    "import re\n",
    "\n",
    "files = []\n",
    "#pth0 = \"/eos/user/m/mabarros/Monte_Carlo/2017/0000\"\n",
    "pth0 = \"/eos/user/m/mabarros/Monte_Carlo/2017_improved_cuts/0000\"\n",
    "with os.scandir(pth0) as it:\n",
    "    for file in it:\n",
    "        if file.name.endswith('.root') and (file.stat().st_size != 0):\n",
    "            files.append(file.path)\n",
    "#pth1 = \"/eos/user/m/mabarros/Monte_Carlo/2017/0001\"\n",
    "pth1 = \"/eos/user/m/mabarros/Monte_Carlo/2017_improved_cuts/0001\"\n",
    "with os.scandir(pth1) as it:\n",
    "    for file in it:\n",
    "        if file.name.endswith('.root') and (file.stat().st_size != 0):\n",
    "            files.append(file.path)\n",
    "\n",
    "            \n",
    "            \n",
    "def atoi(text):\n",
    "    return int(text) if text.isdigit() else text\n",
    "\n",
    "def natural_keys(text):\n",
    "    '''\n",
    "    alist.sort(key=natural_keys) sorts in human order\n",
    "    http://nedbatchelder.com/blog/200712/human_sorting.html\n",
    "    (See Toothy's implementation in the comments)\n",
    "    '''\n",
    "    return [ atoi(c) for c in re.split(r'(\\d+)', text) ]\n",
    "            \n",
    "files.sort(key=natural_keys)"
   ]
  },
  {
   "cell_type": "code",
   "execution_count": 19,
   "id": "d48a4a44-ba53-4a1b-8896-55ad06f7b8e7",
   "metadata": {
    "tags": []
   },
   "outputs": [],
   "source": [
    "def ratio_plot(hist_reco, hist_mc):\n",
    "    fill_opts = {\n",
    "    'edgecolor': (0,0,0,0.3),\n",
    "    'alpha': 0.8\n",
    "    }\n",
    "    error_opts_1 = {\n",
    "        'facecolor': 'none',\n",
    "        'edgecolor': (0,0,0,.5),\n",
    "        'linewidth': 0\n",
    "    }\n",
    "    data_err_opts = {\n",
    "        'linestyle': 'none',\n",
    "        'marker': '.',\n",
    "        'markersize': 10.,\n",
    "        'color': 'k',\n",
    "        'elinewidth': 1,\n",
    "    }\n",
    "    \n",
    "    error_opts_2 = {\n",
    "        'facecolor': 'none',\n",
    "        'linewidth': 0,\n",
    "    }\n",
    "    \n",
    "    fig, (ax, rax) = plt.subplots(\n",
    "    nrows=2,\n",
    "    ncols=1,\n",
    "    figsize=(10,10),\n",
    "    gridspec_kw={\"height_ratios\": (3, 1)},\n",
    "    sharex=True\n",
    "    )\n",
    "    fig.subplots_adjust(hspace=.07)\n",
    "    \n",
    "    # plot the MC first\n",
    "    hist.plot1d(\n",
    "        hist_mc,\n",
    "        ax=ax,\n",
    "        clear=False,\n",
    "        stack=False,\n",
    "        line_opts=None,\n",
    "        fill_opts=fill_opts,\n",
    "        error_opts=error_opts_1\n",
    "    )\n",
    "    hist.plot1d(\n",
    "        hist_reco,\n",
    "        ax=ax,\n",
    "        clear=False,\n",
    "        stack=False,\n",
    "        line_opts=None,\n",
    "        fill_opts=fill_opts,\n",
    "        error_opts=error_opts_2\n",
    "    )\n",
    "    \n",
    "    ax.autoscale(axis='x', tight=True)\n",
    "    ax.set_xlabel(\"\")\n",
    "    leg = ax.legend()\n",
    "    \n",
    "    hist.plotratio(\n",
    "    num=hist_reco,\n",
    "    denom=hist_mc,\n",
    "    ax=rax,\n",
    "    error_opts=data_err_opts,\n",
    "    denom_fill_opts={},\n",
    "    guide_opts={},\n",
    "    unc='num'\n",
    "    )\n",
    "    rax.set_ylabel('Ratio')\n",
    "    rax.set_ylim(0,2)\n",
    "    \n",
    "    return ax, rax"
   ]
  },
  {
   "cell_type": "code",
   "execution_count": 20,
   "id": "c6823e0c-1cae-4293-9476-20c8cb9b5807",
   "metadata": {
    "tags": []
   },
   "outputs": [],
   "source": [
    "def create_plot1d(hist1d, log=False, ax=None):\n",
    "    lumi = \"x\"\n",
    "    \n",
    "    from matplotlib.offsetbox import AnchoredOffsetbox, TextArea\n",
    "    plt.style.use(mplhep.style.CMS)\n",
    "    plt.rcParams.update({\n",
    "        'font.size': 16,\n",
    "        'axes.titlesize': 18,\n",
    "        'axes.labelsize': 18,\n",
    "        'xtick.labelsize': 14,\n",
    "        'ytick.labelsize': 14\n",
    "    })\n",
    "    fill_opts = {\n",
    "    'alpha': 0.8,\n",
    "    'edgecolor':(0,0,0,.5)\n",
    "    }\n",
    "    \n",
    "    data_err_opts = {\n",
    "    'linestyle': 'none',\n",
    "    'marker': '.',\n",
    "    'markersize': 10.,\n",
    "    'color': 'k',\n",
    "    'elinewidth': 1,}\n",
    "\n",
    "    \n",
    "    ax = hist.plot1d(hist1d, ax=ax)#, error_opts=data_err_opts)\n",
    "    #mplhep.cms.label()\n",
    "    \n",
    "    \n",
    "    # CMS format\n",
    "    hfont = {'fontname':'Helvetica'}    \n",
    "    plt.text(0.17, 0.89, \"CMS\", fontdict=hfont,  fontweight='bold', fontsize = 20, transform=plt.gcf().transFigure)\n",
    "    plt.text(0.25, 0.89, \"Simulation\", fontdict=hfont, style='italic',fontsize = 20, transform=plt.gcf().transFigure)\n",
    "    '''CMS = plt.text(0.03, 0.93, \"CMS\",\n",
    "                  fontsize=22,\n",
    "                  fontweight='bold',\n",
    "                  horizontalalignment='left',\n",
    "                  verticalalignment='bottom',\n",
    "                  transform=ax.transAxes\n",
    "                 )\n",
    "    pre = plt.text(0.03, 0.88, \"Preliminary\",\n",
    "                  fontsize=19,\n",
    "                  fontstyle='italic',\n",
    "                  horizontalalignment='left',\n",
    "                  verticalalignment='bottom',\n",
    "                  transform=ax.transAxes\n",
    "                 )\n",
    "    lumi = plt.text(1., 1., r\"\" + lumi +  \"fb$^{-1}$ (13 TeV)\",\n",
    "                fontsize=18,\n",
    "                fontstyle='normal',\n",
    "                horizontalalignment='right',\n",
    "                verticalalignment='bottom',\n",
    "                transform=ax.transAxes\n",
    "               )'''\n",
    "\n",
    "    if log:\n",
    "        ax.set_yscale('log')\n",
    "        ax.set_ylim(1, None)\n",
    "    else:\n",
    "        ax.ticklabel_format(axis='y', style='sci', scilimits=(0,3), useMathText=True)\n",
    "    \n",
    "    axis = hist1d.axes()[0]\n",
    "    centers = axis.centers()\n",
    "    values = np.where(hist1d.values().get(()) < 0, 0, hist1d.values().get(()))\n",
    "    \n",
    "    # compute mean and std:\n",
    "    mean = np.sum(values*centers)/np.sum(values)\n",
    "    std = np.sqrt(np.sum(values*((centers - mean)**2))/np.sum(values))\n",
    "    \n",
    "    annotation = TextArea(f\"Total: {np.sum(values):.2e}\" \\\n",
    "                    + \"\\n\" + f\"Mean: {mean:.2e}\" \\\n",
    "                    + \"\\n\" + f\"Std: {std:.2e}\", textprops=dict(size=14))\n",
    "    \n",
    "    at = AnchoredOffsetbox('upper right', child=annotation)\n",
    "    at.patch.set_facecolor('None')\n",
    "    ax.add_artist(at)\n",
    "    \n",
    "    ax.legend().remove()\n",
    "    \n",
    "    return ax"
   ]
  },
  {
   "cell_type": "code",
   "execution_count": 21,
   "id": "2d090dc2-b7b7-4d35-b30b-025a14f55d40",
   "metadata": {
    "tags": []
   },
   "outputs": [],
   "source": [
    "def plot_2d(hist_2d):\n",
    "    \n",
    "    # CMS style\n",
    "    import mplhep\n",
    "    import matplotlib.pyplot as plt\n",
    "    \n",
    "    plt.style.use(mplhep.style.CMS)\n",
    "    \n",
    "    # Create figure\n",
    "    fig = plt.figure()\n",
    "    ax = fig.add_subplot()\n",
    "    \n",
    "    # plot\n",
    "    hist.plot2d(hist_2d, xaxis='dstar_pt', ax=ax)\n",
    "    mplhep.cms.label(ax=ax)\n",
    "    "
   ]
  },
  {
   "cell_type": "code",
   "execution_count": 22,
   "id": "8cd6ca23-b4bd-4ffa-a310-21a581a0a373",
   "metadata": {
    "tags": []
   },
   "outputs": [],
   "source": [
    "def association(cand1, cand2):\n",
    "    ''' Function for association of the particles. The cuts that operates on all of them and \n",
    "    computation of quantities can go here. individual cuts can go on the main processing'''\n",
    "    \n",
    "    asso = ak.cartesian([cand1, cand2])\n",
    "    asso = asso[asso.slot0.slot0.vtxIdx == asso.slot1.slot0.vtxIdx]\n",
    "    asso = asso[ak.num(asso) > 0]\n",
    "    \n",
    "    cand1 = ak.zip({\n",
    "            'pt': asso.slot0.slot0.pt,\n",
    "            'eta': asso.slot0.slot0.eta,\n",
    "            'phi': asso.slot0.slot0.phi,\n",
    "            'mass': asso.slot0.slot0.mass,\n",
    "            'charge': asso.slot0.slot0.charge}, with_name=\"PtEtaPhiMCandidate\")\n",
    "    \n",
    "    gen_cand1 = ak.zip({\n",
    "            'pt': asso.slot0.slot1.pt,\n",
    "            'eta': asso.slot0.slot1.eta,\n",
    "            'phi': asso.slot0.slot1.phi,\n",
    "            'mass': asso.slot0.slot1.mass,\n",
    "            'charge': asso.slot0.slot0.charge}, with_name=\"PtEtaPhiMCandidate\")\n",
    "\n",
    "    cand2 = ak.zip({\n",
    "            'pt': asso.slot1.slot0.pt,\n",
    "            'eta': asso.slot1.slot0.eta,\n",
    "            'phi': asso.slot1.slot0.phi,\n",
    "            'mass': asso.slot1.slot0.mass,\n",
    "            'charge': asso.slot1.slot0.charge}, with_name=\"PtEtaPhiMCandidate\")\n",
    "    \n",
    "    gen_cand2 = ak.zip({\n",
    "            'pt': asso.slot1.slot1.pt,\n",
    "            'eta': asso.slot1.slot1.eta,\n",
    "            'phi': asso.slot1.slot1.phi,\n",
    "            'mass': asso.slot1.slot1.mass,\n",
    "            'charge': asso.slot1.slot0.charge}, with_name=\"PtEtaPhiMCandidate\")\n",
    "    \n",
    "    cand1['rap'] = np.log((cand1.t+cand1.z)/(cand1.t-cand1.z))/2.\n",
    "    cand2['rap'] = np.log((cand2.t+cand2.z)/(cand2.t-cand2.z))/2.\n",
    "    gen_cand1['rap'] = np.log((gen_cand1.t+gen_cand1.z)/(gen_cand1.t-gen_cand1.z))/2.\n",
    "    gen_cand2['rap'] = np.log((gen_cand2.t+gen_cand2.z)/(gen_cand2.t-gen_cand2.z))/2.\n",
    "    \n",
    "    '''if len(cand1) > 0:\n",
    "        print(f'{cand1.t}, {cand1.z}')\n",
    "        print(f\"{asso.slot0.slot0.rap}, {cand1['rap']}, {gen_cand1['rap']}\")\n",
    "        print(f'{cand2.t}, {cand2.z}')\n",
    "        print(f\"{asso.slot1.slot0.rap}, {cand2['rap']}, {gen_cand2['rap']}\")\n",
    "        print(\"---------------------------------\")'''\n",
    "    \n",
    "    \n",
    "    asso['deltarap'] = cand1.rap - cand2.rap\n",
    "    asso['deltapt'] = cand1.pt - cand2.pt\n",
    "    asso['deltaeta'] = cand1.eta - cand2.eta\n",
    "    asso['deltaphi'] = cand1.phi - cand2.phi\n",
    "    \n",
    "    asso['gen_deltarap'] = gen_cand1.rap - gen_cand2.rap\n",
    "    asso['gen_deltapt'] = gen_cand1.pt - gen_cand2.pt\n",
    "    asso['gen_deltaeta'] = gen_cand1.eta - gen_cand2.eta\n",
    "    asso['gen_deltaphi'] = gen_cand1.phi - gen_cand2.phi\n",
    "    \n",
    "    asso['cand'] = cand1 + cand2\n",
    "    asso['gen_cand'] = gen_cand1 + gen_cand2\n",
    "    \n",
    "    return asso"
   ]
  },
  {
   "cell_type": "code",
   "execution_count": 23,
   "id": "568d6894-a8f7-4ce6-a530-7219b7bd97d6",
   "metadata": {},
   "outputs": [],
   "source": [
    "class GenTestProcessor(processor.ProcessorABC):\n",
    "    def __init__(self):\n",
    "        self._accumulator = processor.dict_accumulator({\n",
    "            'cutflow': processor.defaultdict_accumulator(int),\n",
    "            'n_matched_dimu': processor.value_accumulator(int),\n",
    "            'n_reco_dimu': processor.value_accumulator(int),\n",
    "            'n_gen_dimu': processor.value_accumulator(int),\n",
    "            'n_pass_dimu': processor.value_accumulator(int),\n",
    "            'n_double_counting_dimu': processor.value_accumulator(int),\n",
    "            'n_matched_muon': processor.value_accumulator(int),\n",
    "            'n_reco_muon': processor.value_accumulator(int),\n",
    "            'n_gen_muon': processor.value_accumulator(int),\n",
    "            'n_pass_muon': processor.value_accumulator(int),\n",
    "            'n_matched_dstar': processor.value_accumulator(int),\n",
    "            'n_reco_dstar': processor.value_accumulator(int),\n",
    "            'n_pass_dstar': processor.value_accumulator(int),\n",
    "            'n_gen_dstar': processor.value_accumulator(int),\n",
    "            'n_double_counting_dstar': processor.value_accumulator(int),\n",
    "            'matched_dimu_pt': hist.Hist(\"Events\", hist.Bin(\"pt\", r\"$p_{T,J/\\Psi}$ matched [GeV]\", 40, 0, 100)),\n",
    "            'matched_dimu_eta': hist.Hist(\"Events\", hist.Bin(\"eta\", r\"$\\eta_{J/\\Psi} matched$\", 60, -4, 4)),\n",
    "            'matched_dimu_phi': hist.Hist(\"Events\", hist.Bin(\"phi\", r\"$\\phi_{J/\\Psi} matched [rad]$\", 60, -3.5, 3.5)),\n",
    "            'matched_dimu_mass': hist.Hist(\"Events\", hist.Bin(\"mass\", r\"$mass_{J/\\Psi} matched [GeV]$\", 100, 2.95, 3.25)),\n",
    "            'gen_dimu_pt': hist.Hist(\"Events\", hist.Bin(\"pt\", r\"$p_{T,J/\\Psi} gen [GeV]$\", 40, 0, 100)),\n",
    "            'gen_dimu_eta': hist.Hist(\"Events\", hist.Bin(\"eta\", r\"$\\eta_{J/\\Psi} gen$\", 60, -4, 4)),\n",
    "            'gen_dimu_phi': hist.Hist(\"Events\", hist.Bin(\"phi\", r\"$\\phi_{J/\\Psi}$ gen [rad]\", 60, -3.5, 3.5)),\n",
    "            'gen_dimu_mass': hist.Hist(\"Events\", hist.Bin(\"mass\", r\"$mass_{J/\\Psi} gen [GeV]$\", 100, 2.95, 3.25)),\n",
    "            'all_gen_dimu_pt': hist.Hist(\"Events\", hist.Bin(\"pt\", r\"$p_{T,J/\\Psi} all gen [GeV]\", 40, 0, 80)),\n",
    "            'all_gen_dimu_eta': hist.Hist(\"Events\", hist.Bin(\"eta\", r\"$\\eta_{J/\\Psi} all gen$\", 60, -4, 4)),\n",
    "            'all_gen_dimu_phi': hist.Hist(\"Events\", hist.Bin(\"phi\", r\"$\\phi_{J/\\Psi}$ all gen [rad]\", 60, -3.5, 3.5)),\n",
    "            'all_gen_dimu_mass': hist.Hist(\"Events\", hist.Bin(\"mass\", r\"$mass_{J/\\Psi} all gen$ [GeV]\", 100, 2.95, 3.25)),\n",
    "            'all_dimu_pt': hist.Hist(\"Events\", hist.Bin(\"pt\", r\"$p_{T,J/\\Psi} all$ [GeV]\", 40, 0, 80)),\n",
    "            'all_dimu_eta': hist.Hist(\"Events\", hist.Bin(\"eta\", r\"$\\eta_{J/\\Psi} all$\", 60, -4, 4)),\n",
    "            'all_dimu_phi': hist.Hist(\"Events\", hist.Bin(\"phi\", r\"$\\phi_{J/\\Psi} all [rad]$ [rad]\", 60, -3.5, 3.5)),\n",
    "            'all_dimu_mass': hist.Hist(\"Events\", hist.Bin(\"mass\", r\"$mass_{J/\\Psi [GeV]} all [GeV]$\", 100, 2.95, 3.25)),\n",
    "            'matched_muon_pt': hist.Hist(\"Events\", hist.Bin(\"pt\", r\"$p_{T,\\mu}$ matched [GeV]\", 50, 0, 25)),\n",
    "            'matched_muon_eta': hist.Hist(\"Events\", hist.Bin(\"eta\", r\"$\\eta_{\\mu} matched$\", 60, -10, 10)),\n",
    "            'matched_muon_phi': hist.Hist(\"Events\", hist.Bin(\"phi\", r\"$\\phi_{\\mu} matched [rad]$\", 60, -3.5, 3.5)),\n",
    "            'gen_muon_pt': hist.Hist(\"Events\", hist.Bin(\"pt\", r\"$p_{T,\\mu} gen [GeV]$\", 50, 0, 25)),\n",
    "            'gen_muon_eta': hist.Hist(\"Events\", hist.Bin(\"eta\", r\"$\\eta_{\\mu} gen$\", 60, -10, 10)),\n",
    "            'gen_muon_phi': hist.Hist(\"Events\", hist.Bin(\"phi\", r\"$\\phi_{\\mu}$ gen [rad]\", 60, -3.5, 3.5)),\n",
    "            'all_gen_muon_pt': hist.Hist(\"Events\", hist.Bin(\"pt\", r\"$p_{T,\\mu} all gen [GeV]\", 50, 0, 25)),\n",
    "            'all_gen_muon_eta': hist.Hist(\"Events\", hist.Bin(\"eta\", r\"$\\eta_{\\mu} all gen$\", 60, -10, 10)),\n",
    "            'all_gen_muon_phi': hist.Hist(\"Events\", hist.Bin(\"phi\", r\"$\\phi_{\\mu}$ all gen [rad]\", 60, -3.5, 3.5)),\n",
    "            'all_muon_pt': hist.Hist(\"Events\", hist.Bin(\"pt\", r\"$p_{T,\\mu} all [GeV]$\", 50, 0, 25)),\n",
    "            'all_muon_eta': hist.Hist(\"Events\", hist.Bin(\"eta\", r\"$\\eta_{\\mu} all$\", 60, -10, 10)),\n",
    "            'all_muon_phi': hist.Hist(\"Events\", hist.Bin(\"phi\", r\"$\\phi_{\\mu} all [rad]$\", 60, -3.5, 3.5)),\n",
    "            'gen_muon_2d_pt': hist.Hist(\"Events\", \n",
    "                                     hist.Bin(\"pt1\", r\"$p_{T, 1st \\mu}$\", 50, 0, 25), \n",
    "                                     hist.Bin(\"pt2\", r\"$p_{T, 2nd \\mu}$\", 50, 0, 25)),\n",
    "            'gen_muon_2d_eta': hist.Hist(\"Events\",\n",
    "                                         hist.Bin(\"eta1\", r\"$\\eta_{1st \\mu}$\", 60, -10, 10),\n",
    "                                         hist.Bin(\"eta2\", r\"$\\eta_{2nd \\mu}$\", 60, -10, 10)),\n",
    "            'matched_dstar_pt': hist.Hist(\"Events\", hist.Bin(\"pt\", r\"$p_{T,D*} matched$\", 40, 0, 20)),\n",
    "            'matched_dstar_eta': hist.Hist(\"Events\", hist.Bin(\"eta\", r\"$\\eta_{D*} matched$\", 60, -4, 4)),\n",
    "            'matched_dstar_phi': hist.Hist(\"Events\", hist.Bin(\"phi\", r\"$\\phi_{D*}$ matched\", 60, -3.5, 3.5)),\n",
    "            'matched_dstar_deltamr': hist.Hist(\"Events\", hist.Bin(\"deltamr\", \"$\\Delta m_{D*}$ matched\", 50, 0.138, 0.162)),\n",
    "            'gen_dstar_pt': hist.Hist(\"Events\", hist.Bin(\"pt\", r\"$p_{T,D*} gen$\", 40, 0, 20)),\n",
    "            'gen_dstar_eta': hist.Hist(\"Events\", hist.Bin(\"eta\", r\"$\\eta_{D*} gen$\", 60, -4, 4)),\n",
    "            'gen_dstar_phi': hist.Hist(\"Events\", hist.Bin(\"phi\", r\"$\\phi_{D*}$ gen\", 60, -3.5, 3.5)),\n",
    "            'all_gen_dstar_pt': hist.Hist(\"Events\", hist.Bin(\"pt\", r\"$p_{T,D*} all gen$\", 40, 0, 20)),\n",
    "            'all_gen_dstar_eta': hist.Hist(\"Events\", hist.Bin(\"eta\", r\"$\\eta_{D*} all gen$\", 60, -4, 4)),\n",
    "            'all_gen_dstar_phi': hist.Hist(\"Events\", hist.Bin(\"phi\", r\"$\\phi_{D*}$ all gen\", 60, -3.5, 3.5)),\n",
    "            'all_dstar_pt': hist.Hist(\"Events\", hist.Bin(\"pt\", r\"$p_{T,D*} all$\", 40, 0, 20)),\n",
    "            'all_dstar_eta': hist.Hist(\"Events\", hist.Bin(\"eta\", r\"$\\eta_{D*} all$\", 60, -4, 4)),\n",
    "            'all_dstar_phi': hist.Hist(\"Events\", hist.Bin(\"phi\", r\"$\\phi_{D*}$ all\", 60, -3.5, 3.5)),\n",
    "            'all_dstar_deltamr': hist.Hist(\"Events\", hist.Bin(\"deltamr\", \"$\\Delta m_{D*}$ all\", 50, 0.138, 0.162)),\n",
    "            'all_dstar_D0cosphi' : hist.Hist(\"Events\", hist.Bin(\"cosphi\", r\"$cos(\\alpha)$\", 800, -1, 1)),\n",
    "            \n",
    "            'gen_dstar_dimu' : hist.Hist(\"Events\", \n",
    "                                   hist.Bin(\"dstar_pt\", r\"$p_{T, gen D*} [GeV]$\", 45, 0, 15),\n",
    "                                   hist.Bin(\"dimu_pt\", r\"$p_{T, gen J/\\Psi}$ [GeV]\", 60, 0, 30)),\n",
    "            \n",
    "            'reco_dstar_dimu' : hist.Hist(\"Events\", \n",
    "                                   hist.Bin(\"dstar_pt\", r\"$p_{T, reco D*} [GeV]$\", 45, 0, 15),\n",
    "                                   hist.Bin(\"dimu_pt\", r\"$p_{T, reco J/\\Psi}$ [GeV]\", 60, 0, 30)),\n",
    "            \n",
    "            #################### Dstar-muon not finished ####################\n",
    "            'gen_dstar_mu' : hist.Hist(\"Events\", \n",
    "                                   hist.Bin(\"dstar_pt\", r\"$p_{T, gen D*} [GeV]$\", 45, 0, 15),\n",
    "                                   hist.Bin(\"muon_pt\", r\"$p_{T, gen \\mu} [GeV]$\", 50, 0, 25)),\n",
    "            \n",
    "            'reco_dstar_mu' : hist.Hist(\"Events\", \n",
    "                                   hist.Bin(\"dstar_pt\", r\"$p_{T, reco D*} [GeV]$\", 45, 0, 15),\n",
    "                                   hist.Bin(\"muon_pt\", r\"$p_{T, reco \\mu} [GeV]$\", 50, 0, 25)),\n",
    "            \n",
    "            #################### NEW!! Associated ####################\n",
    "            \n",
    "            ## Associated Dstar\n",
    "            'asso_dstar_deltamr': hist.Hist(\"Events\", hist.Bin(\"deltamr\", \"$\\Delta m_{D*}$ asso\", 25, 0.138, 0.162)),\n",
    "            'asso_dstar_pt': hist.Hist(\"Events\", hist.Bin(\"pt\", r\"$p_{T,D*} asso$\", 20, 0, 20)),\n",
    "            'asso_dstar_eta': hist.Hist(\"Events\", hist.Bin(\"eta\", r\"$\\eta_{D*} asso$\", 30, -4, 4)),\n",
    "            'asso_dstar_phi': hist.Hist(\"Events\", hist.Bin(\"phi\", r\"$\\phi_{D*}$ asso\", 30, -3.5, 3.5)),\n",
    "            \n",
    "            'Dstar_D0cosphi' : hist.Hist(\"Events\", hist.Bin(\"cosphi\", r\"$cos(\\alpha)$\", 100, -1, 1)),\n",
    "            \n",
    "            ## Associated Jpsi\n",
    "            'asso_dimu_mass': hist.Hist(\"Events\", hist.Bin(\"mass\", r\"$mass_{J/\\Psi} asso [GeV]$\", 50, 2.95, 3.25)),\n",
    "            'asso_dimu_pt': hist.Hist(\"Events\", hist.Bin(\"pt\", r\"$p_{T,J/\\Psi} asso$ [GeV]\", 20, 0, 80)),\n",
    "            'asso_dimu_eta': hist.Hist(\"Events\", hist.Bin(\"eta\", r\"$\\eta_{J/\\Psi} asso$\", 30, -4, 4)),\n",
    "            'asso_dimu_phi': hist.Hist(\"Events\", hist.Bin(\"phi\", r\"$\\phi_{J/\\Psi} asso$ [rad]\", 30, -3.5, 3.5)),\n",
    "            \n",
    "            ## Associated JpsiDstar\n",
    "            'JpsiDstar_deltarap': hist.Hist(\"Events\", hist.Bin(\"deltarap\", \"$\\Delta y$\", 25, -5, 5)),\n",
    "            'JpsiDstar_mass': hist.Hist(\"Events\", hist.Bin(\"mass\", \"$m_{J/\\psi D*}$ [GeV]\", 25, 0, 100)),\n",
    "            \n",
    "            \n",
    "            \n",
    "        })\n",
    "\n",
    "    @property\n",
    "    def accumulator(self):\n",
    "        return self._accumulator\n",
    "\n",
    "    def process(self, events):\n",
    "        output = self.accumulator.identity()\n",
    "        \n",
    "        # test if there is any events in the file\n",
    "        if len(events) == 0:\n",
    "            return output\n",
    "        \n",
    "        # Collection extraction\n",
    "        Dimus = ak.zip({**get_vars_dict(events, dimu_cols)}, with_name=\"PtEtaPhiMCandidate\")\n",
    "        Muons = ak.zip({**get_vars_dict(events, muon_cols)}, with_name=\"PtEtaPhiMCandidate\")\n",
    "        Dstars = ak.zip({'mass': (events.Dstar_D0mass + events.Dstar_deltamr),\n",
    "                        'charge': events.Dstar_pischg,\n",
    "                        **get_vars_dict(events, dstar_cols)}, \n",
    "                        with_name=\"PtEtaPhiMCandidate\")\n",
    "        \n",
    "        output['cutflow']['Number of events'] += len(events)\n",
    "        output['cutflow']['Number of initial Dimuons'] += ak.sum(ak.num(Dimus))\n",
    "        output['cutflow']['Number of initial Muons'] += ak.sum(ak.num(Muons))\n",
    "        \n",
    "        # Triggers for 2017 charmonium\n",
    "        try:\n",
    "            hlt_char_2017 = ak.zip({**get_vars_dict(events, hlt_cols_charm_2017)})\n",
    "        except:\n",
    "            hlt_char_2017 = ak.zip({\"HLT_2017\" : \"HLT_2017\"})\n",
    "        \n",
    "        ##### Trigger cut\n",
    "\n",
    "        # Activate trigger\n",
    "        hlt = False\n",
    "        # HLT to be used\n",
    "        hlt_filter = 'HLT_Dimuon0_Jpsi'\n",
    "\n",
    "        # Trigger choice\n",
    "        if hlt:\n",
    "            trigger_cut = hlt_char_2017[hlt_filter]\n",
    "            hlt_char_2017 = hlt_char_2017[hlt_filter]\n",
    "                \n",
    "        if not hlt:\n",
    "            #print(\"You are not running with trigger\")\n",
    "            # Assign 1 to all events.\n",
    "            trigger_cut = np.ones(len(Dimus), dtype=bool)\n",
    "            \n",
    "        # Trigger filter\n",
    "        Dimu = Dimus[trigger_cut]\n",
    "        Muon = Muons[trigger_cut]\n",
    "        Dstar = Dstars[trigger_cut]\n",
    "        \n",
    "        ## Rec dimuon cuts\n",
    "        \n",
    "        # Dimu charge = 0 cut\n",
    "        if 'like_charge_dimuon' in cut_list:\n",
    "            Dimu = Dimus[Dimu.charge == 0]\n",
    "        output['cutflow']['Dimu 0 charge'] += ak.sum(ak.num(Dimu))\n",
    "        \n",
    "        # Jpsi mass range cut\n",
    "        if 'jpsi_mass' in cut_list:\n",
    "            Dimu = Dimu[(Dimu.mass > 2.95) & (Dimu.mass < 3.25)]\n",
    "        output['cutflow']['Jpsi mass'] += ak.sum(ak.num(Dimu))\n",
    "\n",
    "        # Get the Muons from Dimu, for cuts in their params\n",
    "        Muon = ak.zip({'0': Muons[Dimu.t1muIdx], '1': Muons[Dimu.t2muIdx]})\n",
    "        \n",
    "        ## Rec muon cuts\n",
    "        \n",
    "        # Muon softId cuts\n",
    "        if 'soft_id' in cut_list:\n",
    "            soft_id = (Muon.slot0.softId > 0) & (Muon.slot1.softId > 0)\n",
    "            Dimu = Dimu[soft_id]\n",
    "            Muon = Muon[soft_id]\n",
    "        output['cutflow']['Dimu muon softId'] += ak.sum(ak.num(Dimu))\n",
    "\n",
    "        # Muon pt cut\n",
    "        if 'muon_pt' in cut_list:\n",
    "            muon_pt_cut = (Muon.slot0.pt > 3) & (Muon.slot1.pt > 3)\n",
    "            Dimu = Dimu[muon_pt_cut]\n",
    "            Muon = Muon[muon_pt_cut]\n",
    "        output['cutflow']['Dimu muon pt cut'] += ak.sum(ak.num(Dimu))\n",
    "        \n",
    "        # Muon eta cut\n",
    "        if 'muon_eta' in cut_list:\n",
    "            muon_eta_cut = (np.absolute(Muon.slot0.eta) <= 2.4) & (np.absolute(Muon.slot1.eta) <= 2.4)\n",
    "            Dimu = Dimu[muon_eta_cut]\n",
    "            Muon = Muon[muon_eta_cut]  \n",
    "        output['cutflow']['Dimu before gen match'] += ak.sum(ak.num(Dimu))\n",
    "        \n",
    "        # Number of events with muons.\n",
    "        evts_with_muon = Muon[ak.num(Muon) > 0]\n",
    "        output['cutflow']['Number of evts with Muon'] += len(evts_with_muon)\n",
    "    \n",
    "        ## Cuts for Dstar\n",
    "        \n",
    "        # Dstar has not muon cut\n",
    "        if 'dstar_hasmuon' in cut_list:\n",
    "            Dstar = Dstars[~Dstars.hasMuon]\n",
    "        output['cutflow']['Dstar trk muon cut'] += ak.sum(ak.num(Dstar))\n",
    "        \n",
    "        # Dstar trk pt cut\n",
    "        if 'dstar_trk_pt' in cut_list:\n",
    "            Dstar = Dstar[(Dstar.Kpt > 0.5) & (Dstar.pipt > 0.5)]\n",
    "        output['cutflow']['Dstar trk pt cut'] += ak.sum(ak.num(Dstar))\n",
    "\n",
    "        # Dstar trk chi2 cut\n",
    "        if 'dstar_trk_chindof' in cut_list:\n",
    "            Dstar = Dstar[(Dstar.Kchindof < 2.5) & (Dstar.pichindof < 2.5)]\n",
    "        output['cutflow']['Dstar chindof pt cut'] += ak.sum(ak.num(Dstar))\n",
    "\n",
    "        # Dstar trk hits cut\n",
    "        if 'dstar_trk_hits' in cut_list:\n",
    "            Dstar = Dstar[(Dstar.KnValid > 4) & (Dstar.pinValid > 4) & (Dstar.KnPix > 1) & (Dstar.pinPix > 1)]\n",
    "        output['cutflow']['Dstar trk hits cut'] += ak.sum(ak.num(Dstar))\n",
    "\n",
    "        # Dstar trk impact xy cut\n",
    "        if 'dstar_trk_impact_xy' in cut_list:\n",
    "            Dstar = Dstar[(Dstar.Kdxy < 0.1) & (Dstar.pidxy < 0.1)]\n",
    "        output['cutflow']['Dstar trk impact xy cut'] += ak.sum(ak.num(Dstar))\n",
    "\n",
    "        # Dstar trk impact z cut\n",
    "        if 'dstar_trk_impact_z' in cut_list:\n",
    "            Dstar = Dstar[(Dstar.Kdz < 1) & (Dstar.pidz < 1)]\n",
    "        output['cutflow']['Dstar trk impact z cut'] += ak.sum(ak.num(Dstar))\n",
    "\n",
    "        # Dstar pis pt\n",
    "        if 'dstar_pis_pt' in cut_list:\n",
    "            Dstar = Dstar[Dstar.pispt > 0.3]\n",
    "        output['cutflow']['Dstar pis pt cut'] += ak.sum(ak.num(Dstar))\n",
    "\n",
    "        # Dstar pis chindof\n",
    "        if 'dstar_pis_chindof' in cut_list:\n",
    "            Dstar = Dstar[Dstar.pischindof < 3]\n",
    "        output['cutflow']['Dstar pis chi2 cut'] += ak.sum(ak.num(Dstar))\n",
    "\n",
    "        # Dstar pis nvalid\n",
    "        if 'dstar_pis_nvalid' in cut_list:\n",
    "            Dstar = Dstar[Dstar.pisnValid > 2]\n",
    "        output['cutflow']['Dstar pis hits cut'] += ak.sum(ak.num(Dstar))\n",
    "\n",
    "        # D0 of Dstar cosphi\n",
    "        if 'dstar_d0_cosphi' in cut_list:\n",
    "            Dstar = Dstar[Dstar.D0cosphi > 0.99]\n",
    "        output['cutflow']['Dstar D0 cosphi cut'] += ak.sum(ak.num(Dstar))\n",
    "\n",
    "        # D0 of Dstar mass\n",
    "        if 'dstar_d0_mass' in cut_list:\n",
    "            Dstar = Dstar[(Dstar.D0mass < D0_PDG_MASS + 0.028) & (Dstar.D0mass > D0_PDG_MASS - 0.028)]\n",
    "        output['cutflow']['Dstar D0 mass cut'] += ak.sum(ak.num(Dstar))\n",
    "\n",
    "        if 'dstar_d0_pt' in cut_list:\n",
    "            Dstar = Dstar[Dstar.D0pt > 4]\n",
    "        output['cutflow']['Dstar D0 pt cut'] += ak.sum(ak.num(Dstar))\n",
    "    \n",
    "        if 'dstar_d0_dlsig' in cut_list:\n",
    "            Dstar = Dstar[Dstar.D0dlSig > 3]\n",
    "        output['cutflow']['Dstar D0 dlSig cut'] += ak.sum(ak.num(Dstar))\n",
    "\n",
    "        Dstar['wrg_chg'] = (Dstar.Kchg == Dstar.pichg)\n",
    "        \n",
    "        if 'dstar_pt' in cut_list:\n",
    "            Dstar = Dstar[Dstar.pt > 4]\n",
    "        output['cutflow']['Dstar pt cut'] += ak.sum(ak.num(Dstar))\n",
    "        \n",
    "        if 'dstar_right_charge' in cut_list:\n",
    "            Dstar = Dstar[~Dstar.wrg_chg]\n",
    "        output['cutflow']['Dstar right charge cut'] += ak.sum(ak.num(Dstar))\n",
    "        \n",
    "        ## Dimu + Dstar\n",
    "        \n",
    "        asso = ak.cartesian([Dimu, Dstar]) \n",
    "        if 'association' in cut_list:\n",
    "            asso = asso[asso.slot0.vtxIdx == asso.slot1.vtxIdx]\n",
    "                \n",
    "        Dimu_asso = ak.zip({\n",
    "                   'pt': asso.slot0.pt,\n",
    "                   'eta': asso.slot0.eta,\n",
    "                   'phi': asso.slot0.phi,\n",
    "                   'mass': asso.slot0.mass,\n",
    "                   'charge': asso.slot0.charge}, with_name=\"PtEtaPhiMCandidate\")\n",
    "       \n",
    "        Dstar_asso = ak.zip({\n",
    "                    'pt': asso.slot1.pt,\n",
    "                    'eta': asso.slot1.eta,\n",
    "                    'phi': asso.slot1.phi,\n",
    "                    'mass': asso.slot1.deltamr,\n",
    "                    'charge': asso.slot1.charge}, with_name=\"PtEtaPhiMCandidate\")\n",
    "        \n",
    "        asso['deltarap'] = asso.slot0.rap - asso.slot1.rap\n",
    "        asso['cand'] = Dimu_asso + Dstar_asso\n",
    "        \n",
    "        DimuDstar = asso\n",
    "        \n",
    "        DimuDstar_p4 = ak.zip({'x': DimuDstar.cand.x, \n",
    "                               'y': DimuDstar.cand.y,\n",
    "                               'z': DimuDstar.cand.z,\n",
    "                               't': DimuDstar.cand.t}, with_name=\"LorentzVector\")\n",
    "        output['cutflow']['Number of DimuDstar'] += ak.sum(ak.num(DimuDstar))\n",
    "        output['cutflow']['Number of Associated Dstar'] += ak.sum(ak.num(Dstar_asso.mass))\n",
    "        \n",
    "        evts_with_dimudstar  = DimuDstar[ak.num(DimuDstar) > 0]\n",
    "        output['cutflow']['Number of evts with DimuDstar'] += len(evts_with_dimudstar)\n",
    "        \n",
    "        # Dstar\n",
    "        output['asso_dstar_deltamr'].fill(deltamr = ak.flatten(Dstar_asso.mass))\n",
    "        output['asso_dstar_pt'].fill(pt = ak.flatten(Dstar_asso.pt))\n",
    "        output['asso_dstar_eta'].fill(eta = ak.flatten(Dstar_asso.eta))\n",
    "        output['asso_dstar_phi'].fill(phi = ak.flatten(Dstar_asso.phi))\n",
    "        \n",
    "        # Jpsi\n",
    "        output['asso_dimu_mass'].fill(mass = ak.flatten(Dimu_asso.mass))\n",
    "        output['asso_dimu_pt'].fill(pt = ak.flatten(Dimu_asso.pt))\n",
    "        output['asso_dimu_eta'].fill(eta = ak.flatten(Dimu_asso.eta))\n",
    "        output['asso_dimu_phi'].fill(phi = ak.flatten(Dimu_asso.phi))\n",
    "        \n",
    "        # JpsiDstar\n",
    "        output['JpsiDstar_mass'].fill(mass = ak.flatten(DimuDstar_p4.mass))\n",
    "        output['JpsiDstar_deltarap'].fill(deltarap = ak.flatten(DimuDstar.deltarap))\n",
    "        \n",
    "        # Retrieves the associated dimuon\n",
    "        reco_dimu_plot = DimuDstar.slot0.slot0\n",
    "        # Retrieves the associated dstar\n",
    "        reco_dstar_plot = DimuDstar.slot1.slot0\n",
    "        \n",
    "        # Fills the histogram\n",
    "        output['reco_dstar_dimu'].fill(dstar_pt=ak.flatten(Dstar_asso.pt),\n",
    "                                       dimu_pt=ak.flatten(Dimu_asso.pt),)\n",
    "        \n",
    "        return output\n",
    "\n",
    "    def postprocess(self, accumulator):\n",
    "        return accumulator"
   ]
  },
  {
   "cell_type": "markdown",
   "id": "65bbb896-8d14-4004-b958-b9edd1fd1d0d",
   "metadata": {},
   "source": [
    "#  L0 - No cuts"
   ]
  },
  {
   "cell_type": "code",
   "execution_count": 24,
   "id": "fec199cc-2174-4623-a903-c32bae3257d8",
   "metadata": {},
   "outputs": [
    {
     "data": {
      "application/vnd.jupyter.widget-view+json": {
       "model_id": "21e8bf02c9ce42a0b4f2ccbb92c1352a",
       "version_major": 2,
       "version_minor": 0
      },
      "text/plain": [
       "Processing:   0%|          | 0/600 [00:00<?, ?chunk/s]"
      ]
     },
     "metadata": {},
     "output_type": "display_data"
    },
    {
     "name": "stdout",
     "output_type": "stream",
     "text": [
      "Process finished in: 472.15 s\n",
      "defaultdict_accumulator(<class 'int'>, {'Number of events': 6033, 'Number of initial Dimuons': 6865, 'Number of initial Muons': 36118, 'Dimu 0 charge': 6865, 'Jpsi mass': 6865, 'Dimu muon softId': 6865, 'Dimu muon pt cut': 6865, 'Dimu before gen match': 6865, 'Number of evts with Muon': 4625, 'Dstar trk muon cut': 1002236, 'Dstar trk pt cut': 1002236, 'Dstar chindof pt cut': 1002236, 'Dstar trk hits cut': 1002236, 'Dstar trk impact xy cut': 1002236, 'Dstar trk impact z cut': 1002236, 'Dstar pis pt cut': 1002236, 'Dstar pis chi2 cut': 1002236, 'Dstar pis hits cut': 1002236, 'Dstar D0 cosphi cut': 1002236, 'Dstar D0 mass cut': 1002236, 'Dstar D0 pt cut': 1002236, 'Dstar D0 dlSig cut': 1002236, 'Dstar pt cut': 1002236, 'Dstar right charge cut': 1002236, 'Number of DimuDstar': 1304281, 'Number of Associated Dstar': 1304281, 'Number of evts with DimuDstar': 4617})\n",
      "Bot informations: {'id': 5179895518, 'can_join_groups': True, 'is_bot': True, 'first_name': 'Snake', 'username': 'SnakeAnalysisbot', 'can_read_all_group_messages': False, 'supports_inline_queries': False}\n"
     ]
    }
   ],
   "source": [
    "data = {\"test\": files[0:600]}\n",
    "                      \n",
    "tstart = time.time()\n",
    "\n",
    "cut_list = []\n",
    "\n",
    "output_l0 = processor.run_uproot_job(data,\n",
    "                                    treename='Events',\n",
    "                                    processor_instance=GenTestProcessor(),\n",
    "                                    executor=processor.futures_executor, #iterative, futures\n",
    "                                    executor_args={\"schema\": BaseSchema, 'workers': 8, 'skipbadfiles': True},\n",
    "                                    chunksize=360000,\n",
    "                                    )\n",
    "\n",
    "print(f\"Process finished in: {time.time() - tstart:.2f} s\")\n",
    "print(output_l0['cutflow'])\n",
    "\n",
    "nevt_l0 = output_l0['cutflow']['Number of events']\n",
    "JpsiDstar_l0 = output_l0['cutflow']['Number of DimuDstar']\n",
    "nevts_with_jpsi_dstar_l0 = output_l0['cutflow']['Number of evts with DimuDstar']\n",
    "\n",
    "bot.bot_message(\"Process Finished: L0\")"
   ]
  },
  {
   "cell_type": "markdown",
   "id": "5494a36c-84fc-46a9-92a8-d289fb7a84cc",
   "metadata": {},
   "source": [
    "#  L1"
   ]
  },
  {
   "cell_type": "code",
   "execution_count": 25,
   "id": "08b9a2a2-0048-4430-bb61-304c057151a2",
   "metadata": {},
   "outputs": [
    {
     "data": {
      "application/vnd.jupyter.widget-view+json": {
       "model_id": "29978b78be3a4fb09b1a8dfefe88be96",
       "version_major": 2,
       "version_minor": 0
      },
      "text/plain": [
       "Processing:   0%|          | 0/600 [00:00<?, ?chunk/s]"
      ]
     },
     "metadata": {},
     "output_type": "display_data"
    },
    {
     "name": "stdout",
     "output_type": "stream",
     "text": [
      "Process finished in: 326.70 s\n",
      "defaultdict_accumulator(<class 'int'>, {'Number of events': 6033, 'Number of initial Dimuons': 6865, 'Number of initial Muons': 36118, 'Dimu 0 charge': 5534, 'Jpsi mass': 5534, 'Dimu muon softId': 5534, 'Dimu muon pt cut': 5534, 'Dimu before gen match': 5534, 'Number of evts with Muon': 4428, 'Dstar trk muon cut': 1002236, 'Dstar trk pt cut': 1002236, 'Dstar chindof pt cut': 1002236, 'Dstar trk hits cut': 1002236, 'Dstar trk impact xy cut': 1002236, 'Dstar trk impact z cut': 1002236, 'Dstar pis pt cut': 1002236, 'Dstar pis chi2 cut': 1002236, 'Dstar pis hits cut': 1002236, 'Dstar D0 cosphi cut': 1002236, 'Dstar D0 mass cut': 1002236, 'Dstar D0 pt cut': 1002236, 'Dstar D0 dlSig cut': 1002236, 'Dstar pt cut': 1002236, 'Dstar right charge cut': 1002236, 'Number of DimuDstar': 996743, 'Number of Associated Dstar': 996743, 'Number of evts with DimuDstar': 4420})\n",
      "Bot informations: {'id': 5179895518, 'can_join_groups': True, 'is_bot': True, 'first_name': 'Snake', 'username': 'SnakeAnalysisbot', 'can_read_all_group_messages': False, 'supports_inline_queries': False}\n"
     ]
    }
   ],
   "source": [
    "data = {\"test\": files[0:600]}\n",
    "                      \n",
    "tstart = time.time()\n",
    "\n",
    "cut_list = ['like_charge_dimuon']\n",
    "\n",
    "output_l1 = processor.run_uproot_job(data,\n",
    "                                    treename='Events',\n",
    "                                    processor_instance=GenTestProcessor(),\n",
    "                                    executor=processor.futures_executor, #iterative, futures\n",
    "                                    executor_args={\"schema\": BaseSchema, 'workers': 8, 'skipbadfiles': True},\n",
    "                                    chunksize=360000,\n",
    "                                    )\n",
    "\n",
    "print(f\"Process finished in: {time.time() - tstart:.2f} s\")\n",
    "print(output_l1['cutflow'])\n",
    "\n",
    "nevt_l1 = output_l1['cutflow']['Number of events']\n",
    "JpsiDstar_l1 = output_l1['cutflow']['Number of DimuDstar']\n",
    "nevts_with_jpsi_dstar_l1 = output_l1['cutflow']['Number of evts with DimuDstar']\n",
    "\n",
    "bot.bot_message(\"Process Finished: L1\")"
   ]
  },
  {
   "cell_type": "markdown",
   "id": "30b0a8c1-5afa-4f4b-930c-348193f4b02f",
   "metadata": {},
   "source": [
    "#  L2 - "
   ]
  },
  {
   "cell_type": "code",
   "execution_count": 26,
   "id": "425e4073-5999-467c-be50-a4486a3a92f5",
   "metadata": {},
   "outputs": [
    {
     "data": {
      "application/vnd.jupyter.widget-view+json": {
       "model_id": "9294d3d39cc14325bee0c45b3abf4234",
       "version_major": 2,
       "version_minor": 0
      },
      "text/plain": [
       "Processing:   0%|          | 0/600 [00:00<?, ?chunk/s]"
      ]
     },
     "metadata": {},
     "output_type": "display_data"
    },
    {
     "name": "stdout",
     "output_type": "stream",
     "text": [
      "Process finished in: 269.40 s\n",
      "defaultdict_accumulator(<class 'int'>, {'Number of events': 6033, 'Number of initial Dimuons': 6865, 'Number of initial Muons': 36118, 'Dimu 0 charge': 5534, 'Jpsi mass': 4371, 'Dimu muon softId': 4371, 'Dimu muon pt cut': 4371, 'Dimu before gen match': 4371, 'Number of evts with Muon': 4156, 'Dstar trk muon cut': 1002236, 'Dstar trk pt cut': 1002236, 'Dstar chindof pt cut': 1002236, 'Dstar trk hits cut': 1002236, 'Dstar trk impact xy cut': 1002236, 'Dstar trk impact z cut': 1002236, 'Dstar pis pt cut': 1002236, 'Dstar pis chi2 cut': 1002236, 'Dstar pis hits cut': 1002236, 'Dstar D0 cosphi cut': 1002236, 'Dstar D0 mass cut': 1002236, 'Dstar D0 pt cut': 1002236, 'Dstar D0 dlSig cut': 1002236, 'Dstar pt cut': 1002236, 'Dstar right charge cut': 1002236, 'Number of DimuDstar': 734046, 'Number of Associated Dstar': 734046, 'Number of evts with DimuDstar': 4148})\n",
      "Bot informations: {'id': 5179895518, 'can_join_groups': True, 'is_bot': True, 'first_name': 'Snake', 'username': 'SnakeAnalysisbot', 'can_read_all_group_messages': False, 'supports_inline_queries': False}\n"
     ]
    }
   ],
   "source": [
    "data = {\"test\": files[0:600]}\n",
    "                      \n",
    "tstart = time.time()\n",
    "\n",
    "cut_list = ['like_charge_dimuon', 'jpsi_mass']\n",
    "\n",
    "output_l2 = processor.run_uproot_job(data,\n",
    "                                    treename='Events',\n",
    "                                    processor_instance=GenTestProcessor(),\n",
    "                                    executor=processor.futures_executor, #iterative, futures\n",
    "                                    executor_args={\"schema\": BaseSchema, 'workers': 8, 'skipbadfiles': True},\n",
    "                                    chunksize=360000,\n",
    "                                    )\n",
    "\n",
    "print(f\"Process finished in: {time.time() - tstart:.2f} s\")\n",
    "print(output_l2['cutflow'])\n",
    "\n",
    "nevt_l2 = output_l2['cutflow']['Number of events']\n",
    "JpsiDstar_l2 = output_l2['cutflow']['Number of DimuDstar']\n",
    "nevts_with_jpsi_dstar_l2 = output_l2['cutflow']['Number of evts with DimuDstar']\n",
    "\n",
    "bot.bot_message(\"Process Finished: L2\")"
   ]
  },
  {
   "cell_type": "markdown",
   "id": "deb5bdf0-131a-4dc2-88a6-489a5ed533ca",
   "metadata": {},
   "source": [
    "#  L3 - "
   ]
  },
  {
   "cell_type": "code",
   "execution_count": 27,
   "id": "d82ddcc4-e155-46a7-ad67-36866a4a6c3d",
   "metadata": {},
   "outputs": [
    {
     "data": {
      "application/vnd.jupyter.widget-view+json": {
       "model_id": "a4015bc5ce6349809ec42147c532acab",
       "version_major": 2,
       "version_minor": 0
      },
      "text/plain": [
       "Processing:   0%|          | 0/600 [00:00<?, ?chunk/s]"
      ]
     },
     "metadata": {},
     "output_type": "display_data"
    },
    {
     "name": "stdout",
     "output_type": "stream",
     "text": [
      "Process finished in: 268.45 s\n",
      "defaultdict_accumulator(<class 'int'>, {'Number of events': 6033, 'Number of initial Dimuons': 6865, 'Number of initial Muons': 36118, 'Dimu 0 charge': 5534, 'Jpsi mass': 4371, 'Dimu muon softId': 4005, 'Dimu muon pt cut': 4005, 'Dimu before gen match': 4005, 'Number of evts with Muon': 3965, 'Dstar trk muon cut': 1002236, 'Dstar trk pt cut': 1002236, 'Dstar chindof pt cut': 1002236, 'Dstar trk hits cut': 1002236, 'Dstar trk impact xy cut': 1002236, 'Dstar trk impact z cut': 1002236, 'Dstar pis pt cut': 1002236, 'Dstar pis chi2 cut': 1002236, 'Dstar pis hits cut': 1002236, 'Dstar D0 cosphi cut': 1002236, 'Dstar D0 mass cut': 1002236, 'Dstar D0 pt cut': 1002236, 'Dstar D0 dlSig cut': 1002236, 'Dstar pt cut': 1002236, 'Dstar right charge cut': 1002236, 'Number of DimuDstar': 651210, 'Number of Associated Dstar': 651210, 'Number of evts with DimuDstar': 3957})\n",
      "Bot informations: {'id': 5179895518, 'can_join_groups': True, 'is_bot': True, 'first_name': 'Snake', 'username': 'SnakeAnalysisbot', 'can_read_all_group_messages': False, 'supports_inline_queries': False}\n"
     ]
    }
   ],
   "source": [
    "data = {\"test\": files[0:600]}\n",
    "                      \n",
    "tstart = time.time()\n",
    "\n",
    "cut_list = ['like_charge_dimuon', 'jpsi_mass', 'soft_id']\n",
    "\n",
    "output_l3 = processor.run_uproot_job(data,\n",
    "                                    treename='Events',\n",
    "                                    processor_instance=GenTestProcessor(),\n",
    "                                    executor=processor.futures_executor, #iterative, futures\n",
    "                                    executor_args={\"schema\": BaseSchema, 'workers': 8, 'skipbadfiles': True},\n",
    "                                    chunksize=360000,\n",
    "                                    )\n",
    "\n",
    "print(f\"Process finished in: {time.time() - tstart:.2f} s\")\n",
    "print(output_l3['cutflow'])\n",
    "\n",
    "nevt_l3 = output_l3['cutflow']['Number of events']\n",
    "JpsiDstar_l3 = output_l3['cutflow']['Number of DimuDstar']\n",
    "nevts_with_jpsi_dstar_l3 = output_l3['cutflow']['Number of evts with DimuDstar']\n",
    "\n",
    "bot.bot_message(\"Process Finished: L3\")"
   ]
  },
  {
   "cell_type": "markdown",
   "id": "0ffc85a1-bf4c-4c28-aafb-451429def3c4",
   "metadata": {},
   "source": [
    "#  L4 - "
   ]
  },
  {
   "cell_type": "code",
   "execution_count": 28,
   "id": "5f926c25-a9a0-4933-9014-e622ba3d0187",
   "metadata": {},
   "outputs": [
    {
     "data": {
      "application/vnd.jupyter.widget-view+json": {
       "model_id": "1803acad7e6e4a479453ddd6d28a99d9",
       "version_major": 2,
       "version_minor": 0
      },
      "text/plain": [
       "Processing:   0%|          | 0/600 [00:00<?, ?chunk/s]"
      ]
     },
     "metadata": {},
     "output_type": "display_data"
    },
    {
     "name": "stdout",
     "output_type": "stream",
     "text": [
      "Process finished in: 269.86 s\n",
      "defaultdict_accumulator(<class 'int'>, {'Number of events': 6033, 'Number of initial Dimuons': 6865, 'Number of initial Muons': 36118, 'Dimu 0 charge': 5534, 'Jpsi mass': 4371, 'Dimu muon softId': 4005, 'Dimu muon pt cut': 3250, 'Dimu before gen match': 3250, 'Number of evts with Muon': 3249, 'Dstar trk muon cut': 1002236, 'Dstar trk pt cut': 1002236, 'Dstar chindof pt cut': 1002236, 'Dstar trk hits cut': 1002236, 'Dstar trk impact xy cut': 1002236, 'Dstar trk impact z cut': 1002236, 'Dstar pis pt cut': 1002236, 'Dstar pis chi2 cut': 1002236, 'Dstar pis hits cut': 1002236, 'Dstar D0 cosphi cut': 1002236, 'Dstar D0 mass cut': 1002236, 'Dstar D0 pt cut': 1002236, 'Dstar D0 dlSig cut': 1002236, 'Dstar pt cut': 1002236, 'Dstar right charge cut': 1002236, 'Number of DimuDstar': 525275, 'Number of Associated Dstar': 525275, 'Number of evts with DimuDstar': 3242})\n",
      "Bot informations: {'id': 5179895518, 'can_join_groups': True, 'is_bot': True, 'first_name': 'Snake', 'username': 'SnakeAnalysisbot', 'can_read_all_group_messages': False, 'supports_inline_queries': False}\n"
     ]
    }
   ],
   "source": [
    "data = {\"test\": files[0:600]}\n",
    "                      \n",
    "tstart = time.time()\n",
    "\n",
    "cut_list = ['like_charge_dimuon', 'jpsi_mass', 'soft_id', 'muon_pt']\n",
    "\n",
    "output_l4 = processor.run_uproot_job(data,\n",
    "                                    treename='Events',\n",
    "                                    processor_instance=GenTestProcessor(),\n",
    "                                    executor=processor.futures_executor, #iterative, futures\n",
    "                                    executor_args={\"schema\": BaseSchema, 'workers': 8, 'skipbadfiles': True},\n",
    "                                    chunksize=360000,\n",
    "                                    )\n",
    "\n",
    "print(f\"Process finished in: {time.time() - tstart:.2f} s\")\n",
    "print(output_l4['cutflow'])\n",
    "\n",
    "nevt_l4 = output_l4['cutflow']['Number of events']\n",
    "JpsiDstar_l4 = output_l4['cutflow']['Number of DimuDstar']\n",
    "nevts_with_jpsi_dstar_l4 = output_l4['cutflow']['Number of evts with DimuDstar']\n",
    "\n",
    "bot.bot_message(\"Process Finished: L4\")"
   ]
  },
  {
   "cell_type": "markdown",
   "id": "27e72c1b-e2c8-4c6a-aaaf-b09220d458d0",
   "metadata": {},
   "source": [
    "#  L5 - "
   ]
  },
  {
   "cell_type": "code",
   "execution_count": 29,
   "id": "5df40ae1-f69c-4798-b2d5-7d31cde16b25",
   "metadata": {},
   "outputs": [
    {
     "data": {
      "application/vnd.jupyter.widget-view+json": {
       "model_id": "3eefc7e7f23b42168ed76ea381a7a97e",
       "version_major": 2,
       "version_minor": 0
      },
      "text/plain": [
       "Processing:   0%|          | 0/600 [00:00<?, ?chunk/s]"
      ]
     },
     "metadata": {},
     "output_type": "display_data"
    },
    {
     "name": "stdout",
     "output_type": "stream",
     "text": [
      "Process finished in: 273.72 s\n",
      "defaultdict_accumulator(<class 'int'>, {'Number of events': 6033, 'Number of initial Dimuons': 6865, 'Number of initial Muons': 36118, 'Dimu 0 charge': 5534, 'Jpsi mass': 4371, 'Dimu muon softId': 4005, 'Dimu muon pt cut': 3250, 'Dimu before gen match': 3212, 'Number of evts with Muon': 3211, 'Dstar trk muon cut': 1002236, 'Dstar trk pt cut': 1002236, 'Dstar chindof pt cut': 1002236, 'Dstar trk hits cut': 1002236, 'Dstar trk impact xy cut': 1002236, 'Dstar trk impact z cut': 1002236, 'Dstar pis pt cut': 1002236, 'Dstar pis chi2 cut': 1002236, 'Dstar pis hits cut': 1002236, 'Dstar D0 cosphi cut': 1002236, 'Dstar D0 mass cut': 1002236, 'Dstar D0 pt cut': 1002236, 'Dstar D0 dlSig cut': 1002236, 'Dstar pt cut': 1002236, 'Dstar right charge cut': 1002236, 'Number of DimuDstar': 519762, 'Number of Associated Dstar': 519762, 'Number of evts with DimuDstar': 3204})\n",
      "Bot informations: {'id': 5179895518, 'can_join_groups': True, 'is_bot': True, 'first_name': 'Snake', 'username': 'SnakeAnalysisbot', 'can_read_all_group_messages': False, 'supports_inline_queries': False}\n"
     ]
    }
   ],
   "source": [
    "data = {\"test\": files[0:600]}\n",
    "                      \n",
    "tstart = time.time()\n",
    "\n",
    "cut_list = ['like_charge_dimuon', 'jpsi_mass', 'soft_id', 'muon_pt', 'muon_eta']\n",
    "\n",
    "output_l5 = processor.run_uproot_job(data,\n",
    "                                    treename='Events',\n",
    "                                    processor_instance=GenTestProcessor(),\n",
    "                                    executor=processor.futures_executor, #iterative, futures\n",
    "                                    executor_args={\"schema\": BaseSchema, 'workers': 8, 'skipbadfiles': True},\n",
    "                                    chunksize=360000,\n",
    "                                    )\n",
    "\n",
    "print(f\"Process finished in: {time.time() - tstart:.2f} s\")\n",
    "print(output_l5['cutflow'])\n",
    "\n",
    "nevt_l5 = output_l5['cutflow']['Number of events']\n",
    "JpsiDstar_l5 = output_l5['cutflow']['Number of DimuDstar']\n",
    "nevts_with_jpsi_dstar_l5 = output_l5['cutflow']['Number of evts with DimuDstar']\n",
    "\n",
    "bot.bot_message(\"Process Finished: L5\")"
   ]
  },
  {
   "cell_type": "markdown",
   "id": "fa1db6ef-bfe4-461d-9dba-6c36b1a38171",
   "metadata": {},
   "source": [
    "#  L6 - "
   ]
  },
  {
   "cell_type": "code",
   "execution_count": 30,
   "id": "cdc8481b-4d5c-4d9d-b690-b935c5077cab",
   "metadata": {},
   "outputs": [
    {
     "data": {
      "application/vnd.jupyter.widget-view+json": {
       "model_id": "6bd89a50bad343d0ae68f03434279166",
       "version_major": 2,
       "version_minor": 0
      },
      "text/plain": [
       "Processing:   0%|          | 0/600 [00:00<?, ?chunk/s]"
      ]
     },
     "metadata": {},
     "output_type": "display_data"
    },
    {
     "name": "stdout",
     "output_type": "stream",
     "text": [
      "Process finished in: 268.38 s\n",
      "defaultdict_accumulator(<class 'int'>, {'Number of events': 6033, 'Number of initial Dimuons': 6865, 'Number of initial Muons': 36118, 'Dimu 0 charge': 5534, 'Jpsi mass': 4371, 'Dimu muon softId': 4005, 'Dimu muon pt cut': 3250, 'Dimu before gen match': 3212, 'Number of evts with Muon': 3211, 'Dstar trk muon cut': 974716, 'Dstar trk pt cut': 974716, 'Dstar chindof pt cut': 974716, 'Dstar trk hits cut': 974716, 'Dstar trk impact xy cut': 974716, 'Dstar trk impact z cut': 974716, 'Dstar pis pt cut': 974716, 'Dstar pis chi2 cut': 974716, 'Dstar pis hits cut': 974716, 'Dstar D0 cosphi cut': 974716, 'Dstar D0 mass cut': 974716, 'Dstar D0 pt cut': 974716, 'Dstar D0 dlSig cut': 974716, 'Dstar pt cut': 974716, 'Dstar right charge cut': 974716, 'Number of DimuDstar': 505464, 'Number of Associated Dstar': 505464, 'Number of evts with DimuDstar': 3204})\n",
      "Bot informations: {'id': 5179895518, 'can_join_groups': True, 'is_bot': True, 'first_name': 'Snake', 'username': 'SnakeAnalysisbot', 'can_read_all_group_messages': False, 'supports_inline_queries': False}\n"
     ]
    }
   ],
   "source": [
    "data = {\"test\": files[0:600]}\n",
    "                      \n",
    "tstart = time.time()\n",
    "\n",
    "cut_list = ['like_charge_dimuon', 'jpsi_mass', 'soft_id', 'muon_pt', 'muon_eta', 'dstar_hasmuon']\n",
    "\n",
    "output_l6 = processor.run_uproot_job(data,\n",
    "                                    treename='Events',\n",
    "                                    processor_instance=GenTestProcessor(),\n",
    "                                    executor=processor.futures_executor, #iterative, futures\n",
    "                                    executor_args={\"schema\": BaseSchema, 'workers': 8, 'skipbadfiles': True},\n",
    "                                    chunksize=360000,\n",
    "                                    )\n",
    "\n",
    "print(f\"Process finished in: {time.time() - tstart:.2f} s\")\n",
    "print(output_l6['cutflow'])\n",
    "\n",
    "nevt_l6 = output_l6['cutflow']['Number of events']\n",
    "JpsiDstar_l6 = output_l6['cutflow']['Number of DimuDstar']\n",
    "nevts_with_jpsi_dstar_l6 = output_l6['cutflow']['Number of evts with DimuDstar']\n",
    "\n",
    "bot.bot_message(\"Process Finished: L6\")"
   ]
  },
  {
   "cell_type": "markdown",
   "id": "cd7530d2-52f4-4681-8028-02f413dfaedf",
   "metadata": {},
   "source": [
    "#  L7 - "
   ]
  },
  {
   "cell_type": "code",
   "execution_count": 31,
   "id": "35766488-212f-42b4-9317-8091c7fb2c0e",
   "metadata": {},
   "outputs": [
    {
     "data": {
      "application/vnd.jupyter.widget-view+json": {
       "model_id": "c7cf56d029a04c47821abec73216214d",
       "version_major": 2,
       "version_minor": 0
      },
      "text/plain": [
       "Processing:   0%|          | 0/600 [00:00<?, ?chunk/s]"
      ]
     },
     "metadata": {},
     "output_type": "display_data"
    },
    {
     "name": "stdout",
     "output_type": "stream",
     "text": [
      "Process finished in: 270.45 s\n",
      "defaultdict_accumulator(<class 'int'>, {'Number of events': 6033, 'Number of initial Dimuons': 6865, 'Number of initial Muons': 36118, 'Dimu 0 charge': 5534, 'Jpsi mass': 4371, 'Dimu muon softId': 4005, 'Dimu muon pt cut': 3250, 'Dimu before gen match': 3212, 'Number of evts with Muon': 3211, 'Dstar trk muon cut': 974716, 'Dstar trk pt cut': 922948, 'Dstar chindof pt cut': 922948, 'Dstar trk hits cut': 922948, 'Dstar trk impact xy cut': 922948, 'Dstar trk impact z cut': 922948, 'Dstar pis pt cut': 922948, 'Dstar pis chi2 cut': 922948, 'Dstar pis hits cut': 922948, 'Dstar D0 cosphi cut': 922948, 'Dstar D0 mass cut': 922948, 'Dstar D0 pt cut': 922948, 'Dstar D0 dlSig cut': 922948, 'Dstar pt cut': 922948, 'Dstar right charge cut': 922948, 'Number of DimuDstar': 478670, 'Number of Associated Dstar': 478670, 'Number of evts with DimuDstar': 3203})\n",
      "Bot informations: {'id': 5179895518, 'can_join_groups': True, 'is_bot': True, 'first_name': 'Snake', 'username': 'SnakeAnalysisbot', 'can_read_all_group_messages': False, 'supports_inline_queries': False}\n"
     ]
    }
   ],
   "source": [
    "data = {\"test\": files[0:600]}\n",
    "                      \n",
    "tstart = time.time()\n",
    "\n",
    "cut_list = ['like_charge_dimuon', 'jpsi_mass', 'soft_id', 'muon_pt', 'muon_eta', 'dstar_hasmuon',\n",
    "            'dstar_trk_pt']\n",
    "\n",
    "output_l7 = processor.run_uproot_job(data,\n",
    "                                    treename='Events',\n",
    "                                    processor_instance=GenTestProcessor(),\n",
    "                                    executor=processor.futures_executor, #iterative, futures\n",
    "                                    executor_args={\"schema\": BaseSchema, 'workers': 8, 'skipbadfiles': True},\n",
    "                                    chunksize=360000,\n",
    "                                    )\n",
    "\n",
    "print(f\"Process finished in: {time.time() - tstart:.2f} s\")\n",
    "print(output_l7['cutflow'])\n",
    "\n",
    "nevt_l7 = output_l7['cutflow']['Number of events']\n",
    "JpsiDstar_l7 = output_l7['cutflow']['Number of DimuDstar']\n",
    "nevts_with_jpsi_dstar_l7 = output_l7['cutflow']['Number of evts with DimuDstar']\n",
    "\n",
    "bot.bot_message(\"Process Finished: L7\")"
   ]
  },
  {
   "cell_type": "markdown",
   "id": "91794118-ab2d-4159-bcd4-1574cbc067f9",
   "metadata": {},
   "source": [
    "#  L8 - "
   ]
  },
  {
   "cell_type": "code",
   "execution_count": 32,
   "id": "cc332e7d-4973-41e1-8ce7-8e0fc5d04df0",
   "metadata": {},
   "outputs": [
    {
     "data": {
      "application/vnd.jupyter.widget-view+json": {
       "model_id": "2fdb12b2f414463da0e685784ea316ad",
       "version_major": 2,
       "version_minor": 0
      },
      "text/plain": [
       "Processing:   0%|          | 0/600 [00:00<?, ?chunk/s]"
      ]
     },
     "metadata": {},
     "output_type": "display_data"
    },
    {
     "name": "stdout",
     "output_type": "stream",
     "text": [
      "Process finished in: 325.42 s\n",
      "defaultdict_accumulator(<class 'int'>, {'Number of events': 6033, 'Number of initial Dimuons': 6865, 'Number of initial Muons': 36118, 'Dimu 0 charge': 5534, 'Jpsi mass': 4371, 'Dimu muon softId': 4005, 'Dimu muon pt cut': 3250, 'Dimu before gen match': 3212, 'Number of evts with Muon': 3211, 'Dstar trk muon cut': 974716, 'Dstar trk pt cut': 922948, 'Dstar chindof pt cut': 825053, 'Dstar trk hits cut': 825053, 'Dstar trk impact xy cut': 825053, 'Dstar trk impact z cut': 825053, 'Dstar pis pt cut': 825053, 'Dstar pis chi2 cut': 825053, 'Dstar pis hits cut': 825053, 'Dstar D0 cosphi cut': 825053, 'Dstar D0 mass cut': 825053, 'Dstar D0 pt cut': 825053, 'Dstar D0 dlSig cut': 825053, 'Dstar pt cut': 825053, 'Dstar right charge cut': 825053, 'Number of DimuDstar': 427543, 'Number of Associated Dstar': 427543, 'Number of evts with DimuDstar': 3202})\n",
      "Bot informations: {'id': 5179895518, 'can_join_groups': True, 'is_bot': True, 'first_name': 'Snake', 'username': 'SnakeAnalysisbot', 'can_read_all_group_messages': False, 'supports_inline_queries': False}\n"
     ]
    }
   ],
   "source": [
    "data = {\"test\": files[0:600]}\n",
    "                      \n",
    "tstart = time.time()\n",
    "\n",
    "cut_list = ['like_charge_dimuon', 'jpsi_mass', 'soft_id', 'muon_pt', 'muon_eta', 'dstar_hasmuon',\n",
    "            'dstar_trk_pt', 'dstar_trk_chindof']\n",
    "\n",
    "output_l8 = processor.run_uproot_job(data,\n",
    "                                    treename='Events',\n",
    "                                    processor_instance=GenTestProcessor(),\n",
    "                                    executor=processor.futures_executor, #iterative, futures\n",
    "                                    executor_args={\"schema\": BaseSchema, 'workers': 8, 'skipbadfiles': True},\n",
    "                                    chunksize=360000,\n",
    "                                    )\n",
    "\n",
    "print(f\"Process finished in: {time.time() - tstart:.2f} s\")\n",
    "print(output_l8['cutflow'])\n",
    "\n",
    "nevt_l8 = output_l8['cutflow']['Number of events']\n",
    "JpsiDstar_l8 = output_l8['cutflow']['Number of DimuDstar']\n",
    "nevts_with_jpsi_dstar_l8 = output_l8['cutflow']['Number of evts with DimuDstar']\n",
    "\n",
    "bot.bot_message(\"Process Finished: L8\")"
   ]
  },
  {
   "cell_type": "markdown",
   "id": "7a74dc2c-c3f0-4feb-8691-e5ceca4d8148",
   "metadata": {},
   "source": [
    "#  L9 - "
   ]
  },
  {
   "cell_type": "code",
   "execution_count": 33,
   "id": "f14c4577-6a33-4e03-82f1-77d362eabc72",
   "metadata": {},
   "outputs": [
    {
     "data": {
      "application/vnd.jupyter.widget-view+json": {
       "model_id": "febb3143e87f48319a9ef7f41af28841",
       "version_major": 2,
       "version_minor": 0
      },
      "text/plain": [
       "Processing:   0%|          | 0/600 [00:00<?, ?chunk/s]"
      ]
     },
     "metadata": {},
     "output_type": "display_data"
    },
    {
     "name": "stdout",
     "output_type": "stream",
     "text": [
      "Process finished in: 344.75 s\n",
      "defaultdict_accumulator(<class 'int'>, {'Number of events': 6033, 'Number of initial Dimuons': 6865, 'Number of initial Muons': 36118, 'Dimu 0 charge': 5534, 'Jpsi mass': 4371, 'Dimu muon softId': 4005, 'Dimu muon pt cut': 3250, 'Dimu before gen match': 3212, 'Number of evts with Muon': 3211, 'Dstar trk muon cut': 974716, 'Dstar trk pt cut': 922948, 'Dstar chindof pt cut': 825053, 'Dstar trk hits cut': 646389, 'Dstar trk impact xy cut': 646389, 'Dstar trk impact z cut': 646389, 'Dstar pis pt cut': 646389, 'Dstar pis chi2 cut': 646389, 'Dstar pis hits cut': 646389, 'Dstar D0 cosphi cut': 646389, 'Dstar D0 mass cut': 646389, 'Dstar D0 pt cut': 646389, 'Dstar D0 dlSig cut': 646389, 'Dstar pt cut': 646389, 'Dstar right charge cut': 646389, 'Number of DimuDstar': 335567, 'Number of Associated Dstar': 335567, 'Number of evts with DimuDstar': 3197})\n",
      "Bot informations: {'id': 5179895518, 'can_join_groups': True, 'is_bot': True, 'first_name': 'Snake', 'username': 'SnakeAnalysisbot', 'can_read_all_group_messages': False, 'supports_inline_queries': False}\n"
     ]
    }
   ],
   "source": [
    "data = {\"test\": files[0:600]}\n",
    "                      \n",
    "tstart = time.time()\n",
    "\n",
    "cut_list = ['like_charge_dimuon', 'jpsi_mass', 'soft_id', 'muon_pt', 'muon_eta', 'dstar_hasmuon',\n",
    "            'dstar_trk_pt', 'dstar_trk_chindof', 'dstar_trk_hits']\n",
    "\n",
    "output_l9 = processor.run_uproot_job(data,\n",
    "                                    treename='Events',\n",
    "                                    processor_instance=GenTestProcessor(),\n",
    "                                    executor=processor.futures_executor, #iterative, futures\n",
    "                                    executor_args={\"schema\": BaseSchema, 'workers': 8, 'skipbadfiles': True},\n",
    "                                    chunksize=360000,\n",
    "                                    )\n",
    "\n",
    "print(f\"Process finished in: {time.time() - tstart:.2f} s\")\n",
    "print(output_l9['cutflow'])\n",
    "\n",
    "nevt_l9 = output_l9['cutflow']['Number of events']\n",
    "JpsiDstar_l9 = output_l9['cutflow']['Number of DimuDstar']\n",
    "nevts_with_jpsi_dstar_l9 = output_l9['cutflow']['Number of evts with DimuDstar']\n",
    "\n",
    "bot.bot_message(\"Process Finished: L9\")"
   ]
  },
  {
   "cell_type": "markdown",
   "id": "75c5d1fd-d3dc-4d7e-b818-7cb35a32a41f",
   "metadata": {},
   "source": [
    "#  L10 - "
   ]
  },
  {
   "cell_type": "code",
   "execution_count": 34,
   "id": "34712199-4e99-4503-8ff1-94a6d72c2787",
   "metadata": {},
   "outputs": [
    {
     "data": {
      "application/vnd.jupyter.widget-view+json": {
       "model_id": "4713fd7e76ef48709bf6abcd623887af",
       "version_major": 2,
       "version_minor": 0
      },
      "text/plain": [
       "Processing:   0%|          | 0/600 [00:00<?, ?chunk/s]"
      ]
     },
     "metadata": {},
     "output_type": "display_data"
    },
    {
     "name": "stdout",
     "output_type": "stream",
     "text": [
      "Process finished in: 349.95 s\n",
      "defaultdict_accumulator(<class 'int'>, {'Number of events': 6033, 'Number of initial Dimuons': 6865, 'Number of initial Muons': 36118, 'Dimu 0 charge': 5534, 'Jpsi mass': 4371, 'Dimu muon softId': 4005, 'Dimu muon pt cut': 3250, 'Dimu before gen match': 3212, 'Number of evts with Muon': 3211, 'Dstar trk muon cut': 974716, 'Dstar trk pt cut': 922948, 'Dstar chindof pt cut': 825053, 'Dstar trk hits cut': 646389, 'Dstar trk impact xy cut': 639026, 'Dstar trk impact z cut': 639026, 'Dstar pis pt cut': 639026, 'Dstar pis chi2 cut': 639026, 'Dstar pis hits cut': 639026, 'Dstar D0 cosphi cut': 639026, 'Dstar D0 mass cut': 639026, 'Dstar D0 pt cut': 639026, 'Dstar D0 dlSig cut': 639026, 'Dstar pt cut': 639026, 'Dstar right charge cut': 639026, 'Number of DimuDstar': 331748, 'Number of Associated Dstar': 331748, 'Number of evts with DimuDstar': 3196})\n",
      "Bot informations: {'id': 5179895518, 'can_join_groups': True, 'is_bot': True, 'first_name': 'Snake', 'username': 'SnakeAnalysisbot', 'can_read_all_group_messages': False, 'supports_inline_queries': False}\n"
     ]
    }
   ],
   "source": [
    "data = {\"test\": files[0:600]}\n",
    "                      \n",
    "tstart = time.time()\n",
    "\n",
    "cut_list = ['like_charge_dimuon', 'jpsi_mass', 'soft_id', 'muon_pt', 'muon_eta', 'dstar_hasmuon',\n",
    "            'dstar_trk_pt', 'dstar_trk_chindof', 'dstar_trk_hits', 'dstar_trk_impact_xy']\n",
    "\n",
    "output_l10 = processor.run_uproot_job(data,\n",
    "                                    treename='Events',\n",
    "                                    processor_instance=GenTestProcessor(),\n",
    "                                    executor=processor.futures_executor, #iterative, futures\n",
    "                                    executor_args={\"schema\": BaseSchema, 'workers': 8, 'skipbadfiles': True},\n",
    "                                    chunksize=360000,\n",
    "                                    )\n",
    "\n",
    "print(f\"Process finished in: {time.time() - tstart:.2f} s\")\n",
    "print(output_l10['cutflow'])\n",
    "\n",
    "nevt_l10 = output_l10['cutflow']['Number of events']\n",
    "JpsiDstar_l10 = output_l10['cutflow']['Number of DimuDstar']\n",
    "nevts_with_jpsi_dstar_l10 = output_l10['cutflow']['Number of evts with DimuDstar']\n",
    "\n",
    "bot.bot_message(\"Process Finished: L10\")"
   ]
  },
  {
   "cell_type": "markdown",
   "id": "c8f61e17-71a4-47b5-a5ab-2b60f0388194",
   "metadata": {},
   "source": [
    "#  L11 - "
   ]
  },
  {
   "cell_type": "code",
   "execution_count": 35,
   "id": "a5ad1019-e557-4b67-8e09-c7c4fa0b5198",
   "metadata": {},
   "outputs": [
    {
     "data": {
      "application/vnd.jupyter.widget-view+json": {
       "model_id": "2e1716879f6f4651b556189bc899facd",
       "version_major": 2,
       "version_minor": 0
      },
      "text/plain": [
       "Processing:   0%|          | 0/600 [00:00<?, ?chunk/s]"
      ]
     },
     "metadata": {},
     "output_type": "display_data"
    },
    {
     "name": "stdout",
     "output_type": "stream",
     "text": [
      "Process finished in: 349.09 s\n",
      "defaultdict_accumulator(<class 'int'>, {'Number of events': 6033, 'Number of initial Dimuons': 6865, 'Number of initial Muons': 36118, 'Dimu 0 charge': 5534, 'Jpsi mass': 4371, 'Dimu muon softId': 4005, 'Dimu muon pt cut': 3250, 'Dimu before gen match': 3212, 'Number of evts with Muon': 3211, 'Dstar trk muon cut': 974716, 'Dstar trk pt cut': 922948, 'Dstar chindof pt cut': 825053, 'Dstar trk hits cut': 646389, 'Dstar trk impact xy cut': 639026, 'Dstar trk impact z cut': 639009, 'Dstar pis pt cut': 639009, 'Dstar pis chi2 cut': 639009, 'Dstar pis hits cut': 639009, 'Dstar D0 cosphi cut': 639009, 'Dstar D0 mass cut': 639009, 'Dstar D0 pt cut': 639009, 'Dstar D0 dlSig cut': 639009, 'Dstar pt cut': 639009, 'Dstar right charge cut': 639009, 'Number of DimuDstar': 331739, 'Number of Associated Dstar': 331739, 'Number of evts with DimuDstar': 3196})\n",
      "Bot informations: {'id': 5179895518, 'can_join_groups': True, 'is_bot': True, 'first_name': 'Snake', 'username': 'SnakeAnalysisbot', 'can_read_all_group_messages': False, 'supports_inline_queries': False}\n"
     ]
    }
   ],
   "source": [
    "data = {\"test\": files[0:600]}\n",
    "                      \n",
    "tstart = time.time()\n",
    "\n",
    "cut_list = ['like_charge_dimuon', 'jpsi_mass', 'soft_id', 'muon_pt', 'muon_eta', 'dstar_hasmuon',\n",
    "            'dstar_trk_pt', 'dstar_trk_chindof', 'dstar_trk_hits', 'dstar_trk_impact_xy',\n",
    "            'dstar_trk_impact_z']\n",
    "\n",
    "output_l11 = processor.run_uproot_job(data,\n",
    "                                    treename='Events',\n",
    "                                    processor_instance=GenTestProcessor(),\n",
    "                                    executor=processor.futures_executor, #iterative, futures\n",
    "                                    executor_args={\"schema\": BaseSchema, 'workers': 8, 'skipbadfiles': True},\n",
    "                                    chunksize=360000,\n",
    "                                    )\n",
    "\n",
    "print(f\"Process finished in: {time.time() - tstart:.2f} s\")\n",
    "print(output_l11['cutflow'])\n",
    "\n",
    "nevt_l11 = output_l11['cutflow']['Number of events']\n",
    "JpsiDstar_l11 = output_l11['cutflow']['Number of DimuDstar']\n",
    "nevts_with_jpsi_dstar_l11 = output_l11['cutflow']['Number of evts with DimuDstar']\n",
    "\n",
    "bot.bot_message(\"Process Finished: L11\")"
   ]
  },
  {
   "cell_type": "markdown",
   "id": "873c6658-b6e8-4bcd-870e-2298c678b289",
   "metadata": {},
   "source": [
    "#  L12 - "
   ]
  },
  {
   "cell_type": "code",
   "execution_count": 36,
   "id": "b40f14e0-42f3-4d9a-92f4-6a6ce9043639",
   "metadata": {},
   "outputs": [
    {
     "data": {
      "application/vnd.jupyter.widget-view+json": {
       "model_id": "0a13f0ad2d44423fa6246f40d5ae9e8c",
       "version_major": 2,
       "version_minor": 0
      },
      "text/plain": [
       "Processing:   0%|          | 0/600 [00:00<?, ?chunk/s]"
      ]
     },
     "metadata": {},
     "output_type": "display_data"
    },
    {
     "name": "stdout",
     "output_type": "stream",
     "text": [
      "Process finished in: 346.63 s\n",
      "defaultdict_accumulator(<class 'int'>, {'Number of events': 6033, 'Number of initial Dimuons': 6865, 'Number of initial Muons': 36118, 'Dimu 0 charge': 5534, 'Jpsi mass': 4371, 'Dimu muon softId': 4005, 'Dimu muon pt cut': 3250, 'Dimu before gen match': 3212, 'Number of evts with Muon': 3211, 'Dstar trk muon cut': 974716, 'Dstar trk pt cut': 922948, 'Dstar chindof pt cut': 825053, 'Dstar trk hits cut': 646389, 'Dstar trk impact xy cut': 639026, 'Dstar trk impact z cut': 639009, 'Dstar pis pt cut': 74535, 'Dstar pis chi2 cut': 74535, 'Dstar pis hits cut': 74535, 'Dstar D0 cosphi cut': 74535, 'Dstar D0 mass cut': 74535, 'Dstar D0 pt cut': 74535, 'Dstar D0 dlSig cut': 74535, 'Dstar pt cut': 74535, 'Dstar right charge cut': 74535, 'Number of DimuDstar': 38841, 'Number of Associated Dstar': 38841, 'Number of evts with DimuDstar': 2986})\n",
      "Bot informations: {'id': 5179895518, 'can_join_groups': True, 'is_bot': True, 'first_name': 'Snake', 'username': 'SnakeAnalysisbot', 'can_read_all_group_messages': False, 'supports_inline_queries': False}\n"
     ]
    }
   ],
   "source": [
    "data = {\"test\": files[0:600]}\n",
    "                      \n",
    "tstart = time.time()\n",
    "\n",
    "cut_list = ['like_charge_dimuon', 'jpsi_mass', 'soft_id', 'muon_pt', 'muon_eta', 'dstar_hasmuon',\n",
    "            'dstar_trk_pt', 'dstar_trk_chindof', 'dstar_trk_hits', 'dstar_trk_impact_xy',\n",
    "            'dstar_trk_impact_z', 'dstar_pis_pt']\n",
    "\n",
    "output_l12 = processor.run_uproot_job(data,\n",
    "                                    treename='Events',\n",
    "                                    processor_instance=GenTestProcessor(),\n",
    "                                    executor=processor.futures_executor, #iterative, futures\n",
    "                                    executor_args={\"schema\": BaseSchema, 'workers': 8, 'skipbadfiles': True},\n",
    "                                    chunksize=360000,\n",
    "                                    )\n",
    "\n",
    "print(f\"Process finished in: {time.time() - tstart:.2f} s\")\n",
    "print(output_l12['cutflow'])\n",
    "\n",
    "nevt_l12 = output_l12['cutflow']['Number of events']\n",
    "JpsiDstar_l12 = output_l12['cutflow']['Number of DimuDstar']\n",
    "nevts_with_jpsi_dstar_l12 = output_l12['cutflow']['Number of evts with DimuDstar']\n",
    "\n",
    "bot.bot_message(\"Process Finished: L12\")"
   ]
  },
  {
   "cell_type": "markdown",
   "id": "8238ddc6-e86b-49e7-887f-a0f524a661b6",
   "metadata": {},
   "source": [
    "#  L13 - "
   ]
  },
  {
   "cell_type": "code",
   "execution_count": 37,
   "id": "51809234-c065-47bc-acd8-d8e06458471f",
   "metadata": {},
   "outputs": [
    {
     "data": {
      "application/vnd.jupyter.widget-view+json": {
       "model_id": "2711d4c9afd0477d943a9308920b0190",
       "version_major": 2,
       "version_minor": 0
      },
      "text/plain": [
       "Processing:   0%|          | 0/600 [00:00<?, ?chunk/s]"
      ]
     },
     "metadata": {},
     "output_type": "display_data"
    },
    {
     "name": "stdout",
     "output_type": "stream",
     "text": [
      "Process finished in: 329.57 s\n",
      "defaultdict_accumulator(<class 'int'>, {'Number of events': 6033, 'Number of initial Dimuons': 6865, 'Number of initial Muons': 36118, 'Dimu 0 charge': 5534, 'Jpsi mass': 4371, 'Dimu muon softId': 4005, 'Dimu muon pt cut': 3250, 'Dimu before gen match': 3212, 'Number of evts with Muon': 3211, 'Dstar trk muon cut': 974716, 'Dstar trk pt cut': 922948, 'Dstar chindof pt cut': 825053, 'Dstar trk hits cut': 646389, 'Dstar trk impact xy cut': 639026, 'Dstar trk impact z cut': 639009, 'Dstar pis pt cut': 74535, 'Dstar pis chi2 cut': 71897, 'Dstar pis hits cut': 71897, 'Dstar D0 cosphi cut': 71897, 'Dstar D0 mass cut': 71897, 'Dstar D0 pt cut': 71897, 'Dstar D0 dlSig cut': 71897, 'Dstar pt cut': 71897, 'Dstar right charge cut': 71897, 'Number of DimuDstar': 37495, 'Number of Associated Dstar': 37495, 'Number of evts with DimuDstar': 2972})\n",
      "Bot informations: {'id': 5179895518, 'can_join_groups': True, 'is_bot': True, 'first_name': 'Snake', 'username': 'SnakeAnalysisbot', 'can_read_all_group_messages': False, 'supports_inline_queries': False}\n"
     ]
    }
   ],
   "source": [
    "data = {\"test\": files[0:600]}\n",
    "                      \n",
    "tstart = time.time()\n",
    "\n",
    "cut_list = ['like_charge_dimuon', 'jpsi_mass', 'soft_id', 'muon_pt', 'muon_eta', 'dstar_hasmuon',\n",
    "            'dstar_trk_pt', 'dstar_trk_chindof', 'dstar_trk_hits', 'dstar_trk_impact_xy',\n",
    "            'dstar_trk_impact_z', 'dstar_pis_pt', 'dstar_pis_chindof']\n",
    "\n",
    "output_l13 = processor.run_uproot_job(data,\n",
    "                                    treename='Events',\n",
    "                                    processor_instance=GenTestProcessor(),\n",
    "                                    executor=processor.futures_executor, #iterative, futures\n",
    "                                    executor_args={\"schema\": BaseSchema, 'workers': 8, 'skipbadfiles': True},\n",
    "                                    chunksize=360000,\n",
    "                                    )\n",
    "\n",
    "print(f\"Process finished in: {time.time() - tstart:.2f} s\")\n",
    "print(output_l13['cutflow'])\n",
    "\n",
    "nevt_l13 = output_l13['cutflow']['Number of events']\n",
    "JpsiDstar_l13 = output_l13['cutflow']['Number of DimuDstar']\n",
    "nevts_with_jpsi_dstar_l13 = output_l13['cutflow']['Number of evts with DimuDstar']\n",
    "\n",
    "bot.bot_message(\"Process Finished: L13\")"
   ]
  },
  {
   "cell_type": "markdown",
   "id": "c89f74dd-0318-4ca2-9dc9-d4bd9c886ef0",
   "metadata": {},
   "source": [
    "#  L14 - "
   ]
  },
  {
   "cell_type": "code",
   "execution_count": 38,
   "id": "963d5b26-3295-402d-8f34-995943d6d87b",
   "metadata": {},
   "outputs": [
    {
     "data": {
      "application/vnd.jupyter.widget-view+json": {
       "model_id": "dea40708b4cf4f488a590f315b4272d4",
       "version_major": 2,
       "version_minor": 0
      },
      "text/plain": [
       "Processing:   0%|          | 0/600 [00:00<?, ?chunk/s]"
      ]
     },
     "metadata": {},
     "output_type": "display_data"
    },
    {
     "name": "stdout",
     "output_type": "stream",
     "text": [
      "Process finished in: 330.01 s\n",
      "defaultdict_accumulator(<class 'int'>, {'Number of events': 6033, 'Number of initial Dimuons': 6865, 'Number of initial Muons': 36118, 'Dimu 0 charge': 5534, 'Jpsi mass': 4371, 'Dimu muon softId': 4005, 'Dimu muon pt cut': 3250, 'Dimu before gen match': 3212, 'Number of evts with Muon': 3211, 'Dstar trk muon cut': 974716, 'Dstar trk pt cut': 922948, 'Dstar chindof pt cut': 825053, 'Dstar trk hits cut': 646389, 'Dstar trk impact xy cut': 639026, 'Dstar trk impact z cut': 639009, 'Dstar pis pt cut': 74535, 'Dstar pis chi2 cut': 71897, 'Dstar pis hits cut': 71897, 'Dstar D0 cosphi cut': 71897, 'Dstar D0 mass cut': 71897, 'Dstar D0 pt cut': 71897, 'Dstar D0 dlSig cut': 71897, 'Dstar pt cut': 71897, 'Dstar right charge cut': 71897, 'Number of DimuDstar': 37495, 'Number of Associated Dstar': 37495, 'Number of evts with DimuDstar': 2972})\n",
      "Bot informations: {'id': 5179895518, 'can_join_groups': True, 'is_bot': True, 'first_name': 'Snake', 'username': 'SnakeAnalysisbot', 'can_read_all_group_messages': False, 'supports_inline_queries': False}\n"
     ]
    }
   ],
   "source": [
    "data = {\"test\": files[0:600]}\n",
    "                      \n",
    "tstart = time.time()\n",
    "\n",
    "cut_list = ['like_charge_dimuon', 'jpsi_mass', 'soft_id', 'muon_pt', 'muon_eta', 'dstar_hasmuon',\n",
    "            'dstar_trk_pt', 'dstar_trk_chindof', 'dstar_trk_hits', 'dstar_trk_impact_xy',\n",
    "            'dstar_trk_impact_z', 'dstar_pis_pt', 'dstar_pis_chindof', 'dstar_pis_nvalid']\n",
    "\n",
    "output_l14 = processor.run_uproot_job(data,\n",
    "                                    treename='Events',\n",
    "                                    processor_instance=GenTestProcessor(),\n",
    "                                    executor=processor.futures_executor, #iterative, futures\n",
    "                                    executor_args={\"schema\": BaseSchema, 'workers': 8, 'skipbadfiles': True},\n",
    "                                    chunksize=360000,\n",
    "                                    )\n",
    "\n",
    "print(f\"Process finished in: {time.time() - tstart:.2f} s\")\n",
    "print(output_l14['cutflow'])\n",
    "\n",
    "nevt_l14 = output_l14['cutflow']['Number of events']\n",
    "JpsiDstar_l14 = output_l14['cutflow']['Number of DimuDstar']\n",
    "nevts_with_jpsi_dstar_l14 = output_l14['cutflow']['Number of evts with DimuDstar']\n",
    "\n",
    "bot.bot_message(\"Process Finished: L14\")"
   ]
  },
  {
   "cell_type": "markdown",
   "id": "0e2d9493-1304-4595-aedd-20121f08a0e5",
   "metadata": {},
   "source": [
    "#  L15 - "
   ]
  },
  {
   "cell_type": "code",
   "execution_count": 39,
   "id": "51385833-636e-4525-8c1f-72094335ead4",
   "metadata": {},
   "outputs": [
    {
     "data": {
      "application/vnd.jupyter.widget-view+json": {
       "model_id": "3aae0b860b5c4f8d811887cf78d3141e",
       "version_major": 2,
       "version_minor": 0
      },
      "text/plain": [
       "Processing:   0%|          | 0/600 [00:00<?, ?chunk/s]"
      ]
     },
     "metadata": {},
     "output_type": "display_data"
    },
    {
     "name": "stdout",
     "output_type": "stream",
     "text": [
      "Process finished in: 320.70 s\n",
      "defaultdict_accumulator(<class 'int'>, {'Number of events': 6033, 'Number of initial Dimuons': 6865, 'Number of initial Muons': 36118, 'Dimu 0 charge': 5534, 'Jpsi mass': 4371, 'Dimu muon softId': 4005, 'Dimu muon pt cut': 3250, 'Dimu before gen match': 3212, 'Number of evts with Muon': 3211, 'Dstar trk muon cut': 974716, 'Dstar trk pt cut': 922948, 'Dstar chindof pt cut': 825053, 'Dstar trk hits cut': 646389, 'Dstar trk impact xy cut': 639026, 'Dstar trk impact z cut': 639009, 'Dstar pis pt cut': 74535, 'Dstar pis chi2 cut': 71897, 'Dstar pis hits cut': 71897, 'Dstar D0 cosphi cut': 7518, 'Dstar D0 mass cut': 7518, 'Dstar D0 pt cut': 7518, 'Dstar D0 dlSig cut': 7518, 'Dstar pt cut': 7518, 'Dstar right charge cut': 7518, 'Number of DimuDstar': 3961, 'Number of Associated Dstar': 3961, 'Number of evts with DimuDstar': 1699})\n",
      "Bot informations: {'id': 5179895518, 'can_join_groups': True, 'is_bot': True, 'first_name': 'Snake', 'username': 'SnakeAnalysisbot', 'can_read_all_group_messages': False, 'supports_inline_queries': False}\n"
     ]
    }
   ],
   "source": [
    "data = {\"test\": files[0:600]}\n",
    "                      \n",
    "tstart = time.time()\n",
    "\n",
    "cut_list = ['like_charge_dimuon', 'jpsi_mass', 'soft_id', 'muon_pt', 'muon_eta', 'dstar_hasmuon',\n",
    "            'dstar_trk_pt', 'dstar_trk_chindof', 'dstar_trk_hits', 'dstar_trk_impact_xy',\n",
    "            'dstar_trk_impact_z', 'dstar_pis_pt', 'dstar_pis_chindof', 'dstar_pis_nvalid',\n",
    "            'dstar_d0_cosphi']\n",
    "\n",
    "output_l15 = processor.run_uproot_job(data,\n",
    "                                    treename='Events',\n",
    "                                    processor_instance=GenTestProcessor(),\n",
    "                                    executor=processor.futures_executor, #iterative, futures\n",
    "                                    executor_args={\"schema\": BaseSchema, 'workers': 8, 'skipbadfiles': True},\n",
    "                                    chunksize=360000,\n",
    "                                    )\n",
    "\n",
    "print(f\"Process finished in: {time.time() - tstart:.2f} s\")\n",
    "print(output_l15['cutflow'])\n",
    "\n",
    "nevt_l15 = output_l15['cutflow']['Number of events']\n",
    "JpsiDstar_l15 = output_l15['cutflow']['Number of DimuDstar']\n",
    "nevts_with_jpsi_dstar_l15 = output_l15['cutflow']['Number of evts with DimuDstar']\n",
    "\n",
    "bot.bot_message(\"Process Finished: L15\")"
   ]
  },
  {
   "cell_type": "markdown",
   "id": "bf5be733-7eda-4f30-b886-cd5756bbeb95",
   "metadata": {},
   "source": [
    "#  L16 - "
   ]
  },
  {
   "cell_type": "code",
   "execution_count": 40,
   "id": "17d98528-b328-41fe-9b4d-cbc4d58ea015",
   "metadata": {},
   "outputs": [
    {
     "data": {
      "application/vnd.jupyter.widget-view+json": {
       "model_id": "e82cbc3f735b40119758eb475f5e8592",
       "version_major": 2,
       "version_minor": 0
      },
      "text/plain": [
       "Processing:   0%|          | 0/600 [00:00<?, ?chunk/s]"
      ]
     },
     "metadata": {},
     "output_type": "display_data"
    },
    {
     "name": "stdout",
     "output_type": "stream",
     "text": [
      "Process finished in: 303.49 s\n",
      "defaultdict_accumulator(<class 'int'>, {'Number of events': 6033, 'Number of initial Dimuons': 6865, 'Number of initial Muons': 36118, 'Dimu 0 charge': 5534, 'Jpsi mass': 4371, 'Dimu muon softId': 4005, 'Dimu muon pt cut': 3250, 'Dimu before gen match': 3212, 'Number of evts with Muon': 3211, 'Dstar trk muon cut': 974716, 'Dstar trk pt cut': 922948, 'Dstar chindof pt cut': 825053, 'Dstar trk hits cut': 646389, 'Dstar trk impact xy cut': 639026, 'Dstar trk impact z cut': 639009, 'Dstar pis pt cut': 74535, 'Dstar pis chi2 cut': 71897, 'Dstar pis hits cut': 71897, 'Dstar D0 cosphi cut': 7518, 'Dstar D0 mass cut': 3635, 'Dstar D0 pt cut': 3635, 'Dstar D0 dlSig cut': 3635, 'Dstar pt cut': 3635, 'Dstar right charge cut': 3635, 'Number of DimuDstar': 1952, 'Number of Associated Dstar': 1952, 'Number of evts with DimuDstar': 1154})\n",
      "Bot informations: {'id': 5179895518, 'can_join_groups': True, 'is_bot': True, 'first_name': 'Snake', 'username': 'SnakeAnalysisbot', 'can_read_all_group_messages': False, 'supports_inline_queries': False}\n"
     ]
    }
   ],
   "source": [
    "data = {\"test\": files[0:600]}\n",
    "                      \n",
    "tstart = time.time()\n",
    "\n",
    "cut_list = ['like_charge_dimuon', 'jpsi_mass', 'soft_id', 'muon_pt', 'muon_eta', 'dstar_hasmuon',\n",
    "            'dstar_trk_pt', 'dstar_trk_chindof', 'dstar_trk_hits', 'dstar_trk_impact_xy',\n",
    "            'dstar_trk_impact_z', 'dstar_pis_pt', 'dstar_pis_chindof', 'dstar_pis_nvalid',\n",
    "            'dstar_d0_cosphi', 'dstar_d0_mass']\n",
    "\n",
    "output_l16 = processor.run_uproot_job(data,\n",
    "                                    treename='Events',\n",
    "                                    processor_instance=GenTestProcessor(),\n",
    "                                    executor=processor.futures_executor, #iterative, futures\n",
    "                                    executor_args={\"schema\": BaseSchema, 'workers': 8, 'skipbadfiles': True},\n",
    "                                    chunksize=360000,\n",
    "                                    )\n",
    "\n",
    "print(f\"Process finished in: {time.time() - tstart:.2f} s\")\n",
    "print(output_l16['cutflow'])\n",
    "\n",
    "nevt_l16 = output_l16['cutflow']['Number of events']\n",
    "JpsiDstar_l16 = output_l16['cutflow']['Number of DimuDstar']\n",
    "nevts_with_jpsi_dstar_l16 = output_l16['cutflow']['Number of evts with DimuDstar']\n",
    "\n",
    "bot.bot_message(\"Process Finished: L16\")"
   ]
  },
  {
   "cell_type": "markdown",
   "id": "66aa084e-e586-4d86-8774-cbf979686fbf",
   "metadata": {},
   "source": [
    "#  L17 - "
   ]
  },
  {
   "cell_type": "code",
   "execution_count": 41,
   "id": "27ac2837-1a63-4d2b-b246-b8608f0c5f1e",
   "metadata": {},
   "outputs": [
    {
     "data": {
      "application/vnd.jupyter.widget-view+json": {
       "model_id": "57137aa89d9b455ebc687003fc38adee",
       "version_major": 2,
       "version_minor": 0
      },
      "text/plain": [
       "Processing:   0%|          | 0/600 [00:00<?, ?chunk/s]"
      ]
     },
     "metadata": {},
     "output_type": "display_data"
    },
    {
     "name": "stdout",
     "output_type": "stream",
     "text": [
      "Process finished in: 300.69 s\n",
      "defaultdict_accumulator(<class 'int'>, {'Number of events': 6033, 'Number of initial Dimuons': 6865, 'Number of initial Muons': 36118, 'Dimu 0 charge': 5534, 'Jpsi mass': 4371, 'Dimu muon softId': 4005, 'Dimu muon pt cut': 3250, 'Dimu before gen match': 3212, 'Number of evts with Muon': 3211, 'Dstar trk muon cut': 974716, 'Dstar trk pt cut': 922948, 'Dstar chindof pt cut': 825053, 'Dstar trk hits cut': 646389, 'Dstar trk impact xy cut': 639026, 'Dstar trk impact z cut': 639009, 'Dstar pis pt cut': 74535, 'Dstar pis chi2 cut': 71897, 'Dstar pis hits cut': 71897, 'Dstar D0 cosphi cut': 7518, 'Dstar D0 mass cut': 3635, 'Dstar D0 pt cut': 1579, 'Dstar D0 dlSig cut': 1579, 'Dstar pt cut': 1579, 'Dstar right charge cut': 1579, 'Number of DimuDstar': 835, 'Number of Associated Dstar': 835, 'Number of evts with DimuDstar': 581})\n",
      "Bot informations: {'id': 5179895518, 'can_join_groups': True, 'is_bot': True, 'first_name': 'Snake', 'username': 'SnakeAnalysisbot', 'can_read_all_group_messages': False, 'supports_inline_queries': False}\n"
     ]
    }
   ],
   "source": [
    "data = {\"test\": files[0:600]}\n",
    "                      \n",
    "tstart = time.time()\n",
    "\n",
    "cut_list = ['like_charge_dimuon', 'jpsi_mass', 'soft_id', 'muon_pt', 'muon_eta', 'dstar_hasmuon',\n",
    "            'dstar_trk_pt', 'dstar_trk_chindof', 'dstar_trk_hits', 'dstar_trk_impact_xy',\n",
    "            'dstar_trk_impact_z', 'dstar_pis_pt', 'dstar_pis_chindof', 'dstar_pis_nvalid',\n",
    "            'dstar_d0_cosphi', 'dstar_d0_mass', 'dstar_d0_pt']\n",
    "\n",
    "output_l17 = processor.run_uproot_job(data,\n",
    "                                    treename='Events',\n",
    "                                    processor_instance=GenTestProcessor(),\n",
    "                                    executor=processor.futures_executor, #iterative, futures\n",
    "                                    executor_args={\"schema\": BaseSchema, 'workers': 8, 'skipbadfiles': True},\n",
    "                                    chunksize=360000,\n",
    "                                    )\n",
    "\n",
    "print(f\"Process finished in: {time.time() - tstart:.2f} s\")\n",
    "print(output_l17['cutflow'])\n",
    "\n",
    "nevt_l17 = output_l17['cutflow']['Number of events']\n",
    "JpsiDstar_l17 = output_l17['cutflow']['Number of DimuDstar']\n",
    "nevts_with_jpsi_dstar_l17 = output_l17['cutflow']['Number of evts with DimuDstar']\n",
    "\n",
    "bot.bot_message(\"Process Finished: L17\")"
   ]
  },
  {
   "cell_type": "markdown",
   "id": "af3214cd-26b8-4a5c-95e2-a837ff3b8470",
   "metadata": {},
   "source": [
    "#  L18 - "
   ]
  },
  {
   "cell_type": "code",
   "execution_count": 42,
   "id": "767daa44-2d50-4008-84fd-a1031fa5125b",
   "metadata": {},
   "outputs": [
    {
     "data": {
      "application/vnd.jupyter.widget-view+json": {
       "model_id": "6462752e80304417ade51753776300e9",
       "version_major": 2,
       "version_minor": 0
      },
      "text/plain": [
       "Processing:   0%|          | 0/600 [00:00<?, ?chunk/s]"
      ]
     },
     "metadata": {},
     "output_type": "display_data"
    },
    {
     "name": "stdout",
     "output_type": "stream",
     "text": [
      "Process finished in: 302.09 s\n",
      "defaultdict_accumulator(<class 'int'>, {'Number of events': 6033, 'Number of initial Dimuons': 6865, 'Number of initial Muons': 36118, 'Dimu 0 charge': 5534, 'Jpsi mass': 4371, 'Dimu muon softId': 4005, 'Dimu muon pt cut': 3250, 'Dimu before gen match': 3212, 'Number of evts with Muon': 3211, 'Dstar trk muon cut': 974716, 'Dstar trk pt cut': 922948, 'Dstar chindof pt cut': 825053, 'Dstar trk hits cut': 646389, 'Dstar trk impact xy cut': 639026, 'Dstar trk impact z cut': 639009, 'Dstar pis pt cut': 74535, 'Dstar pis chi2 cut': 71897, 'Dstar pis hits cut': 71897, 'Dstar D0 cosphi cut': 7518, 'Dstar D0 mass cut': 3635, 'Dstar D0 pt cut': 1579, 'Dstar D0 dlSig cut': 551, 'Dstar pt cut': 551, 'Dstar right charge cut': 551, 'Number of DimuDstar': 310, 'Number of Associated Dstar': 310, 'Number of evts with DimuDstar': 240})\n",
      "Bot informations: {'id': 5179895518, 'can_join_groups': True, 'is_bot': True, 'first_name': 'Snake', 'username': 'SnakeAnalysisbot', 'can_read_all_group_messages': False, 'supports_inline_queries': False}\n"
     ]
    }
   ],
   "source": [
    "data = {\"test\": files[0:600]}\n",
    "                      \n",
    "tstart = time.time()\n",
    "\n",
    "cut_list = ['like_charge_dimuon', 'jpsi_mass', 'soft_id', 'muon_pt', 'muon_eta', 'dstar_hasmuon',\n",
    "            'dstar_trk_pt', 'dstar_trk_chindof', 'dstar_trk_hits', 'dstar_trk_impact_xy',\n",
    "            'dstar_trk_impact_z', 'dstar_pis_pt', 'dstar_pis_chindof', 'dstar_pis_nvalid',\n",
    "            'dstar_d0_cosphi', 'dstar_d0_mass', 'dstar_d0_pt', 'dstar_d0_dlsig']\n",
    "\n",
    "output_l18 = processor.run_uproot_job(data,\n",
    "                                    treename='Events',\n",
    "                                    processor_instance=GenTestProcessor(),\n",
    "                                    executor=processor.futures_executor, #iterative, futures\n",
    "                                    executor_args={\"schema\": BaseSchema, 'workers': 8, 'skipbadfiles': True},\n",
    "                                    chunksize=360000,\n",
    "                                    )\n",
    "\n",
    "print(f\"Process finished in: {time.time() - tstart:.2f} s\")\n",
    "print(output_l18['cutflow'])\n",
    "\n",
    "nevt_l18 = output_l18['cutflow']['Number of events']\n",
    "JpsiDstar_l18 = output_l18['cutflow']['Number of DimuDstar']\n",
    "nevts_with_jpsi_dstar_l18 = output_l18['cutflow']['Number of evts with DimuDstar']\n",
    "\n",
    "bot.bot_message(\"Process Finished: L18\")"
   ]
  },
  {
   "cell_type": "markdown",
   "id": "b5ef78d6-3c6d-41e3-9a86-73b5a4e201eb",
   "metadata": {},
   "source": [
    "#  L19 - "
   ]
  },
  {
   "cell_type": "code",
   "execution_count": 43,
   "id": "81c78f9b-09f7-4417-bd8e-e33c7480fc7d",
   "metadata": {},
   "outputs": [
    {
     "data": {
      "application/vnd.jupyter.widget-view+json": {
       "model_id": "48be8779c25849bc82276cae3b8833e8",
       "version_major": 2,
       "version_minor": 0
      },
      "text/plain": [
       "Processing:   0%|          | 0/600 [00:00<?, ?chunk/s]"
      ]
     },
     "metadata": {},
     "output_type": "display_data"
    },
    {
     "name": "stdout",
     "output_type": "stream",
     "text": [
      "Process finished in: 302.72 s\n",
      "defaultdict_accumulator(<class 'int'>, {'Number of events': 6033, 'Number of initial Dimuons': 6865, 'Number of initial Muons': 36118, 'Dimu 0 charge': 5534, 'Jpsi mass': 4371, 'Dimu muon softId': 4005, 'Dimu muon pt cut': 3250, 'Dimu before gen match': 3212, 'Number of evts with Muon': 3211, 'Dstar trk muon cut': 974716, 'Dstar trk pt cut': 922948, 'Dstar chindof pt cut': 825053, 'Dstar trk hits cut': 646389, 'Dstar trk impact xy cut': 639026, 'Dstar trk impact z cut': 639009, 'Dstar pis pt cut': 74535, 'Dstar pis chi2 cut': 71897, 'Dstar pis hits cut': 71897, 'Dstar D0 cosphi cut': 7518, 'Dstar D0 mass cut': 3635, 'Dstar D0 pt cut': 1579, 'Dstar D0 dlSig cut': 551, 'Dstar pt cut': 551, 'Dstar right charge cut': 551, 'Number of DimuDstar': 310, 'Number of Associated Dstar': 310, 'Number of evts with DimuDstar': 240})\n",
      "Bot informations: {'id': 5179895518, 'can_join_groups': True, 'is_bot': True, 'first_name': 'Snake', 'username': 'SnakeAnalysisbot', 'can_read_all_group_messages': False, 'supports_inline_queries': False}\n"
     ]
    }
   ],
   "source": [
    "data = {\"test\": files[0:600]}\n",
    "                      \n",
    "tstart = time.time()\n",
    "\n",
    "cut_list = ['like_charge_dimuon', 'jpsi_mass', 'soft_id', 'muon_pt', 'muon_eta', 'dstar_hasmuon',\n",
    "            'dstar_trk_pt', 'dstar_trk_chindof', 'dstar_trk_hits', 'dstar_trk_impact_xy',\n",
    "            'dstar_trk_impact_z', 'dstar_pis_pt', 'dstar_pis_chindof', 'dstar_pis_nvalid',\n",
    "            'dstar_d0_cosphi', 'dstar_d0_mass', 'dstar_d0_pt', 'dstar_d0_dlsig',\n",
    "            'dstar_pt']\n",
    "\n",
    "output_l19 = processor.run_uproot_job(data,\n",
    "                                    treename='Events',\n",
    "                                    processor_instance=GenTestProcessor(),\n",
    "                                    executor=processor.futures_executor, #iterative, futures\n",
    "                                    executor_args={\"schema\": BaseSchema, 'workers': 8, 'skipbadfiles': True},\n",
    "                                    chunksize=360000,\n",
    "                                    )\n",
    "\n",
    "print(f\"Process finished in: {time.time() - tstart:.2f} s\")\n",
    "print(output_l19['cutflow'])\n",
    "\n",
    "nevt_l19 = output_l19['cutflow']['Number of events']\n",
    "JpsiDstar_l19 = output_l19['cutflow']['Number of DimuDstar']\n",
    "nevts_with_jpsi_dstar_l19 = output_l19['cutflow']['Number of evts with DimuDstar']\n",
    "\n",
    "bot.bot_message(\"Process Finished: L19\")"
   ]
  },
  {
   "cell_type": "markdown",
   "id": "e21b991d-bab7-4896-8c73-2e2acaeee4f3",
   "metadata": {},
   "source": [
    "#  L20 - "
   ]
  },
  {
   "cell_type": "code",
   "execution_count": 44,
   "id": "3e12f53f-e124-4500-a569-762d00d5ac4b",
   "metadata": {},
   "outputs": [
    {
     "data": {
      "application/vnd.jupyter.widget-view+json": {
       "model_id": "ad1327d20dbe4100a72174ffb17321bf",
       "version_major": 2,
       "version_minor": 0
      },
      "text/plain": [
       "Processing:   0%|          | 0/600 [00:00<?, ?chunk/s]"
      ]
     },
     "metadata": {},
     "output_type": "display_data"
    },
    {
     "name": "stdout",
     "output_type": "stream",
     "text": [
      "Process finished in: 304.27 s\n",
      "defaultdict_accumulator(<class 'int'>, {'Number of events': 6033, 'Number of initial Dimuons': 6865, 'Number of initial Muons': 36118, 'Dimu 0 charge': 5534, 'Jpsi mass': 4371, 'Dimu muon softId': 4005, 'Dimu muon pt cut': 3250, 'Dimu before gen match': 3212, 'Number of evts with Muon': 3211, 'Dstar trk muon cut': 974716, 'Dstar trk pt cut': 922948, 'Dstar chindof pt cut': 825053, 'Dstar trk hits cut': 646389, 'Dstar trk impact xy cut': 639026, 'Dstar trk impact z cut': 639009, 'Dstar pis pt cut': 74535, 'Dstar pis chi2 cut': 71897, 'Dstar pis hits cut': 71897, 'Dstar D0 cosphi cut': 7518, 'Dstar D0 mass cut': 3635, 'Dstar D0 pt cut': 1579, 'Dstar D0 dlSig cut': 551, 'Dstar pt cut': 551, 'Dstar right charge cut': 473, 'Number of DimuDstar': 275, 'Number of Associated Dstar': 275, 'Number of evts with DimuDstar': 217})\n",
      "Bot informations: {'id': 5179895518, 'can_join_groups': True, 'is_bot': True, 'first_name': 'Snake', 'username': 'SnakeAnalysisbot', 'can_read_all_group_messages': False, 'supports_inline_queries': False}\n"
     ]
    }
   ],
   "source": [
    "data = {\"test\": files[0:600]}\n",
    "                      \n",
    "tstart = time.time()\n",
    "\n",
    "cut_list = ['like_charge_dimuon', 'jpsi_mass', 'soft_id', 'muon_pt', 'muon_eta', 'dstar_hasmuon',\n",
    "            'dstar_trk_pt', 'dstar_trk_chindof', 'dstar_trk_hits', 'dstar_trk_impact_xy',\n",
    "            'dstar_trk_impact_z', 'dstar_pis_pt', 'dstar_pis_chindof', 'dstar_pis_nvalid',\n",
    "            'dstar_d0_cosphi', 'dstar_d0_mass', 'dstar_d0_pt', 'dstar_d0_dlsig',\n",
    "            'dstar_pt', 'dstar_right_charge']\n",
    "\n",
    "output_l20 = processor.run_uproot_job(data,\n",
    "                                    treename='Events',\n",
    "                                    processor_instance=GenTestProcessor(),\n",
    "                                    executor=processor.futures_executor, #iterative, futures\n",
    "                                    executor_args={\"schema\": BaseSchema, 'workers': 8, 'skipbadfiles': True},\n",
    "                                    chunksize=360000,\n",
    "                                    )\n",
    "\n",
    "print(f\"Process finished in: {time.time() - tstart:.2f} s\")\n",
    "print(output_l20['cutflow'])\n",
    "\n",
    "nevt_l20 = output_l20['cutflow']['Number of events']\n",
    "JpsiDstar_l20 = output_l20['cutflow']['Number of DimuDstar']\n",
    "nevts_with_jpsi_dstar_l20 = output_l20['cutflow']['Number of evts with DimuDstar']\n",
    "\n",
    "bot.bot_message(\"Process Finished: L20\")"
   ]
  },
  {
   "cell_type": "markdown",
   "id": "05e4c8c5-4266-4115-901c-566e1784eacc",
   "metadata": {},
   "source": [
    "#  L21 - All cuts"
   ]
  },
  {
   "cell_type": "code",
   "execution_count": 45,
   "id": "1e042b1e-7551-46e3-8610-64fc93d34497",
   "metadata": {},
   "outputs": [
    {
     "data": {
      "application/vnd.jupyter.widget-view+json": {
       "model_id": "b89578133505476f8da879446c218688",
       "version_major": 2,
       "version_minor": 0
      },
      "text/plain": [
       "Processing:   0%|          | 0/600 [00:00<?, ?chunk/s]"
      ]
     },
     "metadata": {},
     "output_type": "display_data"
    },
    {
     "name": "stdout",
     "output_type": "stream",
     "text": [
      "Process finished in: 297.15 s\n",
      "defaultdict_accumulator(<class 'int'>, {'Number of events': 6033, 'Number of initial Dimuons': 6865, 'Number of initial Muons': 36118, 'Dimu 0 charge': 5534, 'Jpsi mass': 4371, 'Dimu muon softId': 4005, 'Dimu muon pt cut': 3250, 'Dimu before gen match': 3212, 'Number of evts with Muon': 3211, 'Dstar trk muon cut': 974716, 'Dstar trk pt cut': 922948, 'Dstar chindof pt cut': 825053, 'Dstar trk hits cut': 646389, 'Dstar trk impact xy cut': 639026, 'Dstar trk impact z cut': 639009, 'Dstar pis pt cut': 74535, 'Dstar pis chi2 cut': 71897, 'Dstar pis hits cut': 71897, 'Dstar D0 cosphi cut': 7518, 'Dstar D0 mass cut': 3635, 'Dstar D0 pt cut': 1579, 'Dstar D0 dlSig cut': 551, 'Dstar pt cut': 551, 'Dstar right charge cut': 473, 'Number of DimuDstar': 194, 'Number of Associated Dstar': 194, 'Number of evts with DimuDstar': 168})\n",
      "Bot informations: {'id': 5179895518, 'can_join_groups': True, 'is_bot': True, 'first_name': 'Snake', 'username': 'SnakeAnalysisbot', 'can_read_all_group_messages': False, 'supports_inline_queries': False}\n"
     ]
    }
   ],
   "source": [
    "data = {\"test\": files[0:600]}\n",
    "                      \n",
    "tstart = time.time()\n",
    "\n",
    "cut_list = ['like_charge_dimuon', 'jpsi_mass', 'soft_id', 'muon_pt', 'muon_eta', 'dstar_hasmuon',\n",
    "            'dstar_trk_pt', 'dstar_trk_chindof', 'dstar_trk_hits', 'dstar_trk_impact_xy',\n",
    "            'dstar_trk_impact_z', 'dstar_pis_pt', 'dstar_pis_chindof', 'dstar_pis_nvalid',\n",
    "            'dstar_d0_cosphi', 'dstar_d0_mass', 'dstar_d0_pt', 'dstar_d0_dlsig',\n",
    "            'dstar_pt', 'dstar_right_charge', 'association']\n",
    "\n",
    "output_l21 = processor.run_uproot_job(data,\n",
    "                                    treename='Events',\n",
    "                                    processor_instance=GenTestProcessor(),\n",
    "                                    executor=processor.futures_executor, #iterative, futures\n",
    "                                    executor_args={\"schema\": BaseSchema, 'workers': 8, 'skipbadfiles': True},\n",
    "                                    chunksize=360000,\n",
    "                                    )\n",
    "\n",
    "print(f\"Process finished in: {time.time() - tstart:.2f} s\")\n",
    "print(output_l21['cutflow'])\n",
    "\n",
    "nevt_l21 = output_l21['cutflow']['Number of events']\n",
    "JpsiDstar_l21 = output_l21['cutflow']['Number of DimuDstar']\n",
    "nevts_with_jpsi_dstar_l21 = output_l21['cutflow']['Number of evts with DimuDstar']\n",
    "\n",
    "bot.bot_message(\"Process Finished: L21\")"
   ]
  },
  {
   "cell_type": "code",
   "execution_count": 79,
   "id": "1c3c4db2-5f19-411f-b597-b3fd6e6ef409",
   "metadata": {},
   "outputs": [],
   "source": [
    "with open('cutflow.csv', 'w') as f:\n",
    "    # create the csv writer\n",
    "    writer = csv.writer(f)\n",
    "\n",
    "    # write a row to the csv file\n",
    "    header = ['Cut Number', 'Cut applied', 'N Candidates', 'N events with  J/Ψ + D*', 'Drop w.r.t previous', 'Drop w.r.t first']\n",
    "    writer.writerow(header)\n",
    "    \n",
    "    l0 = [0, 'No cut', JpsiDstar_l0, nevts_with_jpsi_dstar_l0, '-', '-']\n",
    "    writer.writerow(l0)\n",
    "    \n",
    "    jpsi_cuts = ['J/Ψ']\n",
    "    writer.writerow(jpsi_cuts)\n",
    "    \n",
    "    l1 = [1, 'Dimuon charge = 0', JpsiDstar_l1, nevts_with_jpsi_dstar_l1, nevts_with_jpsi_dstar_l1/nevts_with_jpsi_dstar_l0, nevts_with_jpsi_dstar_l1/nevts_with_jpsi_dstar_l0]\n",
    "    writer.writerow(l1)\n",
    "    \n",
    "    l2 = [2, '2.95 < M(𝜇𝜇) < 3.25 GeV', JpsiDstar_l2, nevts_with_jpsi_dstar_l2, nevts_with_jpsi_dstar_l2/nevts_with_jpsi_dstar_l1, nevts_with_jpsi_dstar_l2/nevts_with_jpsi_dstar_l0]\n",
    "    writer.writerow(l2)\n",
    "    \n",
    "    l3 = [3, 'Muon Soft_id', JpsiDstar_l3, nevts_with_jpsi_dstar_l3, nevts_with_jpsi_dstar_l3/nevts_with_jpsi_dstar_l2, nevts_with_jpsi_dstar_l3/nevts_with_jpsi_dstar_l0]\n",
    "    writer.writerow(l3)\n",
    "    \n",
    "    l4 = [4, 'pT𝜇 > 3 GeV', JpsiDstar_l4, nevts_with_jpsi_dstar_l4, nevts_with_jpsi_dstar_l4/nevts_with_jpsi_dstar_l3, nevts_with_jpsi_dstar_l4/nevts_with_jpsi_dstar_l0]\n",
    "    writer.writerow(l4)\n",
    "    \n",
    "    l5 = [5, '|𝜂𝜇| < 2.4', JpsiDstar_l5, nevts_with_jpsi_dstar_l5, nevts_with_jpsi_dstar_l5/nevts_with_jpsi_dstar_l4, nevts_with_jpsi_dstar_l5/nevts_with_jpsi_dstar_l0]\n",
    "    writer.writerow(l5)\n",
    "    \n",
    "    dstar_cuts = ['D*']\n",
    "    writer.writerow(dstar_cuts)\n",
    "    \n",
    "    l6 = [6, 'D* has no muon', JpsiDstar_l6, nevts_with_jpsi_dstar_l6, nevts_with_jpsi_dstar_l6/nevts_with_jpsi_dstar_l5, nevts_with_jpsi_dstar_l6/nevts_with_jpsi_dstar_l0]\n",
    "    writer.writerow(l6)\n",
    "    \n",
    "    l7 = [7, 'Kaon and pion from D* pT > 0.5 GeV', JpsiDstar_l7, nevts_with_jpsi_dstar_l7, nevts_with_jpsi_dstar_l7/nevts_with_jpsi_dstar_l6, nevts_with_jpsi_dstar_l7/nevts_with_jpsi_dstar_l0]\n",
    "    writer.writerow(l7)\n",
    "    \n",
    "    l8 = [8, 'Kaon and pion track 𝜒²/ndof < 2.5', JpsiDstar_l8, nevts_with_jpsi_dstar_l8, nevts_with_jpsi_dstar_l8/nevts_with_jpsi_dstar_l7, nevts_with_jpsi_dstar_l8/nevts_with_jpsi_dstar_l0]\n",
    "    writer.writerow(l8)\n",
    "    \n",
    "    l9 = [9, 'Kaon and pion hits: valid hits > 4, pixel hits > 1', JpsiDstar_l9, nevts_with_jpsi_dstar_l9, nevts_with_jpsi_dstar_l9/nevts_with_jpsi_dstar_l8, nevts_with_jpsi_dstar_l9/nevts_with_jpsi_dstar_l0]\n",
    "    writer.writerow(l9)\n",
    "    \n",
    "    l10 = [10, 'Kaon and Pion dxy < 0.1 cm', JpsiDstar_l10, nevts_with_jpsi_dstar_l10, nevts_with_jpsi_dstar_l10/nevts_with_jpsi_dstar_l9, nevts_with_jpsi_dstar_l10/nevts_with_jpsi_dstar_l0]\n",
    "    writer.writerow(l10)\n",
    "    \n",
    "    l11 = [11, 'Kaon and Pion dz < 1 cm', JpsiDstar_l11, nevts_with_jpsi_dstar_l11, nevts_with_jpsi_dstar_l11/nevts_with_jpsi_dstar_l10, nevts_with_jpsi_dstar_l11/nevts_with_jpsi_dstar_l0]\n",
    "    writer.writerow(l11)\n",
    "    \n",
    "    l12 = [12, 'Slow pion pT > 0.3 GeV', JpsiDstar_l12, nevts_with_jpsi_dstar_l12, nevts_with_jpsi_dstar_l12/nevts_with_jpsi_dstar_l11, nevts_with_jpsi_dstar_l12/nevts_with_jpsi_dstar_l0]\n",
    "    writer.writerow(l12)\n",
    "    \n",
    "    l13 = [13, 'Slow pion track 𝜒²/ndof < 3', JpsiDstar_l13, nevts_with_jpsi_dstar_l13, nevts_with_jpsi_dstar_l13/nevts_with_jpsi_dstar_l12, nevts_with_jpsi_dstar_l13/nevts_with_jpsi_dstar_l0]\n",
    "    writer.writerow(l13)\n",
    "    \n",
    "    l14 = [14, 'Slow pion valid hits > 2', JpsiDstar_l14, nevts_with_jpsi_dstar_l14, nevts_with_jpsi_dstar_l14/nevts_with_jpsi_dstar_l13, nevts_with_jpsi_dstar_l14/nevts_with_jpsi_dstar_l0]\n",
    "    writer.writerow(l14)\n",
    "    \n",
    "    l15 = [15, 'D0 (from D*) cos(phi) > 0.99 (vertex alignment)', JpsiDstar_l15, nevts_with_jpsi_dstar_l15, nevts_with_jpsi_dstar_l15/nevts_with_jpsi_dstar_l14, nevts_with_jpsi_dstar_l15/nevts_with_jpsi_dstar_l0]\n",
    "    writer.writerow(l15)\n",
    "    \n",
    "    l16 = [16, ' D0PDGmass - 0.028 < D0 (from D*) mass < D0PDGmass + 0.028', JpsiDstar_l16, nevts_with_jpsi_dstar_l16, nevts_with_jpsi_dstar_l16/nevts_with_jpsi_dstar_l15, nevts_with_jpsi_dstar_l16/nevts_with_jpsi_dstar_l0]\n",
    "    writer.writerow(l16)\n",
    "    \n",
    "    l17 = [17, 'D0 (from D*) pT > 3 GeV', JpsiDstar_l17, nevts_with_jpsi_dstar_l17, nevts_with_jpsi_dstar_l17/nevts_with_jpsi_dstar_l16, nevts_with_jpsi_dstar_l17/nevts_with_jpsi_dstar_l0]\n",
    "    writer.writerow(l17)\n",
    "    \n",
    "    l18 = [18, 'D0 (from D*) decay length significance > 3', JpsiDstar_l18, nevts_with_jpsi_dstar_l18, nevts_with_jpsi_dstar_l18/nevts_with_jpsi_dstar_l17, nevts_with_jpsi_dstar_l18/nevts_with_jpsi_dstar_l0]\n",
    "    writer.writerow(l18)\n",
    "    \n",
    "    l19 = [19, 'D* pT > 3 GeV', JpsiDstar_l19, nevts_with_jpsi_dstar_l19, nevts_with_jpsi_dstar_l19/nevts_with_jpsi_dstar_l18, nevts_with_jpsi_dstar_l19/nevts_with_jpsi_dstar_l0]\n",
    "    writer.writerow(l19)\n",
    "    \n",
    "    l20 = [20, 'D* right charge ', JpsiDstar_l20, nevts_with_jpsi_dstar_l20, nevts_with_jpsi_dstar_l20/nevts_with_jpsi_dstar_l19, nevts_with_jpsi_dstar_l20/nevts_with_jpsi_dstar_l0]\n",
    "    writer.writerow(l20)\n",
    "    \n",
    "    jpsi_dstar_cuts = ['J/Ψ + D* cuts']\n",
    "    writer.writerow(jpsi_dstar_cuts)\n",
    "       \n",
    "    l21 = [21, 'Association criteria: same vertex', JpsiDstar_l21, nevts_with_jpsi_dstar_l21, nevts_with_jpsi_dstar_l21/nevts_with_jpsi_dstar_l20, nevts_with_jpsi_dstar_l21/nevts_with_jpsi_dstar_l0]\n",
    "    writer.writerow(l21)\n",
    "    \n",
    "    last_line = ['Global cuts', 'drop', JpsiDstar_l21/JpsiDstar_l0, nevts_with_jpsi_dstar_l21/nevts_with_jpsi_dstar_l0]\n",
    "    writer.writerow(last_line)\n",
    "    \n",
    "    "
   ]
  }
 ],
 "metadata": {
  "kernelspec": {
   "display_name": "Python 3 (ipykernel)",
   "language": "python",
   "name": "python3"
  },
  "language_info": {
   "codemirror_mode": {
    "name": "ipython",
    "version": 3
   },
   "file_extension": ".py",
   "mimetype": "text/x-python",
   "name": "python",
   "nbconvert_exporter": "python",
   "pygments_lexer": "ipython3",
   "version": "3.9.7"
  }
 },
 "nbformat": 4,
 "nbformat_minor": 5
}
