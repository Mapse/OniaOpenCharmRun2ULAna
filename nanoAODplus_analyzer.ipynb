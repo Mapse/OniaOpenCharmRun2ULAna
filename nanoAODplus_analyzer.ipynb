{
 "cells": [
  {
   "cell_type": "markdown",
   "metadata": {},
   "source": [
    "# NanoAODplus_analyzer"
   ]
  },
  {
   "cell_type": "code",
   "execution_count": null,
   "metadata": {},
   "outputs": [],
   "source": [
    "import time\n",
    "\n",
    "from coffea import hist\n",
    "from coffea.analysis_objects import JaggedCandidateArray\n",
    "import coffea.processor as processor\n",
    "from awkward import JaggedArray\n",
    "import numpy as np\n",
    "from pprint import pprint\n",
    "\n",
    "from nanoAODplus_processor.AnalyzerProcessor import AnalyzerProcessor\n",
    "from data.fileset import filesets\n",
    "import yaml\n",
    "\n",
    "import matplotlib.pyplot as plt\n",
    "import mplhep as hep\n",
    "plt.style.use(hep.style.CMS)"
   ]
  },
  {
   "cell_type": "code",
   "execution_count": null,
   "metadata": {},
   "outputs": [],
   "source": [
    "config_yaml = yaml.load(open(\"config/local.yaml\", \"r\"), Loader=yaml.FullLoader)\n",
    "\n",
    "if config_yaml['executor'] == 'futures_executor': \n",
    "    executor = processor.futures_executor\n",
    "\n",
    "print(executor)\n",
    "    \n",
    "tstart = time.time()\n",
    "\n",
    "files = {'Charmonium2017MINIAOD': filesets['Charmonium2017MINIAOD'][0:100], \n",
    "           'MuOnia2017MINIAOD': filesets['MuOnia2017MINIAOD'][0:100], \n",
    "           'DoubleMuon2017AOD': filesets['DoubleMuon2017AOD'][0:300]\n",
    "          }\n",
    "\n",
    "output = processor.run_uproot_job(files,\n",
    "                                  treename='Events',\n",
    "                                  processor_instance=AnalyzerProcessor(),\n",
    "                                  #executor=processor.iterative_executor,\n",
    "                                  #executor_args={'flatten': True},\n",
    "                                  executor=executor,\n",
    "                                  #executor_args={'workers': 6, 'flatten': True},\n",
    "                                  executor_args={'workers': config_yaml['n_cores'], 'flatten': True},\n",
    "                                  chunksize=config_yaml['chunksize'],\n",
    "                                 )\n",
    "\n",
    "elapsed = time.time() - tstart\n",
    "print(output)"
   ]
  },
  {
   "cell_type": "code",
   "execution_count": null,
   "metadata": {},
   "outputs": [],
   "source": [
    "ax = hist.plot1d(output['muon_pt'], overlay='dataset')"
   ]
  },
  {
   "cell_type": "code",
   "execution_count": null,
   "metadata": {},
   "outputs": [],
   "source": [
    "ax = hist.plot1d(output['muon_eta'], overlay='dataset')"
   ]
  },
  {
   "cell_type": "code",
   "execution_count": null,
   "metadata": {},
   "outputs": [],
   "source": [
    "ax = hist.plot1d(output['muon_phi'], overlay='dataset')"
   ]
  },
  {
   "cell_type": "code",
   "execution_count": null,
   "metadata": {},
   "outputs": [],
   "source": [
    "ax = hist.plot1d(output['dimu_mass'], overlay='dataset')\n",
    "ax.set_yscale('log')\n",
    "ax.set_ylim(0.1,1e6)\n",
    "ax.set_xlim(2.5,120)"
   ]
  },
  {
   "cell_type": "code",
   "execution_count": null,
   "metadata": {},
   "outputs": [],
   "source": [
    "ax = hist.plot1d(output['dimu_pt'], overlay='dataset')\n",
    "ax.set_xlim(0,300)"
   ]
  },
  {
   "cell_type": "code",
   "execution_count": null,
   "metadata": {},
   "outputs": [],
   "source": [
    "ax= hist.plot1d(output['dimu_eta'], overlay='dataset')"
   ]
  },
  {
   "cell_type": "code",
   "execution_count": null,
   "metadata": {},
   "outputs": [],
   "source": [
    "ax= hist.plot1d(output['dimu_phi'], overlay='dataset')"
   ]
  },
  {
   "cell_type": "code",
   "execution_count": null,
   "metadata": {},
   "outputs": [],
   "source": [
    "print(\"Events/s:\", output['cutflow']['all events']/elapsed, \"Time elapsed:\", elapsed)\n",
    "print(output['cutflow'])"
   ]
  },
  {
   "cell_type": "code",
   "execution_count": null,
   "metadata": {},
   "outputs": [],
   "source": [
    "config_yaml = yaml.load(open(\"config/local.yaml\", \"r\"), Loader=yaml.FullLoader)\n",
    "\n",
    "if config_yaml['executor'] == 'futures_executor': \n",
    "    executor = processor.futures_executor\n",
    "\n",
    "print(executor)"
   ]
  },
  {
   "cell_type": "code",
   "execution_count": null,
   "metadata": {},
   "outputs": [],
   "source": []
  }
 ],
 "metadata": {
  "kernelspec": {
   "display_name": "Python 3",
   "language": "python",
   "name": "python3"
  },
  "language_info": {
   "codemirror_mode": {
    "name": "ipython",
    "version": 3
   },
   "file_extension": ".py",
   "mimetype": "text/x-python",
   "name": "python",
   "nbconvert_exporter": "python",
   "pygments_lexer": "ipython3",
   "version": "3.6.10"
  }
 },
 "nbformat": 4,
 "nbformat_minor": 4
}
