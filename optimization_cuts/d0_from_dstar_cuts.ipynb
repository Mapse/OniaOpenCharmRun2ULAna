{
 "cells": [
  {
   "cell_type": "code",
   "execution_count": 4,
   "id": "30d3eb6b-607b-4518-aa2c-632da43aeabc",
   "metadata": {
    "tags": []
   },
   "outputs": [],
   "source": [
    "import time\n",
    "import os\n",
    "import numba\n",
    "import math\n",
    "from coffea.nanoevents import BaseSchema\n",
    "\n",
    "import awkward as ak\n",
    "import numpy as np\n",
    "from coffea import processor, hist\n",
    "\n",
    "from coffea.nanoevents.methods import candidate\n",
    "ak.behavior.update(candidate.behavior)\n",
    "\n",
    "import mplhep\n",
    "import matplotlib.pyplot as plt\n",
    "plt.style.use(mplhep.style.CMS)\n",
    "\n",
    "# To import bot\n",
    "import sys\n",
    "\n",
    "sys.path.insert(1, '/afs/cern.ch/work/m/mabarros/public/CMSSW_10_6_12/src/OniaOpenCharmRun2ULAna/bot')\n",
    "\n",
    "import bot_config as bot"
   ]
  },
  {
   "cell_type": "code",
   "execution_count": 5,
   "id": "c6f8569c-5997-45f7-b85d-dbd598e84839",
   "metadata": {
    "tags": []
   },
   "outputs": [],
   "source": [
    "muon_cols = ['Muon_charge', 'Muon_dxy', 'Muon_dxyErr', 'Muon_dz', 'Muon_dzErr', 'Muon_eta', 'Muon_isGlobal', 'Muon_mass',\n",
    "             'Muon_phi', 'Muon_pt', 'Muon_ptErr', 'Muon_softId', 'Muon_vtxIdx', 'Muon_vtxFlag', 'Muon_simIdx']\n",
    "\n",
    "dimu_cols = ['Dimu_pt', 'Dimu_eta', 'Dimu_phi', 'Dimu_rap', 'Dimu_mass', 'Dimu_charge', 'Dimu_vtxIdx', 'Dimu_chi2', 'Dimu_dl',\n",
    "             'Dimu_dlErr', 'Dimu_dlSig', 'Dimu_cosphi', 'Dimu_x', 'Dimu_y', 'Dimu_z', 'Dimu_t1muIdx', 'Dimu_t2muIdx',]\n",
    "\n",
    "d0_cols = ['D0_pt', 'D0_eta', 'D0_phi', 'D0_rap', 'D0_mass12', 'D0_mass21', 'D0_vtxIdx', 'D0_chi2', 'D0_dl', 'D0_dlErr', 'D0_dlSig',\n",
    "           'D0_cosphi', 'D0_x', 'D0_y', 'D0_z', 'D0_hasMuon',\n",
    "           'D0_t1pt', 'D0_t1eta', 'D0_t1phi', 'D0_t1chindof', 'D0_t1nValid', 'D0_t1nPix', 'D0_t1dxy', 'D0_t1dz', 'D0_t1chg', \n",
    "           'D0_t2pt', 'D0_t2eta', 'D0_t2phi', 'D0_t2chindof', 'D0_t2nValid', 'D0_t2nPix', 'D0_t2dxy', 'D0_t2dz', 'D0_t2chg',]\n",
    "\n",
    "dstar_cols = ['Dstar_pt', 'Dstar_eta', 'Dstar_phi', 'Dstar_rap', 'Dstar_deltam', 'Dstar_deltamr', 'Dstar_vtxIdx', 'Dstar_hasMuon',\n",
    "              'Dstar_D0pt', 'Dstar_D0eta', 'Dstar_D0phi', 'Dstar_D0mass', 'Dstar_D0chi2', 'Dstar_D0dl', 'Dstar_D0dlErr',\n",
    "              'Dstar_D0dlSig', 'Dstar_D0cosphi', 'Dstar_D0x', 'Dstar_D0y', 'Dstar_D0z',\n",
    "              'Dstar_Kpt', 'Dstar_Keta', 'Dstar_Kphi', 'Dstar_KvtxIdx', 'Dstar_Kchindof', 'Dstar_KnValid', 'Dstar_KnPix', 'Dstar_Kdxy',\n",
    "              'Dstar_Kdz', 'Dstar_Kchg', 'Dstar_pipt', 'Dstar_pieta', 'Dstar_piphi', 'Dstar_pivtxIdx', 'Dstar_pichindof', 'Dstar_pinValid',\n",
    "              'Dstar_pinPix', 'Dstar_pidxy', 'Dstar_pidz', 'Dstar_pichg', 'Dstar_pispt', 'Dstar_piseta', 'Dstar_pisphi', 'Dstar_pisvtxIdx',\n",
    "              'Dstar_pischindof', 'Dstar_pisnValid', 'Dstar_pisnPix',\n",
    "              'Dstar_pisdxy', 'Dstar_pisdz', 'Dstar_simIdx', 'Dstar_D0simIdx',\n",
    "              'Dstar_pisisHighPurity', 'Dstar_piisHighPurity', 'Dstar_KisHighPurity']\n",
    "\n",
    "gen_part_cols = ['GenPart_eta', 'GenPart_genPartIdxMother', 'GenPart_mass', 'GenPart_pdgId', \"GenPart_phi\", \"GenPart_pt\", 'GenPart_status',\n",
    "                'GenPart_Id', 'GenPart_parpdgId', 'GenPart_sparpdgId', 'GenPart_numberOfDaughters', 'GenPart_nstchgdaug', 'GenPart_vx', \n",
    "                'GenPart_vy', 'GenPart_vz', 'GenPart_mvx', 'GenPart_mvy', 'GenPart_mvz', 'GenPart_recIdx']\n",
    "\n",
    "hlt_cols_charm_2017 = ['HLT_Dimuon0_Jpsi', 'HLT_Dimuon20_Jpsi_Barrel_Seagulls' , 'HLT_Dimuon25_Jpsi']\n",
    "\n",
    "D0_PDG_MASS = 1.864\n",
    "\n",
    "def get_vars_dict(events, col_list):\n",
    "    dict = {}\n",
    "    col = ''\n",
    "    for c in col_list:\n",
    "        if c.startswith('Muon'):\n",
    "            col = c[5:]\n",
    "        elif c.startswith('Dimu'):\n",
    "            col = c[4:]\n",
    "            if col.startswith('_'): col = col[1:]\n",
    "        elif c.startswith('D0'):\n",
    "            col = c[2:]\n",
    "            if col.startswith('_'): col = col[1:]\n",
    "        elif c.startswith('Dstar'):\n",
    "            col = c[5:]\n",
    "            if col.startswith('_'): col = col[1:]\n",
    "        elif c.startswith('PVtx'):\n",
    "            col = c[5:]\n",
    "        elif c.startswith(\"GenPart\"):\n",
    "            col = c[8:]\n",
    "        elif c.startswith(\"HLT\"):\n",
    "            col = c[:]\n",
    "        else:\n",
    "            Exception('Not good!')\n",
    "\n",
    "        if col == 'x' or col == 'y' or col == 'z':\n",
    "            col = 'vtx_' + col\n",
    "\n",
    "        if len(events[c]) == 0:\n",
    "            dict[col] = np.array([])\n",
    "        else:\n",
    "            dict[col] = events[c]\n",
    "    return dict"
   ]
  },
  {
   "cell_type": "code",
   "execution_count": 6,
   "id": "518a89c4-b1db-4ee4-bafe-cd0a59572cab",
   "metadata": {
    "tags": []
   },
   "outputs": [],
   "source": [
    "def build_4mom_string(candidate):\n",
    "    return f'({candidate.pt:.2f}, {candidate.eta:.2f}, {candidate.phi:.2f}, {candidate.mass:.2f})'\n",
    "\n",
    "def to_cartesian(cand):\n",
    "    x = cand.pt*math.cos(cand.phi)\n",
    "    y = cand.pt*math.sin(cand.phi)\n",
    "    z = cand.pt*math.sinh(cand.eta)\n",
    "    t = math.sqrt(x*x + y*y + z*z + cand.mass*cand.mass)\n",
    "\n",
    "    return t, x, y, z\n",
    "\n",
    "def sum_cand(cand1, cand2):\n",
    "    t1, x1, y1, z1 = to_cartesian(cand1)\n",
    "    t2, x2, y2, z2 = to_cartesian(cand2)\n",
    "\n",
    "    tr = t1+t2\n",
    "    xr = x1+x2\n",
    "    yr = y1+y2\n",
    "    zr = z1+z2\n",
    "\n",
    "    r = math.sqrt(xr*xr + yr*yr + zr*zr)\n",
    "    pt = math.sqrt(xr*xr + yr*yr)\n",
    "    eta = math.asinh(zr / r)\n",
    "    phi = math.atan2(yr, xr)\n",
    "    mass = math.sqrt(tr*tr - xr*xr - yr*yr - zr*zr)\n",
    "\n",
    "    return f'({pt:.2f},{eta:.2f},{phi:.2f},{mass:.2f})'\n",
    "\n",
    "\n",
    "def print_candidate(candidate):\n",
    "    quadrimom = build_4mom_string(candidate)\n",
    "    print(f\"PDGId: {candidate.pdgId}, motherId: {candidate.genPartIdxMother}, n_daughters: {candidate.numberOfDaughters}, status: {candidate.status}, 4-momentum (pt, eta, phi, mass): {quadrimom}\")"
   ]
  },
  {
   "cell_type": "code",
   "execution_count": 39,
   "id": "4afc3f1b-5871-46e4-ac51-30e2cc47f166",
   "metadata": {
    "tags": []
   },
   "outputs": [],
   "source": [
    "import re\n",
    "\n",
    "files = []\n",
    "with os.scandir(\"/eos/user/m/mabarros/Data17UL/CharmoniumRun2017F_AOD/0000/\") as it:\n",
    "    for file in it:\n",
    "        if file.name.endswith('.root') and (file.stat().st_size != 0):\n",
    "            files.append(file.path)\n",
    "'''with os.scandir(\"/eos/user/m/mabarros/Monte_Carlo/2017/0000\") as it:\n",
    "    for file in it:\n",
    "        if file.name.endswith('.root') and (file.stat().st_size != 0):\n",
    "            files.append(file.path)'''\n",
    "'''with os.scandir(\"/eos/user/k/kmotaama/CRAB_UserFiles/UpsilonToMuMuDstarToD0pi/220131_135742/0000\") as it:\n",
    "    for file in it:\n",
    "        if file.name.endswith('.root') and (file.stat().st_size != 0):\n",
    "            files.append(file.path)'''\n",
    "\n",
    "            \n",
    "            \n",
    "def atoi(text):\n",
    "    return int(text) if text.isdigit() else text\n",
    "\n",
    "def natural_keys(text):\n",
    "    '''\n",
    "    alist.sort(key=natural_keys) sorts in human order\n",
    "    http://nedbatchelder.com/blog/200712/human_sorting.html\n",
    "    (See Toothy's implementation in the comments)\n",
    "    '''\n",
    "    return [ atoi(c) for c in re.split(r'(\\d+)', text) ]\n",
    "            \n",
    "files.sort(key=natural_keys)"
   ]
  },
  {
   "cell_type": "code",
   "execution_count": 40,
   "id": "d48a4a44-ba53-4a1b-8896-55ad06f7b8e7",
   "metadata": {
    "tags": []
   },
   "outputs": [],
   "source": [
    "def ratio_plot(hist_reco, hist_mc):\n",
    "    fill_opts = {\n",
    "    'edgecolor': (0,0,0,0.3),\n",
    "    'alpha': 0.8\n",
    "    }\n",
    "    error_opts_1 = {\n",
    "        'facecolor': 'none',\n",
    "        'edgecolor': (0,0,0,.5),\n",
    "        'linewidth': 0\n",
    "    }\n",
    "    data_err_opts = {\n",
    "        'linestyle': 'none',\n",
    "        'marker': '.',\n",
    "        'markersize': 10.,\n",
    "        'color': 'k',\n",
    "        'elinewidth': 1,\n",
    "    }\n",
    "    \n",
    "    error_opts_2 = {\n",
    "        'facecolor': 'none',\n",
    "        'linewidth': 0,\n",
    "    }\n",
    "    \n",
    "    fig, (ax, rax) = plt.subplots(\n",
    "    nrows=2,\n",
    "    ncols=1,\n",
    "    figsize=(10,10),\n",
    "    gridspec_kw={\"height_ratios\": (3, 1)},\n",
    "    sharex=True\n",
    "    )\n",
    "    fig.subplots_adjust(hspace=.07)\n",
    "    \n",
    "    # plot the MC first\n",
    "    hist.plot1d(\n",
    "        hist_mc,\n",
    "        ax=ax,\n",
    "        clear=False,\n",
    "        stack=False,\n",
    "        line_opts=None,\n",
    "        fill_opts=fill_opts,\n",
    "        error_opts=error_opts_1\n",
    "    )\n",
    "    hist.plot1d(\n",
    "        hist_reco,\n",
    "        ax=ax,\n",
    "        clear=False,\n",
    "        stack=False,\n",
    "        line_opts=None,\n",
    "        fill_opts=fill_opts,\n",
    "        error_opts=error_opts_2\n",
    "    )\n",
    "    \n",
    "    ax.autoscale(axis='x', tight=True)\n",
    "    ax.set_xlabel(\"\")\n",
    "    leg = ax.legend()\n",
    "    \n",
    "    hist.plotratio(\n",
    "    num=hist_reco,\n",
    "    denom=hist_mc,\n",
    "    ax=rax,\n",
    "    error_opts=data_err_opts,\n",
    "    denom_fill_opts={},\n",
    "    guide_opts={},\n",
    "    unc='num'\n",
    "    )\n",
    "    rax.set_ylabel('Ratio')\n",
    "    rax.set_ylim(0,2)\n",
    "    \n",
    "    return ax, rax"
   ]
  },
  {
   "cell_type": "code",
   "execution_count": 41,
   "id": "bfec073c-db3c-4b6f-b154-065d345d84ed",
   "metadata": {
    "tags": []
   },
   "outputs": [],
   "source": [
    "def create_plot1d(hist1d, log=False, ax=None):\n",
    "    lumi = \"x\"\n",
    "    \n",
    "    from matplotlib.offsetbox import AnchoredOffsetbox, TextArea\n",
    "    plt.style.use(mplhep.style.CMS)\n",
    "    plt.rcParams.update({\n",
    "        'font.size': 16,\n",
    "        'axes.titlesize': 18,\n",
    "        'axes.labelsize': 18,\n",
    "        'xtick.labelsize': 14,\n",
    "        'ytick.labelsize': 14\n",
    "    })\n",
    "    fill_opts = {\n",
    "    'alpha': 0.8,\n",
    "    'edgecolor':(0,0,0,.5)\n",
    "    }\n",
    "    \n",
    "    data_err_opts = {\n",
    "    'linestyle': 'none',\n",
    "    'marker': '.',\n",
    "    'markersize': 10.,\n",
    "    'color': 'k',\n",
    "    'elinewidth': 1,}\n",
    "\n",
    "    \n",
    "    ax = hist.plot1d(hist1d, ax=ax)#, error_opts=data_err_opts)\n",
    "    \n",
    "    # CMS style\n",
    "    \n",
    "    CMS = plt.text(0.03, 0.93, \"CMS\",\n",
    "                  fontsize=22,\n",
    "                  fontweight='bold',\n",
    "                  horizontalalignment='left',\n",
    "                  verticalalignment='bottom',\n",
    "                  transform=ax.transAxes\n",
    "                 )\n",
    "    pre = plt.text(0.03, 0.88, \"Preliminary\",\n",
    "                  fontsize=19,\n",
    "                  fontstyle='italic',\n",
    "                  horizontalalignment='left',\n",
    "                  verticalalignment='bottom',\n",
    "                  transform=ax.transAxes\n",
    "                 )\n",
    "    lumi = plt.text(1., 1., r\"\" + lumi +  \"fb$^{-1}$ (13 TeV)\",\n",
    "                fontsize=18,\n",
    "                fontstyle='normal',\n",
    "                horizontalalignment='right',\n",
    "                verticalalignment='bottom',\n",
    "                transform=ax.transAxes\n",
    "               )\n",
    "\n",
    "    if log:\n",
    "        ax.set_yscale('log')\n",
    "        ax.set_ylim(1, None)\n",
    "    else:\n",
    "        ax.ticklabel_format(axis='y', style='sci', scilimits=(0,3), useMathText=True)\n",
    "    \n",
    "    axis = hist1d.axes()[0]\n",
    "    centers = axis.centers()\n",
    "    values = np.where(hist1d.values().get(()) < 0, 0, hist1d.values().get(()))\n",
    "    \n",
    "    # compute mean and std:\n",
    "    mean = np.sum(values*centers)/np.sum(values)\n",
    "    std = np.sqrt(np.sum(values*((centers - mean)**2))/np.sum(values))\n",
    "    \n",
    "    annotation = TextArea(f\"Total: {np.sum(values):.2e}\" \\\n",
    "                    + \"\\n\" + f\"Mean: {mean:.2e}\" \\\n",
    "                    + \"\\n\" + f\"Std: {std:.2e}\", textprops=dict(size=14))\n",
    "    \n",
    "    at = AnchoredOffsetbox('upper right', child=annotation)\n",
    "    at.patch.set_facecolor('None')\n",
    "    ax.add_artist(at)\n",
    "    \n",
    "    ax.legend().remove()\n",
    "    \n",
    "    return ax"
   ]
  },
  {
   "cell_type": "code",
   "execution_count": 42,
   "id": "244f6732-6afc-4de1-aafd-00cb4eb0cf70",
   "metadata": {
    "tags": []
   },
   "outputs": [],
   "source": [
    "def plot_2d(hist_2d):\n",
    "    \n",
    "    # CMS style\n",
    "    import mplhep\n",
    "    import matplotlib.pyplot as plt\n",
    "    \n",
    "    plt.style.use(mplhep.style.CMS)\n",
    "    \n",
    "    # Create figure\n",
    "    fig = plt.figure()\n",
    "    ax = fig.add_subplot()\n",
    "    \n",
    "    # plot\n",
    "    hist.plot2d(hist_2d, xaxis='dstar_pt', ax=ax)\n",
    "    mplhep.cms.label(ax=ax)"
   ]
  },
  {
   "cell_type": "code",
   "execution_count": 43,
   "id": "23b30edd-d893-4057-9ad0-4f4bb6f572d1",
   "metadata": {
    "tags": []
   },
   "outputs": [],
   "source": [
    "def plot_comparison(hist_list, legend, log=False):\n",
    "    \n",
    "    mplhep.cms.label()\n",
    "    \n",
    "    from matplotlib.offsetbox import AnchoredOffsetbox, TextArea\n",
    "    plt.style.use(mplhep.style.CMS)\n",
    "    plt.rcParams.update({\n",
    "        'font.size': 16,\n",
    "        'axes.titlesize': 18,\n",
    "        'axes.labelsize': 18,\n",
    "        'xtick.labelsize': 14,\n",
    "        'ytick.labelsize': 14\n",
    "    })\n",
    "    fill_opts = {\n",
    "    'alpha': 0.8,\n",
    "    'edgecolor':(0,0,0,.5)\n",
    "    }\n",
    "    \n",
    "    data_err_opts = {\n",
    "    'linestyle': 'none',\n",
    "    'marker': '.',\n",
    "    'markersize': 10.,\n",
    "    'color': 'k',\n",
    "    'elinewidth': 1,}\n",
    "    \n",
    "    for ht in hist_list:\n",
    "        ax = hist.plot1d(ht)\n",
    "        \n",
    "    handles, labels = ax.get_legend_handles_labels()\n",
    "    ax.legend(handles, legend, prop={'size': 16})\n",
    "\n",
    "    if log:\n",
    "        ax.set_yscale('log')\n",
    "        ax.set_ylim(1, None)\n",
    "    else:\n",
    "        ax.ticklabel_format(axis='y', style='sci', scilimits=(0,3), useMathText=True)  \n",
    "        \n",
    "    return ax"
   ]
  },
  {
   "cell_type": "code",
   "execution_count": 44,
   "id": "5c46ecf3-4a66-4c9b-a386-e738adb18ef4",
   "metadata": {
    "tags": []
   },
   "outputs": [],
   "source": [
    "def dimu_match(muon, dimu, genpart):\n",
    "    \n",
    "    # Filter genparticles for muon with jpsi as mother or jpsi\n",
    "    genpart = genpart[((np.absolute(genpart.pdgId) == 13) & (genpart.parpdgId == 443)) | (genpart.pdgId == 443)]\n",
    "    \n",
    "    ## Gen muon cuts\n",
    "    \n",
    "    # pT cut\n",
    "    gen_muon_pt_cut = (np.absolute(genpart.pdgId) == 13) & (genpart.parpdgId == 443) & (genpart.pt < 3)        \n",
    "    genpart = genpart[~gen_muon_pt_cut]\n",
    "    # eta cut\n",
    "    gen_muon_eta_cut = (np.absolute(genpart.pdgId) == 13) & (genpart.parpdgId == 443) & (np.absolute(genpart.eta >= 2.4))        \n",
    "    genpart = genpart[~gen_muon_eta_cut]\n",
    "\n",
    "    # Get the gendimuon id\n",
    "    gen_idx = get_gendimu_id(muon, genpart, ak.ArrayBuilder()).snapshot()\n",
    "    \n",
    "    valid_idx = (gen_idx.muon0 > -1) & (gen_idx.muon1 > -1) & (gen_idx.dimu > -1)\n",
    "    gen_idx = gen_idx[valid_idx]\n",
    "    dimu = dimu[valid_idx]\n",
    "    muon = muon[valid_idx]\n",
    "    \n",
    "    dimu_gen = ak.zip({'0': dimu, '1': genpart[gen_idx.dimu]})\n",
    "    muon0_gen = ak.zip({'0': muon.slot0, '1': genpart[gen_idx.muon0]})\n",
    "    muon1_gen = ak.zip({'0': muon.slot1, '1': genpart[gen_idx.muon1]})\n",
    "    \n",
    "    ##### To control variables\n",
    "    '''for i0 in range(len(dimu_gen['0'])):\n",
    "        if len(dimu_gen['0']) == 0: continue\n",
    "        print(f\"Event: {i0}\")\n",
    "        for i1 in range(len(dimu_gen['0'][i0])):\n",
    "            print(f\"dimu, mu1, mu2: ({dimu_gen['1'][i0][i1].pdgId}, {muon0_gen['1'][i0][i1].pdgId}, {muon1_gen['1'][i0][i1].pdgId}\")'''\n",
    "    \n",
    "    return dimu_gen, muon0_gen, muon1_gen, muon\n",
    "\n",
    "@numba.njit\n",
    "def get_gendimu_id(muon, genpart, builder):\n",
    "    for i0 in range(len(muon['0'])):\n",
    "        builder.begin_list()\n",
    "        for i1 in range(len(muon['0'][i0])):\n",
    "            index0 = index1 = -1\n",
    "            for i2 in range(len(genpart[i0])):\n",
    "                if genpart[i0][i2].Id == muon['0'][i0][i1].simIdx: index0 = i2\n",
    "                if genpart[i0][i2].Id == muon['1'][i0][i1].simIdx: index1 = i2\n",
    "            if ((index0 > -1) and (index1 > -1) and (genpart[i0][index0].genPartIdxMother == genpart[i0][index1].genPartIdxMother)):\n",
    "                index_gen = -1\n",
    "                for i3 in range(len(genpart[i0])):\n",
    "                    if genpart[i0][index0].genPartIdxMother != genpart[i0][i3].Id: continue\n",
    "                    index_gen = i3\n",
    "                builder.begin_record()\n",
    "                builder.field('muon0').integer(index0)\n",
    "                builder.field('muon1').integer(index1)\n",
    "                builder.field('dimu').integer(index_gen)\n",
    "                builder.end_record()\n",
    "            else:\n",
    "                builder.begin_record()\n",
    "                builder.field('muon0').integer(-1)\n",
    "                builder.field('muon1').integer(-1)\n",
    "                builder.field('dimu').integer(-1)\n",
    "                builder.end_record()\n",
    "        builder.end_list()\n",
    "            \n",
    "    return builder"
   ]
  },
  {
   "cell_type": "code",
   "execution_count": 45,
   "id": "3e7c9469-1712-43bb-95bd-fcaa5bc37a48",
   "metadata": {
    "tags": []
   },
   "outputs": [],
   "source": [
    "def dstar_match(dstar, genpart):\n",
    "    \n",
    "    # Takes gen dstar\n",
    "    gen_dstar = genpart[np.absolute(genpart.pdgId) == 413]\n",
    "    gen_dstar = gen_dstar[gen_dstar.pt > 4]\n",
    "    # Eta cut\n",
    "    gen_dstar = gen_dstar[np.absolute(gen_dstar.eta <= 2.4)]\n",
    "    # Takes gen D0 from Dstar\n",
    "    gen_d0 = genpart[((np.absolute(genpart.pdgId) == 421) & (np.absolute(genpart.parpdgId == 413)))]\n",
    "    gen_d0 = gen_d0[gen_d0.pt > 4]\n",
    "    \n",
    "    gen_pion = genpart[((np.absolute(genpart.pdgId) == 211) & (np.absolute(genpart.parpdgId == 421)))]\n",
    "    gen_pion = gen_pion[gen_pion.pt > 0.5]\n",
    "    \n",
    "    gen_pion_slow = genpart[((np.absolute(genpart.pdgId) == 211) & (np.absolute(genpart.parpdgId == 413)))]\n",
    "    gen_pion_slow = gen_pion_slow[gen_pion_slow.pt > 0.3]\n",
    "    \n",
    "    gen_kaon = genpart[((np.absolute(genpart.pdgId) == 321) & (np.absolute(genpart.parpdgId == 421)))]\n",
    "    gen_kaon = gen_kaon[gen_kaon.pt > 0.5]\n",
    "\n",
    "    # Associate each gen and each reco Dstar\n",
    "    dstar_match = ak.cartesian([dstar, gen_dstar])\n",
    "    dstar_match = dstar_match[dstar_match.slot0.simIdx == dstar_match.slot1.Id]\n",
    "    '''if (ak.sum(ak.num(dstar)) != 0):\n",
    "        # Association using Ids.\n",
    "        dstar_match = dstar_match[dstar_match.slot0.simIdx == dstar_match.slot1.Id]\n",
    "        \n",
    "        # Check D0 as well? dstar_match = dstar_match[dstar_match.slot1.D0simIdx > -1]\n",
    "    else:    \n",
    "        dstar_match = dstar_match[ak.num(dstar_match) > 0]'''\n",
    "    \n",
    "    '''for i0 in range(len(dstar_match.slot0)):\n",
    "        if len(dstar_match.slot0[i0]) == 0: continue\n",
    "        print(f\"Event: {i0}\")\n",
    "        for i1 in range(len(dstar_match.slot0[i0])):\n",
    "            print(f\"Reco Dstar: ({dstar_match.slot0[i0][i1].pt},{dstar_match.slot0[i0][i1].eta},{dstar_match.slot0[i0][i1].phi})\")\n",
    "            print(f\" Gen Dstar: ({dstar_match.slot1[i0][i1].pt},{Dstar_match.slot1[i0][i1].eta},{Dstar_match.slot1[i0][i1].phi}) id = {Dstar_match.slot1[i0][i1].Id}\")'''\n",
    "    \n",
    "    return dstar_match"
   ]
  },
  {
   "cell_type": "code",
   "execution_count": 46,
   "id": "8cd6ca23-b4bd-4ffa-a310-21a581a0a373",
   "metadata": {
    "tags": []
   },
   "outputs": [],
   "source": [
    "def association(cand1, cand2):\n",
    "    ''' Function for association of the particles. The cuts that operates on all of them and \n",
    "    computation of quantities can go here. individual cuts can go on the main processing'''\n",
    "    \n",
    "    asso = ak.cartesian([cand1, cand2])\n",
    "    asso = asso[asso.slot0.slot0.vtxIdx == asso.slot1.slot0.vtxIdx]\n",
    "    asso = asso[ak.num(asso) > 0]\n",
    "    \n",
    "    cand1 = ak.zip({\n",
    "            'pt': asso.slot0.slot0.pt,\n",
    "            'eta': asso.slot0.slot0.eta,\n",
    "            'phi': asso.slot0.slot0.phi,\n",
    "            'mass': asso.slot0.slot0.mass,\n",
    "            'charge': asso.slot0.slot0.charge}, with_name=\"PtEtaPhiMCandidate\")\n",
    "    \n",
    "    gen_cand1 = ak.zip({\n",
    "            'pt': asso.slot0.slot1.pt,\n",
    "            'eta': asso.slot0.slot1.eta,\n",
    "            'phi': asso.slot0.slot1.phi,\n",
    "            'mass': asso.slot0.slot1.mass,\n",
    "            'charge': asso.slot0.slot0.charge}, with_name=\"PtEtaPhiMCandidate\")\n",
    "\n",
    "    cand2 = ak.zip({\n",
    "            'pt': asso.slot1.slot0.pt,\n",
    "            'eta': asso.slot1.slot0.eta,\n",
    "            'phi': asso.slot1.slot0.phi,\n",
    "            'mass': asso.slot1.slot0.mass,\n",
    "            'charge': asso.slot1.slot0.charge}, with_name=\"PtEtaPhiMCandidate\")\n",
    "    \n",
    "    gen_cand2 = ak.zip({\n",
    "            'pt': asso.slot1.slot1.pt,\n",
    "            'eta': asso.slot1.slot1.eta,\n",
    "            'phi': asso.slot1.slot1.phi,\n",
    "            'mass': asso.slot1.slot1.mass,\n",
    "            'charge': asso.slot1.slot0.charge}, with_name=\"PtEtaPhiMCandidate\")\n",
    "    \n",
    "    cand1['rap'] = np.log((cand1.t+cand1.z)/(cand1.t-cand1.z))/2.\n",
    "    cand2['rap'] = np.log((cand2.t+cand2.z)/(cand2.t-cand2.z))/2.\n",
    "    gen_cand1['rap'] = np.log((gen_cand1.t+gen_cand1.z)/(gen_cand1.t-gen_cand1.z))/2.\n",
    "    gen_cand2['rap'] = np.log((gen_cand2.t+gen_cand2.z)/(gen_cand2.t-gen_cand2.z))/2.\n",
    "    \n",
    "    '''if len(cand1) > 0:\n",
    "        print(f'{cand1.t}, {cand1.z}')\n",
    "        print(f\"{asso.slot0.slot0.rap}, {cand1['rap']}, {gen_cand1['rap']}\")\n",
    "        print(f'{cand2.t}, {cand2.z}')\n",
    "        print(f\"{asso.slot1.slot0.rap}, {cand2['rap']}, {gen_cand2['rap']}\")\n",
    "        print(\"---------------------------------\")'''\n",
    "    \n",
    "    \n",
    "    asso['deltarap'] = cand1.rap - cand2.rap\n",
    "    asso['deltapt'] = cand1.pt - cand2.pt\n",
    "    asso['deltaeta'] = cand1.eta - cand2.eta\n",
    "    asso['deltaphi'] = cand1.phi - cand2.phi\n",
    "    \n",
    "    asso['gen_deltarap'] = gen_cand1.rap - gen_cand2.rap\n",
    "    asso['gen_deltapt'] = gen_cand1.pt - gen_cand2.pt\n",
    "    asso['gen_deltaeta'] = gen_cand1.eta - gen_cand2.eta\n",
    "    asso['gen_deltaphi'] = gen_cand1.phi - gen_cand2.phi\n",
    "    \n",
    "    asso['cand'] = cand1 + cand2\n",
    "    asso['gen_cand'] = gen_cand1 + gen_cand2\n",
    "    \n",
    "    return asso"
   ]
  },
  {
   "cell_type": "code",
   "execution_count": 49,
   "id": "b82233be-acfe-474c-b9fd-9da33dbf825f",
   "metadata": {},
   "outputs": [],
   "source": [
    "class GenTestProcessor(processor.ProcessorABC):\n",
    "    def __init__(self):\n",
    "        self._accumulator = processor.dict_accumulator({\n",
    "            'cutflow': processor.defaultdict_accumulator(int),\n",
    "            'n_matched_dimu': processor.value_accumulator(int),\n",
    "            'n_reco_dimu': processor.value_accumulator(int),\n",
    "            'n_gen_dimu': processor.value_accumulator(int),\n",
    "            'n_pass_dimu': processor.value_accumulator(int),\n",
    "            'n_double_counting_dimu': processor.value_accumulator(int),\n",
    "            'n_matched_muon': processor.value_accumulator(int),\n",
    "            'n_reco_muon': processor.value_accumulator(int),\n",
    "            'n_gen_muon': processor.value_accumulator(int),\n",
    "            'n_pass_muon': processor.value_accumulator(int),\n",
    "            'n_matched_dstar': processor.value_accumulator(int),\n",
    "            'n_reco_dstar': processor.value_accumulator(int),\n",
    "            'n_pass_dstar': processor.value_accumulator(int),\n",
    "            'n_gen_dstar': processor.value_accumulator(int),\n",
    "            'n_double_counting_dstar': processor.value_accumulator(int),\n",
    "            'matched_dimu_pt': hist.Hist(\"Events\", hist.Bin(\"pt\", r\"$p_{T,J/\\Psi}$ matched [GeV]\", 40, 0, 100)),\n",
    "            'matched_dimu_eta': hist.Hist(\"Events\", hist.Bin(\"eta\", r\"$\\eta_{J/\\Psi} matched$\", 60, -4, 4)),\n",
    "            'matched_dimu_phi': hist.Hist(\"Events\", hist.Bin(\"phi\", r\"$\\phi_{J/\\Psi} matched [rad]$\", 60, -3.5, 3.5)),\n",
    "            'matched_dimu_mass': hist.Hist(\"Events\", hist.Bin(\"mass\", r\"$mass_{J/\\Psi} matched [GeV]$\", 100, 2.90, 3.30)), # Before: 2.95, 3.25\n",
    "            'gen_dimu_pt': hist.Hist(\"Events\", hist.Bin(\"pt\", r\"$p_{T,J/\\Psi} gen [GeV]$\", 40, 0, 100)),\n",
    "            'gen_dimu_eta': hist.Hist(\"Events\", hist.Bin(\"eta\", r\"$\\eta_{J/\\Psi} gen$\", 60, -4, 4)),\n",
    "            'gen_dimu_phi': hist.Hist(\"Events\", hist.Bin(\"phi\", r\"$\\phi_{J/\\Psi}$ gen [rad]\", 60, -3.5, 3.5)),\n",
    "            'gen_dimu_mass': hist.Hist(\"Events\", hist.Bin(\"mass\", r\"$mass_{J/\\Psi} gen [GeV]$\", 100, 2.90, 3.30)),\n",
    "            'all_gen_dimu_pt': hist.Hist(\"Events\", hist.Bin(\"pt\", r\"$p_{T,J/\\Psi} all gen [GeV]\", 40, 0, 80)),\n",
    "            'all_gen_dimu_eta': hist.Hist(\"Events\", hist.Bin(\"eta\", r\"$\\eta_{J/\\Psi} all gen$\", 60, -4, 4)),\n",
    "            'all_gen_dimu_phi': hist.Hist(\"Events\", hist.Bin(\"phi\", r\"$\\phi_{J/\\Psi}$ all gen [rad]\", 60, -3.5, 3.5)),\n",
    "            'all_gen_dimu_mass': hist.Hist(\"Events\", hist.Bin(\"mass\", r\"$mass_{J/\\Psi} all gen$ [GeV]\", 100, 2.90, 3.30)),\n",
    "            'all_dimu_pt': hist.Hist(\"Events\", hist.Bin(\"pt\", r\"$p_{T,J/\\Psi} all$ [GeV]\", 40, 0, 80)),\n",
    "            'all_dimu_eta': hist.Hist(\"Events\", hist.Bin(\"eta\", r\"$\\eta_{J/\\Psi} all$\", 60, -4, 4)),\n",
    "            'all_dimu_phi': hist.Hist(\"Events\", hist.Bin(\"phi\", r\"$\\phi_{J/\\Psi} all [rad]$ [rad]\", 60, -3.5, 3.5)),\n",
    "            'all_dimu_mass': hist.Hist(\"Events\", hist.Bin(\"mass\", r\"$mass_{J/\\Psi [GeV]} all [GeV]$\", 100, 2.90, 3.30)),\n",
    "            'matched_muon_pt': hist.Hist(\"Events\", hist.Bin(\"pt\", r\"$p_{T,\\mu}$ matched [GeV]\", 50, 0, 25)),\n",
    "            'matched_muon_eta': hist.Hist(\"Events\", hist.Bin(\"eta\", r\"$\\eta_{\\mu} matched$\", 60, -10, 10)),\n",
    "            'matched_muon_phi': hist.Hist(\"Events\", hist.Bin(\"phi\", r\"$\\phi_{\\mu} matched [rad]$\", 60, -3.5, 3.5)),\n",
    "            'gen_muon_pt': hist.Hist(\"Events\", hist.Bin(\"pt\", r\"$p_{T,\\mu} gen [GeV]$\", 50, 0, 25)),\n",
    "            'gen_muon_eta': hist.Hist(\"Events\", hist.Bin(\"eta\", r\"$\\eta_{\\mu} gen$\", 60, -10, 10)),\n",
    "            'gen_muon_phi': hist.Hist(\"Events\", hist.Bin(\"phi\", r\"$\\phi_{\\mu}$ gen [rad]\", 60, -3.5, 3.5)),\n",
    "            'all_gen_muon_pt': hist.Hist(\"Events\", hist.Bin(\"pt\", r\"$p_{T,\\mu} all gen [GeV]\", 50, 0, 25)),\n",
    "            'all_gen_muon_eta': hist.Hist(\"Events\", hist.Bin(\"eta\", r\"$\\eta_{\\mu} all gen$\", 60, -10, 10)),\n",
    "            'all_gen_muon_phi': hist.Hist(\"Events\", hist.Bin(\"phi\", r\"$\\phi_{\\mu}$ all gen [rad]\", 60, -3.5, 3.5)),\n",
    "            'all_muon_pt': hist.Hist(\"Events\", hist.Bin(\"pt\", r\"$p_{T,\\mu} all [GeV]$\", 50, 0, 25)),\n",
    "            'all_muon_eta': hist.Hist(\"Events\", hist.Bin(\"eta\", r\"$\\eta_{\\mu} all$\", 60, -10, 10)),\n",
    "            'all_muon_phi': hist.Hist(\"Events\", hist.Bin(\"phi\", r\"$\\phi_{\\mu} all [rad]$\", 60, -3.5, 3.5)),\n",
    "            'gen_muon_2d_pt': hist.Hist(\"Events\", \n",
    "                                     hist.Bin(\"pt1\", r\"$p_{T, 1st \\mu}$\", 50, 0, 25), \n",
    "                                     hist.Bin(\"pt2\", r\"$p_{T, 2nd \\mu}$\", 50, 0, 25)),\n",
    "            'gen_muon_2d_eta': hist.Hist(\"Events\",\n",
    "                                         hist.Bin(\"eta1\", r\"$\\eta_{1st \\mu}$\", 60, -10, 10),\n",
    "                                         hist.Bin(\"eta2\", r\"$\\eta_{2nd \\mu}$\", 60, -10, 10)),\n",
    "            'matched_dstar_pt': hist.Hist(\"Events\", hist.Bin(\"pt\", r\"$p_{T,D*} matched$\", 40, 0, 20)),\n",
    "            'matched_dstar_eta': hist.Hist(\"Events\", hist.Bin(\"eta\", r\"$\\eta_{D*} matched$\", 60, -4, 4)),\n",
    "            'matched_dstar_phi': hist.Hist(\"Events\", hist.Bin(\"phi\", r\"$\\phi_{D*}$ matched\", 60, -3.5, 3.5)),\n",
    "            'matched_dstar_deltamr': hist.Hist(\"Events\", hist.Bin(\"deltamr\", \"$\\Delta m_{D*}$ matched\", 50, 0.138, 0.162)),\n",
    "            'gen_dstar_pt': hist.Hist(\"Events\", hist.Bin(\"pt\", r\"$p_{T,D*} gen$\", 40, 0, 20)),\n",
    "            'gen_dstar_eta': hist.Hist(\"Events\", hist.Bin(\"eta\", r\"$\\eta_{D*} gen$\", 60, -4, 4)),\n",
    "            'gen_dstar_phi': hist.Hist(\"Events\", hist.Bin(\"phi\", r\"$\\phi_{D*}$ gen\", 60, -3.5, 3.5)),\n",
    "            'all_gen_dstar_pt': hist.Hist(\"Events\", hist.Bin(\"pt\", r\"$p_{T,D*} all gen$\", 40, 0, 20)),\n",
    "            'all_gen_dstar_eta': hist.Hist(\"Events\", hist.Bin(\"eta\", r\"$\\eta_{D*} all gen$\", 60, -4, 4)),\n",
    "            'all_gen_dstar_phi': hist.Hist(\"Events\", hist.Bin(\"phi\", r\"$\\phi_{D*}$ all gen\", 60, -3.5, 3.5)),\n",
    "            'all_dstar_pt': hist.Hist(\"Events\", hist.Bin(\"pt\", r\"$p_{T,D*} all$\", 40, 0, 20)),\n",
    "            'all_dstar_eta': hist.Hist(\"Events\", hist.Bin(\"eta\", r\"$\\eta_{D*} all$\", 60, -4, 4)),\n",
    "            'all_dstar_phi': hist.Hist(\"Events\", hist.Bin(\"phi\", r\"$\\phi_{D*}$ all\", 60, -3.5, 3.5)),\n",
    "            'all_dstar_deltamr': hist.Hist(\"Events\", hist.Bin(\"deltamr\", \"$\\Delta m_{D*}$ all\", 50, 0.138, 0.162)),\n",
    "            'all_dstar_D0cosphi' : hist.Hist(\"Events\", hist.Bin(\"cosphi\", r\"$cos(\\alpha)$\", 50, -1, 1)),\n",
    "            \n",
    "            'gen_dstar_dimu' : hist.Hist(\"Events\", \n",
    "                                   hist.Bin(\"dstar_pt\", r\"$p_{T, gen D*} [GeV]$\", 45, 0, 15),\n",
    "                                   hist.Bin(\"dimu_pt\", r\"$p_{T, gen J/\\Psi}$ [GeV]\", 60, 0, 30)),\n",
    "            \n",
    "            'reco_dstar_dimu' : hist.Hist(\"Events\", \n",
    "                                   hist.Bin(\"dstar_pt\", r\"$p_{T, reco D*} [GeV]$\", 45, 0, 15),\n",
    "                                   hist.Bin(\"dimu_pt\", r\"$p_{T, reco J/\\Psi}$ [GeV]\", 60, 0, 30)),\n",
    "            \n",
    "            #################### Dstar-muon not finished ####################\n",
    "            'gen_dstar_mu' : hist.Hist(\"Events\", \n",
    "                                   hist.Bin(\"dstar_pt\", r\"$p_{T, gen D*} [GeV]$\", 45, 0, 15),\n",
    "                                   hist.Bin(\"muon_pt\", r\"$p_{T, gen \\mu} [GeV]$\", 50, 0, 25)),\n",
    "            \n",
    "            'reco_dstar_mu' : hist.Hist(\"Events\", \n",
    "                                   hist.Bin(\"dstar_pt\", r\"$p_{T, reco D*} [GeV]$\", 45, 0, 15),\n",
    "                                   hist.Bin(\"muon_pt\", r\"$p_{T, reco \\mu} [GeV]$\", 50, 0, 25)),\n",
    "            \n",
    "            #################### NEW!! Associated ####################\n",
    "            \n",
    "            ## Associated Dstar\n",
    "            'asso_dstar_deltamr': hist.Hist(\"Events\", hist.Bin(\"deltamr\", \"$\\Delta m_{D*}$ asso\", 25, 0.138, 0.162)),\n",
    "            'asso_dstar_pt': hist.Hist(\"Events\", hist.Bin(\"pt\", r\"$p_{T,D*} asso$\", 20, 0, 20)),\n",
    "            'asso_dstar_eta': hist.Hist(\"Events\", hist.Bin(\"eta\", r\"$\\eta_{D*} asso$\", 30, -4, 4)),\n",
    "            'asso_dstar_phi': hist.Hist(\"Events\", hist.Bin(\"phi\", r\"$\\phi_{D*}$ asso\", 30, -3.5, 3.5)),\n",
    "            \n",
    "            ## Associated Jpsi\n",
    "            'asso_dimu_mass': hist.Hist(\"Events\", hist.Bin(\"mass\", r\"$mass_{J/\\Psi} asso [GeV]$\", 50, 2.90, 3.30)),\n",
    "            'asso_dimu_pt': hist.Hist(\"Events\", hist.Bin(\"pt\", r\"$p_{T,J/\\Psi} asso$ [GeV]\", 20, 0, 80)),\n",
    "            'asso_dimu_eta': hist.Hist(\"Events\", hist.Bin(\"eta\", r\"$\\eta_{J/\\Psi} asso$\", 30, -4, 4)),\n",
    "            'asso_dimu_phi': hist.Hist(\"Events\", hist.Bin(\"phi\", r\"$\\phi_{J/\\Psi} asso$ [rad]\", 30, -3.5, 3.5)),\n",
    "            \n",
    "            ## Associated JpsiDstar\n",
    "            'JpsiDstar_deltarap': hist.Hist(\"Events\", hist.Bin(\"deltarap\", \"$\\Delta y$\", 25, -5, 5)),\n",
    "            'JpsiDstar_mass': hist.Hist(\"Events\", hist.Bin(\"mass\", \"$m_{J/\\psi D*}$ [GeV]\", 25, 0, 100)),\n",
    "            \n",
    "        })\n",
    "\n",
    "    @property\n",
    "    def accumulator(self):\n",
    "        return self._accumulator\n",
    "\n",
    "    def process(self, events):\n",
    "        output = self.accumulator.identity()\n",
    "        \n",
    "        # test if there is any events in the file\n",
    "        if len(events) == 0:\n",
    "            return output\n",
    "        \n",
    "        # Collection extraction\n",
    "        Dimus = ak.zip({**get_vars_dict(events, dimu_cols)}, with_name=\"PtEtaPhiMCandidate\")\n",
    "        Muons = ak.zip({**get_vars_dict(events, muon_cols)}, with_name=\"PtEtaPhiMCandidate\")\n",
    "        Dstars = ak.zip({'mass': (events.Dstar_D0mass + events.Dstar_deltamr),\n",
    "                        'charge': events.Dstar_pischg,\n",
    "                        **get_vars_dict(events, dstar_cols)}, \n",
    "                        with_name=\"PtEtaPhiMCandidate\")\n",
    "        GenPart = ak.zip({**get_vars_dict(events, gen_part_cols)}, with_name=\"PtEtaPhiMCandidate\")\n",
    "        \n",
    "        # Triggers for 2017 charmonium\n",
    "        try:\n",
    "            hlt_char_2017 = ak.zip({**get_vars_dict(events, hlt_cols_charm_2017)})\n",
    "        except:\n",
    "            hlt_char_2017 = ak.zip({\"HLT_2017\" : \"HLT_2017\"})\n",
    "            \n",
    "\n",
    "        output['cutflow']['Number of events'] += len(events)\n",
    "        output['cutflow']['Number of Dimu'] += ak.sum(ak.num(Dimus))\n",
    "        output['cutflow']['Number of Muons'] += ak.sum(ak.num(Muons))\n",
    "\n",
    "        ## No cuts!\n",
    "        #Dimu = Dimus\n",
    "        #Dstar = Dstars\n",
    "        \n",
    "        ##### Trigger cut\n",
    "        \n",
    "        # Activate trigger\n",
    "        hlt = True\n",
    "        # HLT to be used\n",
    "        \n",
    "        hlt_filter = ['HLT_Dimuon0_Jpsi', 'HLT_Dimuon20_Jpsi_Barrel_Seagulls' , 'HLT_Dimuon25_Jpsi']\n",
    "        hlt_filter = ['HLT_Dimuon0_Jpsi', 'HLT_Dimuon0_Jpsi' , 'HLT_Dimuon0_Jpsi']\n",
    "        \n",
    "        # Trigger choice\n",
    "        if hlt:          \n",
    "            \n",
    "            trigger_cut1 = hlt_char_2017[hlt_filter[0]]\n",
    "            trigger_cut2 = hlt_char_2017[hlt_filter[1]]\n",
    "            trigger_cut3 = hlt_char_2017[hlt_filter[2]]\n",
    "            \n",
    "            GenPart = GenPart[(trigger_cut1) | (trigger_cut2) | (trigger_cut3)]\n",
    "            Dimus = Dimus[(trigger_cut1) | (trigger_cut2) | (trigger_cut3)]\n",
    "            Muons = Muons[(trigger_cut1) | (trigger_cut2) | (trigger_cut3)]\n",
    "            Dstars = Dstars[(trigger_cut1) | (trigger_cut2) | (trigger_cut3)]\n",
    "            hlt_char_2017 = hlt_char_2017[(trigger_cut1) | (trigger_cut2) | (trigger_cut3)]\n",
    "         \n",
    "        if not hlt:\n",
    "            print(\"You are not running with trigger\")\n",
    "            # Assign 1 to all events.\n",
    "            trigger_cut = np.ones(len(Dimus), dtype=bool)\n",
    "            GenPart = GenPart[trigger_cut]\n",
    "            Dimus = Dimus[trigger_cut]\n",
    "            Muons = Muons[trigger_cut]\n",
    "            Dstars = Dstars[trigger_cut]\n",
    "            hlt_char_2017 = hlt_char_2017[trigger_cut]\n",
    "            \n",
    "        # Trigger filter\n",
    "        \n",
    "        \n",
    "        ## Rec dimuon cuts\n",
    "        \n",
    "        #Dimu cuts charge = 0, mass cuts and chi2...\n",
    "        Dimu = Dimus[Dimus.charge == 0]\n",
    "        output['cutflow']['Dimu 0 charge'] += ak.sum(ak.num(Dimu))\n",
    "\n",
    "        Dimu = Dimu[(Dimu.mass > 2.95) & (Dimu.mass < 3.25)]\n",
    "        output['cutflow']['Quarkonia mass'] += ak.sum(ak.num(Dimu))\n",
    "\n",
    "        # Get the Muons from Dimu, for cuts in their params\n",
    "        Muon = ak.zip({'0': Muons[Dimu.t1muIdx], '1': Muons[Dimu.t2muIdx]})\n",
    "        \n",
    "        ## Rec muon cuts\n",
    "        \n",
    "        # Muon softId cuts\n",
    "        soft_id = (Muon.slot0.softId > 0) & (Muon.slot1.softId > 0)\n",
    "        Dimu = Dimu[soft_id]\n",
    "        Muon = Muon[soft_id]\n",
    "        output['cutflow']['Dimu muon softId'] += ak.sum(ak.num(Dimu))\n",
    "\n",
    "        # Muon pt and eta cuts\n",
    "        muon_pt_cut = (Muon.slot0.pt > 3) & (Muon.slot1.pt > 3)\n",
    "        Dimu = Dimu[muon_pt_cut]\n",
    "        Muon = Muon[muon_pt_cut]\n",
    "        output['cutflow']['Dimu muon pt cut'] += ak.sum(ak.num(Dimu))\n",
    "        \n",
    "        muon_eta_cut = (np.absolute(Muon.slot0.eta) <= 2.4) & (np.absolute(Muon.slot1.eta) <= 2.4)\n",
    "        Dimu = Dimu[muon_eta_cut]\n",
    "        Muon = Muon[muon_eta_cut]  \n",
    "        output['cutflow']['Dimu before gen match'] += ak.sum(ak.num(Dimu))\n",
    "        \n",
    "        # Dimu and muon matching\n",
    "        #dimu_gen, muon0_gen, muon1_gen, Muon = dimu_match(Muon, Dimu, GenPart) #dimu_gen: rec dimuon + gen dimuon\n",
    "        # Retrieves reco-gen matchd Dimu\n",
    "        #Dimu = dimu_gen.slot0\n",
    "        output['cutflow']['Dimu after gen match'] += ak.sum(ak.num(Dimu))\n",
    "        \n",
    "        output['cutflow']['Muon after gen match'] += ak.sum(ak.num(Muon.slot0))\n",
    "        output['cutflow']['Muon after gen match'] += ak.sum(ak.num(Muon.slot1))\n",
    "        \n",
    "        evts_with_muon = Muon[ak.num(Muon) > 0]\n",
    "        output['cutflow']['Number of evts with Muon'] += len(evts_with_muon)\n",
    "      \n",
    "        # Takes all gen muons (Some decays from pdgId: -411, 421, 511, 521, 431, 4132)\n",
    "        all_gen_muon = GenPart[(np.absolute(GenPart.pdgId) == 13) & (GenPart.genPartIdxMother > -1)]\n",
    "        # Takes gen muons from Jpis\n",
    "        gen_muon = all_gen_muon[(all_gen_muon.parpdgId == 443)]\n",
    "        # Combines muons two by two\n",
    "        gen_muon = ak.combinations(gen_muon, 2)\n",
    "        # Takes combinations with the same mother\n",
    "        gen_muon = gen_muon[gen_muon.slot0.genPartIdxMother == gen_muon.slot1.genPartIdxMother]\n",
    "        \n",
    "        ############ To play with muons mothers ############\n",
    "        \n",
    "        '''mothers = [443, -411, 411, -511, 511, -521, 521, -431, 431, -421, 421, -4132, 4132, -221, 221, -15, 15, -4122, 4122, -531, 531,\n",
    "                   -221, 223, 22, -13, 13, -331, 331, -5122, 5122, -5232, 5232, -4232, 4232, 113, -5132, 5132, 333, -541, 541, 100443,\n",
    "                   553, 4332, -5332, 5332]\n",
    "        \n",
    "        for i in range(len(all_gen_muon)):\n",
    "            for j in range(len(all_gen_muon[i])):\n",
    "                if all_gen_muon[i][j].parpdgId not in mothers:\n",
    "                #if all_gen_muon[i][j].parpdgId != 443 and np.abs(all_gen_muon[i][j].parpdgId) != 411 and np.abs(all_gen_muon[i][j].parpdgId) != 511 and np.abs(all_gen_muon[i][j].parpdgId) != 521 and np.abs(all_gen_muon[i][j].parpdgId) != 431 and np.abs(all_gen_muon[i][j].parpdgId) != 421 and np.abs(all_gen_muon[i][j].parpdgId) != 4132 and np.abs(all_gen_muon[i][j].parpdgId) != 221 and np.abs(all_gen_muon[i][j].parpdgId) != 15 and np.abs(all_gen_muon[i][j].parpdgId) != 4122 and np.abs(all_gen_muon[i][j].parpdgId) != 531 and np.abs(all_gen_muon[i][j].parpdgId) != 223 and np.abs(all_gen_muon[i][j].parpdgId) != 22 and np.abs(all_gen_muon[i][j].parpdgId) != 13 and np.abs(all_gen_muon[i][j].parpdgId) != 331 and np.abs(all_gen_muon[i][j].parpdgId) != 5122:\n",
    "                    print(all_gen_muon[i][j].parpdgId)'''\n",
    "        \n",
    "        # Combine each gen particle with each muon\n",
    "        comb_gen_muon = ak.cartesian([GenPart, gen_muon.slot0])\n",
    "        comb_dimuon_muon = comb_gen_muon[comb_gen_muon.slot0.Id == comb_gen_muon.slot1.genPartIdxMother]\n",
    "        gen_jpsi = comb_dimuon_muon.slot0\n",
    "        \n",
    "        all_gen_dimu = GenPart[(GenPart.pdgId == 443)]\n",
    "   \n",
    "        output['cutflow']['all_gen_dimu'] += ak.sum(ak.num(all_gen_dimu))\n",
    "        output['cutflow']['gen_jpsi'] += ak.sum(ak.num(gen_jpsi))\n",
    "        output['cutflow']['all_gen_muon'] += ak.sum(ak.num(all_gen_muon))\n",
    "        output['cutflow']['gen_muon'] += ak.sum(ak.num(gen_muon.slot0))\n",
    "        output['cutflow']['gen_muon'] += ak.sum(ak.num(gen_muon.slot1))\n",
    "       \n",
    "        ## Gen muon cuts  \n",
    "        \n",
    "        # gen muon pT\n",
    "        gen_muon_pt_cut = (gen_muon.slot0.pt > 3) & (gen_muon.slot1.pt > 3)\n",
    "        gen_muon = gen_muon[gen_muon_pt_cut]\n",
    "        # gen muon eta\n",
    "        gen_muon_eta_cut = (np.absolute(gen_muon.slot0.eta) <= 2.4) \n",
    "        gen_muon = gen_muon[gen_muon_eta_cut]\n",
    "        gen_muon_eta_cut = (np.absolute(gen_muon.slot1.eta) <= 2.4) \n",
    "        gen_muon = gen_muon[gen_muon_eta_cut]\n",
    "        \n",
    "        # Take events with always two muons\n",
    "        #two_muons_cut = ak.num(gen_muon) == 2\n",
    "        \n",
    "        # Filter the events\n",
    "        #gen_muon = gen_muon[two_muons_cut]\n",
    "        #gen_dimu = gen_dimu[two_muons_cut]\n",
    "        \n",
    "        # Takes gen muon with the same mother\n",
    "        #gen_muon = ak.combinations(gen_muon, 2)\n",
    "        #same_mother = ((gen_muon.slot0.genPartIdxMother == gen_muon.slot1.genPartIdxMother) & (gen_muon.slot0.parpdgId == 443))\n",
    "                        \n",
    "        #gen_muon = gen_muon[same_mother]\n",
    "                \n",
    "        '''output['n_matched_dimu'] += ak.sum(ak.num(dimu_gen.slot0))\n",
    "        output['n_reco_dimu'] += ak.sum(ak.num(Dimus))\n",
    "        output['n_pass_dimu'] += ak.sum(ak.num(Dimu))\n",
    "        #output['n_gen_dimu'] += ak.sum(ak.num(gen_dimu))\n",
    "        \n",
    "        _, counts = np.unique(ak.flatten(dimu_gen.slot1.Id).to_numpy(), return_counts=True)\n",
    "        output['n_double_counting_dimu'] += np.sum(counts[counts > 1] - 1)'''\n",
    "        \n",
    "        # numbers for muon efficiency\n",
    "        '''output['n_matched_muon'] += ak.sum(ak.num(muon0_gen.slot0))\n",
    "        output['n_matched_muon'] += ak.sum(ak.num(muon1_gen.slot0))\n",
    "        output['n_reco_muon'] += ak.sum(ak.num(Muons.slot0))\n",
    "        output['n_reco_muon'] += ak.sum(ak.num(Muons.slot1))\n",
    "        output['n_pass_muon'] += ak.sum(ak.num(Muon.slot0))\n",
    "        output['n_pass_muon'] += ak.sum(ak.num(Muon.slot1))\n",
    "        output['n_gen_muon'] += ak.sum(ak.num(gen_muon))\n",
    "        \n",
    "        output['n_gen_muon'] += ak.sum(ak.num(gen_muon.slot0))\n",
    "        output['n_gen_muon'] += ak.sum(ak.num(gen_muon.slot1))'''\n",
    "        \n",
    "        # Dimu plots\n",
    "        \n",
    "        '''output['matched_dimu_pt'].fill(pt=ak.flatten(dimu_gen.slot0.pt))\n",
    "        output['matched_dimu_eta'].fill(eta=ak.flatten(dimu_gen.slot0.eta))\n",
    "        output['matched_dimu_phi'].fill(phi=ak.flatten(dimu_gen.slot0.phi))\n",
    "        output['matched_dimu_mass'].fill(mass=ak.flatten(dimu_gen.slot0.mass))'''\n",
    "        \n",
    "        '''output['gen_dimu_pt'].fill(pt=ak.flatten(dimu_gen.slot1.pt))\n",
    "        output['gen_dimu_eta'].fill(eta=ak.flatten(dimu_gen.slot1.eta))\n",
    "        output['gen_dimu_phi'].fill(phi=ak.flatten(dimu_gen.slot1.phi))\n",
    "        output['gen_dimu_mass'].fill(mass=ak.flatten(dimu_gen.slot1.mass))\n",
    "        \n",
    "        output['all_gen_dimu_pt'].fill(pt=ak.flatten(gen_dimu.pt))\n",
    "        output['all_gen_dimu_eta'].fill(eta=ak.flatten(gen_dimu.eta))\n",
    "        output['all_gen_dimu_phi'].fill(phi=ak.flatten(gen_dimu.phi))\n",
    "        output['all_gen_dimu_mass'].fill(mass=ak.flatten(gen_dimu.mass))'''\n",
    "        \n",
    "        output['all_dimu_pt'].fill(pt=ak.flatten(Dimu.pt))\n",
    "        output['all_dimu_eta'].fill(eta=ak.flatten(Dimu.eta))\n",
    "        output['all_dimu_phi'].fill(phi=ak.flatten(Dimu.phi))\n",
    "        output['all_dimu_mass'].fill(mass=ak.flatten(Dimu.mass))\n",
    "        \n",
    "        # Muon plots\n",
    "        '''output['matched_muon_pt'].fill(pt=ak.flatten(muon0_gen.slot0.pt))\n",
    "        output['matched_muon_eta'].fill(eta=ak.flatten(muon0_gen.slot0.eta))\n",
    "        output['matched_muon_phi'].fill(phi=ak.flatten(muon0_gen.slot0.phi))\n",
    "        output['matched_muon_pt'].fill(pt=ak.flatten(muon1_gen.slot0.pt))\n",
    "        output['matched_muon_eta'].fill(eta=ak.flatten(muon1_gen.slot0.eta))\n",
    "        output['matched_muon_phi'].fill(phi=ak.flatten(muon1_gen.slot0.phi))\n",
    "        \n",
    "        output['gen_muon_pt'].fill(pt=ak.flatten(muon0_gen.slot1.pt))\n",
    "        output['gen_muon_eta'].fill(eta=ak.flatten(muon0_gen.slot1.eta))\n",
    "        output['gen_muon_phi'].fill(phi=ak.flatten(muon0_gen.slot1.phi))\n",
    "        output['gen_muon_pt'].fill(pt=ak.flatten(muon1_gen.slot1.pt))\n",
    "        output['gen_muon_eta'].fill(eta=ak.flatten(muon1_gen.slot1.eta))\n",
    "        output['gen_muon_phi'].fill(phi=ak.flatten(muon1_gen.slot1.phi))'''\n",
    "        \n",
    "        output['all_gen_muon_pt'].fill(pt=ak.flatten(gen_muon.slot0.pt))\n",
    "        output['all_gen_muon_eta'].fill(eta=ak.flatten(gen_muon.slot0.eta))\n",
    "        output['all_gen_muon_phi'].fill(phi=ak.flatten(gen_muon.slot0.phi))\n",
    "        output['all_gen_muon_pt'].fill(pt=ak.flatten(gen_muon.slot1.pt))\n",
    "        output['all_gen_muon_eta'].fill(eta=ak.flatten(gen_muon.slot1.eta))\n",
    "        output['all_gen_muon_phi'].fill(phi=ak.flatten(gen_muon.slot1.phi))\n",
    "        \n",
    "        output['all_muon_pt'].fill(pt=ak.flatten(Muons.pt))\n",
    "        output['all_muon_eta'].fill(eta=ak.flatten(Muons.eta))\n",
    "        output['all_muon_phi'].fill(phi=ak.flatten(Muons.phi))\n",
    "        \n",
    "        '''>output['gen_muon_2d_pt'].fill(pt1=ak.flatten(gen_muon.slot0.pt),\n",
    "                                      pt2=ak.flatten(gen_muon.slot1.pt))\n",
    "        output['gen_muon_2d_eta'].fill(eta1=ak.flatten(gen_muon.slot0.eta),\n",
    "                                       eta2=ak.flatten(gen_muon.slot1.eta))'''\n",
    "        # Cuts for Dstar\n",
    "        Dstar = Dstars[~Dstars.hasMuon]\n",
    "        \n",
    "        output['cutflow']['Dstar trk muon cut'] += ak.sum(ak.num(Dstar))\n",
    "        \n",
    "        # High purity tracks\n",
    "        #Dstar = Dstar[Dstar.pisisHighPurity]\n",
    "        #Dstar = Dstar[Dstar.piisHighPurity]\n",
    "        #Dstar = Dstar[Dstar.KisHighPurity]\n",
    "\n",
    "        Dstar = Dstar[(Dstar.Kpt > 0.5) & (Dstar.pipt > 0.5)]\n",
    "        output['cutflow']['Dstar trk pt cut'] += ak.sum(ak.num(Dstar))\n",
    "\n",
    "        Dstar = Dstar[(Dstar.Kchindof < 2.5) & (Dstar.pichindof < 2.5)]\n",
    "        output['cutflow']['Dstar chindof pt cut'] += ak.sum(ak.num(Dstar))\n",
    "\n",
    "        Dstar = Dstar[(Dstar.KnValid > 4) & (Dstar.pinValid > 4) & (Dstar.KnPix > 1) & (Dstar.pinPix > 1)]\n",
    "        output['cutflow']['Dstar trk hits cut'] += ak.sum(ak.num(Dstar))\n",
    "\n",
    "        Dstar = Dstar[(Dstar.Kdxy < 0.1) & (Dstar.pidxy < 0.1)]\n",
    "        output['cutflow']['Dstar trk impact xy cut'] += ak.sum(ak.num(Dstar))\n",
    "\n",
    "        Dstar = Dstar[(Dstar.Kdz < 1) & (Dstar.pidz < 1)]\n",
    "        output['cutflow']['Dstar trk impact z cut'] += ak.sum(ak.num(Dstar))\n",
    "\n",
    "        # pis cuts\n",
    "        Dstar = Dstar[Dstar.pispt > 0.3]\n",
    "        output['cutflow']['Dstar pis pt cut'] += ak.sum(ak.num(Dstar))\n",
    "\n",
    "        Dstar = Dstar[Dstar.pischindof < 3]\n",
    "        output['cutflow']['Dstar pis chi2 cut'] += ak.sum(ak.num(Dstar))\n",
    "\n",
    "        Dstar = Dstar[Dstar.pisnValid > 2]\n",
    "        output['cutflow']['Dstar pis hits cut'] += ak.sum(ak.num(Dstar))\n",
    "\n",
    "        ## D0 of Dstar cuts\n",
    "        \n",
    "        # D0 from D* pointing angle\n",
    "        Dstar = Dstar[Dstar.D0cosphi > phicut]\n",
    "        output['cutflow']['Dstar D0 cosphi cut'] += ak.sum(ak.num(Dstar))\n",
    "\n",
    "        # D0 from D* mass window\n",
    "        Dstar = Dstar[(Dstar.D0mass < D0_PDG_MASS + 0.028) & (Dstar.D0mass > D0_PDG_MASS - 0.028)]\n",
    "        output['cutflow']['Dstar D0 mass cut'] += ak.sum(ak.num(Dstar))\n",
    "\n",
    "        # D0 from D* pT\n",
    "        Dstar = Dstar[Dstar.D0pt > d0pt]\n",
    "        output['cutflow']['Dstar D0 pt cut'] += ak.sum(ak.num(Dstar))\n",
    "        \n",
    "        # D0 from D* decay length significance\n",
    "        Dstar = Dstar[Dstar.D0dlSig > d0dl]\n",
    "        output['cutflow']['Dstar D0 dlSig cut'] += ak.sum(ak.num(Dstar))\n",
    "\n",
    "        Dstar['wrg_chg'] = (Dstar.Kchg == Dstar.pichg)\n",
    "        \n",
    "        Dstar = Dstar[Dstar.pt > 3]\n",
    "        Dstar = Dstar[~Dstar.wrg_chg]\n",
    "        \n",
    "        output['cutflow']['Dstar before gen match'] += ak.sum(ak.num(Dstar))\n",
    "        \n",
    "        # Dstar match\n",
    "        dstar_gen = dstar_match(Dstar[~Dstar.wrg_chg], GenPart)\n",
    "        # Retrieves reco-gen matchd D*\n",
    "        #Dstar = dstar_gen.slot0\n",
    "        \n",
    "        output['cutflow']['Dstar after gen match'] += ak.sum(ak.num(Dstar))\n",
    "        \n",
    "        gen_dstar = GenPart[np.absolute(GenPart.pdgId) == 413]  \n",
    "        gen_d0dstar = GenPart[np.absolute(GenPart.pdgId) == 421] \n",
    "        \n",
    "        output['cutflow']['Number of gen D*'] += ak.sum(ak.num(gen_dstar))\n",
    "        \n",
    "        # Cuts for gendstar and gend0\n",
    "        gen_dstar = gen_dstar[gen_dstar.pt > 4]\n",
    "        gen_dstar = gen_dstar[(gen_dstar.eta <= 2.4) & (gen_dstar.eta >= -2.4)]\n",
    "        gen_d0dstar = gen_d0dstar[gen_d0dstar.pt > 4]\n",
    "        \n",
    "        # Numbers for efficiency\n",
    "        output['n_matched_dstar'] += ak.sum(ak.num(dstar_gen.slot0))\n",
    "        output['n_reco_dstar'] += ak.sum(ak.num(Dstars[(Dstar.Kchg != Dstar.pichg)]))\n",
    "        output['n_pass_dstar'] += ak.sum(ak.num(Dstar[~Dstar.wrg_chg]))\n",
    "        output['n_gen_dstar'] += ak.sum(ak.num(gen_dstar))\n",
    "        \n",
    "        _, counts = np.unique(ak.flatten(dstar_gen.slot1.Id).to_numpy(), return_counts=True)\n",
    "        output['n_double_counting_dstar'] += np.sum(counts[counts > 1] - 1)\n",
    "        \n",
    "        # Histograms\n",
    "            \n",
    "        '''output['matched_dstar_pt'].fill(pt=ak.flatten(dstar_gen.slot0.pt))\n",
    "        output['matched_dstar_eta'].fill(eta=ak.flatten(dstar_gen.slot0.eta))\n",
    "        output['matched_dstar_phi'].fill(phi=ak.flatten(dstar_gen.slot0.phi))\n",
    "        output['matched_dstar_deltamr'].fill(deltamr=ak.flatten(dstar_gen.slot0.deltamr))'''\n",
    "        \n",
    "        '''output['gen_dstar_pt'].fill(pt=ak.flatten(dstar_gen.slot1.pt))\n",
    "        output['gen_dstar_eta'].fill(eta=ak.flatten(dstar_gen.slot1.eta))\n",
    "        output['gen_dstar_phi'].fill(phi=ak.flatten(dstar_gen.slot1.phi))\n",
    "        \n",
    "        output['all_gen_dstar_pt'].fill(pt=ak.flatten(gen_dstar.pt))\n",
    "        output['all_gen_dstar_eta'].fill(eta=ak.flatten(gen_dstar.eta))\n",
    "        output['all_gen_dstar_phi'].fill(phi=ak.flatten(gen_dstar.phi))\n",
    "        \n",
    "        output['all_dstar_pt'].fill(pt=ak.flatten(Dstar[~Dstar.wrg_chg].pt))\n",
    "        output['all_dstar_eta'].fill(eta=ak.flatten(Dstar[~Dstar.wrg_chg].eta))\n",
    "        output['all_dstar_phi'].fill(phi=ak.flatten(Dstar[~Dstar.wrg_chg].phi))\n",
    "        output['all_dstar_deltamr'].fill(deltamr=ak.flatten(Dstar[~Dstar.wrg_chg].deltamr))\n",
    "        output['all_dstar_D0cosphi'].fill(cosphi=ak.flatten(Dstar[~Dstar.wrg_chg].D0cosphi))'''\n",
    "        \n",
    "        \n",
    "        '''### Dstar + Dimuon plots\n",
    "        \n",
    "        ## Gen\n",
    "        \n",
    "        # Takes only events with one D*\n",
    "        cut_dstar = ak.num(gen_dstar) == 1\n",
    "        \n",
    "        # Apllies the cut\n",
    "        gen_dimu_plot = gen_dimu[cut_dstar]\n",
    "        gen_dstar_plot = gen_dstar[cut_dstar]\n",
    "        \n",
    "        # Takes only events with one Dimu\n",
    "        cut_dimu = ak.num(gen_dimu_plot) == 1\n",
    "        \n",
    "        # Apllies the cut\n",
    "        gen_dimu_plot = gen_dimu_plot[cut_dimu]\n",
    "        gen_dstar_plot = gen_dstar_plot[cut_dimu]\n",
    "        \n",
    "        # Fills the histogram\n",
    "        output['gen_dstar_dimu'].fill(dstar_pt=ak.flatten(gen_dstar_plot.pt),\n",
    "                                      dimu_pt=ak.flatten(gen_dimu_plot.pt),)\n",
    "        \n",
    "        ## Reco\n",
    "        \n",
    "        DimuDstar = association(dimu_gen, dstar_gen)\n",
    "        \n",
    "        # Retrieves the associated dimuon\n",
    "        reco_dimu_plot = DimuDstar.slot0.slot0\n",
    "        # Retrieves the associated dstar\n",
    "        reco_dstar_plot = DimuDstar.slot1.slot0\n",
    "        \n",
    "        # Fills the histogram\n",
    "        output['reco_dstar_dimu'].fill(dstar_pt=ak.flatten(reco_dstar_plot.pt),\n",
    "                                       dimu_pt=ak.flatten(reco_dimu_plot.pt),)'''\n",
    "            \n",
    "        # no cuts\n",
    "        #Dstar = Dstars\n",
    "        #Dimu = Dimus\n",
    "        ## Filling associated histograms\n",
    "        \n",
    "        # Dimu + Dstar\n",
    "        asso = ak.cartesian([Dimu, Dstar]) \n",
    "        asso = asso[asso.slot0.vtxIdx == asso.slot1.vtxIdx]\n",
    "                \n",
    "        Dimu_asso = ak.zip({\n",
    "                   'pt': asso.slot0.pt,\n",
    "                   'eta': asso.slot0.eta,\n",
    "                   'phi': asso.slot0.phi,\n",
    "                   'mass': asso.slot0.mass,\n",
    "                   'charge': asso.slot0.charge}, with_name=\"PtEtaPhiMCandidate\")\n",
    "       \n",
    "        Dstar_asso = ak.zip({\n",
    "                    'pt': asso.slot1.pt,\n",
    "                    'eta': asso.slot1.eta,\n",
    "                    'phi': asso.slot1.phi,\n",
    "                    'mass': asso.slot1.deltamr,\n",
    "                    'charge': asso.slot1.charge}, with_name=\"PtEtaPhiMCandidate\")\n",
    "        \n",
    "        asso['deltarap'] = asso.slot0.rap - asso.slot1.rap\n",
    "        asso['cand'] = Dimu_asso + Dstar_asso\n",
    "        \n",
    "        DimuDstar = asso\n",
    "        \n",
    "        DimuDstar_p4 = ak.zip({'x': DimuDstar.cand.x, \n",
    "                               'y': DimuDstar.cand.y,\n",
    "                               'z': DimuDstar.cand.z,\n",
    "                               't': DimuDstar.cand.t}, with_name=\"LorentzVector\")\n",
    "        output['cutflow']['Number of DimuDstar'] += ak.sum(ak.num(DimuDstar))\n",
    "        \n",
    "        evts_with_dimudstar  = DimuDstar[ak.num(DimuDstar) > 0]\n",
    "        output['cutflow']['Number of evts with DimuDstar'] += len(evts_with_dimudstar)\n",
    "        \n",
    "        # Dstar\n",
    "        output['asso_dstar_deltamr'].fill(deltamr = ak.flatten(Dstar_asso.mass))\n",
    "        output['asso_dstar_pt'].fill(pt = ak.flatten(Dstar_asso.pt))\n",
    "        output['asso_dstar_eta'].fill(eta = ak.flatten(Dstar_asso.eta))\n",
    "        output['asso_dstar_phi'].fill(phi = ak.flatten(Dstar_asso.phi))\n",
    "        \n",
    "        # Jpsi\n",
    "        output['asso_dimu_mass'].fill(mass = ak.flatten(Dimu_asso.mass))\n",
    "        output['asso_dimu_pt'].fill(pt = ak.flatten(Dimu_asso.pt))\n",
    "        output['asso_dimu_eta'].fill(eta = ak.flatten(Dimu_asso.eta))\n",
    "        output['asso_dimu_phi'].fill(phi = ak.flatten(Dimu_asso.phi))\n",
    "        \n",
    "        # JpsiDstar\n",
    "        output['JpsiDstar_mass'].fill(mass = ak.flatten(DimuDstar_p4.mass))\n",
    "        output['JpsiDstar_deltarap'].fill(deltarap = ak.flatten(DimuDstar.deltarap))\n",
    "        \n",
    "        # Retrieves the associated dimuon\n",
    "        reco_dimu_plot = DimuDstar.slot0.slot0\n",
    "        # Retrieves the associated dstar\n",
    "        reco_dstar_plot = DimuDstar.slot1.slot0\n",
    "        \n",
    "        # Fills the histogram\n",
    "        output['reco_dstar_dimu'].fill(dstar_pt=ak.flatten(Dstar_asso.pt),\n",
    "                                       dimu_pt=ak.flatten(Dimu_asso.pt),)\n",
    "        \n",
    "        #DimuDstar = DimuDstar[ak.num(DimuDstar.slot1) > 0]\n",
    "        '''if len(DimuDstar) > 0:\n",
    "            for i0 in range(len(DimuDstar)):\n",
    "                print(i0)\n",
    "                for i1 in range(len(DimuDstar[i0])):\n",
    "                    print(f\"Reco Dimu: ({DimuDstar.slot0.slot0.pt[i0][i1]}, {DimuDstar.slot0.slot0.eta[i0][i1]}, {DimuDstar.slot0.slot0.phi[i0][i1]})\")\n",
    "                    print(f\" Gen Dimu: ({DimuDstar.slot0.slot1.pt[i0][i1]}, {DimuDstar.slot0.slot1.eta[i0][i1]}, {DimuDstar.slot0.slot1.phi[i0][i1]})\")\n",
    "                    print(f\"Reco Dstar: ({DimuDstar.slot1.slot0.pt[i0][i1]}, {DimuDstar.slot1.slot0.eta[i0][i1]}, {DimuDstar.slot1.slot0.phi[i0][i1]})\")\n",
    "                    print(f\" Gen Dstar: ({DimuDstar.slot1.slot1.pt[i0][i1]}, {DimuDstar.slot1.slot1.eta[i0][i1]}, {DimuDstar.slot1.slot1.phi[i0][i1]})\")\n",
    "                    print(f\"Reco deltarap: {DimuDstar.deltarap[i0][i1]}, Gen deltarap: {DimuDstar.gen_deltarap[i0][i1]}\")\n",
    "                    print(\"-----------------------------------------------------------------\")'''\n",
    "        # Test'''\n",
    "        '''#output['gen_dimu'] = gen_dimu\n",
    "        output['gen_muon1'] = gen_muon.slot0\n",
    "        output['gen_muon2'] = gen_muon.slot1\n",
    "        output['gen_dstar'] = gen_dstar\n",
    "        output['Dimuon'] = Dimu\n",
    "        #output['Muon1'] = Muon.slot0\n",
    "        #output['Muon2'] = Muon.slot1\n",
    "        output['Dstar'] = Dstar\n",
    "        output['JpsiDstar'] = DimuDstar\n",
    "        output['events'] = len(events)\n",
    "        output['Genparticles'] = GenPart'''\n",
    "        \n",
    "        return output\n",
    "\n",
    "    def postprocess(self, accumulator):\n",
    "        return accumulator"
   ]
  },
  {
   "cell_type": "markdown",
   "id": "2a268613-cf3d-4b1e-87a6-fd6fcd8db346",
   "metadata": {},
   "source": [
    "#  D0 from D* $ cos(\\phi) $"
   ]
  },
  {
   "cell_type": "markdown",
   "id": "8883da8e-0fa1-4be5-9797-e5241f189e9e",
   "metadata": {},
   "source": [
    " ## $ cos(\\phi) $ > 0.990 "
   ]
  },
  {
   "cell_type": "code",
   "execution_count": 57,
   "id": "3856f23b-37fd-4f0b-9aa4-c53e2150d393",
   "metadata": {},
   "outputs": [
    {
     "data": {
      "application/vnd.jupyter.widget-view+json": {
       "model_id": "ea703c9432d44aafb9ea1caddbcf0af5",
       "version_major": 2,
       "version_minor": 0
      },
      "text/plain": [
       "Processing:   0%|          | 0/10 [00:00<?, ?chunk/s]"
      ]
     },
     "metadata": {},
     "output_type": "display_data"
    },
    {
     "name": "stdout",
     "output_type": "stream",
     "text": [
      "You are not running with triggerYou are not running with trigger\n",
      "\n",
      "You are not running with trigger\n",
      "You are not running with trigger\n",
      "You are not running with trigger\n",
      "You are not running with trigger\n",
      "You are not running with trigger\n",
      "You are not running with trigger\n",
      "You are not running with trigger\n",
      "You are not running with trigger\n",
      "Process finished in: 36.82 s\n",
      "There are 309 JpsiDstars in 90200 events\n",
      "There are 232 events with JpsiDstars\n"
     ]
    }
   ],
   "source": [
    "data = {\"test\": files[0:100]}\n",
    "                      \n",
    "tstart = time.time()\n",
    "\n",
    "phicut=0.990\n",
    "d0pt=3.0\n",
    "d0dl=3.0\n",
    "\n",
    "output_phi1 = processor.run_uproot_job(data,\n",
    "                                    treename='Events',\n",
    "                                    processor_instance=GenTestProcessor(),\n",
    "                                    executor=processor.futures_executor, #iterative, futures\n",
    "                                    executor_args={\"schema\": BaseSchema, 'workers': 8, 'skipbadfiles': True},\n",
    "                                    chunksize=360000,\n",
    "                                    )\n",
    "\n",
    "print(f\"Process finished in: {time.time() - tstart:.2f} s\")\n",
    "\n",
    "# Number of candidates\n",
    "nevt = output_phi1['cutflow']['Number of events']\n",
    "JpsiDstar = output_phi1['cutflow']['Number of DimuDstar']\n",
    "nevts_with_jpsidstar = output_phi1['cutflow']['Number of evts with DimuDstar']\n",
    "print(f\"There are {JpsiDstar} JpsiDstars in {nevt} events\")\n",
    "print(f\"There are {nevts_with_jpsidstar} events with JpsiDstars\")"
   ]
  },
  {
   "cell_type": "markdown",
   "id": "1f486023-4ce3-4ce1-b0fe-45c48f833121",
   "metadata": {},
   "source": [
    "###### ## $ cos(\\phi) $ > 0.985 "
   ]
  },
  {
   "cell_type": "code",
   "execution_count": 29,
   "id": "24916d9f-7240-487f-9520-3ca3bfff9feb",
   "metadata": {},
   "outputs": [
    {
     "data": {
      "application/vnd.jupyter.widget-view+json": {
       "model_id": "22f0d537a2864ed899fdb023976e6ace",
       "version_major": 2,
       "version_minor": 0
      },
      "text/plain": [
       "Processing:   0%|          | 0/100 [00:00<?, ?chunk/s]"
      ]
     },
     "metadata": {},
     "output_type": "display_data"
    },
    {
     "name": "stdout",
     "output_type": "stream",
     "text": [
      "Process finished in: 38.00 s\n",
      "There are 2 JpsiDstars in 13006 events\n",
      "There are 2 events with JpsiDstars\n"
     ]
    }
   ],
   "source": [
    "data = {\"test\": files[0:10]}\n",
    "                      \n",
    "tstart = time.time()\n",
    "\n",
    "phicut=0.985\n",
    "d0pt=3.0\n",
    "d0dl=3.0\n",
    "\n",
    "output_phi2 = processor.run_uproot_job(data,\n",
    "                                    treename='Events',\n",
    "                                    processor_instance=GenTestProcessor(),\n",
    "                                    executor=processor.futures_executor, #iterative, futures\n",
    "                                    executor_args={\"schema\": BaseSchema, 'workers': 8, 'skipbadfiles': True},\n",
    "                                    chunksize=360000,\n",
    "                                    )\n",
    "\n",
    "print(f\"Process finished in: {time.time() - tstart:.2f} s\")\n",
    "\n",
    "# Number of candidates\n",
    "nevt = output_phi2['cutflow']['Number of events']\n",
    "JpsiDstar = output_phi2['cutflow']['Number of DimuDstar']\n",
    "nevts_with_jpsidstar = output_phi2['cutflow']['Number of evts with DimuDstar']\n",
    "print(f\"There are {JpsiDstar} JpsiDstars in {nevt} events\")\n",
    "print(f\"There are {nevts_with_jpsidstar} events with JpsiDstars\")"
   ]
  },
  {
   "cell_type": "markdown",
   "id": "9e5e2c6a-ed16-43d2-b6f2-9a9c91dc7952",
   "metadata": {},
   "source": [
    " ## $ cos(\\phi) $ > 0.980 "
   ]
  },
  {
   "cell_type": "code",
   "execution_count": null,
   "id": "629e604c-55df-4bae-b0c8-fa462e11c586",
   "metadata": {},
   "outputs": [
    {
     "data": {
      "application/vnd.jupyter.widget-view+json": {
       "model_id": "5161d9dc53454528a571da2c1c195827",
       "version_major": 2,
       "version_minor": 0
      },
      "text/plain": [
       "Processing:   0%|          | 0/400 [00:00<?, ?chunk/s]"
      ]
     },
     "metadata": {},
     "output_type": "display_data"
    }
   ],
   "source": [
    "data = {\"test\": files[0:400]}\n",
    "                      \n",
    "tstart = time.time()\n",
    "\n",
    "phicut=0.980\n",
    "d0pt=3.0\n",
    "d0dl=3.0\n",
    "\n",
    "output_phi3 = processor.run_uproot_job(data,\n",
    "                                    treename='Events',\n",
    "                                    processor_instance=GenTestProcessor(),\n",
    "                                    executor=processor.futures_executor, #iterative, futures\n",
    "                                    executor_args={\"schema\": BaseSchema, 'workers': 8, 'skipbadfiles': True},\n",
    "                                    chunksize=360000,\n",
    "                                    )\n",
    "\n",
    "print(f\"Process finished in: {time.time() - tstart:.2f} s\")\n",
    "\n",
    "\n",
    "# Number of candidates\n",
    "nevt = output_phi3['cutflow']['Number of events']\n",
    "JpsiDstar = output_phi3['cutflow']['Number of DimuDstar']\n",
    "nevts_with_jpsidstar = output_phi3['cutflow']['Number of evts with DimuDstar']\n",
    "print(f\"There are {JpsiDstar} JpsiDstars in {nevt} events\")\n",
    "print(f\"There are {nevts_with_jpsidstar} events with JpsiDstars\")"
   ]
  },
  {
   "cell_type": "markdown",
   "id": "0c5914e8-fe25-4751-aaad-15883a07e09a",
   "metadata": {},
   "source": [
    " ## $ cos(\\phi) $ > 0.975 "
   ]
  },
  {
   "cell_type": "code",
   "execution_count": null,
   "id": "e45cd89b-00e9-42cc-9368-e17587ee5695",
   "metadata": {},
   "outputs": [],
   "source": [
    "data = {\"test\": files[0:400]}\n",
    "                      \n",
    "tstart = time.time()\n",
    "\n",
    "phicut=0.975\n",
    "d0pt=3.0\n",
    "d0dl=3.0\n",
    "\n",
    "output_phi4 = processor.run_uproot_job(data,\n",
    "                                    treename='Events',\n",
    "                                    processor_instance=GenTestProcessor(),\n",
    "                                    executor=processor.futures_executor, #iterative, futures\n",
    "                                    executor_args={\"schema\": BaseSchema, 'workers': 8, 'skipbadfiles': True},\n",
    "                                    chunksize=360000,\n",
    "                                    )\n",
    "\n",
    "print(f\"Process finished in: {time.time() - tstart:.2f} s\")"
   ]
  },
  {
   "cell_type": "code",
   "execution_count": 75,
   "id": "616d993b-00a3-4461-a837-06bece4e72f7",
   "metadata": {},
   "outputs": [
    {
     "name": "stdout",
     "output_type": "stream",
     "text": [
      "There are 148 JpsiDstars in 44285 events\n",
      "There are 116 events with JpsiDstars\n"
     ]
    }
   ],
   "source": [
    "# Number of candidates\n",
    "nevt = output_phi4['cutflow']['Number of events']\n",
    "JpsiDstar = output_phi4['cutflow']['Number of DimuDstar']\n",
    "nevts_with_jpsidstar = output_phi4['cutflow']['Number of evts with DimuDstar']\n",
    "print(f\"There are {JpsiDstar} JpsiDstars in {nevt} events\")\n",
    "print(f\"There are {nevts_with_jpsidstar} events with JpsiDstars\")"
   ]
  },
  {
   "cell_type": "markdown",
   "id": "da6d43cd-b42a-4c27-b1b5-81053e933125",
   "metadata": {},
   "source": [
    " ### Legend"
   ]
  },
  {
   "cell_type": "code",
   "execution_count": 31,
   "id": "a21f3274-b009-4282-8317-46abe13f4a4e",
   "metadata": {},
   "outputs": [],
   "source": [
    "#legend = [r\"$cos(\\alpha) > 0.990$\", r\"$cos(\\alpha) > 0.985$\", r\"$cos(\\alpha) > 0.980$\", r\"$cos(\\alpha) > 0.975$\"]\n",
    "legend = [r\"$cos(\\alpha) > 0.990$\", r\"$cos(\\alpha) > 0.985$\"]"
   ]
  },
  {
   "cell_type": "markdown",
   "id": "e435d2fe-939a-4467-8cb7-63617583621b",
   "metadata": {},
   "source": [
    "### Plots"
   ]
  },
  {
   "cell_type": "code",
   "execution_count": null,
   "id": "e8005788-9cc4-4686-8888-65dc43799519",
   "metadata": {},
   "outputs": [],
   "source": [
    "# Dimu mass\n",
    "#plot_comparison((output1['asso_dimu_mass'], output2['asso_dimu_mass'], output3['asso_dimu_mass'], output4['asso_dimu_mass']), legend=legend)\n",
    "plot_comparison((output_phi1['asso_dimu_mass'], output_phi2['asso_dimu_mass']), legend=legend)"
   ]
  },
  {
   "cell_type": "code",
   "execution_count": 32,
   "id": "d523750c-251e-4fb6-893d-f4ef57253d0d",
   "metadata": {},
   "outputs": [
    {
     "name": "stderr",
     "output_type": "stream",
     "text": [
      "/afs/cern.ch/user/m/mabarros/miniconda3/envs/OniaOpenCharmRun2ULenv/lib/python3.9/site-packages/numpy/core/_methods.py:44: RuntimeWarning: invalid value encountered in reduce\n",
      "  return umr_minimum(a, axis, None, out, keepdims, initial, where)\n",
      "/afs/cern.ch/user/m/mabarros/miniconda3/envs/OniaOpenCharmRun2ULenv/lib/python3.9/site-packages/numpy/core/_methods.py:40: RuntimeWarning: invalid value encountered in reduce\n",
      "  return umr_maximum(a, axis, None, out, keepdims, initial, where)\n",
      "/afs/cern.ch/user/m/mabarros/miniconda3/envs/OniaOpenCharmRun2ULenv/lib/python3.9/site-packages/numpy/core/_methods.py:44: RuntimeWarning: invalid value encountered in reduce\n",
      "  return umr_minimum(a, axis, None, out, keepdims, initial, where)\n",
      "/afs/cern.ch/user/m/mabarros/miniconda3/envs/OniaOpenCharmRun2ULenv/lib/python3.9/site-packages/numpy/core/_methods.py:40: RuntimeWarning: invalid value encountered in reduce\n",
      "  return umr_maximum(a, axis, None, out, keepdims, initial, where)\n"
     ]
    },
    {
     "data": {
      "text/plain": [
       "<AxesSubplot:xlabel='$\\\\Delta m_{D*}$ asso', ylabel='Events'>"
      ]
     },
     "execution_count": 32,
     "metadata": {},
     "output_type": "execute_result"
    },
    {
     "data": {
      "image/png": "[encoded data removed]",
      "text/plain": [
       "<Figure size 720x720 with 1 Axes>"
      ]
     },
     "metadata": {
      "needs_background": "light"
     },
     "output_type": "display_data"
    }
   ],
   "source": [
    "# Dstal deltam\n",
    "#plot_comparison((output_phi1['asso_dstar_deltamr'], output_phi2['asso_dstar_deltamr'], output_phi3['asso_dstar_deltamr'], output_phi4['asso_dstar_deltamr']), legend=legend)\n",
    "plot_comparison((output_phi1['asso_dstar_deltamr'], output_phi2['asso_dstar_deltamr'],), legend=legend)"
   ]
  },
  {
   "cell_type": "code",
   "execution_count": null,
   "id": "8d901dc8-36fe-4332-b5f5-21d210eef914",
   "metadata": {},
   "outputs": [],
   "source": [
    "# JpsiDstar mass plot\n",
    "plot_comparison((output_phi1['JpsiDstar_mass'], output_phi2['JpsiDstar_mass'], output_phi3['JpsiDstar_mass'], output_phi4['JpsiDstar_mass']), legend=legend)"
   ]
  },
  {
   "cell_type": "code",
   "execution_count": null,
   "id": "8e335720-e03e-41b3-8c5f-113135b48667",
   "metadata": {},
   "outputs": [],
   "source": [
    "# JpsiDstar delta rapidity plot\n",
    "plot_comparison((output_phi1['JpsiDstar_deltarap'], output_phi2['JpsiDstar_deltarap'], output_phi3['JpsiDstar_deltarap'], output_phi4['JpsiDstar_deltarap']), legend=legend)"
   ]
  },
  {
   "cell_type": "markdown",
   "id": "1709ff12-6af4-482f-9fc3-8270c039f7a9",
   "metadata": {},
   "source": [
    "#  D0 from D* $ p_T $"
   ]
  },
  {
   "cell_type": "markdown",
   "id": "8adb9950-7325-45f1-b6b3-7712d6f3eb4e",
   "metadata": {},
   "source": [
    " ## $ p_T $ > 4.0 GeV"
   ]
  },
  {
   "cell_type": "code",
   "execution_count": 60,
   "id": "86568992-1308-4363-8efd-463f21f85cb1",
   "metadata": {},
   "outputs": [
    {
     "data": {
      "application/vnd.jupyter.widget-view+json": {
       "model_id": "981556df5d874fd18bb4cd57c996c138",
       "version_major": 2,
       "version_minor": 0
      },
      "text/plain": [
       "Preprocessing:   0%|          | 0/240 [00:00<?, ?file/s]"
      ]
     },
     "metadata": {},
     "output_type": "display_data"
    },
    {
     "data": {
      "application/vnd.jupyter.widget-view+json": {
       "model_id": "def47bf456af4cb6b1c4b37df162f29b",
       "version_major": 2,
       "version_minor": 0
      },
      "text/plain": [
       "Processing:   0%|          | 0/340 [00:00<?, ?chunk/s]"
      ]
     },
     "metadata": {},
     "output_type": "display_data"
    },
    {
     "name": "stdout",
     "output_type": "stream",
     "text": [
      "Process finished in: 201.69 s\n",
      "There are 94 JpsiDstars in 44285 events\n",
      "There are 75 events with JpsiDstars\n"
     ]
    }
   ],
   "source": [
    "data = {\"test\": files[0:340]}\n",
    "                      \n",
    "tstart = time.time()\n",
    "\n",
    "phicut=0.990\n",
    "d0pt=4.0\n",
    "d0dl=3.0\n",
    "\n",
    "output_pt1 = processor.run_uproot_job(data,\n",
    "                                    treename='Events',\n",
    "                                    processor_instance=GenTestProcessor(),\n",
    "                                    executor=processor.futures_executor, #iterative, futures\n",
    "                                    executor_args={\"schema\": BaseSchema, 'workers': 8, 'skipbadfiles': True},\n",
    "                                    chunksize=360000,\n",
    "                                    )\n",
    "\n",
    "print(f\"Process finished in: {time.time() - tstart:.2f} s\")\n",
    "\n",
    "\n",
    "# Number of candidates\n",
    "nevt = output_pt1['cutflow']['Number of events']\n",
    "JpsiDstar = output_pt1['cutflow']['Number of DimuDstar']\n",
    "nevts_with_jpsidstar = output_pt1['cutflow']['Number of evts with DimuDstar']\n",
    "print(f\"There are {JpsiDstar} JpsiDstars in {nevt} events\")\n",
    "print(f\"There are {nevts_with_jpsidstar} events with JpsiDstars\")"
   ]
  },
  {
   "cell_type": "markdown",
   "id": "03df8655-6e1c-4c64-9ca4-d0e81e144b63",
   "metadata": {},
   "source": [
    "## $ p_T $ > 3.0 GeV"
   ]
  },
  {
   "cell_type": "code",
   "execution_count": 61,
   "id": "64363754-587a-4ea7-ab1c-365e6156428a",
   "metadata": {},
   "outputs": [
    {
     "data": {
      "application/vnd.jupyter.widget-view+json": {
       "model_id": "3697211271344c4aabbb2f1b7dbc7af3",
       "version_major": 2,
       "version_minor": 0
      },
      "text/plain": [
       "Processing:   0%|          | 0/340 [00:00<?, ?chunk/s]"
      ]
     },
     "metadata": {},
     "output_type": "display_data"
    },
    {
     "name": "stdout",
     "output_type": "stream",
     "text": [
      "Process finished in: 145.80 s\n",
      "There are 122 JpsiDstars in 44285 events\n",
      "There are 98 events with JpsiDstars\n"
     ]
    }
   ],
   "source": [
    "data = {\"test\": files[0:340]}\n",
    "                      \n",
    "tstart = time.time()\n",
    "\n",
    "phicut=0.990\n",
    "d0pt=3.0\n",
    "d0dl=3.0\n",
    "\n",
    "output_pt2 = processor.run_uproot_job(data,\n",
    "                                    treename='Events',\n",
    "                                    processor_instance=GenTestProcessor(),\n",
    "                                    executor=processor.futures_executor, #iterative, futures\n",
    "                                    executor_args={\"schema\": BaseSchema, 'workers': 8, 'skipbadfiles': True},\n",
    "                                    chunksize=360000,\n",
    "                                    )\n",
    "\n",
    "print(f\"Process finished in: {time.time() - tstart:.2f} s\")\n",
    "\n",
    "# Number of candidates\n",
    "nevt = output_pt2['cutflow']['Number of events']\n",
    "JpsiDstar = output_pt2['cutflow']['Number of DimuDstar']\n",
    "nevts_with_jpsidstar = output_pt2['cutflow']['Number of evts with DimuDstar']\n",
    "print(f\"There are {JpsiDstar} JpsiDstars in {nevt} events\")\n",
    "print(f\"There are {nevts_with_jpsidstar} events with JpsiDstars\")"
   ]
  },
  {
   "cell_type": "markdown",
   "id": "ae6504e6-8573-4276-9539-22003b6abe09",
   "metadata": {},
   "source": [
    " ## $ p_T $ > 2.0 GeV"
   ]
  },
  {
   "cell_type": "code",
   "execution_count": 62,
   "id": "a86889ca-ead9-4e8c-a93c-19309a47c591",
   "metadata": {},
   "outputs": [
    {
     "data": {
      "application/vnd.jupyter.widget-view+json": {
       "model_id": "890bc3652a29403195384e58c09d8a49",
       "version_major": 2,
       "version_minor": 0
      },
      "text/plain": [
       "Processing:   0%|          | 0/340 [00:00<?, ?chunk/s]"
      ]
     },
     "metadata": {},
     "output_type": "display_data"
    },
    {
     "name": "stdout",
     "output_type": "stream",
     "text": [
      "Process finished in: 129.63 s\n",
      "There are 123 JpsiDstars in 44285 events\n",
      "There are 99 events with JpsiDstars\n"
     ]
    }
   ],
   "source": [
    "data = {\"test\": files[0:340]}\n",
    "                      \n",
    "tstart = time.time()\n",
    "\n",
    "phicut=0.990\n",
    "d0pt=2.0\n",
    "d0dl=3.0\n",
    "\n",
    "output_pt3 = processor.run_uproot_job(data,\n",
    "                                    treename='Events',\n",
    "                                    processor_instance=GenTestProcessor(),\n",
    "                                    executor=processor.futures_executor, #iterative, futures\n",
    "                                    executor_args={\"schema\": BaseSchema, 'workers': 8, 'skipbadfiles': True},\n",
    "                                    chunksize=360000,\n",
    "                                    )\n",
    "\n",
    "print(f\"Process finished in: {time.time() - tstart:.2f} s\")\n",
    "\n",
    "# Number of candidates\n",
    "nevt = output_pt3['cutflow']['Number of events']\n",
    "JpsiDstar = output_pt3['cutflow']['Number of DimuDstar']\n",
    "nevts_with_jpsidstar = output_pt3['cutflow']['Number of evts with DimuDstar']\n",
    "print(f\"There are {JpsiDstar} JpsiDstars in {nevt} events\")\n",
    "print(f\"There are {nevts_with_jpsidstar} events with JpsiDstars\")"
   ]
  },
  {
   "cell_type": "markdown",
   "id": "c5251829-476f-43ac-a7b4-3e5fa8425134",
   "metadata": {},
   "source": [
    " ## $ p_T $ > 1.0 GeV"
   ]
  },
  {
   "cell_type": "code",
   "execution_count": 63,
   "id": "6413bcbe-98b9-43d5-8f93-9636d8fbfc11",
   "metadata": {},
   "outputs": [
    {
     "data": {
      "application/vnd.jupyter.widget-view+json": {
       "model_id": "97fb1836d370452794692806c3f4ed45",
       "version_major": 2,
       "version_minor": 0
      },
      "text/plain": [
       "Processing:   0%|          | 0/340 [00:00<?, ?chunk/s]"
      ]
     },
     "metadata": {},
     "output_type": "display_data"
    },
    {
     "name": "stdout",
     "output_type": "stream",
     "text": [
      "Process finished in: 127.82 s\n",
      "There are 123 JpsiDstars in 44285 events\n",
      "There are 99 events with JpsiDstars\n"
     ]
    }
   ],
   "source": [
    "data = {\"test\": files[0:340]}\n",
    "                      \n",
    "tstart = time.time()\n",
    "\n",
    "phicut=0.990\n",
    "d0pt=1.0\n",
    "d0dl=3.0\n",
    "\n",
    "output_pt4 = processor.run_uproot_job(data,\n",
    "                                    treename='Events',\n",
    "                                    processor_instance=GenTestProcessor(),\n",
    "                                    executor=processor.futures_executor, #iterative, futures\n",
    "                                    executor_args={\"schema\": BaseSchema, 'workers': 8, 'skipbadfiles': True},\n",
    "                                    chunksize=360000,\n",
    "                                    )\n",
    "\n",
    "print(f\"Process finished in: {time.time() - tstart:.2f} s\")\n",
    "\n",
    "# Number of candidates\n",
    "nevt = output_pt4['cutflow']['Number of events']\n",
    "JpsiDstar = output_pt4['cutflow']['Number of DimuDstar']\n",
    "nevts_with_jpsidstar = output_pt4['cutflow']['Number of evts with DimuDstar']\n",
    "print(f\"There are {JpsiDstar} JpsiDstars in {nevt} events\")\n",
    "print(f\"There are {nevts_with_jpsidstar} events with JpsiDstars\")"
   ]
  },
  {
   "cell_type": "markdown",
   "id": "d87dc77b-7327-4015-8232-1bf9126272d0",
   "metadata": {},
   "source": [
    " ### Legend"
   ]
  },
  {
   "cell_type": "code",
   "execution_count": null,
   "id": "de35f057-2364-4b8d-ab02-c3af5ac494a2",
   "metadata": {},
   "outputs": [],
   "source": [
    "#legend = [r\"$ p_T > 4.0 GeV $\", r\"$ p_T > 3.0 GeV $\", r\"$ p_T > 2.0 GeV $\", r\"$ p_T > 1.0 GeV $\"]\n",
    "legend = [r\"$ p_T > 4.0 GeV $\", r\"$ p_T > 3.0 GeV $\"]"
   ]
  },
  {
   "cell_type": "markdown",
   "id": "4cddd97d-ef9d-430e-9693-24e890244dd3",
   "metadata": {},
   "source": [
    " ### Plots"
   ]
  },
  {
   "cell_type": "code",
   "execution_count": null,
   "id": "7f15db7c-9597-48f2-8db6-5cb2052be1a8",
   "metadata": {},
   "outputs": [],
   "source": [
    "# Dstal deltamr\n",
    "#data_list = (output1['asso_dstar_deltamr'], output2['asso_dstar_deltamr'], output3['asso_dstar_deltamr'], output4['asso_dstar_deltamr'])\n",
    "data_list = (output1['asso_dstar_deltamr'], output2['asso_dstar_deltamr'])\n",
    "\n",
    "plot_comparison(data_list, legend=legend)"
   ]
  },
  {
   "cell_type": "markdown",
   "id": "d7f54410-904c-466d-87cb-0c0d12b7aae2",
   "metadata": {},
   "source": [
    "#  D0 (from D*) decay length significance"
   ]
  },
  {
   "cell_type": "markdown",
   "id": "b96baebf-08c7-4739-a136-49211ec39262",
   "metadata": {},
   "source": [
    "## dl > 3.0"
   ]
  },
  {
   "cell_type": "code",
   "execution_count": 64,
   "id": "7fe2e8cf-da5e-4596-9aae-0e45fd26d360",
   "metadata": {},
   "outputs": [
    {
     "data": {
      "application/vnd.jupyter.widget-view+json": {
       "model_id": "1868146d57b04001974c16ab3fbd3908",
       "version_major": 2,
       "version_minor": 0
      },
      "text/plain": [
       "Processing:   0%|          | 0/340 [00:00<?, ?chunk/s]"
      ]
     },
     "metadata": {},
     "output_type": "display_data"
    },
    {
     "name": "stdout",
     "output_type": "stream",
     "text": [
      "Process finished in: 131.22 s\n",
      "There are 122 JpsiDstars in 44285 events\n",
      "There are 98 events with JpsiDstars\n"
     ]
    }
   ],
   "source": [
    "data = {\"test\": files[0:340]}\n",
    "                      \n",
    "tstart = time.time()\n",
    "\n",
    "phicut=0.990\n",
    "d0pt=3.0\n",
    "d0dl=3.0\n",
    "\n",
    "output_dl1 = processor.run_uproot_job(data,\n",
    "                                    treename='Events',\n",
    "                                    processor_instance=GenTestProcessor(),\n",
    "                                    executor=processor.futures_executor, #iterative, futures\n",
    "                                    executor_args={\"schema\": BaseSchema, 'workers': 8, 'skipbadfiles': True},\n",
    "                                    chunksize=360000,\n",
    "                                    )\n",
    "\n",
    "print(f\"Process finished in: {time.time() - tstart:.2f} s\")\n",
    "\n",
    "# Number of candidates\n",
    "nevt = output_dl1['cutflow']['Number of events']\n",
    "JpsiDstar = output_dl1['cutflow']['Number of DimuDstar']\n",
    "nevts_with_jpsidstar = output_dl1['cutflow']['Number of evts with DimuDstar']\n",
    "print(f\"There are {JpsiDstar} JpsiDstars in {nevt} events\")\n",
    "print(f\"There are {nevts_with_jpsidstar} events with JpsiDstars\")"
   ]
  },
  {
   "cell_type": "markdown",
   "id": "522ddc6f-ffa6-4238-8fde-dcaf0626846e",
   "metadata": {},
   "source": [
    "## dl > 2.9"
   ]
  },
  {
   "cell_type": "code",
   "execution_count": 65,
   "id": "33a469f4-e20e-428e-aa47-9ea1cd367e7b",
   "metadata": {},
   "outputs": [
    {
     "data": {
      "application/vnd.jupyter.widget-view+json": {
       "model_id": "ab57389dfd4b4ca6be90d243f29a6067",
       "version_major": 2,
       "version_minor": 0
      },
      "text/plain": [
       "Processing:   0%|          | 0/340 [00:00<?, ?chunk/s]"
      ]
     },
     "metadata": {},
     "output_type": "display_data"
    },
    {
     "name": "stdout",
     "output_type": "stream",
     "text": [
      "Process finished in: 131.05 s\n",
      "There are 126 JpsiDstars in 44285 events\n",
      "There are 102 events with JpsiDstars\n"
     ]
    }
   ],
   "source": [
    "data = {\"test\": files[0:340]}\n",
    "                      \n",
    "tstart = time.time()\n",
    "\n",
    "phicut=0.990\n",
    "d0pt=3.0\n",
    "d0dl=2.9\n",
    "\n",
    "output_dl2 = processor.run_uproot_job(data,\n",
    "                                    treename='Events',\n",
    "                                    processor_instance=GenTestProcessor(),\n",
    "                                    executor=processor.futures_executor, #iterative, futures\n",
    "                                    executor_args={\"schema\": BaseSchema, 'workers': 8, 'skipbadfiles': True},\n",
    "                                    chunksize=360000,\n",
    "                                    )\n",
    "\n",
    "print(f\"Process finished in: {time.time() - tstart:.2f} s\")\n",
    "\n",
    "# Number of candidates\n",
    "nevt = output_dl2['cutflow']['Number of events']\n",
    "JpsiDstar = output_dl2['cutflow']['Number of DimuDstar']\n",
    "nevts_with_jpsidstar = output_dl2['cutflow']['Number of evts with DimuDstar']\n",
    "print(f\"There are {JpsiDstar} JpsiDstars in {nevt} events\")\n",
    "print(f\"There are {nevts_with_jpsidstar} events with JpsiDstars\")"
   ]
  },
  {
   "cell_type": "markdown",
   "id": "228c5b2b-8069-44c2-978e-408cdd912c2a",
   "metadata": {},
   "source": [
    "## dl > 2.8"
   ]
  },
  {
   "cell_type": "code",
   "execution_count": 66,
   "id": "fca3ae9c-acda-46b7-8600-ec9cb33b94a5",
   "metadata": {},
   "outputs": [
    {
     "data": {
      "application/vnd.jupyter.widget-view+json": {
       "model_id": "629cf208c442449db89c638abb65bed1",
       "version_major": 2,
       "version_minor": 0
      },
      "text/plain": [
       "Processing:   0%|          | 0/340 [00:00<?, ?chunk/s]"
      ]
     },
     "metadata": {},
     "output_type": "display_data"
    },
    {
     "name": "stdout",
     "output_type": "stream",
     "text": [
      "Process finished in: 129.12 s\n",
      "There are 129 JpsiDstars in 44285 events\n",
      "There are 105 events with JpsiDstars\n"
     ]
    }
   ],
   "source": [
    "data = {\"test\": files[0:340]}\n",
    "                      \n",
    "tstart = time.time()\n",
    "\n",
    "phicut=0.990\n",
    "d0pt=3.0\n",
    "d0dl=2.8\n",
    "\n",
    "output_dl3 = processor.run_uproot_job(data,\n",
    "                                    treename='Events',\n",
    "                                    processor_instance=GenTestProcessor(),\n",
    "                                    executor=processor.futures_executor, #iterative, futures\n",
    "                                    executor_args={\"schema\": BaseSchema, 'workers': 8, 'skipbadfiles': True},\n",
    "                                    chunksize=360000,\n",
    "                                    )\n",
    "\n",
    "print(f\"Process finished in: {time.time() - tstart:.2f} s\")\n",
    "\n",
    "# Number of candidates\n",
    "nevt = output_dl3['cutflow']['Number of events']\n",
    "JpsiDstar = output_dl3['cutflow']['Number of DimuDstar']\n",
    "nevts_with_jpsidstar = output_dl3['cutflow']['Number of evts with DimuDstar']\n",
    "print(f\"There are {JpsiDstar} JpsiDstars in {nevt} events\")\n",
    "print(f\"There are {nevts_with_jpsidstar} events with JpsiDstars\")"
   ]
  },
  {
   "cell_type": "markdown",
   "id": "35689e5a-de0e-48a8-8b92-60a9312dccc4",
   "metadata": {},
   "source": [
    "## dl > 2.7"
   ]
  },
  {
   "cell_type": "code",
   "execution_count": 67,
   "id": "c85e8279-6f1a-4f89-8f44-f8a8835475d6",
   "metadata": {},
   "outputs": [
    {
     "data": {
      "application/vnd.jupyter.widget-view+json": {
       "model_id": "edc4d97b3db340eeb406c515d62e6d7a",
       "version_major": 2,
       "version_minor": 0
      },
      "text/plain": [
       "Processing:   0%|          | 0/340 [00:00<?, ?chunk/s]"
      ]
     },
     "metadata": {},
     "output_type": "display_data"
    },
    {
     "name": "stdout",
     "output_type": "stream",
     "text": [
      "Process finished in: 126.46 s\n",
      "There are 140 JpsiDstars in 44285 events\n",
      "There are 111 events with JpsiDstars\n"
     ]
    }
   ],
   "source": [
    "data = {\"test\": files[0:340]}\n",
    "                      \n",
    "tstart = time.time()\n",
    "\n",
    "phicut=0.990\n",
    "d0pt=3.0\n",
    "d0dl=2.7\n",
    "\n",
    "output_dl4 = processor.run_uproot_job(data,\n",
    "                                    treename='Events',\n",
    "                                    processor_instance=GenTestProcessor(),\n",
    "                                    executor=processor.futures_executor, #iterative, futures\n",
    "                                    executor_args={\"schema\": BaseSchema, 'workers': 8, 'skipbadfiles': True},\n",
    "                                    chunksize=360000,\n",
    "                                    )\n",
    "\n",
    "print(f\"Process finished in: {time.time() - tstart:.2f} s\")\n",
    "\n",
    "# Number of candidates\n",
    "nevt = output_dl4['cutflow']['Number of events']\n",
    "JpsiDstar = output_dl4['cutflow']['Number of DimuDstar']\n",
    "nevts_with_jpsidstar = output_dl4['cutflow']['Number of evts with DimuDstar']\n",
    "print(f\"There are {JpsiDstar} JpsiDstars in {nevt} events\")\n",
    "print(f\"There are {nevts_with_jpsidstar} events with JpsiDstars\")"
   ]
  },
  {
   "cell_type": "markdown",
   "id": "d43f137a-6e90-4df7-82de-6e116009b7cb",
   "metadata": {},
   "source": [
    "## dl > 2.6"
   ]
  },
  {
   "cell_type": "code",
   "execution_count": 68,
   "id": "01d94264-a748-4b71-bfef-ec5d3dcd795e",
   "metadata": {},
   "outputs": [
    {
     "data": {
      "application/vnd.jupyter.widget-view+json": {
       "model_id": "209ab7ee6dd840c49786ad0bdd10372d",
       "version_major": 2,
       "version_minor": 0
      },
      "text/plain": [
       "Processing:   0%|          | 0/340 [00:00<?, ?chunk/s]"
      ]
     },
     "metadata": {},
     "output_type": "display_data"
    },
    {
     "name": "stdout",
     "output_type": "stream",
     "text": [
      "Process finished in: 126.23 s\n",
      "There are 144 JpsiDstars in 44285 events\n",
      "There are 114 events with JpsiDstars\n"
     ]
    }
   ],
   "source": [
    "data = {\"test\": files[0:340]}\n",
    "                      \n",
    "tstart = time.time()\n",
    "\n",
    "phicut=0.990\n",
    "d0pt=3.0\n",
    "d0dl=2.6\n",
    "\n",
    "output_dl5 = processor.run_uproot_job(data,\n",
    "                                    treename='Events',\n",
    "                                    processor_instance=GenTestProcessor(),\n",
    "                                    executor=processor.futures_executor, #iterative, futures\n",
    "                                    executor_args={\"schema\": BaseSchema, 'workers': 8, 'skipbadfiles': True},\n",
    "                                    chunksize=360000,\n",
    "                                    )\n",
    "\n",
    "print(f\"Process finished in: {time.time() - tstart:.2f} s\")\n",
    "\n",
    "# Number of candidates\n",
    "nevt = output_dl5['cutflow']['Number of events']\n",
    "JpsiDstar = output_dl5['cutflow']['Number of DimuDstar']\n",
    "nevts_with_jpsidstar = output_dl5['cutflow']['Number of evts with DimuDstar']\n",
    "print(f\"There are {JpsiDstar} JpsiDstars in {nevt} events\")\n",
    "print(f\"There are {nevts_with_jpsidstar} events with JpsiDstars\")"
   ]
  },
  {
   "cell_type": "markdown",
   "id": "314bab94-245d-4b33-81cb-ee8ca6be0a29",
   "metadata": {},
   "source": [
    "## dl > 2.5"
   ]
  },
  {
   "cell_type": "code",
   "execution_count": 69,
   "id": "38ab0970-a608-48f3-aace-7fe8747a706c",
   "metadata": {},
   "outputs": [
    {
     "data": {
      "application/vnd.jupyter.widget-view+json": {
       "model_id": "7c44c43458b84f379cf10afc7f825e2f",
       "version_major": 2,
       "version_minor": 0
      },
      "text/plain": [
       "Processing:   0%|          | 0/340 [00:00<?, ?chunk/s]"
      ]
     },
     "metadata": {},
     "output_type": "display_data"
    },
    {
     "name": "stdout",
     "output_type": "stream",
     "text": [
      "Process finished in: 126.44 s\n",
      "There are 146 JpsiDstars in 44285 events\n",
      "There are 116 events with JpsiDstars\n"
     ]
    }
   ],
   "source": [
    "data = {\"test\": files[0:340]}\n",
    "                      \n",
    "tstart = time.time()\n",
    "\n",
    "phicut=0.990\n",
    "d0pt=3.0\n",
    "d0dl=2.5\n",
    "\n",
    "output_dl6 = processor.run_uproot_job(data,\n",
    "                                    treename='Events',\n",
    "                                    processor_instance=GenTestProcessor(),\n",
    "                                    executor=processor.futures_executor, #iterative, futures\n",
    "                                    executor_args={\"schema\": BaseSchema, 'workers': 8, 'skipbadfiles': True},\n",
    "                                    chunksize=360000,\n",
    "                                    )\n",
    "\n",
    "print(f\"Process finished in: {time.time() - tstart:.2f} s\")\n",
    "\n",
    "# Number of candidates\n",
    "nevt = output_dl6['cutflow']['Number of events']\n",
    "JpsiDstar = output_dl6['cutflow']['Number of DimuDstar']\n",
    "nevts_with_jpsidstar = output_dl6['cutflow']['Number of evts with DimuDstar']\n",
    "print(f\"There are {JpsiDstar} JpsiDstars in {nevt} events\")\n",
    "print(f\"There are {nevts_with_jpsidstar} events with JpsiDstars\")"
   ]
  },
  {
   "cell_type": "markdown",
   "id": "aeb5a246-c368-45f6-8db6-935800bb200d",
   "metadata": {},
   "source": [
    "## dl > 2.0"
   ]
  },
  {
   "cell_type": "code",
   "execution_count": 70,
   "id": "bfa466c8-f604-4007-bc87-90154fc2dda9",
   "metadata": {},
   "outputs": [
    {
     "data": {
      "application/vnd.jupyter.widget-view+json": {
       "model_id": "af936f4628604376bca597027ae6c689",
       "version_major": 2,
       "version_minor": 0
      },
      "text/plain": [
       "Processing:   0%|          | 0/340 [00:00<?, ?chunk/s]"
      ]
     },
     "metadata": {},
     "output_type": "display_data"
    },
    {
     "name": "stdout",
     "output_type": "stream",
     "text": [
      "Process finished in: 126.80 s\n",
      "There are 178 JpsiDstars in 44285 events\n",
      "There are 140 events with JpsiDstars\n"
     ]
    }
   ],
   "source": [
    "data = {\"test\": files[0:340]}\n",
    "                      \n",
    "tstart = time.time()\n",
    "\n",
    "phicut=0.990\n",
    "d0pt=3.0\n",
    "d0dl=2.0\n",
    "\n",
    "output_dl7 = processor.run_uproot_job(data,\n",
    "                                    treename='Events',\n",
    "                                    processor_instance=GenTestProcessor(),\n",
    "                                    executor=processor.futures_executor, #iterative, futures\n",
    "                                    executor_args={\"schema\": BaseSchema, 'workers': 8, 'skipbadfiles': True},\n",
    "                                    chunksize=360000,\n",
    "                                    )\n",
    "\n",
    "print(f\"Process finished in: {time.time() - tstart:.2f} s\")\n",
    "\n",
    "# Number of candidates\n",
    "nevt = output_dl7['cutflow']['Number of events']\n",
    "JpsiDstar = output_dl7['cutflow']['Number of DimuDstar']\n",
    "nevts_with_jpsidstar = output_dl7['cutflow']['Number of evts with DimuDstar']\n",
    "print(f\"There are {JpsiDstar} JpsiDstars in {nevt} events\")\n",
    "print(f\"There are {nevts_with_jpsidstar} events with JpsiDstars\")"
   ]
  },
  {
   "cell_type": "markdown",
   "id": "9ca2a6a7-999e-4940-b452-10b46b725dbe",
   "metadata": {},
   "source": [
    "## Legend"
   ]
  },
  {
   "cell_type": "code",
   "execution_count": null,
   "id": "2a9be4e6-6603-4be3-9133-f3dc2c7cf34e",
   "metadata": {},
   "outputs": [],
   "source": [
    "#legend = [r\"$ dl_{sig} > 3.0  $\", r\"$ dl_{sig} > 2.9  $\", r\"$ dl_{sig} > 2.8  $\", r\"$ dl_{sig} > 2.7  $\",\n",
    "#          r\"$ dl_{sig} > 2.6  $\", r\"$ dl_{sig} > 2.5  $\", r\"$ dl_{sig} > 2.0  $\"]\n",
    "legend = [r\"$ dl_{sig} > 3.0  $\", r\"$ dl_{sig} > 2.5  $\", r\"$ dl_{sig} > 2.0  $\",]"
   ]
  },
  {
   "cell_type": "markdown",
   "id": "18d5e8fd-4874-4225-b6a3-1cd2d48d5ef1",
   "metadata": {},
   "source": [
    "## Plots"
   ]
  },
  {
   "cell_type": "code",
   "execution_count": null,
   "id": "e0342f01-615b-4110-be8a-588cf3ef5f14",
   "metadata": {},
   "outputs": [],
   "source": [
    "# Dstal deltamr\n",
    "#data_list = (output1['asso_dstar_deltamr'], output2['asso_dstar_deltamr'], output3['asso_dstar_deltamr'], output4['asso_dstar_deltamr'],\n",
    "#             output5['asso_dstar_deltamr'], output6['asso_dstar_deltamr'], output7['asso_dstar_deltamr'])\n",
    "data_list = (output1['asso_dstar_deltamr'], output6['asso_dstar_deltamr'], output7['asso_dstar_deltamr'])\n",
    "ax = plot_comparison(data_list, legend=legend)\n",
    "ax.set_ylim(0, 80)"
   ]
  },
  {
   "cell_type": "markdown",
   "id": "951df2d5-07d5-4122-bde6-aa235fe08c53",
   "metadata": {},
   "source": [
    "#  Comparison old and new cuts"
   ]
  },
  {
   "cell_type": "markdown",
   "id": "17e937ec-6a88-47ee-bc6b-8356b720b6a6",
   "metadata": {},
   "source": [
    "## old\n",
    "\n",
    " * D0 from D* $ cos(\\phi) $ > 0.99\n",
    " * D0 from D* $ p_T $ > 3 GeV\n",
    " * D0 from D* decay length significance > 3"
   ]
  },
  {
   "cell_type": "code",
   "execution_count": 35,
   "id": "f90efea0-5ba6-4478-bcec-7bee762e6b8a",
   "metadata": {},
   "outputs": [
    {
     "data": {
      "application/vnd.jupyter.widget-view+json": {
       "model_id": "baee18b1e1404c8fb869e191a716c7c3",
       "version_major": 2,
       "version_minor": 0
      },
      "text/plain": [
       "Preprocessing:   0%|          | 0/240 [00:00<?, ?file/s]"
      ]
     },
     "metadata": {},
     "output_type": "display_data"
    },
    {
     "data": {
      "application/vnd.jupyter.widget-view+json": {
       "model_id": "a3dd5251f689437a9e4ebb43c831cc89",
       "version_major": 2,
       "version_minor": 0
      },
      "text/plain": [
       "Processing:   0%|          | 0/340 [00:00<?, ?chunk/s]"
      ]
     },
     "metadata": {},
     "output_type": "display_data"
    },
    {
     "name": "stdout",
     "output_type": "stream",
     "text": [
      "Process finished in: 205.53 s\n",
      "There are 55 JpsiDstars in 44285 events\n",
      "There are 47 events with JpsiDstars\n"
     ]
    }
   ],
   "source": [
    "data = {\"test\": files[0:340]}\n",
    "                      \n",
    "tstart = time.time()\n",
    "\n",
    "d0cosphi=0.99\n",
    "d0pt=3.0\n",
    "d0dl=3\n",
    "\n",
    "output_old = processor.run_uproot_job(data,\n",
    "                                    treename='Events',\n",
    "                                    processor_instance=GenTestProcessor(),\n",
    "                                    executor=processor.futures_executor, #iterative, futures\n",
    "                                    executor_args={\"schema\": BaseSchema, 'workers': 8, 'skipbadfiles': True},\n",
    "                                    chunksize=360000,\n",
    "                                    )\n",
    "\n",
    "print(f\"Process finished in: {time.time() - tstart:.2f} s\")\n",
    "\n",
    "# Number of candidates\n",
    "nevt = output_old['cutflow']['Number of events']\n",
    "JpsiDstar = output_old['cutflow']['Number of DimuDstar']\n",
    "nevts_with_jpsidstar = output_old['cutflow']['Number of evts with DimuDstar']\n",
    "print(f\"There are {JpsiDstar} JpsiDstars in {nevt} events\")\n",
    "print(f\"There are {nevts_with_jpsidstar} events with JpsiDstars\")"
   ]
  },
  {
   "cell_type": "markdown",
   "id": "2febf90c-9102-49c6-8f18-67c30cd54542",
   "metadata": {},
   "source": [
    "## new\n",
    "\n",
    " * D0 from D* $ cos(\\phi) $ > 0.975\n",
    " * D0 from D* $ p_T $ > 3 GeV\n",
    " * D0 from D* decay length significance > 2"
   ]
  },
  {
   "cell_type": "code",
   "execution_count": 36,
   "id": "f8de244a-428b-47f3-88c7-a53236a4f0f3",
   "metadata": {},
   "outputs": [
    {
     "data": {
      "application/vnd.jupyter.widget-view+json": {
       "model_id": "b65e8fcc063e406a8b383138b402c9b0",
       "version_major": 2,
       "version_minor": 0
      },
      "text/plain": [
       "Processing:   0%|          | 0/340 [00:00<?, ?chunk/s]"
      ]
     },
     "metadata": {},
     "output_type": "display_data"
    },
    {
     "name": "stdout",
     "output_type": "stream",
     "text": [
      "Process finished in: 129.50 s\n",
      "There are 73 JpsiDstars in 44285 events\n",
      "There are 62 events with JpsiDstars\n"
     ]
    }
   ],
   "source": [
    "data = {\"test\": files[0:340]}\n",
    "                      \n",
    "tstart = time.time()\n",
    "\n",
    "d0cosphi=0.975\n",
    "d0pt=3.0\n",
    "d0dl=2\n",
    "\n",
    "\n",
    "output_new = processor.run_uproot_job(data,\n",
    "                                    treename='Events',\n",
    "                                    processor_instance=GenTestProcessor(),\n",
    "                                    executor=processor.futures_executor, #iterative, futures\n",
    "                                    executor_args={\"schema\": BaseSchema, 'workers': 8, 'skipbadfiles': True},\n",
    "                                    chunksize=360000,\n",
    "                                    )\n",
    "\n",
    "print(f\"Process finished in: {time.time() - tstart:.2f} s\")\n",
    "\n",
    "# Number of candidates\n",
    "nevt = output_new['cutflow']['Number of events']\n",
    "JpsiDstar = output_new['cutflow']['Number of DimuDstar']\n",
    "nevts_with_jpsidstar = output_new['cutflow']['Number of evts with DimuDstar']\n",
    "print(f\"There are {JpsiDstar} JpsiDstars in {nevt} events\")\n",
    "print(f\"There are {nevts_with_jpsidstar} events with JpsiDstars\")"
   ]
  },
  {
   "cell_type": "markdown",
   "id": "a03c72ab-3330-4a25-a9ff-568a1c8bbfa0",
   "metadata": {},
   "source": [
    "## Legend"
   ]
  },
  {
   "cell_type": "code",
   "execution_count": 37,
   "id": "d10c726d-213b-496d-a391-dbde2f56e092",
   "metadata": {},
   "outputs": [],
   "source": [
    "legend = ['old cuts', 'new cuts']"
   ]
  },
  {
   "cell_type": "markdown",
   "id": "a5791c0b-6db5-444b-a688-4e68109c4373",
   "metadata": {},
   "source": [
    "## Plots"
   ]
  },
  {
   "cell_type": "code",
   "execution_count": 38,
   "id": "80acf6d8-1b48-4eb5-b569-91bd207821cb",
   "metadata": {},
   "outputs": [
    {
     "name": "stderr",
     "output_type": "stream",
     "text": [
      "/afs/cern.ch/user/m/mabarros/miniconda3/envs/OniaOpenCharmRun2ULenv/lib/python3.9/site-packages/numpy/core/_methods.py:44: RuntimeWarning: invalid value encountered in reduce\n",
      "  return umr_minimum(a, axis, None, out, keepdims, initial, where)\n",
      "/afs/cern.ch/user/m/mabarros/miniconda3/envs/OniaOpenCharmRun2ULenv/lib/python3.9/site-packages/numpy/core/_methods.py:40: RuntimeWarning: invalid value encountered in reduce\n",
      "  return umr_maximum(a, axis, None, out, keepdims, initial, where)\n",
      "/afs/cern.ch/user/m/mabarros/miniconda3/envs/OniaOpenCharmRun2ULenv/lib/python3.9/site-packages/numpy/core/_methods.py:44: RuntimeWarning: invalid value encountered in reduce\n",
      "  return umr_minimum(a, axis, None, out, keepdims, initial, where)\n",
      "/afs/cern.ch/user/m/mabarros/miniconda3/envs/OniaOpenCharmRun2ULenv/lib/python3.9/site-packages/numpy/core/_methods.py:40: RuntimeWarning: invalid value encountered in reduce\n",
      "  return umr_maximum(a, axis, None, out, keepdims, initial, where)\n"
     ]
    },
    {
     "data": {
      "text/plain": [
       "(0.0, 80.0)"
      ]
     },
     "execution_count": 38,
     "metadata": {},
     "output_type": "execute_result"
    },
    {
     "data": {
      "image/png": "[encoded data removed]",
      "text/plain": [
       "<Figure size 720x720 with 1 Axes>"
      ]
     },
     "metadata": {
      "needs_background": "light"
     },
     "output_type": "display_data"
    }
   ],
   "source": [
    "data_list = (output_old['asso_dstar_deltamr'], output_new['asso_dstar_deltamr'])\n",
    "ax = plot_comparison(data_list, legend=legend)\n",
    "ax.set_ylim(0, 80)"
   ]
  },
  {
   "cell_type": "code",
   "execution_count": null,
   "id": "fe472bca-3155-4d2e-9e8e-3d1f88ac2841",
   "metadata": {},
   "outputs": [],
   "source": [
    "output2['cutflow']['Number of DimuDstar']"
   ]
  },
  {
   "cell_type": "code",
   "execution_count": null,
   "id": "5ac48af4-20fd-4efd-98b6-15f8798c973b",
   "metadata": {},
   "outputs": [],
   "source": []
  }
 ],
 "metadata": {
  "kernelspec": {
   "display_name": "Python 3 (ipykernel)",
   "language": "python",
   "name": "python3"
  },
  "language_info": {
   "codemirror_mode": {
    "name": "ipython",
    "version": 3
   },
   "file_extension": ".py",
   "mimetype": "text/x-python",
   "name": "python",
   "nbconvert_exporter": "python",
   "pygments_lexer": "ipython3",
   "version": "3.9.7"
  }
 },
 "nbformat": 4,
 "nbformat_minor": 5
}
