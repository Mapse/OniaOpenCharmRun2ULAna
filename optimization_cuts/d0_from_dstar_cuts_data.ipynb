{
 "cells": [
  {
   "cell_type": "code",
   "execution_count": 1,
   "id": "30d3eb6b-607b-4518-aa2c-632da43aeabc",
   "metadata": {
    "tags": []
   },
   "outputs": [],
   "source": [
    "import awkward as ak\n",
    "from coffea.util import load\n",
    "from coffea import hist\n",
    "import matplotlib.pyplot as plt\n",
    "import mplhep\n",
    "import os\n",
    "from tqdm import tqdm\n",
    "\n",
    "import numpy as np\n",
    "\n",
    "plt.style.use(mplhep.style.CMS)\n",
    "\n",
    "from coffea.nanoevents.methods import candidate\n",
    "ak.behavior.update(candidate.behavior)"
   ]
  },
  {
   "cell_type": "code",
   "execution_count": 2,
   "id": "b5bc28fa-999a-478f-818c-11269287affe",
   "metadata": {
    "tags": []
   },
   "outputs": [],
   "source": [
    "def create_plot1d(hist1d, log=False, ax=None):\n",
    "    lumi = \"x\"\n",
    "    \n",
    "    from matplotlib.offsetbox import AnchoredOffsetbox, TextArea\n",
    "    plt.style.use(mplhep.style.CMS)\n",
    "    plt.rcParams.update({\n",
    "        'font.size': 16,\n",
    "        'axes.titlesize': 18,\n",
    "        'axes.labelsize': 18,\n",
    "        'xtick.labelsize': 14,\n",
    "        'ytick.labelsize': 14\n",
    "    })\n",
    "    fill_opts = {\n",
    "    'alpha': 0.8,\n",
    "    'edgecolor':(0,0,0,.5)\n",
    "    }\n",
    "    \n",
    "    # Data format\n",
    "    data_err_opts = {\n",
    "        'linestyle': 'none',\n",
    "        'marker': '.',\n",
    "        'markersize': 10.,\n",
    "        'color': 'k',\n",
    "        'elinewidth': 1,\n",
    "        }\n",
    "\n",
    "    \n",
    "    ax = hist.plot1d(hist1d, ax=ax, error_opts=data_err_opts)\n",
    "    \n",
    "    # CMS style\n",
    "    \n",
    "    CMS = plt.text(0.03, 0.93, \"CMS\",\n",
    "                  fontsize=22,\n",
    "                  fontweight='bold',\n",
    "                  horizontalalignment='left',\n",
    "                  verticalalignment='bottom',\n",
    "                  transform=ax.transAxes\n",
    "                 )\n",
    "    pre = plt.text(0.03, 0.88, \"Preliminary\",\n",
    "                  fontsize=19,\n",
    "                  fontstyle='italic',\n",
    "                  horizontalalignment='left',\n",
    "                  verticalalignment='bottom',\n",
    "                  transform=ax.transAxes\n",
    "                 )\n",
    "    lumi = plt.text(1., 1., r\"\" + lumi +  \"fb$^{-1}$ (13 TeV)\",\n",
    "                fontsize=18,\n",
    "                fontstyle='normal',\n",
    "                horizontalalignment='right',\n",
    "                verticalalignment='bottom',\n",
    "                transform=ax.transAxes\n",
    "               )\n",
    "\n",
    "    if log:\n",
    "        ax.set_yscale('log')\n",
    "        ax.set_ylim(1, None)\n",
    "    else:\n",
    "        ax.ticklabel_format(axis='y', style='sci', scilimits=(0,3), useMathText=True)\n",
    "    \n",
    "    axis = hist1d.axes()[0]\n",
    "    centers = axis.centers()\n",
    "    values = np.where(hist1d.values().get(()) < 0, 0, hist1d.values().get(()))\n",
    "    \n",
    "    # compute mean and std:\n",
    "    mean = np.sum(values*centers)/np.sum(values)\n",
    "    std = np.sqrt(np.sum(values*((centers - mean)**2))/np.sum(values))\n",
    "    \n",
    "    annotation = TextArea(f\"Total: {np.sum(values):.2e}\" \\\n",
    "                    + \"\\n\" + f\"Mean: {mean:.2e}\" \\\n",
    "                    + \"\\n\" + f\"Std: {std:.2e}\", textprops=dict(size=14))\n",
    "    \n",
    "    at = AnchoredOffsetbox('upper right', child=annotation)\n",
    "    at.patch.set_facecolor('None')\n",
    "    ax.add_artist(at)\n",
    "    \n",
    "    ax.legend().remove()\n",
    "    \n",
    "    return ax"
   ]
  },
  {
   "cell_type": "code",
   "execution_count": 3,
   "id": "e5c4bb6a-dc3a-4120-9509-19c0d3b2e1ca",
   "metadata": {
    "tags": []
   },
   "outputs": [],
   "source": [
    "''' \n",
    "\n",
    "typ is either 'mc' or 'data'\n",
    "\n",
    "\n",
    "'''\n",
    "def plot_comparison(hist_list, legend, typ, lumi='x', log=False):\n",
    "    \n",
    "    # Luminosity\n",
    "    lumi=lumi\n",
    "    \n",
    "    # Color array\n",
    "    colors = ['#e41a1c','#377eb8','#4daf4a','#984ea3','#ff7f00','#ffff33','#a65628','#f781bf']\n",
    "    \n",
    "    for ht, c in zip(hist_list, colors):\n",
    "        # Data format\n",
    "        data_err_opts = {\n",
    "            'linestyle': 'none',\n",
    "            'marker': '.',\n",
    "            'markersize': 10.,\n",
    "            'color': c,\n",
    "            'elinewidth': 1,\n",
    "            }\n",
    "        ax = hist.plot1d(ht, error_opts=data_err_opts)\n",
    "    \n",
    "    if typ == 'mc':\n",
    "        mplhep.cms.label()\n",
    "    elif typ == 'data':\n",
    "        CMS = plt.text(0.03, 0.93, \"CMS\",\n",
    "                      fontsize=22,\n",
    "                      fontweight='bold',\n",
    "                      horizontalalignment='left',\n",
    "                      verticalalignment='bottom',\n",
    "                      transform=ax.transAxes\n",
    "                     )\n",
    "        pre = plt.text(0.03, 0.88, \"Preliminary\",\n",
    "                      fontsize=19,\n",
    "                      fontstyle='italic',\n",
    "                      horizontalalignment='left',\n",
    "                      verticalalignment='bottom',\n",
    "                      transform=ax.transAxes\n",
    "                     )\n",
    "        lumi = plt.text(1., 1., r\"\" + lumi +  \"fb$^{-1}$ (13 TeV)\",\n",
    "                    fontsize=18,\n",
    "                    fontstyle='normal',\n",
    "                    horizontalalignment='right',\n",
    "                    verticalalignment='bottom',\n",
    "                    transform=ax.transAxes\n",
    "                   )\n",
    "        \n",
    "        \n",
    "    \n",
    "    from matplotlib.offsetbox import AnchoredOffsetbox, TextArea\n",
    "    plt.style.use(mplhep.style.CMS)\n",
    "    plt.rcParams.update({\n",
    "        'font.size': 16,\n",
    "        'axes.titlesize': 18,\n",
    "        'axes.labelsize': 18,\n",
    "        'xtick.labelsize': 14,\n",
    "        'ytick.labelsize': 14\n",
    "    })\n",
    "    fill_opts = {\n",
    "    'alpha': 0.8,\n",
    "    'edgecolor':(0,0,0,.5)\n",
    "    }\n",
    "    \n",
    "    data_err_opts = {\n",
    "    'linestyle': 'none',\n",
    "    'marker': '.',\n",
    "    'markersize': 10.,\n",
    "    'color': 'k',\n",
    "    'elinewidth': 1,}\n",
    "        \n",
    "    handles, labels = ax.get_legend_handles_labels()\n",
    "    ax.legend(handles, legend, prop={'size': 16})\n",
    "\n",
    "    if log:\n",
    "        ax.set_yscale('log')\n",
    "        ax.set_ylim(1, None)\n",
    "    else:\n",
    "        ax.ticklabel_format(axis='y', style='sci', scilimits=(0,3), useMathText=True)  \n",
    "        \n",
    "    return ax"
   ]
  },
  {
   "cell_type": "markdown",
   "id": "2a268613-cf3d-4b1e-87a6-fd6fcd8db346",
   "metadata": {},
   "source": [
    "#  D0 from D* $ cos(\\phi) $"
   ]
  },
  {
   "cell_type": "markdown",
   "id": "12c253d1-fff3-4b3d-8da8-961d8b99503b",
   "metadata": {},
   "source": [
    " ## $ cos(\\phi) $ > 0.990 "
   ]
  },
  {
   "cell_type": "code",
   "execution_count": 10,
   "id": "77ca67c1-5b3d-4712-a9c6-cd84b57a1d87",
   "metadata": {},
   "outputs": [],
   "source": [
    "file_cosphi_0p990 = '../output/Charmonium_2017_D0Dstar_cosphi0p990/Charmonium_2017_D0Dstar_cosphi0p990_hists.coffea'\n",
    "\n",
    "hists_0p990 = load(file_cosphi_0p990)"
   ]
  },
  {
   "cell_type": "code",
   "execution_count": null,
   "id": "10a0fed0-5ccf-4adb-835f-1e76a2c200af",
   "metadata": {},
   "outputs": [],
   "source": [
    "create_plot1d(hists_0p990['JpsiDstar']['Dstar_deltamr'].integrate('chg', 'right charge'))"
   ]
  },
  {
   "cell_type": "code",
   "execution_count": null,
   "id": "e69a655a-09e5-4587-af91-38c4288cfae8",
   "metadata": {},
   "outputs": [],
   "source": [
    "create_plot1d(hists_0p990['JpsiDstar']['Jpsi_mass'])"
   ]
  },
  {
   "cell_type": "code",
   "execution_count": null,
   "id": "fcdb956f-4230-4e6a-8d2e-a20a75942d1d",
   "metadata": {},
   "outputs": [],
   "source": [
    "create_plot1d(hists_0p990['JpsiDstar']['Jpsi_p'].sum('phi','eta'), True)        "
   ]
  },
  {
   "cell_type": "code",
   "execution_count": null,
   "id": "c3842b3d-ac23-47cf-9d7f-e89dc74f18de",
   "metadata": {},
   "outputs": [],
   "source": [
    "create_plot1d(hists_0p990['JpsiDstar']['JpsiDstar_mass'])"
   ]
  },
  {
   "cell_type": "code",
   "execution_count": null,
   "id": "ca17a994-63fa-411a-8742-7a9c4018c08c",
   "metadata": {},
   "outputs": [],
   "source": [
    "create_plot1d(hists_0p990['JpsiDstar']['JpsiDstar_deltarap'])"
   ]
  },
  {
   "cell_type": "markdown",
   "id": "01181112-8e6c-479f-8443-f0f38e431af1",
   "metadata": {},
   "source": [
    " ## $ cos(\\phi) $ > 0.985 "
   ]
  },
  {
   "cell_type": "code",
   "execution_count": 19,
   "id": "dceef150-5914-4a1b-9682-a14c292446ad",
   "metadata": {},
   "outputs": [],
   "source": [
    "file_cosphi_0p985 = '../output/Charmonium_2017_D0Dstar_cosphi0p985/Charmonium_2017_D0Dstar_cosphi0p985_hists.coffea'\n",
    "\n",
    "hists_0p985 = load(file_cosphi_0p985)"
   ]
  },
  {
   "cell_type": "code",
   "execution_count": null,
   "id": "5a59a61d-0b79-478f-9401-1a4109665928",
   "metadata": {},
   "outputs": [],
   "source": [
    "create_plot1d(hists_0p985['JpsiDstar']['Dstar_deltamr'].integrate('chg', 'right charge'))"
   ]
  },
  {
   "cell_type": "code",
   "execution_count": null,
   "id": "d1983547-cf33-4e9e-bf44-51cdfcb07380",
   "metadata": {},
   "outputs": [],
   "source": [
    "create_plot1d(hists_0p985['JpsiDstar']['Jpsi_mass'])"
   ]
  },
  {
   "cell_type": "code",
   "execution_count": null,
   "id": "32e638be-92f3-4e94-b08e-c6d1018b064a",
   "metadata": {},
   "outputs": [],
   "source": [
    "create_plot1d(hists_0p985['JpsiDstar']['Jpsi_p'].sum('phi','eta'), True)        "
   ]
  },
  {
   "cell_type": "code",
   "execution_count": null,
   "id": "96be230d-c3dc-429c-ae77-3246badc0782",
   "metadata": {},
   "outputs": [],
   "source": [
    "create_plot1d(hists_0p985['JpsiDstar']['JpsiDstar_mass'])"
   ]
  },
  {
   "cell_type": "code",
   "execution_count": null,
   "id": "cab000a3-eeb6-42e4-937a-d39f219a66a1",
   "metadata": {},
   "outputs": [],
   "source": [
    "create_plot1d(hists_0p985['JpsiDstar']['JpsiDstar_deltarap'])"
   ]
  },
  {
   "cell_type": "markdown",
   "id": "bda0ae92-d6b0-4aaf-b48f-d0abdfa07821",
   "metadata": {},
   "source": [
    " ## $ cos(\\phi) $ > 0.980 "
   ]
  },
  {
   "cell_type": "code",
   "execution_count": 20,
   "id": "3e8b7cec-e7e8-42ed-93e0-30345808b0e4",
   "metadata": {},
   "outputs": [],
   "source": [
    "file_cosphi_0p980 = '../output/Charmonium_2017_D0Dstar_cosphi0p980/Charmonium_2017_D0Dstar_cosphi0p980_hists.coffea'\n",
    "\n",
    "hists_0p980 = load(file_cosphi_0p980)"
   ]
  },
  {
   "cell_type": "code",
   "execution_count": null,
   "id": "77fe87e2-c5ba-4c23-81a3-d932cf569d90",
   "metadata": {},
   "outputs": [],
   "source": [
    "create_plot1d(hists_0p980['JpsiDstar']['Dstar_deltamr'].integrate('chg', 'right charge'))"
   ]
  },
  {
   "cell_type": "code",
   "execution_count": null,
   "id": "f3a7ceec-0e24-476c-8604-db56d6cc0084",
   "metadata": {},
   "outputs": [],
   "source": [
    "create_plot1d(hists_0p980['JpsiDstar']['Jpsi_mass'])"
   ]
  },
  {
   "cell_type": "code",
   "execution_count": null,
   "id": "5e363419-1d01-476a-9fe2-bd5db6726713",
   "metadata": {},
   "outputs": [],
   "source": [
    "create_plot1d(hists_0p980['JpsiDstar']['JpsiDstar_mass'])"
   ]
  },
  {
   "cell_type": "code",
   "execution_count": null,
   "id": "4d9aaa9e-2301-48da-9a17-7255a5edc325",
   "metadata": {},
   "outputs": [],
   "source": [
    "create_plot1d(hists_0p980['JpsiDstar']['Jpsi_p'].sum('phi','eta'), True)        "
   ]
  },
  {
   "cell_type": "code",
   "execution_count": null,
   "id": "55082529-1600-4bab-b5fc-c7b2b8d52267",
   "metadata": {},
   "outputs": [],
   "source": [
    "create_plot1d(hists_0p980['JpsiDstar']['JpsiDstar_deltarap'])"
   ]
  },
  {
   "cell_type": "markdown",
   "id": "940ae86f-8d27-4a88-a4fb-16fb99ad969b",
   "metadata": {},
   "source": [
    " ## $ cos(\\phi) $ > 0.975 "
   ]
  },
  {
   "cell_type": "code",
   "execution_count": 11,
   "id": "f4412bc2-3e7a-4043-a4ad-65fc0574d78e",
   "metadata": {},
   "outputs": [],
   "source": [
    "file_cosphi_0p975 = '../output/Charmonium_2017_D0Dstar_cosphi0p975/Charmonium_2017_D0Dstar_cosphi0p975_hists.coffea'\n",
    "\n",
    "hists_0p975 = load(file_cosphi_0p975)"
   ]
  },
  {
   "cell_type": "code",
   "execution_count": null,
   "id": "267644b5-4098-4f07-881e-ced438150cb4",
   "metadata": {},
   "outputs": [],
   "source": [
    "create_plot1d(hists_0p975['JpsiDstar']['Dstar_deltamr'].integrate('chg', 'right charge'))"
   ]
  },
  {
   "cell_type": "code",
   "execution_count": null,
   "id": "ed68a253-2743-487d-8497-c10889438d4a",
   "metadata": {},
   "outputs": [],
   "source": [
    "create_plot1d(hists_0p975['JpsiDstar']['Jpsi_mass'])"
   ]
  },
  {
   "cell_type": "code",
   "execution_count": null,
   "id": "d93daad4-0e27-49ca-9acb-a7fe1a490fa7",
   "metadata": {},
   "outputs": [],
   "source": [
    "create_plot1d(hists_0p975['JpsiDstar']['JpsiDstar_mass'])"
   ]
  },
  {
   "cell_type": "code",
   "execution_count": null,
   "id": "b08f376f-4450-4f7e-9eef-8405ced3ac68",
   "metadata": {},
   "outputs": [],
   "source": [
    "create_plot1d(hists_0p975['JpsiDstar']['Jpsi_p'].sum('phi','eta'), True)        "
   ]
  },
  {
   "cell_type": "code",
   "execution_count": null,
   "id": "14816185-67ca-460e-8c9e-3b196831f485",
   "metadata": {},
   "outputs": [],
   "source": [
    "create_plot1d(hists_0p975['JpsiDstar']['JpsiDstar_deltarap'])"
   ]
  },
  {
   "cell_type": "markdown",
   "id": "da6d43cd-b42a-4c27-b1b5-81053e933125",
   "metadata": {},
   "source": [
    " ### Legend"
   ]
  },
  {
   "cell_type": "code",
   "execution_count": 21,
   "id": "a21f3274-b009-4282-8317-46abe13f4a4e",
   "metadata": {},
   "outputs": [],
   "source": [
    "legend = [r\"$cos(\\alpha) > 0.990$\", r\"$cos(\\alpha) > 0.985$\", r\"$cos(\\alpha) > 0.980$\", r\"$cos(\\alpha) > 0.975$\"]\n",
    "#legend = [r\"$cos(\\alpha) > 0.990$\", r\"$cos(\\alpha) > 0.975$\"]"
   ]
  },
  {
   "cell_type": "markdown",
   "id": "d480f0de-c247-4b5d-bcb5-072a5a9909a2",
   "metadata": {},
   "source": [
    "### Plots"
   ]
  },
  {
   "cell_type": "code",
   "execution_count": 22,
   "id": "2d3bedaf-2e4e-4128-8181-2f80d0cfb47b",
   "metadata": {},
   "outputs": [
    {
     "name": "stderr",
     "output_type": "stream",
     "text": [
      "/afs/cern.ch/user/m/mabarros/miniconda3/envs/OniaOpenCharmRun2ULenv/lib/python3.9/site-packages/numpy/core/_methods.py:44: RuntimeWarning: invalid value encountered in reduce\n",
      "  return umr_minimum(a, axis, None, out, keepdims, initial, where)\n",
      "/afs/cern.ch/user/m/mabarros/miniconda3/envs/OniaOpenCharmRun2ULenv/lib/python3.9/site-packages/numpy/core/_methods.py:40: RuntimeWarning: invalid value encountered in reduce\n",
      "  return umr_maximum(a, axis, None, out, keepdims, initial, where)\n",
      "/afs/cern.ch/user/m/mabarros/miniconda3/envs/OniaOpenCharmRun2ULenv/lib/python3.9/site-packages/numpy/core/_methods.py:44: RuntimeWarning: invalid value encountered in reduce\n",
      "  return umr_minimum(a, axis, None, out, keepdims, initial, where)\n",
      "/afs/cern.ch/user/m/mabarros/miniconda3/envs/OniaOpenCharmRun2ULenv/lib/python3.9/site-packages/numpy/core/_methods.py:40: RuntimeWarning: invalid value encountered in reduce\n",
      "  return umr_maximum(a, axis, None, out, keepdims, initial, where)\n",
      "/afs/cern.ch/user/m/mabarros/miniconda3/envs/OniaOpenCharmRun2ULenv/lib/python3.9/site-packages/numpy/core/_methods.py:44: RuntimeWarning: invalid value encountered in reduce\n",
      "  return umr_minimum(a, axis, None, out, keepdims, initial, where)\n",
      "/afs/cern.ch/user/m/mabarros/miniconda3/envs/OniaOpenCharmRun2ULenv/lib/python3.9/site-packages/numpy/core/_methods.py:40: RuntimeWarning: invalid value encountered in reduce\n",
      "  return umr_maximum(a, axis, None, out, keepdims, initial, where)\n",
      "/afs/cern.ch/user/m/mabarros/miniconda3/envs/OniaOpenCharmRun2ULenv/lib/python3.9/site-packages/numpy/core/_methods.py:44: RuntimeWarning: invalid value encountered in reduce\n",
      "  return umr_minimum(a, axis, None, out, keepdims, initial, where)\n",
      "/afs/cern.ch/user/m/mabarros/miniconda3/envs/OniaOpenCharmRun2ULenv/lib/python3.9/site-packages/numpy/core/_methods.py:40: RuntimeWarning: invalid value encountered in reduce\n",
      "  return umr_maximum(a, axis, None, out, keepdims, initial, where)\n"
     ]
    },
    {
     "data": {
      "text/plain": [
       "(0.0, 250.0)"
      ]
     },
     "execution_count": 22,
     "metadata": {},
     "output_type": "execute_result"
    },
    {
     "data": {
      "image/png": "[encoded data removed]",
      "text/plain": [
       "<Figure size 720x720 with 1 Axes>"
      ]
     },
     "metadata": {
      "needs_background": "light"
     },
     "output_type": "display_data"
    }
   ],
   "source": [
    "data_list = (hists_0p990['JpsiDstar']['Dstar_deltamr'].integrate('chg', 'right charge'), hists_0p985['JpsiDstar']['Dstar_deltamr'].integrate('chg', 'right charge'),\n",
    "             hists_0p980['JpsiDstar']['Dstar_deltamr'].integrate('chg', 'right charge'), hists_0p975['JpsiDstar']['Dstar_deltamr'].integrate('chg', 'right charge'))\n",
    "#data_list = (hists_0p990['JpsiDstar']['Dstar_deltamr'].integrate('chg', 'right charge'), hists_0p975['JpsiDstar']['Dstar_deltamr'].integrate('chg', 'right charge'),)\n",
    "\n",
    "ax = plot_comparison(data_list, legend=legend, typ='data')\n",
    "ax.set_ylim(0, 250)"
   ]
  },
  {
   "cell_type": "markdown",
   "id": "1709ff12-6af4-482f-9fc3-8270c039f7a9",
   "metadata": {},
   "source": [
    "#  D0 from D* $ p_T $"
   ]
  },
  {
   "cell_type": "markdown",
   "id": "890f85ef-fa14-4e16-b3b2-926b758dbae4",
   "metadata": {},
   "source": [
    " ## $ p_T $ > 4.0 GeV"
   ]
  },
  {
   "cell_type": "code",
   "execution_count": 23,
   "id": "2dd0865e-e193-40ee-935b-6496790940d6",
   "metadata": {},
   "outputs": [],
   "source": [
    "file_D0pt_4 = '../output/Charmonium_2017_D0Dstar_pt4/Charmonium_2017_D0Dstar_pt4_hists.coffea'\n",
    "\n",
    "hists_4 = load(file_D0pt_4)"
   ]
  },
  {
   "cell_type": "code",
   "execution_count": null,
   "id": "095ecdb5-3a01-4f0b-8025-5da783f57243",
   "metadata": {},
   "outputs": [],
   "source": [
    "create_plot1d(hists_4['JpsiDstar']['Jpsi_p'].sum('phi','eta'), True) "
   ]
  },
  {
   "cell_type": "markdown",
   "id": "214b18b7-d50a-4d1c-9b99-22906abac0c4",
   "metadata": {},
   "source": [
    " ## $ p_T $ > 3.0 GeV"
   ]
  },
  {
   "cell_type": "code",
   "execution_count": 24,
   "id": "feabf40f-39b7-4246-8f12-e8efc212bd56",
   "metadata": {},
   "outputs": [],
   "source": [
    "file_D0pt_3 = '../output/Charmonium_2017_D0Dstar_pt3/Charmonium_2017_D0Dstar_pt3_hists.coffea'\n",
    "\n",
    "hists_3 = load(file_D0pt_3)"
   ]
  },
  {
   "cell_type": "code",
   "execution_count": null,
   "id": "b5d1337a-dbb1-4d83-bdd6-f9c175ccf7b8",
   "metadata": {},
   "outputs": [],
   "source": [
    "create_plot1d(hists_3['JpsiDstar']['Jpsi_p'].sum('phi','eta'), True) "
   ]
  },
  {
   "cell_type": "markdown",
   "id": "ce566a10-dad5-4fcc-a6a2-ae6e1fcf6bed",
   "metadata": {},
   "source": [
    " ## $ p_T $ > 2.0 GeV"
   ]
  },
  {
   "cell_type": "code",
   "execution_count": 25,
   "id": "31e97280-a48b-4f0a-a24b-6ad6b2bc4c84",
   "metadata": {},
   "outputs": [],
   "source": [
    "file_D0pt_2 = '../output/Charmonium_2017_D0Dstar_pt2/Charmonium_2017_D0Dstar_pt2_hists.coffea'\n",
    "\n",
    "hists_2 = load(file_D0pt_2)"
   ]
  },
  {
   "cell_type": "code",
   "execution_count": null,
   "id": "9ed281d3-409f-492a-bb64-ca170ddd0ea2",
   "metadata": {},
   "outputs": [],
   "source": [
    "create_plot1d(hists_2['JpsiDstar']['Jpsi_p'].sum('phi','eta'), True) "
   ]
  },
  {
   "cell_type": "markdown",
   "id": "56e8f0f6-37fe-4e8b-a49d-4c62dbf4efa8",
   "metadata": {},
   "source": [
    " ## $ p_T $ > 1.0 GeV"
   ]
  },
  {
   "cell_type": "code",
   "execution_count": 26,
   "id": "8d7b0e90-a055-450d-b5f7-92415748c1ea",
   "metadata": {},
   "outputs": [],
   "source": [
    "file_D0pt_1 = '../output/Charmonium_2017_D0Dstar_pt1/Charmonium_2017_D0Dstar_pt1_hists.coffea'\n",
    "\n",
    "hists_1 = load(file_D0pt_1)"
   ]
  },
  {
   "cell_type": "code",
   "execution_count": null,
   "id": "7ad80c72-0ff9-457c-aa93-49f3e588d795",
   "metadata": {},
   "outputs": [],
   "source": [
    "create_plot1d(hists_1['JpsiDstar']['Jpsi_p'].sum('phi','eta'), True) "
   ]
  },
  {
   "cell_type": "markdown",
   "id": "d87dc77b-7327-4015-8232-1bf9126272d0",
   "metadata": {},
   "source": [
    " ### Legend"
   ]
  },
  {
   "cell_type": "code",
   "execution_count": 35,
   "id": "de35f057-2364-4b8d-ab02-c3af5ac494a2",
   "metadata": {},
   "outputs": [],
   "source": [
    "#legend = [r\"$ p_T > 4.0 GeV $\", r\"$ p_T > 3.0 GeV $\", r\"$ p_T > 2.0 GeV $\", r\"$ p_T > 1.0 GeV $\"]\n",
    "legend = [r\"$ p_T > 3.0 GeV $\", r\"$ p_T > 1.0 GeV $\"]"
   ]
  },
  {
   "cell_type": "markdown",
   "id": "037c2929-a7a3-4df3-be21-332838044eb9",
   "metadata": {},
   "source": [
    " ### Plots"
   ]
  },
  {
   "cell_type": "code",
   "execution_count": 36,
   "id": "cae080e8-8f56-468c-84f3-175c24f0f679",
   "metadata": {},
   "outputs": [
    {
     "name": "stderr",
     "output_type": "stream",
     "text": [
      "/afs/cern.ch/user/m/mabarros/miniconda3/envs/OniaOpenCharmRun2ULenv/lib/python3.9/site-packages/numpy/core/_methods.py:44: RuntimeWarning: invalid value encountered in reduce\n",
      "  return umr_minimum(a, axis, None, out, keepdims, initial, where)\n",
      "/afs/cern.ch/user/m/mabarros/miniconda3/envs/OniaOpenCharmRun2ULenv/lib/python3.9/site-packages/numpy/core/_methods.py:40: RuntimeWarning: invalid value encountered in reduce\n",
      "  return umr_maximum(a, axis, None, out, keepdims, initial, where)\n",
      "/afs/cern.ch/user/m/mabarros/miniconda3/envs/OniaOpenCharmRun2ULenv/lib/python3.9/site-packages/numpy/core/_methods.py:44: RuntimeWarning: invalid value encountered in reduce\n",
      "  return umr_minimum(a, axis, None, out, keepdims, initial, where)\n",
      "/afs/cern.ch/user/m/mabarros/miniconda3/envs/OniaOpenCharmRun2ULenv/lib/python3.9/site-packages/numpy/core/_methods.py:40: RuntimeWarning: invalid value encountered in reduce\n",
      "  return umr_maximum(a, axis, None, out, keepdims, initial, where)\n"
     ]
    },
    {
     "data": {
      "text/plain": [
       "(0.0, 220.0)"
      ]
     },
     "execution_count": 36,
     "metadata": {},
     "output_type": "execute_result"
    },
    {
     "data": {
      "image/png": "[encoded data removed]",
      "text/plain": [
       "<Figure size 720x720 with 1 Axes>"
      ]
     },
     "metadata": {
      "needs_background": "light"
     },
     "output_type": "display_data"
    }
   ],
   "source": [
    "#data_list = (hists_4['JpsiDstar']['Dstar_deltamr'].integrate('chg', 'right charge'), hists_3['JpsiDstar']['Dstar_deltamr'].integrate('chg', 'right charge'),\n",
    "#            hists_2['JpsiDstar']['Dstar_deltamr'].integrate('chg', 'right charge'), hists_1['JpsiDstar']['Dstar_deltamr'].integrate('chg', 'right charge'))\n",
    "\n",
    "data_list = (hists_3['JpsiDstar']['Dstar_deltamr'].integrate('chg', 'right charge'), hists_1['JpsiDstar']['Dstar_deltamr'].integrate('chg', 'right charge'),)\n",
    "\n",
    "ax = plot_comparison(data_list, typ='data', legend=legend)\n",
    "ax.set_ylim(0, 220)"
   ]
  },
  {
   "cell_type": "markdown",
   "id": "d7f54410-904c-466d-87cb-0c0d12b7aae2",
   "metadata": {},
   "source": [
    "#  D0 (from D*) decay length significance"
   ]
  },
  {
   "cell_type": "markdown",
   "id": "5066461a-4d62-40e5-bb5e-ef6eae8a8da9",
   "metadata": {},
   "source": [
    "## dl > 3.0"
   ]
  },
  {
   "cell_type": "code",
   "execution_count": 37,
   "id": "8572865e-6b68-4a85-8a9a-bd7c484c7f9e",
   "metadata": {},
   "outputs": [],
   "source": [
    "file_D0dl_3p0 = '../output/Charmonium_2017_D0Dstar_dlSig3p0/Charmonium_2017_D0Dstar_dlSig3p0_hists.coffea'\n",
    "\n",
    "hists_dl_3p0 = load(file_D0dl_3p0)"
   ]
  },
  {
   "cell_type": "code",
   "execution_count": null,
   "id": "a1ad29e8-f428-411b-aeaf-cf4bc3a064cc",
   "metadata": {},
   "outputs": [],
   "source": [
    "create_plot1d(hists_dl_3p0['JpsiDstar']['Jpsi_p'].sum('phi','eta'), True) "
   ]
  },
  {
   "cell_type": "markdown",
   "id": "4ec45dda-ce99-4afa-9137-ec2b6dbc12d1",
   "metadata": {},
   "source": [
    "## dl > 2.9"
   ]
  },
  {
   "cell_type": "code",
   "execution_count": 38,
   "id": "fbe4ae18-80ef-4f45-8e10-d0f4fa51f1c8",
   "metadata": {},
   "outputs": [],
   "source": [
    "file_D0dl_2p9 = '../output/Charmonium_2017_D0Dstar_dlSig2p9/Charmonium_2017_D0Dstar_dlSig2p9_hists.coffea'\n",
    "\n",
    "hists_dl_2p9 = load(file_D0dl_2p9)"
   ]
  },
  {
   "cell_type": "code",
   "execution_count": null,
   "id": "8900b018-c05c-486a-bf8f-72c1d7e9667a",
   "metadata": {},
   "outputs": [],
   "source": [
    "create_plot1d(hists_dl_2p9['JpsiDstar']['Jpsi_p'].sum('phi','eta'), True) "
   ]
  },
  {
   "cell_type": "markdown",
   "id": "25b23313-e8ef-4deb-a009-151255cd6e1e",
   "metadata": {},
   "source": [
    "## dl > 2.8"
   ]
  },
  {
   "cell_type": "code",
   "execution_count": 39,
   "id": "db3ff699-bb14-4da4-8054-78d3ad551502",
   "metadata": {},
   "outputs": [],
   "source": [
    "file_D0dl_2p8 = '../output/Charmonium_2017_D0Dstar_dlSig2p8/Charmonium_2017_D0Dstar_dlSig2p8_hists.coffea'\n",
    "\n",
    "hists_dl_2p8 = load(file_D0dl_2p8)"
   ]
  },
  {
   "cell_type": "code",
   "execution_count": null,
   "id": "e2025a01-fbdb-4f34-9ccd-1f261f29b141",
   "metadata": {},
   "outputs": [],
   "source": [
    "create_plot1d(hists_dl_2p8['JpsiDstar']['Jpsi_p'].sum('phi','eta'), True) "
   ]
  },
  {
   "cell_type": "markdown",
   "id": "9467e054-5af8-4752-9053-0aa369181bbc",
   "metadata": {},
   "source": [
    "## dl > 2.7"
   ]
  },
  {
   "cell_type": "code",
   "execution_count": 40,
   "id": "efb75aa1-4d08-4a5c-9730-3dae61c0f4cd",
   "metadata": {},
   "outputs": [],
   "source": [
    "file_D0dl_2p7 = '../output/Charmonium_2017_D0Dstar_dlSig2p7/Charmonium_2017_D0Dstar_dlSig2p7_hists.coffea'\n",
    "\n",
    "hists_dl_2p7 = load(file_D0dl_2p7)"
   ]
  },
  {
   "cell_type": "code",
   "execution_count": null,
   "id": "7ddf2b60-5221-4d97-8ad5-97b8dbf53bd0",
   "metadata": {},
   "outputs": [],
   "source": [
    "create_plot1d(hists_dl_2p7['JpsiDstar']['Jpsi_p'].sum('phi','eta'), True) "
   ]
  },
  {
   "cell_type": "markdown",
   "id": "b9a4ac30-4d45-4210-ac64-ad03c87b716c",
   "metadata": {},
   "source": [
    "## dl > 2.6"
   ]
  },
  {
   "cell_type": "code",
   "execution_count": 41,
   "id": "be22c25d-f687-4f65-b6fa-c90c0fdb4e3f",
   "metadata": {},
   "outputs": [],
   "source": [
    "file_D0dl_2p6 = '../output/Charmonium_2017_D0Dstar_dlSig2p6/Charmonium_2017_D0Dstar_dlSig2p6_hists.coffea'\n",
    "\n",
    "hists_dl_2p6 = load(file_D0dl_2p6)"
   ]
  },
  {
   "cell_type": "code",
   "execution_count": null,
   "id": "0e38d73e-de5b-4b95-9cef-63b168cfbd18",
   "metadata": {},
   "outputs": [],
   "source": [
    "create_plot1d(hists_dl_2p6['JpsiDstar']['Jpsi_p'].sum('phi','eta'), True) "
   ]
  },
  {
   "cell_type": "markdown",
   "id": "da150b4b-80a6-4d79-813b-ee00534d477f",
   "metadata": {},
   "source": [
    "## dl > 2.5"
   ]
  },
  {
   "cell_type": "code",
   "execution_count": 42,
   "id": "9e813bb6-d4b2-4c31-8ca6-7fa9e0b1b91f",
   "metadata": {},
   "outputs": [],
   "source": [
    "file_D0dl_2p5 = '../output/Charmonium_2017_D0Dstar_dlSig2p5/Charmonium_2017_D0Dstar_dlSig2p5_hists.coffea'\n",
    "\n",
    "hists_dl_2p5 = load(file_D0dl_2p5)"
   ]
  },
  {
   "cell_type": "code",
   "execution_count": null,
   "id": "aec89b5c-e4ad-4a62-a293-78b01f7cb802",
   "metadata": {},
   "outputs": [],
   "source": [
    "create_plot1d(hists_dl_2p5['JpsiDstar']['Jpsi_p'].sum('phi','eta'), True) "
   ]
  },
  {
   "cell_type": "markdown",
   "id": "1835ef3c-a3bf-4d2c-9515-d7811168f6e8",
   "metadata": {},
   "source": [
    "## dl > 2.0"
   ]
  },
  {
   "cell_type": "code",
   "execution_count": 43,
   "id": "58196b95-54d2-477f-8eeb-0f04625a95f2",
   "metadata": {},
   "outputs": [],
   "source": [
    "file_D0dl_2p0 = '../output/Charmonium_2017_D0Dstar_dlSig2p0/Charmonium_2017_D0Dstar_dlSig2p0_hists.coffea'\n",
    "\n",
    "hists_dl_2p0 = load(file_D0dl_2p0)"
   ]
  },
  {
   "cell_type": "code",
   "execution_count": null,
   "id": "83790370-3d40-461e-8add-b8680f72d44f",
   "metadata": {},
   "outputs": [],
   "source": [
    "create_plot1d(hists_dl_2p0['JpsiDstar']['Jpsi_p'].sum('phi','eta'), True) "
   ]
  },
  {
   "cell_type": "markdown",
   "id": "9ca2a6a7-999e-4940-b452-10b46b725dbe",
   "metadata": {},
   "source": [
    "## Legend"
   ]
  },
  {
   "cell_type": "code",
   "execution_count": 51,
   "id": "2a9be4e6-6603-4be3-9133-f3dc2c7cf34e",
   "metadata": {},
   "outputs": [],
   "source": [
    "#legend = [r\"$ dl_{sig} > 3.0  $\", r\"$ dl_{sig} > 2.9  $\", r\"$ dl_{sig} > 2.8  $\", r\"$ dl_{sig} > 2.7  $\",\n",
    "#          r\"$ dl_{sig} > 2.6  $\", r\"$ dl_{sig} > 2.5  $\", r\"$ dl_{sig} > 2.0  $\"]\n",
    "legend = [r\"$ dl_{sig} > 3.0  $\", r\"$ dl_{sig} > 2.5  $\", r\"$ dl_{sig} > 2.0  $\",]"
   ]
  },
  {
   "cell_type": "markdown",
   "id": "f3b95ec2-fb88-430c-a4da-ec3b5b4a0a05",
   "metadata": {},
   "source": [
    "### Plots"
   ]
  },
  {
   "cell_type": "code",
   "execution_count": null,
   "id": "7c24970a-ec16-48f6-8412-8b70a80c890a",
   "metadata": {},
   "outputs": [
    {
     "name": "stderr",
     "output_type": "stream",
     "text": [
      "/afs/cern.ch/user/m/mabarros/miniconda3/envs/OniaOpenCharmRun2ULenv/lib/python3.9/site-packages/numpy/core/_methods.py:44: RuntimeWarning: invalid value encountered in reduce\n",
      "  return umr_minimum(a, axis, None, out, keepdims, initial, where)\n",
      "/afs/cern.ch/user/m/mabarros/miniconda3/envs/OniaOpenCharmRun2ULenv/lib/python3.9/site-packages/numpy/core/_methods.py:40: RuntimeWarning: invalid value encountered in reduce\n",
      "  return umr_maximum(a, axis, None, out, keepdims, initial, where)\n",
      "/afs/cern.ch/user/m/mabarros/miniconda3/envs/OniaOpenCharmRun2ULenv/lib/python3.9/site-packages/numpy/core/_methods.py:44: RuntimeWarning: invalid value encountered in reduce\n",
      "  return umr_minimum(a, axis, None, out, keepdims, initial, where)\n",
      "/afs/cern.ch/user/m/mabarros/miniconda3/envs/OniaOpenCharmRun2ULenv/lib/python3.9/site-packages/numpy/core/_methods.py:40: RuntimeWarning: invalid value encountered in reduce\n",
      "  return umr_maximum(a, axis, None, out, keepdims, initial, where)\n",
      "/afs/cern.ch/user/m/mabarros/miniconda3/envs/OniaOpenCharmRun2ULenv/lib/python3.9/site-packages/numpy/core/_methods.py:44: RuntimeWarning: invalid value encountered in reduce\n",
      "  return umr_minimum(a, axis, None, out, keepdims, initial, where)\n",
      "/afs/cern.ch/user/m/mabarros/miniconda3/envs/OniaOpenCharmRun2ULenv/lib/python3.9/site-packages/numpy/core/_methods.py:40: RuntimeWarning: invalid value encountered in reduce\n",
      "  return umr_maximum(a, axis, None, out, keepdims, initial, where)\n"
     ]
    },
    {
     "data": {
      "text/plain": [
       "(0.0, 280.0)"
      ]
     },
     "execution_count": 52,
     "metadata": {},
     "output_type": "execute_result"
    }
   ],
   "source": [
    "#data_list = (hists_dl_3p0['JpsiDstar']['Dstar_deltamr'].integrate('chg', 'right charge'), hists_dl_2p9['JpsiDstar']['Dstar_deltamr'].integrate('chg', 'right charge'),\n",
    "#             hists_dl_2p8['JpsiDstar']['Dstar_deltamr'].integrate('chg', 'right charge'), hists_dl_2p7['JpsiDstar']['Dstar_deltamr'].integrate('chg', 'right charge'),\n",
    "#             hists_dl_2p6['JpsiDstar']['Dstar_deltamr'].integrate('chg', 'right charge'), hists_dl_2p5['JpsiDstar']['Dstar_deltamr'].integrate('chg', 'right charge'),\n",
    "#             hists_dl_2p0['JpsiDstar']['Dstar_deltamr'].integrate('chg', 'right charge'))\n",
    "\n",
    "data_list = (hists_dl_3p0['JpsiDstar']['Dstar_deltamr'].integrate('chg', 'right charge'), hists_dl_2p5['JpsiDstar']['Dstar_deltamr'].integrate('chg', 'right charge'),\n",
    "             hists_dl_2p0['JpsiDstar']['Dstar_deltamr'].integrate('chg', 'right charge'), )\n",
    "\n",
    "ax = plot_comparison(data_list, typ='data', legend=legend)\n",
    "ax.set_ylim(0, 280)"
   ]
  },
  {
   "cell_type": "markdown",
   "id": "951df2d5-07d5-4122-bde6-aa235fe08c53",
   "metadata": {},
   "source": [
    "#  Comparison old and new cuts"
   ]
  },
  {
   "cell_type": "markdown",
   "id": "17e937ec-6a88-47ee-bc6b-8356b720b6a6",
   "metadata": {},
   "source": [
    "## old\n",
    "\n",
    " * D0 from D* $ cos(\\phi) $ > 0.99\n",
    " * D0 from D* $ p_T $ > 3 GeV\n",
    " * D0 from D* decay length significance > 3"
   ]
  },
  {
   "cell_type": "markdown",
   "id": "2febf90c-9102-49c6-8f18-67c30cd54542",
   "metadata": {},
   "source": [
    "## new\n",
    "\n",
    " * D0 from D* $ cos(\\phi) $ > 0.975\n",
    " * D0 from D* $ p_T $ > 3 GeV\n",
    " * D0 from D* decay length significance > 2"
   ]
  },
  {
   "cell_type": "markdown",
   "id": "a03c72ab-3330-4a25-a9ff-568a1c8bbfa0",
   "metadata": {},
   "source": [
    "## Legend"
   ]
  },
  {
   "cell_type": "code",
   "execution_count": null,
   "id": "d10c726d-213b-496d-a391-dbde2f56e092",
   "metadata": {},
   "outputs": [],
   "source": [
    "legend = ['old cuts', 'new cuts']"
   ]
  },
  {
   "cell_type": "markdown",
   "id": "a5791c0b-6db5-444b-a688-4e68109c4373",
   "metadata": {},
   "source": [
    "## Plots"
   ]
  }
 ],
 "metadata": {
  "kernelspec": {
   "display_name": "Python 3 (ipykernel)",
   "language": "python",
   "name": "python3"
  },
  "language_info": {
   "codemirror_mode": {
    "name": "ipython",
    "version": 3
   },
   "file_extension": ".py",
   "mimetype": "text/x-python",
   "name": "python",
   "nbconvert_exporter": "python",
   "pygments_lexer": "ipython3",
   "version": "3.9.7"
  }
 },
 "nbformat": 4,
 "nbformat_minor": 5
}
