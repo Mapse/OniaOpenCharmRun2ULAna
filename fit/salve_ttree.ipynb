{
 "cells": [
  {
   "cell_type": "code",
   "execution_count": 1,
   "id": "determined-punishment",
   "metadata": {},
   "outputs": [
    {
     "name": "stderr",
     "output_type": "stream",
     "text": [
      "/afs/cern.ch/user/m/mabarros/miniconda3/envs/OniaOpenCharmRun2ULenv/lib/python3.7/site-packages/uproot3/__init__.py:138: FutureWarning: Consider switching from 'uproot3' to 'uproot', since the new interface became the default in 2020.\n",
      "\n",
      "    pip install -U uproot\n",
      "\n",
      "In Python:\n",
      "\n",
      "    >>> import uproot\n",
      "    >>> with uproot.open(...) as file:\n",
      "    ...\n",
      "\n",
      "  FutureWarning\n",
      "/afs/cern.ch/user/m/mabarros/miniconda3/envs/OniaOpenCharmRun2ULenv/lib/python3.7/site-packages/awkward0/__init__.py:23: FutureWarning: Consider switching from 'awkward0' to 'awkward', since the new interface became the default in 2020.\n",
      "\n",
      "    pip install -U awkward\n",
      "\n",
      "In Python:\n",
      "\n",
      "    >>> import awkward as ak\n",
      "    >>> new_style_array = ak.from_awkward0(old_style_array)\n",
      "    >>> old_style_array = ak.to_awkward0(new_style_array)\n",
      "\n",
      "  FutureWarning\n"
     ]
    }
   ],
   "source": [
    "from coffea.util import load\n",
    "import numpy as np\n",
    "\n",
    "import uproot3"
   ]
  },
  {
   "cell_type": "code",
   "execution_count": 2,
   "id": "welsh-missouri",
   "metadata": {},
   "outputs": [],
   "source": [
    "file = '../output/Charmonium2018B_test/Charmonium2018B_test.coffea'\n",
    "\n",
    "acc = load(file)"
   ]
  },
  {
   "cell_type": "code",
   "execution_count": 3,
   "id": "prostate-farming",
   "metadata": {},
   "outputs": [],
   "source": [
    "# Jpsi\n",
    "all_data_jpi = acc['Dimu']['mass'].value[acc['Dimu']['is_jpsi'].value]\n",
    "\n",
    "jpsi_mass = all_data_jpi[1:1000000]\n",
    "\n",
    "with uproot3.recreate(\"../output/Charmonium2018B_test/jpsi_charmonium_2018B.root\") as f:\n",
    "    f['Jpsi'] = uproot3.newtree({\"mass\": \"float32\"})\n",
    "    f['Jpsi'].extend({\"mass\": jpsi_mass})"
   ]
  },
  {
   "cell_type": "code",
   "execution_count": 10,
   "id": "critical-washer",
   "metadata": {},
   "outputs": [],
   "source": [
    "# Dstar    \n",
    "all_data_dstar = acc['Dstar']['deltamr'].value[~acc['Dstar']['wrg_chg'].value]\n",
    "cut = all_data_dstar[(all_data_dstar >= 0.14) & (all_data_dstar <= 0.16)]\n",
    "\n",
    "dstar_mass = cut[:]\n",
    "\n",
    "with uproot3.recreate(\"../output/Charmonium2018B_test/dstar_charmonium_2018B.root\") as g:\n",
    "    g['Dstar'] = uproot3.newtree({\"mass\" : \"float32\"})\n",
    "    g['Dstar'].extend({\"mass\" : dstar_mass})\n",
    " "
   ]
  },
  {
   "cell_type": "code",
   "execution_count": 8,
   "id": "complex-grave",
   "metadata": {},
   "outputs": [
    {
     "data": {
      "text/plain": [
       "{'pt': column_accumulator(array([13.522438, 12.503589, 17.906898, ..., 11.441551, 11.102052,\n",
       "        14.263258], dtype=float32)),\n",
       " 'eta': column_accumulator(array([ 0.6498612 , -0.5947955 , -0.2919173 , ..., -1.0071936 ,\n",
       "        -1.0802724 ,  0.23536234], dtype=float32)),\n",
       " 'phi': column_accumulator(array([-0.33774698, -0.2711824 , -2.566564  , ...,  3.124515  ,\n",
       "        -0.14558794,  2.7694774 ], dtype=float32)),\n",
       " 'rap': column_accumulator(array([ 0.6354639 , -0.57938826, -0.28777987, ..., -0.98098403,\n",
       "        -1.0502336 ,  0.23009333], dtype=float32)),\n",
       " 'mass': column_accumulator(array([3.0872967, 3.065908 , 3.0901392, ..., 3.0593562, 3.1255994,\n",
       "        3.0979817], dtype=float32)),\n",
       " 'charge': column_accumulator(array([0, 0, 0, ..., 0, 0, 0], dtype=int32)),\n",
       " 'vtxIdx': column_accumulator(array([0, 0, 9, ..., 0, 6, 1], dtype=int32)),\n",
       " 'chi2': column_accumulator(array([1.5966048 , 0.01558155, 0.19348623, ..., 0.38078916, 0.03374957,\n",
       "        0.79066455], dtype=float32)),\n",
       " 'dl': column_accumulator(array([0.04139674, 0.0075917 , 0.45696113, ..., 0.38618138, 0.07723029,\n",
       "        0.08887937], dtype=float32)),\n",
       " 'dlErr': column_accumulator(array([0.00872224, 0.00762717, 0.01245987, ..., 0.01162448, 0.01139841,\n",
       "        0.01054516], dtype=float32)),\n",
       " 'dlSig': column_accumulator(array([ 4.7461123 ,  0.99534947, 36.674625  , ..., 33.221386  ,\n",
       "         6.775533  ,  8.428454  ], dtype=float32)),\n",
       " 'cosphi': column_accumulator(array([0.99962205, 0.957455  , 0.9503763 , ..., 0.99998   , 0.9982776 ,\n",
       "        0.9995792 ], dtype=float32)),\n",
       " 'vtx_x': column_accumulator(array([ 0.12889895,  0.10252124, -0.29284465, ..., -0.14993553,\n",
       "         0.1469544 ,  0.01639641], dtype=float32)),\n",
       " 'vtx_y': column_accumulator(array([-0.07621197, -0.0661291 , -0.34587052, ..., -0.060567  ,\n",
       "        -0.0687374 , -0.03386033], dtype=float32)),\n",
       " 'vtx_z': column_accumulator(array([ 2.024911 ,  2.415797 , -6.408264 , ...,  1.9586722, -2.6942327,\n",
       "         1.0055634], dtype=float32)),\n",
       " 'is_ups': column_accumulator(array([False, False, False, ..., False, False, False])),\n",
       " 'is_jpsi': column_accumulator(array([ True,  True,  True, ...,  True,  True,  True])),\n",
       " 'nDimu': column_accumulator(array([1, 1, 1, ..., 1, 1, 0]))}"
      ]
     },
     "execution_count": 8,
     "metadata": {},
     "output_type": "execute_result"
    }
   ],
   "source": [
    "acc['Dimu']"
   ]
  },
  {
   "cell_type": "code",
   "execution_count": null,
   "id": "detailed-thirty",
   "metadata": {},
   "outputs": [],
   "source": []
  }
 ],
 "metadata": {
  "kernelspec": {
   "display_name": "Python 3",
   "language": "python",
   "name": "python3"
  },
  "language_info": {
   "codemirror_mode": {
    "name": "ipython",
    "version": 3
   },
   "file_extension": ".py",
   "mimetype": "text/x-python",
   "name": "python",
   "nbconvert_exporter": "python",
   "pygments_lexer": "ipython3",
   "version": "3.7.0"
  }
 },
 "nbformat": 4,
 "nbformat_minor": 5
}
