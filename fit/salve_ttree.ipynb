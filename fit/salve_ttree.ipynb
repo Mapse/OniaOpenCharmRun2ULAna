{
 "cells": [
  {
   "cell_type": "code",
   "execution_count": 1,
   "id": "moving-curve",
   "metadata": {},
   "outputs": [
    {
     "name": "stderr",
     "output_type": "stream",
     "text": [
      "/afs/cern.ch/user/m/mabarros/miniconda3/envs/OniaOpenCharmRun2ULenv/lib/python3.7/site-packages/uproot3/__init__.py:138: FutureWarning: Consider switching from 'uproot3' to 'uproot', since the new interface became the default in 2020.\n",
      "\n",
      "    pip install -U uproot\n",
      "\n",
      "In Python:\n",
      "\n",
      "    >>> import uproot\n",
      "    >>> with uproot.open(...) as file:\n",
      "    ...\n",
      "\n",
      "  FutureWarning\n",
      "/afs/cern.ch/user/m/mabarros/miniconda3/envs/OniaOpenCharmRun2ULenv/lib/python3.7/site-packages/awkward0/__init__.py:23: FutureWarning: Consider switching from 'awkward0' to 'awkward', since the new interface became the default in 2020.\n",
      "\n",
      "    pip install -U awkward\n",
      "\n",
      "In Python:\n",
      "\n",
      "    >>> import awkward as ak\n",
      "    >>> new_style_array = ak.from_awkward0(old_style_array)\n",
      "    >>> old_style_array = ak.to_awkward0(new_style_array)\n",
      "\n",
      "  FutureWarning\n"
     ]
    }
   ],
   "source": [
    "from coffea.util import load\n",
    "import numpy as np\n",
    "\n",
    "import uproot3"
   ]
  },
  {
   "cell_type": "code",
   "execution_count": 2,
   "id": "worthy-cambodia",
   "metadata": {},
   "outputs": [],
   "source": [
    "file = '../output/Charmonium2018B_test/Charmonium2018B_test.coffea'\n",
    "\n",
    "acc = load(file)"
   ]
  },
  {
   "cell_type": "code",
   "execution_count": 3,
   "id": "intense-subscriber",
   "metadata": {},
   "outputs": [],
   "source": [
    "# Jpsi\n",
    "all_data_jpi = acc['Dimu']['mass'].value[acc['Dimu']['is_jpsi'].value]\n",
    "\n",
    "jpsi_mass = all_data_jpi[1:1000000]\n",
    "\n",
    "with uproot3.recreate(\"../output/Charmonium2018B_test/jpsi_charmonium_2018B.root\") as f:\n",
    "    f['Jpsi'] = uproot3.newtree({\"mass\": \"float32\"})\n",
    "    f['Jpsi'].extend({\"mass\": jpsi_mass})"
   ]
  },
  {
   "cell_type": "code",
   "execution_count": 3,
   "id": "acute-amplifier",
   "metadata": {},
   "outputs": [],
   "source": [
    "# Dstar    \n",
    "all_data_dstar = acc['Dstar']['deltamr'].value[~acc['Dstar']['wrg_chg'].value]\n",
    "cut = all_data_dstar[(all_data_dstar >= 0.14) & (all_data_dstar <= 0.16)]\n",
    "\n",
    "dstar_mass = cut[:]\n",
    "\n",
    "with uproot3.recreate(\"../output/Charmonium2018B_test/dstar_charmonium_2018B.root\") as g:\n",
    "    g['Dstar'] = uproot3.newtree({\"mass\" : \"float32\"})\n",
    "    g['Dstar'].extend({\"mass\" : dstar_mass})\n",
    " "
   ]
  },
  {
   "cell_type": "code",
   "execution_count": 9,
   "id": "actual-chester",
   "metadata": {},
   "outputs": [],
   "source": [
    "# Dzero    \n",
    "all_data_dzero = acc['D0']['mass21'].value\n",
    "cut = all_data_dzero[(all_data_dzero > 1.75) & (all_data_dzero < 1.96)]\n",
    "\n",
    "dzero_mass = cut[:]\n",
    "\n",
    "with uproot3.recreate(\"../output/Charmonium2018B_test/dzero_m21_charmonium_2018B.root\") as dz:\n",
    "    dz['Dzero'] = uproot3.newtree({\"mass\" : \"float32\"})\n",
    "    dz['Dzero'].extend({\"mass\": dzero_mass})"
   ]
  },
  {
   "cell_type": "code",
   "execution_count": 7,
   "id": "owned-remark",
   "metadata": {},
   "outputs": [
    {
     "name": "stdout",
     "output_type": "stream",
     "text": [
      "303982\n",
      "303982\n",
      "303982\n"
     ]
    }
   ],
   "source": [
    "print(len(acc['D0']['mass'].value))\n",
    "print(len(acc['D0']['mass12'].value))\n",
    "print(len(acc['D0']['mass21'].value))"
   ]
  },
  {
   "cell_type": "code",
   "execution_count": null,
   "id": "given-extent",
   "metadata": {},
   "outputs": [],
   "source": []
  }
 ],
 "metadata": {
  "kernelspec": {
   "display_name": "Python 3",
   "language": "python",
   "name": "python3"
  },
  "language_info": {
   "codemirror_mode": {
    "name": "ipython",
    "version": 3
   },
   "file_extension": ".py",
   "mimetype": "text/x-python",
   "name": "python",
   "nbconvert_exporter": "python",
   "pygments_lexer": "ipython3",
   "version": "3.7.0"
  }
 },
 "nbformat": 4,
 "nbformat_minor": 5
}
