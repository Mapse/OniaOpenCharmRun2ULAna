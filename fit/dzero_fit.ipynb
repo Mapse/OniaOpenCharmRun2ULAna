{
 "cells": [
  {
   "cell_type": "code",
   "execution_count": 1,
   "id": "subsequent-mortgage",
   "metadata": {},
   "outputs": [
    {
     "name": "stdout",
     "output_type": "stream",
     "text": [
      "Welcome to JupyROOT 6.16/00\n"
     ]
    }
   ],
   "source": [
    "import ROOT"
   ]
  },
  {
   "cell_type": "code",
   "execution_count": 2,
   "id": "removable-aviation",
   "metadata": {},
   "outputs": [
    {
     "name": "stdout",
     "output_type": "stream",
     "text": [
      "\n",
      "\u001b[1mRooFit v3.60 -- Developed by Wouter Verkerke and David Kirkby\u001b[0m \n",
      "                Copyright (C) 2000-2013 NIKHEF, University of California & Stanford University\n",
      "                All rights reserved, please read http://roofit.sourceforge.net/license.txt\n",
      "\n",
      "[#1] INFO:Eval -- RooAbsReal::attachToTree(mass) TTree Float_t branch mass will be converted to double precision\n"
     ]
    }
   ],
   "source": [
    "file = ROOT.TFile.Open(\"../output/Charmonium2018B_test/dzero_m21_charmonium_2018B.root\")\n",
    "\n",
    "mass = ROOT.RooRealVar(\"mass\", \"\", 1.75, 1.96)\n",
    "data = ROOT.RooDataSet(\"data\", \"\", file.Dzero, ROOT.RooArgSet(mass))"
   ]
  },
  {
   "cell_type": "code",
   "execution_count": 3,
   "id": "played-regular",
   "metadata": {},
   "outputs": [],
   "source": [
    "## Signal definition: Gaussian \n",
    "\n",
    "yield_signal = ROOT.RooRealVar(\"yield signal\", \"\", 1e4, 0, 1e5)\n",
    "mean = ROOT.RooRealVar(\"mean\", \"\", 1.864, 1.830, 1.890)\n",
    "sigma = ROOT.RooRealVar(\"sigma\", \"\",  0.011, 0.0, 0.999)\n",
    "\n",
    "# pdf\n",
    "gauss = ROOT.RooGaussian(\"gauss\", \"\", mass, mean, sigma)"
   ]
  },
  {
   "cell_type": "code",
   "execution_count": 4,
   "id": "rural-reviewer",
   "metadata": {},
   "outputs": [],
   "source": [
    "## Background definition: Third degree polynomial (p0 x³ + p1 x² + p2 x + 1)\n",
    "\n",
    "yield_back = ROOT.RooRealVar(\"yield background\", \"\", 1e5, 0, 1.5e5)\n",
    "p0 = ROOT.RooRealVar(\"p0\", \"\", 108.09, 100, 120)\n",
    "p1 = ROOT.RooRealVar(\"p1\", \"\", -47.48, -55, -45)\n",
    "#p2 = ROOT.RooRealVar(\"p2\", \"\",  -507.63, -550, -450)\n",
    "#p3 = ROOT.RooRealVar(\"p3\", \"\", 179.54, 150, 180)\n",
    "\n",
    "back = ROOT.RooPolynomial(\"Third degree polynomial\", \"\", mass, ROOT.RooArgList(p0, p1))\n",
    "\n",
    "#back = ROOT.RooGenericPdf(\"Third degree polynomial\", \"\", \"@1*@0**3 + @2*@0**2 + @3*@0 + @4\", ROOT.RooArgList(mass, p0, p1, p2, p3) )\n",
    "#back = ROOT.RooGenericPdf(\"Third degree polynomial\", \"\", \"@1 * @0**3 + @2 * @0**2, + @3 * @0 + 1\", ROOT.RooArgList(mass, p0, p1, p2))"
   ]
  },
  {
   "cell_type": "code",
   "execution_count": 5,
   "id": "mighty-banking",
   "metadata": {},
   "outputs": [],
   "source": [
    "# Model definition and fitting\n",
    "model = ROOT.RooAddPdf(\"model\", \"\", ROOT.RooArgList(gauss, back),\n",
    "                       ROOT.RooArgList(yield_signal, yield_back))\n",
    "\n"
   ]
  },
  {
   "cell_type": "code",
   "execution_count": 6,
   "id": "whole-bullet",
   "metadata": {},
   "outputs": [
    {
     "name": "stdout",
     "output_type": "stream",
     "text": [
      "[#1] INFO:Eval -- RooRealVar::setRange(mass) new range named 'fit' created with bounds [1.75,1.96]\n",
      "[#1] INFO:Fitting -- RooAbsOptTestStatistic::ctor(nll_model_data) constructing test statistic for sub-range named fit\n",
      "[#1] INFO:Eval -- RooRealVar::setRange(mass) new range named 'NormalizationRangeForfit' created with bounds [1.75,1.96]\n",
      "[#1] INFO:Eval -- RooRealVar::setRange(mass) new range named 'fit_nll_model_data' created with bounds [1.75,1.96]\n",
      "[#1] INFO:Fitting -- RooAbsOptTestStatistic::ctor(nll_model_data) fixing interpretation of coefficients of any RooAddPdf to full domain of observables \n",
      "[#1] INFO:Minization -- RooMinimizer::optimizeConst: activating const optimization\n",
      "[#1] INFO:Minization --  The following expressions will be evaluated in cache-and-track mode: (gauss,Third degree polynomial)\n",
      " **********\n",
      " **    1 **SET PRINT           1\n",
      " **********\n",
      " **********\n",
      " **    2 **SET NOGRAD\n",
      " **********\n",
      " PARAMETER DEFINITIONS:\n",
      "    NO.   NAME         VALUE      STEP SIZE      LIMITS\n",
      "     1 mean         1.86400e+00  6.00000e-03    1.83000e+00  1.89000e+00\n",
      "     2 p0           1.08090e+02  2.00000e+00    1.00000e+02  1.20000e+02\n",
      "     3 p1          -4.74800e+01  1.00000e+00   -5.50000e+01 -4.50000e+01\n",
      "     4 sigma        1.10000e-02  5.50000e-03    0.00000e+00  9.99000e-01\n",
      "     5 yield background   1.00000e+05  1.50000e+04    0.00000e+00  1.50000e+05\n",
      "     6 yield signal   1.00000e+04  5.00000e+03    0.00000e+00  1.00000e+05\n",
      " **********\n",
      " **    3 **SET ERR         0.5\n",
      " **********\n",
      " **********\n",
      " **    4 **SET PRINT           1\n",
      " **********\n",
      " **********\n",
      " **    5 **SET STR           1\n",
      " **********\n",
      " NOW USING STRATEGY  1: TRY TO BALANCE SPEED AGAINST RELIABILITY\n",
      " **********\n",
      " **    6 **MIGRAD        3000           1\n",
      " **********\n",
      " FIRST CALL TO USER FUNCTION AT NEW START POINT, WITH IFLAG=4.\n",
      " START MIGRAD MINIMIZATION.  STRATEGY  1.  CONVERGENCE WHEN EDM .LT. 1.00e-03\n",
      " FCN=-1.56027e+06 FROM MIGRAD    STATUS=INITIATE       26 CALLS          27 TOTAL\n",
      "                     EDM= unknown      STRATEGY= 1      NO ERROR MATRIX       \n",
      "  EXT PARAMETER               CURRENT GUESS       STEP         FIRST   \n",
      "  NO.   NAME      VALUE            ERROR          SIZE      DERIVATIVE \n",
      "   1  mean         1.86400e+00   6.00000e-03   2.03277e-01  -2.00563e+02\n",
      "   2  p0           1.08090e+02   2.00000e+00   2.05359e-01   2.47317e+01\n",
      "   3  p1          -4.74800e+01   1.00000e+00   2.36063e-01   2.46420e+01\n",
      "   4  sigma        1.10000e-02   5.50000e-03   5.46057e-02   1.08163e+03\n",
      "   5  yield background   1.00000e+05   1.50000e+04   2.14402e-01  -1.02814e+04\n",
      "   6  yield signal   1.00000e+04   5.00000e+03   1.72186e-01  -6.14146e+03\n",
      "                               ERR DEF= 0.5\n",
      " MIGRAD FAILS TO FIND IMPROVEMENT\n",
      " MIGRAD MINIMIZATION HAS CONVERGED.\n",
      " MIGRAD WILL VERIFY CONVERGENCE AND ERROR MATRIX.\n",
      " COVARIANCE MATRIX CALCULATED SUCCESSFULLY\n",
      " FCN=-1.56153e+06 FROM MIGRAD    STATUS=CONVERGED     174 CALLS         175 TOTAL\n",
      "                     EDM=0.000113277    STRATEGY= 1      ERROR MATRIX ACCURATE \n",
      "  EXT PARAMETER                                   STEP         FIRST   \n",
      "  NO.   NAME      VALUE            ERROR          SIZE      DERIVATIVE \n",
      "   1  mean         1.86430e+00   2.18564e-04   6.30383e-03  -6.81731e-01\n",
      "   2  p0           1.07656e+02   9.14202e-01   3.48939e-02   1.65124e-01\n",
      "   3  p1          -4.76581e+01   4.02910e-01   3.38892e-02   1.68842e-01\n",
      "   4  sigma        1.20006e-02   2.31167e-04   1.50696e-03   1.89535e+00\n",
      "   5  yield background   1.12401e+05   4.04471e+02   4.63945e-03  -6.25749e-01\n",
      "   6  yield signal   1.41807e+04   2.56527e+02   4.84217e-03  -9.20932e-01\n",
      "                               ERR DEF= 0.5\n",
      " EXTERNAL ERROR MATRIX.    NDIM=  25    NPAR=  6    ERR DEF=0.5\n",
      "  4.777e-08 -5.833e-06 -2.094e-06 -1.019e-09  1.327e-03 -1.336e-03 \n",
      " -5.833e-06  8.382e-01 -3.330e-01 -3.079e-06  4.424e+00 -4.444e+00 \n",
      " -2.094e-06 -3.330e-01  1.628e-01 -1.101e-06  1.580e+00 -1.587e+00 \n",
      " -1.019e-09 -3.079e-06 -1.101e-06  5.344e-08 -3.313e-02  3.335e-02 \n",
      "  1.327e-03  4.424e+00  1.580e+00 -3.313e-02  1.636e+05 -5.137e+04 \n",
      " -1.336e-03 -4.444e+00 -1.587e+00  3.335e-02 -5.137e+04  6.581e+04 \n",
      " PARAMETER  CORRELATION COEFFICIENTS  \n",
      "       NO.  GLOBAL      1      2      3      4      5      6\n",
      "        1  0.12427   1.000 -0.029 -0.024 -0.020  0.015 -0.024\n",
      "        2  0.90368  -0.029  1.000 -0.902 -0.015  0.012 -0.019\n",
      "        3  0.90364  -0.024 -0.902  1.000 -0.012  0.010 -0.015\n",
      "        4  0.56933  -0.020 -0.015 -0.012  1.000 -0.354  0.562\n",
      "        5  0.50363   0.015  0.012  0.010 -0.354  1.000 -0.495\n",
      "        6  0.64628  -0.024 -0.019 -0.015  0.562 -0.495  1.000\n",
      " **********\n",
      " **    7 **SET ERR         0.5\n",
      " **********\n",
      " **********\n",
      " **    8 **SET PRINT           1\n",
      " **********\n",
      " **********\n",
      " **    9 **HESSE        3000\n",
      " **********\n",
      " COVARIANCE MATRIX CALCULATED SUCCESSFULLY\n",
      " FCN=-1.56153e+06 FROM HESSE     STATUS=OK             40 CALLS         215 TOTAL\n",
      "                     EDM=0.000111687    STRATEGY= 1      ERROR MATRIX ACCURATE \n",
      "  EXT PARAMETER                                INTERNAL      INTERNAL  \n",
      "  NO.   NAME      VALUE            ERROR       STEP SIZE       VALUE   \n",
      "   1  mean         1.86430e+00   2.18583e-04   2.52153e-04   1.43957e-01\n",
      "   2  p0           1.07656e+02   4.23472e+00   1.39575e-03  -2.36612e-01\n",
      "   3  p1          -4.76581e+01   1.87124e+00   1.35557e-03   4.87457e-01\n",
      "   4  sigma        1.20006e-02   2.32259e-04   6.02786e-05  -1.35115e+00\n",
      "   5  yield background   1.12401e+05   4.05797e+02   1.85578e-04   5.22073e-01\n",
      "   6  yield signal   1.41807e+04   2.57821e+02   1.93687e-04  -7.98610e-01\n",
      "                               ERR DEF= 0.5\n",
      " EXTERNAL ERROR MATRIX.    NDIM=  25    NPAR=  6    ERR DEF=0.5\n",
      "  4.778e-08 -5.537e-06 -2.083e-06 -1.506e-09  1.429e-03 -1.430e-03 \n",
      " -5.537e-06  1.920e+01 -8.432e+00 -3.073e-06  4.515e+00 -4.516e+00 \n",
      " -2.083e-06 -8.432e+00  3.734e+00 -1.040e-06  1.502e+00 -1.502e+00 \n",
      " -1.506e-09 -3.073e-06 -1.040e-06  5.394e-08 -3.398e-02  3.398e-02 \n",
      "  1.429e-03  4.515e+00  1.502e+00 -3.398e-02  1.647e+05 -5.228e+04 \n",
      " -1.430e-03 -4.516e+00 -1.502e+00  3.398e-02 -5.228e+04  6.647e+04 \n",
      " PARAMETER  CORRELATION COEFFICIENTS  \n",
      "       NO.  GLOBAL      1      2      3      4      5      6\n",
      "        1  0.12510   1.000 -0.006 -0.005 -0.030  0.016 -0.025\n",
      "        2  0.99599  -0.006  1.000 -0.996 -0.003  0.003 -0.004\n",
      "        3  0.99599  -0.005 -0.996  1.000 -0.002  0.002 -0.003\n",
      "        4  0.57484  -0.030 -0.003 -0.002  1.000 -0.360  0.568\n",
      "        5  0.50844   0.016  0.003  0.002 -0.360  1.000 -0.500\n",
      "        6  0.65078  -0.025 -0.004 -0.003  0.568 -0.500  1.000\n",
      "[#1] INFO:Minization -- RooMinimizer::optimizeConst: deactivating const optimization\n"
     ]
    }
   ],
   "source": [
    "result = model.fitTo(data, ROOT.RooFit.Extended(True), ROOT.RooFit.Range(1.75, 1.96))"
   ]
  },
  {
   "cell_type": "code",
   "execution_count": 48,
   "id": "variable-causing",
   "metadata": {},
   "outputs": [
    {
     "name": "stdout",
     "output_type": "stream",
     "text": [
      "[#1] INFO:Plotting -- RooAbsPdf::plotOn(model) p.d.f was fitted in range and no explicit plot,norm range was specified, using fit range as default\n",
      "[#1] INFO:Plotting -- RooAbsPdf::plotOn(model) only plotting range 'fit_nll_model_data'\n",
      "[#1] INFO:Plotting -- RooAbsPdf::plotOn(model) p.d.f. curve is normalized using explicit choice of ranges 'fit_nll_model_data'\n",
      "[#1] INFO:Plotting -- RooAbsPdf::plotOn(model) p.d.f was fitted in range and no explicit plot,norm range was specified, using fit range as default\n",
      "[#1] INFO:Plotting -- RooAbsPdf::plotOn(model) only plotting range 'fit_nll_model_data'\n",
      "[#1] INFO:Plotting -- RooAbsPdf::plotOn(model) p.d.f. curve is normalized using explicit choice of ranges 'fit_nll_model_data'\n",
      "[#1] INFO:Plotting -- RooAbsPdf::plotOn(model) directly selected PDF components: (gauss)\n",
      "[#1] INFO:Plotting -- RooAbsPdf::plotOn(model) indirectly selected PDF components: ()\n",
      "[#1] INFO:Plotting -- RooAbsPdf::plotOn(model) p.d.f was fitted in range and no explicit plot,norm range was specified, using fit range as default\n",
      "[#1] INFO:Plotting -- RooAbsPdf::plotOn(model) only plotting range 'fit_nll_model_data'\n",
      "[#1] INFO:Plotting -- RooAbsPdf::plotOn(model) p.d.f. curve is normalized using explicit choice of ranges 'fit_nll_model_data'\n",
      "[#1] INFO:Plotting -- RooAbsPdf::plotOn(model) directly selected PDF components: (Third degree polynomial)\n",
      "[#1] INFO:Plotting -- RooAbsPdf::plotOn(model) indirectly selected PDF components: ()\n"
     ]
    },
    {
     "name": "stderr",
     "output_type": "stream",
     "text": [
      "Warning in <TCanvas::Constructor>: Deleting canvas with same name: can\n",
      "Info in <TCanvas::Print>: png file Dzero_fit.png has been created\n"
     ]
    },
    {
     "data": {
      "image/png": "[encoded data removed]",
      "text/plain": [
       "<IPython.core.display.Image object>"
      ]
     },
     "metadata": {},
     "output_type": "display_data"
    }
   ],
   "source": [
    "# Colors and styles\n",
    "colors = {\"model\" : 2, \"signal\" : 4, \"background\" : 3}\n",
    "styles = {\"model\" : 1, \"signal\" : 1, \"background\" : 2}\n",
    "\n",
    "can  = ROOT.TCanvas(\"can\", \"histograms   \", 600, 500)\n",
    "\n",
    "# Frame creation\n",
    "frame = mass.frame(ROOT.RooFit.Title(\"Dzero\"))\n",
    "\n",
    "## Plots\n",
    "\n",
    "# Data\n",
    "data.plotOn(frame, ROOT.RooFit.Name(\"Data\"), ROOT.RooFit.DataError(ROOT.RooAbsData.SumW2))\n",
    "\n",
    "# Model\n",
    "model.plotOn(frame, ROOT.RooFit.Name(\"Model\"), ROOT.RooFit.LineStyle(styles[\"model\"]), ROOT.RooFit.LineColor(colors[\"model\"]))\n",
    "\n",
    "# Signal\n",
    "model.plotOn(frame, ROOT.RooFit.Name(\"Signal\"), ROOT.RooFit.Components(\"gauss\"), ROOT.RooFit.LineStyle(styles[\"signal\"]), ROOT.RooFit.LineColor(colors[\"signal\"]))\n",
    "\n",
    "# Background\n",
    "model.plotOn(frame, ROOT.RooFit.Name(\"Background\"), ROOT.RooFit.Components(\"Third degree polynomial\"), ROOT.RooFit.LineStyle(styles[\"background\"]), ROOT.RooFit.LineColor(colors[\"background\"]))\n",
    "\n",
    "## Legends\n",
    "\n",
    "leg = ROOT.TLegend(0.7, 0.7, 0.93, 0.92)\n",
    "leg.AddEntry(frame.findObject(\"Data\"), \"Data\", \"LEP\")\n",
    "leg.AddEntry(frame.findObject(\"Model\"), \"Model Fit\", \"L\")\n",
    "leg.AddEntry(frame.findObject(\"Signal\"), \"Signal Fit\", \"L\")\n",
    "leg.AddEntry(frame.findObject(\"Background\"), \"Background fit\", \"L\")\n",
    "\n",
    "frame.Draw()\n",
    "leg.Draw(\"same\")\n",
    "\n",
    "can.Draw()\n",
    "\n",
    "can.SaveAs(\"Dzero_fit.png\")"
   ]
  },
  {
   "cell_type": "code",
   "execution_count": 47,
   "id": "assumed-marble",
   "metadata": {},
   "outputs": [
    {
     "name": "stderr",
     "output_type": "stream",
     "text": [
      "Info in <TCanvas::Print>: png file test.png has been created\n"
     ]
    }
   ],
   "source": []
  },
  {
   "cell_type": "code",
   "execution_count": null,
   "id": "hungry-delta",
   "metadata": {},
   "outputs": [],
   "source": []
  }
 ],
 "metadata": {
  "kernelspec": {
   "display_name": "Python 3",
   "language": "python",
   "name": "python3"
  },
  "language_info": {
   "codemirror_mode": {
    "name": "ipython",
    "version": 3
   },
   "file_extension": ".py",
   "mimetype": "text/x-python",
   "name": "python",
   "nbconvert_exporter": "python",
   "pygments_lexer": "ipython3",
   "version": "3.7.0"
  }
 },
 "nbformat": 4,
 "nbformat_minor": 5
}
