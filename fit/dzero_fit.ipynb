{
 "cells": [
  {
   "cell_type": "code",
   "execution_count": 4,
   "id": "medical-grenada",
   "metadata": {},
   "outputs": [
    {
     "name": "stdout",
     "output_type": "stream",
     "text": [
      "Welcome to JupyROOT 6.16/00\n"
     ]
    }
   ],
   "source": [
    "import ROOT\n",
    "from IPython.display import  Audio\n",
    "sound_file= 'sounds/dscybsit.wav'"
   ]
  },
  {
   "cell_type": "code",
   "execution_count": 5,
   "id": "impossible-zambia",
   "metadata": {},
   "outputs": [
    {
     "name": "stdout",
     "output_type": "stream",
     "text": [
      "\n",
      "\u001b[1mRooFit v3.60 -- Developed by Wouter Verkerke and David Kirkby\u001b[0m \n",
      "                Copyright (C) 2000-2013 NIKHEF, University of California & Stanford University\n",
      "                All rights reserved, please read http://roofit.sourceforge.net/license.txt\n",
      "\n",
      "[#1] INFO:Eval -- RooAbsReal::attachToTree(mass) TTree Float_t branch mass will be converted to double precision\n"
     ]
    }
   ],
   "source": [
    "file = ROOT.TFile.Open(\"../output/Charmonium2018B_test/dzero_m21_charmonium_2018B.root\")\n",
    "\n",
    "mass = ROOT.RooRealVar(\"mass\", \"\", 1.75, 1.96)\n",
    "data = ROOT.RooDataSet(\"data\", \"\", file.Dzero, ROOT.RooArgSet(mass))"
   ]
  },
  {
   "cell_type": "code",
   "execution_count": 6,
   "id": "valid-rolling",
   "metadata": {},
   "outputs": [],
   "source": [
    "## Signal definition: Gaussian \n",
    "\n",
    "frac_signal = ROOT.RooRealVar(\"frac signal\", \"\", 0.2, 0.0, 1.0)\n",
    "mean = ROOT.RooRealVar(\"mean\", \"\", 1.864, 1.830, 1.890)\n",
    "sigma = ROOT.RooRealVar(\"sigma\", \"\",  0.011, 0.00001, 0.999)\n",
    "\n",
    "# pdf\n",
    "gauss = ROOT.RooGaussian(\"gauss\", \"\", mass, mean, sigma)"
   ]
  },
  {
   "cell_type": "code",
   "execution_count": 7,
   "id": "moving-olive",
   "metadata": {},
   "outputs": [
    {
     "ename": "SyntaxError",
     "evalue": "invalid syntax (<ipython-input-7-50a325eac882>, line 1)",
     "output_type": "error",
     "traceback": [
      "\u001b[0;36m  File \u001b[0;32m\"<ipython-input-7-50a325eac882>\"\u001b[0;36m, line \u001b[0;32m1\u001b[0m\n\u001b[0;31m    1  frac signal   1.11410e-01   2.00819e-03   6.46375e-05  -8.90173e-01\u001b[0m\n\u001b[0m          ^\u001b[0m\n\u001b[0;31mSyntaxError\u001b[0m\u001b[0;31m:\u001b[0m invalid syntax\n"
     ]
    }
   ],
   "source": [
    "1  frac signal   1.11410e-01   2.00819e-03   6.46375e-05  -8.90173e-01\n",
    "   2  mean         1.86431e+00   2.18570e-04   4.52472e-04   1.44113e-01\n",
    "   3  p0           7.82325e+01   8.40863e+00   7.90318e-05   8.98390e-01\n",
    "   4  p1          -1.49652e+01   4.02316e+00   2.19542e-05  -1.50217e-01\n",
    "   5  p2          -8.97738e+00   1.90871e+00   9.92365e-06  -8.98948e-02\n",
    "   6  sigma        1.19525e-02   2.31703e-04   2.16555e-05  -1.35168e+00"
   ]
  },
  {
   "cell_type": "code",
   "execution_count": 8,
   "id": "unlike-stephen",
   "metadata": {},
   "outputs": [],
   "source": [
    "## Background definition: Third degree polynomial (p0 x³ + p1 x² + p2 x + 1)\n",
    "\n",
    "#yield_back = ROOT.RooRealVar(\"yield background\", \"\", 1e5, 0, 1.5e5)\n",
    "p0 = ROOT.RooRealVar(\"p0\", \"\", 78, 50, 100)\n",
    "p1 = ROOT.RooRealVar(\"p1\", \"\", -15, -20, -10)\n",
    "p2 = ROOT.RooRealVar(\"p2\", \"\",  -9, -15, -5)\n",
    "\n",
    "\n",
    "back = ROOT.RooPolynomial(\"Third degree polynomial\", \"\", mass, ROOT.RooArgList(p0, p1, p2))"
   ]
  },
  {
   "cell_type": "code",
   "execution_count": 9,
   "id": "divided-milton",
   "metadata": {},
   "outputs": [],
   "source": [
    "# Model definition and fitting\n",
    "model = ROOT.RooAddPdf(\"model\", \"\", ROOT.RooArgList(gauss, back),\n",
    "                       ROOT.RooArgList(frac_signal), ROOT.kTRUE)\n"
   ]
  },
  {
   "cell_type": "code",
   "execution_count": 10,
   "id": "blessed-defendant",
   "metadata": {},
   "outputs": [
    {
     "name": "stdout",
     "output_type": "stream",
     "text": [
      "[#1] INFO:Minization -- RooMinimizer::optimizeConst: activating const optimization\n",
      "[#1] INFO:Minization --  The following expressions will be evaluated in cache-and-track mode: (gauss,Third degree polynomial)\n",
      " **********\n",
      " **    1 **SET PRINT           1\n",
      " **********\n",
      " **********\n",
      " **    2 **SET NOGRAD\n",
      " **********\n",
      " PARAMETER DEFINITIONS:\n",
      "    NO.   NAME         VALUE      STEP SIZE      LIMITS\n",
      "     1 frac signal   2.00000e-01  1.00000e-01    0.00000e+00  1.00000e+00\n",
      "     2 mean         1.86400e+00  6.00000e-03    1.83000e+00  1.89000e+00\n",
      "     3 p0           7.80000e+01  5.00000e+00    5.00000e+01  1.00000e+02\n",
      "     4 p1          -1.50000e+01  1.00000e+00   -2.00000e+01 -1.00000e+01\n",
      "     5 p2          -9.00000e+00  1.00000e+00   -1.50000e+01 -5.00000e+00\n",
      "     6 sigma        1.10000e-02  5.49500e-03    1.00000e-05  9.99000e-01\n",
      " **********\n",
      " **    3 **SET ERR         0.5\n",
      " **********\n",
      " **********\n",
      " **    4 **SET PRINT           1\n",
      " **********\n",
      " **********\n",
      " **    5 **SET STR           1\n",
      " **********\n",
      " NOW USING STRATEGY  1: TRY TO BALANCE SPEED AGAINST RELIABILITY\n",
      " **********\n",
      " **    6 **MIGRAD        3000           1\n",
      " **********\n",
      " FIRST CALL TO USER FUNCTION AT NEW START POINT, WITH IFLAG=4.\n",
      " START MIGRAD MINIMIZATION.  STRATEGY  1.  CONVERGENCE WHEN EDM .LT. 1.00e-03\n",
      " FCN=-199363 FROM MIGRAD    STATUS=INITIATE       24 CALLS          25 TOTAL\n",
      "                     EDM= unknown      STRATEGY= 1      NO ERROR MATRIX       \n",
      "  EXT PARAMETER               CURRENT GUESS       STEP         FIRST   \n",
      "  NO.   NAME      VALUE            ERROR          SIZE      DERIVATIVE \n",
      "   1  frac signal   2.00000e-01   1.00000e-01   2.57889e-01   1.27134e+04\n",
      "   2  mean         1.86400e+00   6.00000e-03   2.03277e-01  -2.06242e+02\n",
      "   3  p0           7.80000e+01   5.00000e+00   2.02908e-01   4.87624e+01\n",
      "   4  p1          -1.50000e+01   1.00000e+00   2.01358e-01   2.32922e+01\n",
      "   5  p2          -9.00000e+00   1.00000e+00   2.05758e-01   4.57470e+01\n",
      "   6  sigma        1.10000e-02   5.49500e-03   5.45809e-02  -3.09184e+04\n",
      "                               ERR DEF= 0.5\n",
      " MIGRAD MINIMIZATION HAS CONVERGED.\n",
      " MIGRAD WILL VERIFY CONVERGENCE AND ERROR MATRIX.\n",
      " COVARIANCE MATRIX CALCULATED SUCCESSFULLY\n",
      " FCN=-200930 FROM MIGRAD    STATUS=CONVERGED     149 CALLS         150 TOTAL\n",
      "                     EDM=0.000410324    STRATEGY= 1      ERROR MATRIX ACCURATE \n",
      "  EXT PARAMETER                                   STEP         FIRST   \n",
      "  NO.   NAME      VALUE            ERROR          SIZE      DERIVATIVE \n",
      "   1  frac signal   1.11410e-01   2.00518e-03   1.61594e-03   2.93906e-01\n",
      "   2  mean         1.86431e+00   2.18570e-04   2.26237e-03   6.31150e-01\n",
      "   3  p0           7.82005e+01   1.74163e+00   4.96104e-03  -2.62955e-01\n",
      "   4  p1          -1.49617e+01   8.09634e-01   1.08486e-02  -4.96261e-02\n",
      "   5  p2          -8.97254e+00   3.79636e-01   5.04697e-03  -3.82752e-01\n",
      "   6  sigma        1.19525e-02   2.31444e-04   5.41389e-04  -2.38217e+00\n",
      "                               ERR DEF= 0.5\n",
      " EXTERNAL ERROR MATRIX.    NDIM=  25    NPAR=  6    ERR DEF=0.5\n",
      "  4.021e-06 -1.142e-08 -1.890e-05 -2.082e-05  1.493e-06  2.656e-07 \n",
      " -1.142e-08  4.777e-08 -3.484e-06 -1.525e-06 -7.115e-07 -1.371e-09 \n",
      " -1.890e-05 -3.484e-06  3.038e+00 -6.158e-01 -3.177e-01 -1.670e-06 \n",
      " -2.082e-05 -1.525e-06 -6.158e-01  6.613e-01 -1.726e-01 -1.678e-06 \n",
      "  1.493e-06 -7.115e-07 -3.177e-01 -1.726e-01  1.444e-01  6.324e-08 \n",
      "  2.656e-07 -1.371e-09 -1.670e-06 -1.678e-06  6.324e-08  5.357e-08 \n",
      " PARAMETER  CORRELATION COEFFICIENTS  \n",
      "       NO.  GLOBAL      1      2      3      4      5      6\n",
      "        1  0.57405   1.000 -0.026 -0.005 -0.013  0.002  0.572\n",
      "        2  0.12439  -0.026  1.000 -0.009 -0.009 -0.009 -0.027\n",
      "        3  0.97367  -0.005 -0.009  1.000 -0.434 -0.480 -0.004\n",
      "        4  0.97651  -0.013 -0.009 -0.434  1.000 -0.559 -0.009\n",
      "        5  0.97772   0.002 -0.009 -0.480 -0.559  1.000  0.001\n",
      "        6  0.57270   0.572 -0.027 -0.004 -0.009  0.001  1.000\n",
      " **********\n",
      " **    7 **SET ERR         0.5\n",
      " **********\n",
      " **********\n",
      " **    8 **SET PRINT           1\n",
      " **********\n",
      " **********\n",
      " **    9 **HESSE        3000\n",
      " **********\n",
      " COVARIANCE MATRIX CALCULATED SUCCESSFULLY\n",
      " FCN=-200930 FROM HESSE     STATUS=OK             40 CALLS         190 TOTAL\n",
      "                     EDM=0.00862414    STRATEGY= 1      ERROR MATRIX ACCURATE \n",
      "  EXT PARAMETER                                INTERNAL      INTERNAL  \n",
      "  NO.   NAME      VALUE            ERROR       STEP SIZE       VALUE   \n",
      "   1  frac signal   1.11410e-01   2.00814e-03   6.46376e-05  -8.90173e-01\n",
      "   2  mean         1.86431e+00   2.18570e-04   4.52473e-04   1.44113e-01\n",
      "   3  p0           7.82005e+01   8.40906e+00   1.98441e-04   1.28372e-01\n",
      "   4  p1          -1.49617e+01   3.59120e+00   4.33943e-04   7.66895e-03\n",
      "   5  p2          -8.97254e+00   1.83459e+00   2.01879e-04   2.06966e-01\n",
      "   6  sigma        1.19525e-02   2.31700e-04   2.16556e-05  -1.35168e+00\n",
      "                               ERR DEF= 0.5\n",
      " EXTERNAL ERROR MATRIX.    NDIM=  25    NPAR=  6    ERR DEF=0.5\n",
      "  4.033e-06 -1.167e-08 -7.642e-06 -3.055e-04  1.290e-04  2.669e-07 \n",
      " -1.167e-08  4.777e-08 -3.378e-06 -4.945e-07 -1.169e-06 -1.521e-09 \n",
      " -7.642e-06 -3.378e-06  7.360e+01 -1.507e+01 -7.905e+00 -7.956e-07 \n",
      " -3.055e-04 -4.945e-07 -1.507e+01  1.605e+01 -4.277e+00 -2.316e-05 \n",
      "  1.290e-04 -1.169e-06 -7.905e+00 -4.277e+00  3.536e+00  9.684e-06 \n",
      "  2.669e-07 -1.521e-09 -7.956e-07 -2.316e-05  9.684e-06  5.368e-08 \n",
      " PARAMETER  CORRELATION COEFFICIENTS  \n",
      "       NO.  GLOBAL      1      2      3      4      5      6\n",
      "        1  0.57577   1.000 -0.027 -0.000 -0.038  0.034  0.574\n",
      "        2  0.12438  -0.027  1.000 -0.002 -0.001 -0.003 -0.030\n",
      "        3  0.99893  -0.000 -0.002  1.000 -0.438 -0.490 -0.000\n",
      "        4  0.99904  -0.038 -0.001 -0.438  1.000 -0.568 -0.025\n",
      "        5  0.99910   0.034 -0.003 -0.490 -0.568  1.000  0.022\n",
      "        6  0.57399   0.574 -0.030 -0.000 -0.025  0.022  1.000\n",
      "[#1] INFO:Minization -- RooMinimizer::optimizeConst: deactivating const optimization\n"
     ]
    }
   ],
   "source": [
    "result = model.fitTo(data, ROOT.RooFit.Save())"
   ]
  },
  {
   "cell_type": "code",
   "execution_count": 11,
   "id": "ecological-booth",
   "metadata": {},
   "outputs": [
    {
     "name": "stdout",
     "output_type": "stream",
     "text": [
      "[#1] INFO:Plotting -- RooAbsPdf::plotOn(model) directly selected PDF components: (gauss)\n",
      "[#1] INFO:Plotting -- RooAbsPdf::plotOn(model) indirectly selected PDF components: ()\n",
      "[#1] INFO:Plotting -- RooAbsPdf::plotOn(model) directly selected PDF components: (Third degree polynomial)\n",
      "[#1] INFO:Plotting -- RooAbsPdf::plotOn(model) indirectly selected PDF components: ()\n"
     ]
    },
    {
     "name": "stderr",
     "output_type": "stream",
     "text": [
      "Info in <TCanvas::Print>: png file Dzero_fit.png has been created\n"
     ]
    },
    {
     "data": {
      "image/png": "[encoded data removed]",
      "text/plain": [
       "<IPython.core.display.Image object>"
      ]
     },
     "metadata": {},
     "output_type": "display_data"
    }
   ],
   "source": [
    "# Colors and styles\n",
    "colors = {\"model\" : 2, \"signal\" : 4, \"background\" : 3}\n",
    "styles = {\"model\" : 1, \"signal\" : 1, \"background\" : 2}\n",
    "\n",
    "can = ROOT.TCanvas(\"can\", \"histograms\", 850, 650)\n",
    "\n",
    "# Frame creation\n",
    "frame = mass.frame(ROOT.RooFit.Title(\"Dataset: Charmonium 2018B\"))\n",
    "frame.GetXaxis().SetTitle(\"M(k\\pi) [GeV]\")\n",
    "## Plots\n",
    "\n",
    "# Data\n",
    "data.plotOn(frame, ROOT.RooFit.Name(\"Data\"), ROOT.RooFit.DataError(ROOT.RooAbsData.SumW2))\n",
    "\n",
    "# Model\n",
    "model.plotOn(frame, ROOT.RooFit.Name(\"Model\"), ROOT.RooFit.LineStyle(styles[\"model\"]), ROOT.RooFit.LineColor(colors[\"model\"]))\n",
    "\n",
    "# Signal\n",
    "model.plotOn(frame, ROOT.RooFit.Name(\"Signal\"), ROOT.RooFit.Components(\"gauss\"), ROOT.RooFit.LineStyle(styles[\"signal\"]), ROOT.RooFit.LineColor(colors[\"signal\"]))\n",
    "\n",
    "# Background\n",
    "model.plotOn(frame, ROOT.RooFit.Name(\"Background\"), ROOT.RooFit.Components(\"Third degree polynomial\"), ROOT.RooFit.LineStyle(styles[\"background\"]), ROOT.RooFit.LineColor(colors[\"background\"]))\n",
    "\n",
    "## Legends\n",
    "\n",
    "leg = ROOT.TLegend(0.7, 0.7, 0.93, 0.92)\n",
    "leg.AddEntry(frame.findObject(\"Data\"), \"Data\", \"LEP\")\n",
    "leg.AddEntry(frame.findObject(\"Model\"), \"Model Fit\", \"L\")\n",
    "leg.AddEntry(frame.findObject(\"Signal\"), \"Signal Fit\", \"L\")\n",
    "leg.AddEntry(frame.findObject(\"Background\"), \"Background fit\", \"L\")\n",
    "\n",
    "frame.Draw()\n",
    "leg.Draw(\"same\")\n",
    "\n",
    "can.Draw()\n",
    "\n",
    "can.SaveAs(\"Dzero_fit.png\")"
   ]
  },
  {
   "cell_type": "code",
   "execution_count": 12,
   "id": "boolean-structure",
   "metadata": {},
   "outputs": [
    {
     "data": {
      "text/html": [
       "\n",
       "                <audio  controls=\"controls\" autoplay=\"autoplay\">\n",
       "                    <source src=\"data:audio/x-wav;base64,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\" type=\"audio/x-wav\" />\n",
       "                    Your browser does not support the audio element.\n",
       "                </audio>\n",
       "              "
      ],
      "text/plain": [
       "<IPython.lib.display.Audio object>"
      ]
     },
     "execution_count": 12,
     "metadata": {},
     "output_type": "execute_result"
    }
   ],
   "source": [
    "Audio(sound_file, autoplay=True)"
   ]
  },
  {
   "cell_type": "code",
   "execution_count": null,
   "id": "reasonable-rescue",
   "metadata": {},
   "outputs": [],
   "source": []
  }
 ],
 "metadata": {
  "kernelspec": {
   "display_name": "Python 3",
   "language": "python",
   "name": "python3"
  },
  "language_info": {
   "codemirror_mode": {
    "name": "ipython",
    "version": 3
   },
   "file_extension": ".py",
   "mimetype": "text/x-python",
   "name": "python",
   "nbconvert_exporter": "python",
   "pygments_lexer": "ipython3",
   "version": "3.7.0"
  }
 },
 "nbformat": 4,
 "nbformat_minor": 5
}
