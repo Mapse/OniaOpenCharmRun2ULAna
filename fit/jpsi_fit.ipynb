{
 "cells": [
  {
   "cell_type": "code",
   "execution_count": 1,
   "id": "efficient-comparison",
   "metadata": {},
   "outputs": [
    {
     "name": "stdout",
     "output_type": "stream",
     "text": [
      "Welcome to JupyROOT 6.16/00\n"
     ]
    }
   ],
   "source": [
    "import ROOT"
   ]
  },
  {
   "cell_type": "code",
   "execution_count": 8,
   "id": "colored-blood",
   "metadata": {},
   "outputs": [
    {
     "name": "stdout",
     "output_type": "stream",
     "text": [
      "[#1] INFO:Eval -- RooAbsReal::attachToTree(mass) TTree Float_t branch mass will be converted to double precision\n"
     ]
    }
   ],
   "source": [
    "file = ROOT.TFile.Open(\"../output/Charmonium2018B_test/jpsi_charmonium_2018B.root\")\n",
    "\n",
    "mass = ROOT.RooRealVar(\"mass\", \"\", 2.95, 3.25)\n",
    "data = ROOT.RooDataSet(\"data\", \"\", file.Jpsi, ROOT.RooArgSet(mass))"
   ]
  },
  {
   "cell_type": "code",
   "execution_count": 9,
   "id": "geographic-portrait",
   "metadata": {},
   "outputs": [],
   "source": [
    "#Signal PDFs\n",
    "\n",
    "## Signal PDF: Crystal ball and gaussian\n",
    "\n",
    "yield_gauss = ROOT.RooRealVar(\"yield_gauss\",\"\", 1e6, 0, 1e7)\n",
    "mean = ROOT.RooRealVar(\"mean\", \"\", 3.09, 2.95, 3.25)\n",
    "sigma_gauss = ROOT.RooRealVar(\"sigma gauss\", \"\", 0.1, 0.000001, 1)\n",
    "\n",
    "yield_cb = ROOT.RooRealVar(\"yield_cb\",\"\", 1e6, 0, 1e7)\n",
    "sigma_cb = ROOT.RooRealVar(\"sigma cb\", \"\", 0.1, 0.000001, 1)\n",
    "\n",
    "alpha = ROOT.RooRealVar(\"alpha\", \"\", 1.4, 0, 10)\n",
    "n = ROOT.RooRealVar(\"n\", \"\", 99, 0, 100)\n",
    "n.setConstant(True)\n",
    "\n",
    "gauss = ROOT.RooGaussian(\"gauss\", \"\", mass, mean, sigma_gauss)\n",
    "crystal_ball = ROOT.RooCBShape(\"crystal ball\", \"\", mass, mean, sigma_cb, alpha, n)\n"
   ]
  },
  {
   "cell_type": "code",
   "execution_count": 10,
   "id": "operating-strain",
   "metadata": {},
   "outputs": [],
   "source": [
    "# Background PDF\n",
    "yield_back = ROOT.RooRealVar(\"yield_back\", \"\", 1e6, 0, 1e7)\n",
    "exp_coef = ROOT.RooRealVar(\"exp_coef\", \"\", 0, -5, 5)\n",
    "\n",
    "back_exp = ROOT.RooExponential(\"back_exp\", \"\", mass, exp_coef)"
   ]
  },
  {
   "cell_type": "code",
   "execution_count": 11,
   "id": "supported-accident",
   "metadata": {},
   "outputs": [],
   "source": [
    "# Model definition and fitting\n",
    "model = ROOT.RooAddPdf(\"model\", \"\", ROOT.RooArgList(gauss, crystal_ball, back_exp),\n",
    "                       ROOT.RooArgList(yield_gauss, yield_cb, yield_back))"
   ]
  },
  {
   "cell_type": "code",
   "execution_count": null,
   "id": "arbitrary-airline",
   "metadata": {},
   "outputs": [],
   "source": [
    "result = model.fitTo(data, ROOT.RooFit.Extended(True), ROOT.RooFit.Range(2.95, 3.25))"
   ]
  },
  {
   "cell_type": "code",
   "execution_count": 12,
   "id": "chubby-nudist",
   "metadata": {},
   "outputs": [],
   "source": [
    "frame = mass.frame(ROOT.RooFit.Title(\"Jpsi\"))\n",
    "data.plotOn(frame)\n",
    "model.plotOn(frame)\n",
    "frame.Draw()"
   ]
  },
  {
   "cell_type": "code",
   "execution_count": 13,
   "id": "baking-alert",
   "metadata": {},
   "outputs": [
    {
     "data": {
      "image/png": "[encoded data removed]",
      "text/plain": [
       "<IPython.core.display.Image object>"
      ]
     },
     "metadata": {},
     "output_type": "display_data"
    }
   ],
   "source": [
    "from ROOT import gROOT\n",
    "gROOT.GetListOfCanvases().Draw()"
   ]
  },
  {
   "cell_type": "code",
   "execution_count": null,
   "id": "critical-division",
   "metadata": {},
   "outputs": [],
   "source": []
  }
 ],
 "metadata": {
  "kernelspec": {
   "display_name": "Python 3",
   "language": "python",
   "name": "python3"
  },
  "language_info": {
   "codemirror_mode": {
    "name": "ipython",
    "version": 3
   },
   "file_extension": ".py",
   "mimetype": "text/x-python",
   "name": "python",
   "nbconvert_exporter": "python",
   "pygments_lexer": "ipython3",
   "version": "3.7.0"
  }
 },
 "nbformat": 4,
 "nbformat_minor": 5
}
