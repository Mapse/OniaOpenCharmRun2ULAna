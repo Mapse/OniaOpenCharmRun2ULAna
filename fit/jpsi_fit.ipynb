{
 "cells": [
  {
   "cell_type": "code",
   "execution_count": 1,
   "id": "exposed-blink",
   "metadata": {},
   "outputs": [
    {
     "name": "stdout",
     "output_type": "stream",
     "text": [
      "Welcome to JupyROOT 6.22/06\n"
     ]
    }
   ],
   "source": [
    "import ROOT\n",
    "import math\n",
    "from IPython.display import  Audio\n",
    "sound_file= 'sounds/dscybsit.wav'"
   ]
  },
  {
   "cell_type": "code",
   "execution_count": 2,
   "id": "wooden-blend",
   "metadata": {},
   "outputs": [
    {
     "name": "stdout",
     "output_type": "stream",
     "text": [
      "\n",
      "\u001b[1mRooFit v3.60 -- Developed by Wouter Verkerke and David Kirkby\u001b[0m \n",
      "                Copyright (C) 2000-2013 NIKHEF, University of California & Stanford University\n",
      "                All rights reserved, please read http://roofit.sourceforge.net/license.txt\n",
      "\n",
      "[#1] INFO:Eval -- RooAbsReal::attachToTree(mass) TTree Float_t branch mass will be converted to double precision\n",
      "[#1] INFO:Eval -- RooTreeDataStore::loadValues(data) Ignored 170307 out of range events\n"
     ]
    }
   ],
   "source": [
    "chain = ROOT.TChain\n",
    "\n",
    "file = ROOT.TFile.Open(\"../output/Charmonium2018B_test/jpsi_charmonium_2018B.root\")\n",
    "\n",
    "## Mass fit\n",
    "\n",
    "mass = ROOT.RooRealVar(\"mass\", \"\", 2.95, 3.25)\n",
    "\n",
    "#x_range = [2.95, 3.25]\n",
    "#bin_widht = 30e-4\n",
    "#n_bins = int((x_range[1] - x_range[0]) / bin_widht)\n",
    "#mass.setBins(n_bins)\n",
    "\n",
    "data = ROOT.RooDataSet(\"data\", \"\", file.Jpsi, ROOT.RooArgSet(mass))"
   ]
  },
  {
   "cell_type": "code",
   "execution_count": 3,
   "id": "administrative-accused",
   "metadata": {},
   "outputs": [],
   "source": [
    "#Signal PDFs\n",
    "\n",
    "## Signal PDF: Crystal ball and gaussian\n",
    "\n",
    "frac_gauss = ROOT.RooRealVar(\"frac_gauss\",\"\", 0.4, 0.0, 1.0)\n",
    "mean = ROOT.RooRealVar(\"mean\", \"\", 3.09355, 2.95, 3.25)\n",
    "sigma_gauss = ROOT.RooRealVar(\"sigma gauss\", \"\", 0.02, 0.000001, 1)\n",
    "\n",
    "frac_cb = ROOT.RooRealVar(\"frac_cb\",\"\", 0.6, 0.0, 1.0)\n",
    "sigma_cb = ROOT.RooRealVar(\"sigma cb\", \"\", 0.02, 0.000001, 1)\n",
    "\n",
    "alpha = ROOT.RooRealVar(\"alpha\", \"\", 1.4, 0, 10)\n",
    "\n",
    "n = ROOT.RooRealVar(\"n\", \"\", 30, 0, 150)\n",
    "n.setConstant(True)\n",
    "\n",
    "signal1 = ROOT.RooGaussian(\"gauss\", \"\", mass, mean, sigma_gauss)\n",
    "signal2 = ROOT.RooCBShape(\"crystal ball\", \"\", mass, mean, sigma_cb, alpha, n)"
   ]
  },
  {
   "cell_type": "code",
   "execution_count": 4,
   "id": "alien-raleigh",
   "metadata": {},
   "outputs": [],
   "source": [
    "# Background PDF\n",
    "exp_coef = ROOT.RooRealVar(\"exp_coef\", \"\", -3, -5, 5)\n",
    "\n",
    "back_exp = ROOT.RooExponential(\"back_exp\", \"\", mass, exp_coef)"
   ]
  },
  {
   "cell_type": "code",
   "execution_count": 5,
   "id": "northern-collaboration",
   "metadata": {},
   "outputs": [],
   "source": [
    "# Model definition and fitting\n",
    "model = ROOT.RooAddPdf(\"model\", \"\", ROOT.RooArgList(signal1, signal2, back_exp),\n",
    "                       ROOT.RooArgList(frac_gauss, frac_cb), ROOT.kTRUE)"
   ]
  },
  {
   "cell_type": "code",
   "execution_count": null,
   "id": "czech-announcement",
   "metadata": {},
   "outputs": [],
   "source": [
    "result = model.fitTo(data, ROOT.RooFit.Save())"
   ]
  },
  {
   "cell_type": "code",
   "execution_count": 7,
   "id": "vanilla-cloud",
   "metadata": {},
   "outputs": [
    {
     "name": "stdout",
     "output_type": "stream",
     "text": [
      "[#1] INFO:Plotting -- RooAbsPdf::plotOn(model) directly selected PDF components: (gauss,crystal ball)\n",
      "[#1] INFO:Plotting -- RooAbsPdf::plotOn(model) indirectly selected PDF components: ()\n",
      "[#1] INFO:Plotting -- RooAbsPdf::plotOn(model) directly selected PDF components: (back_exp)\n",
      "[#1] INFO:Plotting -- RooAbsPdf::plotOn(model) indirectly selected PDF components: ()\n"
     ]
    },
    {
     "name": "stderr",
     "output_type": "stream",
     "text": [
      "Info in <TCanvas::Print>: png file Jpsi_fit.png has been created\n"
     ]
    },
    {
     "data": {
      "image/png": "[encoded data removed]",
      "text/plain": [
       "<IPython.core.display.Image object>"
      ]
     },
     "metadata": {},
     "output_type": "display_data"
    }
   ],
   "source": [
    "## Plots\n",
    "\n",
    "# Colors and styles\n",
    "colors = {\"model\" : 2, \"signal\" : 4, \"background\" : 3}\n",
    "styles = {\"model\" : 1, \"signal\" : 1, \"background\" : 2}\n",
    "\n",
    "# Canvas Definition\n",
    "can = ROOT.TCanvas(\"can\", \"histograms\", 950, 600)\n",
    "\n",
    "# Frame creation\n",
    "frame1 = mass.frame(ROOT.RooFit.Title(\"Dataset: Charmonium 2018B\"), ROOT.RooFit.Bins(100))\n",
    "frame1.GetXaxis().SetTitle(\"#\\mu^+\\mu^- #invariant \\ mass[GeV]\")\n",
    "\n",
    "# Data\n",
    "data.plotOn(frame1, ROOT.RooFit.Name(\"Data\"), ROOT.RooFit.DataError(ROOT.RooAbsData.SumW2))\n",
    "\n",
    "# Signal\n",
    "model.plotOn(frame1, ROOT.RooFit.Name(\"Signal\"), ROOT.RooFit.Components(\"gauss,crystal ball\"), ROOT.RooFit.LineStyle(styles[\"signal\"]), ROOT.RooFit.LineColor(colors[\"signal\"]))\n",
    "\n",
    "# Background\n",
    "model.plotOn(frame1, ROOT.RooFit.Name(\"Background\"), ROOT.RooFit.Components(\"back_exp\"), ROOT.RooFit.LineStyle(styles[\"background\"]), ROOT.RooFit.LineColor(colors[\"background\"]))\n",
    "\n",
    "# Model\n",
    "model.plotOn(frame1, ROOT.RooFit.Name(\"Model\"), ROOT.RooFit.LineStyle(styles[\"model\"]), ROOT.RooFit.LineColor(colors[\"model\"]))\n",
    "\n",
    "## ChiSquare computation\n",
    "n_param = result.floatParsFinal().getSize()\n",
    "reduce_chi_square = frame1.chiSquare(n_param)\n",
    "## Legends\n",
    "\n",
    "leg = ROOT.TLegend(0.7, 0.7, 0.88, 0.89)\n",
    "leg.AddEntry(frame1.findObject(\"Data\"), \"Data\", \"LEP\")\n",
    "leg.AddEntry(frame1.findObject(\"Model\"), \"Model Fit\", \"L\")\n",
    "leg.AddEntry(frame1.findObject(\"Signal\"), \"Signal Fit\", \"L\")\n",
    "leg.AddEntry(frame1.findObject(\"Background\"), \"Background fit\", \"L\")\n",
    "\n",
    "frame1.Draw()\n",
    "leg.Draw(\"same\")\n",
    "\n",
    "can.Draw()\n",
    "\n",
    "can.SaveAs(\"Jpsi_fit.png\")"
   ]
  },
  {
   "cell_type": "code",
   "execution_count": 27,
   "id": "flexible-setup",
   "metadata": {},
   "outputs": [
    {
     "name": "stdout",
     "output_type": "stream",
     "text": [
      "The number of signal events is: 6009139.837639108\n",
      "The number of background events is: 643816.1623608916\n",
      "The number of s/sqrt(b) is : 7489.130063199907\n"
     ]
    }
   ],
   "source": [
    "## yields computation\n",
    "\n",
    "# M = fgauss * Gaussian + (1 - fgauss) [fcrystall * CrystallBall + (1 - fcrystall) * exponential]\n",
    "\n",
    "# Number of signal events: Nsignal = Ntotal * [fcrystall + (1 - fcrystall) * fgauss]\n",
    "nsignal = data.sumEntries() * (frac_cb.getVal() + (1 - frac_cb.getVal()) * frac_gauss.getVal())\n",
    "\n",
    "# Number of background events: Nback = Ntotal (1 - fgauss) * (1 - fcrystall) * fexponential\n",
    "# or Ntotal - Nsignal\n",
    "nbackground = data.sumEntries() * (1 - frac_gauss.getVal()) * (1 - frac_cb.getVal())\n",
    "r'$\\alpha > \\beta$'\n",
    "print(\"The number of signal events is: {}\".format(nsignal))\n",
    "print(\"The number of background events is: {}\".format(nbackground))\n",
    "print(\"The number of s/sqrt(b) is : {}\".format(nsignal/math.sqrt(nbackground)))"
   ]
  },
  {
   "cell_type": "code",
   "execution_count": 20,
   "id": "visible-distribution",
   "metadata": {},
   "outputs": [
    {
     "data": {
      "text/plain": [
       "0.031166543883814842"
      ]
     },
     "execution_count": 20,
     "metadata": {},
     "output_type": "execute_result"
    }
   ],
   "source": [
    "## Compute the effective sigma\n",
    "# SigmaEff = fractionGauss * sigmaGauss + (1-fractionGauss) * sigmaCB\n",
    "sigma_effective = (frac_gauss.getVal() * sigma_gauss.getVal()**2 + (1 - frac_gauss.getVal()) * sigma_cb.getVal()**2)**(0.5)\n",
    "sigma_effective\n",
    "# Ref: https://root-forum.cern.ch/t/how-to-calculate-effective-sigma/39472/3"
   ]
  },
  {
   "cell_type": "code",
   "execution_count": 9,
   "id": "occupational-interval",
   "metadata": {},
   "outputs": [
    {
     "data": {
      "image/png": "[encoded data removed]",
      "text/plain": [
       "<IPython.core.display.Image object>"
      ]
     },
     "metadata": {},
     "output_type": "display_data"
    }
   ],
   "source": [
    "# Takes pull and residual histograms\n",
    "histpull = frame1.pullHist()\n",
    "histresid = frame1.residHist()\n",
    "\n",
    "# New frame to draw residual distribution\n",
    "frame2 = mass.frame(ROOT.RooFit.Title(\"Residual Distribution\"))\n",
    "frame2.GetXaxis().SetTitle()\n",
    "\n",
    "frame2 = mass.frame(ROOT.RooFit.Title(\"Residual Distribution\"))\n",
    "frame2.GetXaxis().SetTitle(\"#\\mu^+\\mu^- #invariant \\ mass[GeV]\")\n",
    "\n",
    "# Add the distribution to the frame\n",
    "frame2.addPlotable(histresid, \"P\")\n",
    "\n",
    "# New frame to draw pull distribution\n",
    "frame3 = mass.frame(ROOT.RooFit.Title(\"Pull Distribution\"))\n",
    "frame3.GetXaxis().SetTitle(\"#\\mu^+\\mu^- #invariant \\ mass[GeV]\")\n",
    "\n",
    "# Add the distribution to the frame\n",
    "frame3.addPlotable(histpull, \"P\")\n",
    "\n",
    "# New canvas to draw our distributions\n",
    "can2 = ROOT.TCanvas(\"can2\", \"Residual_pull\", 900, 300)\n",
    "can2.Divide(3)\n",
    "\n",
    "# Plot for data and fit\n",
    "can2.cd(1)\n",
    "ROOT.gPad.SetLeftMargin(0.15)\n",
    "frame1.GetYaxis().SetTitleOffset(1.6)\n",
    "frame1.Draw()\n",
    "\n",
    "# Plot for residual distribution\n",
    "can2.cd(2)\n",
    "ROOT.gPad.SetLeftMargin(0.15)\n",
    "frame2.GetYaxis().SetTitleOffset(1.6)\n",
    "frame2.Draw()\n",
    "\n",
    "# Plot for pull distribution\n",
    "\n",
    "can2.cd(3)\n",
    "ROOT.gPad.SetLeftMargin(0.15)\n",
    "frame3.GetYaxis().SetTitleOffset(1.6)\n",
    "frame3.Draw()\n",
    "\n",
    "can2.Draw()"
   ]
  },
  {
   "cell_type": "code",
   "execution_count": 22,
   "id": "smart-hampshire",
   "metadata": {},
   "outputs": [
    {
     "data": {
      "text/plain": [
       "False"
      ]
     },
     "execution_count": 22,
     "metadata": {},
     "output_type": "execute_result"
    },
    {
     "name": "stdout",
     "output_type": "stream",
     "text": [
      "[#1] INFO:ObjectHandling -- RooWorkspace::import(Dstar fit) importing dataset data\n",
      "[#1] INFO:ObjectHandling -- RooWorkspace::import(Dstar fit) importing RooRealVar::mass\n",
      "[#1] INFO:ObjectHandling -- RooWorkspace::import(Dstar fit) importing RooAddPdf::model\n",
      "[#1] INFO:ObjectHandling -- RooWorkspace::import(Dstar fit) importing RooGaussian::gauss\n",
      "[#1] INFO:ObjectHandling -- RooWorkspace::import(Dstar fit) importing RooRealVar::mean\n",
      "[#1] INFO:ObjectHandling -- RooWorkspace::import(Dstar fit) importing RooRealVar::sigma gauss\n",
      "[#1] INFO:ObjectHandling -- RooWorkspace::import(Dstar fit) importing RooRealVar::frac_gauss\n",
      "[#1] INFO:ObjectHandling -- RooWorkspace::import(Dstar fit) importing RooCBShape::crystal ball\n",
      "[#1] INFO:ObjectHandling -- RooWorkspace::import(Dstar fit) importing RooRealVar::sigma cb\n",
      "[#1] INFO:ObjectHandling -- RooWorkspace::import(Dstar fit) importing RooRealVar::alpha\n",
      "[#1] INFO:ObjectHandling -- RooWorkspace::import(Dstar fit) importing RooRealVar::n\n",
      "[#1] INFO:ObjectHandling -- RooWorkspace::import(Dstar fit) importing RooRecursiveFraction::model_recursive_fraction_crystal ball\n",
      "[#1] INFO:ObjectHandling -- RooWorkspace::import(Dstar fit) importing RooRealVar::yield_cb\n",
      "[#1] INFO:ObjectHandling -- RooWorkspace::import(Dstar fit) importing RooExponential::back_exp\n",
      "[#1] INFO:ObjectHandling -- RooWorkspace::import(Dstar fit) importing RooRealVar::exp_coef\n",
      "[#1] INFO:ObjectHandling -- RooWorkspace::import(Dstar fit) importing RooRecursiveFraction::model_recursive_fraction_back_exp\n",
      "[#1] INFO:ObjectHandling -- RooWorkspace::import(Dstar fit) importing RooConstVar::1\n"
     ]
    }
   ],
   "source": [
    "# To save workspace\n",
    "wspace = ROOT.RooWorkspace(\"Dstar fit\")\n",
    "\n",
    "getattr(wspace, \"import\")(data)\n",
    "getattr(wspace, \"import\")(model)\n",
    "\n",
    "wspace.writeToFile(\"Jpsi_fit.root\")"
   ]
  },
  {
   "cell_type": "code",
   "execution_count": null,
   "id": "stable-security",
   "metadata": {},
   "outputs": [],
   "source": [
    "Audio(sound_file, autoplay=True)"
   ]
  },
  {
   "cell_type": "code",
   "execution_count": 5,
   "id": "illegal-pasta",
   "metadata": {},
   "outputs": [
    {
     "name": "stdout",
     "output_type": "stream",
     "text": [
      "[#1] INFO:Eval -- RooAbsReal::attachToTree(jpsi_dl) TTree Float_t branch jpsi_dl will be converted to double precision\n",
      "[#1] INFO:Eval -- RooTreeDataStore::loadValues(data) Ignored 11580 out of range events\n"
     ]
    }
   ],
   "source": [
    "## Decay lenght fit\n",
    "\n",
    "# Decay lenght \n",
    "jpsi_dl = ROOT.RooRealVar(\"jpsi_dl\", \"\", -0.5, 1.30)\n",
    "\n",
    "# Data\n",
    "data = ROOT.RooDataSet(\"data\", \"\", file.Jpsi, ROOT.RooArgSet(jpsi_dl))"
   ]
  },
  {
   "cell_type": "code",
   "execution_count": 6,
   "id": "tight-essex",
   "metadata": {},
   "outputs": [],
   "source": [
    "## First try: Gaussian + exponential\n",
    "sigma_dl = ROOT.RooRealVar(\"sigma_dl\", \"\", 0.01, 5)\n",
    "\n",
    "## PDFs for prompt signal\n",
    "\n",
    "# Gaussian 1\n",
    "mean = ROOT.RooRealVar(\"mean\", \"\", 0, -0.1, 0.1)\n",
    "sigma1 = ROOT.RooRealVar(\"sigma1\", \"\", 0.01, 0, 0.1)\n",
    "frac1 = ROOT.RooRealVar(\"frac1\", \"\", 0.5, 0, 0.1)\n",
    "gauss1 = ROOT.RooGaussModel(\"gauss1\", \"\", jpsi_dl, mean, sigma1, sigma_dl)\n",
    "\n",
    "# Gaussian 2\n",
    "sigma2 = ROOT.RooRealVar(\"sigma2\", \"\", 0.01, 0, 0.1)\n",
    "frac2 = ROOT.RooRealVar(\"frac2\", \"\", 0.5, 0, 0.1)\n",
    "gauss2 = ROOT.RooGaussModel(\"gauss2\", \"\", jpsi_dl, mean, sigma2, sigma_dl)\n",
    "\n",
    "# Prompt signal: Resolution function\n",
    "prompt_signal = ROOT.RooAddModel(\"promtp_signal\", \"\", ROOT.RooArgList(gauss1, gauss2),\n",
    "                       ROOT.RooArgList(frac1), ROOT.kTRUE)\n",
    "\n",
    "## PDFs for nomprompt signal\n",
    "\n",
    "# Gaussian 3\n",
    "mean_np = ROOT.RooRealVar(\"mean_nonprompt\", \"\", 0, -0.1, 0.1)\n",
    "sigma_np1 = ROOT.RooRealVar(\"sigma_np1\", \"\", 0.01, 0, 0.1)\n",
    "frac_np1 = ROOT.RooRealVar(\"frac_np1\", \"\", 0.3, 0, 0.1)\n",
    "gauss_np1 = ROOT.RooGaussModel(\"gauss_np1\", \"\", jpsi_dl, mean_np, sigma_np1, sigma_dl)\n",
    "\n",
    "## Reference to add model: https://root.cern/doc/master/rf209__anaconv_8C.html"
   ]
  },
  {
   "cell_type": "code",
   "execution_count": 14,
   "id": "gothic-saver",
   "metadata": {},
   "outputs": [],
   "source": [
    "# Exponential decay\n",
    "tau = ROOT.RooRealVar(\"tau\", \"\", 1.5, 0, 3)\n",
    "\n",
    "# PDF for nompromt signal\n",
    "frac_exp = ROOT.RooRealVar(\"frac_exp\", \"\", 0.3, 0, 1)\n",
    "exp_decay = ROOT.RooDecay(\"exp_decay\", \"\", jpsi_dl, tau, gauss_np1, ROOT.RooDecay.SingleSided)"
   ]
  },
  {
   "cell_type": "code",
   "execution_count": 16,
   "id": "yellow-avenue",
   "metadata": {},
   "outputs": [],
   "source": [
    "# Model pdf\n",
    "model = ROOT.RooAddModel(\"model\", \"\", ROOT.RooArgList(prompt_signal, exp_decay),\n",
    "                                      ROOT.RooArgList(frac_exp), ROOT.kTRUE)"
   ]
  },
  {
   "cell_type": "code",
   "execution_count": 17,
   "id": "technological-cyprus",
   "metadata": {},
   "outputs": [
    {
     "name": "stdout",
     "output_type": "stream",
     "text": [
      "[#1] INFO:Minization -- RooMinimizer::optimizeConst: activating const optimization\n",
      " **********\n",
      " **    1 **SET PRINT           1\n",
      " **********\n",
      " **********\n",
      " **    2 **SET NOGRAD\n",
      " **********\n",
      " PARAMETER DEFINITIONS:\n",
      "    NO.   NAME         VALUE      STEP SIZE      LIMITS\n",
      "     1 frac1        1.00000e-01  1.00000e-02    0.00000e+00  1.00000e-01\n",
      " MINUIT WARNING IN PARAM DEF\n",
      " ============== STARTING VALUE IS AT LIMIT.\n",
      " MINUIT WARNING IN PARAMETR\n",
      " ============== VARIABLE1 IS AT ITS UPPER ALLOWED LIMIT.\n",
      " MINUIT WARNING IN PARAMETR\n",
      " ============== VARIABLE1 BROUGHT BACK INSIDE LIMITS.\n",
      "     2 frac_exp     3.00000e-01  1.00000e-01    0.00000e+00  1.00000e+00\n",
      "     3 mean         0.00000e+00  2.00000e-02   -1.00000e-01  1.00000e-01\n",
      "     4 mean_nonprompt   0.00000e+00  2.00000e-02   -1.00000e-01  1.00000e-01\n",
      "     5 sigma1       1.00000e-02  5.00000e-03    0.00000e+00  1.00000e-01\n",
      "     6 sigma_dl     2.50500e+00  4.99000e-01    1.00000e-02  5.00000e+00\n",
      "     7 sigma_np1    1.00000e-02  5.00000e-03    0.00000e+00  1.00000e-01\n",
      "     8 tau          1.50000e+00  3.00000e-01    0.00000e+00  3.00000e+00\n",
      " **********\n",
      " **    3 **SET ERR         0.5\n",
      " **********\n",
      " **********\n",
      " **    4 **SET PRINT           1\n",
      " **********\n",
      " **********\n",
      " **    5 **SET STR           1\n",
      " **********\n",
      " NOW USING STRATEGY  1: TRY TO BALANCE SPEED AGAINST RELIABILITY\n",
      " **********\n",
      " **    6 **MIGRAD        4000           1\n",
      " **********\n",
      " FIRST CALL TO USER FUNCTION AT NEW START POINT, WITH IFLAG=4.\n",
      " MINUIT WARNING IN MIGrad    \n",
      " ============== VARIABLE1 IS AT ITS UPPER ALLOWED LIMIT.\n",
      " START MIGRAD MINIMIZATION.  STRATEGY  1.  CONVERGENCE WHEN EDM .LT. 1.00e-03\n",
      " FCN=-4.58405e+06 FROM MIGRAD    STATUS=INITIATE      155 CALLS         156 TOTAL\n",
      "                     EDM= unknown      STRATEGY= 1      NO ERROR MATRIX       \n",
      "  EXT PARAMETER               CURRENT GUESS       STEP         FIRST   \n",
      "  NO.   NAME      VALUE            ERROR          SIZE      DERIVATIVE \n",
      "   1  frac1        5.32041e-02   1.00000e-02   0.00000e+00   1.90794e+04\n",
      "   2  frac_exp     3.00000e-01   1.00000e-01   0.00000e+00   2.71870e+05\n",
      "   3  mean        -7.04305e-02   2.00000e-02   0.00000e+00   1.89444e+05\n",
      "   4  mean_nonprompt   0.00000e+00   2.00000e-02   0.00000e+00  -1.81578e+06\n",
      "   5  sigma1       1.00000e-02   5.00000e-03   0.00000e+00  -2.89823e+06\n",
      "   6  sigma_dl     2.50500e+00   4.99000e-01   0.00000e+00  -1.43520e+06\n",
      "   7  sigma_np1    1.00000e-02   5.00000e-03   0.00000e+00  -8.60776e+05\n",
      "   8  tau          1.34746e-01   3.00000e-01  -4.57548e-01  -4.37861e+06\n",
      "                               ERR DEF= 0.5\n",
      " MIGRAD MINIMIZATION HAS CONVERGED.\n",
      " FCN=-5.22009e+06 FROM MIGRAD    STATUS=CONVERGED     421 CALLS         422 TOTAL\n",
      "                     EDM=2.15834e-05    STRATEGY= 1  ERROR MATRIX UNCERTAINTY   2.5 per cent\n",
      "  EXT PARAMETER                                   STEP         FIRST   \n",
      "  NO.   NAME      VALUE            ERROR          SIZE      DERIVATIVE \n",
      "   1  frac1        1.00000e-01   6.82890e-07  -8.60210e-05** at limit **\n",
      "   2  frac_exp     3.47159e-01   3.20890e-04  -3.61330e-05   4.52300e+00\n",
      "   3  mean        -3.17965e-02   8.39770e-05   1.38064e-05   1.68006e+00\n",
      "   4  mean_nonprompt   2.17275e-03   7.76594e-06  -5.66628e-07  -1.80397e+01\n",
      "   5  sigma1       3.16646e-02   4.26306e-05   3.69976e-05  -4.99758e+00\n",
      "   6  sigma_dl     3.00187e+00   1.47015e-03   1.83639e-05  -4.22226e-01\n",
      "   7  sigma_np1    6.76093e-03   6.60012e-06  -1.05733e-05   1.15972e+01\n",
      "   8  tau          1.70323e-01   9.22311e-05  -1.95073e-06   8.80128e+00\n",
      "                               ERR DEF= 0.5\n",
      " EXTERNAL ERROR MATRIX.    NDIM=  25    NPAR=  8    ERR DEF=0.5\n",
      "  6.212e-19  1.002e-16  1.196e-15 -2.091e-17 -1.055e-15  4.770e-14 -1.347e-16  3.101e-16 \n",
      "  1.002e-16  1.030e-07  6.082e-09  1.584e-09  2.352e-09  8.837e-08  6.926e-10  1.075e-08 \n",
      "  1.196e-15  6.082e-09  7.052e-09  7.721e-11  2.021e-09  4.389e-08 -6.529e-11  7.267e-10 \n",
      " -2.091e-17  1.584e-09  7.721e-11  6.031e-11 -5.465e-12  2.291e-10  2.378e-11  1.754e-10 \n",
      " -1.055e-15  2.352e-09  2.021e-09 -5.465e-12  1.817e-09  4.850e-08 -7.362e-11  3.936e-10 \n",
      "  4.770e-14  8.837e-08  4.389e-08  2.291e-10  4.850e-08  2.161e-06 -1.567e-09  9.338e-09 \n",
      " -1.347e-16  6.926e-10 -6.529e-11  2.378e-11 -7.362e-11 -1.567e-09  4.356e-11  7.808e-11 \n",
      "  3.101e-16  1.075e-08  7.267e-10  1.754e-10  3.936e-10  9.338e-09  7.808e-11  8.507e-09 \n",
      " PARAMETER  CORRELATION COEFFICIENTS  \n",
      "       NO.  GLOBAL      1      2      3      4      5      6      7      8\n",
      "        1  0.13244   1.000  0.000  0.018 -0.003 -0.031  0.041 -0.026  0.004\n",
      "        2  0.70017   0.000  1.000  0.226  0.636  0.172  0.187  0.327  0.363\n",
      "        3  0.60220   0.018  0.226  1.000  0.118  0.565  0.356 -0.118  0.094\n",
      "        4  0.69468  -0.003  0.636  0.118  1.000 -0.017  0.020  0.464  0.245\n",
      "        5  0.84618  -0.031  0.172  0.565 -0.017  1.000  0.774 -0.262  0.100\n",
      "        6  0.78749   0.041  0.187  0.356  0.020  0.774  1.000 -0.161  0.069\n",
      "        7  0.54299  -0.026  0.327 -0.118  0.464 -0.262 -0.161  1.000  0.128\n",
      "        8  0.37009   0.004  0.363  0.094  0.245  0.100  0.069  0.128  1.000\n",
      " **********\n",
      " **    7 **SET ERR         0.5\n",
      " **********\n",
      " **********\n",
      " **    8 **SET PRINT           1\n",
      " **********\n",
      " **********\n",
      " **    9 **HESSE        4000\n",
      " **********\n",
      " COVARIANCE MATRIX CALCULATED SUCCESSFULLY\n",
      " FCN=-5.22009e+06 FROM HESSE     STATUS=OK             73 CALLS         495 TOTAL\n",
      "                     EDM=3.41195e-05    STRATEGY= 1      ERROR MATRIX ACCURATE \n",
      "  EXT PARAMETER                                INTERNAL      INTERNAL  \n",
      "  NO.   NAME      VALUE            ERROR       STEP SIZE       VALUE   \n",
      "   1  frac1        1.00000e-01   7.01806e-07   8.35984e-03  -4.71239e+00\n",
      "                                 WARNING -   - ABOVE PARAMETER IS AT LIMIT.\n",
      "   2  frac_exp     3.47159e-01   3.21593e-04   7.63495e-04  -3.10655e-01\n",
      "   3  mean        -3.17965e-02   3.50498e-04   1.22329e-03  -3.23582e-01\n",
      "   4  mean_nonprompt   2.17275e-03   2.45926e-05   8.87742e-05   2.17292e-02\n",
      "   5  sigma1       3.16646e-02   3.40307e-04   1.71248e-03  -3.75469e-01\n",
      "   6  sigma_dl     3.00187e+00   3.21227e-02   1.53521e-03   2.00488e-01\n",
      "   7  sigma_np1    6.76093e-03   7.25558e-05   3.67397e-04  -1.04471e+00\n",
      "   8  tau          1.70323e-01   9.32870e-05   1.97151e-04  -1.08962e+00\n",
      "                               ERR DEF= 0.5\n",
      " EXTERNAL ERROR MATRIX.    NDIM=  25    NPAR=  8    ERR DEF=0.5\n",
      "  6.384e-19  1.795e-16 -1.909e-16  5.873e-18 -4.263e-17 -7.749e-16  1.510e-17  2.470e-17 \n",
      "  1.795e-16  1.034e-07  5.863e-09  1.624e-09  3.026e-09  3.776e-08  8.136e-10  1.094e-08 \n",
      " -1.909e-16  5.863e-09  1.228e-07 -7.845e-09 -1.126e-07  1.095e-05 -2.461e-08  9.456e-10 \n",
      "  5.873e-18  1.624e-09 -7.845e-09  6.048e-10  7.860e-09 -7.480e-07  1.709e-09  1.804e-10 \n",
      " -4.263e-17  3.026e-09 -1.126e-07  7.860e-09  1.158e-07 -1.078e-05  2.431e-08  4.342e-10 \n",
      " -7.749e-16  3.776e-08  1.095e-05 -7.480e-07 -1.078e-05  1.032e-03 -2.320e-06  7.531e-09 \n",
      "  1.510e-17  8.136e-10 -2.461e-08  1.709e-09  2.431e-08 -2.320e-06  5.264e-09  8.311e-11 \n",
      "  2.470e-17  1.094e-08  9.456e-10  1.804e-10  4.342e-10  7.531e-09  8.311e-11  8.702e-09 \n",
      " PARAMETER  CORRELATION COEFFICIENTS  \n",
      "       NO.  GLOBAL      1      2      3      4      5      6      7      8\n",
      "        1  0.00374   1.000  0.001 -0.001  0.000 -0.000 -0.000  0.000  0.000\n",
      "        2  0.69771   0.001  1.000  0.052  0.205  0.028  0.004  0.035  0.365\n",
      "        3  0.97776  -0.001  0.052  1.000 -0.910 -0.944  0.972 -0.968  0.029\n",
      "        4  0.97349   0.000  0.205 -0.910  1.000  0.939 -0.947  0.958  0.079\n",
      "        5  0.98893  -0.000  0.028 -0.944  0.939  1.000 -0.986  0.985  0.014\n",
      "        6  0.99725  -0.000  0.004  0.972 -0.947 -0.986  1.000 -0.995  0.003\n",
      "        7  0.99675   0.000  0.035 -0.968  0.958  0.985 -0.995  1.000  0.012\n",
      "        8  0.36771   0.000  0.365  0.029  0.079  0.014  0.003  0.012  1.000\n",
      "[#1] INFO:Minization -- RooMinimizer::optimizeConst: deactivating const optimization\n"
     ]
    }
   ],
   "source": [
    "result = model.fitTo(data, ROOT.RooFit.ConditionalObservables(ROOT.RooArgSet(sigma_dl)))"
   ]
  },
  {
   "cell_type": "code",
   "execution_count": 18,
   "id": "moved-sequence",
   "metadata": {},
   "outputs": [
    {
     "data": {
      "image/png": "[encoded data removed]",
      "text/plain": [
       "<IPython.core.display.Image object>"
      ]
     },
     "metadata": {},
     "output_type": "display_data"
    }
   ],
   "source": [
    "frame1 = jpsi_dl.frame(ROOT.RooFit.Title(\"Dataset: Charmonium 2018B\"), ROOT.RooFit.Bins(100))\n",
    "data.plotOn(frame1, ROOT.RooFit.Name(\"jpsi_dl\"), ROOT.RooFit.DataError(ROOT.RooAbsData.SumW2))\n",
    "exp_decay.plotOn(frame1,ROOT.RooFit.ProjWData(data) )\n",
    "\n",
    "can = ROOT.TCanvas(\"can\", \"histograms\", 850, 600)\n",
    "can.Draw()\n",
    "frame1.Draw()"
   ]
  },
  {
   "cell_type": "code",
   "execution_count": 18,
   "id": "apart-broad",
   "metadata": {},
   "outputs": [],
   "source": [
    "# Model definition and fitting\n",
    "model = ROOT.RooAddPdf(\"model\", \"\", ROOT.RooArgList(resolution_function, nonprompt, background),\n",
    "                       ROOT.RooArgList(frac_resolution_function, frac_nonprompt), ROOT.kTRUE)"
   ]
  },
  {
   "cell_type": "code",
   "execution_count": null,
   "id": "noble-scanner",
   "metadata": {},
   "outputs": [],
   "source": [
    "result = model.fitTo(data, ROOT.RooFit.Save())"
   ]
  },
  {
   "cell_type": "code",
   "execution_count": 17,
   "id": "massive-adaptation",
   "metadata": {},
   "outputs": [
    {
     "name": "stdout",
     "output_type": "stream",
     "text": [
      "[#0] ERROR:InputArguments -- RooPlot::findObject(frame_jpsi_dl_55db45c57000) cannot find object Data\n",
      "[#0] ERROR:InputArguments -- RooPlot::findObject(frame_jpsi_dl_55db45c57000) cannot find object Model\n",
      "[#0] ERROR:InputArguments -- RooPlot::findObject(frame_jpsi_dl_55db45c57000) cannot find object Signal\n",
      "[#0] ERROR:InputArguments -- RooPlot::findObject(frame_jpsi_dl_55db45c57000) cannot find object Background\n"
     ]
    },
    {
     "name": "stderr",
     "output_type": "stream",
     "text": [
      "Warning in <TCanvas::Constructor>: Deleting canvas with same name: can\n",
      "Info in <TCanvas::Print>: png file Jpsi_fit.png has been created\n"
     ]
    },
    {
     "data": {
      "image/png": "[encoded data removed]",
      "text/plain": [
       "<IPython.core.display.Image object>"
      ]
     },
     "metadata": {},
     "output_type": "display_data"
    }
   ],
   "source": [
    "## Plots\n",
    "\n",
    "# Colors and styles\n",
    "colors = {\"model\" : 2, \"prompt\" : 4, \"nonprompt\" : 3, \"background\": 1}\n",
    "styles = {\"model\" : 1, \"prompt\" : 1, \"nonprompt\" : 2, \"background\": 2}\n",
    "\n",
    "# Canvas Definition\n",
    "can = ROOT.TCanvas(\"can\", \"histograms\", 950, 600)\n",
    "\n",
    "# Frame creation\n",
    "frame1 = jpsi_dl.frame(ROOT.RooFit.Title(\"Dataset: Charmonium 2018B\"), ROOT.RooFit.Bins(100))\n",
    "frame1.GetXaxis().SetTitle(\"#\\mu^+\\mu^- Decay \\ length \\ [cm]\")\n",
    "\n",
    "# Data\n",
    "data.plotOn(frame1, ROOT.RooFit.Name(\"jpsi_dl\"), ROOT.RooFit.DataError(ROOT.RooAbsData.SumW2))\n",
    "\n",
    "# Prompt\n",
    "#model.plotOn(frame1, ROOT.RooFit.Name(\"Prompt\"), ROOT.RooFit.Components(\"resolution_function\"), ROOT.RooFit.LineStyle(styles[\"prompt\"]), ROOT.RooFit.LineColor(colors[\"prompt\"]))\n",
    "\n",
    "# Nonprompt\n",
    "#model.plotOn(frame1, ROOT.RooFit.Name(\"Nonprompt\"), ROOT.RooFit.Components(\"nonprompt\"), ROOT.RooFit.LineStyle(styles[\"nonprompt\"]), ROOT.RooFit.LineColor(colors[\"nonprompt\"]))\n",
    "\n",
    "# Background\n",
    "#model.plotOn(frame1, ROOT.RooFit.Name(\"Background\"), ROOT.RooFit.Components(\"background\"), ROOT.RooFit.LineStyle(styles[\"background\"]), ROOT.RooFit.LineColor(colors[\"background\"]))\n",
    "\n",
    "# Model\n",
    "#model.plotOn(frame1, ROOT.RooFit.Name(\"Model\"), ROOT.RooFit.LineStyle(styles[\"model\"]), ROOT.RooFit.LineColor(colors[\"model\"]))\n",
    "\n",
    "\n",
    "## ChiSquare computation\n",
    "#n_param = result.floatParsFinal().getSize()\n",
    "#reduce_chi_square = frame1.chiSquare(n_param)\n",
    "## Legends\n",
    "\n",
    "leg = ROOT.TLegend(0.7, 0.7, 0.88, 0.89)\n",
    "leg.AddEntry(frame1.findObject(\"Data\"), \"Data\", \"LEP\")\n",
    "leg.AddEntry(frame1.findObject(\"Model\"), \"Model Fit\", \"L\")\n",
    "leg.AddEntry(frame1.findObject(\"Signal\"), \"Signal Fit\", \"L\")\n",
    "leg.AddEntry(frame1.findObject(\"Background\"), \"Background fit\", \"L\")\n",
    "\n",
    "frame1.Draw()\n",
    "leg.Draw(\"same\")\n",
    "\n",
    "can.Draw()\n",
    "\n",
    "can.SaveAs(\"Jpsi_fit.png\")"
   ]
  },
  {
   "cell_type": "code",
   "execution_count": null,
   "id": "scenic-syria",
   "metadata": {},
   "outputs": [],
   "source": [
    "############################################### Backup ######################################################################\n",
    "\n",
    "## Prompt Signal PDF: Resolution function -> Sum of two gaussians\n",
    "\n",
    "# Gaussian widht: decay lenght uncertainty (calculate this) * Scale factor\n",
    "\n",
    "# uncertainty\n",
    "#uncert = ROOT.RooRealVar(\"sigma\", \"Decay length uncertainty\", 0.01, 0.001, 0.5)\n",
    "#scale_factor1 = ROOT.RooRealVar(\"scale_factor1\", \"Global Scale Factor\", 1, 0, 1.2)\n",
    "#scale_factor2 = ROOT.RooRealVar(\"scale_factor2\", \"Global Scale Factor\", 1, 0, 1.2)\n",
    "\n",
    "# mean_dl\n",
    "mean_prompt = ROOT.RooRealVar(\"mean\", \"\", 0, -0.1, 0.1)\n",
    "sigma1 = ROOT.RooRealVar(\"sigma1\", 0.01, -0.1, 0.1)\n",
    "sigma2 = ROOT.RooRealVar(\"sigma2\", 0.01, -0.1, 0.1)\n",
    "#sigma1 = ROOT.RooFormulaVar(\"sigma1\", \"@0*@1\", ROOT.RooArgList(uncert, scale_factor1))\n",
    "#sigma2 = ROOT.RooFormulaVar(\"sigma2\", \"@0*@1\", ROOT.RooArgList(uncert, scale_factor2))\n",
    "\n",
    "# Gaussians fractions\n",
    "frac_gauss1 = ROOT.RooRealVar(\"frac_gauss1\", \"\", 0.6, 0.0, 1.0)\n",
    "frac_gauss2 = ROOT.RooRealVar(\"frac_gauss2\", \"\", 0.5, 0.0, 1.0)\n",
    "\n",
    "gauss1 = ROOT.RooGaussian(\"gauss1\", \"\", dl, mean_prompt, sigma1)\n",
    "gauss2 = ROOT.RooGaussian(\"gauss2\", \"\", dl, mean_prompt, sigma2)\n",
    "\n",
    "resolution_function_prompt = ROOT.RooAddPdf(\"resolution_function_prompt\", \"\", ROOT.RooArgList(gauss1, gauss2), ROOT.RooArgList(frac_gauss1, frac_gauss2))\n",
    "frac_prompt = ROOT.RooRealVar(\"frac_resolution_function_prompt\", \"\", 0.6, 0.0, 1.0)\n",
    "\n",
    "##  Nonprompt: Exponential convolved with an resolution function\n",
    "\n",
    "# Exponential\n",
    "exp_coef = ROOT.RooRealVar(\"exp_cof\", \"\", -1.0, -4.0, 4.0)\n",
    "exponential = ROOT.RooExponential(\"nonprompt_expo\", \"\", dl, exp_coef)\n",
    "\n",
    "## Resolution function for nonprompt\n",
    "\n",
    "# uncertainty\n",
    "#uncert = ROOT.RooRealVar(\"sigma\", \"Decay length uncertainty\", 0.01, 0.001, 0.5)\n",
    "#scale_factor1 = ROOT.RooRealVar(\"scale_factor1\", \"Global Scale Factor\", 1, 0, 1.2)\n",
    "#scale_factor2 = ROOT.RooRealVar(\"scale_factor2\", \"Global Scale Factor\", 1, 0, 1.2)\n",
    "\n",
    "# mean_dl\n",
    "mean_nonprompt = ROOT.RooRealVar(\"mean\", \"\", 0, -0.1, 0.1)\n",
    "sigma1 = ROOT.RooRealVar(\"sigma1\", 0.01, -0.1, 0.1)\n",
    "sigma2 = ROOT.RooRealVar(\"sigma2\", 0.01, -0.1, 0.1)\n",
    "#sigma1 = ROOT.RooFormulaVar(\"sigma1\", \"@0*@1\", ROOT.RooArgList(uncert, scale_factor1))\n",
    "#sigma2 = ROOT.RooFormulaVar(\"sigma2\", \"@0*@1\", ROOT.RooArgList(uncert, scale_factor2))\n",
    "\n",
    "# Gaussians fractions\n",
    "frac_gauss1 = ROOT.RooRealVar(\"frac_gauss1\", \"\", 0.6, 0.0, 1.0)\n",
    "frac_gauss2 = ROOT.RooRealVar(\"frac_gauss2\", \"\", 0.5, 0.0, 1.0)\n",
    "\n",
    "gauss1 = ROOT.RooGaussian(\"gauss1\", \"\", dl, mean_prompt, sigma1)\n",
    "gauss2 = ROOT.RooGaussian(\"gauss2\", \"\", dl, mean_prompt, sigma2)\n",
    "\n",
    "resolution_function_prompt = ROOT.RooAddPdf(\"resolution_function_prompt\", \"\", ROOT.RooArgList(gauss1, gauss2), ROOT.RooArgList(frac_gauss1, frac_gauss2))\n",
    "frac_resolution_function_prompt = ROOT.RooRealVar(\"frac_resolution_function_prompt\", \"\", 0.6, 0.0, 1.0)\n",
    "\n",
    "nonprompt = ROOT.RooFFTConvPdf (\"nomprompt_conv\", \"\", dl, resolution_function, exponential)\n",
    "frac_nonprompt =  ROOT.RooRealVar(\"frac_nonprompt\", \"\", 0.1, 0.0, 1.0)\n",
    "\n",
    "## Background: Exponential decay function + resolution\n",
    "\n",
    "#exp_decay_coef = ROOT.RooRealVar(\"exp_decay_coef\", \"\", -0.5, -4, 4)\n",
    "#exp_decay = ROOT.RooDecay(\"exp_decay\", \"\", dl, exp_decay_coef, ,)\n",
    "frac_exp_decay = ROOT.RooRealVar(\"frac_exp_decay\", \"\", 0.1, 0.0, 1.0)\n",
    "\n",
    "background = ROOT.RooAddPdf(\"background\", \"\", ROOT.RooArgList(gauss1, gauss2, exponential), ROOT.RooArgList(gauss1, gauss2))"
   ]
  },
  {
   "cell_type": "code",
   "execution_count": 71,
   "id": "electrical-ebony",
   "metadata": {},
   "outputs": [
    {
     "name": "stdout",
     "output_type": "stream",
     "text": [
      "[#1] INFO:Eval -- RooAbsReal::attachToTree(jpsi_mass) TTree Float_t branch jpsi_mass will be converted to double precision\n",
      "[#1] INFO:Eval -- RooAbsReal::attachToTree(dstar_mass) TTree Float_t branch dstar_mass will be converted to double precision\n",
      "[#1] INFO:Eval -- RooTreeDataStore::loadValues(data) Ignored 4816 out of range events\n"
     ]
    }
   ],
   "source": [
    "### Tesf for yields associated\n",
    "\n",
    "save_path = \"../output/Charmonium2018B_test/\"\n",
    "\n",
    "file = ROOT.TFile.Open(save_path + \"DstarJpsi_asso_charmonium_2018B.root\")\n",
    "\n",
    "file = ROOT.TFile.Open(save_path + \"DstarJpsi_asso_charmonium_2018B.root\")\n",
    "\n",
    "jpsi_mass = ROOT.RooRealVar(\"jpsi_mass\", \"Mass Jpsi\", 2.95, 3.25)\n",
    "dstar_mass = ROOT.RooRealVar(\"dstar_mass\", \"Dstar Delta m \", 0.14, 0.16)\n",
    "\n",
    "data = ROOT.RooDataSet(\"data\", \n",
    "                       \"Data 2D Jpsi + Dstar\", \n",
    "                       ROOT.RooArgSet(jpsi_mass, dstar_mass), \n",
    "                       ROOT.RooFit.Import(file.asso))"
   ]
  },
  {
   "cell_type": "code",
   "execution_count": 73,
   "id": "broke-decade",
   "metadata": {},
   "outputs": [
    {
     "name": "stdout",
     "output_type": "stream",
     "text": [
      "[#1] INFO:Eval -- RooAbsReal::attachToTree(jpsi_mass) TTree Float_t branch jpsi_mass will be converted to double precision\n",
      "[#1] INFO:Eval -- RooTreeDataStore::loadValues(data) Ignored 1417 out of range events\n"
     ]
    }
   ],
   "source": [
    "datajpsi = ROOT.RooDataSet(\"data\", \"Data 2D Jpsi + Dstar\", file.asso,  ROOT.RooArgSet(jpsi_mass))"
   ]
  },
  {
   "cell_type": "code",
   "execution_count": 74,
   "id": "mineral-pottery",
   "metadata": {},
   "outputs": [
    {
     "data": {
      "text/plain": [
       "9635.0"
      ]
     },
     "execution_count": 74,
     "metadata": {},
     "output_type": "execute_result"
    }
   ],
   "source": [
    "dataj.sumEntries()"
   ]
  },
  {
   "cell_type": "code",
   "execution_count": 75,
   "id": "valued-yugoslavia",
   "metadata": {},
   "outputs": [
    {
     "name": "stdout",
     "output_type": "stream",
     "text": [
      "[#1] INFO:Eval -- RooAbsReal::attachToTree(dstar_mass) TTree Float_t branch dstar_mass will be converted to double precision\n",
      "[#1] INFO:Eval -- RooTreeDataStore::loadValues(data) Ignored 3892 out of range events\n"
     ]
    }
   ],
   "source": [
    "datadstar = ROOT.RooDataSet(\"data\", \"Data 2D Jpsi + Dstar\", file.asso,  ROOT.RooArgSet(dstar_mass))"
   ]
  },
  {
   "cell_type": "code",
   "execution_count": 76,
   "id": "parliamentary-scottish",
   "metadata": {},
   "outputs": [
    {
     "data": {
      "text/plain": [
       "7160.0"
      ]
     },
     "execution_count": 76,
     "metadata": {},
     "output_type": "execute_result"
    }
   ],
   "source": [
    "datad.sumEntries()"
   ]
  },
  {
   "cell_type": "code",
   "execution_count": 77,
   "id": "leading-patient",
   "metadata": {},
   "outputs": [
    {
     "data": {
      "text/plain": [
       "6236.0"
      ]
     },
     "execution_count": 77,
     "metadata": {},
     "output_type": "execute_result"
    }
   ],
   "source": [
    "data.sumEntries()"
   ]
  },
  {
   "cell_type": "code",
   "execution_count": 78,
   "id": "muslim-architect",
   "metadata": {},
   "outputs": [],
   "source": [
    "file = ROOT.TFile.Open(save_path + \"DstarJpsi_asso_charmonium_2018B.root\")\n"
   ]
  },
  {
   "cell_type": "code",
   "execution_count": null,
   "id": "everyday-sheet",
   "metadata": {},
   "outputs": [],
   "source": []
  }
 ],
 "metadata": {
  "kernelspec": {
   "display_name": "Python 3 (ipykernel)",
   "language": "python",
   "name": "python3"
  },
  "language_info": {
   "codemirror_mode": {
    "name": "ipython",
    "version": 3
   },
   "file_extension": ".py",
   "mimetype": "text/x-python",
   "name": "python",
   "nbconvert_exporter": "python",
   "pygments_lexer": "ipython3",
   "version": "3.9.7"
  }
 },
 "nbformat": 4,
 "nbformat_minor": 5
}
