{
 "cells": [
  {
   "cell_type": "code",
   "execution_count": 1,
   "id": "external-general",
   "metadata": {},
   "outputs": [
    {
     "name": "stdout",
     "output_type": "stream",
     "text": [
      "Welcome to JupyROOT 6.16/00\n"
     ]
    }
   ],
   "source": [
    "import ROOT"
   ]
  },
  {
   "cell_type": "code",
   "execution_count": 2,
   "id": "ordered-brass",
   "metadata": {},
   "outputs": [
    {
     "name": "stdout",
     "output_type": "stream",
     "text": [
      "\n",
      "\u001b[1mRooFit v3.60 -- Developed by Wouter Verkerke and David Kirkby\u001b[0m \n",
      "                Copyright (C) 2000-2013 NIKHEF, University of California & Stanford University\n",
      "                All rights reserved, please read http://roofit.sourceforge.net/license.txt\n",
      "\n",
      "[#1] INFO:Eval -- RooAbsReal::attachToTree(mass) TTree Float_t branch mass will be converted to double precision\n"
     ]
    }
   ],
   "source": [
    "file = ROOT.TFile.Open(\"../output/Charmonium2018B_test/jpsi_charmonium_2018B.root\")\n",
    "\n",
    "mass = ROOT.RooRealVar(\"mass\", \"\", 2.95, 3.25)\n",
    "data = ROOT.RooDataSet(\"data\", \"\", file.Jpsi, ROOT.RooArgSet(mass))"
   ]
  },
  {
   "cell_type": "code",
   "execution_count": 3,
   "id": "defined-communist",
   "metadata": {},
   "outputs": [],
   "source": [
    "#Signal PDFs\n",
    "\n",
    "## Signal PDF: Crystal ball and gaussian\n",
    "\n",
    "yield_gauss = ROOT.RooRealVar(\"yield_gauss\",\"\", 1e5, 0, 1e6)\n",
    "mean = ROOT.RooRealVar(\"mean\", \"\", 3.09, 2.95, 3.25)\n",
    "sigma_gauss = ROOT.RooRealVar(\"sigma gauss\", \"\", 0.1, 0.000001, 1)\n",
    "\n",
    "yield_cb = ROOT.RooRealVar(\"yield_cb\",\"\", 1e5, 0, 1e6)\n",
    "sigma_cb = ROOT.RooRealVar(\"sigma cb\", \"\", 0.1, 0.000001, 1)\n",
    "\n",
    "alpha = ROOT.RooRealVar(\"alpha\", \"\", 1.4, 0, 10)\n",
    "n = ROOT.RooRealVar(\"n\", \"\", 99, 0, 100)\n",
    "n.setConstant(True)\n",
    "\n",
    "gauss = ROOT.RooGaussian(\"gauss\", \"\", mass, mean, sigma_gauss)\n",
    "crystal_ball = ROOT.RooCBShape(\"crystal ball\", \"\", mass, mean, sigma_cb, alpha, n)"
   ]
  },
  {
   "cell_type": "code",
   "execution_count": 4,
   "id": "requested-format",
   "metadata": {},
   "outputs": [],
   "source": [
    "# Background PDF\n",
    "yield_back = ROOT.RooRealVar(\"yield_back\", \"\", 1e4, 0, 1e5)\n",
    "exp_coef = ROOT.RooRealVar(\"exp_coef\", \"\", -3, -5, 5)\n",
    "\n",
    "back_exp = ROOT.RooExponential(\"back_exp\", \"\", mass, exp_coef)"
   ]
  },
  {
   "cell_type": "code",
   "execution_count": 5,
   "id": "finnish-paraguay",
   "metadata": {},
   "outputs": [],
   "source": [
    "# Model definition and fitting\n",
    "model = ROOT.RooAddPdf(\"model\", \"\", ROOT.RooArgList(gauss, crystal_ball, back_exp),\n",
    "                       ROOT.RooArgList(yield_gauss, yield_cb, yield_back))"
   ]
  },
  {
   "cell_type": "code",
   "execution_count": 6,
   "id": "polar-witch",
   "metadata": {},
   "outputs": [
    {
     "name": "stdout",
     "output_type": "stream",
     "text": [
      "[#1] INFO:Eval -- RooRealVar::setRange(mass) new range named 'fit' created with bounds [2.95,3.25]\n",
      "[#1] INFO:Fitting -- RooAbsOptTestStatistic::ctor(nll_model_data) constructing test statistic for sub-range named fit\n",
      "[#1] INFO:Eval -- RooRealVar::setRange(mass) new range named 'NormalizationRangeForfit' created with bounds [2.95,3.25]\n",
      "[#1] INFO:Eval -- RooRealVar::setRange(mass) new range named 'fit_nll_model_data' created with bounds [2.95,3.25]\n",
      "[#1] INFO:Fitting -- RooAbsOptTestStatistic::ctor(nll_model_data) fixing interpretation of coefficients of any RooAddPdf to full domain of observables \n",
      "[#1] INFO:Minization -- RooMinimizer::optimizeConst: activating const optimization\n",
      "[#1] INFO:Minization --  The following expressions will be evaluated in cache-and-track mode: (gauss,crystal ball,back_exp)\n",
      " **********\n",
      " **    1 **SET PRINT           1\n",
      " **********\n",
      " **********\n",
      " **    2 **SET NOGRAD\n",
      " **********\n",
      " PARAMETER DEFINITIONS:\n",
      "    NO.   NAME         VALUE      STEP SIZE      LIMITS\n",
      "     1 alpha        1.40000e+00  7.00000e-01    0.00000e+00  1.00000e+01\n",
      "     2 exp_coef    -3.00000e+00  1.00000e+00   -5.00000e+00  5.00000e+00\n",
      "     3 mean         3.09000e+00  3.00000e-02    2.95000e+00  3.25000e+00\n",
      "     4 sigma cb     1.00000e-01  4.99995e-02    1.00000e-06  1.00000e+00\n",
      "     5 sigma gauss   1.00000e-01  4.99995e-02    1.00000e-06  1.00000e+00\n",
      "     6 yield_back   1.00000e+04  5.00000e+03    0.00000e+00  1.00000e+05\n",
      "     7 yield_cb     1.00000e+05  5.00000e+04    0.00000e+00  1.00000e+06\n",
      "     8 yield_gauss   1.00000e+05  5.00000e+04    0.00000e+00  1.00000e+06\n",
      " **********\n",
      " **    3 **SET ERR         0.5\n",
      " **********\n",
      " **********\n",
      " **    4 **SET PRINT           1\n",
      " **********\n",
      " **********\n",
      " **    5 **SET STR           1\n",
      " **********\n",
      " NOW USING STRATEGY  1: TRY TO BALANCE SPEED AGAINST RELIABILITY\n",
      " **********\n",
      " **    6 **MIGRAD        4000           1\n",
      " **********\n",
      " FIRST CALL TO USER FUNCTION AT NEW START POINT, WITH IFLAG=4.\n",
      " START MIGRAD MINIMIZATION.  STRATEGY  1.  CONVERGENCE WHEN EDM .LT. 1.00e-03\n",
      " FCN=-1.40602e+07 FROM MIGRAD    STATUS=INITIATE      139 CALLS         140 TOTAL\n",
      "                     EDM= unknown      STRATEGY= 1      NO ERROR MATRIX       \n",
      "  EXT PARAMETER               CURRENT GUESS       STEP         FIRST   \n",
      "  NO.   NAME      VALUE            ERROR          SIZE      DERIVATIVE \n",
      "   1  alpha        1.40000e+00   7.00000e-01   0.00000e+00  -4.47654e+04\n",
      "   2  exp_coef    -3.00000e+00   1.00000e+00   0.00000e+00  -8.92150e+03\n",
      "   3  mean         3.09000e+00   3.00000e-02   0.00000e+00  -4.16387e+05\n",
      "   4  sigma cb     2.08810e-02   4.99995e-02   0.00000e+00   2.51926e+05\n",
      "   5  sigma gauss   4.74930e-02   4.99995e-02   0.00000e+00   5.14801e+05\n",
      "   6  yield_back   9.99999e+04   5.00000e+03   2.50053e+00   1.68471e+02\n",
      "   7  yield_cb     1.00000e+05   5.00000e+04   0.00000e+00  -9.27707e+05\n",
      "   8  yield_gauss   1.00000e+05   5.00000e+04   0.00000e+00  -7.57861e+05\n",
      "                               ERR DEF= 0.5\n",
      " MIGRAD FAILS TO FIND IMPROVEMENT\n",
      " MACHINE ACCURACY LIMITS FURTHER IMPROVEMENT.\n",
      " MIGRAD MINIMIZATION HAS CONVERGED.\n",
      " FCN=-1.4644e+07 FROM MIGRAD    STATUS=CONVERGED     684 CALLS         685 TOTAL\n",
      "                     EDM=0.00288684    STRATEGY= 1  ERROR MATRIX UNCERTAINTY   2.7 per cent\n",
      "  EXT PARAMETER                                   STEP         FIRST   \n",
      "  NO.   NAME      VALUE            ERROR          SIZE      DERIVATIVE \n",
      "   1  alpha        1.33322e+00   1.79771e-02   0.00000e+00  -8.47185e+00\n",
      "   2  exp_coef    -3.13912e+00   5.00389e-02  -0.00000e+00   4.37363e+00\n",
      "   3  mean         3.09419e+00   4.69882e-05  -0.00000e+00   6.66493e+00\n",
      "   4  sigma cb     2.14608e-02   1.16382e-04   0.00000e+00   9.80906e+00\n",
      "   5  sigma gauss   4.14050e-02   1.78044e-04  -0.00000e+00   1.03630e+02\n",
      "   6  yield_back   9.99997e+04   6.89581e-01  -0.00000e+00   1.80901e+00\n",
      "   7  yield_cb     4.89771e+05   6.07339e+03  -0.00000e+00  -9.71097e+00\n",
      "   8  yield_gauss   4.10571e+05   5.94002e+03   0.00000e+00  -2.45475e+00\n",
      "                               ERR DEF= 0.5\n",
      " EXTERNAL ERROR MATRIX.    NDIM=  25    NPAR=  8    ERR DEF=0.5\n",
      "  3.232e-04 -2.742e-04 -5.611e-07  2.369e-07  7.269e-07 -1.149e-03 -1.600e+01  1.598e+01 \n",
      " -2.742e-04  2.504e-03  2.285e-07  7.396e-07  3.628e-07  4.873e-03  6.102e+01 -6.051e+01 \n",
      " -5.611e-07  2.285e-07  2.208e-09  2.052e-10 -5.722e-10  1.345e-06  6.100e-02 -6.209e-02 \n",
      "  2.369e-07  7.396e-07  2.052e-10  1.354e-08  1.488e-08 -6.244e-07  6.183e-01 -6.034e-01 \n",
      "  7.269e-07  3.628e-07 -5.722e-10  1.488e-08  3.170e-08  3.681e-06  8.816e-01 -8.560e-01 \n",
      " -1.149e-03  4.873e-03  1.345e-06 -6.244e-07  3.681e-06  4.755e-01  1.036e+02 -1.185e+02 \n",
      " -1.600e+01  6.102e+01  6.100e-02  6.183e-01  8.816e-01  1.036e+02  3.689e+07 -3.559e+07 \n",
      "  1.598e+01 -6.051e+01 -6.209e-02 -6.034e-01 -8.560e-01 -1.185e+02 -3.559e+07  3.529e+07 \n",
      " PARAMETER  CORRELATION COEFFICIENTS  \n",
      "       NO.  GLOBAL      1      2      3      4      5      6      7      8\n",
      "        1  0.84954   1.000 -0.305 -0.664  0.113  0.227 -0.093 -0.147  0.150\n",
      "        2  0.40583  -0.305  1.000  0.097  0.127  0.041  0.141  0.201 -0.204\n",
      "        3  0.69164  -0.664  0.097  1.000  0.038 -0.068  0.042  0.214 -0.222\n",
      "        4  0.92876   0.113  0.127  0.038  1.000  0.718 -0.008  0.875 -0.873\n",
      "        5  0.91256   0.227  0.041 -0.068  0.718  1.000  0.030  0.815 -0.809\n",
      "        6  0.18037  -0.093  0.141  0.042 -0.008  0.030  1.000  0.025 -0.029\n",
      "        7  0.98837  -0.147  0.201  0.214  0.875  0.815  0.025  1.000 -0.987\n",
      "        8  0.98738   0.150 -0.204 -0.222 -0.873 -0.809 -0.029 -0.987  1.000\n",
      " **********\n",
      " **    7 **SET ERR         0.5\n",
      " **********\n",
      " **********\n",
      " **    8 **SET PRINT           1\n",
      " **********\n",
      " **********\n",
      " **    9 **HESSE        4000\n",
      " **********\n",
      " EIGENVALUES OF SECOND-DERIVATIVE MATRIX:\n",
      "        -1.3228e-01  2.4988e-02  2.0408e-01  7.5869e-01  8.1076e-01  1.3892e+00  2.0178e+00  2.9267e+00\n",
      " MINUIT WARNING IN HESSE   \n",
      " ============== MATRIX FORCED POS-DEF BY ADDING 0.135207 TO DIAGONAL.\n",
      " FCN=-1.4644e+07 FROM HESSE     STATUS=NOT POSDEF     75 CALLS         760 TOTAL\n",
      "                     EDM=0.0836751    STRATEGY= 1      ERR MATRIX NOT POS-DEF\n",
      "  EXT PARAMETER                APPROXIMATE     INTERNAL      INTERNAL  \n",
      "  NO.   NAME      VALUE            ERROR       STEP SIZE       VALUE   \n",
      "   1  alpha        1.33322e+00   1.39471e-02   7.15086e-03  -8.23247e-01\n",
      "   2  exp_coef    -3.13912e+00   1.18604e-01   3.05709e-02  -6.78755e-01\n",
      "   3  mean         3.09419e+00   4.07709e-05   6.15083e-04  -3.87417e-02\n",
      "   4  sigma cb     2.14608e-02   5.36139e-05   7.64920e-04  -1.27675e+00\n",
      "   5  sigma gauss   4.14050e-02   8.75717e-04   9.86434e-04  -1.16097e+00\n",
      "   6  yield_back   9.99997e+04   2.29305e+04   3.69226e-01   1.57442e+00\n",
      "   7  yield_cb     4.89771e+05   5.40616e+03   4.86775e-03  -2.04586e-02\n",
      "   8  yield_gauss   4.10571e+05   2.52502e+03   5.10003e-03  -1.79825e-01\n",
      "                               ERR DEF= 0.5\n",
      " EXTERNAL ERROR MATRIX.    NDIM=  25    NPAR=  8    ERR DEF=0.5\n",
      "  1.945e-04  4.474e-04 -1.893e-07  2.805e-07 -4.087e-06 -9.457e-01 -2.923e+01 -7.411e+00 \n",
      "  4.474e-04  1.407e-02  1.251e-06  1.240e-06 -9.625e-05 -1.991e+01 -5.595e+02 -2.126e+02 \n",
      " -1.893e-07  1.251e-06  1.662e-09 -2.447e-10 -1.135e-08 -2.233e-03 -5.732e-02 -2.935e-02 \n",
      "  2.805e-07  1.240e-06 -2.447e-10  2.874e-09 -9.308e-09 -2.000e-03 -2.002e-02 -5.809e-02 \n",
      " -4.087e-06 -9.625e-05 -1.135e-08 -9.308e-09  7.669e-07  1.577e-01  4.530e+00  1.583e+00 \n",
      " -9.457e-01 -1.991e+01 -2.233e-03 -2.000e-03  1.577e-01  3.279e+04  9.296e+05  3.400e+05 \n",
      " -2.923e+01 -5.595e+02 -5.732e-02 -2.002e-02  4.530e+00  9.296e+05  2.923e+07  7.234e+06 \n",
      " -7.411e+00 -2.126e+02 -2.935e-02 -5.809e-02  1.583e+00  3.400e+05  7.234e+06  6.376e+06 \n",
      "ERR MATRIX NOT POS-DEF\n",
      " PARAMETER  CORRELATION COEFFICIENTS  \n",
      "       NO.  GLOBAL      1      2      3      4      5      6      7      8\n",
      "        1  0.78515   1.000  0.270 -0.333  0.375 -0.335 -0.374 -0.388 -0.210\n",
      "        2  0.93435   0.270  1.000  0.259  0.195 -0.927 -0.927 -0.872 -0.710\n",
      "        3  0.59578  -0.333  0.259  1.000 -0.112 -0.318 -0.302 -0.260 -0.285\n",
      "        4  0.67876   0.375  0.195 -0.112  1.000 -0.198 -0.206 -0.069 -0.429\n",
      "        5  0.99682  -0.335 -0.927 -0.318 -0.198  1.000  0.994  0.957  0.716\n",
      "        6  0.99728  -0.374 -0.927 -0.302 -0.206  0.994  1.000  0.950  0.744\n",
      "        7  0.98714  -0.388 -0.872 -0.260 -0.069  0.957  0.950  1.000  0.530\n",
      "        8  0.93566  -0.210 -0.710 -0.285 -0.429  0.716  0.744  0.530  1.000\n",
      " ERR MATRIX NOT POS-DEF\n",
      "[#1] INFO:Minization -- RooMinimizer::optimizeConst: deactivating const optimization\n"
     ]
    }
   ],
   "source": [
    "result = model.fitTo(data, ROOT.RooFit.Extended(True), ROOT.RooFit.Range(2.95, 3.25))"
   ]
  },
  {
   "cell_type": "code",
   "execution_count": 7,
   "id": "geological-terminology",
   "metadata": {},
   "outputs": [
    {
     "name": "stdout",
     "output_type": "stream",
     "text": [
      "[#1] INFO:Plotting -- RooAbsPdf::plotOn(model) p.d.f was fitted in range and no explicit plot,norm range was specified, using fit range as default\n",
      "[#1] INFO:Plotting -- RooAbsPdf::plotOn(model) only plotting range 'fit_nll_model_data'\n",
      "[#1] INFO:Plotting -- RooAbsPdf::plotOn(model) p.d.f. curve is normalized using explicit choice of ranges 'fit_nll_model_data'\n"
     ]
    },
    {
     "name": "stderr",
     "output_type": "stream",
     "text": [
      "Info in <TCanvas::MakeDefCanvas>:  created default TCanvas with name c1\n"
     ]
    }
   ],
   "source": [
    "frame = mass.frame(ROOT.RooFit.Title(\"Jpsi\"))\n",
    "data.plotOn(frame)\n",
    "model.plotOn(frame)\n",
    "frame.Draw()"
   ]
  },
  {
   "cell_type": "code",
   "execution_count": 8,
   "id": "labeled-taste",
   "metadata": {},
   "outputs": [
    {
     "data": {
      "image/png": "[encoded data removed]",
      "text/plain": [
       "<IPython.core.display.Image object>"
      ]
     },
     "metadata": {},
     "output_type": "display_data"
    }
   ],
   "source": [
    "from ROOT import gROOT\n",
    "gROOT.GetListOfCanvases().Draw()"
   ]
  },
  {
   "cell_type": "code",
   "execution_count": null,
   "id": "pediatric-arrangement",
   "metadata": {},
   "outputs": [],
   "source": []
  }
 ],
 "metadata": {
  "kernelspec": {
   "display_name": "Python 3",
   "language": "python",
   "name": "python3"
  },
  "language_info": {
   "codemirror_mode": {
    "name": "ipython",
    "version": 3
   },
   "file_extension": ".py",
   "mimetype": "text/x-python",
   "name": "python",
   "nbconvert_exporter": "python",
   "pygments_lexer": "ipython3",
   "version": "3.7.0"
  }
 },
 "nbformat": 4,
 "nbformat_minor": 5
}
