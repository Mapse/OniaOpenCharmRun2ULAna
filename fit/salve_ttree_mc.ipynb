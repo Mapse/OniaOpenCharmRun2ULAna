{
 "cells": [
  {
   "cell_type": "code",
   "execution_count": 1,
   "id": "musical-level",
   "metadata": {},
   "outputs": [],
   "source": [
    "from coffea.util import load\n",
    "import numpy as np\n",
    "\n",
    "import uproot3"
   ]
  },
  {
   "cell_type": "code",
   "execution_count": 2,
   "id": "785e61ff-b3cd-499a-806c-6b043d36724e",
   "metadata": {},
   "outputs": [],
   "source": [
    "# Usual file\n",
    "\n",
    "file = '../output/Monte_Carlo_2017_new_code/Monte_Carlo_2017_new_code.coffea'\n",
    "\n",
    "save_path = 'mc_to_fit/'\n",
    "\n",
    "year = '2017'\n",
    "\n",
    "acc = load(file)"
   ]
  },
  {
   "cell_type": "code",
   "execution_count": 3,
   "id": "5129b348-4dcc-4090-a253-f62e001a01a6",
   "metadata": {},
   "outputs": [],
   "source": [
    "save_path = 'mc_to_fit/'"
   ]
  },
  {
   "cell_type": "code",
   "execution_count": 14,
   "id": "16a352d1-24f2-4ad0-9dc1-6b5b49592b1b",
   "metadata": {},
   "outputs": [],
   "source": [
    "## Association between Jpsi and Dstar\n",
    "\n",
    "# Dstar\n",
    "all_dstar_associated = acc['DimuDstar']['Dstar']['deltamr'].value\n",
    "\n",
    "wrg_chg = acc['DimuDstar']['Dstar']['wrg_chg'].value\n",
    "\n",
    "dstar_associated_wrong_charge = acc['DimuDstar']['Dstar']['deltamr'].value[wrg_chg]\n",
    "\n",
    "dstar_associated_right_charge = acc['DimuDstar']['Dstar']['deltamr'].value[~wrg_chg]\n",
    "\n",
    "dstar_associated = dstar_associated_right_charge\n",
    "\n",
    "# Jpsi\n",
    "jpsi_associated = acc['DimuDstar']['Dimu']['mass'].value[~wrg_chg]\n",
    "\n",
    "with uproot3.recreate(save_path + \"JpsiDstar_MC_\" + year +\".root\") as f:\n",
    "    f['JpsiDstar'] = uproot3.newtree({\"dstar_dmass\": \"float64\", \"jpsi_mass\" : \"float64\"})\n",
    "    f['JpsiDstar'].extend({\"dstar_dmass\": dstar_associated, \"jpsi_mass\": jpsi_associated})"
   ]
  },
  {
   "cell_type": "code",
   "execution_count": null,
   "id": "4e0f7140-143d-47b9-b457-e77856f7a0c2",
   "metadata": {},
   "outputs": [],
   "source": []
  }
 ],
 "metadata": {
  "kernelspec": {
   "display_name": "Python 3 (ipykernel)",
   "language": "python",
   "name": "python3"
  },
  "language_info": {
   "codemirror_mode": {
    "name": "ipython",
    "version": 3
   },
   "file_extension": ".py",
   "mimetype": "text/x-python",
   "name": "python",
   "nbconvert_exporter": "python",
   "pygments_lexer": "ipython3",
   "version": "3.8.0"
  }
 },
 "nbformat": 4,
 "nbformat_minor": 5
}
