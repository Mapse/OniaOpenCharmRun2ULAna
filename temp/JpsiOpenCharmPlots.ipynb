{
 "cells": [
  {
   "cell_type": "markdown",
   "metadata": {},
   "source": [
    "# J/Psi + D meson plots"
   ]
  },
  {
   "cell_type": "code",
   "execution_count": 1,
   "metadata": {},
   "outputs": [],
   "source": [
    "import awkward as ak\n",
    "from coffea.util import load\n",
    "from coffea import hist\n",
    "import matplotlib.pyplot as plt\n",
    "import mplhep\n",
    "import os\n",
    "from tqdm import tqdm\n",
    "\n",
    "import numpy as np\n",
    "\n",
    "plt.style.use(mplhep.style.CMS)\n",
    "\n",
    "from coffea.nanoevents.methods import candidate\n",
    "ak.behavior.update(candidate.behavior)"
   ]
  },
  {
   "cell_type": "code",
   "execution_count": 12,
   "metadata": {},
   "outputs": [],
   "source": [
    "# Function to create a list with all coffea files in a path\n",
    "def list_files(path):\n",
    "    \n",
    "    files = []\n",
    "    with os.scandir(path) as aux:\n",
    "        for file in aux:\n",
    "            if file.name.endswith('hists.coffea') and (file.stat().st_size != 0):\n",
    "                files.append(file.path)\n",
    "    return files\n",
    "\n",
    "# Calls the function to take the list with all files\n",
    "path = '../output/Charmonium_2017_Nano_Coffea/' \n",
    "files = list_files(path)"
   ]
  },
  {
   "cell_type": "code",
   "execution_count": 13,
   "metadata": {},
   "outputs": [
    {
     "ename": "IndexError",
     "evalue": "list index out of range",
     "output_type": "error",
     "traceback": [
      "\u001b[0;31m---------------------------------------------------------------------------\u001b[0m",
      "\u001b[0;31mIndexError\u001b[0m                                Traceback (most recent call last)",
      "\u001b[0;32m/tmp/mabarros/ipykernel_16726/1030112122.py\u001b[0m in \u001b[0;36m<module>\u001b[0;34m\u001b[0m\n\u001b[0;32m----> 1\u001b[0;31m \u001b[0macc\u001b[0m \u001b[0;34m=\u001b[0m \u001b[0mload\u001b[0m\u001b[0;34m(\u001b[0m\u001b[0mfiles\u001b[0m\u001b[0;34m[\u001b[0m\u001b[0;36m0\u001b[0m\u001b[0;34m]\u001b[0m\u001b[0;34m)\u001b[0m\u001b[0;34m\u001b[0m\u001b[0;34m\u001b[0m\u001b[0m\n\u001b[0m\u001b[1;32m      2\u001b[0m \u001b[0;34m\u001b[0m\u001b[0m\n\u001b[1;32m      3\u001b[0m \u001b[0mle_files\u001b[0m \u001b[0;34m=\u001b[0m \u001b[0mint\u001b[0m\u001b[0;34m(\u001b[0m\u001b[0mround\u001b[0m\u001b[0;34m(\u001b[0m\u001b[0mlen\u001b[0m\u001b[0;34m(\u001b[0m\u001b[0mfiles\u001b[0m\u001b[0;34m)\u001b[0m\u001b[0;34m,\u001b[0m \u001b[0;36m0\u001b[0m\u001b[0;34m)\u001b[0m\u001b[0;34m)\u001b[0m\u001b[0;34m\u001b[0m\u001b[0;34m\u001b[0m\u001b[0m\n\u001b[1;32m      4\u001b[0m \u001b[0;34m\u001b[0m\u001b[0m\n\u001b[1;32m      5\u001b[0m \u001b[0;32mfor\u001b[0m \u001b[0mi\u001b[0m \u001b[0;32min\u001b[0m \u001b[0mtqdm\u001b[0m\u001b[0;34m(\u001b[0m\u001b[0mrange\u001b[0m\u001b[0;34m(\u001b[0m\u001b[0;36m1\u001b[0m\u001b[0;34m,\u001b[0m \u001b[0mle_files\u001b[0m\u001b[0;34m)\u001b[0m\u001b[0;34m,\u001b[0m \u001b[0mdesc\u001b[0m\u001b[0;34m=\u001b[0m\u001b[0;34m\"Sum\"\u001b[0m\u001b[0;34m,\u001b[0m \u001b[0munit\u001b[0m\u001b[0;34m=\u001b[0m\u001b[0;34m\" files\"\u001b[0m\u001b[0;34m)\u001b[0m\u001b[0;34m:\u001b[0m\u001b[0;34m\u001b[0m\u001b[0;34m\u001b[0m\u001b[0m\n",
      "\u001b[0;31mIndexError\u001b[0m: list index out of range"
     ]
    }
   ],
   "source": [
    "acc = load(files[0])\n",
    "\n",
    "le_files = int(round(len(files), 0))\n",
    "\n",
    "for i in tqdm(range(1, le_files), desc=\"Sum\", unit=\" files\"):\n",
    "    acc += load(files[i])"
   ]
  },
  {
   "cell_type": "code",
   "execution_count": 2,
   "metadata": {},
   "outputs": [
    {
     "data": {
      "text/plain": [
       "dict_values([<Hist (nPVtx) instance at 0x7f5b3f7d04c0>, <Hist (pt,eta,phi) instance at 0x7f5b3f7d07f0>, <Hist (pt,eta,phi) instance at 0x7f5b3f7d0ca0>, <Hist (mass) instance at 0x7f5adc353700>, <Hist (pt,eta,phi) instance at 0x7f5b3ef83850>, <Hist (rap) instance at 0x7f5b3ef83a90>, <Hist (dl) instance at 0x7f5b3ef83940>, <Hist (dlSig) instance at 0x7f5b3ef835e0>, <Hist (chi2) instance at 0x7f5adbc862b0>, <Hist (cosphi) instance at 0x7f5adbdf6c10>, <Hist (mass) instance at 0x7f5adbd08910>, <Hist (mass) instance at 0x7f5adbd08310>, <Hist (pt,eta,phi) instance at 0x7f5adbd08fd0>, <Hist (rap) instance at 0x7f5adbd08430>, <Hist (dl) instance at 0x7f5adbd08760>, <Hist (dlSig) instance at 0x7f5adbd08ac0>, <Hist (chi2) instance at 0x7f5adbd08d00>, <Hist (cosphi) instance at 0x7f5adbd08e50>, <Hist (mass) instance at 0x7f5adbd08d30>, <Hist (pt,eta,phi) instance at 0x7f5adbd08520>, <Hist (rap) instance at 0x7f5adbd082b0>, <Hist (dl) instance at 0x7f5adbd08e80>, <Hist (dlSig) instance at 0x7f5adbd08340>, <Hist (chi2) instance at 0x7f5adbd08a30>, <Hist (cosphi) instance at 0x7f5adbd08490>, <Hist (mass) instance at 0x7f5adbd08850>, <Hist (mass) instance at 0x7f5adbd08ee0>, <Hist (pt,eta,phi) instance at 0x7f5adbd081f0>, <Hist (rap) instance at 0x7f5adbd71220>, <Hist (dl) instance at 0x7f5adbd71a00>, <Hist (dlSig) instance at 0x7f5adbd718e0>, <Hist (chi2) instance at 0x7f5adbd71760>, <Hist (cosphi) instance at 0x7f5adbd71100>, <Hist (eta,mass) instance at 0x7f5adbd710d0>, <Hist (eta,mass) instance at 0x7f5adbd71d90>, <Hist (pt,eta,phi) instance at 0x7f5adbd71a90>, <Hist (chindof) instance at 0x7f5adbd71040>, <Hist (nValid) instance at 0x7f5adbd71e50>, <Hist (nPix) instance at 0x7f5adbd710a0>, <Hist (dxy) instance at 0x7f5adbd71fd0>, <Hist (dz) instance at 0x7f5adbdab790>, <Hist (chg,pt,eta,phi) instance at 0x7f5adbdab040>, <Hist (chg,rap) instance at 0x7f5adbdab190>, <Hist (chg,deltam) instance at 0x7f5adbdab3d0>, <Hist (chg,deltamr) instance at 0x7f5adbdab280>, <Hist (chg,cosphi) instance at 0x7f5adbd62a00>, <Hist (pt,eta,phi) instance at 0x7f5adbd550d0>, <Hist (chindof) instance at 0x7f5adbd55640>, <Hist (nValid) instance at 0x7f5adbd550a0>, <Hist (nPix) instance at 0x7f5adbd6b8b0>, <Hist (dxy) instance at 0x7f5adbd6bd60>, <Hist (dz) instance at 0x7f5adbd6b970>, <Hist (pt,eta) instance at 0x7f5adbd6bb50>, <Hist (pt,eta,phi) instance at 0x7f5adbd6bfa0>, <Hist (chindof) instance at 0x7f5adbd40520>, <Hist (nValid) instance at 0x7f5adbd40430>, <Hist (nPix) instance at 0x7f5adbd40c40>, <Hist (dxy) instance at 0x7f5adbd40af0>, <Hist (dz) instance at 0x7f5adbd40d60>, <Hist (pt,eta) instance at 0x7f5adbd408b0>, <Hist (pt,eta,phi) instance at 0x7f5adbd406a0>, <Hist (chindof) instance at 0x7f5adbd40970>, <Hist (nValid) instance at 0x7f5adbd40880>, <Hist (nPix) instance at 0x7f5adbd9fa00>, <Hist (dxy) instance at 0x7f5adbd9f310>, <Hist (dz) instance at 0x7f5adbd9f280>, <Hist (chg,pt,eta,phi) instance at 0x7f5adbd9f0a0>, <Hist (chg,rap) instance at 0x7f5adbd9f040>, <Hist (chg,deltam) instance at 0x7f5adbd9f640>, <Hist (chg,deltamr) instance at 0x7f5adbd9fc10>, {'Upsilon_mass': <Hist (mass) instance at 0x7f5adbd9f400>, 'Upsilon_p': <Hist (pt,eta,phi) instance at 0x7f5adbd9fb50>, 'Upsilon_rap': <Hist (rap) instance at 0x7f5adbd17fa0>, 'UpsilonDstar_deltarap': <Hist (deltarap) instance at 0x7f5adbd17100>, 'UpsilonDstar_mass': <Hist (mass) instance at 0x7f5adbd74e20>, 'Dstar_p': <Hist (chg,pt,eta,phi) instance at 0x7f5adbd74970>, 'Dstar_deltam': <Hist (chg,deltam) instance at 0x7f5adbd749d0>, 'Dstar_deltamr': <Hist (chg,deltamr) instance at 0x7f5adbd74070>, 'Dstar_rap': <Hist (chg,rap) instance at 0x7f5adbd74d90>}, {'Jpsi_mass': <Hist (mass) instance at 0x7f5adbcfd7f0>, 'Jpsi_p': <Hist (pt,eta,phi) instance at 0x7f5adbcfd7c0>, 'Jpsi_rap': <Hist (rap) instance at 0x7f5adbcfd310>, 'JpsiDstar_deltarap': <Hist (deltarap) instance at 0x7f5adbcfd5e0>, 'JpsiDstar_mass': <Hist (mass) instance at 0x7f5adbcfdeb0>, 'Dstar_p': <Hist (chg,pt,eta,phi) instance at 0x7f5adbd77c40>, 'Dstar_rap': <Hist (chg,rap) instance at 0x7f5adbd774f0>, 'Dstar_deltam': <Hist (chg,deltam) instance at 0x7f5adbd77a60>, 'Dstar_deltamr': <Hist (chg,deltamr) instance at 0x7f5adbcb8a60>, 'reco_dstar_dimu': <Hist (dstar_pt,dimu_pt) instance at 0x7f5adbcb8e20>}, {'Psi_mass': <Hist (mass) instance at 0x7f5adbcb8fd0>, 'Psi_p': <Hist (pt,eta,phi) instance at 0x7f5adb198130>, 'Psi_rap': <Hist (rap) instance at 0x7f5adb1983d0>, 'PsiDstar_deltarap': <Hist (deltarap) instance at 0x7f5adb1984f0>, 'PsiDstar_mass': <Hist (mass) instance at 0x7f5adb198640>, 'Dstar_p': <Hist (chg,pt,eta,phi) instance at 0x7f5adb198790>, 'Dstar_rap': <Hist (chg,rap) instance at 0x7f5adb198a90>, 'Dstar_deltam': <Hist (chg,deltam) instance at 0x7f5adb198be0>, 'Dstar_deltamr': <Hist (chg,deltamr) instance at 0x7f5adb198d60>}, <Hist (pdgId) instance at 0x7f5adb198ee0>, <Hist (pt,eta,phi) instance at 0x7f5adb1a0070>, <Hist (mass) instance at 0x7f5adb1a0310>, <Hist (pt,eta,phi) instance at 0x7f5adb1a0430>, <Hist (VertexX) instance at 0x7f5adb1a06d0>, <Hist (VertexY) instance at 0x7f5adb1a07f0>, <Hist (VertexZ) instance at 0x7f5adb1a0940>, <Hist (mass) instance at 0x7f5adb1a0a90>, <Hist (pt,eta,phi) instance at 0x7f5adb1a0be0>, <Hist (VertexX) instance at 0x7f5adb1a0e80>, <Hist (VertexY) instance at 0x7f5adb1a0fa0>, <Hist (VertexZ) instance at 0x7f5adb128130>, <Hist (mass) instance at 0x7f5adb128280>, <Hist (pt,eta,phi) instance at 0x7f5adb1283d0>, <Hist (VertexX) instance at 0x7f5adb128670>, <Hist (VertexY) instance at 0x7f5adb128790>, <Hist (VertexZ) instance at 0x7f5adb1288e0>, <Hist (mass) instance at 0x7f5adb128a30>, <Hist (pt,eta,phi) instance at 0x7f5adb128b80>, <Hist (VertexX) instance at 0x7f5adb128e20>, <Hist (VertexY) instance at 0x7f5adb128f40>, <Hist (VertexZ) instance at 0x7f5adb1310d0>, <Hist (mass) instance at 0x7f5adb131220>, <Hist (pt,eta,phi) instance at 0x7f5adb131370>])"
      ]
     },
     "execution_count": 2,
     "metadata": {},
     "output_type": "execute_result"
    }
   ],
   "source": [
    "''' Data '''\n",
    "\n",
    "''' Charmonium 2017E '''\n",
    "\n",
    "#file = '../output/Charmonium2017E_test_loose_cuts/Charmonium2017E_test_loose_cuts_hists.coffea'\n",
    "\n",
    "#file = '../output/Charmonium2017_NanoAOD_coffea/hists/Data17CharmoniumRunE_692_hists.coffea'\n",
    "\n",
    "#file = '../output/test_Charmonium2017E_new_code/test_Charmonium2017E_new_code_hists.coffea'\n",
    "\n",
    "#file = '../output/Charmonium_2017E_No_Global/Charmonium_2017E_No_Global_hists.coffea'\n",
    "\n",
    "#file = '../output/Charmonium_2017/Charmonium_2017_hists.coffea'\n",
    "\n",
    "### Trigger\n",
    "\n",
    "# HLT0\n",
    "#file = '../output/test_trigger_HLT0_Charmonium2017E/test_trigger_HLT0_Charmonium2017E_hists.coffea'\n",
    "\n",
    "# HLT 25\n",
    "#file = '../output/test_trigger_HLT25_Charmonium2017E/test_trigger_HLT25_Charmonium2017E_hists.coffea'\n",
    "\n",
    "#### Charmonium 2018B\n",
    "\n",
    "# Usual cuts \n",
    "#file = '../output/Charmonium2018B_test/Charmonium2018B_test_hists.coffea'\n",
    "\n",
    "# Cut on Dstar before association\n",
    "#file = '../output/test_cut_background_2d/test_cut_background_2d_hists.coffea'\n",
    "\n",
    "# Test decay\n",
    "#file = '../output/test_decay_length/test_decay_length_hists.coffea'\n",
    "#file = '../output/Charmonium_2018B_comp/Charmonium_2018B_comp_hists.coffea'\n",
    "\n",
    "#file = '../output/Charmonium2018B_vertex/Charmonium2018B_vertex_hists.coffea'\n",
    "\n",
    "## Prompt x NonPrompt\n",
    "#file = '../output/Charmonium_2018B_prompt/Charmonium_2018B_prompt_hists.coffea'\n",
    "#file = '../output/Charmonium_2018B_nonprompt/Charmonium_2018B_nonprompt_hists.coffea'\n",
    "\n",
    "\n",
    "''' Monte Carlo '''\n",
    "\n",
    "''' 2017 '''\n",
    "\n",
    "## All data \n",
    "\n",
    "file = '../output/Monte_Carlo_2017/Monte_Carlo_2017_hists.coffea'\n",
    "#file = '../output/Monte_Carlo_2017/Monte_Carlo_2017.coffea'\n",
    "\n",
    "## Dimu0 trigger\n",
    "\n",
    "#file = '../output/Monte_Carlo_2017_Dimu0/Monte_Carlo_2017_Dimu0_hists.coffea'\n",
    "\n",
    "# Dimu20_Seagulls trigger\n",
    "\n",
    "#file = '../output/Monte_Carlo_2017_Dimu20_sealgulls/Monte_Carlo_2017_Dimu20_sealgulls_hists.coffea'\n",
    "\n",
    "# Dimu25 trigger\n",
    "\n",
    "#file = '../output/Monte_Carlo_2017_Dimu25/Monte_Carlo_2017_Dimu25_hists.coffea'\n",
    "\n",
    "## test\n",
    "\n",
    "#file = '../output/Monte_Carlo_2017_test/Monte_Carlo_2017_test_hists.coffea'\n",
    "\n",
    "\n",
    "\n",
    "''' 2018 '''\n",
    "\n",
    "#file = '../output/Monte_Carlo_2018/Monte_Carlo_2018_hists.coffea'\n",
    "\n",
    "\n",
    "\n",
    "#file = '../output/Monte_Carlo_2018_Dimu20_Seagulls/Monte_Carlo_2018_Dimu20_Seagulls_hists.coffea'\n",
    "\n",
    "\n",
    "## Usual file - new processing\n",
    "# No D0 cuts (phi study)\n",
    "#file = '../output/Phi_study_Monte_Carlo_2017_new_code/Phi_study_Monte_Carlo_2017_new_code_hists.coffea'\n",
    "\n",
    "#hists = acc\n",
    "#file = '../output/Charmonium_2017_Nano_Coffea/hists_Charmonium_2017.coffea'\n",
    "hists = load(file)\n",
    "hists.values()"
   ]
  },
  {
   "cell_type": "code",
   "execution_count": 3,
   "metadata": {},
   "outputs": [],
   "source": [
    "def get_dstar_weight(hist_dstar, hist_wrg_chg):\n",
    "    hist_dstar_values = hist_dstar.values().get(())\n",
    "    hist_wrg_chg_values = hist_wrg_chg.values().get(())\n",
    "\n",
    "    x = int(len(hist_dstar_values)/2)\n",
    "\n",
    "    hist_dstar_values = hist_dstar_values[x:]\n",
    "    hist_wrg_chg_values = hist_wrg_chg_values[x:]\n",
    "\n",
    "    ratio = hist_dstar_values/hist_wrg_chg_values\n",
    "\n",
    "    return ratio.mean()"
   ]
  },
  {
   "cell_type": "code",
   "execution_count": 4,
   "metadata": {},
   "outputs": [],
   "source": [
    "def ratio_plot(num, denom):\n",
    "    # make a nice ratio plot, adjusting some font sizes\n",
    "    plt.rcParams.update({\n",
    "        'font.size': 16,\n",
    "        'axes.titlesize': 18,\n",
    "        'axes.labelsize': 18,\n",
    "        'xtick.labelsize': 14,\n",
    "        'ytick.labelsize': 14\n",
    "    })\n",
    "    fig, (ax, rax) = plt.subplots(\n",
    "        nrows=2,\n",
    "        ncols=1,\n",
    "        figsize=(10,10),\n",
    "        gridspec_kw={\"height_ratios\": (3, 1)},\n",
    "        sharex=True\n",
    "    )\n",
    "    fig.subplots_adjust(hspace=.07)\n",
    "\n",
    "    # Here is an example of setting up a color cycler to color the various fill patches\n",
    "    # We get the colors from this useful utility: http://colorbrewer2.org/\n",
    "    from cycler import cycler\n",
    "    colors = ['#a6cee3','#1f78b4','#b2df8a','#33a02c','#fb9a99','#e31a1c','#fdbf6f','#ff7f00','#cab2d6','#6a3d9a']\n",
    "    ax.set_prop_cycle(cycler(color=colors))\n",
    "\n",
    "    fill_opts = {\n",
    "        'edgecolor': (0,0,0,0.3),\n",
    "        'alpha': 0.8\n",
    "    }\n",
    "    error_opts = {\n",
    "        'label': 'Stat. Unc.',\n",
    "        'hatch': '///',\n",
    "        'facecolor': 'none',\n",
    "        'edgecolor': (0,0,0,.5),\n",
    "        'linewidth': 0\n",
    "    }\n",
    "    data_err_opts = {\n",
    "        'linestyle': 'none',\n",
    "        'marker': '.',\n",
    "        'markersize': 10.,\n",
    "        'color': 'k',\n",
    "        'elinewidth': 1,\n",
    "    }\n",
    "\n",
    "    # plot the MC first\n",
    "    hist.plot1d(\n",
    "        num,\n",
    "        ax=ax,\n",
    "        clear=False,\n",
    "        line_opts=None,\n",
    "        fill_opts=fill_opts,\n",
    "        error_opts=error_opts\n",
    "    )\n",
    "    # now the pseudodata, setting clear=False to avoid overwriting the previous plot\n",
    "    hist.plot1d(\n",
    "        denom,\n",
    "        ax=ax,\n",
    "        clear=False,\n",
    "        fill_opts=fill_opts,\n",
    "        error_opts=error_opts\n",
    "    )\n",
    "\n",
    "    ax.autoscale(axis='x', tight=True)\n",
    "    ax.set_ylim(0, None)\n",
    "    ax.set_xlabel(None)\n",
    "\n",
    "    # now we build the ratio plot\n",
    "    hist.plotratio(\n",
    "        num=num,\n",
    "        denom=denom,\n",
    "        ax=rax,\n",
    "        error_opts=data_err_opts,\n",
    "        denom_fill_opts={},\n",
    "        guide_opts={},\n",
    "        unc='num'\n",
    "    )\n",
    "    rax.set_ylabel('Ratio')\n",
    "    rax.set_ylim(0, 15)\n",
    "    \n",
    "    return ax, rax"
   ]
  },
  {
   "cell_type": "code",
   "execution_count": 5,
   "metadata": {},
   "outputs": [],
   "source": [
    "#typ: data or mc\n",
    "def create_plot1d(hist1d, log=False, ax=None, typ=None):\n",
    "    lumi = \"x\"\n",
    "    \n",
    "    from matplotlib.offsetbox import AnchoredOffsetbox, TextArea\n",
    "    plt.style.use(mplhep.style.CMS)\n",
    "    plt.rcParams.update({\n",
    "        'font.size': 16,\n",
    "        'axes.titlesize': 18,\n",
    "        'axes.labelsize': 18,\n",
    "        'xtick.labelsize': 14,\n",
    "        'ytick.labelsize': 14\n",
    "    })\n",
    "    \n",
    "    if typ == 'data':\n",
    "        \n",
    "        data_err_opts = {\n",
    "        'linestyle': 'none',\n",
    "        'marker': '.',\n",
    "        'markersize': 10.,\n",
    "        'color': 'k',\n",
    "        'elinewidth': 1,\n",
    "        }\n",
    "        ax = hist.plot1d(hist1d, error_opts=data_err_opts)\n",
    "        \n",
    "        \n",
    "    elif typ == 'mc':\n",
    "        \n",
    "        fill_opts = {\n",
    "        'alpha': 0.8,\n",
    "        'edgecolor':(0,0,0,.5)\n",
    "        }\n",
    "        \n",
    "        ax = hist.plot1d(hist1d, fill_opts=fill_opts)\n",
    "        \n",
    "    else:\n",
    "        \n",
    "        data_err_opts = {\n",
    "        'linestyle': 'none',\n",
    "        'marker': '.',\n",
    "        'markersize': 10.,\n",
    "        'color': 'k',\n",
    "        'elinewidth': 1,}\n",
    "        \n",
    "            \n",
    "        ax = hist.plot1d(hist1d, ax=ax)#, error_opts=data_err_opts)\n",
    "  \n",
    "    \n",
    "    # CMS style\n",
    "    \n",
    "    CMS = plt.text(0.03, 0.93, \"CMS\",\n",
    "                  fontsize=22,\n",
    "                  fontweight='bold',\n",
    "                  horizontalalignment='left',\n",
    "                  verticalalignment='bottom',\n",
    "                  transform=ax.transAxes\n",
    "                 )\n",
    "    pre = plt.text(0.03, 0.88, \"Preliminary\",\n",
    "                  fontsize=19,\n",
    "                  fontstyle='italic',\n",
    "                  horizontalalignment='left',\n",
    "                  verticalalignment='bottom',\n",
    "                  transform=ax.transAxes\n",
    "                 )\n",
    "    lumi = plt.text(1., 1., r\"\" + lumi +  \"fb$^{-1}$ (13 TeV)\",\n",
    "                fontsize=18,\n",
    "                fontstyle='normal',\n",
    "                horizontalalignment='right',\n",
    "                verticalalignment='bottom',\n",
    "                transform=ax.transAxes\n",
    "               )\n",
    "\n",
    "    if log:\n",
    "        ax.set_yscale('log')\n",
    "        ax.set_ylim(1, None)\n",
    "    else:\n",
    "        ax.ticklabel_format(axis='y', style='sci', scilimits=(0,3), useMathText=True)\n",
    "    \n",
    "    axis = hist1d.axes()[0]\n",
    "    centers = axis.centers()\n",
    "    values = np.where(hist1d.values().get(()) < 0, 0, hist1d.values().get(()))\n",
    "    \n",
    "    # compute mean and std:\n",
    "    mean = np.sum(values*centers)/np.sum(values)\n",
    "    std = np.sqrt(np.sum(values*((centers - mean)**2))/np.sum(values))\n",
    "    \n",
    "    annotation = TextArea(f\"Total: {np.sum(values):.2e}\" \\\n",
    "                    + \"\\n\" + f\"Mean: {mean:.2e}\" \\\n",
    "                    + \"\\n\" + f\"Std: {std:.2e}\", textprops=dict(size=14))\n",
    "    \n",
    "    at = AnchoredOffsetbox('upper right', child=annotation)\n",
    "    at.patch.set_facecolor('None')\n",
    "    ax.add_artist(at)\n",
    "    \n",
    "    ax.legend().remove()\n",
    "    \n",
    "    return ax"
   ]
  },
  {
   "cell_type": "code",
   "execution_count": 6,
   "metadata": {},
   "outputs": [],
   "source": [
    "def create_plot2d(hist2d, ax=None, xaxis=None):\n",
    "    \n",
    "    # CMS style\n",
    "    import mplhep\n",
    "    import matplotlib.pyplot as plt\n",
    "    \n",
    "    plt.style.use(mplhep.style.CMS)\n",
    "    \n",
    "    if xaxis == None:\n",
    "        xaxis = hist2d.axes()[0]\n",
    "        \n",
    "    # Create figure\n",
    "    fig = plt.figure()\n",
    "    ax = fig.add_subplot()\n",
    "    \n",
    "    # plot\n",
    "    hist.plot2d(hist_2d, xaxis=xaxis, ax=ax)\n",
    "    mplhep.cms.label(ax=ax)\n",
    "        \n",
    "    \n",
    "    \n",
    "    return ax"
   ]
  },
  {
   "cell_type": "code",
   "execution_count": 7,
   "metadata": {},
   "outputs": [],
   "source": [
    "def kinematics_plot(hist_p, hist_mass=None):\n",
    "    plt.rcParams.update({\n",
    "        'font.size': 16,\n",
    "        'axes.titlesize': 18,\n",
    "        'axes.labelsize': 18,\n",
    "        'xtick.labelsize': 14,\n",
    "        'ytick.labelsize': 14\n",
    "    })\n",
    "    \n",
    "    fig, ((ax_pt, ax_eta), (ax_phi, ax_mass)) = plt.subplots(\n",
    "        nrows=2,\n",
    "        ncols=2,\n",
    "        figsize=(16,16),\n",
    "    )\n",
    "    \n",
    "    create_plot1d(hist_p.sum('eta', 'phi'), ax=ax_pt, log=True)\n",
    "    create_plot1d(hist_p.sum('pt', 'phi'), ax=ax_eta, log=False)\n",
    "    create_plot1d(hist_p.sum('pt', 'eta'), ax=ax_phi, log=False)\n",
    "    \n",
    "    if not hist_mass == None:\n",
    "        create_plot1d(hist_mass, ax=ax_mass, log=False)\n",
    "    else:\n",
    "        ax_mass.annotate(\"Mass plot not provided\", xy=(0.5, 0.5), xycoords=\"data\",\n",
    "                  va=\"center\", ha=\"center\",\n",
    "                  bbox=dict(boxstyle=\"round\", fc=\"w\"))\n",
    "        \n",
    "    return ((ax_pt, ax_eta), (ax_phi, ax_mass))"
   ]
  },
  {
   "cell_type": "code",
   "execution_count": 9,
   "metadata": {},
   "outputs": [
    {
     "ename": "NameError",
     "evalue": "name 'hists' is not defined",
     "output_type": "error",
     "traceback": [
      "\u001b[0;31m---------------------------------------------------------------------------\u001b[0m",
      "\u001b[0;31mNameError\u001b[0m                                 Traceback (most recent call last)",
      "\u001b[0;32m/tmp/mabarros/ipykernel_16726/3343106283.py\u001b[0m in \u001b[0;36m<module>\u001b[0;34m\u001b[0m\n\u001b[0;32m----> 1\u001b[0;31m \u001b[0max\u001b[0m \u001b[0;34m=\u001b[0m \u001b[0mcreate_plot1d\u001b[0m\u001b[0;34m(\u001b[0m\u001b[0mhists\u001b[0m\u001b[0;34m[\u001b[0m\u001b[0;34m'GenJpsi_p'\u001b[0m\u001b[0;34m]\u001b[0m\u001b[0;34m.\u001b[0m\u001b[0msum\u001b[0m\u001b[0;34m(\u001b[0m\u001b[0;34m'eta'\u001b[0m\u001b[0;34m,\u001b[0m \u001b[0;34m'phi'\u001b[0m\u001b[0;34m)\u001b[0m\u001b[0;34m)\u001b[0m\u001b[0;34m\u001b[0m\u001b[0;34m\u001b[0m\u001b[0m\n\u001b[0m",
      "\u001b[0;31mNameError\u001b[0m: name 'hists' is not defined"
     ]
    }
   ],
   "source": [
    "ax = create_plot1d(hists['GenJpsi_p'].sum('eta', 'phi'))"
   ]
  },
  {
   "cell_type": "code",
   "execution_count": null,
   "metadata": {},
   "outputs": [],
   "source": [
    "ax = create_plot1d(hists['GenJpsi_mass'])"
   ]
  },
  {
   "cell_type": "code",
   "execution_count": null,
   "metadata": {},
   "outputs": [],
   "source": [
    "ax = create_plot1d(hists['GenDstar_p'].sum('phi', 'eta'))"
   ]
  },
  {
   "cell_type": "code",
   "execution_count": null,
   "metadata": {},
   "outputs": [],
   "source": [
    "# Muon Lead\n",
    "((ax_pt, ax_eta), (ax_phi, ax_mass)) = kinematics_plot(hists['Muon_lead_p'])"
   ]
  },
  {
   "cell_type": "code",
   "execution_count": null,
   "metadata": {},
   "outputs": [],
   "source": [
    "# Muon Trail\n",
    "((ax_pt, ax_eta), (ax_phi, ax_mass)) = kinematics_plot(hists['Muon_trail_p'])"
   ]
  },
  {
   "cell_type": "markdown",
   "metadata": {},
   "source": [
    "# Reconstructed J/Psi"
   ]
  },
  {
   "cell_type": "code",
   "execution_count": 20,
   "metadata": {},
   "outputs": [
    {
     "name": "stderr",
     "output_type": "stream",
     "text": [
      "/afs/cern.ch/user/m/mabarros/miniconda3/envs/OniaOpenCharmRun2ULenv/lib/python3.9/site-packages/numpy/core/_methods.py:44: RuntimeWarning: invalid value encountered in reduce\n",
      "  return umr_minimum(a, axis, None, out, keepdims, initial, where)\n",
      "/afs/cern.ch/user/m/mabarros/miniconda3/envs/OniaOpenCharmRun2ULenv/lib/python3.9/site-packages/numpy/core/_methods.py:40: RuntimeWarning: invalid value encountered in reduce\n",
      "  return umr_maximum(a, axis, None, out, keepdims, initial, where)\n",
      "/afs/cern.ch/user/m/mabarros/miniconda3/envs/OniaOpenCharmRun2ULenv/lib/python3.9/site-packages/numpy/core/_methods.py:44: RuntimeWarning: invalid value encountered in reduce\n",
      "  return umr_minimum(a, axis, None, out, keepdims, initial, where)\n",
      "/afs/cern.ch/user/m/mabarros/miniconda3/envs/OniaOpenCharmRun2ULenv/lib/python3.9/site-packages/numpy/core/_methods.py:40: RuntimeWarning: invalid value encountered in reduce\n",
      "  return umr_maximum(a, axis, None, out, keepdims, initial, where)\n"
     ]
    },
    {
     "data": {
      "image/png": "[encoded data removed]",
      "text/plain": [
       "<Figure size 1152x1152 with 4 Axes>"
      ]
     },
     "metadata": {
      "needs_background": "light"
     },
     "output_type": "display_data"
    }
   ],
   "source": [
    "# Jpsi\n",
    "((ax_pt, ax_eta), (ax_phi, ax_mass)) = kinematics_plot(hists['Jpsi_p'], hists['Jpsi_mass'])"
   ]
  },
  {
   "cell_type": "code",
   "execution_count": null,
   "metadata": {},
   "outputs": [],
   "source": [
    "bx = hists['Jpsi_mass'].rebin(\"mass\", hist.Bin(\"mass\", \"$M_{\\mu^+\\mu^-}$ [GeV]\", 50, 2.95, 3.25))          \n",
    "cx = create_plot1d(bx)"
   ]
  },
  {
   "cell_type": "code",
   "execution_count": null,
   "metadata": {},
   "outputs": [],
   "source": [
    "# Jpsi pt\n",
    "bx = hists['Jpsi_p'].sum('phi','eta').rebin(\"pt\", hist.Bin(\"pt\", \"$p_{T,\\mu^+\\mu^-}$ [GeV]\", 50, 0, 100))          \n",
    "cx = create_plot1d(bx)\n",
    "cx.set_yscale('log')\n",
    "cx.set_ylim(0, 2e5)\n",
    "#ax.set_xlim(0, 105)"
   ]
  },
  {
   "cell_type": "code",
   "execution_count": null,
   "metadata": {},
   "outputs": [],
   "source": [
    "# Jpsi eta\n",
    "bx = hists['Jpsi_p'].sum('phi','pt').rebin(\"eta\", hist.Bin(\"eta\", \"$\\eta_{\\mu^+\\mu^-}$\", 60, -2.5, 2.5))          \n",
    "cx = create_plot1d(bx)"
   ]
  },
  {
   "cell_type": "code",
   "execution_count": null,
   "metadata": {},
   "outputs": [],
   "source": [
    "# Jpsi phi\n",
    "bx = hists['Jpsi_p'].sum('eta','pt').rebin(\"phi\", hist.Bin(\"phi\", \"$\\phi_{\\mu^+\\mu^-}$\", 35, -3.5, 3.5))      \n",
    "cx = create_plot1d(bx)"
   ]
  },
  {
   "cell_type": "code",
   "execution_count": null,
   "metadata": {},
   "outputs": [],
   "source": [
    "# Jpsi rapidity\n",
    "bx = hists['Jpsi_rap'].rebin(\"rap\", hist.Bin(\"rap\", \"y\", 60, -2.5, 2.5))          \n",
    "cx = create_plot1d(bx)"
   ]
  },
  {
   "cell_type": "code",
   "execution_count": null,
   "metadata": {},
   "outputs": [],
   "source": [
    "# Jpsi decay lenght\n",
    "bx = hists['Jpsi_dl'].rebin(\"dl\", hist.Bin(\"dl\", \"dl\", 100, -1.5, 1.5))          \n",
    "cx = create_plot1d(bx)\n",
    "\n",
    "cx.set_yscale('log')\n",
    "#cx.set_xlim(-1,2) \n",
    "cx.set_ylim(10, 1e6)\n",
    "cx.set_xlabel('Decay lenght [cm]')"
   ]
  },
  {
   "cell_type": "code",
   "execution_count": null,
   "metadata": {},
   "outputs": [],
   "source": [
    "# Jpsi decay lenght\n",
    "bx = hists['Jpsi_dlSig'].rebin(\"dlSig\", hist.Bin(\"dlSig\", \"dl Significance\", 50, -20, 50))       \n",
    "cx = create_plot1d(bx)\n",
    "cx.set_yscale('log')\n",
    "cx.set_ylim(0, 5e5)\n",
    "cx.set_xlim(-25, 60)"
   ]
  },
  {
   "cell_type": "code",
   "execution_count": null,
   "metadata": {},
   "outputs": [],
   "source": [
    "# Signigicance plot - log scale\n",
    "ax = hist.plot1d(hists['Jpsi_dlSig'])\n",
    "\n",
    "ax.set_yscale('log')\n",
    "#ax.set_xlim(-30, 55)\n",
    "ax.set_ylim(10, 1e6)"
   ]
  },
  {
   "cell_type": "code",
   "execution_count": null,
   "metadata": {},
   "outputs": [],
   "source": [
    "ax = create_plot1d(hists['Jpsi_chi2'])"
   ]
  },
  {
   "cell_type": "code",
   "execution_count": null,
   "metadata": {},
   "outputs": [],
   "source": [
    "# Jpsi cosphi\n",
    "bx = hists['Jpsi_cosphi'].rebin(\"cosphi\", hist.Bin(\"cosphi\", r\"$cos(\\alpha)$\", 50, -1, 1))       \n",
    "cx = create_plot1d(bx)"
   ]
  },
  {
   "cell_type": "markdown",
   "metadata": {},
   "source": [
    "# Reconstructed D⁰"
   ]
  },
  {
   "cell_type": "code",
   "execution_count": null,
   "metadata": {},
   "outputs": [],
   "source": [
    "# D0\n",
    "((ax_pt, ax_eta), (ax_phi, ax_mass)) = kinematics_plot(hists['D0_p'], hists['D0_mass12'])"
   ]
  },
  {
   "cell_type": "code",
   "execution_count": null,
   "metadata": {},
   "outputs": [],
   "source": [
    "ax = hists['D0_mass12']\n",
    "           \n",
    "bx = ax.rebin(\"mass\", hist.Bin(\"mass\", \"$m_{D^0, 12}$ [GeV]\", 50, 1.7, 2.0))\n",
    "           \n",
    "cx = create_plot1d(bx)\n",
    "\n",
    "cx.set_ylim(0.5e5, 2.5e5)"
   ]
  },
  {
   "cell_type": "code",
   "execution_count": null,
   "metadata": {},
   "outputs": [],
   "source": [
    "#### Plots organized\n",
    "\n",
    "# pT\n",
    "\n",
    "ax = hists['D0_p'].sum('eta','phi')\n",
    "\n",
    "bx = ax.rebin(\"pt\", hist.Bin(\"pt\", \"$p_{T,D^0}$ [GeV]\", 50, 0, 50))\n",
    "\n",
    "cx = create_plot1d(bx)\n",
    "\n",
    "cx.set_yscale('log')\n",
    "cx.set_ylim(0, 1.3e7)"
   ]
  },
  {
   "cell_type": "code",
   "execution_count": null,
   "metadata": {},
   "outputs": [],
   "source": [
    "# eta\n",
    "\n",
    "ax = hists['D0_p'].sum('pt','phi')\n",
    "\n",
    "bx = ax.rebin(\"eta\", hist.Bin(\"eta\", \"$\\eta_{D^0}$\", 80, -2.5, 2.5))\n",
    "\n",
    "cx = create_plot1d(bx)\n",
    "\n",
    "cx.set_ylim(0, 3.5e5)\n",
    "\n",
    "cx.set_xlim(-2.6, 2.6)"
   ]
  },
  {
   "cell_type": "code",
   "execution_count": null,
   "metadata": {},
   "outputs": [],
   "source": [
    "# phi\n",
    "\n",
    "ax = hists['D0_p'].sum('pt','eta')\n",
    "\n",
    "bx = ax.rebin(\"phi\", hist.Bin(\"phi\", \"$\\phi_{D^0 trks}$\", 35, -3.5, 3.5))\n",
    "\n",
    "cx = create_plot1d(bx)\n",
    "\n",
    "cx.set_ylim(0, 5.5e5)\n",
    "\n",
    "#cx.set_xlim(-2.6, 2.6)"
   ]
  },
  {
   "cell_type": "code",
   "execution_count": null,
   "metadata": {},
   "outputs": [],
   "source": [
    "\n",
    "fill_opts = {\n",
    "    'alpha': 0.8,\n",
    "    'edgecolor':(0,0,0,.5)\n",
    "}\n",
    "err_opts = {\n",
    "        'linestyle': 'none',\n",
    "        'marker': '.',\n",
    "        'markersize': 10.,\n",
    "        'elinewidth': 1,\n",
    "}\n",
    "    \n",
    "ax = hist.plot1d(hists['D0_mass12'])\n",
    "hist.plot1d(hists['D0_mass21'])\n",
    "\n",
    "handles, labels = ax.get_legend_handles_labels()\n",
    "labels = ['$m_{K \\pi}$', '$m_{\\pi K}$']\n",
    "ax.legend(handles, labels, prop={'size': 16})\n",
    "\n",
    "ax.set_xlabel('$m_{D^0}$')"
   ]
  },
  {
   "cell_type": "code",
   "execution_count": null,
   "metadata": {},
   "outputs": [],
   "source": [
    "ax = create_plot1d(hists['D0_rap'])"
   ]
  },
  {
   "cell_type": "code",
   "execution_count": null,
   "metadata": {},
   "outputs": [],
   "source": [
    "ax = create_plot1d(hists['D0_dlSig'])"
   ]
  },
  {
   "cell_type": "code",
   "execution_count": null,
   "metadata": {},
   "outputs": [],
   "source": [
    "ax = create_plot1d(hists['D0_chi2'])"
   ]
  },
  {
   "cell_type": "code",
   "execution_count": null,
   "metadata": {},
   "outputs": [],
   "source": [
    "ax = create_plot1d(hists['D0_cosphi'])"
   ]
  },
  {
   "cell_type": "code",
   "execution_count": null,
   "metadata": {},
   "outputs": [],
   "source": [
    "ax = create_plot2d(hists['D0_p'].sum('phi'), xaxis='eta')\n",
    "#ax.set_ylim(3,10)"
   ]
  },
  {
   "cell_type": "code",
   "execution_count": null,
   "metadata": {},
   "outputs": [],
   "source": [
    "((ax_pt, ax_eta), (ax_phi, ax_mass)) = kinematics_plot(hists['D0_trk_p'])"
   ]
  },
  {
   "cell_type": "code",
   "execution_count": null,
   "metadata": {},
   "outputs": [],
   "source": [
    "ax = hist.plot1d(hists['D0_trk_p'].sum('phi','eta'), fill_opts=fill_opts)\n",
    "\n",
    "ax.set_xlim(0, 4)\n",
    "ax.set_ylim(1, 1e5)"
   ]
  },
  {
   "cell_type": "code",
   "execution_count": null,
   "metadata": {},
   "outputs": [],
   "source": [
    "ax = create_plot1d(hists['D0_trk_chindof'])"
   ]
  },
  {
   "cell_type": "code",
   "execution_count": null,
   "metadata": {},
   "outputs": [],
   "source": [
    "ax = create_plot1d(hists['D0_trk_nValid'])"
   ]
  },
  {
   "cell_type": "code",
   "execution_count": null,
   "metadata": {},
   "outputs": [],
   "source": [
    "ax = create_plot1d(hists['D0_trk_nPix'])"
   ]
  },
  {
   "cell_type": "code",
   "execution_count": null,
   "metadata": {},
   "outputs": [],
   "source": [
    "ax = create_plot1d(hists['D0_trk_dxy'])"
   ]
  },
  {
   "cell_type": "code",
   "execution_count": null,
   "metadata": {},
   "outputs": [],
   "source": [
    "ax = create_plot1d(hists['D0_trk_dz'])"
   ]
  },
  {
   "cell_type": "markdown",
   "metadata": {},
   "source": [
    "# Reconstructed D*"
   ]
  },
  {
   "cell_type": "code",
   "execution_count": null,
   "metadata": {},
   "outputs": [],
   "source": [
    "# Dstar right charge\n",
    "((ax_pt, ax_eta), (ax_phi, ax_mass)) = kinematics_plot(hists['Dstar_p'].integrate('chg', 'right charge'), \n",
    "                                                       hists['Dstar_deltamr'].integrate('chg', 'right charge'))"
   ]
  },
  {
   "cell_type": "code",
   "execution_count": null,
   "metadata": {},
   "outputs": [],
   "source": [
    "#### Plots organized -> Right charge\n",
    "\n",
    "# pT\n",
    "\n",
    "ax = hists['Dstar_p'].integrate('chg', 'right charge').sum('eta','phi')\n",
    "\n",
    "bx = ax.rebin(\"pt\", hist.Bin(\"pt\", \"$p_{T,D*}$ [GeV]\", 50, 0, 50))\n",
    "\n",
    "cx = create_plot1d(bx)\n",
    "cx.set_yscale('log')\n",
    "cx.set_ylim(0, 2.1e7)\n",
    "cx.set_xlim(0, 60)"
   ]
  },
  {
   "cell_type": "code",
   "execution_count": null,
   "metadata": {},
   "outputs": [],
   "source": [
    "# eta\n",
    "\n",
    "ax = hists['Dstar_p'].integrate('chg', 'right charge').sum('pt','phi')\n",
    "\n",
    "bx = ax.rebin(\"eta\", hist.Bin(\"eta\", \"$\\eta_{D*}$\", 40, -2.5, 2.5))\n",
    "\n",
    "cx = create_plot1d(bx)\n",
    "\n",
    "cx.set_xlim(-2.6, 2.6)"
   ]
  },
  {
   "cell_type": "code",
   "execution_count": null,
   "metadata": {},
   "outputs": [],
   "source": [
    "# phi\n",
    "\n",
    "ax = hists['Dstar_p'].integrate('chg', 'right charge').sum('pt','eta')\n",
    "\n",
    "bx = ax.rebin(\"phi\", hist.Bin(\"phi\", \"$\\phi_{D*}$\", 35, -3.5, 3.5))\n",
    "\n",
    "cx = create_plot1d(bx)\n",
    "\n",
    "#cx.set_ylim(0, 1.6e3)\n"
   ]
  },
  {
   "cell_type": "code",
   "execution_count": null,
   "metadata": {},
   "outputs": [],
   "source": [
    "# Dstar wrg charge\n",
    "((ax_pt, ax_eta), (ax_phi, ax_mass)) = kinematics_plot(hists['Dstar_p'].integrate('chg', 'wrong charge'), \n",
    "                                                       hists['Dstar_deltamr'].integrate('chg', 'wrong charge'))"
   ]
  },
  {
   "cell_type": "code",
   "execution_count": null,
   "metadata": {},
   "outputs": [],
   "source": [
    "hist_wrg_chg = hists['Dstar_deltamr'].integrate('chg', 'wrong charge')\n",
    "hist.plot1d(hist_wrg_chg)"
   ]
  },
  {
   "cell_type": "code",
   "execution_count": null,
   "metadata": {},
   "outputs": [],
   "source": [
    "# Dstar wrg chg plot\n",
    "hist_wrg_chg = hists['Dstar_deltamr'].integrate('chg', 'wrong charge')\n",
    "hist_rgt_chg = hists['Dstar_deltamr'].integrate('chg', 'right charge')\n",
    "\n",
    "w = get_dstar_weight(hist_rgt_chg, hist_wrg_chg)\n",
    "hist_wrg_chg.scale(w)\n",
    "\n",
    "ax, rax = ratio_plot(hist_rgt_chg, hist_wrg_chg)\n",
    "\n",
    "handles, labels = ax.get_legend_handles_labels()\n",
    "labels = ['right charge', 'wrong charge']\n",
    "\n",
    "leg = ax.legend(handles, labels)\n",
    "\n",
    "rax.set_xlabel('$\\Delta m$ [GeV]')\n",
    "print(f\"weight: {w}\")"
   ]
  },
  {
   "cell_type": "code",
   "execution_count": null,
   "metadata": {},
   "outputs": [],
   "source": [
    "hist_wrg_chg.scale(-1)\n",
    "histo = hist_rgt_chg + hist_wrg_chg\n",
    "hist_wrg_chg.scale(1)\n",
    "ax = create_plot1d(histo)\n",
    "ax.legend().remove()\n",
    "\n",
    "ax.set_ylim(-1e2, 74e3)"
   ]
  },
  {
   "cell_type": "code",
   "execution_count": null,
   "metadata": {},
   "outputs": [],
   "source": [
    "#### Changing the bin\n",
    "\n",
    "ax = histo\n",
    "\n",
    "bx = ax.rebin(\"deltamr\", hist.Bin(\"deltamr\", \"$\\Delta m_{refit}$ [GeV]\", 50 , 0.138, 0.162))\n",
    "\n",
    "cx = create_plot1d(bx)\n",
    "\n",
    "cx.set_ylim(-1000, 75e3)"
   ]
  },
  {
   "cell_type": "code",
   "execution_count": null,
   "metadata": {},
   "outputs": [],
   "source": [
    "######################## D* Mass ########################\n",
    "\n",
    "fill_opts = {\n",
    "    'alpha': 0.8,\n",
    "    'edgecolor':(0,0,0,.5)\n",
    "}\n",
    "\n",
    "\n",
    "data_err_opts = {\n",
    "    'linestyle': 'none',\n",
    "    'marker': '.',\n",
    "    'markersize': 10.,\n",
    "    'color': 'k',\n",
    "    'elinewidth': 0,\n",
    "}\n",
    "    \n",
    "# Data    \n",
    "ax = hist.plot1d(histo, error_opts=data_err_opts)\n"
   ]
  },
  {
   "cell_type": "code",
   "execution_count": null,
   "metadata": {},
   "outputs": [],
   "source": [
    "ax = create_plot1d(hists['Dstar_rap'].integrate('chg', 'right charge'))"
   ]
  },
  {
   "cell_type": "code",
   "execution_count": 10,
   "metadata": {},
   "outputs": [
    {
     "name": "stderr",
     "output_type": "stream",
     "text": [
      "/afs/cern.ch/user/m/mabarros/miniconda3/envs/OniaOpenCharmRun2ULenv/lib/python3.9/site-packages/numpy/core/_methods.py:44: RuntimeWarning: invalid value encountered in reduce\n",
      "  return umr_minimum(a, axis, None, out, keepdims, initial, where)\n",
      "/afs/cern.ch/user/m/mabarros/miniconda3/envs/OniaOpenCharmRun2ULenv/lib/python3.9/site-packages/numpy/core/_methods.py:40: RuntimeWarning: invalid value encountered in reduce\n",
      "  return umr_maximum(a, axis, None, out, keepdims, initial, where)\n"
     ]
    },
    {
     "data": {
      "text/plain": [
       "(0.9, 1.1)"
      ]
     },
     "execution_count": 10,
     "metadata": {},
     "output_type": "execute_result"
    },
    {
     "data": {
      "image/png": "[encoded data removed]",
      "text/plain": [
       "<Figure size 720x720 with 1 Axes>"
      ]
     },
     "metadata": {
      "needs_background": "light"
     },
     "output_type": "display_data"
    }
   ],
   "source": [
    "hist_cphi = hists['Dstar_D0cosphi'].integrate('chg', 'right charge')\n",
    "\n",
    "hist_rebin = hist_cphi.rebin(\"cosphi\", hist.Bin(\"cosphi\", r\"$cos(\\alpha)$\", 50, -1, 1))\n",
    "\n",
    "ax = create_plot1d(hist_rebin)\n",
    "\n",
    "ax.set_xlim(0.9, 1.1)"
   ]
  },
  {
   "cell_type": "code",
   "execution_count": null,
   "metadata": {},
   "outputs": [],
   "source": [
    "((ax_pt, ax_eta), (ax_phi, ax_mass)) = kinematics_plot(hists['Dstar_K_p'])"
   ]
  },
  {
   "cell_type": "code",
   "execution_count": null,
   "metadata": {},
   "outputs": [],
   "source": [
    "ax = hist.plot1d(hists['Dstar_K_p'].sum('phi','eta'), fill_opts=fill_opts)\n",
    "\n",
    "ax.set_xlim(0, 4)\n",
    "ax.set_ylim(1, 4.2e305)"
   ]
  },
  {
   "cell_type": "code",
   "execution_count": null,
   "metadata": {},
   "outputs": [],
   "source": [
    "ax = create_plot2d(hists['Dstar_K_p'].sum('phi'))\n",
    "ax.set_xlim(0, 10)"
   ]
  },
  {
   "cell_type": "code",
   "execution_count": null,
   "metadata": {},
   "outputs": [],
   "source": [
    "ax = create_plot1d(hists['Dstar_K_chindof'])"
   ]
  },
  {
   "cell_type": "code",
   "execution_count": null,
   "metadata": {},
   "outputs": [],
   "source": [
    "ax = create_plot1d(hists['Dstar_K_nValid'])"
   ]
  },
  {
   "cell_type": "code",
   "execution_count": null,
   "metadata": {},
   "outputs": [],
   "source": [
    "ax = create_plot1d(hists['Dstar_K_nPix'])"
   ]
  },
  {
   "cell_type": "code",
   "execution_count": null,
   "metadata": {},
   "outputs": [],
   "source": [
    "ax = create_plot1d(hists['Dstar_K_dxy'])"
   ]
  },
  {
   "cell_type": "code",
   "execution_count": null,
   "metadata": {},
   "outputs": [],
   "source": [
    "ax = create_plot1d(hists['Dstar_K_dxy'])"
   ]
  },
  {
   "cell_type": "code",
   "execution_count": null,
   "metadata": {},
   "outputs": [],
   "source": [
    "ax = create_plot1d(hists['Dstar_K_dz'])"
   ]
  },
  {
   "cell_type": "code",
   "execution_count": null,
   "metadata": {},
   "outputs": [],
   "source": [
    "ax = create_plot2d(hists['Dstar_K_pt_eta'])"
   ]
  },
  {
   "cell_type": "code",
   "execution_count": null,
   "metadata": {},
   "outputs": [],
   "source": [
    "# Dstar pi\n",
    "((ax_pt, ax_eta), (ax_phi, ax_mass)) = kinematics_plot(hists['Dstar_pi_p'])"
   ]
  },
  {
   "cell_type": "code",
   "execution_count": null,
   "metadata": {},
   "outputs": [],
   "source": [
    "ax = hist.plot1d(hists['Dstar_pi_p'].sum('phi','eta'), fill_opts=fill_opts)\n",
    "\n",
    "ax.set_xlim(0, 4)\n",
    "ax.set_ylim(1, 2.9e3)"
   ]
  },
  {
   "cell_type": "code",
   "execution_count": null,
   "metadata": {},
   "outputs": [],
   "source": [
    "ax = create_plot1d(hists['Dstar_pi_chindof'])"
   ]
  },
  {
   "cell_type": "code",
   "execution_count": null,
   "metadata": {},
   "outputs": [],
   "source": [
    "ax = create_plot1d(hists['Dstar_pi_nValid'])"
   ]
  },
  {
   "cell_type": "code",
   "execution_count": null,
   "metadata": {},
   "outputs": [],
   "source": [
    "ax = create_plot1d(hists['Dstar_pi_nPix'])"
   ]
  },
  {
   "cell_type": "code",
   "execution_count": null,
   "metadata": {},
   "outputs": [],
   "source": [
    "ax = create_plot1d(hists['Dstar_pi_dxy'])"
   ]
  },
  {
   "cell_type": "code",
   "execution_count": null,
   "metadata": {},
   "outputs": [],
   "source": [
    "ax = create_plot1d(hists['Dstar_pi_dz'])"
   ]
  },
  {
   "cell_type": "code",
   "execution_count": null,
   "metadata": {},
   "outputs": [],
   "source": [
    "# Dstar pis\n",
    "((ax_pt, ax_eta), (ax_phi, ax_mass)) = kinematics_plot(hists['Dstar_pis_p'])"
   ]
  },
  {
   "cell_type": "code",
   "execution_count": null,
   "metadata": {},
   "outputs": [],
   "source": [
    "ax = hist.plot1d(hists['Dstar_pis_p'].sum('phi','eta'), fill_opts=fill_opts)\n",
    "\n",
    "ax.set_xlim(0, 4)\n",
    "ax.set_ylim(1, 1.3e4)"
   ]
  },
  {
   "cell_type": "code",
   "execution_count": null,
   "metadata": {},
   "outputs": [],
   "source": [
    "ax = create_plot1d(hists['Dstar_pis_chindof'])"
   ]
  },
  {
   "cell_type": "code",
   "execution_count": null,
   "metadata": {},
   "outputs": [],
   "source": [
    "ax = create_plot1d(hists['Dstar_pis_nValid'])"
   ]
  },
  {
   "cell_type": "code",
   "execution_count": null,
   "metadata": {},
   "outputs": [],
   "source": [
    "ax = create_plot1d(hists['Dstar_pis_nPix'])"
   ]
  },
  {
   "cell_type": "code",
   "execution_count": null,
   "metadata": {},
   "outputs": [],
   "source": [
    "ax = create_plot1d(hists['Dstar_pis_dxy'])"
   ]
  },
  {
   "cell_type": "code",
   "execution_count": null,
   "metadata": {},
   "outputs": [],
   "source": [
    "ax = create_plot1d(hists['Dstar_pis_dz'])"
   ]
  },
  {
   "cell_type": "markdown",
   "metadata": {},
   "source": [
    "# Associated Particles"
   ]
  },
  {
   "cell_type": "code",
   "execution_count": null,
   "metadata": {},
   "outputs": [],
   "source": [
    "# Associated Jpsi Dstar\n",
    "((ax_pt, ax_eta), (ax_phi, ax_mass)) = kinematics_plot(hists['JpsiDstar']['Jpsi_p'], hists['JpsiDstar']['Jpsi_mass'])"
   ]
  },
  {
   "cell_type": "code",
   "execution_count": null,
   "metadata": {},
   "outputs": [],
   "source": [
    "((ax_pt, ax_eta), (ax_phi, ax_mass)) = kinematics_plot(hists['JpsiDstar']['Dstar_p'].integrate('chg', 'right charge'),\n",
    "                                                       hists['JpsiDstar']['Dstar_deltamr'].integrate('chg', 'right charge'))"
   ]
  },
  {
   "cell_type": "code",
   "execution_count": null,
   "metadata": {},
   "outputs": [],
   "source": [
    "hist_wrg_chg = hists['JpsiDstar']['Dstar_deltamr'].integrate('chg', 'wrong charge')\n",
    "hist_rgt_chg = hists['JpsiDstar']['Dstar_deltamr'].integrate('chg', 'right charge')\n",
    "\n",
    "w = get_dstar_weight(hist_rgt_chg, hist_wrg_chg)\n",
    "hist_wrg_chg.scale(w)\n",
    "\n",
    "ax, rax = ratio_plot(hist_rgt_chg, hist_wrg_chg)\n",
    "\n",
    "handles, labels = ax.get_legend_handles_labels()\n",
    "labels = ['right charge', 'wrong charge']\n",
    "\n",
    "leg = ax.legend(handles, labels)\n",
    "\n",
    "rax.set_xlabel('$\\Delta m$ [GeV]')\n",
    "print(f\"weight: {w}\")"
   ]
  },
  {
   "cell_type": "code",
   "execution_count": null,
   "metadata": {},
   "outputs": [],
   "source": [
    "hist_rgt_chg = hists['JpsiDstar']['Dstar_deltamr'].integrate('chg', 'right charge')\n"
   ]
  },
  {
   "cell_type": "code",
   "execution_count": null,
   "metadata": {},
   "outputs": [],
   "source": [
    "#ax = create_plot1d(hists['JpsiDstar']['JpsiDstar_mass'])\n",
    "\n",
    "#file = '../output/test_Charmonium2017E_new_code/test_Charmonium2017E_new_code_hists.coffea'\n",
    "#file = '../output/test_trigger_Charmonium2017E/test_trigger_Charmonium2017E_hists.coffea'\n",
    "#file = '../output/Charmonium2017E_D0_dl_study/Charmonium2017E_D0_dl_study_hists.coffea'\n",
    "#file = '../output/Monte_Carlo_2017_new_code/Monte_Carlo_2017_new_code_hists.coffea'\n",
    "\n",
    "#hists = load(file)\n",
    "\n",
    "histograma = hists['JpsiDstar']['JpsiDstar_mass']\n",
    "\n",
    "#ax = histograma.rebin(\"mass\", hist.Bin(\"mass\", \"$m_{J/\\psi D*}$ [GeV]\", 100, 0, 100))\n",
    "\n",
    "ax = create_plot1d(histograma)\n",
    "\n",
    "\n",
    "#ax.set_xlim(0, 20)"
   ]
  },
  {
   "cell_type": "code",
   "execution_count": null,
   "metadata": {},
   "outputs": [],
   "source": [
    "ax = create_plot1d(hists['JpsiDstar']['JpsiDstar_deltarap'])"
   ]
  },
  {
   "cell_type": "code",
   "execution_count": null,
   "metadata": {},
   "outputs": [],
   "source": [
    "hist2d = hists['JpsiDstar']['reco_dstar_dimu']\n",
    "create_plot2d(hist2d, ax=None, xaxis='dstar_pt')"
   ]
  },
  {
   "cell_type": "markdown",
   "metadata": {},
   "source": [
    "# Comparison Monte Carlo With data"
   ]
  },
  {
   "cell_type": "code",
   "execution_count": 1,
   "metadata": {},
   "outputs": [],
   "source": [
    "import awkward as ak\n",
    "from coffea.util import load\n",
    "from coffea import hist\n",
    "import matplotlib.pyplot as plt\n",
    "import mplhep\n",
    "\n",
    "import numpy as np\n",
    "\n",
    "plt.style.use(mplhep.style.CMS)\n",
    "\n",
    "from coffea.nanoevents.methods import candidate\n",
    "ak.behavior.update(candidate.behavior)"
   ]
  },
  {
   "cell_type": "code",
   "execution_count": 2,
   "metadata": {},
   "outputs": [],
   "source": [
    "''' Comparison Monte Carlo With data ''' \n",
    "    \n",
    "## Data\n",
    "\n",
    "# Charmonium 2017E\n",
    "\n",
    "data_file = '../output/Charmonium_2017/Charmonium_2017_hists.coffea'\n",
    "\n",
    "# Charmonium 2018B\n",
    "\n",
    "#data_file = '../output/Charmonium2018B_test_loose_cuts/Charmonium2018B_test_loose_cuts_hists.coffea'\n",
    "\n",
    "## Monte Carlo\n",
    "\n",
    "mc_file = '../output/Monte_Carlo_2017/Monte_Carlo_2017_hists.coffea'\n",
    "\n",
    "\n",
    "hists_data = load(data_file)\n",
    "hists_mc = load(mc_file)"
   ]
  },
  {
   "cell_type": "code",
   "execution_count": 3,
   "metadata": {},
   "outputs": [
    {
     "data": {
      "text/plain": [
       "Text(1, 0, '$\\\\mu^+\\\\mu^- invariant\\\\ mass\\\\  [GeV]$')"
      ]
     },
     "execution_count": 3,
     "metadata": {},
     "output_type": "execute_result"
    },
    {
     "data": {
      "image/png": "[encoded data removed]",
      "text/plain": [
       "<Figure size 720x720 with 1 Axes>"
      ]
     },
     "metadata": {
      "needs_background": "light"
     },
     "output_type": "display_data"
    }
   ],
   "source": [
    "######################## Jpsi Mass ########################\n",
    "\n",
    "fill_opts = {\n",
    "    'alpha': 0.8,\n",
    "    'edgecolor':(0,0,0,.5)\n",
    "}\n",
    "\n",
    "data_err_opts = {\n",
    "    'linestyle': 'none',\n",
    "    'marker': '.',\n",
    "    'markersize': 10.,\n",
    "    'color': 'k',\n",
    "    'elinewidth': 1,\n",
    "}\n",
    "\n",
    "# Data    \n",
    "\n",
    "ax = hist.plot1d(\n",
    "    hists_data['Jpsi_mass'],\n",
    "    error_opts=data_err_opts\n",
    ")\n",
    "\n",
    "# MC\n",
    "ay = hist.plot1d(\n",
    "    hists_mc['Jpsi_mass'],\n",
    "    fill_opts=fill_opts,\n",
    ")\n",
    "\n",
    "ax.autoscale(axis='x', tight=True)\n",
    "ax.set_ylim(0, None)\n",
    "ax.set_xlabel(None)\n",
    "leg = ax.legend()\n",
    "\n",
    "CMS = plt.text(0.03, 0.93, \"CMS\",\n",
    "                  fontsize=22,\n",
    "                  fontweight='bold',\n",
    "                  horizontalalignment='left',\n",
    "                  verticalalignment='bottom',\n",
    "                  transform=ax.transAxes\n",
    "                 )\n",
    "pre = plt.text(0.03, 0.88, \"Preliminary\",\n",
    "                  fontsize=19,\n",
    "                  fontstyle='italic',\n",
    "                  horizontalalignment='left',\n",
    "                  verticalalignment='bottom',\n",
    "                  transform=ax.transAxes\n",
    "                 )\n",
    "lumi = plt.text(1., 1., r\"44.99 fb$^{-1}$ (13 TeV)\",\n",
    "                fontsize=18,\n",
    "                fontstyle='normal',\n",
    "                horizontalalignment='right',\n",
    "                verticalalignment='bottom',\n",
    "                transform=ax.transAxes\n",
    "               )\n",
    "\n",
    "handles, labels = ax.get_legend_handles_labels()\n",
    "labels = ['$MC$', '$Data$']\n",
    "ax.legend(handles, labels, prop={'size': 16})\n",
    "\n",
    "ax.set_xlabel('$\\mu^+\\mu^- invariant\\ mass\\  [GeV]$')"
   ]
  },
  {
   "cell_type": "code",
   "execution_count": 4,
   "metadata": {},
   "outputs": [
    {
     "data": {
      "text/plain": [
       "'######################## Primary vertex ########################\\n\\n\\nfill_opts = {\\n    \\'alpha\\': 0.8,\\n    \\'edgecolor\\':(0,0,0,.5)\\n}\\n\\ndata_err_opts = {\\n    \\'linestyle\\': \\'none\\',\\n    \\'marker\\': \\'.\\',\\n    \\'markersize\\': 10.,\\n    \\'color\\': \\'k\\',\\n    \\'elinewidth\\': 1,\\n}\\n\\n# Data    \\n\\nax = hist.plot1d(\\n    hists_data[\\'Primary_vertex_npvs\\'],\\n    error_opts=data_err_opts\\n)\\n\\n# MC\\nay = hist.plot1d(\\n    hists_mc[\\'Primary_vertex_npvs\\'],\\n    fill_opts=fill_opts,\\n)\\n\\nax.autoscale(axis=\\'x\\', tight=True)\\nax.set_ylim(0, None)\\nax.set_xlabel(None)\\nleg = ax.legend()\\n\\nCMS = plt.text(0.03, 0.93, \"CMS\",\\n                  fontsize=22,\\n                  fontweight=\\'bold\\',\\n                  horizontalalignment=\\'left\\',\\n                  verticalalignment=\\'bottom\\',\\n                  transform=ax.transAxes\\n                 )\\npre = plt.text(0.03, 0.88, \"Preliminary\",\\n                  fontsize=19,\\n                  fontstyle=\\'italic\\',\\n                  horizontalalignment=\\'left\\',\\n                  verticalalignment=\\'bottom\\',\\n                  transform=ax.transAxes\\n                 )\\nlumi = plt.text(1., 1., r\"44.99 fb$^{-1}$ (13 TeV)\",\\n                fontsize=18,\\n                fontstyle=\\'normal\\',\\n                horizontalalignment=\\'right\\',\\n                verticalalignment=\\'bottom\\',\\n                transform=ax.transAxes\\n               )\\n\\nhandles, labels = ax.get_legend_handles_labels()\\nlabels = [\\'$MC$\\', \\'$Data$\\']\\nax.legend(handles, labels, prop={\\'size\\': 16})\\n\\nax.set_xlabel(\\'$Number \\\\ of \\\\ Primary \\\\ vertex$\\')\\nax.set_ylim(0, 31000)'"
      ]
     },
     "execution_count": 4,
     "metadata": {},
     "output_type": "execute_result"
    }
   ],
   "source": [
    "'''######################## Primary vertex ########################\n",
    "\n",
    "\n",
    "fill_opts = {\n",
    "    'alpha': 0.8,\n",
    "    'edgecolor':(0,0,0,.5)\n",
    "}\n",
    "\n",
    "data_err_opts = {\n",
    "    'linestyle': 'none',\n",
    "    'marker': '.',\n",
    "    'markersize': 10.,\n",
    "    'color': 'k',\n",
    "    'elinewidth': 1,\n",
    "}\n",
    "\n",
    "# Data    \n",
    "\n",
    "ax = hist.plot1d(\n",
    "    hists_data['Primary_vertex_npvs'],\n",
    "    error_opts=data_err_opts\n",
    ")\n",
    "\n",
    "# MC\n",
    "ay = hist.plot1d(\n",
    "    hists_mc['Primary_vertex_npvs'],\n",
    "    fill_opts=fill_opts,\n",
    ")\n",
    "\n",
    "ax.autoscale(axis='x', tight=True)\n",
    "ax.set_ylim(0, None)\n",
    "ax.set_xlabel(None)\n",
    "leg = ax.legend()\n",
    "\n",
    "CMS = plt.text(0.03, 0.93, \"CMS\",\n",
    "                  fontsize=22,\n",
    "                  fontweight='bold',\n",
    "                  horizontalalignment='left',\n",
    "                  verticalalignment='bottom',\n",
    "                  transform=ax.transAxes\n",
    "                 )\n",
    "pre = plt.text(0.03, 0.88, \"Preliminary\",\n",
    "                  fontsize=19,\n",
    "                  fontstyle='italic',\n",
    "                  horizontalalignment='left',\n",
    "                  verticalalignment='bottom',\n",
    "                  transform=ax.transAxes\n",
    "                 )\n",
    "lumi = plt.text(1., 1., r\"44.99 fb$^{-1}$ (13 TeV)\",\n",
    "                fontsize=18,\n",
    "                fontstyle='normal',\n",
    "                horizontalalignment='right',\n",
    "                verticalalignment='bottom',\n",
    "                transform=ax.transAxes\n",
    "               )\n",
    "\n",
    "handles, labels = ax.get_legend_handles_labels()\n",
    "labels = ['$MC$', '$Data$']\n",
    "ax.legend(handles, labels, prop={'size': 16})\n",
    "\n",
    "ax.set_xlabel('$Number \\ of \\ Primary \\ vertex$')\n",
    "ax.set_ylim(0, 31000)'''"
   ]
  },
  {
   "cell_type": "code",
   "execution_count": 5,
   "metadata": {},
   "outputs": [
    {
     "name": "stderr",
     "output_type": "stream",
     "text": [
      "/afs/cern.ch/user/m/mabarros/miniconda3/envs/OniaOpenCharmRun2ULenv/lib/python3.9/site-packages/numpy/core/_methods.py:44: RuntimeWarning: invalid value encountered in reduce\n",
      "  return umr_minimum(a, axis, None, out, keepdims, initial, where)\n",
      "/afs/cern.ch/user/m/mabarros/miniconda3/envs/OniaOpenCharmRun2ULenv/lib/python3.9/site-packages/numpy/core/_methods.py:40: RuntimeWarning: invalid value encountered in reduce\n",
      "  return umr_maximum(a, axis, None, out, keepdims, initial, where)\n"
     ]
    },
    {
     "data": {
      "text/plain": [
       "(10, 10000.0)"
      ]
     },
     "execution_count": 5,
     "metadata": {},
     "output_type": "execute_result"
    },
    {
     "data": {
      "image/png": "[encoded data removed]",
      "text/plain": [
       "<Figure size 720x720 with 1 Axes>"
      ]
     },
     "metadata": {
      "needs_background": "light"
     },
     "output_type": "display_data"
    }
   ],
   "source": [
    "## pT\n",
    "\n",
    "# Data\n",
    "ax = hist.plot1d(hists_data['Jpsi_p'].sum('eta', 'phi'), error_opts=data_err_opts)\n",
    "\n",
    "# MC\n",
    "ay = hist.plot1d(hists_mc['Jpsi_p'].sum('eta', 'phi'), fill_opts=fill_opts)\n",
    "\n",
    "ax.set_yscale('log')\n",
    "ax.set_ylim(10, 1e4)\n",
    "\n",
    "handles, labels = ax.get_legend_handles_labels()\n",
    "labels = ['$MC$', '$Data$']\n",
    "ax.legend(handles, labels, prop={'size': 16})\n",
    "\n",
    "ax.set_xlabel('$J/\\Psi\\ p_T\\ [GeV]$')\n",
    "\n",
    "ay.set_yscale('log')\n",
    "ay.set_ylim(10, 1e4)"
   ]
  },
  {
   "cell_type": "code",
   "execution_count": null,
   "metadata": {},
   "outputs": [],
   "source": [
    "## eta\n",
    "\n",
    "# Data\n",
    "ax = hist.plot1d(hists_data['Jpsi_p'].sum('pt', 'phi'), error_opts=data_err_opts)\n",
    "\n",
    "# MC\n",
    "ay = hist.plot1d(hists_mc['Jpsi_p'].sum('pt', 'phi'), fill_opts=fill_opts)\n",
    "\n",
    "handles, labels = ax.get_legend_handles_labels()\n",
    "labels = ['$MC$', '$Data$']\n",
    "ax.legend(handles, labels, prop={'size': 16})\n",
    "\n",
    "ax.set_xlabel('$J/\\Psi\\ \\eta$')"
   ]
  },
  {
   "cell_type": "code",
   "execution_count": null,
   "metadata": {},
   "outputs": [],
   "source": [
    "## phi\n",
    "\n",
    "# Data\n",
    "ax = hist.plot1d(hists_data['Jpsi_p'].sum('pt', 'eta'), error_opts=data_err_opts)\n",
    "\n",
    "# MC\n",
    "ay = hist.plot1d(hists_mc['Jpsi_p'].sum('pt', 'eta'), fill_opts=fill_opts)\n",
    "\n",
    "handles, labels = ax.get_legend_handles_labels()\n",
    "labels = ['$MC$', '$Data$']\n",
    "ax.legend(handles, labels, prop={'size': 16})\n",
    "\n",
    "ax.set_xlabel('$J/\\Psi\\ \\phi$')"
   ]
  },
  {
   "cell_type": "code",
   "execution_count": null,
   "metadata": {},
   "outputs": [],
   "source": [
    "######################## D0 Mass ########################\n",
    "\n",
    "fill_opts = {\n",
    "    'alpha': 0.8,\n",
    "    'edgecolor':(0,0,0,.5)\n",
    "}\n",
    "err_opts = {\n",
    "        'linestyle': 'none',\n",
    "        'marker': '.',\n",
    "        'markersize': 10.,\n",
    "        'elinewidth': 1,\n",
    "}\n",
    "    \n",
    "# Data    \n",
    "ax = hist.plot1d(hists_data['D0_mass12'], error_opts=data_err_opts)\n",
    "ax.set_ylim(0, 160)\n",
    "\n",
    "# MC\n",
    "hist.plot1d(hists_mc['D0_mass12'], fill_opts=fill_opts)\n",
    "\n",
    "handles, labels = ax.get_legend_handles_labels()\n",
    "labels = ['$MC$', '$Data$']\n",
    "ax.legend(handles, labels, prop={'size': 16})\n",
    "\n",
    "ax.set_xlabel('$K\\pi\\ invariant\\ mass\\  [GeV]$')"
   ]
  },
  {
   "cell_type": "code",
   "execution_count": null,
   "metadata": {},
   "outputs": [],
   "source": [
    "## pT\n",
    "\n",
    "# Data\n",
    "ax = hist.plot1d(hists_data['D0_p'].sum('eta', 'phi'), error_opts=data_err_opts)\n",
    "\n",
    "# MC\n",
    "ay = hist.plot1d(hists_mc['D0_p'].sum('eta', 'phi'), fill_opts=fill_opts)\n",
    "\n",
    "ax.set_yscale('log')\n",
    "ax.set_ylim(10, 4e3)\n",
    "\n",
    "handles, labels = ax.get_legend_handles_labels()\n",
    "labels = ['$MC$', '$Data$']\n",
    "ax.legend(handles, labels, prop={'size': 16})\n",
    "\n",
    "ax.set_xlabel('$D^0\\ p_T\\ [GeV]$')\n",
    "\n",
    "ay.set_yscale('log')\n",
    "ay.set_ylim(10, 4e3)"
   ]
  },
  {
   "cell_type": "code",
   "execution_count": null,
   "metadata": {},
   "outputs": [],
   "source": [
    "## eta\n",
    "\n",
    "# Data\n",
    "ax = hist.plot1d(hists_data['D0_p'].sum('pt', 'phi'), error_opts=data_err_opts)\n",
    "\n",
    "# MC\n",
    "ay = hist.plot1d(hists_mc['D0_p'].sum('pt', 'phi'), fill_opts=fill_opts)\n",
    "\n",
    "handles, labels = ax.get_legend_handles_labels()\n",
    "labels = ['$MC$', '$Data$']\n",
    "ax.legend(handles, labels, prop={'size': 16})\n",
    "\n",
    "ax.set_xlabel('$D^0\\ \\eta$')\n",
    "ax.set_ylim(0, 250)"
   ]
  },
  {
   "cell_type": "code",
   "execution_count": null,
   "metadata": {},
   "outputs": [],
   "source": [
    "## phi\n",
    "\n",
    "# Data\n",
    "ax = hist.plot1d(hists_data['D0_p'].sum('pt', 'eta'), error_opts=data_err_opts)\n",
    "\n",
    "# MC\n",
    "ay = hist.plot1d(hists_mc['D0_p'].sum('pt', 'eta'), fill_opts=fill_opts)\n",
    "\n",
    "handles, labels = ax.get_legend_handles_labels()\n",
    "labels = ['$MC$', '$Data$']\n",
    "ax.legend(handles, labels, prop={'size': 16})\n",
    "\n",
    "ax.set_xlabel('$D^0\\ \\phi$')\n",
    "ax.set_ylim(0, 250)"
   ]
  },
  {
   "cell_type": "code",
   "execution_count": null,
   "metadata": {},
   "outputs": [],
   "source": [
    "######################## D* Mass ########################\n",
    "\n",
    "fill_opts = {\n",
    "    'alpha': 0.8,\n",
    "    'edgecolor':(0,0,0,.5)\n",
    "}\n",
    "err_opts = {\n",
    "        'linestyle': 'none',\n",
    "        'marker': '.',\n",
    "        'markersize': 10.,\n",
    "        'elinewidth': 1,\n",
    "}\n",
    "    \n",
    "# Data    \n",
    "ax = hist.plot1d(hists_data['Dstar_deltamr'].integrate('chg', 'right charge'), error_opts=data_err_opts)\n",
    "ax.set_ylim(0, 160)\n",
    "\n",
    "# MC\n",
    "hist.plot1d(hists_mc['Dstar_deltamr'].integrate('chg', 'right charge'), fill_opts=fill_opts)\n",
    "\n",
    "handles, labels = ax.get_legend_handles_labels()\n",
    "labels = ['$MC$', '$Data$']\n",
    "ax.legend(handles, labels, prop={'size': 16})\n",
    "\n",
    "ax.set_xlabel('$M(K\\pi\\pi_s)-M(K\\pi)\\  [GeV]$')\n",
    "ax.set_ylim(0, 120)"
   ]
  },
  {
   "cell_type": "code",
   "execution_count": null,
   "metadata": {},
   "outputs": [],
   "source": [
    "## pT\n",
    "\n",
    "# Data\n",
    "ax = hist.plot1d(hists_data['Dstar_p'].integrate('chg', 'right charge').sum('eta', 'phi'), error_opts=data_err_opts)\n",
    "\n",
    "# MC\n",
    "ay = hist.plot1d(hists_mc['Dstar_p'].integrate('chg', 'right charge').sum('eta', 'phi'), fill_opts=fill_opts)\n",
    "\n",
    "ax.set_yscale('log')\n",
    "ax.set_ylim(10, 1.5e2)\n",
    "ax.set_xlim(0, 20)\n",
    "\n",
    "handles, labels = ax.get_legend_handles_labels()\n",
    "labels = ['$MC$', '$Data$']\n",
    "ax.legend(handles, labels, prop={'size': 16})\n",
    "\n",
    "ax.set_xlabel('$D^*\\ p_T\\ [GeV]$')\n",
    "\n",
    "ay.set_yscale('log')\n",
    "ay.set_ylim(10, 1.5e2)"
   ]
  },
  {
   "cell_type": "code",
   "execution_count": null,
   "metadata": {},
   "outputs": [],
   "source": [
    "## eta\n",
    "\n",
    "# Data\n",
    "ax = hist.plot1d(hists_data['Dstar_p'].integrate('chg', 'right charge').sum('pt', 'phi'), error_opts=data_err_opts)\n",
    "\n",
    "# MC\n",
    "ay = hist.plot1d(hists_mc['Dstar_p'].integrate('chg', 'right charge').sum('pt', 'phi'), fill_opts=fill_opts)\n",
    "\n",
    "handles, labels = ax.get_legend_handles_labels()\n",
    "labels = ['$MC$', '$Data$']\n",
    "ax.legend(handles, labels, prop={'size': 16})\n",
    "\n",
    "ax.set_xlabel('$D^0\\ \\eta$')\n",
    "ax.set_ylim(0, 25)"
   ]
  },
  {
   "cell_type": "code",
   "execution_count": null,
   "metadata": {},
   "outputs": [],
   "source": []
  }
 ],
 "metadata": {
  "kernelspec": {
   "display_name": "Python 3 (ipykernel)",
   "language": "python",
   "name": "python3"
  },
  "language_info": {
   "codemirror_mode": {
    "name": "ipython",
    "version": 3
   },
   "file_extension": ".py",
   "mimetype": "text/x-python",
   "name": "python",
   "nbconvert_exporter": "python",
   "pygments_lexer": "ipython3",
   "version": "3.9.7"
  }
 },
 "nbformat": 4,
 "nbformat_minor": 4
}
