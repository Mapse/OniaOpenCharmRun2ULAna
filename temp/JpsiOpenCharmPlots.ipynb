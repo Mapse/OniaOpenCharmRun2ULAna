{
 "cells": [
  {
   "cell_type": "code",
   "execution_count": 1,
   "metadata": {},
   "outputs": [],
   "source": [
    "import awkward as ak\n",
    "from coffea.util import load\n",
    "from coffea import hist\n",
    "import matplotlib.pyplot as plt\n",
    "import mplhep\n",
    "import os\n",
    "from tqdm import tqdm\n",
    "\n",
    "import numpy as np\n",
    "\n",
    "plt.style.use(mplhep.style.CMS)\n",
    "\n",
    "from coffea.nanoevents.methods import candidate\n",
    "ak.behavior.update(candidate.behavior)"
   ]
  },
  {
   "cell_type": "code",
   "execution_count": null,
   "metadata": {},
   "outputs": [],
   "source": [
    "# Function to create a list with all coffea files in a path\n",
    "def list_files(path):\n",
    "    \n",
    "    files = []\n",
    "    with os.scandir(path) as aux:\n",
    "        for file in aux:\n",
    "            if file.name.endswith('hists.coffea') and (file.stat().st_size != 0):\n",
    "                files.append(file.path)\n",
    "    return files\n",
    "\n",
    "# Calls the function to take the list with all files\n",
    "path = '../output/Charmonium_2017_Nano_Coffea/' \n",
    "files = list_files(path)"
   ]
  },
  {
   "cell_type": "code",
   "execution_count": null,
   "metadata": {},
   "outputs": [],
   "source": [
    "acc = load(files[0])\n",
    "\n",
    "le_files = int(round(len(files), 0))\n",
    "\n",
    "for i in tqdm(range(1, le_files), desc=\"Sum\", unit=\" files\"):\n",
    "    acc += load(files[i])"
   ]
  },
  {
   "cell_type": "code",
   "execution_count": 2,
   "metadata": {},
   "outputs": [
    {
     "data": {
      "text/plain": [
       "dict_values([<Hist (npvs) instance at 0x7f89484feac0>, <Hist (pt,eta,phi) instance at 0x7f89484b1520>, <Hist (pt,eta,phi) instance at 0x7f89484b1d60>, <Hist (mass) instance at 0x7f89484b1610>, <Hist (pt,eta,phi) instance at 0x7f88c49c60a0>, <Hist (rap) instance at 0x7f88c49c6eb0>, <Hist (dl) instance at 0x7f88c49c68e0>, <Hist (dlSig) instance at 0x7f88c49c6e80>, <Hist (chi2) instance at 0x7f88c49c66a0>, <Hist (cosphi) instance at 0x7f88c49c6c10>, <Hist (mass) instance at 0x7f88c49c6ee0>, <Hist (mass) instance at 0x7f88c49c6f70>, <Hist (pt,eta,phi) instance at 0x7f88c49c6a00>, <Hist (rap) instance at 0x7f88c49c6ac0>, <Hist (dl) instance at 0x7f88c49c6970>, <Hist (dlSig) instance at 0x7f88c49c6610>, <Hist (chi2) instance at 0x7f88c49c6550>, <Hist (cosphi) instance at 0x7f88c49c6730>, <Hist (mass) instance at 0x7f88c49c6fd0>, <Hist (pt,eta,phi) instance at 0x7f88c49c6940>, <Hist (rap) instance at 0x7f88c49c6850>, <Hist (dl) instance at 0x7f88c49c6880>, <Hist (dlSig) instance at 0x7f88c49c6760>, <Hist (chi2) instance at 0x7f88c49c6400>, <Hist (cosphi) instance at 0x7f88c49c6280>, <Hist (mass) instance at 0x7f88c49c60d0>, <Hist (mass) instance at 0x7f88c49c6190>, <Hist (pt,eta,phi) instance at 0x7f88c49c6160>, <Hist (rap) instance at 0x7f88c49c6340>, <Hist (dl) instance at 0x7f88c49c6310>, <Hist (dlSig) instance at 0x7f88c49c61f0>, <Hist (chi2) instance at 0x7f88c49c64c0>, <Hist (cosphi) instance at 0x7f88c49c6490>, <Hist (eta,mass) instance at 0x7f88c49c6b20>, <Hist (eta,mass) instance at 0x7f88c49acd30>, <Hist (pt,eta,phi) instance at 0x7f88c49acb80>, <Hist (chindof) instance at 0x7f88c49ac970>, <Hist (nValid) instance at 0x7f88c49ac5e0>, <Hist (nPix) instance at 0x7f88c49accd0>, <Hist (dxy) instance at 0x7f88c49ac8e0>, <Hist (dz) instance at 0x7f88c49ac6a0>, <Hist (chg,pt,eta,phi) instance at 0x7f88c49ac370>, <Hist (chg,rap) instance at 0x7f88c49fd280>, <Hist (chg,deltam) instance at 0x7f88c4a05df0>, <Hist (chg,deltamr) instance at 0x7f88c4a05bb0>, <Hist (pt,eta,phi) instance at 0x7f88c4a05f10>, <Hist (chindof) instance at 0x7f88c4a05430>, <Hist (nValid) instance at 0x7f88c4a05d60>, <Hist (nPix) instance at 0x7f88c4a05f70>, <Hist (dxy) instance at 0x7f88c4a17ee0>, <Hist (dz) instance at 0x7f88c4a170d0>, <Hist (pt,eta) instance at 0x7f88c4a17310>, <Hist (pt,eta,phi) instance at 0x7f88c4a17f40>, <Hist (chindof) instance at 0x7f88c4a17ca0>, <Hist (nValid) instance at 0x7f88c4a174f0>, <Hist (nPix) instance at 0x7f88c4a17700>, <Hist (dxy) instance at 0x7f88c4a17550>, <Hist (dz) instance at 0x7f88c4a17340>, <Hist (pt,eta) instance at 0x7f88c4a17970>, <Hist (pt,eta,phi) instance at 0x7f88c4a17610>, <Hist (chindof) instance at 0x7f88c4a098e0>, <Hist (nValid) instance at 0x7f88c4a096a0>, <Hist (nPix) instance at 0x7f88c4a09520>, <Hist (dxy) instance at 0x7f88c4a09220>, <Hist (dz) instance at 0x7f88c4a091c0>, <Hist (chg,pt,eta,phi) instance at 0x7f88c4a092b0>, <Hist (chg,rap) instance at 0x7f88c49a00d0>, <Hist (chg,deltam) instance at 0x7f88c49a0100>, <Hist (chg,deltamr) instance at 0x7f88c49a0e80>, {'Upsilon_mass': <Hist (mass) instance at 0x7f88c49a0f70>, 'Upsilon_p': <Hist (pt,eta,phi) instance at 0x7f88c49a0b80>, 'Upsilon_rap': <Hist (rap) instance at 0x7f88c49a0610>, 'UpsilonDstar_deltarap': <Hist (deltarap) instance at 0x7f88c49a0760>, 'UpsilonDstar_mass': <Hist (mass) instance at 0x7f88c49a0970>, 'Dstar_p': <Hist (chg,pt,eta,phi) instance at 0x7f88c49a0790>, 'Dstar_deltam': <Hist (chg,deltam) instance at 0x7f88c4a0e7c0>, 'Dstar_deltamr': <Hist (chg,deltamr) instance at 0x7f88c4a0eb50>, 'Dstar_rap': <Hist (chg,rap) instance at 0x7f88c4a0e970>}, {'Jpsi_mass': <Hist (mass) instance at 0x7f88c4a0e370>, 'Jpsi_p': <Hist (pt,eta,phi) instance at 0x7f88c4a0e2b0>, 'Jpsi_rap': <Hist (rap) instance at 0x7f88c4a0bd30>, 'JpsiDstar_deltarap': <Hist (deltarap) instance at 0x7f88c4a0b880>, 'JpsiDstar_mass': <Hist (mass) instance at 0x7f88c4a0b130>, 'Dstar_p': <Hist (chg,pt,eta,phi) instance at 0x7f88c4a0b550>, 'Dstar_rap': <Hist (chg,rap) instance at 0x7f88c4a0b790>, 'Dstar_deltam': <Hist (chg,deltam) instance at 0x7f88c4a75b80>, 'Dstar_deltamr': <Hist (chg,deltamr) instance at 0x7f88c4a75460>}, {'Psi_mass': <Hist (mass) instance at 0x7f88c4a756a0>, 'Psi_p': <Hist (pt,eta,phi) instance at 0x7f88c4a75490>, 'Psi_rap': <Hist (rap) instance at 0x7f88c4a751c0>, 'PsiDstar_deltarap': <Hist (deltarap) instance at 0x7f88c4adb310>, 'PsiDstar_mass': <Hist (mass) instance at 0x7f88c4adbdc0>, 'Dstar_p': <Hist (chg,pt,eta,phi) instance at 0x7f88c4adb1f0>, 'Dstar_rap': <Hist (chg,rap) instance at 0x7f88c4adb130>, 'Dstar_deltam': <Hist (chg,deltam) instance at 0x7f88c49e8520>, 'Dstar_deltamr': <Hist (chg,deltamr) instance at 0x7f88c49e8a60>}, <Hist (pdgId) instance at 0x7f88c49e87f0>, <Hist (pt,eta,phi) instance at 0x7f88c49e8910>, <Hist (mass) instance at 0x7f88c4a9aa90>, <Hist (pt,eta,phi) instance at 0x7f88c4a9ae20>, <Hist (VertexX) instance at 0x7f88c4a9a370>, <Hist (VertexY) instance at 0x7f88c4a9a730>, <Hist (VertexZ) instance at 0x7f88c4a9abe0>, <Hist (mass) instance at 0x7f88c4a9a430>, <Hist (pt,eta,phi) instance at 0x7f88c4a9a400>, <Hist (VertexX) instance at 0x7f88c4a9a670>, <Hist (VertexY) instance at 0x7f88c4a9a280>, <Hist (VertexZ) instance at 0x7f88c4a9a5b0>, <Hist (mass) instance at 0x7f88c4a93d90>, <Hist (pt,eta,phi) instance at 0x7f88c4a93610>, <Hist (VertexX) instance at 0x7f88c4a93bb0>, <Hist (VertexY) instance at 0x7f88c4a93970>, <Hist (VertexZ) instance at 0x7f88c4a937c0>, <Hist (mass) instance at 0x7f88c4a93310>, <Hist (pt,eta,phi) instance at 0x7f88c4a93730>, <Hist (VertexX) instance at 0x7f88c4a93130>, <Hist (VertexY) instance at 0x7f88c4a930a0>, <Hist (VertexZ) instance at 0x7f88c4a939d0>, <Hist (mass) instance at 0x7f88c49e23d0>, <Hist (pt,eta,phi) instance at 0x7f88c49e25b0>])"
      ]
     },
     "execution_count": 2,
     "metadata": {},
     "output_type": "execute_result"
    }
   ],
   "source": [
    "''' Data '''\n",
    "\n",
    "''' Charmonium 2017E '''\n",
    "\n",
    "#file = '../output/Charmonium2017E_test_loose_cuts/Charmonium2017E_test_loose_cuts_hists.coffea'\n",
    "\n",
    "#file = '../output/Charmonium2017_NanoAOD_coffea/hists/Data17CharmoniumRunE_692_hists.coffea'\n",
    "\n",
    "#file = '../output/test_Charmonium2017E_new_code/test_Charmonium2017E_new_code_hists.coffea'\n",
    "\n",
    "#file = '../output/Charmonium_2017E_No_Global/Charmonium_2017E_No_Global_hists.coffea'\n",
    "\n",
    "#file = '../output/Charmonium_2017/Charmonium_2017_hists.coffea'\n",
    "\n",
    "### Trigger\n",
    "\n",
    "# HLT0\n",
    "#file = '../output/test_trigger_HLT0_Charmonium2017E/test_trigger_HLT0_Charmonium2017E_hists.coffea'\n",
    "\n",
    "# HLT 25\n",
    "#file = '../output/test_trigger_HLT25_Charmonium2017E/test_trigger_HLT25_Charmonium2017E_hists.coffea'\n",
    "\n",
    "#### Charmonium 2018B\n",
    "\n",
    "# Usual cuts \n",
    "#file = '../output/Charmonium2018B_test/Charmonium2018B_test_hists.coffea'\n",
    "\n",
    "# Cut on Dstar before association\n",
    "#file = '../output/test_cut_background_2d/test_cut_background_2d_hists.coffea'\n",
    "\n",
    "# Test decay\n",
    "#file = '../output/test_decay_length/test_decay_length_hists.coffea'\n",
    "#file = '../output/Charmonium_2018B_comp/Charmonium_2018B_comp_hists.coffea'\n",
    "\n",
    "#file = '../output/Charmonium2018B_vertex/Charmonium2018B_vertex_hists.coffea'\n",
    "\n",
    "## Prompt x NonPrompt\n",
    "#file = '../output/Charmonium_2018B_prompt/Charmonium_2018B_prompt_hists.coffea'\n",
    "#file = '../output/Charmonium_2018B_nonprompt/Charmonium_2018B_nonprompt_hists.coffea'\n",
    "\n",
    "\n",
    "''' Monte Carlo '''\n",
    "\n",
    "#file = '../output/JpsiDstar_2017_test_loose_cuts_tests/JpsiDstar_2017_test_loose_cuts_tests_hists.coffea'\n",
    "\n",
    "#file = '../output/test_gen/test_gen_hists.coffea'\n",
    "\n",
    "#file = '../output/MuOnia_test/MuOnia_test_hists.coffea'\n",
    "\n",
    "#file = '../output/Monte_Carlo_2017_new_code/Monte_Carlo_2017_new_code_hists.coffea'\n",
    "\n",
    "#file = '../output/test_Monte_Carlo_2017_trigger/test_Monte_Carlo_2017_trigger_hists.coffea'\n",
    "\n",
    "file = '../output/Monte_Carlo_2017/Monte_Carlo_2017_hists.coffea'\n",
    "\n",
    "#file = '../output/Monte_Carlo_2018/Monte_Carlo_2018_hists.coffea'\n",
    "\n",
    "\n",
    "\n",
    "#file = '../output/Monte_Carlo_2018_Dimu20_Seagulls/Monte_Carlo_2018_Dimu20_Seagulls_hists.coffea'\n",
    "\n",
    "\n",
    "## Usual file - new processing\n",
    "# No D0 cuts (phi study)\n",
    "#file = '../output/Phi_study_Monte_Carlo_2017_new_code/Phi_study_Monte_Carlo_2017_new_code_hists.coffea'\n",
    "\n",
    "#hists = acc\n",
    "#file = '../output/Charmonium_2017_Nano_Coffea/hists_Charmonium_2017.coffea'\n",
    "hists = load(file)\n",
    "hists.values()"
   ]
  },
  {
   "cell_type": "code",
   "execution_count": 3,
   "metadata": {},
   "outputs": [],
   "source": [
    "def get_dstar_weight(hist_dstar, hist_wrg_chg):\n",
    "    hist_dstar_values = hist_dstar.values().get(())\n",
    "    hist_wrg_chg_values = hist_wrg_chg.values().get(())\n",
    "\n",
    "    x = int(len(hist_dstar_values)/2)\n",
    "\n",
    "    hist_dstar_values = hist_dstar_values[x:]\n",
    "    hist_wrg_chg_values = hist_wrg_chg_values[x:]\n",
    "\n",
    "    ratio = hist_dstar_values/hist_wrg_chg_values\n",
    "\n",
    "    return ratio.mean()"
   ]
  },
  {
   "cell_type": "code",
   "execution_count": 4,
   "metadata": {},
   "outputs": [],
   "source": [
    "def ratio_plot(num, denom):\n",
    "    # make a nice ratio plot, adjusting some font sizes\n",
    "    plt.rcParams.update({\n",
    "        'font.size': 16,\n",
    "        'axes.titlesize': 18,\n",
    "        'axes.labelsize': 18,\n",
    "        'xtick.labelsize': 14,\n",
    "        'ytick.labelsize': 14\n",
    "    })\n",
    "    fig, (ax, rax) = plt.subplots(\n",
    "        nrows=2,\n",
    "        ncols=1,\n",
    "        figsize=(10,10),\n",
    "        gridspec_kw={\"height_ratios\": (3, 1)},\n",
    "        sharex=True\n",
    "    )\n",
    "    fig.subplots_adjust(hspace=.07)\n",
    "\n",
    "    # Here is an example of setting up a color cycler to color the various fill patches\n",
    "    # We get the colors from this useful utility: http://colorbrewer2.org/\n",
    "    from cycler import cycler\n",
    "    colors = ['#a6cee3','#1f78b4','#b2df8a','#33a02c','#fb9a99','#e31a1c','#fdbf6f','#ff7f00','#cab2d6','#6a3d9a']\n",
    "    ax.set_prop_cycle(cycler(color=colors))\n",
    "\n",
    "    fill_opts = {\n",
    "        'edgecolor': (0,0,0,0.3),\n",
    "        'alpha': 0.8\n",
    "    }\n",
    "    error_opts = {\n",
    "        'label': 'Stat. Unc.',\n",
    "        'hatch': '///',\n",
    "        'facecolor': 'none',\n",
    "        'edgecolor': (0,0,0,.5),\n",
    "        'linewidth': 0\n",
    "    }\n",
    "    data_err_opts = {\n",
    "        'linestyle': 'none',\n",
    "        'marker': '.',\n",
    "        'markersize': 10.,\n",
    "        'color': 'k',\n",
    "        'elinewidth': 1,\n",
    "    }\n",
    "\n",
    "    # plot the MC first\n",
    "    hist.plot1d(\n",
    "        num,\n",
    "        ax=ax,\n",
    "        clear=False,\n",
    "        line_opts=None,\n",
    "        fill_opts=fill_opts,\n",
    "        error_opts=error_opts\n",
    "    )\n",
    "    # now the pseudodata, setting clear=False to avoid overwriting the previous plot\n",
    "    hist.plot1d(\n",
    "        denom,\n",
    "        ax=ax,\n",
    "        clear=False,\n",
    "        fill_opts=fill_opts,\n",
    "        error_opts=error_opts\n",
    "    )\n",
    "\n",
    "    ax.autoscale(axis='x', tight=True)\n",
    "    ax.set_ylim(0, None)\n",
    "    ax.set_xlabel(None)\n",
    "\n",
    "    # now we build the ratio plot\n",
    "    hist.plotratio(\n",
    "        num=num,\n",
    "        denom=denom,\n",
    "        ax=rax,\n",
    "        error_opts=data_err_opts,\n",
    "        denom_fill_opts={},\n",
    "        guide_opts={},\n",
    "        unc='num'\n",
    "    )\n",
    "    rax.set_ylabel('Ratio')\n",
    "    rax.set_ylim(0, 15)\n",
    "    \n",
    "    return ax, rax"
   ]
  },
  {
   "cell_type": "code",
   "execution_count": 5,
   "metadata": {},
   "outputs": [],
   "source": [
    "def create_plot1d(hist1d, log=False, ax=None):\n",
    "    lumi = \"x\"\n",
    "    \n",
    "    from matplotlib.offsetbox import AnchoredOffsetbox, TextArea\n",
    "    plt.style.use(mplhep.style.CMS)\n",
    "    plt.rcParams.update({\n",
    "        'font.size': 16,\n",
    "        'axes.titlesize': 18,\n",
    "        'axes.labelsize': 18,\n",
    "        'xtick.labelsize': 14,\n",
    "        'ytick.labelsize': 14\n",
    "    })\n",
    "    fill_opts = {\n",
    "    'alpha': 0.8,\n",
    "    'edgecolor':(0,0,0,.5)\n",
    "    }\n",
    "    \n",
    "    data_err_opts = {\n",
    "    'linestyle': 'none',\n",
    "    'marker': '.',\n",
    "    'markersize': 10.,\n",
    "    'color': 'k',\n",
    "    'elinewidth': 1,}\n",
    "\n",
    "    \n",
    "    ax = hist.plot1d(hist1d, ax=ax)#, error_opts=data_err_opts)\n",
    "    \n",
    "    # CMS style\n",
    "    \n",
    "    CMS = plt.text(0.03, 0.93, \"CMS\",\n",
    "                  fontsize=22,\n",
    "                  fontweight='bold',\n",
    "                  horizontalalignment='left',\n",
    "                  verticalalignment='bottom',\n",
    "                  transform=ax.transAxes\n",
    "                 )\n",
    "    pre = plt.text(0.03, 0.88, \"Preliminary\",\n",
    "                  fontsize=19,\n",
    "                  fontstyle='italic',\n",
    "                  horizontalalignment='left',\n",
    "                  verticalalignment='bottom',\n",
    "                  transform=ax.transAxes\n",
    "                 )\n",
    "    lumi = plt.text(1., 1., r\"\" + lumi +  \"fb$^{-1}$ (13 TeV)\",\n",
    "                fontsize=18,\n",
    "                fontstyle='normal',\n",
    "                horizontalalignment='right',\n",
    "                verticalalignment='bottom',\n",
    "                transform=ax.transAxes\n",
    "               )\n",
    "\n",
    "    if log:\n",
    "        ax.set_yscale('log')\n",
    "        ax.set_ylim(1, None)\n",
    "    else:\n",
    "        ax.ticklabel_format(axis='y', style='sci', scilimits=(0,3), useMathText=True)\n",
    "    \n",
    "    axis = hist1d.axes()[0]\n",
    "    centers = axis.centers()\n",
    "    values = np.where(hist1d.values().get(()) < 0, 0, hist1d.values().get(()))\n",
    "    \n",
    "    # compute mean and std:\n",
    "    mean = np.sum(values*centers)/np.sum(values)\n",
    "    std = np.sqrt(np.sum(values*((centers - mean)**2))/np.sum(values))\n",
    "    \n",
    "    annotation = TextArea(f\"Total: {np.sum(values):.2e}\" \\\n",
    "                    + \"\\n\" + f\"Mean: {mean:.2e}\" \\\n",
    "                    + \"\\n\" + f\"Std: {std:.2e}\", textprops=dict(size=14))\n",
    "    \n",
    "    at = AnchoredOffsetbox('upper right', child=annotation)\n",
    "    at.patch.set_facecolor('None')\n",
    "    ax.add_artist(at)\n",
    "    \n",
    "    ax.legend().remove()\n",
    "    \n",
    "    return ax"
   ]
  },
  {
   "cell_type": "code",
   "execution_count": 6,
   "metadata": {},
   "outputs": [],
   "source": [
    "def create_plot2d(hist2d, ax=None, xaxis=None):\n",
    "    plt.style.use(mplhep.style.CMS)\n",
    "    \n",
    "    if xaxis == None:\n",
    "        xaxis = hist2d.axes()[0]\n",
    "        \n",
    "    ax = hist.plot2d(hist2d, xaxis, ax=ax)\n",
    "    \n",
    "    return ax"
   ]
  },
  {
   "cell_type": "code",
   "execution_count": 7,
   "metadata": {},
   "outputs": [],
   "source": [
    "def kinematics_plot(hist_p, hist_mass=None):\n",
    "    plt.rcParams.update({\n",
    "        'font.size': 16,\n",
    "        'axes.titlesize': 18,\n",
    "        'axes.labelsize': 18,\n",
    "        'xtick.labelsize': 14,\n",
    "        'ytick.labelsize': 14\n",
    "    })\n",
    "    \n",
    "    fig, ((ax_pt, ax_eta), (ax_phi, ax_mass)) = plt.subplots(\n",
    "        nrows=2,\n",
    "        ncols=2,\n",
    "        figsize=(16,16),\n",
    "    )\n",
    "    \n",
    "    create_plot1d(hist_p.sum('eta', 'phi'), ax=ax_pt, log=True)\n",
    "    create_plot1d(hist_p.sum('pt', 'phi'), ax=ax_eta, log=False)\n",
    "    create_plot1d(hist_p.sum('pt', 'eta'), ax=ax_phi, log=False)\n",
    "    \n",
    "    if not hist_mass == None:\n",
    "        create_plot1d(hist_mass, ax=ax_mass, log=False)\n",
    "    else:\n",
    "        ax_mass.annotate(\"Mass plot not provided\", xy=(0.5, 0.5), xycoords=\"data\",\n",
    "                  va=\"center\", ha=\"center\",\n",
    "                  bbox=dict(boxstyle=\"round\", fc=\"w\"))\n",
    "        \n",
    "    return ((ax_pt, ax_eta), (ax_phi, ax_mass))"
   ]
  },
  {
   "cell_type": "code",
   "execution_count": null,
   "metadata": {},
   "outputs": [],
   "source": [
    "#ax = create_plot1d(hists['Primary_vertex_npvs'])"
   ]
  },
  {
   "cell_type": "code",
   "execution_count": null,
   "metadata": {},
   "outputs": [],
   "source": [
    "ax = create_plot1d(hists['GenPart_pdgId'])"
   ]
  },
  {
   "cell_type": "code",
   "execution_count": null,
   "metadata": {},
   "outputs": [],
   "source": [
    "ax = create_plot1d(hists['GenJpsi_p'].sum('eta', 'phi'))"
   ]
  },
  {
   "cell_type": "code",
   "execution_count": null,
   "metadata": {},
   "outputs": [],
   "source": [
    "ax = create_plot1d(hists['GenJpsi_mass'])"
   ]
  },
  {
   "cell_type": "code",
   "execution_count": null,
   "metadata": {},
   "outputs": [],
   "source": [
    "ax = create_plot1d(hists['GenDstar_p'].sum('phi', 'eta'))"
   ]
  },
  {
   "cell_type": "code",
   "execution_count": null,
   "metadata": {},
   "outputs": [],
   "source": [
    "# Muon Lead\n",
    "((ax_pt, ax_eta), (ax_phi, ax_mass)) = kinematics_plot(hists['Muon_lead_p'])"
   ]
  },
  {
   "cell_type": "code",
   "execution_count": null,
   "metadata": {},
   "outputs": [],
   "source": [
    "# Muon Trail\n",
    "((ax_pt, ax_eta), (ax_phi, ax_mass)) = kinematics_plot(hists['Muon_trail_p'])"
   ]
  },
  {
   "cell_type": "code",
   "execution_count": null,
   "metadata": {},
   "outputs": [],
   "source": [
    "# Jpsi\n",
    "((ax_pt, ax_eta), (ax_phi, ax_mass)) = kinematics_plot(hists['Jpsi_p'], hists['Jpsi_mass'])"
   ]
  },
  {
   "cell_type": "code",
   "execution_count": 8,
   "metadata": {},
   "outputs": [
    {
     "data": {
      "image/png": "[encoded data removed]",
      "text/plain": [
       "<Figure size 720x720 with 1 Axes>"
      ]
     },
     "metadata": {
      "needs_background": "light"
     },
     "output_type": "display_data"
    }
   ],
   "source": [
    "bx = hists['Jpsi_mass'].rebin(\"mass\", hist.Bin(\"mass\", \"$M_{\\mu^+\\mu^-}$ [GeV]\", 50, 2.95, 3.25))          \n",
    "cx = create_plot1d(bx)"
   ]
  },
  {
   "cell_type": "code",
   "execution_count": 9,
   "metadata": {},
   "outputs": [
    {
     "name": "stderr",
     "output_type": "stream",
     "text": [
      "/afs/cern.ch/user/m/mabarros/miniconda3/envs/OniaOpenCharmRun2ULenv/lib/python3.9/site-packages/numpy/core/_methods.py:44: RuntimeWarning: invalid value encountered in reduce\n",
      "  return umr_minimum(a, axis, None, out, keepdims, initial, where)\n",
      "/afs/cern.ch/user/m/mabarros/miniconda3/envs/OniaOpenCharmRun2ULenv/lib/python3.9/site-packages/numpy/core/_methods.py:40: RuntimeWarning: invalid value encountered in reduce\n",
      "  return umr_maximum(a, axis, None, out, keepdims, initial, where)\n",
      "/tmp/mabarros/ipykernel_25917/872982563.py:5: UserWarning: Attempted to set non-positive bottom ylim on a log-scaled axis.\n",
      "Invalid limit will be ignored.\n",
      "  cx.set_ylim(0, 2e5)\n"
     ]
    },
    {
     "data": {
      "text/plain": [
       "(1.0, 200000.0)"
      ]
     },
     "execution_count": 9,
     "metadata": {},
     "output_type": "execute_result"
    },
    {
     "data": {
      "image/png": "[encoded data removed]",
      "text/plain": [
       "<Figure size 720x720 with 1 Axes>"
      ]
     },
     "metadata": {
      "needs_background": "light"
     },
     "output_type": "display_data"
    }
   ],
   "source": [
    "# Jpsi pt\n",
    "bx = hists['Jpsi_p'].sum('phi','eta').rebin(\"pt\", hist.Bin(\"pt\", \"$p_{T,\\mu^+\\mu^-}$ [GeV]\", 50, 0, 100))          \n",
    "cx = create_plot1d(bx)\n",
    "cx.set_yscale('log')\n",
    "cx.set_ylim(0, 2e5)\n",
    "#ax.set_xlim(0, 105)"
   ]
  },
  {
   "cell_type": "code",
   "execution_count": 39,
   "metadata": {},
   "outputs": [
    {
     "data": {
      "image/png": "[encoded data removed]",
      "text/plain": [
       "<Figure size 720x720 with 1 Axes>"
      ]
     },
     "metadata": {
      "needs_background": "light"
     },
     "output_type": "display_data"
    }
   ],
   "source": [
    "# Jpsi eta\n",
    "bx = hists['Jpsi_p'].sum('phi','pt').rebin(\"eta\", hist.Bin(\"eta\", \"$\\eta_{\\mu^+\\mu^-}$\", 60, -2.5, 2.5))          \n",
    "cx = create_plot1d(bx)"
   ]
  },
  {
   "cell_type": "code",
   "execution_count": null,
   "metadata": {},
   "outputs": [],
   "source": [
    "# Jpsi phi\n",
    "bx = hists['Jpsi_p'].sum('eta','pt').rebin(\"phi\", hist.Bin(\"phi\", \"$\\phi_{\\mu^+\\mu^-}$\", 35, -3.5, 3.5))      \n",
    "cx = create_plot1d(bx)"
   ]
  },
  {
   "cell_type": "code",
   "execution_count": null,
   "metadata": {},
   "outputs": [],
   "source": [
    "# Jpsi rapidity\n",
    "bx = hists['Jpsi_rap'].rebin(\"rap\", hist.Bin(\"rap\", \"y\", 60, -2.5, 2.5))          \n",
    "cx = create_plot1d(bx)"
   ]
  },
  {
   "cell_type": "code",
   "execution_count": null,
   "metadata": {},
   "outputs": [],
   "source": [
    "# Jpsi decay lenght\n",
    "bx = hists['Jpsi_dl'].rebin(\"dl\", hist.Bin(\"dl\", \"dl\", 100, -1.5, 1.5))          \n",
    "cx = create_plot1d(bx)\n",
    "\n",
    "cx.set_yscale('log')\n",
    "#cx.set_xlim(-1,2) \n",
    "cx.set_ylim(10, 1e6)\n",
    "cx.set_xlabel('Decay lenght [cm]')"
   ]
  },
  {
   "cell_type": "code",
   "execution_count": null,
   "metadata": {},
   "outputs": [],
   "source": [
    "# Jpsi decay lenght\n",
    "bx = hists['Jpsi_dlSig'].rebin(\"dlSig\", hist.Bin(\"dlSig\", \"dl Significance\", 50, -20, 50))       \n",
    "cx = create_plot1d(bx)\n",
    "cx.set_yscale('log')\n",
    "cx.set_ylim(0, 5e5)\n",
    "cx.set_xlim(-25, 60)"
   ]
  },
  {
   "cell_type": "code",
   "execution_count": null,
   "metadata": {},
   "outputs": [],
   "source": [
    "# Signigicance plot - log scale\n",
    "ax = hist.plot1d(hists['Jpsi_dlSig'])\n",
    "\n",
    "ax.set_yscale('log')\n",
    "#ax.set_xlim(-30, 55)\n",
    "ax.set_ylim(10, 1e6)"
   ]
  },
  {
   "cell_type": "code",
   "execution_count": null,
   "metadata": {},
   "outputs": [],
   "source": [
    "ax = create_plot1d(hists['Jpsi_chi2'])"
   ]
  },
  {
   "cell_type": "code",
   "execution_count": null,
   "metadata": {},
   "outputs": [],
   "source": [
    "# Jpsi cosphi\n",
    "bx = hists['Jpsi_cosphi'].rebin(\"cosphi\", hist.Bin(\"cosphi\", r\"$cos(\\alpha)$\", 50, -1, 1))       \n",
    "cx = create_plot1d(bx)"
   ]
  },
  {
   "cell_type": "code",
   "execution_count": null,
   "metadata": {},
   "outputs": [],
   "source": [
    "# D0\n",
    "((ax_pt, ax_eta), (ax_phi, ax_mass)) = kinematics_plot(hists['D0_p'], hists['D0_mass12'])"
   ]
  },
  {
   "cell_type": "code",
   "execution_count": null,
   "metadata": {},
   "outputs": [],
   "source": [
    "ax = hists['D0_mass12']\n",
    "           \n",
    "bx = ax.rebin(\"mass\", hist.Bin(\"mass\", \"$m_{D^0, 12}$ [GeV]\", 50, 1.7, 2.0))\n",
    "           \n",
    "cx = create_plot1d(bx)\n",
    "\n",
    "cx.set_ylim(0.5e5, 2.5e5)"
   ]
  },
  {
   "cell_type": "code",
   "execution_count": null,
   "metadata": {},
   "outputs": [],
   "source": [
    "#### Plots organized\n",
    "\n",
    "# pT\n",
    "\n",
    "ax = hists['D0_p'].sum('eta','phi')\n",
    "\n",
    "bx = ax.rebin(\"pt\", hist.Bin(\"pt\", \"$p_{T,D^0}$ [GeV]\", 50, 0, 50))\n",
    "\n",
    "cx = create_plot1d(bx)\n",
    "\n",
    "cx.set_yscale('log')\n",
    "cx.set_ylim(0, 1.3e7)"
   ]
  },
  {
   "cell_type": "code",
   "execution_count": null,
   "metadata": {},
   "outputs": [],
   "source": [
    "# eta\n",
    "\n",
    "ax = hists['D0_p'].sum('pt','phi')\n",
    "\n",
    "bx = ax.rebin(\"eta\", hist.Bin(\"eta\", \"$\\eta_{D^0}$\", 80, -2.5, 2.5))\n",
    "\n",
    "cx = create_plot1d(bx)\n",
    "\n",
    "cx.set_ylim(0, 3.5e5)\n",
    "\n",
    "cx.set_xlim(-2.6, 2.6)"
   ]
  },
  {
   "cell_type": "code",
   "execution_count": null,
   "metadata": {},
   "outputs": [],
   "source": [
    "# phi\n",
    "\n",
    "ax = hists['D0_p'].sum('pt','eta')\n",
    "\n",
    "bx = ax.rebin(\"phi\", hist.Bin(\"phi\", \"$\\phi_{D^0 trks}$\", 35, -3.5, 3.5))\n",
    "\n",
    "cx = create_plot1d(bx)\n",
    "\n",
    "cx.set_ylim(0, 5.5e5)\n",
    "\n",
    "#cx.set_xlim(-2.6, 2.6)"
   ]
  },
  {
   "cell_type": "code",
   "execution_count": null,
   "metadata": {},
   "outputs": [],
   "source": [
    "\n",
    "fill_opts = {\n",
    "    'alpha': 0.8,\n",
    "    'edgecolor':(0,0,0,.5)\n",
    "}\n",
    "err_opts = {\n",
    "        'linestyle': 'none',\n",
    "        'marker': '.',\n",
    "        'markersize': 10.,\n",
    "        'elinewidth': 1,\n",
    "}\n",
    "    \n",
    "ax = hist.plot1d(hists['D0_mass12'])\n",
    "hist.plot1d(hists['D0_mass21'])\n",
    "\n",
    "handles, labels = ax.get_legend_handles_labels()\n",
    "labels = ['$m_{K \\pi}$', '$m_{\\pi K}$']\n",
    "ax.legend(handles, labels, prop={'size': 16})\n",
    "\n",
    "ax.set_xlabel('$m_{D^0}$')"
   ]
  },
  {
   "cell_type": "code",
   "execution_count": null,
   "metadata": {},
   "outputs": [],
   "source": [
    "ax = create_plot1d(hists['D0_rap'])"
   ]
  },
  {
   "cell_type": "code",
   "execution_count": null,
   "metadata": {},
   "outputs": [],
   "source": [
    "ax = create_plot1d(hists['D0_dlSig'])"
   ]
  },
  {
   "cell_type": "code",
   "execution_count": null,
   "metadata": {},
   "outputs": [],
   "source": [
    "ax = create_plot1d(hists['D0_chi2'])"
   ]
  },
  {
   "cell_type": "code",
   "execution_count": null,
   "metadata": {},
   "outputs": [],
   "source": [
    "ax = create_plot1d(hists['D0_cosphi'])"
   ]
  },
  {
   "cell_type": "code",
   "execution_count": null,
   "metadata": {},
   "outputs": [],
   "source": [
    "ax = create_plot2d(hists['D0_p'].sum('phi'), xaxis='eta')\n",
    "#ax.set_ylim(3,10)"
   ]
  },
  {
   "cell_type": "code",
   "execution_count": null,
   "metadata": {},
   "outputs": [],
   "source": [
    "((ax_pt, ax_eta), (ax_phi, ax_mass)) = kinematics_plot(hists['D0_trk_p'])"
   ]
  },
  {
   "cell_type": "code",
   "execution_count": null,
   "metadata": {},
   "outputs": [],
   "source": [
    "ax = hist.plot1d(hists['D0_trk_p'].sum('phi','eta'), fill_opts=fill_opts)\n",
    "\n",
    "ax.set_xlim(0, 4)\n",
    "ax.set_ylim(1, 1e5)"
   ]
  },
  {
   "cell_type": "code",
   "execution_count": null,
   "metadata": {},
   "outputs": [],
   "source": [
    "ax = create_plot1d(hists['D0_trk_chindof'])"
   ]
  },
  {
   "cell_type": "code",
   "execution_count": null,
   "metadata": {},
   "outputs": [],
   "source": [
    "ax = create_plot1d(hists['D0_trk_nValid'])"
   ]
  },
  {
   "cell_type": "code",
   "execution_count": null,
   "metadata": {},
   "outputs": [],
   "source": [
    "ax = create_plot1d(hists['D0_trk_nPix'])"
   ]
  },
  {
   "cell_type": "code",
   "execution_count": null,
   "metadata": {},
   "outputs": [],
   "source": [
    "ax = create_plot1d(hists['D0_trk_dxy'])"
   ]
  },
  {
   "cell_type": "code",
   "execution_count": null,
   "metadata": {},
   "outputs": [],
   "source": [
    "ax = create_plot1d(hists['D0_trk_dz'])"
   ]
  },
  {
   "cell_type": "code",
   "execution_count": null,
   "metadata": {},
   "outputs": [],
   "source": [
    "# Dstar right charge\n",
    "((ax_pt, ax_eta), (ax_phi, ax_mass)) = kinematics_plot(hists['Dstar_p'].integrate('chg', 'right charge'), \n",
    "                                                       hists['Dstar_deltamr'].integrate('chg', 'right charge'))"
   ]
  },
  {
   "cell_type": "code",
   "execution_count": 8,
   "metadata": {},
   "outputs": [
    {
     "name": "stderr",
     "output_type": "stream",
     "text": [
      "/afs/cern.ch/user/m/mabarros/miniconda3/envs/OniaOpenCharmRun2ULenv/lib/python3.9/site-packages/numpy/core/_methods.py:44: RuntimeWarning: invalid value encountered in reduce\n",
      "  return umr_minimum(a, axis, None, out, keepdims, initial, where)\n",
      "/afs/cern.ch/user/m/mabarros/miniconda3/envs/OniaOpenCharmRun2ULenv/lib/python3.9/site-packages/numpy/core/_methods.py:40: RuntimeWarning: invalid value encountered in reduce\n",
      "  return umr_maximum(a, axis, None, out, keepdims, initial, where)\n",
      "/tmp/mabarros/ipykernel_11048/949685958.py:11: UserWarning: Attempted to set non-positive bottom ylim on a log-scaled axis.\n",
      "Invalid limit will be ignored.\n",
      "  cx.set_ylim(0, 2.1e7)\n"
     ]
    },
    {
     "data": {
      "text/plain": [
       "(0.0, 60.0)"
      ]
     },
     "execution_count": 8,
     "metadata": {},
     "output_type": "execute_result"
    },
    {
     "data": {
      "image/png": "[encoded data removed]",
      "text/plain": [
       "<Figure size 720x720 with 1 Axes>"
      ]
     },
     "metadata": {
      "needs_background": "light"
     },
     "output_type": "display_data"
    }
   ],
   "source": [
    "#### Plots organized -> Right charge\n",
    "\n",
    "# pT\n",
    "\n",
    "ax = hists['Dstar_p'].integrate('chg', 'right charge').sum('eta','phi')\n",
    "\n",
    "bx = ax.rebin(\"pt\", hist.Bin(\"pt\", \"$p_{T,D*}$ [GeV]\", 50, 0, 50))\n",
    "\n",
    "cx = create_plot1d(bx)\n",
    "cx.set_yscale('log')\n",
    "cx.set_ylim(0, 2.1e7)\n",
    "cx.set_xlim(0, 60)"
   ]
  },
  {
   "cell_type": "code",
   "execution_count": null,
   "metadata": {},
   "outputs": [],
   "source": [
    "# eta\n",
    "\n",
    "ax = hists['Dstar_p'].integrate('chg', 'right charge').sum('pt','phi')\n",
    "\n",
    "bx = ax.rebin(\"eta\", hist.Bin(\"eta\", \"$\\eta_{D*}$\", 40, -2.5, 2.5))\n",
    "\n",
    "cx = create_plot1d(bx)\n",
    "\n",
    "cx.set_xlim(-2.6, 2.6)"
   ]
  },
  {
   "cell_type": "code",
   "execution_count": null,
   "metadata": {},
   "outputs": [],
   "source": [
    "# phi\n",
    "\n",
    "ax = hists['Dstar_p'].integrate('chg', 'right charge').sum('pt','eta')\n",
    "\n",
    "bx = ax.rebin(\"phi\", hist.Bin(\"phi\", \"$\\phi_{D*}$\", 35, -3.5, 3.5))\n",
    "\n",
    "cx = create_plot1d(bx)\n",
    "\n",
    "#cx.set_ylim(0, 1.6e3)\n"
   ]
  },
  {
   "cell_type": "code",
   "execution_count": null,
   "metadata": {},
   "outputs": [],
   "source": [
    "# Dstar wrg charge\n",
    "((ax_pt, ax_eta), (ax_phi, ax_mass)) = kinematics_plot(hists['Dstar_p'].integrate('chg', 'wrong charge'), \n",
    "                                                       hists['Dstar_deltamr'].integrate('chg', 'wrong charge'))"
   ]
  },
  {
   "cell_type": "code",
   "execution_count": null,
   "metadata": {},
   "outputs": [],
   "source": [
    "hist_wrg_chg = hists['Dstar_deltamr'].integrate('chg', 'wrong charge')\n",
    "hist.plot1d(hist_wrg_chg)"
   ]
  },
  {
   "cell_type": "code",
   "execution_count": null,
   "metadata": {},
   "outputs": [],
   "source": [
    "# Dstar wrg chg plot\n",
    "hist_wrg_chg = hists['Dstar_deltamr'].integrate('chg', 'wrong charge')\n",
    "hist_rgt_chg = hists['Dstar_deltamr'].integrate('chg', 'right charge')\n",
    "\n",
    "w = get_dstar_weight(hist_rgt_chg, hist_wrg_chg)\n",
    "hist_wrg_chg.scale(w)\n",
    "\n",
    "ax, rax = ratio_plot(hist_rgt_chg, hist_wrg_chg)\n",
    "\n",
    "handles, labels = ax.get_legend_handles_labels()\n",
    "labels = ['right charge', 'wrong charge']\n",
    "\n",
    "leg = ax.legend(handles, labels)\n",
    "\n",
    "rax.set_xlabel('$\\Delta m$ [GeV]')\n",
    "print(f\"weight: {w}\")"
   ]
  },
  {
   "cell_type": "code",
   "execution_count": null,
   "metadata": {},
   "outputs": [],
   "source": [
    "hist_wrg_chg.scale(-1)\n",
    "histo = hist_rgt_chg + hist_wrg_chg\n",
    "hist_wrg_chg.scale(1)\n",
    "ax = create_plot1d(histo)\n",
    "ax.legend().remove()\n",
    "\n",
    "ax.set_ylim(-1e2, 74e3)"
   ]
  },
  {
   "cell_type": "code",
   "execution_count": null,
   "metadata": {},
   "outputs": [],
   "source": [
    "#### Changing the bin\n",
    "\n",
    "ax = histo\n",
    "\n",
    "bx = ax.rebin(\"deltamr\", hist.Bin(\"deltamr\", \"$\\Delta m_{refit}$ [GeV]\", 50 , 0.138, 0.162))\n",
    "\n",
    "cx = create_plot1d(bx)\n",
    "\n",
    "cx.set_ylim(-1000, 75e3)"
   ]
  },
  {
   "cell_type": "code",
   "execution_count": null,
   "metadata": {},
   "outputs": [],
   "source": [
    "######################## D* Mass ########################\n",
    "\n",
    "fill_opts = {\n",
    "    'alpha': 0.8,\n",
    "    'edgecolor':(0,0,0,.5)\n",
    "}\n",
    "\n",
    "\n",
    "data_err_opts = {\n",
    "    'linestyle': 'none',\n",
    "    'marker': '.',\n",
    "    'markersize': 10.,\n",
    "    'color': 'k',\n",
    "    'elinewidth': 0,\n",
    "}\n",
    "    \n",
    "# Data    \n",
    "ax = hist.plot1d(histo, error_opts=data_err_opts)\n"
   ]
  },
  {
   "cell_type": "code",
   "execution_count": null,
   "metadata": {},
   "outputs": [],
   "source": [
    "ax = create_plot1d(hists['Dstar_rap'].integrate('chg', 'right charge'))"
   ]
  },
  {
   "cell_type": "code",
   "execution_count": null,
   "metadata": {},
   "outputs": [],
   "source": [
    "((ax_pt, ax_eta), (ax_phi, ax_mass)) = kinematics_plot(hists['Dstar_K_p'])"
   ]
  },
  {
   "cell_type": "code",
   "execution_count": null,
   "metadata": {},
   "outputs": [],
   "source": [
    "ax = hist.plot1d(hists['Dstar_K_p'].sum('phi','eta'), fill_opts=fill_opts)\n",
    "\n",
    "ax.set_xlim(0, 4)\n",
    "ax.set_ylim(1, 4.2e305)"
   ]
  },
  {
   "cell_type": "code",
   "execution_count": null,
   "metadata": {},
   "outputs": [],
   "source": [
    "ax = create_plot2d(hists['Dstar_K_p'].sum('phi'))\n",
    "ax.set_xlim(0, 10)"
   ]
  },
  {
   "cell_type": "code",
   "execution_count": null,
   "metadata": {},
   "outputs": [],
   "source": [
    "ax = create_plot1d(hists['Dstar_K_chindof'])"
   ]
  },
  {
   "cell_type": "code",
   "execution_count": null,
   "metadata": {},
   "outputs": [],
   "source": [
    "ax = create_plot1d(hists['Dstar_K_nValid'])"
   ]
  },
  {
   "cell_type": "code",
   "execution_count": null,
   "metadata": {},
   "outputs": [],
   "source": [
    "ax = create_plot1d(hists['Dstar_K_nPix'])"
   ]
  },
  {
   "cell_type": "code",
   "execution_count": null,
   "metadata": {},
   "outputs": [],
   "source": [
    "ax = create_plot1d(hists['Dstar_K_dxy'])"
   ]
  },
  {
   "cell_type": "code",
   "execution_count": null,
   "metadata": {},
   "outputs": [],
   "source": [
    "ax = create_plot1d(hists['Dstar_K_dxy'])"
   ]
  },
  {
   "cell_type": "code",
   "execution_count": null,
   "metadata": {},
   "outputs": [],
   "source": [
    "ax = create_plot1d(hists['Dstar_K_dz'])"
   ]
  },
  {
   "cell_type": "code",
   "execution_count": null,
   "metadata": {},
   "outputs": [],
   "source": [
    "ax = create_plot2d(hists['Dstar_K_pt_eta'])"
   ]
  },
  {
   "cell_type": "code",
   "execution_count": null,
   "metadata": {},
   "outputs": [],
   "source": [
    "# Dstar pi\n",
    "((ax_pt, ax_eta), (ax_phi, ax_mass)) = kinematics_plot(hists['Dstar_pi_p'])"
   ]
  },
  {
   "cell_type": "code",
   "execution_count": null,
   "metadata": {},
   "outputs": [],
   "source": [
    "ax = hist.plot1d(hists['Dstar_pi_p'].sum('phi','eta'), fill_opts=fill_opts)\n",
    "\n",
    "ax.set_xlim(0, 4)\n",
    "ax.set_ylim(1, 2.9e3)"
   ]
  },
  {
   "cell_type": "code",
   "execution_count": null,
   "metadata": {},
   "outputs": [],
   "source": [
    "ax = create_plot1d(hists['Dstar_pi_chindof'])"
   ]
  },
  {
   "cell_type": "code",
   "execution_count": null,
   "metadata": {},
   "outputs": [],
   "source": [
    "ax = create_plot1d(hists['Dstar_pi_nValid'])"
   ]
  },
  {
   "cell_type": "code",
   "execution_count": null,
   "metadata": {},
   "outputs": [],
   "source": [
    "ax = create_plot1d(hists['Dstar_pi_nPix'])"
   ]
  },
  {
   "cell_type": "code",
   "execution_count": null,
   "metadata": {},
   "outputs": [],
   "source": [
    "ax = create_plot1d(hists['Dstar_pi_dxy'])"
   ]
  },
  {
   "cell_type": "code",
   "execution_count": null,
   "metadata": {},
   "outputs": [],
   "source": [
    "ax = create_plot1d(hists['Dstar_pi_dz'])"
   ]
  },
  {
   "cell_type": "code",
   "execution_count": null,
   "metadata": {},
   "outputs": [],
   "source": [
    "# Dstar pis\n",
    "((ax_pt, ax_eta), (ax_phi, ax_mass)) = kinematics_plot(hists['Dstar_pis_p'])"
   ]
  },
  {
   "cell_type": "code",
   "execution_count": null,
   "metadata": {},
   "outputs": [],
   "source": [
    "ax = hist.plot1d(hists['Dstar_pis_p'].sum('phi','eta'), fill_opts=fill_opts)\n",
    "\n",
    "ax.set_xlim(0, 4)\n",
    "ax.set_ylim(1, 1.3e4)"
   ]
  },
  {
   "cell_type": "code",
   "execution_count": null,
   "metadata": {},
   "outputs": [],
   "source": [
    "ax = create_plot1d(hists['Dstar_pis_chindof'])"
   ]
  },
  {
   "cell_type": "code",
   "execution_count": null,
   "metadata": {},
   "outputs": [],
   "source": [
    "ax = create_plot1d(hists['Dstar_pis_nValid'])"
   ]
  },
  {
   "cell_type": "code",
   "execution_count": null,
   "metadata": {},
   "outputs": [],
   "source": [
    "ax = create_plot1d(hists['Dstar_pis_nPix'])"
   ]
  },
  {
   "cell_type": "code",
   "execution_count": null,
   "metadata": {},
   "outputs": [],
   "source": [
    "ax = create_plot1d(hists['Dstar_pis_dxy'])"
   ]
  },
  {
   "cell_type": "code",
   "execution_count": null,
   "metadata": {},
   "outputs": [],
   "source": [
    "ax = create_plot1d(hists['Dstar_pis_dz'])"
   ]
  },
  {
   "cell_type": "code",
   "execution_count": null,
   "metadata": {},
   "outputs": [],
   "source": [
    "# Associated Jpsi Dstar\n",
    "((ax_pt, ax_eta), (ax_phi, ax_mass)) = kinematics_plot(hists['JpsiDstar']['Jpsi_p'], hists['JpsiDstar']['Jpsi_mass'])"
   ]
  },
  {
   "cell_type": "code",
   "execution_count": null,
   "metadata": {},
   "outputs": [],
   "source": [
    "((ax_pt, ax_eta), (ax_phi, ax_mass)) = kinematics_plot(hists['JpsiDstar']['Dstar_p'].integrate('chg', 'right charge'),\n",
    "                                                       hists['JpsiDstar']['Dstar_deltamr'].integrate('chg', 'right charge'))"
   ]
  },
  {
   "cell_type": "code",
   "execution_count": null,
   "metadata": {},
   "outputs": [],
   "source": [
    "hist_wrg_chg = hists['JpsiDstar']['Dstar_deltamr'].integrate('chg', 'wrong charge')\n",
    "hist_rgt_chg = hists['JpsiDstar']['Dstar_deltamr'].integrate('chg', 'right charge')\n",
    "\n",
    "w = get_dstar_weight(hist_rgt_chg, hist_wrg_chg)\n",
    "hist_wrg_chg.scale(w)\n",
    "\n",
    "ax, rax = ratio_plot(hist_rgt_chg, hist_wrg_chg)\n",
    "\n",
    "handles, labels = ax.get_legend_handles_labels()\n",
    "labels = ['right charge', 'wrong charge']\n",
    "\n",
    "leg = ax.legend(handles, labels)\n",
    "\n",
    "rax.set_xlabel('$\\Delta m$ [GeV]')\n",
    "print(f\"weight: {w}\")"
   ]
  },
  {
   "cell_type": "code",
   "execution_count": null,
   "metadata": {},
   "outputs": [],
   "source": [
    "hist_rgt_chg = hists['JpsiDstar']['Dstar_deltamr'].integrate('chg', 'right charge')\n"
   ]
  },
  {
   "cell_type": "code",
   "execution_count": null,
   "metadata": {},
   "outputs": [],
   "source": [
    "type(ax)"
   ]
  },
  {
   "cell_type": "code",
   "execution_count": null,
   "metadata": {},
   "outputs": [],
   "source": [
    "#ax = create_plot1d(hists['JpsiDstar']['JpsiDstar_mass'])\n",
    "\n",
    "#file = '../output/test_Charmonium2017E_new_code/test_Charmonium2017E_new_code_hists.coffea'\n",
    "#file = '../output/test_trigger_Charmonium2017E/test_trigger_Charmonium2017E_hists.coffea'\n",
    "#file = '../output/Charmonium2017E_D0_dl_study/Charmonium2017E_D0_dl_study_hists.coffea'\n",
    "#file = '../output/Monte_Carlo_2017_new_code/Monte_Carlo_2017_new_code_hists.coffea'\n",
    "\n",
    "#hists = load(file)\n",
    "\n",
    "histograma = hists['JpsiDstar']['JpsiDstar_mass']\n",
    "\n",
    "#ax = histograma.rebin(\"mass\", hist.Bin(\"mass\", \"$m_{J/\\psi D*}$ [GeV]\", 100, 0, 100))\n",
    "\n",
    "ax = create_plot1d(histograma)\n",
    "\n",
    "\n",
    "#ax.set_xlim(0, 20)"
   ]
  },
  {
   "cell_type": "code",
   "execution_count": null,
   "metadata": {},
   "outputs": [],
   "source": [
    "ax = create_plot1d(histograma)\n",
    "ax.set_xlim(0, 35)"
   ]
  },
  {
   "cell_type": "code",
   "execution_count": null,
   "metadata": {},
   "outputs": [],
   "source": [
    "ax = create_plot1d(hists['JpsiDstar']['JpsiDstar_deltarap'])"
   ]
  },
  {
   "cell_type": "code",
   "execution_count": null,
   "metadata": {},
   "outputs": [],
   "source": [
    "# Associated Psi Dstar\n",
    "((ax_pt, ax_eta), (ax_phi, ax_mass)) = kinematics_plot(hists['PsiDstar']['Psi_p'], hists['PsiDstar']['Psi_mass'])"
   ]
  },
  {
   "cell_type": "code",
   "execution_count": null,
   "metadata": {},
   "outputs": [],
   "source": [
    "((ax_pt, ax_eta), (ax_phi, ax_mass)) = kinematics_plot(hists['PsiDstar']['Dstar_p'].integrate('chg', 'right charge'),\n",
    "                                                       hists['PsiDstar']['Dstar_deltamr'].integrate('chg', 'right charge'))"
   ]
  },
  {
   "cell_type": "code",
   "execution_count": null,
   "metadata": {},
   "outputs": [],
   "source": [
    "hist_wrg_chg = hists['PsiDstar']['Dstar_deltamr'].integrate('chg', 'wrong charge')\n",
    "hist_rgt_chg = hists['PsiDstar']['Dstar_deltamr'].integrate('chg', 'right charge')\n",
    "\n",
    "w = get_dstar_weight(hist_rgt_chg, hist_wrg_chg)\n",
    "hist_wrg_chg.scale(w)\n",
    "\n",
    "ax, rax = ratio_plot(hist_rgt_chg, hist_wrg_chg)\n",
    "\n",
    "handles, labels = ax.get_legend_handles_labels()\n",
    "labels = ['right charge', 'wrong charge']\n",
    "\n",
    "leg = ax.legend(handles, labels)\n",
    "\n",
    "rax.set_xlabel('$\\Delta m$ [GeV]')\n",
    "print(f\"weight: {w}\")"
   ]
  },
  {
   "cell_type": "code",
   "execution_count": null,
   "metadata": {},
   "outputs": [],
   "source": [
    "ax = create_plot1d(hists['PsiDstar']['PsiDstar_mass'])\n",
    "\n",
    "ax.set_xlim(0, 100)"
   ]
  },
  {
   "cell_type": "code",
   "execution_count": null,
   "metadata": {},
   "outputs": [],
   "source": [
    "ax = create_plot1d(hists['PsiDstar']['PsiDstar_deltarap'])"
   ]
  },
  {
   "cell_type": "code",
   "execution_count": null,
   "metadata": {},
   "outputs": [],
   "source": [
    "import awkward as ak\n",
    "from coffea.util import load\n",
    "from coffea import hist\n",
    "import matplotlib.pyplot as plt\n",
    "import mplhep\n",
    "\n",
    "import numpy as np\n",
    "\n",
    "plt.style.use(mplhep.style.CMS)\n",
    "\n",
    "from coffea.nanoevents.methods import candidate\n",
    "ak.behavior.update(candidate.behavior)"
   ]
  },
  {
   "cell_type": "code",
   "execution_count": 38,
   "metadata": {},
   "outputs": [],
   "source": [
    "######### comparison triggers ##############\n",
    "\n",
    "file_no_trigger = '../output/Monte_Carlo_2017/Monte_Carlo_2017_hists.coffea'\n",
    "file_dimu0 = '../output/Monte_Carlo_2017_Dimu0/Monte_Carlo_2017_Dimu0_hists.coffea'\n",
    "\n",
    "hists_no_trigger = load(file_no_trigger)\n",
    "hists_dimu0  = load(file_dimu0)"
   ]
  },
  {
   "cell_type": "code",
   "execution_count": 36,
   "metadata": {},
   "outputs": [],
   "source": [
    "stack_fill_opts = {\n",
    "    'alpha': 0.8,\n",
    "    'edgecolor':(0,0,0,.5)\n",
    "}"
   ]
  },
  {
   "cell_type": "code",
   "execution_count": 40,
   "metadata": {},
   "outputs": [
    {
     "data": {
      "text/plain": [
       "Text(1, 0, '$\\\\mu^+\\\\mu^- invariant\\\\ mass\\\\  [GeV]$')"
      ]
     },
     "execution_count": 40,
     "metadata": {},
     "output_type": "execute_result"
    },
    {
     "data": {
      "image/png": "[encoded data removed]",
      "text/plain": [
       "<Figure size 720x720 with 1 Axes>"
      ]
     },
     "metadata": {
      "needs_background": "light"
     },
     "output_type": "display_data"
    }
   ],
   "source": [
    "####### Jpsi mass #######\n",
    "\n",
    "# No_trigger\n",
    "ax = hist.plot1d(hists_no_trigger['Jpsi_mass'], fill_opts=stack_fill_opts)\n",
    "\n",
    "# HLT0\n",
    "ay = hist.plot1d(hists_dimu0['Jpsi_mass'], fill_opts=stack_fill_opts)\n",
    "\n",
    "\n",
    "handles, labels = ax.get_legend_handles_labels()\n",
    "labels = ['$No Trigger$', '$Dimu0$']\n",
    "ax.legend(handles, labels, prop={'size': 16})\n",
    "\n",
    "ax.set_xlabel('$\\mu^+\\mu^- invariant\\ mass\\  [GeV]$')"
   ]
  },
  {
   "cell_type": "code",
   "execution_count": 31,
   "metadata": {},
   "outputs": [
    {
     "data": {
      "text/plain": [
       "(10, 40000.0)"
      ]
     },
     "execution_count": 31,
     "metadata": {},
     "output_type": "execute_result"
    },
    {
     "data": {
      "image/png": "[encoded data removed]",
      "text/plain": [
       "<Figure size 720x720 with 1 Axes>"
      ]
     },
     "metadata": {
      "needs_background": "light"
     },
     "output_type": "display_data"
    }
   ],
   "source": [
    "####### Jpsi pT #######\n",
    "\n",
    "# No_trigger\n",
    "ax = hist.plot1d(hists_no_trigger['Jpsi_p'].sum('eta', 'phi'), fill_opts=stack_fill_opts)\n",
    "\n",
    "# HLT0\n",
    "ay = hist.plot1d(histse_hlt0['Jpsi_p'].sum('eta', 'phi'), fill_opts=stack_fill_opts)\n",
    "\n",
    "ax.set_yscale('log')\n",
    "ax.set_ylim(10, 1e4)\n",
    "\n",
    "handles, labels = ax.get_legend_handles_labels()\n",
    "labels = ['$No Trigger$', '$Dimu0$']\n",
    "ax.legend(handles, labels, prop={'size': 16})\n",
    "\n",
    "ax.set_xlabel('$J/\\Psi\\ p_T\\ [GeV]$')\n",
    "\n",
    "ay.set_yscale('log')\n",
    "ay.set_ylim(10, 4e4)"
   ]
  },
  {
   "cell_type": "code",
   "execution_count": 34,
   "metadata": {},
   "outputs": [
    {
     "data": {
      "text/plain": [
       "(-2.7, 2.7)"
      ]
     },
     "execution_count": 34,
     "metadata": {},
     "output_type": "execute_result"
    },
    {
     "data": {
      "image/png": "[encoded data removed]",
      "text/plain": [
       "<Figure size 720x720 with 1 Axes>"
      ]
     },
     "metadata": {
      "needs_background": "light"
     },
     "output_type": "display_data"
    }
   ],
   "source": [
    "####### Jpsi eta #######\n",
    "\n",
    "# No_trigger\n",
    "ax = hist.plot1d(hists_no_trigger['Jpsi_p'].sum('pt', 'phi'), fill_opts=stack_fill_opts)\n",
    "\n",
    "# HLT0\n",
    "ay = hist.plot1d(histse_hlt0['Jpsi_p'].sum('pt', 'phi'), fill_opts=stack_fill_opts)\n",
    "\n",
    "ax.set_yscale('log')\n",
    "ax.set_ylim(10, 1e4)\n",
    "\n",
    "handles, labels = ax.get_legend_handles_labels()\n",
    "labels = ['$No Trigger$', '$Dimu0$']\n",
    "ax.legend(handles, labels, prop={'size': 16})\n",
    "\n",
    "ax.set_xlabel('$J/\\Psi\\ \\eta$')\n",
    "\n",
    "ax.set_xlim(-2.7, 2.7)"
   ]
  },
  {
   "cell_type": "code",
   "execution_count": null,
   "metadata": {},
   "outputs": [],
   "source": [
    "''' Comparison Monte Carlo With data ''' \n",
    "    \n",
    "## Data\n",
    "\n",
    "# Charmonium 2017E\n",
    "\n",
    "data_file = '../output/Charmonium2017E_test_loose_cuts/Charmonium2017E_test_loose_cuts_hists.coffea'\n",
    "\n",
    "# Charmonium 2018B\n",
    "\n",
    "#data_file = '../output/Charmonium2018B_test_loose_cuts/Charmonium2018B_test_loose_cuts_hists.coffea'\n",
    "\n",
    "## Monte Carlo\n",
    "\n",
    "mc_file = '../output/JpsiDstar_2017_test_loose_cuts_tests/JpsiDstar_2017_test_loose_cuts_tests_hists.coffea'\n",
    "\n",
    "\n",
    "hists_data = load(data_file)\n",
    "hists_mc = load(mc_file)"
   ]
  },
  {
   "cell_type": "code",
   "execution_count": null,
   "metadata": {},
   "outputs": [],
   "source": [
    "######################## Primary vertex ########################\n",
    "\n",
    "\n",
    "fill_opts = {\n",
    "    'alpha': 0.8,\n",
    "    'edgecolor':(0,0,0,.5)\n",
    "}\n",
    "\n",
    "data_err_opts = {\n",
    "    'linestyle': 'none',\n",
    "    'marker': '.',\n",
    "    'markersize': 10.,\n",
    "    'color': 'k',\n",
    "    'elinewidth': 1,\n",
    "}\n",
    "\n",
    "# Data    \n",
    "\n",
    "ax = hist.plot1d(\n",
    "    hists_data['Primary_vertex_npvs'],\n",
    "    error_opts=data_err_opts\n",
    ")\n",
    "\n",
    "# MC\n",
    "ay = hist.plot1d(\n",
    "    hists_mc['Primary_vertex_npvs'],\n",
    "    fill_opts=fill_opts,\n",
    ")\n",
    "\n",
    "ax.autoscale(axis='x', tight=True)\n",
    "ax.set_ylim(0, None)\n",
    "ax.set_xlabel(None)\n",
    "leg = ax.legend()\n",
    "\n",
    "CMS = plt.text(0.03, 0.93, \"CMS\",\n",
    "                  fontsize=22,\n",
    "                  fontweight='bold',\n",
    "                  horizontalalignment='left',\n",
    "                  verticalalignment='bottom',\n",
    "                  transform=ax.transAxes\n",
    "                 )\n",
    "pre = plt.text(0.03, 0.88, \"Preliminary\",\n",
    "                  fontsize=19,\n",
    "                  fontstyle='italic',\n",
    "                  horizontalalignment='left',\n",
    "                  verticalalignment='bottom',\n",
    "                  transform=ax.transAxes\n",
    "                 )\n",
    "lumi = plt.text(1., 1., r\"44.99 fb$^{-1}$ (13 TeV)\",\n",
    "                fontsize=18,\n",
    "                fontstyle='normal',\n",
    "                horizontalalignment='right',\n",
    "                verticalalignment='bottom',\n",
    "                transform=ax.transAxes\n",
    "               )\n",
    "\n",
    "handles, labels = ax.get_legend_handles_labels()\n",
    "labels = ['$MC$', '$Data$']\n",
    "ax.legend(handles, labels, prop={'size': 16})\n",
    "\n",
    "ax.set_xlabel('$Number \\ of \\ Primary \\ vertex$')\n",
    "ax.set_ylim(0, 31000)"
   ]
  },
  {
   "cell_type": "code",
   "execution_count": null,
   "metadata": {},
   "outputs": [],
   "source": [
    "######################## Jpsi Mass ########################\n",
    "\n",
    "fill_opts = {\n",
    "    'alpha': 0.8,\n",
    "    'edgecolor':(0,0,0,.5)\n",
    "}\n",
    "\n",
    "data_err_opts = {\n",
    "    'linestyle': 'none',\n",
    "    'marker': '.',\n",
    "    'markersize': 10.,\n",
    "    'color': 'k',\n",
    "    'elinewidth': 1,\n",
    "}\n",
    "\n",
    "# Data    \n",
    "\n",
    "ax = hist.plot1d(\n",
    "    hists_data['Jpsi_mass'],\n",
    "    error_opts=data_err_opts\n",
    ")\n",
    "\n",
    "# MC\n",
    "ay = hist.plot1d(\n",
    "    hists_mc['Jpsi_mass'],\n",
    "    fill_opts=fill_opts,\n",
    ")\n",
    "\n",
    "ax.autoscale(axis='x', tight=True)\n",
    "ax.set_ylim(0, None)\n",
    "ax.set_xlabel(None)\n",
    "leg = ax.legend()\n",
    "\n",
    "CMS = plt.text(0.03, 0.93, \"CMS\",\n",
    "                  fontsize=22,\n",
    "                  fontweight='bold',\n",
    "                  horizontalalignment='left',\n",
    "                  verticalalignment='bottom',\n",
    "                  transform=ax.transAxes\n",
    "                 )\n",
    "pre = plt.text(0.03, 0.88, \"Preliminary\",\n",
    "                  fontsize=19,\n",
    "                  fontstyle='italic',\n",
    "                  horizontalalignment='left',\n",
    "                  verticalalignment='bottom',\n",
    "                  transform=ax.transAxes\n",
    "                 )\n",
    "lumi = plt.text(1., 1., r\"44.99 fb$^{-1}$ (13 TeV)\",\n",
    "                fontsize=18,\n",
    "                fontstyle='normal',\n",
    "                horizontalalignment='right',\n",
    "                verticalalignment='bottom',\n",
    "                transform=ax.transAxes\n",
    "               )\n",
    "\n",
    "handles, labels = ax.get_legend_handles_labels()\n",
    "labels = ['$MC$', '$Data$']\n",
    "ax.legend(handles, labels, prop={'size': 16})\n",
    "\n",
    "ax.set_xlabel('$\\mu^+\\mu^- invariant\\ mass\\  [GeV]$')"
   ]
  },
  {
   "cell_type": "code",
   "execution_count": null,
   "metadata": {},
   "outputs": [],
   "source": [
    "## pT\n",
    "\n",
    "# Data\n",
    "ax = hist.plot1d(hists_data['Jpsi_p'].sum('eta', 'phi'), error_opts=data_err_opts)\n",
    "\n",
    "# MC\n",
    "ay = hist.plot1d(hists_mc['Jpsi_p'].sum('eta', 'phi'), fill_opts=fill_opts)\n",
    "\n",
    "ax.set_yscale('log')\n",
    "ax.set_ylim(10, 1e4)\n",
    "\n",
    "handles, labels = ax.get_legend_handles_labels()\n",
    "labels = ['$MC$', '$Data$']\n",
    "ax.legend(handles, labels, prop={'size': 16})\n",
    "\n",
    "ax.set_xlabel('$J/\\Psi\\ p_T\\ [GeV]$')\n",
    "\n",
    "ay.set_yscale('log')\n",
    "ay.set_ylim(10, 1e4)"
   ]
  },
  {
   "cell_type": "code",
   "execution_count": null,
   "metadata": {},
   "outputs": [],
   "source": [
    "## eta\n",
    "\n",
    "# Data\n",
    "ax = hist.plot1d(hists_data['Jpsi_p'].sum('pt', 'phi'), error_opts=data_err_opts)\n",
    "\n",
    "# MC\n",
    "ay = hist.plot1d(hists_mc['Jpsi_p'].sum('pt', 'phi'), fill_opts=fill_opts)\n",
    "\n",
    "handles, labels = ax.get_legend_handles_labels()\n",
    "labels = ['$MC$', '$Data$']\n",
    "ax.legend(handles, labels, prop={'size': 16})\n",
    "\n",
    "ax.set_xlabel('$J/\\Psi\\ \\eta$')"
   ]
  },
  {
   "cell_type": "code",
   "execution_count": null,
   "metadata": {},
   "outputs": [],
   "source": [
    "## phi\n",
    "\n",
    "# Data\n",
    "ax = hist.plot1d(hists_data['Jpsi_p'].sum('pt', 'eta'), error_opts=data_err_opts)\n",
    "\n",
    "# MC\n",
    "ay = hist.plot1d(hists_mc['Jpsi_p'].sum('pt', 'eta'), fill_opts=fill_opts)\n",
    "\n",
    "handles, labels = ax.get_legend_handles_labels()\n",
    "labels = ['$MC$', '$Data$']\n",
    "ax.legend(handles, labels, prop={'size': 16})\n",
    "\n",
    "ax.set_xlabel('$J/\\Psi\\ \\phi$')"
   ]
  },
  {
   "cell_type": "code",
   "execution_count": null,
   "metadata": {},
   "outputs": [],
   "source": [
    "######################## D0 Mass ########################\n",
    "\n",
    "fill_opts = {\n",
    "    'alpha': 0.8,\n",
    "    'edgecolor':(0,0,0,.5)\n",
    "}\n",
    "err_opts = {\n",
    "        'linestyle': 'none',\n",
    "        'marker': '.',\n",
    "        'markersize': 10.,\n",
    "        'elinewidth': 1,\n",
    "}\n",
    "    \n",
    "# Data    \n",
    "ax = hist.plot1d(hists_data['D0_mass12'], error_opts=data_err_opts)\n",
    "ax.set_ylim(0, 160)\n",
    "\n",
    "# MC\n",
    "hist.plot1d(hists_mc['D0_mass12'], fill_opts=fill_opts)\n",
    "\n",
    "handles, labels = ax.get_legend_handles_labels()\n",
    "labels = ['$MC$', '$Data$']\n",
    "ax.legend(handles, labels, prop={'size': 16})\n",
    "\n",
    "ax.set_xlabel('$K\\pi\\ invariant\\ mass\\  [GeV]$')"
   ]
  },
  {
   "cell_type": "code",
   "execution_count": null,
   "metadata": {},
   "outputs": [],
   "source": [
    "## pT\n",
    "\n",
    "# Data\n",
    "ax = hist.plot1d(hists_data['D0_p'].sum('eta', 'phi'), error_opts=data_err_opts)\n",
    "\n",
    "# MC\n",
    "ay = hist.plot1d(hists_mc['D0_p'].sum('eta', 'phi'), fill_opts=fill_opts)\n",
    "\n",
    "ax.set_yscale('log')\n",
    "ax.set_ylim(10, 4e3)\n",
    "\n",
    "handles, labels = ax.get_legend_handles_labels()\n",
    "labels = ['$MC$', '$Data$']\n",
    "ax.legend(handles, labels, prop={'size': 16})\n",
    "\n",
    "ax.set_xlabel('$D^0\\ p_T\\ [GeV]$')\n",
    "\n",
    "ay.set_yscale('log')\n",
    "ay.set_ylim(10, 4e3)"
   ]
  },
  {
   "cell_type": "code",
   "execution_count": null,
   "metadata": {},
   "outputs": [],
   "source": [
    "## eta\n",
    "\n",
    "# Data\n",
    "ax = hist.plot1d(hists_data['D0_p'].sum('pt', 'phi'), error_opts=data_err_opts)\n",
    "\n",
    "# MC\n",
    "ay = hist.plot1d(hists_mc['D0_p'].sum('pt', 'phi'), fill_opts=fill_opts)\n",
    "\n",
    "handles, labels = ax.get_legend_handles_labels()\n",
    "labels = ['$MC$', '$Data$']\n",
    "ax.legend(handles, labels, prop={'size': 16})\n",
    "\n",
    "ax.set_xlabel('$D^0\\ \\eta$')\n",
    "ax.set_ylim(0, 250)"
   ]
  },
  {
   "cell_type": "code",
   "execution_count": null,
   "metadata": {},
   "outputs": [],
   "source": [
    "## phi\n",
    "\n",
    "# Data\n",
    "ax = hist.plot1d(hists_data['D0_p'].sum('pt', 'eta'), error_opts=data_err_opts)\n",
    "\n",
    "# MC\n",
    "ay = hist.plot1d(hists_mc['D0_p'].sum('pt', 'eta'), fill_opts=fill_opts)\n",
    "\n",
    "handles, labels = ax.get_legend_handles_labels()\n",
    "labels = ['$MC$', '$Data$']\n",
    "ax.legend(handles, labels, prop={'size': 16})\n",
    "\n",
    "ax.set_xlabel('$D^0\\ \\phi$')\n",
    "ax.set_ylim(0, 250)"
   ]
  },
  {
   "cell_type": "code",
   "execution_count": null,
   "metadata": {},
   "outputs": [],
   "source": [
    "######################## D* Mass ########################\n",
    "\n",
    "fill_opts = {\n",
    "    'alpha': 0.8,\n",
    "    'edgecolor':(0,0,0,.5)\n",
    "}\n",
    "err_opts = {\n",
    "        'linestyle': 'none',\n",
    "        'marker': '.',\n",
    "        'markersize': 10.,\n",
    "        'elinewidth': 1,\n",
    "}\n",
    "    \n",
    "# Data    \n",
    "ax = hist.plot1d(hists_data['Dstar_deltamr'].integrate('chg', 'right charge'), error_opts=data_err_opts)\n",
    "ax.set_ylim(0, 160)\n",
    "\n",
    "# MC\n",
    "hist.plot1d(hists_mc['Dstar_deltamr'].integrate('chg', 'right charge'), fill_opts=fill_opts)\n",
    "\n",
    "handles, labels = ax.get_legend_handles_labels()\n",
    "labels = ['$MC$', '$Data$']\n",
    "ax.legend(handles, labels, prop={'size': 16})\n",
    "\n",
    "ax.set_xlabel('$M(K\\pi\\pi_s)-M(K\\pi)\\  [GeV]$')\n",
    "ax.set_ylim(0, 120)"
   ]
  },
  {
   "cell_type": "code",
   "execution_count": null,
   "metadata": {},
   "outputs": [],
   "source": [
    "## pT\n",
    "\n",
    "# Data\n",
    "ax = hist.plot1d(hists_data['Dstar_p'].integrate('chg', 'right charge').sum('eta', 'phi'), error_opts=data_err_opts)\n",
    "\n",
    "# MC\n",
    "ay = hist.plot1d(hists_mc['Dstar_p'].integrate('chg', 'right charge').sum('eta', 'phi'), fill_opts=fill_opts)\n",
    "\n",
    "ax.set_yscale('log')\n",
    "ax.set_ylim(10, 1.5e2)\n",
    "ax.set_xlim(0, 20)\n",
    "\n",
    "handles, labels = ax.get_legend_handles_labels()\n",
    "labels = ['$MC$', '$Data$']\n",
    "ax.legend(handles, labels, prop={'size': 16})\n",
    "\n",
    "ax.set_xlabel('$D^*\\ p_T\\ [GeV]$')\n",
    "\n",
    "ay.set_yscale('log')\n",
    "ay.set_ylim(10, 1.5e2)"
   ]
  },
  {
   "cell_type": "code",
   "execution_count": null,
   "metadata": {},
   "outputs": [],
   "source": [
    "## eta\n",
    "\n",
    "# Data\n",
    "ax = hist.plot1d(hists_data['Dstar_p'].integrate('chg', 'right charge').sum('pt', 'phi'), error_opts=data_err_opts)\n",
    "\n",
    "# MC\n",
    "ay = hist.plot1d(hists_mc['Dstar_p'].integrate('chg', 'right charge').sum('pt', 'phi'), fill_opts=fill_opts)\n",
    "\n",
    "handles, labels = ax.get_legend_handles_labels()\n",
    "labels = ['$MC$', '$Data$']\n",
    "ax.legend(handles, labels, prop={'size': 16})\n",
    "\n",
    "ax.set_xlabel('$D^0\\ \\eta$')\n",
    "ax.set_ylim(0, 25)"
   ]
  },
  {
   "cell_type": "code",
   "execution_count": null,
   "metadata": {},
   "outputs": [],
   "source": []
  }
 ],
 "metadata": {
  "kernelspec": {
   "display_name": "Python 3 (ipykernel)",
   "language": "python",
   "name": "python3"
  },
  "language_info": {
   "codemirror_mode": {
    "name": "ipython",
    "version": 3
   },
   "file_extension": ".py",
   "mimetype": "text/x-python",
   "name": "python",
   "nbconvert_exporter": "python",
   "pygments_lexer": "ipython3",
   "version": "3.9.7"
  }
 },
 "nbformat": 4,
 "nbformat_minor": 4
}
