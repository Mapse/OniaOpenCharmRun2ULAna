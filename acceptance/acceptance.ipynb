{
 "cells": [
  {
   "cell_type": "markdown",
   "metadata": {
    "tags": []
   },
   "source": [
    "# Acceptance calculation in bins of p<sub>T</sub> and eta."
   ]
  },
  {
   "cell_type": "code",
   "execution_count": 1,
   "metadata": {},
   "outputs": [],
   "source": [
    "import time\n",
    "import os\n",
    "import numba\n",
    "\n",
    "from coffea.nanoevents import BaseSchema\n",
    " \n",
    "import awkward as ak\n",
    "import numpy as np\n",
    "from coffea import processor, hist\n",
    "\n",
    "from coffea.nanoevents.methods import candidate\n",
    "ak.behavior.update(candidate.behavior)\n",
    "\n",
    "import mplhep\n",
    "import matplotlib.pyplot as plt\n",
    "plt.style.use(mplhep.style.CMS)"
   ]
  },
  {
   "cell_type": "code",
   "execution_count": 2,
   "metadata": {},
   "outputs": [],
   "source": [
    "muon_cols = ['Muon_charge', 'Muon_dxy', 'Muon_dxyErr', 'Muon_dz', 'Muon_dzErr', 'Muon_eta', 'Muon_isGlobal', 'Muon_mass',\n",
    "             'Muon_phi', 'Muon_pt', 'Muon_ptErr', 'Muon_softId', 'Muon_vtxIdx', 'Muon_vtxFlag', 'Muon_simIdx']\n",
    "\n",
    "dimu_cols = ['Dimu_pt', 'Dimu_eta', 'Dimu_phi', 'Dimu_rap', 'Dimu_mass', 'Dimu_charge', 'Dimu_vtxIdx', 'Dimu_chi2', 'Dimu_dl',\n",
    "             'Dimu_dlErr', 'Dimu_dlSig', 'Dimu_cosphi', 'Dimu_x', 'Dimu_y', 'Dimu_z', 'Dimu_t1muIdx', 'Dimu_t2muIdx',]\n",
    "\n",
    "gen_part_cols = ['GenPart_eta', 'GenPart_genPartIdxMother', 'GenPart_mass', 'GenPart_pdgId', \"GenPart_phi\", \"GenPart_pt\", 'GenPart_status',\n",
    "                'GenPart_Id', 'GenPart_parpdgId', 'GenPart_sparpdgId', 'GenPart_numberOfDaughters', 'GenPart_nstchgdaug', 'GenPart_vx', \n",
    "                'GenPart_vy', 'GenPart_vz', 'GenPart_mvx', 'GenPart_mvy', 'GenPart_mvz', 'GenPart_recIdx']\n",
    "\n",
    "dstar_cols = ['Dstar_pt', 'Dstar_eta', 'Dstar_phi', 'Dstar_rap', 'Dstar_deltam', 'Dstar_deltamr', 'Dstar_vtxIdx', 'Dstar_hasMuon',\n",
    "              'Dstar_D0pt', 'Dstar_D0eta', 'Dstar_D0phi', 'Dstar_D0mass', 'Dstar_D0chi2', 'Dstar_D0dl', 'Dstar_D0dlErr',\n",
    "              'Dstar_D0dlSig', 'Dstar_D0cosphi', 'Dstar_D0x', 'Dstar_D0y', 'Dstar_D0z',\n",
    "              'Dstar_Kpt', 'Dstar_Keta', 'Dstar_Kphi', 'Dstar_KvtxIdx', 'Dstar_Kchindof', 'Dstar_KnValid', 'Dstar_KnPix', 'Dstar_Kdxy',\n",
    "              'Dstar_Kdz', 'Dstar_Kchg',\n",
    "              'Dstar_pipt', 'Dstar_pieta', 'Dstar_piphi', 'Dstar_pivtxIdx', 'Dstar_pichindof', 'Dstar_pinValid', 'Dstar_pinPix',\n",
    "              'Dstar_pidxy', 'Dstar_pidz', 'Dstar_pichg',\n",
    "              'Dstar_pispt', 'Dstar_piseta', 'Dstar_pisphi', 'Dstar_pisvtxIdx', 'Dstar_pischindof', 'Dstar_pisnValid', 'Dstar_pisnPix',\n",
    "              'Dstar_pisdxy', 'Dstar_pisdz', 'Dstar_simIdx']\n",
    "\n",
    "D0_PDG_MASS = 1.864\n",
    "\n",
    "def get_vars_dict(events, col_list):\n",
    "    dict = {}\n",
    "    col = ''\n",
    "    for c in col_list:\n",
    "        if c.startswith('Muon'):\n",
    "            col = c[5:]\n",
    "        elif c.startswith('Dimu'):\n",
    "            col = c[4:]\n",
    "            if col.startswith('_'): col = col[1:]\n",
    "        elif c.startswith('D0'):\n",
    "            col = c[2:]\n",
    "            if col.startswith('_'): col = col[1:]\n",
    "        elif c.startswith('Dstar'):\n",
    "            col = c[5:]\n",
    "            if col.startswith('_'): col = col[1:]\n",
    "        elif c.startswith('PVtx'):\n",
    "            col = c[5:]\n",
    "        elif c.startswith(\"GenPart\"):\n",
    "            col = c[8:]\n",
    "        else:\n",
    "            Exception('Not good!')\n",
    "\n",
    "        if col == 'x' or col == 'y' or col == 'z':\n",
    "            col = 'vtx_' + col\n",
    "\n",
    "        if len(events[c]) == 0:\n",
    "            dict[col] = np.array([])\n",
    "        else:\n",
    "            dict[col] = events[c]\n",
    "    return dict"
   ]
  },
  {
   "cell_type": "code",
   "execution_count": 19,
   "metadata": {},
   "outputs": [],
   "source": [
    "import re\n",
    "\n",
    "files = []\n",
    "with os.scandir(\"/eos/user/m/mabarros/Monte_Carlo/dstar_gun/0000\") as it:\n",
    "    for file in it:\n",
    "        if file.name.endswith('.root') and (file.stat().st_size != 0):\n",
    "            files.append(file.path)\n",
    "\n",
    "def atoi(text):\n",
    "    return int(text) if text.isdigit() else text\n",
    "\n",
    "def natural_keys(text):\n",
    "    '''\n",
    "    alist.sort(key=natural_keys) sorts in human order\n",
    "    http://nedbatchelder.com/blog/200712/human_sorting.html\n",
    "    (See Toothy's implementation in the comments)\n",
    "    '''\n",
    "    return [ atoi(c) for c in re.split(r'(\\d+)', text) ]\n",
    "            \n",
    "files.sort(key=natural_keys)"
   ]
  },
  {
   "cell_type": "code",
   "execution_count": 4,
   "metadata": {},
   "outputs": [],
   "source": [
    "def create_plot1d(hist1d, log=False, density=False, ax=None):\n",
    "    from matplotlib.offsetbox import AnchoredOffsetbox, TextArea\n",
    "    plt.style.use(mplhep.style.CMS)\n",
    "    plt.rcParams.update({\n",
    "        'font.size': 16,\n",
    "        'axes.titlesize': 18,\n",
    "        'axes.labelsize': 18,\n",
    "        'xtick.labelsize': 14,\n",
    "        'ytick.labelsize': 14\n",
    "    })\n",
    "    fill_opts = {\n",
    "    'alpha': 0.8,\n",
    "    'edgecolor':(0,0,0,.5)\n",
    "    }\n",
    "    \n",
    "    ax = hist.plot1d(hist1d, ax=ax, fill_opts=fill_opts, density=density)\n",
    "    \n",
    "    if log:\n",
    "        ax.set_yscale('log')\n",
    "        ax.set_ylim(1, None)\n",
    "    else:\n",
    "        ax.ticklabel_format(axis='y', style='sci', scilimits=(0,3), useMathText=True)\n",
    "    \n",
    "    axis = hist1d.axes()[0]\n",
    "    centers = axis.centers()\n",
    "    values = np.where(hist1d.values().get(()) < 0, 0, hist1d.values().get(()))\n",
    "    \n",
    "    # compute mean and std:\n",
    "    mean = np.sum(values*centers)/np.sum(values)\n",
    "    std = np.sqrt(np.sum(values*((centers - mean)**2))/np.sum(values))\n",
    "    \n",
    "    annotation = TextArea(f\"Total: {np.sum(values):.2e}\" \\\n",
    "                    + \"\\n\" + f\"Mean: {mean:.2e}\" \\\n",
    "                    + \"\\n\" + f\"Std: {std:.2e}\", textprops=dict(size=14))\n",
    "    \n",
    "    at = AnchoredOffsetbox('upper right', child=annotation)\n",
    "    at.patch.set_facecolor('None')\n",
    "    #ax.add_artist(at)\n",
    "    \n",
    "    ax.legend().remove()\n",
    "    \n",
    "    return ax"
   ]
  },
  {
   "cell_type": "code",
   "execution_count": 20,
   "metadata": {},
   "outputs": [],
   "source": [
    "class AcceptTestProcessor(processor.ProcessorABC):\n",
    "    def __init__(self):\n",
    "        self._accumulator = processor.dict_accumulator({\n",
    "            'n_reco_dimu': processor.value_accumulator(int),\n",
    "            'Jpsi_reco_pt' : hist.Hist(\"Events\", hist.Bin(\"pt\", \"$p_{T,\\mu^+\\mu^-}$ [GeV]\", 10, 0, 100)),\n",
    "            'Jpsi_reco_eta' : hist.Hist(\"Events\", hist.Bin(\"eta\", \"$\\eta_{\\mu^+\\mu^-}$\", 10, -2.5, 2.5)),\n",
    "            'Jpsi_reco_phi' : hist.Hist(\"Events\", hist.Bin(\"phi\", \"$\\phi_{\\mu^+\\mu^-}$\", 70, -3.5, 3.5)),\n",
    "                                        \n",
    "            'Jpsi_gen_pt' : hist.Hist(\"Events\", hist.Bin(\"pt\", \"$p_{T,\\mu^+\\mu^-}$ [GeV]\", 10, 0, 100)),\n",
    "            'Jpsi_gen_eta' : hist.Hist(\"Events\", hist.Bin(\"eta\", \"$\\eta_{\\mu^+\\mu^-}$\", 10, -2.5, 2.5)),\n",
    "            'Jpsi_gen_phi' : hist.Hist(\"Events\", hist.Bin(\"phi\", \"$\\phi_{\\mu^+\\mu^-}$\", 70, -3.5, 3.5)),\n",
    "            \n",
    "                                       \n",
    "            'Jpsi_reco_pt_eta': hist.Hist(\"Events\", \n",
    "                                          hist.Bin(\"pt\", \"$p_{T,\\mu^+\\mu^-}$ [GeV]\", 10, 0, 100),\n",
    "                                          hist.Bin(\"eta\", \"$\\eta_{\\mu^+\\mu^-}$\", 10, -2.5, 2.5)),    \n",
    "            'Jpsi_gen_pt_eta': hist.Hist(\"Events\", \n",
    "                                          hist.Bin(\"pt\", \"$p_{T,\\mu^+\\mu^-}$ [GeV]\", 10, 0, 100),\n",
    "                                          hist.Bin(\"eta\", \"$\\eta_{\\mu^+\\mu^-}$\", 10, -2.5, 2.5)),  \n",
    "            \n",
    "             'Dstar_reco_pt' : hist.Hist(\"Events\", hist.Bin(\"pt\", \"$p_{T,D*}$ [GeV]\", 10, 0, 100)),\n",
    "             'Dstar_reco_eta' : hist.Hist(\"Events\", hist.Bin(\"eta\", \"$\\eta_{D*}$\", 10, -2.5, 2.5)),\n",
    "             'Dstar_reco_phi' : hist.Hist(\"Events\", hist.Bin(\"phi\", \"$\\phi_{D*}$\", 70, -3.5, 3.5)),\n",
    "                                        \n",
    "             'Dstar_gen_pt' : hist.Hist(\"Events\", hist.Bin(\"pt\", \"$p_{T,D*}$ [GeV]\", 10, 0, 100)),\n",
    "             'Dstar_gen_eta' : hist.Hist(\"Events\", hist.Bin(\"eta\", \"$\\eta_{D*}$\", 10, -2.5, 2.5)),\n",
    "             'Dstar_gen_phi' : hist.Hist(\"Events\", hist.Bin(\"phi\", \"$\\phi_{D*}$\", 70, -3.5, 3.5)),\n",
    "            \n",
    "            \n",
    "             'Dstar_reco_pt_eta': hist.Hist(\"Events\", \n",
    "                                          hist.Bin(\"pt\", \"$p_{T,D*}$ [GeV]\", 10, 0, 100),\n",
    "                                          hist.Bin(\"eta\", \"$\\eta_{D*}$\", 10, -2.5, 2.5)),    \n",
    "             'Dstar_gen_pt_eta': hist.Hist(\"Events\", \n",
    "                                          hist.Bin(\"pt\", \"$p_{T,D*}$ [GeV]\", 10, 0, 100),\n",
    "                                          hist.Bin(\"eta\", \"$\\eta_{D*}$\", 10, -2.5, 2.5)),  \n",
    "            \n",
    "            \n",
    "       \n",
    "                                       \n",
    "            \n",
    "                    \n",
    "        })\n",
    "\n",
    "    @property\n",
    "    def accumulator(self):\n",
    "        return self._accumulator\n",
    "\n",
    "    def process(self, events):\n",
    "        output = self.accumulator.identity()\n",
    "        \n",
    "        # test if there is any events in the file\n",
    "        if len(events) == 0:\n",
    "            return output\n",
    "        \n",
    "        # Collection extraction\n",
    "        Dimus = ak.zip({**get_vars_dict(events, dimu_cols)}, with_name=\"PtEtaPhiMCandidate\")\n",
    "        Muons = ak.zip({**get_vars_dict(events, muon_cols)}, with_name=\"PtEtaPhiMCandidate\")\n",
    "        Dstars = ak.zip({'mass': (events.Dstar_D0mass + events.Dstar_deltamr),\n",
    "                        'charge': events.Dstar_pischg,\n",
    "                        **get_vars_dict(events, dstar_cols)}, \n",
    "                        with_name=\"PtEtaPhiMCandidate\")\n",
    "        \n",
    "        GenPart = ak.zip({**get_vars_dict(events, gen_part_cols)}, with_name=\"PtEtaPhiMCandidate\")\n",
    "        \n",
    "        ## Rec dimuon cuts\n",
    "        \n",
    "        #Dimu cuts charge = 0, mass cuts and chi2...\n",
    "        Dimu = Dimus[Dimus.charge == 0]\n",
    "\n",
    "        Dimu = Dimu[(Dimu.mass > 2.95) & (Dimu.mass < 3.25)]\n",
    "\n",
    "        # Get the Muons from Dimu, for cuts in their params\n",
    "        Muon = ak.zip({'0': Muons[Dimu.t1muIdx], '1': Muons[Dimu.t2muIdx]})\n",
    "       \n",
    "        # Takes all gen jpsi\n",
    "        gen_dimu = GenPart[GenPart.pdgId == 443]\n",
    "                \n",
    "        # Takes all gen muons\n",
    "        gen_muon = GenPart[np.absolute(GenPart.pdgId) == 13]\n",
    "        \n",
    "        ## Gen muon cuts  \n",
    "        \n",
    "        # Takes gen muon with the same mother\n",
    "        gen_muon = ak.combinations(gen_muon, 2)\n",
    "        same_mother = ((gen_muon.slot0.genPartIdxMother == gen_muon.slot1.genPartIdxMother) & (gen_muon.slot0.parpdgId == 443))                       \n",
    "        gen_muon = gen_muon[same_mother]\n",
    "        \n",
    "        # Rec Dimu plots\n",
    "        output['Jpsi_reco_pt'].fill(pt=ak.flatten(Dimu.pt))\n",
    "        output['Jpsi_reco_eta'].fill(eta=ak.flatten(Dimu.eta))\n",
    "        output['Jpsi_reco_phi'].fill(phi=ak.flatten(Dimu.phi))\n",
    "        \n",
    "        # Gen Dimu plots\n",
    "        output['Jpsi_gen_pt'].fill(pt=ak.flatten(gen_dimu.pt))\n",
    "        output['Jpsi_gen_eta'].fill(eta=ak.flatten(gen_dimu.eta))\n",
    "        output['Jpsi_gen_phi'].fill(phi=ak.flatten(gen_dimu.phi))\n",
    "        \n",
    "        ##### Dstar\n",
    "        Dstar = Dstars[~Dstars.hasMuon]\n",
    "        #Dstar = Dstars\n",
    "        Dstar['wrg_chg'] = (Dstar.Kchg == Dstar.pichg)\n",
    "        Dstar = Dstar[~Dstar.wrg_chg]\n",
    "        \n",
    "        gen_dstar = GenPart[np.absolute(GenPart.pdgId == 413)] \n",
    "        \n",
    "        # Rec Dstar plots\n",
    "        output['Dstar_reco_pt'].fill(pt=ak.flatten(Dstar.pt))\n",
    "        output['Dstar_reco_eta'].fill(eta=ak.flatten(Dstar.eta))\n",
    "        output['Dstar_reco_phi'].fill(phi=ak.flatten(Dstar.phi))\n",
    "        \n",
    "        # Gen Dstar plots\n",
    "        output['Dstar_gen_pt'].fill(pt=ak.flatten(gen_dstar.pt))\n",
    "        output['Dstar_gen_eta'].fill(eta=ak.flatten(gen_dstar.eta))\n",
    "        output['Dstar_gen_phi'].fill(phi=ak.flatten(gen_dstar.phi))\n",
    "        \n",
    "        # 2D histograms\n",
    "        \n",
    "        output['Dstar_reco_pt_eta'].fill(pt=ak.flatten(Dstar.pt),\n",
    "                               eta=ak.flatten(Dstar.eta))\n",
    "        output['Dstar_gen_pt_eta'].fill(pt=ak.flatten(gen_dstar.pt),\n",
    "                               eta=ak.flatten(gen_dstar.eta))\n",
    "       \n",
    "        return output\n",
    "\n",
    "    def postprocess(self, accumulator):\n",
    "        return accumulator"
   ]
  },
  {
   "cell_type": "code",
   "execution_count": 21,
   "metadata": {},
   "outputs": [
    {
     "data": {
      "application/vnd.jupyter.widget-view+json": {
       "model_id": "fa9311ad81d341aeb6dda4c701761650",
       "version_major": 2,
       "version_minor": 0
      },
      "text/plain": [
       "Preprocessing:   0%|          | 0/50 [00:00<?, ?file/s]"
      ]
     },
     "metadata": {},
     "output_type": "display_data"
    },
    {
     "data": {
      "application/vnd.jupyter.widget-view+json": {
       "model_id": "a95adf3a1aef4ee0a04caad931229e88",
       "version_major": 2,
       "version_minor": 0
      },
      "text/plain": [
       "Processing:   0%|          | 0/50 [00:00<?, ?chunk/s]"
      ]
     },
     "metadata": {},
     "output_type": "display_data"
    },
    {
     "name": "stdout",
     "output_type": "stream",
     "text": [
      "Process finished in: 21.61 s\n"
     ]
    }
   ],
   "source": [
    "data = {\"test\": files[:50]}\n",
    "\n",
    "tstart = time.time()\n",
    "\n",
    "output = processor.run_uproot_job(data,\n",
    "                                    treename='Events',\n",
    "                                    processor_instance=AcceptTestProcessor(),\n",
    "                                    executor=processor.futures_executor, #iterative, futures\n",
    "                                    executor_args={\"schema\": BaseSchema, 'workers': 8, 'skipbadfiles': True},\n",
    "                                    chunksize=360000,\n",
    "                                    )\n",
    "\n",
    "print(f\"Process finished in: {time.time() - tstart:.2f} s\")"
   ]
  },
  {
   "cell_type": "code",
   "execution_count": 23,
   "metadata": {},
   "outputs": [
    {
     "data": {
      "text/plain": [
       "<AxesSubplot:xlabel='$p_{T,D*}$ [GeV]', ylabel='Events'>"
      ]
     },
     "execution_count": 23,
     "metadata": {},
     "output_type": "execute_result"
    },
    {
     "data": {
      "image/png": "[encoded data removed]",
      "text/plain": [
       "<Figure size 720x720 with 1 Axes>"
      ]
     },
     "metadata": {
      "needs_background": "light"
     },
     "output_type": "display_data"
    }
   ],
   "source": [
    "hist_reco_pt = output['Dstar_reco_pt']\n",
    "hist_gen_pt = output['Dstar_gen_pt']\n",
    "hist.plot1d(hist_reco_pt)"
   ]
  },
  {
   "cell_type": "code",
   "execution_count": 89,
   "metadata": {},
   "outputs": [],
   "source": [
    "def build_4mom_string(candidate):\n",
    "    return f'({candidate.pt:.2f},{candidate.eta:.2f},{candidate.phi:.2f},{candidate.mass:.2f})'\n",
    "\n",
    "def to_cartesian(cand):\n",
    "    x = cand.pt*math.cos(cand.phi)\n",
    "    y = cand.pt*math.sin(cand.phi)\n",
    "    z = cand.pt*math.sinh(cand.eta)\n",
    "    t = math.sqrt(x*x + y*y + z*z + cand.mass*cand.mass)\n",
    "\n",
    "    return t, x, y, z\n",
    "\n",
    "def sum_cand(cand1, cand2):\n",
    "    t1, x1, y1, z1 = to_cartesian(cand1)\n",
    "    t2, x2, y2, z2 = to_cartesian(cand2)\n",
    "\n",
    "    tr = t1+t2\n",
    "    xr = x1+x2\n",
    "    yr = y1+y2\n",
    "    zr = z1+z2\n",
    "\n",
    "    r = math.sqrt(xr*xr + yr*yr + zr*zr)\n",
    "    pt = math.sqrt(xr*xr + yr*yr)\n",
    "    eta = math.asinh(zr / r)\n",
    "    phi = math.atan2(yr, xr)\n",
    "    mass = math.sqrt(tr*tr - xr*xr - yr*yr - zr*zr)\n",
    "\n",
    "    return f'({pt:.2f},{eta:.2f},{phi:.2f},{mass:.2f})'\n",
    "\n",
    "\n",
    "def print_candidate(candidate):\n",
    "    quadrimom = build_4mom_string(candidate)\n",
    "    print(f\"PDGId: {candidate.pdgId}, motherId: {candidate.genPartIdxMother}, n_daughters: {candidate.numberOfDaughters}, status: {candidate.status}, 4-momentum (pt, eta, phi, mass): {quadrimom}, vertex: ({candidate.vx:.2f},{candidate.vy:.2f},{candidate.vz:.2f})\")"
   ]
  },
  {
   "cell_type": "code",
   "execution_count": 46,
   "metadata": {},
   "outputs": [],
   "source": [
    "import uproot"
   ]
  },
  {
   "cell_type": "code",
   "execution_count": 45,
   "metadata": {},
   "outputs": [
    {
     "ename": "NameError",
     "evalue": "name 'uproot' is not defined",
     "output_type": "error",
     "traceback": [
      "\u001b[0;31m---------------------------------------------------------------------------\u001b[0m",
      "\u001b[0;31mNameError\u001b[0m                                 Traceback (most recent call last)",
      "\u001b[0;32m/tmp/mabarros/ipykernel_18473/2099150072.py\u001b[0m in \u001b[0;36m<module>\u001b[0;34m\u001b[0m\n\u001b[0;32m----> 1\u001b[0;31m \u001b[0mf\u001b[0m \u001b[0;34m=\u001b[0m \u001b[0muproot\u001b[0m\u001b[0;34m.\u001b[0m\u001b[0mopen\u001b[0m\u001b[0;34m(\u001b[0m\u001b[0mfiles\u001b[0m\u001b[0;34m[\u001b[0m\u001b[0;36m0\u001b[0m\u001b[0;34m]\u001b[0m\u001b[0;34m)\u001b[0m\u001b[0;34m\u001b[0m\u001b[0;34m\u001b[0m\u001b[0m\n\u001b[0m\u001b[1;32m      2\u001b[0m \u001b[0mevents\u001b[0m \u001b[0;34m=\u001b[0m \u001b[0mf\u001b[0m\u001b[0;34m[\u001b[0m\u001b[0;34m'Events'\u001b[0m\u001b[0;34m]\u001b[0m\u001b[0;34m.\u001b[0m\u001b[0marrays\u001b[0m\u001b[0;34m(\u001b[0m\u001b[0;34m)\u001b[0m\u001b[0;34m\u001b[0m\u001b[0;34m\u001b[0m\u001b[0m\n\u001b[1;32m      3\u001b[0m \u001b[0;34m\u001b[0m\u001b[0m\n\u001b[1;32m      4\u001b[0m \u001b[0mGenPart\u001b[0m \u001b[0;34m=\u001b[0m \u001b[0mak\u001b[0m\u001b[0;34m.\u001b[0m\u001b[0mzip\u001b[0m\u001b[0;34m(\u001b[0m\u001b[0;34m{\u001b[0m\u001b[0;34m**\u001b[0m\u001b[0mget_vars_dict\u001b[0m\u001b[0;34m(\u001b[0m\u001b[0mevents\u001b[0m\u001b[0;34m,\u001b[0m \u001b[0mgen_part_cols\u001b[0m\u001b[0;34m)\u001b[0m\u001b[0;34m}\u001b[0m\u001b[0;34m,\u001b[0m \u001b[0mwith_name\u001b[0m\u001b[0;34m=\u001b[0m\u001b[0;34m\"PtEtaPhiMLorentzVector\"\u001b[0m\u001b[0;34m)\u001b[0m\u001b[0;34m\u001b[0m\u001b[0;34m\u001b[0m\u001b[0m\n\u001b[1;32m      5\u001b[0m \u001b[0;34m\u001b[0m\u001b[0m\n",
      "\u001b[0;31mNameError\u001b[0m: name 'uproot' is not defined"
     ]
    }
   ],
   "source": [
    "f = uproot.open(files[0])\n",
    "events = f['Events'].arrays()\n",
    "\n",
    "GenPart = ak.zip({**get_vars_dict(events, gen_part_cols)}, with_name=\"PtEtaPhiMLorentzVector\")\n",
    "        \n",
    "# Muon\n",
    "GenPart_Muon = GenPart[(np.absolute(GenPart.pdgId) == 13) & (GenPart.genPartIdxMother > -1)]\n",
    "GenPart_Muon = ak.combinations(GenPart_Muon, 2)\n",
    "GenPart_Muon = GenPart_Muon[GenPart_Muon.slot0.genPartIdxMother == GenPart_Muon.slot1.genPartIdxMother]\n",
    "leading_mu = (GenPart_Muon.slot0.pt > GenPart_Muon.slot1.pt)\n",
    "GenPart_Muon_lead = ak.where(leading_mu, GenPart_Muon.slot0, GenPart_Muon.slot1)\n",
    "GenPart_Muon_trail = ak.where(~leading_mu, GenPart_Muon.slot0, GenPart_Muon.slot1)\n",
    "\n",
    "# Jpsi\n",
    "GenPart_Jpsi = GenPart[GenPart.pdgId == 443]\n",
    "\n",
    "# Dstar\n",
    "GenPart_Dstar = GenPart[np.abs(GenPart.pdgId == 413)]\n",
    "\n",
    "Dimu = ak.zip({**get_vars_dict(events, dimu_cols)}, with_name=\"PtEtaPhiMCandidate\")\n",
    "Muon = ak.zip({**get_vars_dict(events, muon_cols)}, with_name=\"PtEtaPhiMCandidate\")\n",
    "Dstars = ak.zip({'mass': (events.Dstar_D0mass + events.Dstar_deltamr),\n",
    "                        'charge': events.Dstar_pischg,\n",
    "                        **get_vars_dict(events, dstar_cols)}, \n",
    "                        with_name=\"PtEtaPhiMCandidate\")\n",
    "#Muon = ak.zip({'0': Muon[Dimu.t1muIdx], '1': Muon[Dimu.t2muIdx]})\n",
    "\n",
    "for i0 in range(len(GenPart_Dstar)):\n",
    "    print(i0)\n",
    "    print('GenParticles')\n",
    "    for i1 in range(len(GenPart_Dstar[i0])):\n",
    "        print_candidate(GenPart_Dstar[i0][i1])\n",
    "        print('\\t', end='')\n",
    "        print_candidate(GenPart_Muon_lead[i0][i1])\n",
    "        print('\\t', end='')\n",
    "        print_candidate(GenPart_Muon_trail[i0][i1])\n",
    "        print(f'Mom 4-momentum: {build_4mom_string(GenPart_Muon_trail[i0][i1]+GenPart_Muon_lead[i0][i1])}')\n",
    "        print('')\n",
    "    print('Reco')\n",
    "    for i1 in range(len(Dimu[i0])):\n",
    "        print(f'Dimu: {build_4mom_string(Dimu[i0][i1])}')\n",
    "    '''for i1 in range(len(Muon.slot0[i0])):\n",
    "        print('\\t', end='')\n",
    "        print(f'Muon 0: {build_4mom_string(Muon.slot0[i0][i1])}')\n",
    "        print('\\t', end='')\n",
    "        print(f'Muon 1: {build_4mom_string(Muon.slot1[i0][i1])}')'''\n",
    "    #for i1 in range(len(Muon[i0])):\n",
    "        #print('\\t', end='')\n",
    "        #print(f'Muon: {build_4mom_string(Muon[i0][i1])}, charge: {Muon.charge[i0][i1]}, vertex: ({Muon[i0][i1].x:.2f},{Muon[i0][i1].y:.2f},{Muon[i0][i1].z:.2f})')"
   ]
  },
  {
   "cell_type": "code",
   "execution_count": 76,
   "metadata": {},
   "outputs": [],
   "source": [
    "Dimu = ak.zip({**get_vars_dict(events, dimu_cols)}, with_name=\"PtEtaPhiMCandidate\")"
   ]
  },
  {
   "cell_type": "code",
   "execution_count": 94,
   "metadata": {},
   "outputs": [
    {
     "data": {
      "text/plain": [
       "<Array [[94.1], [99.9], ... [94.9], [42.4]] type='16 * var * float32'>"
      ]
     },
     "execution_count": 94,
     "metadata": {},
     "output_type": "execute_result"
    }
   ],
   "source": [
    "Dimu[ak.num(Dimu) >0].pt"
   ]
  },
  {
   "cell_type": "code",
   "execution_count": 1,
   "metadata": {},
   "outputs": [],
   "source": []
  },
  {
   "cell_type": "code",
   "execution_count": 1,
   "metadata": {},
   "outputs": [],
   "source": []
  },
  {
   "cell_type": "code",
   "execution_count": 1,
   "metadata": {},
   "outputs": [],
   "source": []
  },
  {
   "cell_type": "code",
   "execution_count": 1,
   "metadata": {},
   "outputs": [],
   "source": []
  },
  {
   "cell_type": "code",
   "execution_count": 1,
   "metadata": {},
   "outputs": [],
   "source": []
  },
  {
   "cell_type": "code",
   "execution_count": 8,
   "metadata": {},
   "outputs": [],
   "source": [
    "import matplotlib.pyplot as plt\n",
    "import mplhep\n",
    "from matplotlib.text import Text\n",
    "from hist.intervals import ratio_uncertainty"
   ]
  },
  {
   "cell_type": "code",
   "execution_count": 9,
   "metadata": {},
   "outputs": [],
   "source": [
    "from coffea.util import load"
   ]
  },
  {
   "cell_type": "code",
   "execution_count": 10,
   "metadata": {},
   "outputs": [],
   "source": [
    "import numpy as np"
   ]
  },
  {
   "cell_type": "code",
   "execution_count": 11,
   "metadata": {},
   "outputs": [],
   "source": [
    "plt.style.use(mplhep.style.CMS)\n",
    "    \n",
    "plt.rcParams.update({\n",
    "    'font.size': 16,\n",
    "    'axes.titlesize': 18,\n",
    "    'axes.labelsize': 18,\n",
    "    'xtick.labelsize': 14,\n",
    "    'ytick.labelsize': 14\n",
    "})\n",
    "    \n",
    "def create_plot1d(hist1d, log=False, ax=None, lumi=None):\n",
    "    from matplotlib.offsetbox import AnchoredOffsetbox, TextArea\n",
    "    \n",
    "    hist1d.plot1d(ax=ax, fill=True, ec=(0,0,0,0.5))\n",
    "    \n",
    "    if not lumi == None:\n",
    "        lumi = plt.text(1., 1., lumi + r\" fb$^{-1}$ (13 TeV)\",\n",
    "                        fontsize=18,\n",
    "                        horizontalalignment='right',\n",
    "                        verticalalignment='bottom',\n",
    "                        transform=ax.transAxes\n",
    "                       )\n",
    "    \n",
    "    if log:\n",
    "        ax.set_yscale('log')\n",
    "        ax.set_ylim(1, None)\n",
    "    else:\n",
    "        ax.ticklabel_format(axis='y', style='sci', scilimits=(0,3), useMathText=True)\n",
    "    \n",
    "    centers = hist1d.axes.centers[0]\n",
    "    values = hist1d.values()\n",
    "    \n",
    "    # compute mean and std:\n",
    "    mean = np.sum(values*centers)/np.sum(values)\n",
    "    std = np.sqrt(np.sum(values*((centers - mean)**2))/np.sum(values))\n",
    "    \n",
    "    annotation = TextArea(f\"Total: {np.sum(values):.2e}\" \\\n",
    "                    + \"\\n\" + f\"Mean: {mean:.2e}\" \\\n",
    "                    + \"\\n\" + f\"Std: {std:.2e}\", textprops=dict(size=14))\n",
    "    \n",
    "    at = AnchoredOffsetbox('upper right', child=annotation)\n",
    "    at.patch.set_facecolor('None')\n",
    "    ax.add_artist(at)\n",
    "    \n",
    "    return ax"
   ]
  },
  {
   "cell_type": "code",
   "execution_count": 12,
   "metadata": {},
   "outputs": [],
   "source": [
    "def create_plot2d(hist2d, ax):\n",
    "    plt.style.use(mplhep.style.CMS)\n",
    "        \n",
    "    hist2d.plot2d(ax=ax)\n",
    "    \n",
    "    return ax"
   ]
  },
  {
   "cell_type": "code",
   "execution_count": 13,
   "metadata": {},
   "outputs": [],
   "source": [
    "def acceptance_plot(hist_reco, hist_gen, ax=None, with_labels=True):\n",
    "\n",
    "    ratio = hist_reco.values()[()] / hist_gen.values()[()]\n",
    "\n",
    "    if with_labels:\n",
    "        err_down, err_up = ratio_uncertainty(hist_reco.values()[()], hist_gen.values()[()])\n",
    "        labels = []\n",
    "        for ra, u, d in zip(ratio.ravel(), err_up.ravel(), err_down.ravel()):\n",
    "            ra, u, d = f'{ra:.2f}', f'{u:.2f}', f'{d:.2f}'\n",
    "            st = '$'+ra+'_{-'+d+'}^{+'+u+'}$'\n",
    "            labels.append(st)\n",
    "        labels = np.array(labels).reshape(10,10)\n",
    "\n",
    "        mplhep.hist2dplot(ratio, labels=labels, ax=ax)\n",
    "\n",
    "        x = ax.get_children()\n",
    "        for i0 in x:\n",
    "            if isinstance(i0, Text):\n",
    "                i0.set_size(10)\n",
    "\n",
    "        return ax\n",
    "    else:\n",
    "        mplhep.hist2dplot(ratio, ax=ax)\n",
    "        return ax"
   ]
  },
  {
   "cell_type": "code",
   "execution_count": 24,
   "metadata": {},
   "outputs": [],
   "source": [
    "hist_reco = output['Dstar_reco_pt_eta']\n",
    "#hist_reco = hist_reco.to_boost()\n",
    "hist_gen = output['Dstar_gen_pt_eta']\n",
    "#hist_gen = hist_gen.to_boost()"
   ]
  },
  {
   "cell_type": "code",
   "execution_count": 25,
   "metadata": {},
   "outputs": [
    {
     "data": {
      "text/plain": [
       "<AxesSubplot:>"
      ]
     },
     "execution_count": 25,
     "metadata": {},
     "output_type": "execute_result"
    },
    {
     "data": {
      "image/png": "[encoded data removed]",
      "text/plain": [
       "<Figure size 720x720 with 2 Axes>"
      ]
     },
     "metadata": {
      "needs_background": "light"
     },
     "output_type": "display_data"
    }
   ],
   "source": [
    "figure = plt.figure()\n",
    "\n",
    "figure.clear()\n",
    "\n",
    "ax = figure.add_subplot()\n",
    "acceptance_plot(hist_reco, hist_gen, ax=ax, with_labels=True)"
   ]
  },
  {
   "cell_type": "code",
   "execution_count": 67,
   "metadata": {},
   "outputs": [
    {
     "name": "stdout",
     "output_type": "stream",
     "text": [
      "[[18. 23. 26. 27. 34. 42. 26. 26. 16. 13.]\n",
      " [36. 42. 57. 43. 42. 51. 45. 49. 45. 31.]\n",
      " [34. 43. 36. 60. 65. 55. 53. 41. 37. 35.]\n",
      " [39. 36. 58. 57. 60. 58. 54. 49. 34. 29.]\n",
      " [23. 33. 47. 48. 49. 46. 56. 45. 38. 18.]\n",
      " [25. 25. 51. 57. 54. 55. 56. 45. 33. 19.]\n",
      " [12. 28. 32. 47. 48. 48. 41. 39. 32. 17.]\n",
      " [19. 33. 31. 57. 53. 50. 56. 32. 28. 17.]\n",
      " [ 5. 28. 32. 47. 41. 36. 44. 34. 25. 12.]\n",
      " [10. 20. 38. 49. 45. 41. 44. 37. 23.  9.]]\n",
      "[[31. 21. 28. 32. 28. 39. 43. 31. 25. 26.]\n",
      " [32. 30. 35. 21. 31. 25. 32. 33. 30. 26.]\n",
      " [35. 31. 36. 37. 30. 41. 29. 25. 31. 26.]\n",
      " [35. 19. 40. 33. 36. 34. 35. 38. 26. 31.]\n",
      " [34. 31. 38. 34. 31. 33. 29. 35. 35. 24.]\n",
      " [32. 20. 34. 24. 36. 26. 42. 24. 29. 39.]\n",
      " [21. 25. 29. 27. 27. 32. 31. 22. 24. 29.]\n",
      " [33. 34. 27. 46. 28. 39. 28. 30. 35. 42.]\n",
      " [28. 35. 33. 34. 24. 31. 21. 31. 39. 28.]\n",
      " [33. 32. 34. 35. 29. 31. 38. 45. 33. 40.]]\n"
     ]
    }
   ],
   "source": [
    "print(hist_reco.values()[()])\n",
    "print(hist_gen.values()[()])"
   ]
  },
  {
   "cell_type": "code",
   "execution_count": 53,
   "metadata": {},
   "outputs": [
    {
     "data": {
      "text/plain": [
       "<AxesSubplot:xlabel='$p_{T,\\\\mu^+\\\\mu^-}$ [GeV]', ylabel='Events'>"
      ]
     },
     "execution_count": 53,
     "metadata": {},
     "output_type": "execute_result"
    },
    {
     "data": {
      "image/png": "[encoded data removed]",
      "text/plain": [
       "<Figure size 720x720 with 1 Axes>"
      ]
     },
     "metadata": {
      "needs_background": "light"
     },
     "output_type": "display_data"
    }
   ],
   "source": [
    "create_plot1d(hists['GenJpsi_p'].sum('phi', 'eta'))"
   ]
  },
  {
   "cell_type": "code",
   "execution_count": 57,
   "metadata": {},
   "outputs": [],
   "source": [
    "#################################### Old ####################################"
   ]
  },
  {
   "cell_type": "code",
   "execution_count": 12,
   "metadata": {},
   "outputs": [
    {
     "name": "stdout",
     "output_type": "stream",
     "text": [
      "Welcome to JupyROOT 6.24/02\n"
     ]
    }
   ],
   "source": [
    "from coffea.util import load\n",
    "import uproot3\n",
    "from ROOT import TFile, TH2D, TChain, TCanvas, TLatex"
   ]
  },
  {
   "cell_type": "code",
   "execution_count": 11,
   "metadata": {},
   "outputs": [],
   "source": [
    "# Load coffea file\n",
    "file = '../output/jpsi_gun/jpsi_gun_hists.coffea'\n",
    "acc = load(file)"
   ]
  },
  {
   "cell_type": "code",
   "execution_count": 53,
   "metadata": {},
   "outputs": [
    {
     "ename": "KeyError",
     "evalue": "'Gen_Dstar'",
     "output_type": "error",
     "traceback": [
      "\u001b[0;31m---------------------------------------------------------------------------\u001b[0m",
      "\u001b[0;31mKeyError\u001b[0m                                  Traceback (most recent call last)",
      "\u001b[0;32m/tmp/mabarros/ipykernel_12873/3960523762.py\u001b[0m in \u001b[0;36m<module>\u001b[0;34m\u001b[0m\n\u001b[1;32m      1\u001b[0m \u001b[0;31m# Take gen dstar pt and eta\u001b[0m\u001b[0;34m\u001b[0m\u001b[0;34m\u001b[0m\u001b[0m\n\u001b[0;32m----> 2\u001b[0;31m \u001b[0mgen_dstar_pt\u001b[0m \u001b[0;34m=\u001b[0m \u001b[0macc\u001b[0m\u001b[0;34m[\u001b[0m\u001b[0;34m'Gen_Dstar'\u001b[0m\u001b[0;34m]\u001b[0m\u001b[0;34m[\u001b[0m\u001b[0;34m'pt'\u001b[0m\u001b[0;34m]\u001b[0m\u001b[0;34m.\u001b[0m\u001b[0mvalue\u001b[0m\u001b[0;34m\u001b[0m\u001b[0;34m\u001b[0m\u001b[0m\n\u001b[0m\u001b[1;32m      3\u001b[0m \u001b[0mgen_dstar_eta\u001b[0m \u001b[0;34m=\u001b[0m \u001b[0macc\u001b[0m\u001b[0;34m[\u001b[0m\u001b[0;34m'Gen_Dstar'\u001b[0m\u001b[0;34m]\u001b[0m\u001b[0;34m[\u001b[0m\u001b[0;34m'eta'\u001b[0m\u001b[0;34m]\u001b[0m\u001b[0;34m.\u001b[0m\u001b[0mvalue\u001b[0m\u001b[0;34m\u001b[0m\u001b[0;34m\u001b[0m\u001b[0m\n\u001b[1;32m      4\u001b[0m \u001b[0;31m# Take rec dstar pt and eta\u001b[0m\u001b[0;34m\u001b[0m\u001b[0;34m\u001b[0m\u001b[0m\n\u001b[1;32m      5\u001b[0m \u001b[0mrec_dstar_pt\u001b[0m \u001b[0;34m=\u001b[0m \u001b[0macc\u001b[0m\u001b[0;34m[\u001b[0m\u001b[0;34m'Dstar'\u001b[0m\u001b[0;34m]\u001b[0m\u001b[0;34m[\u001b[0m\u001b[0;34m'pt'\u001b[0m\u001b[0;34m]\u001b[0m\u001b[0;34m.\u001b[0m\u001b[0mvalue\u001b[0m\u001b[0;34m[\u001b[0m\u001b[0;34m~\u001b[0m\u001b[0macc\u001b[0m\u001b[0;34m[\u001b[0m\u001b[0;34m'Dstar'\u001b[0m\u001b[0;34m]\u001b[0m\u001b[0;34m[\u001b[0m\u001b[0;34m'wrg_chg'\u001b[0m\u001b[0;34m]\u001b[0m\u001b[0;34m.\u001b[0m\u001b[0mvalue\u001b[0m\u001b[0;34m]\u001b[0m\u001b[0;34m\u001b[0m\u001b[0;34m\u001b[0m\u001b[0m\n",
      "\u001b[0;31mKeyError\u001b[0m: 'Gen_Dstar'"
     ]
    }
   ],
   "source": [
    "# Take gen dstar pt and eta\n",
    "gen_dstar_pt = acc['Gen_Dstar']['pt'].value\n",
    "gen_dstar_eta = acc['Gen_Dstar']['eta'].value\n",
    "# Take rec dstar pt and eta \n",
    "rec_dstar_pt = acc['Dstar']['pt'].value[~acc['Dstar']['wrg_chg'].value]\n",
    "rec_dstar_eta = acc['Dstar']['eta'].value[~acc['Dstar']['wrg_chg'].value]\n",
    "\n",
    "with uproot3.recreate(\"ex.root\") as f:\n",
    "        f['gen_dstar'] = uproot3.newtree({\"gen_dstar_pt\": \"float64\",  \"gen_dstar_eta\" : \"float64\"})\n",
    "        f['gen_dstar'].extend({\"gen_dstar_pt\": gen_dstar_pt, \"gen_dstar_eta\" : gen_dstar_eta})\n",
    "\n",
    "        f['rec_dstar'] = uproot3.newtree({\"rec_dstar_pt\": \"float64\",  \"rec_dstar_eta\" : \"float64\"})\n",
    "        f['rec_dstar'].extend({\"rec_dstar_pt\": rec_dstar_pt, \"rec_dstar_eta\" : rec_dstar_eta})"
   ]
  },
  {
   "cell_type": "code",
   "execution_count": 13,
   "metadata": {},
   "outputs": [],
   "source": [
    "def create_ttree(file, root_file):\n",
    "    # Load coffea file\n",
    "    acc = load(file)\n",
    "    # Take gen Jpsi pt and eta\n",
    "    gen_jpsi_pt = acc['Gen_Jpsi']['pt'].value\n",
    "    gen_jpsi_eta = acc['Gen_Jpsi']['eta'].value\n",
    "    # Take rec Jpsi pt and eta\n",
    "    rec_jpsi_pt = acc['Dimu']['pt'].value[acc['Dimu']['is_jpsi'].value]\n",
    "    rec_jpsi_eta = acc['Dimu']['eta'].value[acc['Dimu']['is_jpsi'].value]\n",
    "    \n",
    "    # Use uproot t\n",
    "    with uproot3.recreate(root_file) as f:\n",
    "        f['gen_jpsi'] = uproot3.newtree({\"gen_jpsi_pt\": \"float64\",  \"gen_jpsi_eta\" : \"float64\"})\n",
    "        f['gen_jpsi'].extend({\"gen_jpsi_pt\": gen_jpsi_pt, \"gen_jpsi_eta\" : gen_jpsi_eta})\n",
    "\n",
    "        f['rec_jpsi'] = uproot3.newtree({\"rec_jpsi_pt\": \"float64\",  \"rec_jpsi_eta\" : \"float64\"})\n",
    "        f['rec_jpsi'].extend({\"rec_jpsi_pt\": rec_jpsi_pt, \"rec_jpsi_eta\" : rec_jpsi_eta})"
   ]
  },
  {
   "cell_type": "code",
   "execution_count": 14,
   "metadata": {},
   "outputs": [],
   "source": [
    "# Calls the function to create root file with the data\n",
    "file = '../output/jpsi_gun/jpsi_gun.coffea'\n",
    "root_file = \"jpsi_acceptance.root\"\n",
    "create_ttree(file, root_file)"
   ]
  },
  {
   "cell_type": "code",
   "execution_count": 15,
   "metadata": {},
   "outputs": [],
   "source": [
    "file_root = TFile.Open(\"jpsi_acceptance.root\")"
   ]
  },
  {
   "cell_type": "code",
   "execution_count": 16,
   "metadata": {},
   "outputs": [],
   "source": [
    "def acceptance(root_file):\n",
    "       \n",
    "    ## Rec Jpsi\n",
    "    \n",
    "    # Creates chain to open the file\n",
    "    chain_rec = TChain(\"rec_jpsi\")\n",
    "    chain_rec.Add(root_file)\n",
    "    \n",
    "    # Takes pt and eta\n",
    "    rec_jpsi_pt = chain_rec.AsMatrix([\"rec_jpsi_pt\"])\n",
    "    rec_jpsi_eta = chain_rec.AsMatrix([\"rec_jpsi_eta\"])\n",
    "    \n",
    "    # Creates 2D histogram \n",
    "    rec_hist = TH2D('rec', '; ;; ', 50, 0, 40, 50, -2.5, 2.5,)\n",
    "    rec_hist.SetStats(False)\n",
    "    \n",
    "    # Draw\n",
    "    chain_rec.Draw(\"rec_jpsi_eta:rec_jpsi_pt>>rec\")\n",
    "    \n",
    "    ## Gen Jpsi\n",
    "    \n",
    "    # Creates chain to open the file\n",
    "    \n",
    "    chain_gen = TChain(\"gen_jpsi\")\n",
    "    chain_gen.Add(root_file)\n",
    "    \n",
    "    # Takes pt and eta\n",
    "    gen_jpsi_pt = chain_gen.AsMatrix([\"gen_jpsi_pt\"])\n",
    "    gen_jpsi_eta = chain_gen.AsMatrix([\"gen_jpsi_eta\"])\n",
    "\n",
    "    # Creates 2D histogram\n",
    "    gen_hist = TH2D('gen', '; ;; ', 50, 0, 40, 50, -2.5, 2.5)\n",
    "    gen_hist.SetStats(False)\n",
    "    \n",
    "\n",
    "    chain_gen.Draw(\"gen_jpsi_eta:gen_jpsi_pt>>gen\")\n",
    "\n",
    "    can = TCanvas(\"can\", \"histograms\", 850, 650)\n",
    "\n",
    "    can.Draw()\n",
    "    \n",
    "    gen_hist.Draw(\"colz\")\n",
    "    \n",
    "    can = TCanvas(\"can\", \"histograms\", 850, 650)\n",
    "    rec_hist_clone = rec_hist\n",
    "    rec_hist_clone.Divide(gen_hist)\n",
    "    can.Draw()\n",
    "    rec_hist_clone.SetStats(False)\n",
    "    rec_hist_clone.Draw(\"colz\")\n",
    "    \n",
    "    ## Axis\n",
    "    \n",
    "    # x axis - pT\n",
    "    pt_ax = TLatex()\n",
    "    pt_ax.SetNDC()\n",
    "    pt_ax.SetTextFont(43)\n",
    "    pt_ax.SetTextSize(20)\n",
    "    pt_ax.DrawLatex(.8, 0.03, \"J/#Psi p_{T} (GeV/c)\")\n",
    "    \n",
    "    # y axis - eta\n",
    "    eta_ax = TLatex()\n",
    "    eta_ax.SetNDC()\n",
    "    eta_ax.SetTextFont(43)\n",
    "    eta_ax.SetTextSize(20)\n",
    "    eta_ax.SetTextAngle(90)\n",
    "    eta_ax.DrawLatex(0.05, 0.65, \"J/#Psi pseudorapidity\")\n",
    "    \n",
    "    can.SaveAs(\"ex.png\")"
   ]
  },
  {
   "cell_type": "code",
   "execution_count": 17,
   "metadata": {},
   "outputs": [
    {
     "name": "stderr",
     "output_type": "stream",
     "text": [
      "/afs/cern.ch/user/m/mabarros/miniconda3/envs/OniaOpenCharmRun2ULenv/lib/python3.9/site-packages/ROOT/pythonization/_ttree.py:191: FutureWarning: TTree.AsMatrix is deprecated since v6.24 and will be removed in v6.26. Please use instead RDataFrame.AsNumpy.\n",
      "  warnings.warn(\"TTree.AsMatrix is deprecated since v6.24 and will be removed in v6.26. Please use instead RDataFrame.AsNumpy.\", FutureWarning)\n",
      "Info in <TCanvas::MakeDefCanvas>:  created default TCanvas with name c1\n",
      "Warning in <TCanvas::Constructor>: Deleting canvas with same name: can\n",
      "Info in <TCanvas::Print>: png file ex.png has been created\n"
     ]
    }
   ],
   "source": [
    "root_file = \"jpsi_acceptance.root\"\n",
    "acceptance(root_file)"
   ]
  },
  {
   "cell_type": "code",
   "execution_count": null,
   "metadata": {},
   "outputs": [],
   "source": [
    "################################### Tests ###################################\n",
    "\n",
    "############## Dstar\n",
    "\n",
    "# Load coffea file\n",
    "file = '../output/Monte_Carlo_2017/Monte_Carlo_2017.coffea'\n",
    "acc = load(file)\n",
    "# Take gen dstar pt and eta\n",
    "gen_dstar_pt = acc['Gen_Dstar']['pt'].value\n",
    "gen_dstar_eta = acc['Gen_Dstar']['eta'].value\n",
    "# Take rec dstar pt and eta \n",
    "rec_dstar_pt = acc['Dstar']['pt'].value[~acc['Dstar']['wrg_chg'].value]\n",
    "rec_dstar_eta = acc['Dstar']['eta'].value[~acc['Dstar']['wrg_chg'].value]\n",
    "\n",
    "with uproot3.recreate(\"ex.root\") as f:\n",
    "        f['gen_dstar'] = uproot3.newtree({\"gen_dstar_pt\": \"float64\",  \"gen_dstar_eta\" : \"float64\"})\n",
    "        f['gen_dstar'].extend({\"gen_dstar_pt\": gen_dstar_pt, \"gen_dstar_eta\" : gen_dstar_eta})\n",
    "\n",
    "        f['rec_dstar'] = uproot3.newtree({\"rec_dstar_pt\": \"float64\",  \"rec_dstar_eta\" : \"float64\"})\n",
    "        f['rec_dstar'].extend({\"rec_dstar_pt\": rec_dstar_pt, \"rec_dstar_eta\" : rec_dstar_eta})"
   ]
  },
  {
   "cell_type": "code",
   "execution_count": 58,
   "metadata": {},
   "outputs": [
    {
     "name": "stderr",
     "output_type": "stream",
     "text": [
      "/afs/cern.ch/user/m/mabarros/miniconda3/envs/OniaOpenCharmRun2ULenv/lib/python3.9/site-packages/ROOT/pythonization/_ttree.py:191: FutureWarning: TTree.AsMatrix is deprecated since v6.24 and will be removed in v6.26. Please use instead RDataFrame.AsNumpy.\n",
      "  warnings.warn(\"TTree.AsMatrix is deprecated since v6.24 and will be removed in v6.26. Please use instead RDataFrame.AsNumpy.\", FutureWarning)\n",
      "Info in <TCanvas::MakeDefCanvas>:  created default TCanvas with name c1\n",
      "Warning in <TCanvas::Constructor>: Deleting canvas with same name: c1\n",
      "Info in <TCanvas::Print>: png file Rec_Jpsi.png has been created\n"
     ]
    },
    {
     "data": {
      "image/png": "[encoded data removed]",
      "text/plain": [
       "<IPython.core.display.Image object>"
      ]
     },
     "metadata": {},
     "output_type": "display_data"
    }
   ],
   "source": [
    "chain_rec = TChain(\"rec_jpsi\")\n",
    "chain_rec.Add(\"jpsi_acceptance.root\")\n",
    "\n",
    "rec_jpsi_pt = chain_rec.AsMatrix([\"rec_jpsi_pt\"])\n",
    "rec_jpsi_eta = chain_rec.AsMatrix([\"rec_jpsi_eta\"])\n",
    "\n",
    "rec_hist = TH2D('rec', '; ;; ', 50, 0, 60, 50, -2.5, 2.5)\n",
    "\n",
    "chain_rec.Draw(\"rec_jpsi_eta:rec_jpsi_pt>>rec\")\n",
    "\n",
    "can1 = TCanvas(\"c1\", \"histograms\", 850, 650)\n",
    "\n",
    "can1.Draw()\n",
    "rec_hist.SetStats(False)\n",
    "rec_hist.Draw(\"colz\")\n",
    "can1.SaveAs(\"Rec_Jpsi.png\")"
   ]
  },
  {
   "cell_type": "code",
   "execution_count": 59,
   "metadata": {},
   "outputs": [
    {
     "name": "stderr",
     "output_type": "stream",
     "text": [
      "Info in <TCanvas::Print>: png file Gen_Jpsi.png has been created\n"
     ]
    },
    {
     "data": {
      "image/png": "[encoded data removed]",
      "text/plain": [
       "<IPython.core.display.Image object>"
      ]
     },
     "metadata": {},
     "output_type": "display_data"
    }
   ],
   "source": [
    "chain_gen = TChain(\"gen_jpsi\")\n",
    "chain_gen.Add(\"jpsi_acceptance.root\")\n",
    "\n",
    "gen_jpsi_pt = chain_gen.AsMatrix([\"gen_jpsi_pt\"])\n",
    "gen_jpsi_eta = chain_gen.AsMatrix([\"gen_jpsi_eta\"])\n",
    "\n",
    "gen_hist = TH2D('gen', '$ gen $; ;; ', 50, 0, 60, 50, -2.5, 2.5)\n",
    "\n",
    "chain_gen.Draw(\"gen_jpsi_eta:gen_jpsi_pt>>gen\")\n",
    "\n",
    "can2 = TCanvas(\"can2\", \"histograms\", 850, 650)\n",
    "\n",
    "can2.Draw()\n",
    "gen_hist.SetStats(False)\n",
    "gen_hist.Draw(\"colz\")\n",
    "can2.SaveAs(\"Gen_Jpsi.png\")"
   ]
  },
  {
   "cell_type": "code",
   "execution_count": 27,
   "metadata": {},
   "outputs": [],
   "source": [
    "from coffea.util import load\n",
    "import numpy as np\n",
    "from coffea import processor, hist\n",
    "\n",
    "import mplhep\n",
    "import matplotlib.pyplot as plt\n",
    "plt.style.use(mplhep.style.CMS)"
   ]
  },
  {
   "cell_type": "code",
   "execution_count": 22,
   "metadata": {},
   "outputs": [],
   "source": [
    "def ratio_plot(hist_reco, hist_gen):\n",
    "    fill_opts = {\n",
    "    'edgecolor': (0,0,0,0.3),\n",
    "    'alpha': 0.8\n",
    "    }\n",
    "    error_opts_1 = {\n",
    "        'facecolor': 'none',\n",
    "        'edgecolor': (0,0,0,.5),\n",
    "        'linewidth': 0\n",
    "    }\n",
    "    data_err_opts = {\n",
    "        'linestyle': 'none',\n",
    "        'marker': '.',\n",
    "        'markersize': 10.,\n",
    "        'color': 'k',\n",
    "        'elinewidth': 1,\n",
    "    }\n",
    "    \n",
    "    error_opts_2 = {\n",
    "        'facecolor': 'none',\n",
    "        'linewidth': 0,\n",
    "    }\n",
    "    \n",
    "    fig, (ax, rax) = plt.subplots(\n",
    "    nrows=2,\n",
    "    ncols=1,\n",
    "    figsize=(10,10),\n",
    "    gridspec_kw={\"height_ratios\": (3, 1)},\n",
    "    sharex=True\n",
    "    )\n",
    "    fig.subplots_adjust(hspace=.07)\n",
    "    \n",
    "    # plot the MC first\n",
    "    hist.plot1d(\n",
    "        hist_gen,\n",
    "        ax=ax,\n",
    "        clear=False,\n",
    "        stack=False,\n",
    "        line_opts=None,\n",
    "        fill_opts=fill_opts,\n",
    "        error_opts=error_opts_1\n",
    "    )\n",
    "    hist.plot1d(\n",
    "        hist_reco,\n",
    "        ax=ax,\n",
    "        clear=False,\n",
    "        stack=False,\n",
    "        line_opts=None,\n",
    "        fill_opts=fill_opts,\n",
    "        error_opts=error_opts_2\n",
    "    )\n",
    "    \n",
    "    ax.autoscale(axis='x', tight=True)\n",
    "    ax.set_xlabel(\"\")\n",
    "    leg = ax.legend()\n",
    "    \n",
    "    hist.plotratio(\n",
    "    num=hist_reco,\n",
    "    denom=hist_gen,\n",
    "    ax=rax,\n",
    "    error_opts=data_err_opts,\n",
    "    denom_fill_opts={},\n",
    "    guide_opts={},\n",
    "    unc='num'\n",
    "    )\n",
    "    rax.set_ylabel('Ratio')\n",
    "    rax.set_ylim(0,2)\n",
    "    \n",
    "    ax.set_xlim(0,30)\n",
    "    \n",
    "    return ax, rax"
   ]
  },
  {
   "cell_type": "code",
   "execution_count": 23,
   "metadata": {},
   "outputs": [],
   "source": [
    "def create_plot1d(hist1d, log=False, density=False, ax=None):\n",
    "    from matplotlib.offsetbox import AnchoredOffsetbox, TextArea\n",
    "    plt.style.use(mplhep.style.CMS)\n",
    "    plt.rcParams.update({\n",
    "        'font.size': 16,\n",
    "        'axes.titlesize': 18,\n",
    "        'axes.labelsize': 18,\n",
    "        'xtick.labelsize': 14,\n",
    "        'ytick.labelsize': 14\n",
    "    })\n",
    "    fill_opts = {\n",
    "    'alpha': 0.8,\n",
    "    'edgecolor':(0,0,0,.5)\n",
    "    }\n",
    "    \n",
    "    ax = hist.plot1d(hist1d, ax=ax, fill_opts=fill_opts, density=density)\n",
    "    \n",
    "    if log:\n",
    "        ax.set_yscale('log')\n",
    "        ax.set_ylim(1, None)\n",
    "    else:\n",
    "        ax.ticklabel_format(axis='y', style='sci', scilimits=(0,3), useMathText=True)\n",
    "    \n",
    "    axis = hist1d.axes()[0]\n",
    "    centers = axis.centers()\n",
    "    values = np.where(hist1d.values().get(()) < 0, 0, hist1d.values().get(()))\n",
    "    \n",
    "    # compute mean and std:\n",
    "    mean = np.sum(values*centers)/np.sum(values)\n",
    "    std = np.sqrt(np.sum(values*((centers - mean)**2))/np.sum(values))\n",
    "    \n",
    "    annotation = TextArea(f\"Total: {np.sum(values):.2e}\" \\\n",
    "                    + \"\\n\" + f\"Mean: {mean:.2e}\" \\\n",
    "                    + \"\\n\" + f\"Std: {std:.2e}\", textprops=dict(size=14))\n",
    "    \n",
    "    at = AnchoredOffsetbox('upper right', child=annotation)\n",
    "    at.patch.set_facecolor('None')\n",
    "    #ax.add_artist(at)\n",
    "    \n",
    "    ax.legend().remove()\n",
    "    \n",
    "    return ax"
   ]
  },
  {
   "cell_type": "code",
   "execution_count": 37,
   "metadata": {},
   "outputs": [],
   "source": [
    "hist_path = file = '../output/jpsi_gun/jpsi_gun_hists.coffea'\n",
    "hists = load(hist_path)"
   ]
  },
  {
   "cell_type": "code",
   "execution_count": 38,
   "metadata": {},
   "outputs": [],
   "source": [
    "hist_reco_pt = hists['Jpsi_p'].sum('eta', 'phi')\n",
    "hist_gen_pt = hists['GenJpsi_p'].sum('eta', 'phi')"
   ]
  },
  {
   "cell_type": "code",
   "execution_count": 39,
   "metadata": {},
   "outputs": [
    {
     "data": {
      "text/plain": [
       "(<AxesSubplot:ylabel='Events'>,\n",
       " <AxesSubplot:xlabel='$p_{T,\\\\mu^+\\\\mu^-}$ [GeV]', ylabel='Ratio'>)"
      ]
     },
     "execution_count": 39,
     "metadata": {},
     "output_type": "execute_result"
    },
    {
     "data": {
      "image/png": "[encoded data removed]",
      "text/plain": [
       "<Figure size 720x720 with 2 Axes>"
      ]
     },
     "metadata": {
      "needs_background": "light"
     },
     "output_type": "display_data"
    }
   ],
   "source": [
    "ratio_plot(hist_reco_pt, hist_gen_pt)"
   ]
  },
  {
   "cell_type": "code",
   "execution_count": 29,
   "metadata": {},
   "outputs": [],
   "source": [
    "hist_reco_eta = hists['Jpsi_p'].sum('pt', 'phi')\n",
    "hist_gen_eta = hists['GenJpsi_p'].sum('pt', 'phi')"
   ]
  },
  {
   "cell_type": "code",
   "execution_count": 30,
   "metadata": {},
   "outputs": [],
   "source": [
    "ratio_plot(hist_reco_eta, hist_gen_eta)"
   ]
  },
  {
   "cell_type": "code",
   "execution_count": 30,
   "metadata": {},
   "outputs": [],
   "source": []
  },
  {
   "cell_type": "code",
   "execution_count": 30,
   "metadata": {},
   "outputs": [],
   "source": []
  },
  {
   "cell_type": "code",
   "execution_count": 30,
   "metadata": {},
   "outputs": [],
   "source": [
    "def process(self, events):\n",
    "        output = self.accumulator.identity()\n",
    "        \n",
    "        # test if there is any events in the file\n",
    "        if len(events) == 0:\n",
    "            return output\n",
    "\n",
    "        output['details']['n_events'] += len(events)\n",
    "        \n",
    "        # Collection extraction\n",
    "        GenPart = ak.zip({**get_vars_dict(events, gen_part_cols)}, with_name=\"PtEtaPhiMCandidate\")\n",
    "        \n",
    "        # Gen_Ds\n",
    "        GenPart_D0 = GenPart[np.absolute(GenPart.pdgId) == 421]\n",
    "        GenPart_Dstar = GenPart[np.absolute(GenPart.pdgId) == 413]\n",
    "\n",
    "        # Save N of objs\n",
    "        output['details']['n_Gen_Dstar'] += ak.sum(ak.num(GenPart_Dstar))\n",
    "        output['details']['n_Gen_D0'] += ak.sum(ak.num(GenPart_D0))\n",
    "\n",
    "        # Create histos\n",
    "        self.hists['Gen_Dstar']['Gen_Dstar_pt'].fill(pt=ak.flatten(GenPart_Dstar.pt))\n",
    "        self.hists['Gen_Dstar']['Gen_Dstar_eta'].fill(eta=ak.flatten(GenPart_Dstar.eta))\n",
    "        self.hists['Gen_Dstar']['Gen_Dstar_phi'].fill(phi=ak.flatten(GenPart_Dstar.phi))\n",
    "        self.hists['Gen_Dstar']['Gen_Dstar_deltam'].fill(deltam=ak.flatten(GenPart_Dstar.mass - D0_PDG_MASS))\n",
    "        self.hists['Gen_Dstar']['Gen_Dstar_ptxeta'].fill(\n",
    "            pt=ak.flatten(GenPart_Dstar.pt),\n",
    "            eta=ak.flatten(GenPart_Dstar.eta)\n",
    "            )\n",
    "\n",
    "        self.hists['Gen_D0']['Gen_D0_pt'].fill(pt=ak.flatten(GenPart_D0.pt))\n",
    "        self.hists['Gen_D0']['Gen_D0_eta'].fill(eta=ak.flatten(GenPart_D0.eta))\n",
    "        self.hists['Gen_D0']['Gen_D0_phi'].fill(phi=ak.flatten(GenPart_D0.phi))\n",
    "        self.hists['Gen_D0']['Gen_D0_mass'].fill(mass=ak.flatten(GenPart_D0.mass))\n",
    "        self.hists['Gen_D0']['Gen_D0_ptxeta'].fill(\n",
    "            pt=ak.flatten(GenPart_D0.pt),\n",
    "            eta=ak.flatten(GenPart_D0.eta)\n",
    "            )\n",
    "\n",
    "        D0 = ak.zip({'mass': events.D0_mass12, **get_vars_dict(events, d0_cols)}, with_name=\"PtEtaPhiMCandidate\")\n",
    "        closer_mass = np.absolute(D0.mass12 - D0_PDG_MASS) < np.absolute(D0.mass21 - D0_PDG_MASS)\n",
    "        D0['mass'] = ak.where(closer_mass, D0.mass12, D0.mass21)\n",
    "        D0 = D0[~D0.hasMuon]\n",
    "\n",
    "        D0 = D0[(D0.mass > 1.8) & (D0.mass < 1.94)]\n",
    "        Dstar = ak.zip({'mass': (events.Dstar_D0mass + events.Dstar_deltamr),\n",
    "                        'charge': events.Dstar_pischg,\n",
    "                        **get_vars_dict(events, dstar_cols)}, \n",
    "                        with_name=\"PtEtaPhiMCandidate\")\n",
    "        Dstar = Dstar[~(Dstar.Kchg == Dstar.pichg)]\n",
    "        Dstar = Dstar[~Dstar.hasMuon]\n",
    "        Dstar = Dstar[(Dstar.deltamr > 0.14) & (Dstar.deltamr < 0.15)]\n",
    "\n",
    "        self.hists['Reco_Dstar']['Reco_Dstar_pt'].fill(pt=ak.flatten(Dstar.pt))\n",
    "        self.hists['Reco_Dstar']['Reco_Dstar_eta'].fill(eta=ak.flatten(Dstar.eta))\n",
    "        self.hists['Reco_Dstar']['Reco_Dstar_phi'].fill(phi=ak.flatten(Dstar.phi))\n",
    "        self.hists['Reco_Dstar']['Reco_Dstar_deltam'].fill(deltam=ak.flatten(Dstar.deltamr))\n",
    "        self.hists['Reco_Dstar']['Reco_Dstar_ptxeta'].fill(\n",
    "            pt=ak.flatten(Dstar.pt),\n",
    "            eta=ak.flatten(Dstar.eta)\n",
    "            )\n",
    "\n",
    "        self.hists['Reco_D0']['Reco_D0_pt'].fill(pt=ak.flatten(D0.pt))\n",
    "        self.hists['Reco_D0']['Reco_D0_eta'].fill(eta=ak.flatten(D0.eta))\n",
    "        self.hists['Reco_D0']['Reco_D0_phi'].fill(phi=ak.flatten(D0.phi))\n",
    "        self.hists['Reco_D0']['Reco_D0_mass'].fill(mass=ak.flatten(D0.mass))\n",
    "        self.hists['Reco_D0']['Reco_D0_ptxeta'].fill(\n",
    "            pt=ak.flatten(D0.pt),\n",
    "            eta=ak.flatten(D0.eta)\n",
    "            )\n",
    "\n",
    "        output['details']['n_Reco_Dstar'] += ak.sum(ak.num(Dstar))\n",
    "        output['details']['n_Reco_D0'] += ak.sum(ak.num(D0))\n",
    "\n",
    "        return self.hists"
   ]
  },
  {
   "cell_type": "code",
   "execution_count": 30,
   "metadata": {},
   "outputs": [],
   "source": [
    "data = {\"test\": files[:50]}\n",
    "\n",
    "tstart = time.time()\n",
    "\n",
    "output = processor.run_uproot_job(data,\n",
    "                                    treename='Events',\n",
    "                                    processor_instance=AcceptTestProcessor(),\n",
    "                                    executor=processor.iterative_executor, #iterative, futures\n",
    "                                    executor_args={\"schema\": BaseSchema, 'workers': 8, 'skipbadfiles': True},\n",
    "                                    chunksize=360000,\n",
    "                                    )\n",
    "\n",
    "print(f\"Process finished in: {time.time() - tstart:.2f} s\")"
   ]
  },
  {
   "cell_type": "code",
   "execution_count": 30,
   "metadata": {},
   "outputs": [],
   "source": []
  },
  {
   "cell_type": "code",
   "execution_count": 30,
   "metadata": {},
   "outputs": [],
   "source": []
  },
  {
   "cell_type": "code",
   "execution_count": 30,
   "metadata": {},
   "outputs": [],
   "source": [
    "######################################## TEst do FAT MAPSE ########################################"
   ]
  },
  {
   "cell_type": "code",
   "execution_count": 14,
   "metadata": {},
   "outputs": [],
   "source": [
    "import time\n",
    "import math, os\n",
    "\n",
    "from coffea.nanoevents import BaseSchema\n",
    "\n",
    "import awkward as ak\n",
    "import numpy as np\n",
    "from coffea import processor\n",
    "\n",
    "from hist import Hist\n",
    "\n",
    "from coffea.nanoevents.methods import candidate\n",
    "ak.behavior.update(candidate.behavior)\n",
    "\n",
    "import matplotlib.pyplot as plt"
   ]
  },
  {
   "cell_type": "code",
   "execution_count": 17,
   "metadata": {},
   "outputs": [],
   "source": [
    "class AcceptanceProcessor(processor.ProcessorABC):\n",
    "    def _init_(self):\n",
    "        Gen_Dstar_hists = {\n",
    "            'Gen_Dstar_pt': Hist.new.Regular(100, 0, 100, name='pt', label=r\"$p_{T,D^* Gen}$ [GeV]\").Double(),\n",
    "            'Gen_Dstar_eta': Hist.new.Regular(60, -4, 4, name=\"eta\", label=r\"$\\eta_{D^* Gen}$\").Double(),\n",
    "            'Gen_Dstar_phi': Hist.new.Regular(60, -math.pi, math.pi, name=\"phi\", label=r\"$\\phi_{D^* Gen}$\").Double(),\n",
    "            'Gen_Dstar_deltam': Hist.new.Regular(50, 0.138, 0.162, name=\"deltam\", label=r\"$\\Delta m_{D^* Gen}$ [GeV]\").Double(),\n",
    "            'Gen_Dstar_ptxeta': (\n",
    "                Hist.new\n",
    "                .Regular(10, 0, 100, name='pt', label=r\"$p_{T,D^* Gen}$ [GeV]\")\n",
    "                .Regular(10, -4, 4, name=\"eta\", label=r\"$\\eta_{D^* Gen}$\")\n",
    "                .Double()\n",
    "                ),\n",
    "        }\n",
    "\n",
    "        Gen_D0_hists = {\n",
    "            'Gen_D0_pt': Hist.new.Regular(100, 0, 100, name='pt', label=r\"$p_{T,D_0 Gen}$ [GeV]\").Double(),\n",
    "            'Gen_D0_eta': Hist.new.Regular(60, -5, 5, name=\"eta\", label=r\"$\\eta_{D_0 Gen}$\").Double(),\n",
    "            'Gen_D0_phi': Hist.new.Regular(60, -math.pi, math.pi, name=\"phi\", label=r\"$\\phi_{D_0 Gen}$\").Double(),\n",
    "            'Gen_D0_mass': Hist.new.Regular(100, 1.7, 2.0, name=\"mass\", label=r\"$m_{D_0 Gen}$ [GeV]\").Double(),\n",
    "            'Gen_D0_ptxeta': (\n",
    "                Hist.new\n",
    "                .Regular(10, 0, 100, name='pt', label=r\"$p_{T,D_0 Gen}$ [GeV]\")\n",
    "                .Regular(10, -4, 4, name=\"eta\", label=r\"$\\eta_{D_0 Gen}$\")\n",
    "                .Double()\n",
    "                ),\n",
    "        }\n",
    "\n",
    "        Reco_Dstar_hists = {\n",
    "            'Reco_Dstar_pt': Hist.new.Regular(100, 0, 100, name='pt', label=r\"$p_{T,D^* Reco}$ [GeV]\").Double(),\n",
    "            'Reco_Dstar_eta': Hist.new.Regular(60, -4, 4, name=\"eta\", label=r\"$\\eta_{D^* Reco}$\").Double(),\n",
    "            'Reco_Dstar_phi': Hist.new.Regular(60, -math.pi, math.pi, name=\"phi\", label=r\"$\\phi_{D^* Reco}$\").Double(),\n",
    "            'Reco_Dstar_deltam': Hist.new.Regular(50, 0.138, 0.162, name=\"deltam\", label=r\"$\\Delta m_{D^* Reco}$ [GeV]\").Double(),\n",
    "            'Reco_Dstar_ptxeta': (\n",
    "                Hist.new\n",
    "                .Regular(10, 0, 100, name='pt', label=r\"$p_{T,D^* Reco}$ [GeV]\")\n",
    "                .Regular(10, -4, 4, name=\"eta\", label=r\"$\\eta_{D^* Reco}$\")\n",
    "                .Double()\n",
    "                ),\n",
    "        }\n",
    "\n",
    "        Reco_D0_hists = {\n",
    "            'Reco_D0_pt': Hist.new.Regular(100, 0, 100, name='pt', label=r\"$p_{T,D_0 Reco}$ [GeV]\").Double(),\n",
    "            'Reco_D0_eta': Hist.new.Regular(60, -5, 5, name=\"eta\", label=r\"$\\eta_{D_0 Reco}$\").Double(),\n",
    "            'Reco_D0_phi': Hist.new.Regular(60, -math.pi, math.pi, name=\"phi\", label=r\"$\\phi_{D_0 Reco}$\").Double(),\n",
    "            'Reco_D0_mass': Hist.new.Regular(100, 1.7, 2.0, name=\"mass\", label=r\"$m_{D_0 Reco}$ [GeV]\").Double(),\n",
    "            'Reco_D0_ptxeta': (\n",
    "                Hist.new\n",
    "                .Regular(10, 0, 100, name='pt', label=r\"$p_{T,D_0 Reco}$ [GeV]\")\n",
    "                .Regular(10, -4, 4, name=\"eta\", label=r\"$\\eta_{D_0 Reco}$\")\n",
    "                .Double()\n",
    "                ),\n",
    "        }\n",
    "        \n",
    "        self._hists = {\n",
    "            'Gen_Dstar': {**Gen_Dstar_hists},\n",
    "            'Gen_D0': {**Gen_D0_hists},\n",
    "            'Reco_Dstar': {**Reco_Dstar_hists},\n",
    "            'Reco_D0': {**Reco_D0_hists},\n",
    "        }\n",
    "\n",
    "\n",
    "    @property\n",
    "    def hists(self):\n",
    "        return self._hists\n",
    "\n",
    "    def process(self, events):\n",
    "\n",
    "        \n",
    "        # test if there is any events in the file\n",
    "        if len(events) == 0:\n",
    "            return output\n",
    "\n",
    "        output['details']['n_events'] += len(events)\n",
    "        \n",
    "        # Collection extraction\n",
    "        GenPart = ak.zip({**get_vars_dict(events, gen_part_cols)}, with_name=\"PtEtaPhiMCandidate\")\n",
    "        \n",
    "        # Gen_Ds\n",
    "        GenPart_D0 = GenPart[np.absolute(GenPart.pdgId) == 421]\n",
    "        GenPart_Dstar = GenPart[np.absolute(GenPart.pdgId) == 413]\n",
    "\n",
    "        # Save N of objs\n",
    "        output['details']['n_Gen_Dstar'] += ak.sum(ak.num(GenPart_Dstar))\n",
    "        output['details']['n_Gen_D0'] += ak.sum(ak.num(GenPart_D0))\n",
    "\n",
    "        # Create histos\n",
    "        self.hists['Gen_Dstar']['Gen_Dstar_pt'].fill(pt=ak.flatten(GenPart_Dstar.pt))\n",
    "        self.hists['Gen_Dstar']['Gen_Dstar_eta'].fill(eta=ak.flatten(GenPart_Dstar.eta))\n",
    "        self.hists['Gen_Dstar']['Gen_Dstar_phi'].fill(phi=ak.flatten(GenPart_Dstar.phi))\n",
    "        self.hists['Gen_Dstar']['Gen_Dstar_deltam'].fill(deltam=ak.flatten(GenPart_Dstar.mass - D0_PDG_MASS))\n",
    "        self.hists['Gen_Dstar']['Gen_Dstar_ptxeta'].fill(\n",
    "            pt=ak.flatten(GenPart_Dstar.pt),\n",
    "            eta=ak.flatten(GenPart_Dstar.eta)\n",
    "            )\n",
    "\n",
    "        self.hists['Gen_D0']['Gen_D0_pt'].fill(pt=ak.flatten(GenPart_D0.pt))\n",
    "        self.hists['Gen_D0']['Gen_D0_eta'].fill(eta=ak.flatten(GenPart_D0.eta))\n",
    "        self.hists['Gen_D0']['Gen_D0_phi'].fill(phi=ak.flatten(GenPart_D0.phi))\n",
    "        self.hists['Gen_D0']['Gen_D0_mass'].fill(mass=ak.flatten(GenPart_D0.mass))\n",
    "        self.hists['Gen_D0']['Gen_D0_ptxeta'].fill(\n",
    "            pt=ak.flatten(GenPart_D0.pt),\n",
    "            eta=ak.flatten(GenPart_D0.eta)\n",
    "            )\n",
    "\n",
    "        D0 = ak.zip({'mass': events.D0_mass12, **get_vars_dict(events, d0_cols)}, with_name=\"PtEtaPhiMCandidate\")\n",
    "        closer_mass = np.absolute(D0.mass12 - D0_PDG_MASS) < np.absolute(D0.mass21 - D0_PDG_MASS)\n",
    "        D0['mass'] = ak.where(closer_mass, D0.mass12, D0.mass21)\n",
    "        D0 = D0[~D0.hasMuon]\n",
    "\n",
    "        D0 = D0[(D0.mass > 1.8) & (D0.mass < 1.94)]\n",
    "        Dstar = ak.zip({'mass': (events.Dstar_D0mass + events.Dstar_deltamr),\n",
    "                        'charge': events.Dstar_pischg,\n",
    "                        **get_vars_dict(events, dstar_cols)}, \n",
    "                        with_name=\"PtEtaPhiMCandidate\")\n",
    "        Dstar = Dstar[~(Dstar.Kchg == Dstar.pichg)]\n",
    "        Dstar = Dstar[~Dstar.hasMuon]\n",
    "        Dstar = Dstar[(Dstar.deltamr > 0.14) & (Dstar.deltamr < 0.15)]\n",
    "\n",
    "        self.hists['Reco_Dstar']['Reco_Dstar_pt'].fill(pt=ak.flatten(Dstar.pt))\n",
    "        self.hists['Reco_Dstar']['Reco_Dstar_eta'].fill(eta=ak.flatten(Dstar.eta))\n",
    "        self.hists['Reco_Dstar']['Reco_Dstar_phi'].fill(phi=ak.flatten(Dstar.phi))\n",
    "        self.hists['Reco_Dstar']['Reco_Dstar_deltam'].fill(deltam=ak.flatten(Dstar.deltamr))\n",
    "        self.hists['Reco_Dstar']['Reco_Dstar_ptxeta'].fill(\n",
    "            pt=ak.flatten(Dstar.pt),\n",
    "            eta=ak.flatten(Dstar.eta)\n",
    "            )\n",
    "\n",
    "        self.hists['Reco_D0']['Reco_D0_pt'].fill(pt=ak.flatten(D0.pt))\n",
    "        self.hists['Reco_D0']['Reco_D0_eta'].fill(eta=ak.flatten(D0.eta))\n",
    "        self.hists['Reco_D0']['Reco_D0_phi'].fill(phi=ak.flatten(D0.phi))\n",
    "        self.hists['Reco_D0']['Reco_D0_mass'].fill(mass=ak.flatten(D0.mass))\n",
    "        self.hists['Reco_D0']['Reco_D0_ptxeta'].fill(\n",
    "            pt=ak.flatten(D0.pt),\n",
    "            eta=ak.flatten(D0.eta)\n",
    "            )\n",
    "\n",
    "        output['details']['n_Reco_Dstar'] += ak.sum(ak.num(Dstar))\n",
    "        output['details']['n_Reco_D0'] += ak.sum(ak.num(D0))\n",
    "\n",
    "        return self.hists\n",
    "\n",
    "    def postprocess(self, accumulator):\n",
    "        return accumulator"
   ]
  },
  {
   "cell_type": "code",
   "execution_count": 18,
   "metadata": {},
   "outputs": [
    {
     "data": {
      "application/vnd.jupyter.widget-view+json": {
       "model_id": "d5091cfc1036487f8c3c7c0aa19ec0dd",
       "version_major": 2,
       "version_minor": 0
      },
      "text/plain": [
       "Processing:   0%|          | 0/1 [00:00<?, ?chunk/s]"
      ]
     },
     "metadata": {},
     "output_type": "display_data"
    },
    {
     "ename": "AttributeError",
     "evalue": "'AcceptanceProcessor' object has no attribute '_hists'\n\nFailed processing file: /eos/user/k/kmotaama/CRAB_UserFiles/DstarPtGun/220110_124229/0000/DstarPtGun_1.root (0-100)",
     "output_type": "error",
     "traceback": [
      "\u001b[0;31m---------------------------------------------------------------------------\u001b[0m",
      "\u001b[0;31m_RemoteTraceback\u001b[0m                          Traceback (most recent call last)",
      "\u001b[0;31m_RemoteTraceback\u001b[0m: \n\"\"\"\nTraceback (most recent call last):\n  File \"/afs/cern.ch/user/m/mabarros/miniconda3/envs/OniaOpenCharmRun2ULenv/lib/python3.9/concurrent/futures/process.py\", line 243, in _process_worker\n    r = call_item.fn(*call_item.args, **call_item.kwargs)\n  File \"/afs/cern.ch/user/m/mabarros/miniconda3/envs/OniaOpenCharmRun2ULenv/lib/python3.9/site-packages/coffea/processor/executor.py\", line 191, in __call__\n    out = self.function(*args, **kwargs)\n  File \"/afs/cern.ch/user/m/mabarros/miniconda3/envs/OniaOpenCharmRun2ULenv/lib/python3.9/site-packages/coffea/processor/executor.py\", line 833, in _work_function\n    raise e\n  File \"/afs/cern.ch/user/m/mabarros/miniconda3/envs/OniaOpenCharmRun2ULenv/lib/python3.9/site-packages/coffea/processor/executor.py\", line 786, in _work_function\n    raise type(e)(str(e) + file_trace).with_traceback(\n  File \"/afs/cern.ch/user/m/mabarros/miniconda3/envs/OniaOpenCharmRun2ULenv/lib/python3.9/site-packages/coffea/processor/executor.py\", line 783, in _work_function\n    out = processor_instance.process(events)\n  File \"/tmp/mabarros/ipykernel_30084/1720672227.py\", line 81, in process\n    self.hists['Gen_Dstar']['Gen_Dstar_pt'].fill(pt=ak.flatten(GenPart_Dstar.pt))\n  File \"/tmp/mabarros/ipykernel_30084/1720672227.py\", line 60, in hists\n    return self._hists\nAttributeError: 'AcceptanceProcessor' object has no attribute '_hists'\n\nFailed processing file: /eos/user/k/kmotaama/CRAB_UserFiles/DstarPtGun/220110_124229/0000/DstarPtGun_1.root (0-100)\n\"\"\"",
      "\nThe above exception was the direct cause of the following exception:\n",
      "\u001b[0;31mAttributeError\u001b[0m                            Traceback (most recent call last)",
      "\u001b[0;32m/tmp/mabarros/ipykernel_30084/2590448616.py\u001b[0m in \u001b[0;36m<module>\u001b[0;34m\u001b[0m\n\u001b[1;32m      6\u001b[0m \u001b[0mtstart\u001b[0m \u001b[0;34m=\u001b[0m \u001b[0mtime\u001b[0m\u001b[0;34m.\u001b[0m\u001b[0mtime\u001b[0m\u001b[0;34m(\u001b[0m\u001b[0;34m)\u001b[0m\u001b[0;34m\u001b[0m\u001b[0;34m\u001b[0m\u001b[0m\n\u001b[1;32m      7\u001b[0m \u001b[0;34m\u001b[0m\u001b[0m\n\u001b[0;32m----> 8\u001b[0;31m output = processor.run_uproot_job(data,\n\u001b[0m\u001b[1;32m      9\u001b[0m                                     \u001b[0mtreename\u001b[0m\u001b[0;34m=\u001b[0m\u001b[0;34m'Events'\u001b[0m\u001b[0;34m,\u001b[0m\u001b[0;34m\u001b[0m\u001b[0;34m\u001b[0m\u001b[0m\n\u001b[1;32m     10\u001b[0m                                     \u001b[0mprocessor_instance\u001b[0m\u001b[0;34m=\u001b[0m\u001b[0mAcceptanceProcessor\u001b[0m\u001b[0;34m(\u001b[0m\u001b[0;34m)\u001b[0m\u001b[0;34m,\u001b[0m\u001b[0;34m\u001b[0m\u001b[0;34m\u001b[0m\u001b[0m\n",
      "\u001b[0;32m~/miniconda3/envs/OniaOpenCharmRun2ULenv/lib/python3.9/site-packages/coffea/processor/executor.py\u001b[0m in \u001b[0;36mrun_uproot_job\u001b[0;34m(fileset, treename, processor_instance, executor, executor_args, pre_executor, pre_args, chunksize, maxchunks, metadata_cache, dynamic_chunksize)\u001b[0m\n\u001b[1;32m   1221\u001b[0m \u001b[0;34m\u001b[0m\u001b[0m\n\u001b[1;32m   1222\u001b[0m     \u001b[0mexe_args\u001b[0m\u001b[0;34m.\u001b[0m\u001b[0mupdate\u001b[0m\u001b[0;34m(\u001b[0m\u001b[0mexecutor_args\u001b[0m\u001b[0;34m)\u001b[0m\u001b[0;34m\u001b[0m\u001b[0;34m\u001b[0m\u001b[0m\n\u001b[0;32m-> 1223\u001b[0;31m     \u001b[0mwrapped_out\u001b[0m \u001b[0;34m=\u001b[0m \u001b[0mexecutor\u001b[0m\u001b[0;34m(\u001b[0m\u001b[0mchunks\u001b[0m\u001b[0;34m,\u001b[0m \u001b[0mclosure\u001b[0m\u001b[0;34m,\u001b[0m \u001b[0;32mNone\u001b[0m\u001b[0;34m,\u001b[0m \u001b[0;34m**\u001b[0m\u001b[0mexe_args\u001b[0m\u001b[0;34m)\u001b[0m\u001b[0;34m\u001b[0m\u001b[0;34m\u001b[0m\u001b[0m\n\u001b[0m\u001b[1;32m   1224\u001b[0m \u001b[0;34m\u001b[0m\u001b[0m\n\u001b[1;32m   1225\u001b[0m     \u001b[0mprocessor_instance\u001b[0m\u001b[0;34m.\u001b[0m\u001b[0mpostprocess\u001b[0m\u001b[0;34m(\u001b[0m\u001b[0mwrapped_out\u001b[0m\u001b[0;34m[\u001b[0m\u001b[0;34m\"out\"\u001b[0m\u001b[0;34m]\u001b[0m\u001b[0;34m)\u001b[0m\u001b[0;34m\u001b[0m\u001b[0;34m\u001b[0m\u001b[0m\n",
      "\u001b[0;32m~/miniconda3/envs/OniaOpenCharmRun2ULenv/lib/python3.9/site-packages/coffea/processor/executor.py\u001b[0m in \u001b[0;36mfutures_executor\u001b[0;34m(items, function, accumulator, **kwargs)\u001b[0m\n\u001b[1;32m    452\u001b[0m         \u001b[0;31m# assume its a class then\u001b[0m\u001b[0;34m\u001b[0m\u001b[0;34m\u001b[0m\u001b[0m\n\u001b[1;32m    453\u001b[0m         \u001b[0;32mwith\u001b[0m \u001b[0mpool\u001b[0m\u001b[0;34m(\u001b[0m\u001b[0mmax_workers\u001b[0m\u001b[0;34m=\u001b[0m\u001b[0mworkers\u001b[0m\u001b[0;34m)\u001b[0m \u001b[0;32mas\u001b[0m \u001b[0mpoolinstance\u001b[0m\u001b[0;34m:\u001b[0m\u001b[0;34m\u001b[0m\u001b[0;34m\u001b[0m\u001b[0m\n\u001b[0;32m--> 454\u001b[0;31m             \u001b[0;32mreturn\u001b[0m \u001b[0mprocesswith\u001b[0m\u001b[0;34m(\u001b[0m\u001b[0mpoolinstance\u001b[0m\u001b[0;34m)\u001b[0m\u001b[0;34m\u001b[0m\u001b[0;34m\u001b[0m\u001b[0m\n\u001b[0m\u001b[1;32m    455\u001b[0m \u001b[0;34m\u001b[0m\u001b[0m\n\u001b[1;32m    456\u001b[0m \u001b[0;34m\u001b[0m\u001b[0m\n",
      "\u001b[0;32m~/miniconda3/envs/OniaOpenCharmRun2ULenv/lib/python3.9/site-packages/coffea/processor/executor.py\u001b[0m in \u001b[0;36mprocesswith\u001b[0;34m(pool)\u001b[0m\n\u001b[1;32m    434\u001b[0m         )\n\u001b[1;32m    435\u001b[0m         \u001b[0;32mtry\u001b[0m\u001b[0;34m:\u001b[0m\u001b[0;34m\u001b[0m\u001b[0;34m\u001b[0m\u001b[0m\n\u001b[0;32m--> 436\u001b[0;31m             return accumulate(\n\u001b[0m\u001b[1;32m    437\u001b[0m                 tqdm(\n\u001b[1;32m    438\u001b[0m                     \u001b[0mgen\u001b[0m \u001b[0;32mif\u001b[0m \u001b[0mclevel\u001b[0m \u001b[0;32mis\u001b[0m \u001b[0;32mNone\u001b[0m \u001b[0;32melse\u001b[0m \u001b[0mmap\u001b[0m\u001b[0;34m(\u001b[0m\u001b[0m_decompress\u001b[0m\u001b[0;34m,\u001b[0m \u001b[0mgen\u001b[0m\u001b[0;34m)\u001b[0m\u001b[0;34m,\u001b[0m\u001b[0;34m\u001b[0m\u001b[0;34m\u001b[0m\u001b[0m\n",
      "\u001b[0;32m~/miniconda3/envs/OniaOpenCharmRun2ULenv/lib/python3.9/site-packages/coffea/processor/accumulator.py\u001b[0m in \u001b[0;36maccumulate\u001b[0;34m(items, accum)\u001b[0m\n\u001b[1;32m     87\u001b[0m     \u001b[0;32mtry\u001b[0m\u001b[0;34m:\u001b[0m\u001b[0;34m\u001b[0m\u001b[0;34m\u001b[0m\u001b[0m\n\u001b[1;32m     88\u001b[0m         \u001b[0;32mif\u001b[0m \u001b[0maccum\u001b[0m \u001b[0;32mis\u001b[0m \u001b[0;32mNone\u001b[0m\u001b[0;34m:\u001b[0m\u001b[0;34m\u001b[0m\u001b[0;34m\u001b[0m\u001b[0m\n\u001b[0;32m---> 89\u001b[0;31m             \u001b[0maccum\u001b[0m \u001b[0;34m=\u001b[0m \u001b[0mnext\u001b[0m\u001b[0;34m(\u001b[0m\u001b[0mgen\u001b[0m\u001b[0;34m)\u001b[0m\u001b[0;34m\u001b[0m\u001b[0;34m\u001b[0m\u001b[0m\n\u001b[0m\u001b[1;32m     90\u001b[0m             \u001b[0;31m# we want to produce a new object so that the input is not mutated\u001b[0m\u001b[0;34m\u001b[0m\u001b[0;34m\u001b[0m\u001b[0m\n\u001b[1;32m     91\u001b[0m             \u001b[0maccum\u001b[0m \u001b[0;34m=\u001b[0m \u001b[0madd\u001b[0m\u001b[0;34m(\u001b[0m\u001b[0maccum\u001b[0m\u001b[0;34m,\u001b[0m \u001b[0mnext\u001b[0m\u001b[0;34m(\u001b[0m\u001b[0mgen\u001b[0m\u001b[0;34m)\u001b[0m\u001b[0;34m)\u001b[0m\u001b[0;34m\u001b[0m\u001b[0;34m\u001b[0m\u001b[0m\n",
      "\u001b[0;32m~/miniconda3/envs/OniaOpenCharmRun2ULenv/lib/python3.9/site-packages/coffea/processor/accumulator.py\u001b[0m in \u001b[0;36m<genexpr>\u001b[0;34m(.0)\u001b[0m\n\u001b[1;32m     84\u001b[0m     \u001b[0mitems\u001b[0m\u001b[0;34m:\u001b[0m \u001b[0mIterable\u001b[0m\u001b[0;34m[\u001b[0m\u001b[0mOptional\u001b[0m\u001b[0;34m[\u001b[0m\u001b[0mAccumulatable\u001b[0m\u001b[0;34m]\u001b[0m\u001b[0;34m]\u001b[0m\u001b[0;34m,\u001b[0m \u001b[0maccum\u001b[0m\u001b[0;34m:\u001b[0m \u001b[0mOptional\u001b[0m\u001b[0;34m[\u001b[0m\u001b[0mAccumulatable\u001b[0m\u001b[0;34m]\u001b[0m \u001b[0;34m=\u001b[0m \u001b[0;32mNone\u001b[0m\u001b[0;34m\u001b[0m\u001b[0;34m\u001b[0m\u001b[0m\n\u001b[1;32m     85\u001b[0m ) -> Optional[Accumulatable]:\n\u001b[0;32m---> 86\u001b[0;31m     \u001b[0mgen\u001b[0m \u001b[0;34m=\u001b[0m \u001b[0;34m(\u001b[0m\u001b[0mx\u001b[0m \u001b[0;32mfor\u001b[0m \u001b[0mx\u001b[0m \u001b[0;32min\u001b[0m \u001b[0mitems\u001b[0m \u001b[0;32mif\u001b[0m \u001b[0mx\u001b[0m \u001b[0;32mis\u001b[0m \u001b[0;32mnot\u001b[0m \u001b[0;32mNone\u001b[0m\u001b[0;34m)\u001b[0m\u001b[0;34m\u001b[0m\u001b[0;34m\u001b[0m\u001b[0m\n\u001b[0m\u001b[1;32m     87\u001b[0m     \u001b[0;32mtry\u001b[0m\u001b[0;34m:\u001b[0m\u001b[0;34m\u001b[0m\u001b[0;34m\u001b[0m\u001b[0m\n\u001b[1;32m     88\u001b[0m         \u001b[0;32mif\u001b[0m \u001b[0maccum\u001b[0m \u001b[0;32mis\u001b[0m \u001b[0;32mNone\u001b[0m\u001b[0;34m:\u001b[0m\u001b[0;34m\u001b[0m\u001b[0;34m\u001b[0m\u001b[0m\n",
      "\u001b[0;32m~/miniconda3/envs/OniaOpenCharmRun2ULenv/lib/python3.9/site-packages/tqdm/notebook.py\u001b[0m in \u001b[0;36m__iter__\u001b[0;34m(self)\u001b[0m\n\u001b[1;32m    255\u001b[0m     \u001b[0;32mdef\u001b[0m \u001b[0m__iter__\u001b[0m\u001b[0;34m(\u001b[0m\u001b[0mself\u001b[0m\u001b[0;34m)\u001b[0m\u001b[0;34m:\u001b[0m\u001b[0;34m\u001b[0m\u001b[0;34m\u001b[0m\u001b[0m\n\u001b[1;32m    256\u001b[0m         \u001b[0;32mtry\u001b[0m\u001b[0;34m:\u001b[0m\u001b[0;34m\u001b[0m\u001b[0;34m\u001b[0m\u001b[0m\n\u001b[0;32m--> 257\u001b[0;31m             \u001b[0;32mfor\u001b[0m \u001b[0mobj\u001b[0m \u001b[0;32min\u001b[0m \u001b[0msuper\u001b[0m\u001b[0;34m(\u001b[0m\u001b[0mtqdm_notebook\u001b[0m\u001b[0;34m,\u001b[0m \u001b[0mself\u001b[0m\u001b[0;34m)\u001b[0m\u001b[0;34m.\u001b[0m\u001b[0m__iter__\u001b[0m\u001b[0;34m(\u001b[0m\u001b[0;34m)\u001b[0m\u001b[0;34m:\u001b[0m\u001b[0;34m\u001b[0m\u001b[0;34m\u001b[0m\u001b[0m\n\u001b[0m\u001b[1;32m    258\u001b[0m                 \u001b[0;31m# return super(tqdm...) will not catch exception\u001b[0m\u001b[0;34m\u001b[0m\u001b[0;34m\u001b[0m\u001b[0m\n\u001b[1;32m    259\u001b[0m                 \u001b[0;32myield\u001b[0m \u001b[0mobj\u001b[0m\u001b[0;34m\u001b[0m\u001b[0;34m\u001b[0m\u001b[0m\n",
      "\u001b[0;32m~/miniconda3/envs/OniaOpenCharmRun2ULenv/lib/python3.9/site-packages/tqdm/std.py\u001b[0m in \u001b[0;36m__iter__\u001b[0;34m(self)\u001b[0m\n\u001b[1;32m   1178\u001b[0m \u001b[0;34m\u001b[0m\u001b[0m\n\u001b[1;32m   1179\u001b[0m         \u001b[0;32mtry\u001b[0m\u001b[0;34m:\u001b[0m\u001b[0;34m\u001b[0m\u001b[0;34m\u001b[0m\u001b[0m\n\u001b[0;32m-> 1180\u001b[0;31m             \u001b[0;32mfor\u001b[0m \u001b[0mobj\u001b[0m \u001b[0;32min\u001b[0m \u001b[0miterable\u001b[0m\u001b[0;34m:\u001b[0m\u001b[0;34m\u001b[0m\u001b[0;34m\u001b[0m\u001b[0m\n\u001b[0m\u001b[1;32m   1181\u001b[0m                 \u001b[0;32myield\u001b[0m \u001b[0mobj\u001b[0m\u001b[0;34m\u001b[0m\u001b[0;34m\u001b[0m\u001b[0m\n\u001b[1;32m   1182\u001b[0m                 \u001b[0;31m# Update and possibly print the progressbar.\u001b[0m\u001b[0;34m\u001b[0m\u001b[0;34m\u001b[0m\u001b[0m\n",
      "\u001b[0;32m~/miniconda3/envs/OniaOpenCharmRun2ULenv/lib/python3.9/site-packages/coffea/processor/executor.py\u001b[0m in \u001b[0;36m_futures_handler\u001b[0;34m(futures, timeout)\u001b[0m\n\u001b[1;32m    240\u001b[0m                 \u001b[0;32mwhile\u001b[0m \u001b[0mdone\u001b[0m\u001b[0;34m:\u001b[0m\u001b[0;34m\u001b[0m\u001b[0;34m\u001b[0m\u001b[0m\n\u001b[1;32m    241\u001b[0m                     \u001b[0;32mtry\u001b[0m\u001b[0;34m:\u001b[0m\u001b[0;34m\u001b[0m\u001b[0;34m\u001b[0m\u001b[0m\n\u001b[0;32m--> 242\u001b[0;31m                         \u001b[0;32myield\u001b[0m \u001b[0mdone\u001b[0m\u001b[0;34m.\u001b[0m\u001b[0mpop\u001b[0m\u001b[0;34m(\u001b[0m\u001b[0;34m)\u001b[0m\u001b[0;34m.\u001b[0m\u001b[0mresult\u001b[0m\u001b[0;34m(\u001b[0m\u001b[0;34m)\u001b[0m\u001b[0;34m\u001b[0m\u001b[0;34m\u001b[0m\u001b[0m\n\u001b[0m\u001b[1;32m    243\u001b[0m                     \u001b[0;32mexcept\u001b[0m \u001b[0mconcurrent\u001b[0m\u001b[0;34m.\u001b[0m\u001b[0mfutures\u001b[0m\u001b[0;34m.\u001b[0m\u001b[0mCancelledError\u001b[0m\u001b[0;34m:\u001b[0m\u001b[0;34m\u001b[0m\u001b[0;34m\u001b[0m\u001b[0m\n\u001b[1;32m    244\u001b[0m                         \u001b[0;32mpass\u001b[0m\u001b[0;34m\u001b[0m\u001b[0;34m\u001b[0m\u001b[0m\n",
      "\u001b[0;32m~/miniconda3/envs/OniaOpenCharmRun2ULenv/lib/python3.9/concurrent/futures/_base.py\u001b[0m in \u001b[0;36mresult\u001b[0;34m(self, timeout)\u001b[0m\n\u001b[1;32m    436\u001b[0m                     \u001b[0;32mraise\u001b[0m \u001b[0mCancelledError\u001b[0m\u001b[0;34m(\u001b[0m\u001b[0;34m)\u001b[0m\u001b[0;34m\u001b[0m\u001b[0;34m\u001b[0m\u001b[0m\n\u001b[1;32m    437\u001b[0m                 \u001b[0;32melif\u001b[0m \u001b[0mself\u001b[0m\u001b[0;34m.\u001b[0m\u001b[0m_state\u001b[0m \u001b[0;34m==\u001b[0m \u001b[0mFINISHED\u001b[0m\u001b[0;34m:\u001b[0m\u001b[0;34m\u001b[0m\u001b[0;34m\u001b[0m\u001b[0m\n\u001b[0;32m--> 438\u001b[0;31m                     \u001b[0;32mreturn\u001b[0m \u001b[0mself\u001b[0m\u001b[0;34m.\u001b[0m\u001b[0m__get_result\u001b[0m\u001b[0;34m(\u001b[0m\u001b[0;34m)\u001b[0m\u001b[0;34m\u001b[0m\u001b[0;34m\u001b[0m\u001b[0m\n\u001b[0m\u001b[1;32m    439\u001b[0m \u001b[0;34m\u001b[0m\u001b[0m\n\u001b[1;32m    440\u001b[0m                 \u001b[0mself\u001b[0m\u001b[0;34m.\u001b[0m\u001b[0m_condition\u001b[0m\u001b[0;34m.\u001b[0m\u001b[0mwait\u001b[0m\u001b[0;34m(\u001b[0m\u001b[0mtimeout\u001b[0m\u001b[0;34m)\u001b[0m\u001b[0;34m\u001b[0m\u001b[0;34m\u001b[0m\u001b[0m\n",
      "\u001b[0;32m~/miniconda3/envs/OniaOpenCharmRun2ULenv/lib/python3.9/concurrent/futures/_base.py\u001b[0m in \u001b[0;36m__get_result\u001b[0;34m(self)\u001b[0m\n\u001b[1;32m    388\u001b[0m         \u001b[0;32mif\u001b[0m \u001b[0mself\u001b[0m\u001b[0;34m.\u001b[0m\u001b[0m_exception\u001b[0m\u001b[0;34m:\u001b[0m\u001b[0;34m\u001b[0m\u001b[0;34m\u001b[0m\u001b[0m\n\u001b[1;32m    389\u001b[0m             \u001b[0;32mtry\u001b[0m\u001b[0;34m:\u001b[0m\u001b[0;34m\u001b[0m\u001b[0;34m\u001b[0m\u001b[0m\n\u001b[0;32m--> 390\u001b[0;31m                 \u001b[0;32mraise\u001b[0m \u001b[0mself\u001b[0m\u001b[0;34m.\u001b[0m\u001b[0m_exception\u001b[0m\u001b[0;34m\u001b[0m\u001b[0;34m\u001b[0m\u001b[0m\n\u001b[0m\u001b[1;32m    391\u001b[0m             \u001b[0;32mfinally\u001b[0m\u001b[0;34m:\u001b[0m\u001b[0;34m\u001b[0m\u001b[0;34m\u001b[0m\u001b[0m\n\u001b[1;32m    392\u001b[0m                 \u001b[0;31m# Break a reference cycle with the exception in self._exception\u001b[0m\u001b[0;34m\u001b[0m\u001b[0;34m\u001b[0m\u001b[0m\n",
      "\u001b[0;31mAttributeError\u001b[0m: 'AcceptanceProcessor' object has no attribute '_hists'\n\nFailed processing file: /eos/user/k/kmotaama/CRAB_UserFiles/DstarPtGun/220110_124229/0000/DstarPtGun_1.root (0-100)"
     ]
    }
   ],
   "source": [
    "\"\"\" data = {\"test\": [\"/eos/user/k/kmotaama/CRAB_UserFiles/UpsilonToMuMuDstarToD0pi/211111_200135/0000/UpsilonToMuMuDstarToD0pi_688.root\",\n",
    "                 \"/eos/user/k/kmotaama/CRAB_UserFiles/UpsilonToMuMuDstarToD0pi/211111_200135/0000/UpsilonToMuMuDstarToD0pi_689.root\"]} \"\"\"\n",
    "#files = ['/afs/cern.ch/work/k/kmotaama/public/analysis/OniaOpenCharmRun2UL/OniaOpenCharmRun2ULMC/CMSSW_10_6_12/src/genTuple/genTuple/test.root']\n",
    "data = {\"test\": files[0:1]}\n",
    "\n",
    "tstart = time.time()\n",
    "\n",
    "output = processor.run_uproot_job(data,\n",
    "                                    treename='Events',\n",
    "                                    processor_instance=AcceptanceProcessor(),\n",
    "                                    executor=processor.futures_executor,\n",
    "                                    executor_args={\"schema\": BaseSchema, 'workers': 8, 'skipbadfiles': True},\n",
    "                                    chunksize=360000,\n",
    "                                    )\n",
    "\n",
    "\"\"\" hists = output[1]\n",
    "output = output[0] \"\"\"\n",
    "\n",
    "print(f\"Process finished in: {time.time() - tstart:.2f} s\")\n",
    "#print(output[0]['details'])"
   ]
  },
  {
   "cell_type": "code",
   "execution_count": null,
   "metadata": {},
   "outputs": [],
   "source": []
  }
 ],
 "metadata": {
  "kernelspec": {
   "display_name": "Python 3 (ipykernel)",
   "language": "python",
   "name": "python3"
  },
  "language_info": {
   "codemirror_mode": {
    "name": "ipython",
    "version": 3
   },
   "file_extension": ".py",
   "mimetype": "text/x-python",
   "name": "python",
   "nbconvert_exporter": "python",
   "pygments_lexer": "ipython3",
   "version": "3.9.7"
  }
 },
 "nbformat": 4,
 "nbformat_minor": 4
}
