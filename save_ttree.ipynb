{
 "cells": [
  {
   "cell_type": "code",
   "execution_count": 1,
   "id": "350ccb02-e84c-4664-a1ec-51e5e9adee9f",
   "metadata": {},
   "outputs": [],
   "source": [
    "from coffea.util import load\n",
    "import numpy as np\n",
    "import uproot3\n",
    "from tqdm import tqdm\n",
    "from pprint import pprint\n",
    "import gc\n",
    "\n",
    "#path = '/eos/user/k/kmotaama/MuOniaRun17E/'\n",
    "#file = path + 'MuOniaRun17E.coffea'\n",
    "    \n",
    "#acc = load(file)\n",
    "#acc"
   ]
  },
  {
   "cell_type": "code",
   "execution_count": 14,
   "id": "9d8703c8-ce78-4bda-8c1e-40f9c904c862",
   "metadata": {},
   "outputs": [],
   "source": [
    "import os\n",
    "\n",
    "ERAS = ['B', 'C', 'D', 'E', 'F']\n",
    "ERAS = ['F']\n",
    "\n",
    "path = '/afs/cern.ch/work/m/mabarros/public/CMSSW_10_6_12/src/OniaOpenCharmRun2ULAna/output/Charmonium_2017_Nano_Coffea/'\n",
    "save_path = \"/afs/cern.ch/work/m/mabarros/public/CMSSW_10_6_12/src/OniaOpenCharmRun2ULAna/fit/Data_to_fit/\"\n",
    "\n",
    "files = {}\n",
    "\n",
    "for era in ERAS:\n",
    "    with os.scandir(path + f'Run{era}') as it:\n",
    "        file_array = []\n",
    "        for file in it:\n",
    "            if file.name.endswith('.coffea') and file.name.find('hists') == -1:\n",
    "                file_array.append(file.path)\n",
    "        files[era] = file_array"
   ]
  },
  {
   "cell_type": "code",
   "execution_count": 6,
   "id": "0d05a455-c9bd-4b5a-b496-e63f9731a5ee",
   "metadata": {},
   "outputs": [],
   "source": [
    "def load_acc(file_list):\n",
    "    acc = load(file_list[0])\n",
    "    for i in tqdm(file_list[1:], desc=\"Loading\", unit=\" files\", total=len(file_list)-1):\n",
    "        acc += load(i)\n",
    "    return acc"
   ]
  },
  {
   "cell_type": "code",
   "execution_count": 15,
   "id": "fe22b543-8ee0-49a9-94ad-e5374458ab76",
   "metadata": {},
   "outputs": [],
   "source": [
    "def create_ttree(acc, path, name):\n",
    " \n",
    "    ## Jpsi mass and decay length\n",
    "\n",
    "    # Mass\n",
    "    jpsi_mass = acc['Dimu']['mass'].value[acc['Dimu']['is_jpsi'].value]\n",
    "    # Decay length\n",
    "    jpsi_dl = acc['Dimu']['dl'].value[acc['Dimu']['is_jpsi'].value]\n",
    "    \n",
    "    ## Dstar    \n",
    "    all_data_dstar = acc['Dstar']['deltamr'].value[~acc['Dstar']['wrg_chg'].value]\n",
    "    cut = all_data_dstar[(all_data_dstar >= 0.14) & (all_data_dstar <= 0.16)]\n",
    "\n",
    "    dstar_mass = cut[:]\n",
    "\n",
    "    ## Dzero    \n",
    "    all_data_dzero_12 = acc['D0']['mass12'].value\n",
    "    all_data_dzero_21 = acc['D0']['mass21'].value\n",
    "    cut_12 = all_data_dzero_12[(all_data_dzero_12 > 1.75) & (all_data_dzero_12 < 1.96)]\n",
    "    cut_21 = all_data_dzero_21[(all_data_dzero_21 > 1.75) & (all_data_dzero_21 < 1.96)]\n",
    "\n",
    "    dzero_mass_12 = cut_12[:]\n",
    "    dzero_mass_21 = cut_21[:]\n",
    "    \n",
    "    ## TTree creation\n",
    "    \n",
    "    # Jpsi: mass and decay length\n",
    "    #with uproot3.recreate(path + name + \"jpsi.root\") as f:\n",
    "        #f['Jpsi'] = uproot3.newtree({\"mass\": \"float64\", \"jpsi_dl\" : \"float32\"})\n",
    "        #f['Jpsi'].extend({\"mass\": jpsi_mass, \"jpsi_dl\": jpsi_dl})\n",
    "        \n",
    "   # Dzero - mass12\n",
    "    #with uproot3.recreate(path + name + \"_D0_mass12.root\") as f:\n",
    "        #f['D012'] = uproot3.newtree({\"mass\": \"float64\"})\n",
    "        #f['D012'].extend({\"mass\": dzero_mass_12})\n",
    "    # Dzero - mass 21\n",
    "    #with uproot3.recreate(path + name + \"_D0_mass21.root\") as f:\n",
    "        #f['D021'] = uproot3.newtree({\"mass\": \"float64\"})\n",
    "        #f['D021'].extend({\"mass\": dzero_mass_21})\n",
    "    # Dstar - deltamr\n",
    "    #with uproot3.recreate(save_path + name + \"_Dstar_deltamr.root\") as f:\n",
    "        #f['Dstar'] = uproot3.newtree({\"deltam\": \"float64\"})\n",
    "        #f['Dstar'].extend({\"deltam\": dstar_mass})\n",
    "    \n",
    "    ## Association between Jpsi and Dstar\n",
    "            \n",
    "    # Dstar\n",
    "    wrg_chg = acc['DimuDstar']['Dstar']['wrg_chg'].value\n",
    "    Dstar = acc['DimuDstar']['Dstar']['deltamr'].value[~wrg_chg]\n",
    "\n",
    "    # Jpsi\n",
    "    Jpsi = acc['DimuDstar']['Dimu']['mass'].value[~wrg_chg]\n",
    "\n",
    "    with uproot3.recreate(path + name + \"_JpsiDstar.root\") as ds:\n",
    "        ds['JpsiDstar'] = uproot3.newtree({\"dstar_mass\": \"float32\", \"jpsi_mass\": \"float32\"})\n",
    "        ds['JpsiDstar'].extend({\"dstar_mass\": Dstar, \"jpsi_mass\": Jpsi})"
   ]
  },
  {
   "cell_type": "code",
   "execution_count": 16,
   "id": "6287538b-0a51-48f2-9f4b-388519853ee9",
   "metadata": {},
   "outputs": [
    {
     "name": "stdout",
     "output_type": "stream",
     "text": [
      "Loading era F:\n"
     ]
    },
    {
     "name": "stderr",
     "output_type": "stream",
     "text": [
      "Loading: 100%|███████████████| 90/90 [01:08<00:00,  1.32 files/s]\n"
     ]
    },
    {
     "name": "stdout",
     "output_type": "stream",
     "text": [
      "Creating TTrees at: /afs/cern.ch/work/m/mabarros/public/CMSSW_10_6_12/src/OniaOpenCharmRun2ULAna/fit/Data_to_fit/\n"
     ]
    }
   ],
   "source": [
    "for era in files:\n",
    "    print(f\"Loading era {era}:\")\n",
    "    acc = load_acc(files[era])\n",
    "    print(\"Creating TTrees at: \"+ save_path)\n",
    "    name = \"Charmonium2017\" + era\n",
    "    create_ttree(acc, path, name)\n",
    "    del acc\n",
    "    gc.collect()\n"
   ]
  },
  {
   "cell_type": "code",
   "execution_count": 14,
   "id": "431cff69-8932-41e0-8b00-e94de05b2b61",
   "metadata": {},
   "outputs": [
    {
     "ename": "IndentationError",
     "evalue": "unexpected indent (2408270560.py, line 5)",
     "output_type": "error",
     "traceback": [
      "\u001b[0;36m  File \u001b[0;32m\"/tmp/mabarros/ipykernel_2514/2408270560.py\"\u001b[0;36m, line \u001b[0;32m5\u001b[0m\n\u001b[0;31m    Jpsi = JpsiDstar['Dimu']['mass'].value[JpsiDstar['Dimu']['is_jpsi'].value & ~JpsiDstar['Dstar']['wrg_chg'].value]\u001b[0m\n\u001b[0m    ^\u001b[0m\n\u001b[0;31mIndentationError\u001b[0m\u001b[0;31m:\u001b[0m unexpected indent\n"
     ]
    }
   ],
   "source": [
    "############## BACKUP #################\n",
    "\n",
    "JpsiDstar = acc['DimuDstar']\n",
    "    # Jpsi mass\n",
    "    Jpsi = JpsiDstar['Dimu']['mass'].value[JpsiDstar['Dimu']['is_jpsi'].value & ~JpsiDstar['Dstar']['wrg_chg'].value]\n",
    "    # Dstar - deltamr\n",
    "    Dstar = acc['DimuDstar']['Dstar']['deltamr'].value\n",
    "    # \n",
    "    with uproot3.recreate(path + name + \"_JpsiDstar.root\") as f:\n",
    "        f['JpsiDstar'] = uproot3.newtree({\"jpsi_mass\": \"float64\", \"dstar_deltmass\": \"float64\"})\n",
    "        f['JpsiDstar'].extend({\"jpsi_mass\": Jpsi, \"dstar_deltmass\": Dstar})"
   ]
  },
  {
   "cell_type": "code",
   "execution_count": null,
   "id": "41db5d66-fd38-48a9-a96e-5f11da29a5a4",
   "metadata": {},
   "outputs": [],
   "source": []
  }
 ],
 "metadata": {
  "kernelspec": {
   "display_name": "Python 3 (ipykernel)",
   "language": "python",
   "name": "python3"
  },
  "language_info": {
   "codemirror_mode": {
    "name": "ipython",
    "version": 3
   },
   "file_extension": ".py",
   "mimetype": "text/x-python",
   "name": "python",
   "nbconvert_exporter": "python",
   "pygments_lexer": "ipython3",
   "version": "3.9.7"
  }
 },
 "nbformat": 4,
 "nbformat_minor": 5
}
